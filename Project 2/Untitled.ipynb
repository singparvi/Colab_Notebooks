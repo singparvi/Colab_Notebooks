{
 "nbformat": 4,
 "nbformat_minor": 0,
 "metadata": {
  "colab": {
   "name": "Untitled.ipynb",
   "provenance": [],
   "collapsed_sections": [],
   "authorship_tag": "ABX9TyP/ux3LO6nsktpH7jZ6D4P0"
  },
  "kernelspec": {
   "name": "python3",
   "language": "python",
   "display_name": "Python 3"
  }
 },
 "cells": [
  {
   "cell_type": "code",
   "metadata": {
    "colab": {
     "base_uri": "https://localhost:8080/"
    },
    "id": "3jJmLdVFz_M1",
    "executionInfo": {
     "status": "ok",
     "timestamp": 1610862324281,
     "user_tz": 300,
     "elapsed": 1514,
     "user": {
      "displayName": "Parvi Singh",
      "photoUrl": "https://lh3.googleusercontent.com/a-/AOh14GicHh9ECKPiyR68S3IUC3uvEPxQPh88MULwl8RHhQ=s64",
      "userId": "15870809085498692847"
     }
    },
    "outputId": "5352a01b-33b6-4052-eee3-3887be857c5d"
   },
   "source": [
    "import requests\n",
    "\n",
    "base_url = \"https://api.waqi.info\"\n",
    "\n",
    "# read secret token from file containing the token as a single string\n",
    "# you need to create this file if you want to reproduce this analysis\n",
    "token = open('waqi.token').read()\n",
    "\n",
    "import pandas as pd \n",
    "\n",
    "latlngbox = \"48.639956,1.761273,49.159944,2.947797\" \n",
    "\n",
    "r = requests.get(base_url + f\"/map/bounds/?latlng={latlngbox}&token={token}\")\n",
    "r.json()\n",
    "\n",
    "# [f\"Station: {d['station']['name']}, latitude: {d['lat']}, longitude: {d['lon']}, air quality: {d['aqi']}\" for d in r.json()['data']]"
   ],
   "execution_count": 8,
   "outputs": [
    {
     "data": {
      "text/plain": "{'status': 'ok',\n 'data': [{'lat': 48.8913,\n   'lon': 2.24064,\n   'uid': 3097,\n   'aqi': '62',\n   'station': {'name': 'La Defense, Paris',\n    'time': '2021-02-11T00:00:00+01:00'}},\n  {'lat': 48.856614,\n   'lon': 2.3522219,\n   'uid': 5722,\n   'aqi': '70',\n   'station': {'name': 'Paris', 'time': '2021-02-11T00:00:00+01:00'}},\n  {'lat': 48.9024,\n   'lon': 2.45261,\n   'uid': 3099,\n   'aqi': '81',\n   'station': {'name': 'Bobigny, Paris', 'time': '2021-02-10T23:00:00+01:00'}},\n  {'lat': 48.8386,\n   'lon': 2.41278,\n   'uid': 3088,\n   'aqi': '66',\n   'station': {'name': 'Boulevard Peripherique Est, Paris',\n    'time': '2021-02-10T21:00:00+01:00'}},\n  {'lat': 48.7759,\n   'lon': 2.37577,\n   'uid': 3103,\n   'aqi': '65',\n   'station': {'name': 'Vitry-sur-seine, Paris',\n    'time': '2021-02-10T19:00:00+01:00'}},\n  {'lat': 48.9302,\n   'lon': 2.29421,\n   'uid': 3085,\n   'aqi': '71',\n   'station': {'name': 'Gennevilliers, Paris',\n    'time': '2021-02-11T00:00:00+01:00'}},\n  {'lat': 48.8686,\n   'lon': 2.31166,\n   'uid': 3086,\n   'aqi': '70',\n   'station': {'name': 'Avenue Des Champs Elysees, Paris',\n    'time': '2021-02-11T00:00:00+01:00'}},\n  {'lat': 48.9908,\n   'lon': 2.44461,\n   'uid': 3105,\n   'aqi': '67',\n   'station': {'name': 'Gonesse, Paris', 'time': '2021-02-10T23:00:00+01:00'}},\n  {'lat': 48.8408,\n   'lon': 2.4844,\n   'uid': 3102,\n   'aqi': '23',\n   'station': {'name': 'Nogent-sur-marne, Paris',\n    'time': '2021-02-11T00:00:00+01:00'}},\n  {'lat': 48.8502,\n   'lon': 2.25258,\n   'uid': 3087,\n   'aqi': '-',\n   'station': {'name': 'Boulevard Peripherique Auteuil, Paris',\n    'time': '2021-02-08T11:00:00+01:00'}},\n  {'lat': 48.8917,\n   'lon': 2.34563,\n   'uid': 3082,\n   'aqi': '22',\n   'station': {'name': 'Paris 18eme, Paris',\n    'time': '2021-02-11T00:00:00+01:00'}},\n  {'lat': 48.8733,\n   'lon': 2.32957,\n   'uid': 3089,\n   'aqi': '70',\n   'station': {'name': 'Boulevard Haussmann, Paris',\n    'time': '2021-02-11T00:00:00+01:00'}},\n  {'lat': 48.8704,\n   'lon': 2.33241,\n   'uid': 3092,\n   'aqi': '70',\n   'station': {'name': 'Place De Lopera, Paris',\n    'time': '2021-02-11T00:00:00+01:00'}},\n  {'lat': 48.9251,\n   'lon': 2.35654,\n   'uid': 3098,\n   'aqi': '58',\n   'station': {'name': 'Autoroute A1 - Saint-denis, Paris',\n    'time': '2021-02-10T23:00:00+01:00'}},\n  {'lat': 48.9022,\n   'lon': 2.3907,\n   'uid': 3100,\n   'aqi': '38',\n   'station': {'name': 'Route Nationale 2 - Pantin, Paris',\n    'time': '2021-02-10T23:00:00+01:00'}},\n  {'lat': 49.1003,\n   'lon': 2.34378,\n   'uid': 5963,\n   'aqi': '61',\n   'station': {'name': 'Zone Rurale Nord - Saint-martin-du-tertre, Paris',\n    'time': '2021-02-10T21:00:00+01:00'}},\n  {'lat': 48.8277,\n   'lon': 2.3267,\n   'uid': 3091,\n   'aqi': '26',\n   'station': {'name': 'Place Victor Basch, Paris',\n    'time': '2021-02-10T23:00:00+01:00'}},\n  {'lat': 48.8621,\n   'lon': 2.34462,\n   'uid': 12763,\n   'aqi': '70',\n   'station': {'name': 'Paris 1er Les Halles, Paris',\n    'time': '2021-02-11T00:00:00+01:00'}},\n  {'lat': 49.0631,\n   'lon': 1.8664,\n   'uid': 3106,\n   'aqi': '25',\n   'station': {'name': 'Zone Rurale Nord-ouest - Fremainville, Paris',\n    'time': '2021-02-10T23:00:00+01:00'}},\n  {'lat': 48.9557,\n   'lon': 2.57441,\n   'uid': 3101,\n   'aqi': '24',\n   'station': {'name': 'Tremblay-en-france, Paris',\n    'time': '2021-02-10T22:00:00+01:00'}},\n  {'lat': 49.0459,\n   'lon': 2.04104,\n   'uid': 3104,\n   'aqi': '20',\n   'station': {'name': 'Cergy-pontoise, Paris',\n    'time': '2021-02-10T23:00:00+01:00'}},\n  {'lat': 48.8403,\n   'lon': 2.63463,\n   'uid': 3093,\n   'aqi': '24',\n   'station': {'name': 'Lognes, Paris', 'time': '2021-02-11T00:00:00+01:00'}},\n  {'lat': 48.8303,\n   'lon': 2.26972,\n   'uid': 6937,\n   'aqi': '19',\n   'station': {'name': 'Paris Stade Lenglen, Paris',\n    'time': '2021-02-10T21:00:00+01:00'}}]}"
     },
     "execution_count": 8,
     "metadata": {},
     "output_type": "execute_result"
    }
   ]
  },
  {
   "cell_type": "code",
   "metadata": {
    "colab": {
     "base_uri": "https://localhost:8080/",
     "height": 204
    },
    "id": "qkt2WPAG0R_7",
    "executionInfo": {
     "status": "ok",
     "timestamp": 1610862264232,
     "user_tz": 300,
     "elapsed": 784,
     "user": {
      "displayName": "Parvi Singh",
      "photoUrl": "https://lh3.googleusercontent.com/a-/AOh14GicHh9ECKPiyR68S3IUC3uvEPxQPh88MULwl8RHhQ=s64",
      "userId": "15870809085498692847"
     }
    },
    "outputId": "1a243c9c-e1c5-4ae1-eed0-2a78024efb3c"
   },
   "source": [
    "\n",
    "def make_dataframe(r):\n",
    "    \"\"\"Extracts data from request r and returns a DataFrame.\"\"\"\n",
    "    rows = []\n",
    "    for item in r.json()['data']:\n",
    "        rows.append([item['lat'], item['lon'], item['aqi'], item['station']['name']])\n",
    "    df = pd.DataFrame(rows, columns=['lat', 'lon', 'aqi', 'name'])\n",
    "    df['aqi'] = pd.to_numeric(df.aqi, errors='coerce')\n",
    "    return df\n",
    "\n",
    "df = make_dataframe(r)\n",
    "df.head()"
   ],
   "execution_count": 9,
   "outputs": [
    {
     "data": {
      "text/plain": "         lat       lon   aqi                               name\n0  48.891300  2.240640  62.0                  La Defense, Paris\n1  48.856614  2.352222  70.0                              Paris\n2  48.902400  2.452610  81.0                     Bobigny, Paris\n3  48.838600  2.412780  66.0  Boulevard Peripherique Est, Paris\n4  48.775900  2.375770  65.0             Vitry-sur-seine, Paris",
      "text/html": "<div>\n<style scoped>\n    .dataframe tbody tr th:only-of-type {\n        vertical-align: middle;\n    }\n\n    .dataframe tbody tr th {\n        vertical-align: top;\n    }\n\n    .dataframe thead th {\n        text-align: right;\n    }\n</style>\n<table border=\"1\" class=\"dataframe\">\n  <thead>\n    <tr style=\"text-align: right;\">\n      <th></th>\n      <th>lat</th>\n      <th>lon</th>\n      <th>aqi</th>\n      <th>name</th>\n    </tr>\n  </thead>\n  <tbody>\n    <tr>\n      <th>0</th>\n      <td>48.891300</td>\n      <td>2.240640</td>\n      <td>62.0</td>\n      <td>La Defense, Paris</td>\n    </tr>\n    <tr>\n      <th>1</th>\n      <td>48.856614</td>\n      <td>2.352222</td>\n      <td>70.0</td>\n      <td>Paris</td>\n    </tr>\n    <tr>\n      <th>2</th>\n      <td>48.902400</td>\n      <td>2.452610</td>\n      <td>81.0</td>\n      <td>Bobigny, Paris</td>\n    </tr>\n    <tr>\n      <th>3</th>\n      <td>48.838600</td>\n      <td>2.412780</td>\n      <td>66.0</td>\n      <td>Boulevard Peripherique Est, Paris</td>\n    </tr>\n    <tr>\n      <th>4</th>\n      <td>48.775900</td>\n      <td>2.375770</td>\n      <td>65.0</td>\n      <td>Vitry-sur-seine, Paris</td>\n    </tr>\n  </tbody>\n</table>\n</div>"
     },
     "execution_count": 9,
     "metadata": {},
     "output_type": "execute_result"
    }
   ]
  },
  {
   "cell_type": "code",
   "metadata": {
    "id": "VcmSSci30dg5",
    "executionInfo": {
     "status": "ok",
     "timestamp": 1610861738554,
     "user_tz": 300,
     "elapsed": 538,
     "user": {
      "displayName": "Parvi Singh",
      "photoUrl": "https://lh3.googleusercontent.com/a-/AOh14GicHh9ECKPiyR68S3IUC3uvEPxQPh88MULwl8RHhQ=s64",
      "userId": "15870809085498692847"
     }
    }
   },
   "source": [
    "import requests\n",
    "\n",
    "base_url = \"https://api.waqi.info\"\n",
    "\n",
    "# read secret token from file containing the token as a single string\n",
    "# you need to create this file if you want to reproduce this analysis\n",
    "token = open('waqi.token').read()\n",
    "\n"
   ],
   "execution_count": 10,
   "outputs": []
  },
  {
   "cell_type": "code",
   "metadata": {
    "colab": {
     "base_uri": "https://localhost:8080/"
    },
    "id": "QGqLNDRG122N",
    "executionInfo": {
     "status": "ok",
     "timestamp": 1610862039592,
     "user_tz": 300,
     "elapsed": 1476,
     "user": {
      "displayName": "Parvi Singh",
      "photoUrl": "https://lh3.googleusercontent.com/a-/AOh14GicHh9ECKPiyR68S3IUC3uvEPxQPh88MULwl8RHhQ=s64",
      "userId": "15870809085498692847"
     }
    },
    "outputId": "8d2c7c48-6c3a-4177-85cb-ef169c959391"
   },
   "source": [
    "# (latitude, longitude) bottom left, (latitude, longitude) top right\n",
    "latlngbox = \"48.639956,1.761273,49.159944,2.947797\" \n",
    "\n",
    "r = requests.get(base_url + f\"/map/bounds/?latlng={latlngbox}&token={token}\")\n",
    "[f\"Station: {d['station']['name']}, latitude: {d['lat']}, longitude: {d['lon']}, air quality: {d['aqi']}\" for d in r.json()['data']]"
   ],
   "execution_count": 11,
   "outputs": [
    {
     "data": {
      "text/plain": "['Station: Boulevard Peripherique Est, Paris, latitude: 48.8386, longitude: 2.41278, air quality: 66',\n 'Station: Vitry-sur-seine, Paris, latitude: 48.7759, longitude: 2.37577, air quality: 65',\n 'Station: Paris 1er Les Halles, Paris, latitude: 48.8621, longitude: 2.34462, air quality: 70',\n 'Station: Avenue Des Champs Elysees, Paris, latitude: 48.8686, longitude: 2.31166, air quality: 70',\n 'Station: Nogent-sur-marne, Paris, latitude: 48.8408, longitude: 2.4844, air quality: 23',\n 'Station: Boulevard Peripherique Auteuil, Paris, latitude: 48.8502, longitude: 2.25258, air quality: -',\n 'Station: Boulevard Haussmann, Paris, latitude: 48.8733, longitude: 2.32957, air quality: 70',\n 'Station: Place De Lopera, Paris, latitude: 48.8704, longitude: 2.33241, air quality: 70',\n 'Station: La Defense, Paris, latitude: 48.8913, longitude: 2.24064, air quality: 62',\n 'Station: Zone Rurale Nord - Saint-martin-du-tertre, Paris, latitude: 49.1003, longitude: 2.34378, air quality: 61',\n 'Station: Paris 18eme, Paris, latitude: 48.8917, longitude: 2.34563, air quality: 22',\n 'Station: Gennevilliers, Paris, latitude: 48.9302, longitude: 2.29421, air quality: 71',\n 'Station: Bobigny, Paris, latitude: 48.9024, longitude: 2.45261, air quality: 81',\n 'Station: Route Nationale 2 - Pantin, Paris, latitude: 48.9022, longitude: 2.3907, air quality: 38',\n 'Station: Cergy-pontoise, Paris, latitude: 49.0459, longitude: 2.04104, air quality: 20',\n 'Station: Lognes, Paris, latitude: 48.8403, longitude: 2.63463, air quality: 24',\n 'Station: Place Victor Basch, Paris, latitude: 48.8277, longitude: 2.3267, air quality: 26',\n 'Station: Paris Stade Lenglen, Paris, latitude: 48.8303, longitude: 2.26972, air quality: 19',\n 'Station: Paris, latitude: 48.856614, longitude: 2.3522219, air quality: 70',\n 'Station: Tremblay-en-france, Paris, latitude: 48.9557, longitude: 2.57441, air quality: 24',\n 'Station: Autoroute A1 - Saint-denis, Paris, latitude: 48.9251, longitude: 2.35654, air quality: 58',\n 'Station: Gonesse, Paris, latitude: 48.9908, longitude: 2.44461, air quality: 67',\n 'Station: Zone Rurale Nord-ouest - Fremainville, Paris, latitude: 49.0631, longitude: 1.8664, air quality: 25']"
     },
     "execution_count": 11,
     "metadata": {},
     "output_type": "execute_result"
    }
   ]
  },
  {
   "cell_type": "code",
   "metadata": {
    "colab": {
     "base_uri": "https://localhost:8080/",
     "height": 35
    },
    "id": "pTv0MxUk214h",
    "executionInfo": {
     "status": "ok",
     "timestamp": 1610861996914,
     "user_tz": 300,
     "elapsed": 1503,
     "user": {
      "displayName": "Parvi Singh",
      "photoUrl": "https://lh3.googleusercontent.com/a-/AOh14GicHh9ECKPiyR68S3IUC3uvEPxQPh88MULwl8RHhQ=s64",
      "userId": "15870809085498692847"
     }
    },
    "outputId": "6b7800ea-582b-4495-8a80-28022f645368"
   },
   "source": [
    "city = 'Paris'\n",
    "r = requests.get(base_url + f\"/feed/{city}/?token={token}\")\n",
    "\"City: {}, Air quality index: {}\".format(r.json()['data']['city']['name'], r.json()['data']['aqi'])"
   ],
   "execution_count": 12,
   "outputs": [
    {
     "data": {
      "text/plain": "'City: Paris, Air quality index: 70'"
     },
     "execution_count": 12,
     "metadata": {},
     "output_type": "execute_result"
    }
   ]
  },
  {
   "cell_type": "code",
   "metadata": {
    "colab": {
     "base_uri": "https://localhost:8080/",
     "height": 204
    },
    "id": "ezyWCaQ_05xA",
    "executionInfo": {
     "status": "ok",
     "timestamp": 1610862041653,
     "user_tz": 300,
     "elapsed": 760,
     "user": {
      "displayName": "Parvi Singh",
      "photoUrl": "https://lh3.googleusercontent.com/a-/AOh14GicHh9ECKPiyR68S3IUC3uvEPxQPh88MULwl8RHhQ=s64",
      "userId": "15870809085498692847"
     }
    },
    "outputId": "8c84b0ff-33ac-47d2-c64f-2e0de0416dbe"
   },
   "source": [
    "import pandas as pd\n",
    "\n",
    "def make_dataframe(r):\n",
    "    \"\"\"Extracts data from request r and returns a DataFrame.\"\"\"\n",
    "    rows = []\n",
    "    for item in r.json()['data']:\n",
    "        rows.append([item['lat'], item['lon'], item['aqi'], item['station']['name']])\n",
    "    df = pd.DataFrame(rows, columns=['lat', 'lon', 'aqi', 'name'])\n",
    "    df['aqi'] = pd.to_numeric(df.aqi, errors='coerce')\n",
    "    return df\n",
    "\n",
    "df = make_dataframe(r)\n",
    "df.head()"
   ],
   "execution_count": 13,
   "outputs": [
    {
     "ename": "TypeError",
     "evalue": "string indices must be integers",
     "output_type": "error",
     "traceback": [
      "\u001B[0;31m---------------------------------------------------------------------------\u001B[0m",
      "\u001B[0;31mTypeError\u001B[0m                                 Traceback (most recent call last)",
      "\u001B[0;32m<ipython-input-13-e3b97c459859>\u001B[0m in \u001B[0;36m<module>\u001B[0;34m\u001B[0m\n\u001B[1;32m     10\u001B[0m     \u001B[0;32mreturn\u001B[0m \u001B[0mdf\u001B[0m\u001B[0;34m\u001B[0m\u001B[0;34m\u001B[0m\u001B[0m\n\u001B[1;32m     11\u001B[0m \u001B[0;34m\u001B[0m\u001B[0m\n\u001B[0;32m---> 12\u001B[0;31m \u001B[0mdf\u001B[0m \u001B[0;34m=\u001B[0m \u001B[0mmake_dataframe\u001B[0m\u001B[0;34m(\u001B[0m\u001B[0mr\u001B[0m\u001B[0;34m)\u001B[0m\u001B[0;34m\u001B[0m\u001B[0;34m\u001B[0m\u001B[0m\n\u001B[0m\u001B[1;32m     13\u001B[0m \u001B[0mdf\u001B[0m\u001B[0;34m.\u001B[0m\u001B[0mhead\u001B[0m\u001B[0;34m(\u001B[0m\u001B[0;34m)\u001B[0m\u001B[0;34m\u001B[0m\u001B[0;34m\u001B[0m\u001B[0m\n\u001B[1;32m     14\u001B[0m \u001B[0;34m\u001B[0m\u001B[0m\n",
      "\u001B[0;32m<ipython-input-13-e3b97c459859>\u001B[0m in \u001B[0;36mmake_dataframe\u001B[0;34m(r)\u001B[0m\n\u001B[1;32m      5\u001B[0m     \u001B[0mrows\u001B[0m \u001B[0;34m=\u001B[0m \u001B[0;34m[\u001B[0m\u001B[0;34m]\u001B[0m\u001B[0;34m\u001B[0m\u001B[0;34m\u001B[0m\u001B[0m\n\u001B[1;32m      6\u001B[0m     \u001B[0;32mfor\u001B[0m \u001B[0mitem\u001B[0m \u001B[0;32min\u001B[0m \u001B[0mr\u001B[0m\u001B[0;34m.\u001B[0m\u001B[0mjson\u001B[0m\u001B[0;34m(\u001B[0m\u001B[0;34m)\u001B[0m\u001B[0;34m[\u001B[0m\u001B[0;34m'data'\u001B[0m\u001B[0;34m]\u001B[0m\u001B[0;34m:\u001B[0m\u001B[0;34m\u001B[0m\u001B[0;34m\u001B[0m\u001B[0m\n\u001B[0;32m----> 7\u001B[0;31m         \u001B[0mrows\u001B[0m\u001B[0;34m.\u001B[0m\u001B[0mappend\u001B[0m\u001B[0;34m(\u001B[0m\u001B[0;34m[\u001B[0m\u001B[0mitem\u001B[0m\u001B[0;34m[\u001B[0m\u001B[0;34m'lat'\u001B[0m\u001B[0;34m]\u001B[0m\u001B[0;34m,\u001B[0m \u001B[0mitem\u001B[0m\u001B[0;34m[\u001B[0m\u001B[0;34m'lon'\u001B[0m\u001B[0;34m]\u001B[0m\u001B[0;34m,\u001B[0m \u001B[0mitem\u001B[0m\u001B[0;34m[\u001B[0m\u001B[0;34m'aqi'\u001B[0m\u001B[0;34m]\u001B[0m\u001B[0;34m,\u001B[0m \u001B[0mitem\u001B[0m\u001B[0;34m[\u001B[0m\u001B[0;34m'station'\u001B[0m\u001B[0;34m]\u001B[0m\u001B[0;34m[\u001B[0m\u001B[0;34m'name'\u001B[0m\u001B[0;34m]\u001B[0m\u001B[0;34m]\u001B[0m\u001B[0;34m)\u001B[0m\u001B[0;34m\u001B[0m\u001B[0;34m\u001B[0m\u001B[0m\n\u001B[0m\u001B[1;32m      8\u001B[0m     \u001B[0mdf\u001B[0m \u001B[0;34m=\u001B[0m \u001B[0mpd\u001B[0m\u001B[0;34m.\u001B[0m\u001B[0mDataFrame\u001B[0m\u001B[0;34m(\u001B[0m\u001B[0mrows\u001B[0m\u001B[0;34m,\u001B[0m \u001B[0mcolumns\u001B[0m\u001B[0;34m=\u001B[0m\u001B[0;34m[\u001B[0m\u001B[0;34m'lat'\u001B[0m\u001B[0;34m,\u001B[0m \u001B[0;34m'lon'\u001B[0m\u001B[0;34m,\u001B[0m \u001B[0;34m'aqi'\u001B[0m\u001B[0;34m,\u001B[0m \u001B[0;34m'name'\u001B[0m\u001B[0;34m]\u001B[0m\u001B[0;34m)\u001B[0m\u001B[0;34m\u001B[0m\u001B[0;34m\u001B[0m\u001B[0m\n\u001B[1;32m      9\u001B[0m     \u001B[0mdf\u001B[0m\u001B[0;34m[\u001B[0m\u001B[0;34m'aqi'\u001B[0m\u001B[0;34m]\u001B[0m \u001B[0;34m=\u001B[0m \u001B[0mpd\u001B[0m\u001B[0;34m.\u001B[0m\u001B[0mto_numeric\u001B[0m\u001B[0;34m(\u001B[0m\u001B[0mdf\u001B[0m\u001B[0;34m.\u001B[0m\u001B[0maqi\u001B[0m\u001B[0;34m,\u001B[0m \u001B[0merrors\u001B[0m\u001B[0;34m=\u001B[0m\u001B[0;34m'coerce'\u001B[0m\u001B[0;34m)\u001B[0m\u001B[0;34m\u001B[0m\u001B[0;34m\u001B[0m\u001B[0m\n",
      "\u001B[0;31mTypeError\u001B[0m: string indices must be integers"
     ]
    }
   ]
  },
  {
   "cell_type": "code",
   "metadata": {
    "colab": {
     "base_uri": "https://localhost:8080/"
    },
    "id": "MFFYEk-I3D-9",
    "executionInfo": {
     "status": "ok",
     "timestamp": 1610862061180,
     "user_tz": 300,
     "elapsed": 4702,
     "user": {
      "displayName": "Parvi Singh",
      "photoUrl": "https://lh3.googleusercontent.com/a-/AOh14GicHh9ECKPiyR68S3IUC3uvEPxQPh88MULwl8RHhQ=s64",
      "userId": "15870809085498692847"
     }
    },
    "outputId": "d71820f6-468f-4072-e5f3-1ce2327934b4"
   },
   "source": [
    "!pip install geoviews"
   ],
   "execution_count": null,
   "outputs": []
  },
  {
   "cell_type": "code",
   "metadata": {
    "colab": {
     "base_uri": "https://localhost:8080/",
     "height": 368
    },
    "id": "Qnp04xYf2-3H",
    "executionInfo": {
     "status": "error",
     "timestamp": 1610862063009,
     "user_tz": 300,
     "elapsed": 754,
     "user": {
      "displayName": "Parvi Singh",
      "photoUrl": "https://lh3.googleusercontent.com/a-/AOh14GicHh9ECKPiyR68S3IUC3uvEPxQPh88MULwl8RHhQ=s64",
      "userId": "15870809085498692847"
     }
    },
    "outputId": "a1f643f9-abe1-48b1-bc62-3e676e4a23b0"
   },
   "source": [
    "import geoviews as gv\n",
    "import geoviews.tile_sources as gvts\n",
    "gv.extension('bokeh', 'matplotlib', logo=False)\n",
    "\n",
    "points = gv.Points(df.dropna(), ['lon', 'lat'], ['aqi', 'name'])\n",
    "points.opts(size=10, color='aqi', cmap='magma', tools=['hover'], colorbar=True, width=500, height=400, padding=.1, clim=(0, 60))\n",
    "\n",
    "gvts.OSM * points  "
   ],
   "execution_count": null,
   "outputs": []
  },
  {
   "cell_type": "markdown",
   "metadata": {
    "id": "HWaTU4CY05mZ"
   },
   "source": [
    ""
   ]
  }
 ]
}