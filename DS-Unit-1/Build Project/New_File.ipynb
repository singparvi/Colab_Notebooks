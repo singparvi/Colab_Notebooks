{
 "cells": [
  {
   "cell_type": "code",
   "execution_count": 3,
   "metadata": {
    "collapsed": true
   },
   "outputs": [
    {
     "data": {
      "text/plain": "   code    state  year month population\n0    WY  Wyoming  2014    12          3\n1    WY  Wyoming  2014    12          3\n2    WY  Wyoming  2014    12          3\n3    WY  Wyoming  2014    12          3\n4    WY  Wyoming  2014    12          3\n..  ...      ...   ...   ...        ...\n67   WY  Wyoming  2014    12          3\n68   WY  Wyoming  2014    12          3\n69   WY  Wyoming  2014    12          3\n70   WY  Wyoming  2014    12          3\n71   WY  Wyoming  2014    12          3\n\n[72 rows x 5 columns]",
      "text/html": "<div>\n<style scoped>\n    .dataframe tbody tr th:only-of-type {\n        vertical-align: middle;\n    }\n\n    .dataframe tbody tr th {\n        vertical-align: top;\n    }\n\n    .dataframe thead th {\n        text-align: right;\n    }\n</style>\n<table border=\"1\" class=\"dataframe\">\n  <thead>\n    <tr style=\"text-align: right;\">\n      <th></th>\n      <th>code</th>\n      <th>state</th>\n      <th>year</th>\n      <th>month</th>\n      <th>population</th>\n    </tr>\n  </thead>\n  <tbody>\n    <tr>\n      <th>0</th>\n      <td>WY</td>\n      <td>Wyoming</td>\n      <td>2014</td>\n      <td>12</td>\n      <td>3</td>\n    </tr>\n    <tr>\n      <th>1</th>\n      <td>WY</td>\n      <td>Wyoming</td>\n      <td>2014</td>\n      <td>12</td>\n      <td>3</td>\n    </tr>\n    <tr>\n      <th>2</th>\n      <td>WY</td>\n      <td>Wyoming</td>\n      <td>2014</td>\n      <td>12</td>\n      <td>3</td>\n    </tr>\n    <tr>\n      <th>3</th>\n      <td>WY</td>\n      <td>Wyoming</td>\n      <td>2014</td>\n      <td>12</td>\n      <td>3</td>\n    </tr>\n    <tr>\n      <th>4</th>\n      <td>WY</td>\n      <td>Wyoming</td>\n      <td>2014</td>\n      <td>12</td>\n      <td>3</td>\n    </tr>\n    <tr>\n      <th>...</th>\n      <td>...</td>\n      <td>...</td>\n      <td>...</td>\n      <td>...</td>\n      <td>...</td>\n    </tr>\n    <tr>\n      <th>67</th>\n      <td>WY</td>\n      <td>Wyoming</td>\n      <td>2014</td>\n      <td>12</td>\n      <td>3</td>\n    </tr>\n    <tr>\n      <th>68</th>\n      <td>WY</td>\n      <td>Wyoming</td>\n      <td>2014</td>\n      <td>12</td>\n      <td>3</td>\n    </tr>\n    <tr>\n      <th>69</th>\n      <td>WY</td>\n      <td>Wyoming</td>\n      <td>2014</td>\n      <td>12</td>\n      <td>3</td>\n    </tr>\n    <tr>\n      <th>70</th>\n      <td>WY</td>\n      <td>Wyoming</td>\n      <td>2014</td>\n      <td>12</td>\n      <td>3</td>\n    </tr>\n    <tr>\n      <th>71</th>\n      <td>WY</td>\n      <td>Wyoming</td>\n      <td>2014</td>\n      <td>12</td>\n      <td>3</td>\n    </tr>\n  </tbody>\n</table>\n<p>72 rows × 5 columns</p>\n</div>"
     },
     "execution_count": 3,
     "metadata": {},
     "output_type": "execute_result"
    }
   ],
   "source": [
    "\n",
    "import pandas as pd\n",
    "from numpy.random import randint\n",
    "code = ['AL',\n",
    " 'AK',\n",
    " 'AZ',\n",
    " 'AR',\n",
    " 'CA',\n",
    " 'CO',\n",
    " 'CT',\n",
    " 'DE',\n",
    " 'FL',\n",
    " 'GA',\n",
    " 'HI',\n",
    " 'ID',\n",
    " 'IL',\n",
    " 'IN',\n",
    " 'IA',\n",
    " 'KS',\n",
    " 'KY',\n",
    " 'LA',\n",
    " 'ME',\n",
    " 'MD',\n",
    " 'MA',\n",
    " 'MI',\n",
    " 'MN',\n",
    " 'MS',\n",
    " 'MO',\n",
    " 'MT',\n",
    " 'NE',\n",
    " 'NV',\n",
    " 'NH',\n",
    " 'NJ',\n",
    " 'NM',\n",
    " 'NY',\n",
    " 'NC',\n",
    " 'ND',\n",
    " 'OH',\n",
    " 'OK',\n",
    " 'OR',\n",
    " 'PA',\n",
    " 'RI',\n",
    " 'SC',\n",
    " 'SD',\n",
    " 'TN',\n",
    " 'TX',\n",
    " 'UT',\n",
    " 'VT',\n",
    " 'VA',\n",
    " 'WA',\n",
    " 'WV',\n",
    " 'WI',\n",
    " 'WY']\n",
    "state = ['Alabama',\n",
    " 'Alaska',\n",
    " 'Arizona',\n",
    " 'Arkansas',\n",
    " 'California',\n",
    " 'Colorado',\n",
    " 'Connecticut',\n",
    " 'Delaware',\n",
    " 'Florida',\n",
    " 'Georgia',\n",
    " 'Hawaii',\n",
    " 'Idaho',\n",
    " 'Illinois',\n",
    " 'Indiana',\n",
    " 'Iowa',\n",
    " 'Kansas',\n",
    " 'Kentucky',\n",
    " 'Louisiana',\n",
    " 'Maine',\n",
    " 'Maryland',\n",
    " 'Massachusetts',\n",
    " 'Michigan',\n",
    " 'Minnesota',\n",
    " 'Mississippi',\n",
    " 'Missouri',\n",
    " 'Montana',\n",
    " 'Nebraska',\n",
    " 'Nevada',\n",
    " 'New Hampshire',\n",
    " 'New Jersey',\n",
    " 'New Mexico',\n",
    " 'New York',\n",
    " 'North Carolina',\n",
    " 'North Dakota',\n",
    " 'Ohio',\n",
    " 'Oklahoma',\n",
    " 'Oregon',\n",
    " 'Pennsylvania',\n",
    " 'Rhode Island',\n",
    " 'South Carolina',\n",
    " 'South Dakota',\n",
    " 'Tennessee',\n",
    " 'Texas',\n",
    " 'Utah',\n",
    " 'Vermont',\n",
    " 'Virginia',\n",
    " 'Washington',\n",
    " 'West Virginia',\n",
    " 'Wisconsin',\n",
    " 'Wyoming']\n",
    "import itertools\n",
    "df = pd.DataFrame(columns=['code', 'state', 'year', 'month', 'population'])\n",
    "for z,i,j,k,l in itertools.product(range(72),code,state,range(1), range(1,13)):\n",
    "  #for i, j in itertools.product(range(x), range(y)):\n",
    "  df.loc[z] = [str(i)] + [str(j)] + [2014+k] + [l] + [3]\n",
    "df"
   ]
  },
  {
   "cell_type": "code",
   "execution_count": 4,
   "outputs": [
    {
     "name": "stdout",
     "output_type": "stream",
     "text": [
      "this\n"
     ]
    }
   ],
   "source": [
    "print (\"this\")"
   ],
   "metadata": {
    "collapsed": false,
    "pycharm": {
     "name": "#%%\n"
    }
   }
  },
  {
   "cell_type": "code",
   "execution_count": null,
   "outputs": [],
   "source": [],
   "metadata": {
    "collapsed": false,
    "pycharm": {
     "name": "#%%\n"
    }
   }
  }
 ],
 "metadata": {
  "kernelspec": {
   "display_name": "Python 3",
   "language": "python",
   "name": "python3"
  },
  "language_info": {
   "codemirror_mode": {
    "name": "ipython",
    "version": 2
   },
   "file_extension": ".py",
   "mimetype": "text/x-python",
   "name": "python",
   "nbconvert_exporter": "python",
   "pygments_lexer": "ipython2",
   "version": "2.7.6"
  }
 },
 "nbformat": 4,
 "nbformat_minor": 0
}