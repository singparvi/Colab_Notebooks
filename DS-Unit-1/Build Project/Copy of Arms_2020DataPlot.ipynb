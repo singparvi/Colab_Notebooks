{
 "nbformat": 4,
 "nbformat_minor": 0,
 "metadata": {
  "kernelspec": {
   "name": "pycharm-16554a3c",
   "language": "python",
   "display_name": "PyCharm (Colab Notebooks)"
  },
  "language_info": {
   "codemirror_mode": {
    "name": "ipython",
    "version": 2
   },
   "file_extension": ".py",
   "mimetype": "text/x-python",
   "name": "python",
   "nbconvert_exporter": "python",
   "pygments_lexer": "ipython2",
   "version": "2.7.6"
  },
  "colab": {
   "name": "Arms_2020DataPlot.ipynb",
   "provenance": []
  }
 },
 "cells": [
  {
   "cell_type": "code",
   "metadata": {
    "pycharm": {
     "name": "#%%\n"
    },
    "colab": {
     "base_uri": "https://localhost:8080/",
     "height": 609
    },
    "id": "NBHmuc3_EzGn",
    "executionInfo": {
     "status": "ok",
     "timestamp": 1608076459901,
     "user_tz": 300,
     "elapsed": 1701,
     "user": {
      "displayName": "Parvi Singh",
      "photoUrl": "",
      "userId": "15870809085498692847"
     }
    },
    "outputId": "6e0d6542-dc21-4d4e-cbbf-9be7afa87563"
   },
   "source": [
    "import pandas as pd\n",
    "import numpy as np\n",
    "import matplotlib.pyplot as plt\n",
    "import seaborn as sns\n",
    "\n",
    "url = 'https://raw.githubusercontent.com/BuzzFeedNews/nics-firearm-background-checks/master/data/nics-firearm-background-checks.csv'\n",
    "\n",
    "df = pd.read_csv(url)\n",
    "df\n"
   ],
   "execution_count": 3,
   "outputs": [
    {
     "data": {
      "text/plain": "         month          state   permit  permit_recheck  handgun  long_gun  \\\n0      2020-11        Alabama  30694.0           561.0  27765.0   25924.0   \n1      2020-11         Alaska     96.0             0.0   3474.0    3878.0   \n2      2020-11        Arizona   7483.0          1172.0  25906.0   14698.0   \n3      2020-11       Arkansas   4096.0           486.0  10069.0   12954.0   \n4      2020-11     California  28797.0             0.0  56793.0   37256.0   \n...        ...            ...      ...             ...      ...       ...   \n14570  1998-11       Virginia      0.0             NaN     14.0       2.0   \n14571  1998-11     Washington      1.0             NaN     65.0     286.0   \n14572  1998-11  West Virginia      3.0             NaN    149.0     251.0   \n14573  1998-11      Wisconsin      0.0             NaN     25.0     214.0   \n14574  1998-11        Wyoming      8.0             NaN     45.0      49.0   \n\n        other  multiple  admin  prepawn_handgun  ...  returned_other  \\\n0      1931.0      1519    0.0             32.0  ...             0.0   \n1       461.0       301    0.0              1.0  ...             0.0   \n2      2157.0      1604    0.0              6.0  ...             1.0   \n3       599.0       505    5.0              8.0  ...             0.0   \n4      7391.0         0    0.0              0.0  ...             0.0   \n...       ...       ...    ...              ...  ...             ...   \n14570     NaN         8    0.0              NaN  ...             NaN   \n14571     NaN         8    1.0              NaN  ...             NaN   \n14572     NaN         5    0.0              NaN  ...             NaN   \n14573     NaN         2    0.0              NaN  ...             NaN   \n14574     NaN         5    0.0              NaN  ...             NaN   \n\n       rentals_handgun  rentals_long_gun  private_sale_handgun  \\\n0                  0.0               0.0                  42.0   \n1                  0.0               0.0                  13.0   \n2                  0.0               0.0                  18.0   \n3                  0.0               0.0                   9.0   \n4                  0.0               0.0                   0.0   \n...                ...               ...                   ...   \n14570              NaN               NaN                   NaN   \n14571              NaN               NaN                   NaN   \n14572              NaN               NaN                   NaN   \n14573              NaN               NaN                   NaN   \n14574              NaN               NaN                   NaN   \n\n       private_sale_long_gun  private_sale_other  return_to_seller_handgun  \\\n0                       33.0                 9.0                       0.0   \n1                       20.0                 1.0                       0.0   \n2                       14.0                 0.0                       0.0   \n3                       14.0                 1.0                       0.0   \n4                        0.0                 0.0                       0.0   \n...                      ...                 ...                       ...   \n14570                    NaN                 NaN                       NaN   \n14571                    NaN                 NaN                       NaN   \n14572                    NaN                 NaN                       NaN   \n14573                    NaN                 NaN                       NaN   \n14574                    NaN                 NaN                       NaN   \n\n       return_to_seller_long_gun  return_to_seller_other  totals  \n0                            1.0                     0.0   91839  \n1                            0.0                     0.0    8510  \n2                            0.0                     1.0   54444  \n3                            0.0                     0.0   30770  \n4                            0.0                     0.0  130793  \n...                          ...                     ...     ...  \n14570                        NaN                     NaN      24  \n14571                        NaN                     NaN     361  \n14572                        NaN                     NaN     408  \n14573                        NaN                     NaN     241  \n14574                        NaN                     NaN     107  \n\n[14575 rows x 27 columns]",
      "text/html": "<div>\n<style scoped>\n    .dataframe tbody tr th:only-of-type {\n        vertical-align: middle;\n    }\n\n    .dataframe tbody tr th {\n        vertical-align: top;\n    }\n\n    .dataframe thead th {\n        text-align: right;\n    }\n</style>\n<table border=\"1\" class=\"dataframe\">\n  <thead>\n    <tr style=\"text-align: right;\">\n      <th></th>\n      <th>month</th>\n      <th>state</th>\n      <th>permit</th>\n      <th>permit_recheck</th>\n      <th>handgun</th>\n      <th>long_gun</th>\n      <th>other</th>\n      <th>multiple</th>\n      <th>admin</th>\n      <th>prepawn_handgun</th>\n      <th>...</th>\n      <th>returned_other</th>\n      <th>rentals_handgun</th>\n      <th>rentals_long_gun</th>\n      <th>private_sale_handgun</th>\n      <th>private_sale_long_gun</th>\n      <th>private_sale_other</th>\n      <th>return_to_seller_handgun</th>\n      <th>return_to_seller_long_gun</th>\n      <th>return_to_seller_other</th>\n      <th>totals</th>\n    </tr>\n  </thead>\n  <tbody>\n    <tr>\n      <th>0</th>\n      <td>2020-11</td>\n      <td>Alabama</td>\n      <td>30694.0</td>\n      <td>561.0</td>\n      <td>27765.0</td>\n      <td>25924.0</td>\n      <td>1931.0</td>\n      <td>1519</td>\n      <td>0.0</td>\n      <td>32.0</td>\n      <td>...</td>\n      <td>0.0</td>\n      <td>0.0</td>\n      <td>0.0</td>\n      <td>42.0</td>\n      <td>33.0</td>\n      <td>9.0</td>\n      <td>0.0</td>\n      <td>1.0</td>\n      <td>0.0</td>\n      <td>91839</td>\n    </tr>\n    <tr>\n      <th>1</th>\n      <td>2020-11</td>\n      <td>Alaska</td>\n      <td>96.0</td>\n      <td>0.0</td>\n      <td>3474.0</td>\n      <td>3878.0</td>\n      <td>461.0</td>\n      <td>301</td>\n      <td>0.0</td>\n      <td>1.0</td>\n      <td>...</td>\n      <td>0.0</td>\n      <td>0.0</td>\n      <td>0.0</td>\n      <td>13.0</td>\n      <td>20.0</td>\n      <td>1.0</td>\n      <td>0.0</td>\n      <td>0.0</td>\n      <td>0.0</td>\n      <td>8510</td>\n    </tr>\n    <tr>\n      <th>2</th>\n      <td>2020-11</td>\n      <td>Arizona</td>\n      <td>7483.0</td>\n      <td>1172.0</td>\n      <td>25906.0</td>\n      <td>14698.0</td>\n      <td>2157.0</td>\n      <td>1604</td>\n      <td>0.0</td>\n      <td>6.0</td>\n      <td>...</td>\n      <td>1.0</td>\n      <td>0.0</td>\n      <td>0.0</td>\n      <td>18.0</td>\n      <td>14.0</td>\n      <td>0.0</td>\n      <td>0.0</td>\n      <td>0.0</td>\n      <td>1.0</td>\n      <td>54444</td>\n    </tr>\n    <tr>\n      <th>3</th>\n      <td>2020-11</td>\n      <td>Arkansas</td>\n      <td>4096.0</td>\n      <td>486.0</td>\n      <td>10069.0</td>\n      <td>12954.0</td>\n      <td>599.0</td>\n      <td>505</td>\n      <td>5.0</td>\n      <td>8.0</td>\n      <td>...</td>\n      <td>0.0</td>\n      <td>0.0</td>\n      <td>0.0</td>\n      <td>9.0</td>\n      <td>14.0</td>\n      <td>1.0</td>\n      <td>0.0</td>\n      <td>0.0</td>\n      <td>0.0</td>\n      <td>30770</td>\n    </tr>\n    <tr>\n      <th>4</th>\n      <td>2020-11</td>\n      <td>California</td>\n      <td>28797.0</td>\n      <td>0.0</td>\n      <td>56793.0</td>\n      <td>37256.0</td>\n      <td>7391.0</td>\n      <td>0</td>\n      <td>0.0</td>\n      <td>0.0</td>\n      <td>...</td>\n      <td>0.0</td>\n      <td>0.0</td>\n      <td>0.0</td>\n      <td>0.0</td>\n      <td>0.0</td>\n      <td>0.0</td>\n      <td>0.0</td>\n      <td>0.0</td>\n      <td>0.0</td>\n      <td>130793</td>\n    </tr>\n    <tr>\n      <th>...</th>\n      <td>...</td>\n      <td>...</td>\n      <td>...</td>\n      <td>...</td>\n      <td>...</td>\n      <td>...</td>\n      <td>...</td>\n      <td>...</td>\n      <td>...</td>\n      <td>...</td>\n      <td>...</td>\n      <td>...</td>\n      <td>...</td>\n      <td>...</td>\n      <td>...</td>\n      <td>...</td>\n      <td>...</td>\n      <td>...</td>\n      <td>...</td>\n      <td>...</td>\n      <td>...</td>\n    </tr>\n    <tr>\n      <th>14570</th>\n      <td>1998-11</td>\n      <td>Virginia</td>\n      <td>0.0</td>\n      <td>NaN</td>\n      <td>14.0</td>\n      <td>2.0</td>\n      <td>NaN</td>\n      <td>8</td>\n      <td>0.0</td>\n      <td>NaN</td>\n      <td>...</td>\n      <td>NaN</td>\n      <td>NaN</td>\n      <td>NaN</td>\n      <td>NaN</td>\n      <td>NaN</td>\n      <td>NaN</td>\n      <td>NaN</td>\n      <td>NaN</td>\n      <td>NaN</td>\n      <td>24</td>\n    </tr>\n    <tr>\n      <th>14571</th>\n      <td>1998-11</td>\n      <td>Washington</td>\n      <td>1.0</td>\n      <td>NaN</td>\n      <td>65.0</td>\n      <td>286.0</td>\n      <td>NaN</td>\n      <td>8</td>\n      <td>1.0</td>\n      <td>NaN</td>\n      <td>...</td>\n      <td>NaN</td>\n      <td>NaN</td>\n      <td>NaN</td>\n      <td>NaN</td>\n      <td>NaN</td>\n      <td>NaN</td>\n      <td>NaN</td>\n      <td>NaN</td>\n      <td>NaN</td>\n      <td>361</td>\n    </tr>\n    <tr>\n      <th>14572</th>\n      <td>1998-11</td>\n      <td>West Virginia</td>\n      <td>3.0</td>\n      <td>NaN</td>\n      <td>149.0</td>\n      <td>251.0</td>\n      <td>NaN</td>\n      <td>5</td>\n      <td>0.0</td>\n      <td>NaN</td>\n      <td>...</td>\n      <td>NaN</td>\n      <td>NaN</td>\n      <td>NaN</td>\n      <td>NaN</td>\n      <td>NaN</td>\n      <td>NaN</td>\n      <td>NaN</td>\n      <td>NaN</td>\n      <td>NaN</td>\n      <td>408</td>\n    </tr>\n    <tr>\n      <th>14573</th>\n      <td>1998-11</td>\n      <td>Wisconsin</td>\n      <td>0.0</td>\n      <td>NaN</td>\n      <td>25.0</td>\n      <td>214.0</td>\n      <td>NaN</td>\n      <td>2</td>\n      <td>0.0</td>\n      <td>NaN</td>\n      <td>...</td>\n      <td>NaN</td>\n      <td>NaN</td>\n      <td>NaN</td>\n      <td>NaN</td>\n      <td>NaN</td>\n      <td>NaN</td>\n      <td>NaN</td>\n      <td>NaN</td>\n      <td>NaN</td>\n      <td>241</td>\n    </tr>\n    <tr>\n      <th>14574</th>\n      <td>1998-11</td>\n      <td>Wyoming</td>\n      <td>8.0</td>\n      <td>NaN</td>\n      <td>45.0</td>\n      <td>49.0</td>\n      <td>NaN</td>\n      <td>5</td>\n      <td>0.0</td>\n      <td>NaN</td>\n      <td>...</td>\n      <td>NaN</td>\n      <td>NaN</td>\n      <td>NaN</td>\n      <td>NaN</td>\n      <td>NaN</td>\n      <td>NaN</td>\n      <td>NaN</td>\n      <td>NaN</td>\n      <td>NaN</td>\n      <td>107</td>\n    </tr>\n  </tbody>\n</table>\n<p>14575 rows × 27 columns</p>\n</div>"
     },
     "execution_count": 3,
     "metadata": {},
     "output_type": "execute_result"
    }
   ]
  },
  {
   "cell_type": "code",
   "metadata": {
    "pycharm": {
     "name": "#%%\n"
    },
    "colab": {
     "base_uri": "https://localhost:8080/"
    },
    "id": "YEXV6ndAEzGo",
    "executionInfo": {
     "status": "ok",
     "timestamp": 1608076459904,
     "user_tz": 300,
     "elapsed": 1627,
     "user": {
      "displayName": "Parvi Singh",
      "photoUrl": "",
      "userId": "15870809085498692847"
     }
    },
    "outputId": "5f29ad07-f2d2-44ea-e01d-fd1c4fc6b7bf"
   },
   "source": [
    "df['month'] =pd.to_datetime(df['month']) # already done\n",
    "df.info()\n",
    "#\n",
    "# df['month'].dt.month\n",
    "#\n",
    "# df['new_month'] = df['month'].dt.month\n",
    "# df"
   ],
   "execution_count": 4,
   "outputs": [
    {
     "name": "stdout",
     "output_type": "stream",
     "text": [
      "<class 'pandas.core.frame.DataFrame'>\n",
      "RangeIndex: 14575 entries, 0 to 14574\n",
      "Data columns (total 27 columns):\n",
      " #   Column                     Non-Null Count  Dtype         \n",
      "---  ------                     --------------  -----         \n",
      " 0   month                      14575 non-null  datetime64[ns]\n",
      " 1   state                      14575 non-null  object        \n",
      " 2   permit                     14551 non-null  float64       \n",
      " 3   permit_recheck             3190 non-null   float64       \n",
      " 4   handgun                    14555 non-null  float64       \n",
      " 5   long_gun                   14556 non-null  float64       \n",
      " 6   other                      7590 non-null   float64       \n",
      " 7   multiple                   14575 non-null  int64         \n",
      " 8   admin                      14552 non-null  float64       \n",
      " 9   prepawn_handgun            12632 non-null  float64       \n",
      " 10  prepawn_long_gun           12630 non-null  float64       \n",
      " 11  prepawn_other              7205 non-null   float64       \n",
      " 12  redemption_handgun         12635 non-null  float64       \n",
      " 13  redemption_long_gun        12634 non-null  float64       \n",
      " 14  redemption_other           7205 non-null   float64       \n",
      " 15  returned_handgun           4290 non-null   float64       \n",
      " 16  returned_long_gun          4235 non-null   float64       \n",
      " 17  returned_other             3905 non-null   float64       \n",
      " 18  rentals_handgun            3080 non-null   float64       \n",
      " 19  rentals_long_gun           2915 non-null   float64       \n",
      " 20  private_sale_handgun       4840 non-null   float64       \n",
      " 21  private_sale_long_gun      4840 non-null   float64       \n",
      " 22  private_sale_other         4840 non-null   float64       \n",
      " 23  return_to_seller_handgun   4565 non-null   float64       \n",
      " 24  return_to_seller_long_gun  4840 non-null   float64       \n",
      " 25  return_to_seller_other     4345 non-null   float64       \n",
      " 26  totals                     14575 non-null  int64         \n",
      "dtypes: datetime64[ns](1), float64(23), int64(2), object(1)\n",
      "memory usage: 3.0+ MB\n"
     ]
    }
   ]
  },
  {
   "cell_type": "code",
   "metadata": {
    "pycharm": {
     "name": "#%%\n"
    },
    "colab": {
     "base_uri": "https://localhost:8080/"
    },
    "id": "GWpEGGGrEzGo",
    "executionInfo": {
     "status": "ok",
     "timestamp": 1608076459905,
     "user_tz": 300,
     "elapsed": 1615,
     "user": {
      "displayName": "Parvi Singh",
      "photoUrl": "",
      "userId": "15870809085498692847"
     }
    },
    "outputId": "58c9f627-92a7-4e85-f60d-3f0c53158bf3"
   },
   "source": [
    "df['month'][0].year"
   ],
   "execution_count": 5,
   "outputs": [
    {
     "data": {
      "text/plain": "2020"
     },
     "execution_count": 5,
     "metadata": {},
     "output_type": "execute_result"
    }
   ]
  },
  {
   "cell_type": "code",
   "metadata": {
    "pycharm": {
     "name": "#%%\n"
    },
    "colab": {
     "base_uri": "https://localhost:8080/"
    },
    "id": "RrqQwgEuEzGo",
    "executionInfo": {
     "status": "ok",
     "timestamp": 1608076459906,
     "user_tz": 300,
     "elapsed": 1604,
     "user": {
      "displayName": "Parvi Singh",
      "photoUrl": "",
      "userId": "15870809085498692847"
     }
    },
    "outputId": "f84d6752-b442-4e9f-e14f-087ac7906cb7"
   },
   "source": [
    "import calendar\n",
    "{m: i for i, m in enumerate(calendar.month_abbr) if m}"
   ],
   "execution_count": 6,
   "outputs": [
    {
     "data": {
      "text/plain": "{'Jan': 1,\n 'Feb': 2,\n 'Mar': 3,\n 'Apr': 4,\n 'May': 5,\n 'Jun': 6,\n 'Jul': 7,\n 'Aug': 8,\n 'Sep': 9,\n 'Oct': 10,\n 'Nov': 11,\n 'Dec': 12}"
     },
     "execution_count": 6,
     "metadata": {},
     "output_type": "execute_result"
    }
   ]
  },
  {
   "cell_type": "code",
   "metadata": {
    "pycharm": {
     "name": "#%%\n"
    },
    "colab": {
     "base_uri": "https://localhost:8080/",
     "height": 456
    },
    "id": "sYRUe9GkEzGo",
    "executionInfo": {
     "status": "ok",
     "timestamp": 1608076460121,
     "user_tz": 300,
     "elapsed": 1806,
     "user": {
      "displayName": "Parvi Singh",
      "photoUrl": "",
      "userId": "15870809085498692847"
     }
    },
    "outputId": "181f73a3-e39f-408c-b5cb-f32dd6bfa986"
   },
   "source": [
    "def to_year(string):\n",
    "    return string.year\n",
    "\n",
    "def to_month(string):\n",
    "    return string.month\n",
    "df_new = df\n",
    "df_new['year'] = df['month'].apply(to_year)\n",
    "df_new['month'] = df['month'].apply(to_month)\n",
    "df_new"
   ],
   "execution_count": 7,
   "outputs": [
    {
     "data": {
      "text/plain": "       month          state   permit  permit_recheck  handgun  long_gun  \\\n0         11        Alabama  30694.0           561.0  27765.0   25924.0   \n1         11         Alaska     96.0             0.0   3474.0    3878.0   \n2         11        Arizona   7483.0          1172.0  25906.0   14698.0   \n3         11       Arkansas   4096.0           486.0  10069.0   12954.0   \n4         11     California  28797.0             0.0  56793.0   37256.0   \n...      ...            ...      ...             ...      ...       ...   \n14570     11       Virginia      0.0             NaN     14.0       2.0   \n14571     11     Washington      1.0             NaN     65.0     286.0   \n14572     11  West Virginia      3.0             NaN    149.0     251.0   \n14573     11      Wisconsin      0.0             NaN     25.0     214.0   \n14574     11        Wyoming      8.0             NaN     45.0      49.0   \n\n        other  multiple  admin  prepawn_handgun  ...  rentals_handgun  \\\n0      1931.0      1519    0.0             32.0  ...              0.0   \n1       461.0       301    0.0              1.0  ...              0.0   \n2      2157.0      1604    0.0              6.0  ...              0.0   \n3       599.0       505    5.0              8.0  ...              0.0   \n4      7391.0         0    0.0              0.0  ...              0.0   \n...       ...       ...    ...              ...  ...              ...   \n14570     NaN         8    0.0              NaN  ...              NaN   \n14571     NaN         8    1.0              NaN  ...              NaN   \n14572     NaN         5    0.0              NaN  ...              NaN   \n14573     NaN         2    0.0              NaN  ...              NaN   \n14574     NaN         5    0.0              NaN  ...              NaN   \n\n       rentals_long_gun  private_sale_handgun  private_sale_long_gun  \\\n0                   0.0                  42.0                   33.0   \n1                   0.0                  13.0                   20.0   \n2                   0.0                  18.0                   14.0   \n3                   0.0                   9.0                   14.0   \n4                   0.0                   0.0                    0.0   \n...                 ...                   ...                    ...   \n14570               NaN                   NaN                    NaN   \n14571               NaN                   NaN                    NaN   \n14572               NaN                   NaN                    NaN   \n14573               NaN                   NaN                    NaN   \n14574               NaN                   NaN                    NaN   \n\n       private_sale_other  return_to_seller_handgun  \\\n0                     9.0                       0.0   \n1                     1.0                       0.0   \n2                     0.0                       0.0   \n3                     1.0                       0.0   \n4                     0.0                       0.0   \n...                   ...                       ...   \n14570                 NaN                       NaN   \n14571                 NaN                       NaN   \n14572                 NaN                       NaN   \n14573                 NaN                       NaN   \n14574                 NaN                       NaN   \n\n       return_to_seller_long_gun  return_to_seller_other  totals  year  \n0                            1.0                     0.0   91839  2020  \n1                            0.0                     0.0    8510  2020  \n2                            0.0                     1.0   54444  2020  \n3                            0.0                     0.0   30770  2020  \n4                            0.0                     0.0  130793  2020  \n...                          ...                     ...     ...   ...  \n14570                        NaN                     NaN      24  1998  \n14571                        NaN                     NaN     361  1998  \n14572                        NaN                     NaN     408  1998  \n14573                        NaN                     NaN     241  1998  \n14574                        NaN                     NaN     107  1998  \n\n[14575 rows x 28 columns]",
      "text/html": "<div>\n<style scoped>\n    .dataframe tbody tr th:only-of-type {\n        vertical-align: middle;\n    }\n\n    .dataframe tbody tr th {\n        vertical-align: top;\n    }\n\n    .dataframe thead th {\n        text-align: right;\n    }\n</style>\n<table border=\"1\" class=\"dataframe\">\n  <thead>\n    <tr style=\"text-align: right;\">\n      <th></th>\n      <th>month</th>\n      <th>state</th>\n      <th>permit</th>\n      <th>permit_recheck</th>\n      <th>handgun</th>\n      <th>long_gun</th>\n      <th>other</th>\n      <th>multiple</th>\n      <th>admin</th>\n      <th>prepawn_handgun</th>\n      <th>...</th>\n      <th>rentals_handgun</th>\n      <th>rentals_long_gun</th>\n      <th>private_sale_handgun</th>\n      <th>private_sale_long_gun</th>\n      <th>private_sale_other</th>\n      <th>return_to_seller_handgun</th>\n      <th>return_to_seller_long_gun</th>\n      <th>return_to_seller_other</th>\n      <th>totals</th>\n      <th>year</th>\n    </tr>\n  </thead>\n  <tbody>\n    <tr>\n      <th>0</th>\n      <td>11</td>\n      <td>Alabama</td>\n      <td>30694.0</td>\n      <td>561.0</td>\n      <td>27765.0</td>\n      <td>25924.0</td>\n      <td>1931.0</td>\n      <td>1519</td>\n      <td>0.0</td>\n      <td>32.0</td>\n      <td>...</td>\n      <td>0.0</td>\n      <td>0.0</td>\n      <td>42.0</td>\n      <td>33.0</td>\n      <td>9.0</td>\n      <td>0.0</td>\n      <td>1.0</td>\n      <td>0.0</td>\n      <td>91839</td>\n      <td>2020</td>\n    </tr>\n    <tr>\n      <th>1</th>\n      <td>11</td>\n      <td>Alaska</td>\n      <td>96.0</td>\n      <td>0.0</td>\n      <td>3474.0</td>\n      <td>3878.0</td>\n      <td>461.0</td>\n      <td>301</td>\n      <td>0.0</td>\n      <td>1.0</td>\n      <td>...</td>\n      <td>0.0</td>\n      <td>0.0</td>\n      <td>13.0</td>\n      <td>20.0</td>\n      <td>1.0</td>\n      <td>0.0</td>\n      <td>0.0</td>\n      <td>0.0</td>\n      <td>8510</td>\n      <td>2020</td>\n    </tr>\n    <tr>\n      <th>2</th>\n      <td>11</td>\n      <td>Arizona</td>\n      <td>7483.0</td>\n      <td>1172.0</td>\n      <td>25906.0</td>\n      <td>14698.0</td>\n      <td>2157.0</td>\n      <td>1604</td>\n      <td>0.0</td>\n      <td>6.0</td>\n      <td>...</td>\n      <td>0.0</td>\n      <td>0.0</td>\n      <td>18.0</td>\n      <td>14.0</td>\n      <td>0.0</td>\n      <td>0.0</td>\n      <td>0.0</td>\n      <td>1.0</td>\n      <td>54444</td>\n      <td>2020</td>\n    </tr>\n    <tr>\n      <th>3</th>\n      <td>11</td>\n      <td>Arkansas</td>\n      <td>4096.0</td>\n      <td>486.0</td>\n      <td>10069.0</td>\n      <td>12954.0</td>\n      <td>599.0</td>\n      <td>505</td>\n      <td>5.0</td>\n      <td>8.0</td>\n      <td>...</td>\n      <td>0.0</td>\n      <td>0.0</td>\n      <td>9.0</td>\n      <td>14.0</td>\n      <td>1.0</td>\n      <td>0.0</td>\n      <td>0.0</td>\n      <td>0.0</td>\n      <td>30770</td>\n      <td>2020</td>\n    </tr>\n    <tr>\n      <th>4</th>\n      <td>11</td>\n      <td>California</td>\n      <td>28797.0</td>\n      <td>0.0</td>\n      <td>56793.0</td>\n      <td>37256.0</td>\n      <td>7391.0</td>\n      <td>0</td>\n      <td>0.0</td>\n      <td>0.0</td>\n      <td>...</td>\n      <td>0.0</td>\n      <td>0.0</td>\n      <td>0.0</td>\n      <td>0.0</td>\n      <td>0.0</td>\n      <td>0.0</td>\n      <td>0.0</td>\n      <td>0.0</td>\n      <td>130793</td>\n      <td>2020</td>\n    </tr>\n    <tr>\n      <th>...</th>\n      <td>...</td>\n      <td>...</td>\n      <td>...</td>\n      <td>...</td>\n      <td>...</td>\n      <td>...</td>\n      <td>...</td>\n      <td>...</td>\n      <td>...</td>\n      <td>...</td>\n      <td>...</td>\n      <td>...</td>\n      <td>...</td>\n      <td>...</td>\n      <td>...</td>\n      <td>...</td>\n      <td>...</td>\n      <td>...</td>\n      <td>...</td>\n      <td>...</td>\n      <td>...</td>\n    </tr>\n    <tr>\n      <th>14570</th>\n      <td>11</td>\n      <td>Virginia</td>\n      <td>0.0</td>\n      <td>NaN</td>\n      <td>14.0</td>\n      <td>2.0</td>\n      <td>NaN</td>\n      <td>8</td>\n      <td>0.0</td>\n      <td>NaN</td>\n      <td>...</td>\n      <td>NaN</td>\n      <td>NaN</td>\n      <td>NaN</td>\n      <td>NaN</td>\n      <td>NaN</td>\n      <td>NaN</td>\n      <td>NaN</td>\n      <td>NaN</td>\n      <td>24</td>\n      <td>1998</td>\n    </tr>\n    <tr>\n      <th>14571</th>\n      <td>11</td>\n      <td>Washington</td>\n      <td>1.0</td>\n      <td>NaN</td>\n      <td>65.0</td>\n      <td>286.0</td>\n      <td>NaN</td>\n      <td>8</td>\n      <td>1.0</td>\n      <td>NaN</td>\n      <td>...</td>\n      <td>NaN</td>\n      <td>NaN</td>\n      <td>NaN</td>\n      <td>NaN</td>\n      <td>NaN</td>\n      <td>NaN</td>\n      <td>NaN</td>\n      <td>NaN</td>\n      <td>361</td>\n      <td>1998</td>\n    </tr>\n    <tr>\n      <th>14572</th>\n      <td>11</td>\n      <td>West Virginia</td>\n      <td>3.0</td>\n      <td>NaN</td>\n      <td>149.0</td>\n      <td>251.0</td>\n      <td>NaN</td>\n      <td>5</td>\n      <td>0.0</td>\n      <td>NaN</td>\n      <td>...</td>\n      <td>NaN</td>\n      <td>NaN</td>\n      <td>NaN</td>\n      <td>NaN</td>\n      <td>NaN</td>\n      <td>NaN</td>\n      <td>NaN</td>\n      <td>NaN</td>\n      <td>408</td>\n      <td>1998</td>\n    </tr>\n    <tr>\n      <th>14573</th>\n      <td>11</td>\n      <td>Wisconsin</td>\n      <td>0.0</td>\n      <td>NaN</td>\n      <td>25.0</td>\n      <td>214.0</td>\n      <td>NaN</td>\n      <td>2</td>\n      <td>0.0</td>\n      <td>NaN</td>\n      <td>...</td>\n      <td>NaN</td>\n      <td>NaN</td>\n      <td>NaN</td>\n      <td>NaN</td>\n      <td>NaN</td>\n      <td>NaN</td>\n      <td>NaN</td>\n      <td>NaN</td>\n      <td>241</td>\n      <td>1998</td>\n    </tr>\n    <tr>\n      <th>14574</th>\n      <td>11</td>\n      <td>Wyoming</td>\n      <td>8.0</td>\n      <td>NaN</td>\n      <td>45.0</td>\n      <td>49.0</td>\n      <td>NaN</td>\n      <td>5</td>\n      <td>0.0</td>\n      <td>NaN</td>\n      <td>...</td>\n      <td>NaN</td>\n      <td>NaN</td>\n      <td>NaN</td>\n      <td>NaN</td>\n      <td>NaN</td>\n      <td>NaN</td>\n      <td>NaN</td>\n      <td>NaN</td>\n      <td>107</td>\n      <td>1998</td>\n    </tr>\n  </tbody>\n</table>\n<p>14575 rows × 28 columns</p>\n</div>"
     },
     "execution_count": 7,
     "metadata": {},
     "output_type": "execute_result"
    }
   ]
  },
  {
   "cell_type": "code",
   "metadata": {
    "pycharm": {
     "name": "#%%\n"
    },
    "colab": {
     "base_uri": "https://localhost:8080/"
    },
    "id": "ygPlRUwtEzGo",
    "executionInfo": {
     "status": "ok",
     "timestamp": 1608076460123,
     "user_tz": 300,
     "elapsed": 1791,
     "user": {
      "displayName": "Parvi Singh",
      "photoUrl": "",
      "userId": "15870809085498692847"
     }
    },
    "outputId": "088e7bbd-a40c-49c9-a978-e6dd0e355819"
   },
   "source": [
    "df_new.info()"
   ],
   "execution_count": 8,
   "outputs": [
    {
     "name": "stdout",
     "output_type": "stream",
     "text": [
      "<class 'pandas.core.frame.DataFrame'>\n",
      "RangeIndex: 14575 entries, 0 to 14574\n",
      "Data columns (total 28 columns):\n",
      " #   Column                     Non-Null Count  Dtype  \n",
      "---  ------                     --------------  -----  \n",
      " 0   month                      14575 non-null  int64  \n",
      " 1   state                      14575 non-null  object \n",
      " 2   permit                     14551 non-null  float64\n",
      " 3   permit_recheck             3190 non-null   float64\n",
      " 4   handgun                    14555 non-null  float64\n",
      " 5   long_gun                   14556 non-null  float64\n",
      " 6   other                      7590 non-null   float64\n",
      " 7   multiple                   14575 non-null  int64  \n",
      " 8   admin                      14552 non-null  float64\n",
      " 9   prepawn_handgun            12632 non-null  float64\n",
      " 10  prepawn_long_gun           12630 non-null  float64\n",
      " 11  prepawn_other              7205 non-null   float64\n",
      " 12  redemption_handgun         12635 non-null  float64\n",
      " 13  redemption_long_gun        12634 non-null  float64\n",
      " 14  redemption_other           7205 non-null   float64\n",
      " 15  returned_handgun           4290 non-null   float64\n",
      " 16  returned_long_gun          4235 non-null   float64\n",
      " 17  returned_other             3905 non-null   float64\n",
      " 18  rentals_handgun            3080 non-null   float64\n",
      " 19  rentals_long_gun           2915 non-null   float64\n",
      " 20  private_sale_handgun       4840 non-null   float64\n",
      " 21  private_sale_long_gun      4840 non-null   float64\n",
      " 22  private_sale_other         4840 non-null   float64\n",
      " 23  return_to_seller_handgun   4565 non-null   float64\n",
      " 24  return_to_seller_long_gun  4840 non-null   float64\n",
      " 25  return_to_seller_other     4345 non-null   float64\n",
      " 26  totals                     14575 non-null  int64  \n",
      " 27  year                       14575 non-null  int64  \n",
      "dtypes: float64(23), int64(4), object(1)\n",
      "memory usage: 3.1+ MB\n"
     ]
    }
   ]
  },
  {
   "cell_type": "code",
   "metadata": {
    "pycharm": {
     "name": "#%%\n"
    },
    "id": "KkLKIJJ1EzGo",
    "executionInfo": {
     "status": "ok",
     "timestamp": 1608076460125,
     "user_tz": 300,
     "elapsed": 1792,
     "user": {
      "displayName": "Parvi Singh",
      "photoUrl": "",
      "userId": "15870809085498692847"
     }
    }
   },
   "source": [
    "# create a list of columns\n",
    "column_list = df.columns.tolist()\n",
    "df_new = df_new[['year',\n",
    "    'month',\n",
    " 'state',\n",
    " 'permit',\n",
    " 'permit_recheck',\n",
    " 'handgun',\n",
    " 'long_gun',\n",
    " 'other',\n",
    " 'multiple',\n",
    " 'admin',\n",
    " 'prepawn_handgun',\n",
    " 'prepawn_long_gun',\n",
    " 'prepawn_other',\n",
    " 'redemption_handgun',\n",
    " 'redemption_long_gun',\n",
    " 'redemption_other',\n",
    " 'returned_handgun',\n",
    " 'returned_long_gun',\n",
    " 'returned_other',\n",
    " 'rentals_handgun',\n",
    " 'rentals_long_gun',\n",
    " 'private_sale_handgun',\n",
    " 'private_sale_long_gun',\n",
    " 'private_sale_other',\n",
    " 'return_to_seller_handgun',\n",
    " 'return_to_seller_long_gun',\n",
    " 'return_to_seller_other',\n",
    " 'totals']]"
   ],
   "execution_count": 9,
   "outputs": []
  },
  {
   "cell_type": "code",
   "metadata": {
    "pycharm": {
     "name": "#%%\n"
    },
    "colab": {
     "base_uri": "https://localhost:8080/",
     "height": 456
    },
    "id": "L5V9lYNIEzGo",
    "executionInfo": {
     "status": "ok",
     "timestamp": 1608076460127,
     "user_tz": 300,
     "elapsed": 1779,
     "user": {
      "displayName": "Parvi Singh",
      "photoUrl": "",
      "userId": "15870809085498692847"
     }
    },
    "outputId": "3277a7e7-247a-4b60-a1cb-589c23403940"
   },
   "source": [
    "df_new"
   ],
   "execution_count": 10,
   "outputs": [
    {
     "data": {
      "text/plain": "       year  month          state   permit  permit_recheck  handgun  long_gun  \\\n0      2020     11        Alabama  30694.0           561.0  27765.0   25924.0   \n1      2020     11         Alaska     96.0             0.0   3474.0    3878.0   \n2      2020     11        Arizona   7483.0          1172.0  25906.0   14698.0   \n3      2020     11       Arkansas   4096.0           486.0  10069.0   12954.0   \n4      2020     11     California  28797.0             0.0  56793.0   37256.0   \n...     ...    ...            ...      ...             ...      ...       ...   \n14570  1998     11       Virginia      0.0             NaN     14.0       2.0   \n14571  1998     11     Washington      1.0             NaN     65.0     286.0   \n14572  1998     11  West Virginia      3.0             NaN    149.0     251.0   \n14573  1998     11      Wisconsin      0.0             NaN     25.0     214.0   \n14574  1998     11        Wyoming      8.0             NaN     45.0      49.0   \n\n        other  multiple  admin  ...  returned_other  rentals_handgun  \\\n0      1931.0      1519    0.0  ...             0.0              0.0   \n1       461.0       301    0.0  ...             0.0              0.0   \n2      2157.0      1604    0.0  ...             1.0              0.0   \n3       599.0       505    5.0  ...             0.0              0.0   \n4      7391.0         0    0.0  ...             0.0              0.0   \n...       ...       ...    ...  ...             ...              ...   \n14570     NaN         8    0.0  ...             NaN              NaN   \n14571     NaN         8    1.0  ...             NaN              NaN   \n14572     NaN         5    0.0  ...             NaN              NaN   \n14573     NaN         2    0.0  ...             NaN              NaN   \n14574     NaN         5    0.0  ...             NaN              NaN   \n\n       rentals_long_gun  private_sale_handgun  private_sale_long_gun  \\\n0                   0.0                  42.0                   33.0   \n1                   0.0                  13.0                   20.0   \n2                   0.0                  18.0                   14.0   \n3                   0.0                   9.0                   14.0   \n4                   0.0                   0.0                    0.0   \n...                 ...                   ...                    ...   \n14570               NaN                   NaN                    NaN   \n14571               NaN                   NaN                    NaN   \n14572               NaN                   NaN                    NaN   \n14573               NaN                   NaN                    NaN   \n14574               NaN                   NaN                    NaN   \n\n       private_sale_other  return_to_seller_handgun  \\\n0                     9.0                       0.0   \n1                     1.0                       0.0   \n2                     0.0                       0.0   \n3                     1.0                       0.0   \n4                     0.0                       0.0   \n...                   ...                       ...   \n14570                 NaN                       NaN   \n14571                 NaN                       NaN   \n14572                 NaN                       NaN   \n14573                 NaN                       NaN   \n14574                 NaN                       NaN   \n\n       return_to_seller_long_gun  return_to_seller_other  totals  \n0                            1.0                     0.0   91839  \n1                            0.0                     0.0    8510  \n2                            0.0                     1.0   54444  \n3                            0.0                     0.0   30770  \n4                            0.0                     0.0  130793  \n...                          ...                     ...     ...  \n14570                        NaN                     NaN      24  \n14571                        NaN                     NaN     361  \n14572                        NaN                     NaN     408  \n14573                        NaN                     NaN     241  \n14574                        NaN                     NaN     107  \n\n[14575 rows x 28 columns]",
      "text/html": "<div>\n<style scoped>\n    .dataframe tbody tr th:only-of-type {\n        vertical-align: middle;\n    }\n\n    .dataframe tbody tr th {\n        vertical-align: top;\n    }\n\n    .dataframe thead th {\n        text-align: right;\n    }\n</style>\n<table border=\"1\" class=\"dataframe\">\n  <thead>\n    <tr style=\"text-align: right;\">\n      <th></th>\n      <th>year</th>\n      <th>month</th>\n      <th>state</th>\n      <th>permit</th>\n      <th>permit_recheck</th>\n      <th>handgun</th>\n      <th>long_gun</th>\n      <th>other</th>\n      <th>multiple</th>\n      <th>admin</th>\n      <th>...</th>\n      <th>returned_other</th>\n      <th>rentals_handgun</th>\n      <th>rentals_long_gun</th>\n      <th>private_sale_handgun</th>\n      <th>private_sale_long_gun</th>\n      <th>private_sale_other</th>\n      <th>return_to_seller_handgun</th>\n      <th>return_to_seller_long_gun</th>\n      <th>return_to_seller_other</th>\n      <th>totals</th>\n    </tr>\n  </thead>\n  <tbody>\n    <tr>\n      <th>0</th>\n      <td>2020</td>\n      <td>11</td>\n      <td>Alabama</td>\n      <td>30694.0</td>\n      <td>561.0</td>\n      <td>27765.0</td>\n      <td>25924.0</td>\n      <td>1931.0</td>\n      <td>1519</td>\n      <td>0.0</td>\n      <td>...</td>\n      <td>0.0</td>\n      <td>0.0</td>\n      <td>0.0</td>\n      <td>42.0</td>\n      <td>33.0</td>\n      <td>9.0</td>\n      <td>0.0</td>\n      <td>1.0</td>\n      <td>0.0</td>\n      <td>91839</td>\n    </tr>\n    <tr>\n      <th>1</th>\n      <td>2020</td>\n      <td>11</td>\n      <td>Alaska</td>\n      <td>96.0</td>\n      <td>0.0</td>\n      <td>3474.0</td>\n      <td>3878.0</td>\n      <td>461.0</td>\n      <td>301</td>\n      <td>0.0</td>\n      <td>...</td>\n      <td>0.0</td>\n      <td>0.0</td>\n      <td>0.0</td>\n      <td>13.0</td>\n      <td>20.0</td>\n      <td>1.0</td>\n      <td>0.0</td>\n      <td>0.0</td>\n      <td>0.0</td>\n      <td>8510</td>\n    </tr>\n    <tr>\n      <th>2</th>\n      <td>2020</td>\n      <td>11</td>\n      <td>Arizona</td>\n      <td>7483.0</td>\n      <td>1172.0</td>\n      <td>25906.0</td>\n      <td>14698.0</td>\n      <td>2157.0</td>\n      <td>1604</td>\n      <td>0.0</td>\n      <td>...</td>\n      <td>1.0</td>\n      <td>0.0</td>\n      <td>0.0</td>\n      <td>18.0</td>\n      <td>14.0</td>\n      <td>0.0</td>\n      <td>0.0</td>\n      <td>0.0</td>\n      <td>1.0</td>\n      <td>54444</td>\n    </tr>\n    <tr>\n      <th>3</th>\n      <td>2020</td>\n      <td>11</td>\n      <td>Arkansas</td>\n      <td>4096.0</td>\n      <td>486.0</td>\n      <td>10069.0</td>\n      <td>12954.0</td>\n      <td>599.0</td>\n      <td>505</td>\n      <td>5.0</td>\n      <td>...</td>\n      <td>0.0</td>\n      <td>0.0</td>\n      <td>0.0</td>\n      <td>9.0</td>\n      <td>14.0</td>\n      <td>1.0</td>\n      <td>0.0</td>\n      <td>0.0</td>\n      <td>0.0</td>\n      <td>30770</td>\n    </tr>\n    <tr>\n      <th>4</th>\n      <td>2020</td>\n      <td>11</td>\n      <td>California</td>\n      <td>28797.0</td>\n      <td>0.0</td>\n      <td>56793.0</td>\n      <td>37256.0</td>\n      <td>7391.0</td>\n      <td>0</td>\n      <td>0.0</td>\n      <td>...</td>\n      <td>0.0</td>\n      <td>0.0</td>\n      <td>0.0</td>\n      <td>0.0</td>\n      <td>0.0</td>\n      <td>0.0</td>\n      <td>0.0</td>\n      <td>0.0</td>\n      <td>0.0</td>\n      <td>130793</td>\n    </tr>\n    <tr>\n      <th>...</th>\n      <td>...</td>\n      <td>...</td>\n      <td>...</td>\n      <td>...</td>\n      <td>...</td>\n      <td>...</td>\n      <td>...</td>\n      <td>...</td>\n      <td>...</td>\n      <td>...</td>\n      <td>...</td>\n      <td>...</td>\n      <td>...</td>\n      <td>...</td>\n      <td>...</td>\n      <td>...</td>\n      <td>...</td>\n      <td>...</td>\n      <td>...</td>\n      <td>...</td>\n      <td>...</td>\n    </tr>\n    <tr>\n      <th>14570</th>\n      <td>1998</td>\n      <td>11</td>\n      <td>Virginia</td>\n      <td>0.0</td>\n      <td>NaN</td>\n      <td>14.0</td>\n      <td>2.0</td>\n      <td>NaN</td>\n      <td>8</td>\n      <td>0.0</td>\n      <td>...</td>\n      <td>NaN</td>\n      <td>NaN</td>\n      <td>NaN</td>\n      <td>NaN</td>\n      <td>NaN</td>\n      <td>NaN</td>\n      <td>NaN</td>\n      <td>NaN</td>\n      <td>NaN</td>\n      <td>24</td>\n    </tr>\n    <tr>\n      <th>14571</th>\n      <td>1998</td>\n      <td>11</td>\n      <td>Washington</td>\n      <td>1.0</td>\n      <td>NaN</td>\n      <td>65.0</td>\n      <td>286.0</td>\n      <td>NaN</td>\n      <td>8</td>\n      <td>1.0</td>\n      <td>...</td>\n      <td>NaN</td>\n      <td>NaN</td>\n      <td>NaN</td>\n      <td>NaN</td>\n      <td>NaN</td>\n      <td>NaN</td>\n      <td>NaN</td>\n      <td>NaN</td>\n      <td>NaN</td>\n      <td>361</td>\n    </tr>\n    <tr>\n      <th>14572</th>\n      <td>1998</td>\n      <td>11</td>\n      <td>West Virginia</td>\n      <td>3.0</td>\n      <td>NaN</td>\n      <td>149.0</td>\n      <td>251.0</td>\n      <td>NaN</td>\n      <td>5</td>\n      <td>0.0</td>\n      <td>...</td>\n      <td>NaN</td>\n      <td>NaN</td>\n      <td>NaN</td>\n      <td>NaN</td>\n      <td>NaN</td>\n      <td>NaN</td>\n      <td>NaN</td>\n      <td>NaN</td>\n      <td>NaN</td>\n      <td>408</td>\n    </tr>\n    <tr>\n      <th>14573</th>\n      <td>1998</td>\n      <td>11</td>\n      <td>Wisconsin</td>\n      <td>0.0</td>\n      <td>NaN</td>\n      <td>25.0</td>\n      <td>214.0</td>\n      <td>NaN</td>\n      <td>2</td>\n      <td>0.0</td>\n      <td>...</td>\n      <td>NaN</td>\n      <td>NaN</td>\n      <td>NaN</td>\n      <td>NaN</td>\n      <td>NaN</td>\n      <td>NaN</td>\n      <td>NaN</td>\n      <td>NaN</td>\n      <td>NaN</td>\n      <td>241</td>\n    </tr>\n    <tr>\n      <th>14574</th>\n      <td>1998</td>\n      <td>11</td>\n      <td>Wyoming</td>\n      <td>8.0</td>\n      <td>NaN</td>\n      <td>45.0</td>\n      <td>49.0</td>\n      <td>NaN</td>\n      <td>5</td>\n      <td>0.0</td>\n      <td>...</td>\n      <td>NaN</td>\n      <td>NaN</td>\n      <td>NaN</td>\n      <td>NaN</td>\n      <td>NaN</td>\n      <td>NaN</td>\n      <td>NaN</td>\n      <td>NaN</td>\n      <td>NaN</td>\n      <td>107</td>\n    </tr>\n  </tbody>\n</table>\n<p>14575 rows × 28 columns</p>\n</div>"
     },
     "execution_count": 10,
     "metadata": {},
     "output_type": "execute_result"
    }
   ]
  },
  {
   "cell_type": "code",
   "metadata": {
    "pycharm": {
     "name": "#%%\n"
    },
    "id": "xElfnjwdEzGo",
    "executionInfo": {
     "status": "ok",
     "timestamp": 1608076460365,
     "user_tz": 300,
     "elapsed": 2012,
     "user": {
      "displayName": "Parvi Singh",
      "photoUrl": "",
      "userId": "15870809085498692847"
     }
    }
   },
   "source": [
    "# change the month from integer to string\n",
    "import calendar\n",
    "\n",
    "def month_int_to_str(integer):\n",
    "    return calendar.month_name[integer]\n",
    "\n",
    "df_new['month'] = df_new['month'].apply(month_int_to_str)"
   ],
   "execution_count": 11,
   "outputs": []
  },
  {
   "cell_type": "code",
   "metadata": {
    "pycharm": {
     "name": "#%%\n"
    },
    "colab": {
     "base_uri": "https://localhost:8080/",
     "height": 419
    },
    "id": "tN4PoDvSEzGo",
    "executionInfo": {
     "status": "ok",
     "timestamp": 1608076460367,
     "user_tz": 300,
     "elapsed": 2000,
     "user": {
      "displayName": "Parvi Singh",
      "photoUrl": "",
      "userId": "15870809085498692847"
     }
    },
    "outputId": "1c328663-f3d7-49ee-cc37-3ebba3585887"
   },
   "source": [
    "df_new_pivot_2020 = df_new[['year', 'month', 'state', 'totals']]\n",
    "\n",
    "df_new_pivot_2020 = df_new_pivot_2020[df_new_pivot_2020['year'] == 2020]\n",
    "# df_new_pivot_2019\n",
    "df_new_pivot_2020 = df_new_pivot_2020[['state', 'totals','year', 'month']]\n",
    "df_new_pivot_2020"
   ],
   "execution_count": 12,
   "outputs": [
    {
     "data": {
      "text/plain": "             state  totals  year     month\n0          Alabama   91839  2020  November\n1           Alaska    8510  2020  November\n2          Arizona   54444  2020  November\n3         Arkansas   30770  2020  November\n4       California  130793  2020  November\n..             ...     ...   ...       ...\n600       Virginia   68420  2020   January\n601     Washington   49714  2020   January\n602  West Virginia   17974  2020   January\n603      Wisconsin   38349  2020   January\n604        Wyoming    4984  2020   January\n\n[605 rows x 4 columns]",
      "text/html": "<div>\n<style scoped>\n    .dataframe tbody tr th:only-of-type {\n        vertical-align: middle;\n    }\n\n    .dataframe tbody tr th {\n        vertical-align: top;\n    }\n\n    .dataframe thead th {\n        text-align: right;\n    }\n</style>\n<table border=\"1\" class=\"dataframe\">\n  <thead>\n    <tr style=\"text-align: right;\">\n      <th></th>\n      <th>state</th>\n      <th>totals</th>\n      <th>year</th>\n      <th>month</th>\n    </tr>\n  </thead>\n  <tbody>\n    <tr>\n      <th>0</th>\n      <td>Alabama</td>\n      <td>91839</td>\n      <td>2020</td>\n      <td>November</td>\n    </tr>\n    <tr>\n      <th>1</th>\n      <td>Alaska</td>\n      <td>8510</td>\n      <td>2020</td>\n      <td>November</td>\n    </tr>\n    <tr>\n      <th>2</th>\n      <td>Arizona</td>\n      <td>54444</td>\n      <td>2020</td>\n      <td>November</td>\n    </tr>\n    <tr>\n      <th>3</th>\n      <td>Arkansas</td>\n      <td>30770</td>\n      <td>2020</td>\n      <td>November</td>\n    </tr>\n    <tr>\n      <th>4</th>\n      <td>California</td>\n      <td>130793</td>\n      <td>2020</td>\n      <td>November</td>\n    </tr>\n    <tr>\n      <th>...</th>\n      <td>...</td>\n      <td>...</td>\n      <td>...</td>\n      <td>...</td>\n    </tr>\n    <tr>\n      <th>600</th>\n      <td>Virginia</td>\n      <td>68420</td>\n      <td>2020</td>\n      <td>January</td>\n    </tr>\n    <tr>\n      <th>601</th>\n      <td>Washington</td>\n      <td>49714</td>\n      <td>2020</td>\n      <td>January</td>\n    </tr>\n    <tr>\n      <th>602</th>\n      <td>West Virginia</td>\n      <td>17974</td>\n      <td>2020</td>\n      <td>January</td>\n    </tr>\n    <tr>\n      <th>603</th>\n      <td>Wisconsin</td>\n      <td>38349</td>\n      <td>2020</td>\n      <td>January</td>\n    </tr>\n    <tr>\n      <th>604</th>\n      <td>Wyoming</td>\n      <td>4984</td>\n      <td>2020</td>\n      <td>January</td>\n    </tr>\n  </tbody>\n</table>\n<p>605 rows × 4 columns</p>\n</div>"
     },
     "execution_count": 12,
     "metadata": {},
     "output_type": "execute_result"
    }
   ]
  },
  {
   "cell_type": "code",
   "metadata": {
    "pycharm": {
     "name": "#%%\n"
    },
    "id": "9bihi1I_EzGo",
    "executionInfo": {
     "status": "ok",
     "timestamp": 1608076460368,
     "user_tz": 300,
     "elapsed": 1996,
     "user": {
      "displayName": "Parvi Singh",
      "photoUrl": "",
      "userId": "15870809085498692847"
     }
    }
   },
   "source": [
    "# converting the df_new dataframe to a pivot but\n",
    "# this does not work since it has a lot of NaN values\n",
    "# therefore commenting this section out.\n",
    "# df_new_pivot = df_new.pivot(index=['year', 'state'], columns='month', values= 'totals')\n",
    "# df_new_pivot\n",
    "# df_new_pivot.dropna()\n",
    "## plotting the heatmap from 1999-2020 (not good)\n",
    "# import seaborn as sns\n",
    "# ax = sns.heatmap(df_new_pivot)\n",
    "# plt.bar(df_new_pivot)"
   ],
   "execution_count": 13,
   "outputs": []
  },
  {
   "cell_type": "code",
   "metadata": {
    "pycharm": {
     "name": "#%%\n"
    },
    "colab": {
     "base_uri": "https://localhost:8080/",
     "height": 1000
    },
    "id": "E_cSWDijEzGo",
    "executionInfo": {
     "status": "ok",
     "timestamp": 1608076460369,
     "user_tz": 300,
     "elapsed": 1981,
     "user": {
      "displayName": "Parvi Singh",
      "photoUrl": "",
      "userId": "15870809085498692847"
     }
    },
    "outputId": "932baa95-8cda-4b55-ad6d-a4564264d971"
   },
   "source": [
    "df_new_pivot_2020_pivot = df_new_pivot_2020.pivot(index='state', columns='month', values= 'totals')\n",
    "df_new_pivot_2020_pivot\n",
    "# #get the list of columns to sort the columns properly\n",
    "df_new_pivot_2020_pivot.columns.tolist()\n",
    "df_new_pivot_2020_pivot = df_new_pivot_2020_pivot[['January','February','March','April','May','June','July','August',\n",
    " 'September','October']]\n",
    "df_new_pivot_2020_pivot"
   ],
   "execution_count": 14,
   "outputs": [
    {
     "data": {
      "text/plain": "month                 January  February   March   April     May    June  \\\nstate                                                                     \nAlabama                 79332     75336   92652   70748   80519  139873   \nAlaska                   4706      5466    9939    8560    8883    9060   \nArizona                 33224     37100   82771   59986   51098   74055   \nArkansas                19126     21445   31651   30575   25917   30792   \nCalifornia              96567     95430  164497  122999  110823  158349   \nColorado                42133     40549   77305   52249   49967   66038   \nConnecticut             15695     16851   23103   12986   10935   18215   \nDelaware                 4482      4321    8123    5701    4858    8225   \nDistrict of Columbia      666       551     692     552     538     897   \nFlorida                110019    116238  192234  128670  115815  210415   \nGeorgia                 52557     54250   84601   52299   63658  106541   \nGuam                      229       245     271     222     334     391   \nHawaii                   1182      1264    1843    1818    1494    1660   \nIdaho                   16541     18476   30989   21747   21863   28744   \nIllinois               612411    620067  645109  632564  661470  706404   \nIndiana                 80283     85107  129016   88276   92156  141947   \nIowa                    22600     20889   24652   26108   17359   24450   \nKansas                  15578     17535   29816   18994   20044   22817   \nKentucky               367301    398247  235305  205536  394969  395188   \nLouisiana               23686     24696   42015   31559   32565   44903   \nMaine                    7400      7966   14627   11589   10674   12090   \nMariana Islands            26        15       5       9      13      17   \nMaryland                13961     15005   29414   20963   18282   25932   \nMassachusetts           18235     18525   23579    7934   16371   24165   \nMichigan                47110     47557  107492   53914   78813  110604   \nMinnesota               56561     61603   96654   75099   70553   86100   \nMississippi             20420     24788   33583   29581   29067   36894   \nMissouri                43596     48705   76262   58011   57221   67609   \nMontana                  9499     10448   16885   14690   14809   16018   \nNebraska                 7021      6616   11154    7517    5502    9080   \nNevada                  11074     13069   22236   18621   17987   24146   \nNew Hampshire           10856     10549   22466   14935   12817   16371   \nNew Jersey               8313      8548   10922    9072    9681   13578   \nNew Mexico              13095     15076   24571   13216   17442   20850   \nNew York                32390     31863   59787   27035   26764   52252   \nNorth Carolina          53819     52252   83077   67465   61155   90593   \nNorth Dakota             4866      5498    9136    6803    6179    7747   \nOhio                    55784     63156  114086   68812   69739   97568   \nOklahoma                31908     34408   50194   42054   36214   44095   \nOregon                  31752     33430   59115   44816   41224   47918   \nPennsylvania            88224     93240  125013   76134   87752  151738   \nPuerto Rico              1911      1819     862      97    1524    3533   \nRhode Island             2701      2597    6169    3988    3232    5332   \nSouth Carolina          30365     36085   50953   39327   42137   55636   \nSouth Dakota             7002      7962   11332    8487    7379    9844   \nTennessee               53382     57867   88458   77829   95314  103807   \nTexas                  129176    142928  274211  197343  179192  227232   \nUtah                    80856     83113  101382   96612   89255   96050   \nVermont                  3052      3642    7023    5618    4973    4920   \nVirgin Islands            149        71     122      49      34     150   \nVirginia                68420     67257   83675   64835   58898   84124   \nWashington              49714     48418   75529   57202   53922   73517   \nWest Virginia           17974     20942   26346   22429   21549   24389   \nWisconsin               38349     41799   77811   55375   49535   68738   \nWyoming                  4984      5500    8847    8566    6272    7901   \n\nmonth                   July  August  September  October  \nstate                                                     \nAlabama               107490   85347      80478    80934  \nAlaska                 10108    9363       7897     7564  \nArizona                60330   54095      51287    52521  \nArkansas               27647   23980      24043    27177  \nCalifornia            149685  145797     139313   151359  \nColorado               59666   57388      54479    59132  \nConnecticut            19494   17534      20091    21481  \nDelaware                6935    6367       6381     7430  \nDistrict of Columbia     898    1541       1469     1507  \nFlorida               190975  167138     154982   175783  \nGeorgia                96979   75656      72354    77979  \nGuam                     385     256        254      354  \nHawaii                  1841    1623       1536     2113  \nIdaho                  23392   19797      22515    24014  \nIllinois              714424  587224     421030   473595  \nIndiana               176861  206454     203253   227056  \nIowa                   19035   17660      19871    22738  \nKansas                 20532   18687      17660    19430  \nKentucky              292534   39157      36139   181425  \nLouisiana              42103   32594      33496    35224  \nMaine                  10688   10576      12747    14836  \nMariana Islands           21      16         30       28  \nMaryland               26326   27273      30948    33842  \nMassachusetts          23816   24176      26145    27772  \nMichigan              109466  102703     101789   108742  \nMinnesota              79160   83801      86830    95792  \nMississippi            35159   31482      25757    27815  \nMissouri               60576   53388      52222    58729  \nMontana                13741   13882      14808    15414  \nNebraska                8913    8606       9145     9068  \nNevada                 21769   19831      16097    18838  \nNew Hampshire          13743   12934      13429    15340  \nNew Jersey             14414   16954      20811    21495  \nNew Mexico             17525   16672      15923    16739  \nNew York               44795   42443      45684    50434  \nNorth Carolina         82831   77846      74810    81490  \nNorth Dakota            6731    7060       7362     8115  \nOhio                   86125   80387      76519    85170  \nOklahoma               38922   34218      34288    35083  \nOregon                 41314   40503      40282    44350  \nPennsylvania          142966  131205     134626   145680  \nPuerto Rico             2908    3152       3227     4595  \nRhode Island            4303    4235       4666     5178  \nSouth Carolina         46905   41169      41395    47060  \nSouth Dakota            8612    9280       9707    11563  \nTennessee              99943   77894      73612    79718  \nTexas                 213969  188091     178136   192162  \nUtah                  100294  131552     114600   119117  \nVermont                 4466    4345       4645     5214  \nVirgin Islands           260      62         92      222  \nVirginia               71082   62251      56930    67233  \nWashington             71472   66713      67228    71759  \nWest Virginia          22194   19728      19251    21199  \nWisconsin              59871   65771      68257    72837  \nWyoming                 7598    7370       7427     7464  ",
      "text/html": "<div>\n<style scoped>\n    .dataframe tbody tr th:only-of-type {\n        vertical-align: middle;\n    }\n\n    .dataframe tbody tr th {\n        vertical-align: top;\n    }\n\n    .dataframe thead th {\n        text-align: right;\n    }\n</style>\n<table border=\"1\" class=\"dataframe\">\n  <thead>\n    <tr style=\"text-align: right;\">\n      <th>month</th>\n      <th>January</th>\n      <th>February</th>\n      <th>March</th>\n      <th>April</th>\n      <th>May</th>\n      <th>June</th>\n      <th>July</th>\n      <th>August</th>\n      <th>September</th>\n      <th>October</th>\n    </tr>\n    <tr>\n      <th>state</th>\n      <th></th>\n      <th></th>\n      <th></th>\n      <th></th>\n      <th></th>\n      <th></th>\n      <th></th>\n      <th></th>\n      <th></th>\n      <th></th>\n    </tr>\n  </thead>\n  <tbody>\n    <tr>\n      <th>Alabama</th>\n      <td>79332</td>\n      <td>75336</td>\n      <td>92652</td>\n      <td>70748</td>\n      <td>80519</td>\n      <td>139873</td>\n      <td>107490</td>\n      <td>85347</td>\n      <td>80478</td>\n      <td>80934</td>\n    </tr>\n    <tr>\n      <th>Alaska</th>\n      <td>4706</td>\n      <td>5466</td>\n      <td>9939</td>\n      <td>8560</td>\n      <td>8883</td>\n      <td>9060</td>\n      <td>10108</td>\n      <td>9363</td>\n      <td>7897</td>\n      <td>7564</td>\n    </tr>\n    <tr>\n      <th>Arizona</th>\n      <td>33224</td>\n      <td>37100</td>\n      <td>82771</td>\n      <td>59986</td>\n      <td>51098</td>\n      <td>74055</td>\n      <td>60330</td>\n      <td>54095</td>\n      <td>51287</td>\n      <td>52521</td>\n    </tr>\n    <tr>\n      <th>Arkansas</th>\n      <td>19126</td>\n      <td>21445</td>\n      <td>31651</td>\n      <td>30575</td>\n      <td>25917</td>\n      <td>30792</td>\n      <td>27647</td>\n      <td>23980</td>\n      <td>24043</td>\n      <td>27177</td>\n    </tr>\n    <tr>\n      <th>California</th>\n      <td>96567</td>\n      <td>95430</td>\n      <td>164497</td>\n      <td>122999</td>\n      <td>110823</td>\n      <td>158349</td>\n      <td>149685</td>\n      <td>145797</td>\n      <td>139313</td>\n      <td>151359</td>\n    </tr>\n    <tr>\n      <th>Colorado</th>\n      <td>42133</td>\n      <td>40549</td>\n      <td>77305</td>\n      <td>52249</td>\n      <td>49967</td>\n      <td>66038</td>\n      <td>59666</td>\n      <td>57388</td>\n      <td>54479</td>\n      <td>59132</td>\n    </tr>\n    <tr>\n      <th>Connecticut</th>\n      <td>15695</td>\n      <td>16851</td>\n      <td>23103</td>\n      <td>12986</td>\n      <td>10935</td>\n      <td>18215</td>\n      <td>19494</td>\n      <td>17534</td>\n      <td>20091</td>\n      <td>21481</td>\n    </tr>\n    <tr>\n      <th>Delaware</th>\n      <td>4482</td>\n      <td>4321</td>\n      <td>8123</td>\n      <td>5701</td>\n      <td>4858</td>\n      <td>8225</td>\n      <td>6935</td>\n      <td>6367</td>\n      <td>6381</td>\n      <td>7430</td>\n    </tr>\n    <tr>\n      <th>District of Columbia</th>\n      <td>666</td>\n      <td>551</td>\n      <td>692</td>\n      <td>552</td>\n      <td>538</td>\n      <td>897</td>\n      <td>898</td>\n      <td>1541</td>\n      <td>1469</td>\n      <td>1507</td>\n    </tr>\n    <tr>\n      <th>Florida</th>\n      <td>110019</td>\n      <td>116238</td>\n      <td>192234</td>\n      <td>128670</td>\n      <td>115815</td>\n      <td>210415</td>\n      <td>190975</td>\n      <td>167138</td>\n      <td>154982</td>\n      <td>175783</td>\n    </tr>\n    <tr>\n      <th>Georgia</th>\n      <td>52557</td>\n      <td>54250</td>\n      <td>84601</td>\n      <td>52299</td>\n      <td>63658</td>\n      <td>106541</td>\n      <td>96979</td>\n      <td>75656</td>\n      <td>72354</td>\n      <td>77979</td>\n    </tr>\n    <tr>\n      <th>Guam</th>\n      <td>229</td>\n      <td>245</td>\n      <td>271</td>\n      <td>222</td>\n      <td>334</td>\n      <td>391</td>\n      <td>385</td>\n      <td>256</td>\n      <td>254</td>\n      <td>354</td>\n    </tr>\n    <tr>\n      <th>Hawaii</th>\n      <td>1182</td>\n      <td>1264</td>\n      <td>1843</td>\n      <td>1818</td>\n      <td>1494</td>\n      <td>1660</td>\n      <td>1841</td>\n      <td>1623</td>\n      <td>1536</td>\n      <td>2113</td>\n    </tr>\n    <tr>\n      <th>Idaho</th>\n      <td>16541</td>\n      <td>18476</td>\n      <td>30989</td>\n      <td>21747</td>\n      <td>21863</td>\n      <td>28744</td>\n      <td>23392</td>\n      <td>19797</td>\n      <td>22515</td>\n      <td>24014</td>\n    </tr>\n    <tr>\n      <th>Illinois</th>\n      <td>612411</td>\n      <td>620067</td>\n      <td>645109</td>\n      <td>632564</td>\n      <td>661470</td>\n      <td>706404</td>\n      <td>714424</td>\n      <td>587224</td>\n      <td>421030</td>\n      <td>473595</td>\n    </tr>\n    <tr>\n      <th>Indiana</th>\n      <td>80283</td>\n      <td>85107</td>\n      <td>129016</td>\n      <td>88276</td>\n      <td>92156</td>\n      <td>141947</td>\n      <td>176861</td>\n      <td>206454</td>\n      <td>203253</td>\n      <td>227056</td>\n    </tr>\n    <tr>\n      <th>Iowa</th>\n      <td>22600</td>\n      <td>20889</td>\n      <td>24652</td>\n      <td>26108</td>\n      <td>17359</td>\n      <td>24450</td>\n      <td>19035</td>\n      <td>17660</td>\n      <td>19871</td>\n      <td>22738</td>\n    </tr>\n    <tr>\n      <th>Kansas</th>\n      <td>15578</td>\n      <td>17535</td>\n      <td>29816</td>\n      <td>18994</td>\n      <td>20044</td>\n      <td>22817</td>\n      <td>20532</td>\n      <td>18687</td>\n      <td>17660</td>\n      <td>19430</td>\n    </tr>\n    <tr>\n      <th>Kentucky</th>\n      <td>367301</td>\n      <td>398247</td>\n      <td>235305</td>\n      <td>205536</td>\n      <td>394969</td>\n      <td>395188</td>\n      <td>292534</td>\n      <td>39157</td>\n      <td>36139</td>\n      <td>181425</td>\n    </tr>\n    <tr>\n      <th>Louisiana</th>\n      <td>23686</td>\n      <td>24696</td>\n      <td>42015</td>\n      <td>31559</td>\n      <td>32565</td>\n      <td>44903</td>\n      <td>42103</td>\n      <td>32594</td>\n      <td>33496</td>\n      <td>35224</td>\n    </tr>\n    <tr>\n      <th>Maine</th>\n      <td>7400</td>\n      <td>7966</td>\n      <td>14627</td>\n      <td>11589</td>\n      <td>10674</td>\n      <td>12090</td>\n      <td>10688</td>\n      <td>10576</td>\n      <td>12747</td>\n      <td>14836</td>\n    </tr>\n    <tr>\n      <th>Mariana Islands</th>\n      <td>26</td>\n      <td>15</td>\n      <td>5</td>\n      <td>9</td>\n      <td>13</td>\n      <td>17</td>\n      <td>21</td>\n      <td>16</td>\n      <td>30</td>\n      <td>28</td>\n    </tr>\n    <tr>\n      <th>Maryland</th>\n      <td>13961</td>\n      <td>15005</td>\n      <td>29414</td>\n      <td>20963</td>\n      <td>18282</td>\n      <td>25932</td>\n      <td>26326</td>\n      <td>27273</td>\n      <td>30948</td>\n      <td>33842</td>\n    </tr>\n    <tr>\n      <th>Massachusetts</th>\n      <td>18235</td>\n      <td>18525</td>\n      <td>23579</td>\n      <td>7934</td>\n      <td>16371</td>\n      <td>24165</td>\n      <td>23816</td>\n      <td>24176</td>\n      <td>26145</td>\n      <td>27772</td>\n    </tr>\n    <tr>\n      <th>Michigan</th>\n      <td>47110</td>\n      <td>47557</td>\n      <td>107492</td>\n      <td>53914</td>\n      <td>78813</td>\n      <td>110604</td>\n      <td>109466</td>\n      <td>102703</td>\n      <td>101789</td>\n      <td>108742</td>\n    </tr>\n    <tr>\n      <th>Minnesota</th>\n      <td>56561</td>\n      <td>61603</td>\n      <td>96654</td>\n      <td>75099</td>\n      <td>70553</td>\n      <td>86100</td>\n      <td>79160</td>\n      <td>83801</td>\n      <td>86830</td>\n      <td>95792</td>\n    </tr>\n    <tr>\n      <th>Mississippi</th>\n      <td>20420</td>\n      <td>24788</td>\n      <td>33583</td>\n      <td>29581</td>\n      <td>29067</td>\n      <td>36894</td>\n      <td>35159</td>\n      <td>31482</td>\n      <td>25757</td>\n      <td>27815</td>\n    </tr>\n    <tr>\n      <th>Missouri</th>\n      <td>43596</td>\n      <td>48705</td>\n      <td>76262</td>\n      <td>58011</td>\n      <td>57221</td>\n      <td>67609</td>\n      <td>60576</td>\n      <td>53388</td>\n      <td>52222</td>\n      <td>58729</td>\n    </tr>\n    <tr>\n      <th>Montana</th>\n      <td>9499</td>\n      <td>10448</td>\n      <td>16885</td>\n      <td>14690</td>\n      <td>14809</td>\n      <td>16018</td>\n      <td>13741</td>\n      <td>13882</td>\n      <td>14808</td>\n      <td>15414</td>\n    </tr>\n    <tr>\n      <th>Nebraska</th>\n      <td>7021</td>\n      <td>6616</td>\n      <td>11154</td>\n      <td>7517</td>\n      <td>5502</td>\n      <td>9080</td>\n      <td>8913</td>\n      <td>8606</td>\n      <td>9145</td>\n      <td>9068</td>\n    </tr>\n    <tr>\n      <th>Nevada</th>\n      <td>11074</td>\n      <td>13069</td>\n      <td>22236</td>\n      <td>18621</td>\n      <td>17987</td>\n      <td>24146</td>\n      <td>21769</td>\n      <td>19831</td>\n      <td>16097</td>\n      <td>18838</td>\n    </tr>\n    <tr>\n      <th>New Hampshire</th>\n      <td>10856</td>\n      <td>10549</td>\n      <td>22466</td>\n      <td>14935</td>\n      <td>12817</td>\n      <td>16371</td>\n      <td>13743</td>\n      <td>12934</td>\n      <td>13429</td>\n      <td>15340</td>\n    </tr>\n    <tr>\n      <th>New Jersey</th>\n      <td>8313</td>\n      <td>8548</td>\n      <td>10922</td>\n      <td>9072</td>\n      <td>9681</td>\n      <td>13578</td>\n      <td>14414</td>\n      <td>16954</td>\n      <td>20811</td>\n      <td>21495</td>\n    </tr>\n    <tr>\n      <th>New Mexico</th>\n      <td>13095</td>\n      <td>15076</td>\n      <td>24571</td>\n      <td>13216</td>\n      <td>17442</td>\n      <td>20850</td>\n      <td>17525</td>\n      <td>16672</td>\n      <td>15923</td>\n      <td>16739</td>\n    </tr>\n    <tr>\n      <th>New York</th>\n      <td>32390</td>\n      <td>31863</td>\n      <td>59787</td>\n      <td>27035</td>\n      <td>26764</td>\n      <td>52252</td>\n      <td>44795</td>\n      <td>42443</td>\n      <td>45684</td>\n      <td>50434</td>\n    </tr>\n    <tr>\n      <th>North Carolina</th>\n      <td>53819</td>\n      <td>52252</td>\n      <td>83077</td>\n      <td>67465</td>\n      <td>61155</td>\n      <td>90593</td>\n      <td>82831</td>\n      <td>77846</td>\n      <td>74810</td>\n      <td>81490</td>\n    </tr>\n    <tr>\n      <th>North Dakota</th>\n      <td>4866</td>\n      <td>5498</td>\n      <td>9136</td>\n      <td>6803</td>\n      <td>6179</td>\n      <td>7747</td>\n      <td>6731</td>\n      <td>7060</td>\n      <td>7362</td>\n      <td>8115</td>\n    </tr>\n    <tr>\n      <th>Ohio</th>\n      <td>55784</td>\n      <td>63156</td>\n      <td>114086</td>\n      <td>68812</td>\n      <td>69739</td>\n      <td>97568</td>\n      <td>86125</td>\n      <td>80387</td>\n      <td>76519</td>\n      <td>85170</td>\n    </tr>\n    <tr>\n      <th>Oklahoma</th>\n      <td>31908</td>\n      <td>34408</td>\n      <td>50194</td>\n      <td>42054</td>\n      <td>36214</td>\n      <td>44095</td>\n      <td>38922</td>\n      <td>34218</td>\n      <td>34288</td>\n      <td>35083</td>\n    </tr>\n    <tr>\n      <th>Oregon</th>\n      <td>31752</td>\n      <td>33430</td>\n      <td>59115</td>\n      <td>44816</td>\n      <td>41224</td>\n      <td>47918</td>\n      <td>41314</td>\n      <td>40503</td>\n      <td>40282</td>\n      <td>44350</td>\n    </tr>\n    <tr>\n      <th>Pennsylvania</th>\n      <td>88224</td>\n      <td>93240</td>\n      <td>125013</td>\n      <td>76134</td>\n      <td>87752</td>\n      <td>151738</td>\n      <td>142966</td>\n      <td>131205</td>\n      <td>134626</td>\n      <td>145680</td>\n    </tr>\n    <tr>\n      <th>Puerto Rico</th>\n      <td>1911</td>\n      <td>1819</td>\n      <td>862</td>\n      <td>97</td>\n      <td>1524</td>\n      <td>3533</td>\n      <td>2908</td>\n      <td>3152</td>\n      <td>3227</td>\n      <td>4595</td>\n    </tr>\n    <tr>\n      <th>Rhode Island</th>\n      <td>2701</td>\n      <td>2597</td>\n      <td>6169</td>\n      <td>3988</td>\n      <td>3232</td>\n      <td>5332</td>\n      <td>4303</td>\n      <td>4235</td>\n      <td>4666</td>\n      <td>5178</td>\n    </tr>\n    <tr>\n      <th>South Carolina</th>\n      <td>30365</td>\n      <td>36085</td>\n      <td>50953</td>\n      <td>39327</td>\n      <td>42137</td>\n      <td>55636</td>\n      <td>46905</td>\n      <td>41169</td>\n      <td>41395</td>\n      <td>47060</td>\n    </tr>\n    <tr>\n      <th>South Dakota</th>\n      <td>7002</td>\n      <td>7962</td>\n      <td>11332</td>\n      <td>8487</td>\n      <td>7379</td>\n      <td>9844</td>\n      <td>8612</td>\n      <td>9280</td>\n      <td>9707</td>\n      <td>11563</td>\n    </tr>\n    <tr>\n      <th>Tennessee</th>\n      <td>53382</td>\n      <td>57867</td>\n      <td>88458</td>\n      <td>77829</td>\n      <td>95314</td>\n      <td>103807</td>\n      <td>99943</td>\n      <td>77894</td>\n      <td>73612</td>\n      <td>79718</td>\n    </tr>\n    <tr>\n      <th>Texas</th>\n      <td>129176</td>\n      <td>142928</td>\n      <td>274211</td>\n      <td>197343</td>\n      <td>179192</td>\n      <td>227232</td>\n      <td>213969</td>\n      <td>188091</td>\n      <td>178136</td>\n      <td>192162</td>\n    </tr>\n    <tr>\n      <th>Utah</th>\n      <td>80856</td>\n      <td>83113</td>\n      <td>101382</td>\n      <td>96612</td>\n      <td>89255</td>\n      <td>96050</td>\n      <td>100294</td>\n      <td>131552</td>\n      <td>114600</td>\n      <td>119117</td>\n    </tr>\n    <tr>\n      <th>Vermont</th>\n      <td>3052</td>\n      <td>3642</td>\n      <td>7023</td>\n      <td>5618</td>\n      <td>4973</td>\n      <td>4920</td>\n      <td>4466</td>\n      <td>4345</td>\n      <td>4645</td>\n      <td>5214</td>\n    </tr>\n    <tr>\n      <th>Virgin Islands</th>\n      <td>149</td>\n      <td>71</td>\n      <td>122</td>\n      <td>49</td>\n      <td>34</td>\n      <td>150</td>\n      <td>260</td>\n      <td>62</td>\n      <td>92</td>\n      <td>222</td>\n    </tr>\n    <tr>\n      <th>Virginia</th>\n      <td>68420</td>\n      <td>67257</td>\n      <td>83675</td>\n      <td>64835</td>\n      <td>58898</td>\n      <td>84124</td>\n      <td>71082</td>\n      <td>62251</td>\n      <td>56930</td>\n      <td>67233</td>\n    </tr>\n    <tr>\n      <th>Washington</th>\n      <td>49714</td>\n      <td>48418</td>\n      <td>75529</td>\n      <td>57202</td>\n      <td>53922</td>\n      <td>73517</td>\n      <td>71472</td>\n      <td>66713</td>\n      <td>67228</td>\n      <td>71759</td>\n    </tr>\n    <tr>\n      <th>West Virginia</th>\n      <td>17974</td>\n      <td>20942</td>\n      <td>26346</td>\n      <td>22429</td>\n      <td>21549</td>\n      <td>24389</td>\n      <td>22194</td>\n      <td>19728</td>\n      <td>19251</td>\n      <td>21199</td>\n    </tr>\n    <tr>\n      <th>Wisconsin</th>\n      <td>38349</td>\n      <td>41799</td>\n      <td>77811</td>\n      <td>55375</td>\n      <td>49535</td>\n      <td>68738</td>\n      <td>59871</td>\n      <td>65771</td>\n      <td>68257</td>\n      <td>72837</td>\n    </tr>\n    <tr>\n      <th>Wyoming</th>\n      <td>4984</td>\n      <td>5500</td>\n      <td>8847</td>\n      <td>8566</td>\n      <td>6272</td>\n      <td>7901</td>\n      <td>7598</td>\n      <td>7370</td>\n      <td>7427</td>\n      <td>7464</td>\n    </tr>\n  </tbody>\n</table>\n</div>"
     },
     "execution_count": 14,
     "metadata": {},
     "output_type": "execute_result"
    }
   ]
  },
  {
   "cell_type": "code",
   "metadata": {
    "pycharm": {
     "name": "#%%\n"
    },
    "id": "1-pRF0KNEzGo",
    "executionInfo": {
     "status": "ok",
     "timestamp": 1608076461011,
     "user_tz": 300,
     "elapsed": 2604,
     "user": {
      "displayName": "Parvi Singh",
      "photoUrl": "",
      "userId": "15870809085498692847"
     }
    }
   },
   "source": [
    "df_new_pivot_2020_pivot\n",
    "fig, ax = plt.subplots(figsize = (20, 20))\n",
    "ax = sns.heatmap(df_new_pivot_2020_pivot)"
   ],
   "execution_count": 15,
   "outputs": [
    {
     "data": {
      "text/plain": "<Figure size 1440x1440 with 2 Axes>",
      "image/png": "[encoded data removed]"
     },
     "metadata": {
      "needs_background": "light"
     },
     "output_type": "display_data"
    }
   ]
  },
  {
   "cell_type": "code",
   "metadata": {
    "pycharm": {
     "name": "#%%\n"
    },
    "id": "kTpm3tHvEzGo",
    "executionInfo": {
     "status": "ok",
     "timestamp": 1608076461018,
     "user_tz": 300,
     "elapsed": 2605,
     "user": {
      "displayName": "Parvi Singh",
      "photoUrl": "",
      "userId": "15870809085498692847"
     }
    }
   },
   "source": [
    "# df_new_pivot_2020_pivot['total'] = 0\n",
    "# df_new_pivot_2020_pivot['total'] = df_new_pivot_2020_pivot.iloc[:,-11:-1].sum(axis = 1)\n",
    "# to bring the index back as a column\n",
    "# df_new_pivot_2020_pivot = df_new_pivot_2020_pivot.reset_index()"
   ],
   "execution_count": 16,
   "outputs": []
  },
  {
   "cell_type": "code",
   "execution_count": 19,
   "outputs": [
    {
     "name": "stdout",
     "output_type": "stream",
     "text": [
      "<class 'pandas.core.frame.DataFrame'>\n",
      "Index: 55 entries, Alabama to Wyoming\n",
      "Data columns (total 11 columns):\n",
      " #   Column     Non-Null Count  Dtype\n",
      "---  ------     --------------  -----\n",
      " 0   January    55 non-null     int64\n",
      " 1   February   55 non-null     int64\n",
      " 2   March      55 non-null     int64\n",
      " 3   April      55 non-null     int64\n",
      " 4   May        55 non-null     int64\n",
      " 5   June       55 non-null     int64\n",
      " 6   July       55 non-null     int64\n",
      " 7   August     55 non-null     int64\n",
      " 8   September  55 non-null     int64\n",
      " 9   October    55 non-null     int64\n",
      " 10  total      55 non-null     int64\n",
      "dtypes: int64(11)\n",
      "memory usage: 5.2+ KB\n"
     ]
    }
   ],
   "source": [
    "df_new_pivot_2020_pivot.info()"
   ],
   "metadata": {
    "collapsed": false,
    "pycharm": {
     "name": "#%%\n"
    }
   }
  },
  {
   "cell_type": "code",
   "metadata": {
    "pycharm": {
     "name": "#%%\n"
    },
    "colab": {
     "base_uri": "https://localhost:8080/",
     "height": 231
    },
    "id": "nB-DAVcAEzGo",
    "executionInfo": {
     "status": "error",
     "timestamp": 1608076461301,
     "user_tz": 300,
     "elapsed": 2873,
     "user": {
      "displayName": "Parvi Singh",
      "photoUrl": "",
      "userId": "15870809085498692847"
     }
    },
    "outputId": "7ed92bbf-f5fb-426d-f803-31b85ce2d3b6"
   },
   "source": [
    "# #plotting histogram\n",
    "# fig, ax1 = plt.subplots(figsize = (10, 10))\n",
    "# ax1.hist(df_new_pivot_2019['totals'], bins=100)\n",
    "# ax1.plot()\n",
    "\n",
    "#plotting bar plot to see the states annual buying\n",
    "fig, ax1 = plt.subplots(figsize = (30, 30))\n",
    "sns.set_theme(style='whitegrid')\n",
    "ax = sns.barplot(x = df_new_pivot_2020_pivot['state'], y = df_new_pivot_2020_pivot['total'])\n",
    "# rotating the states names to display more beautifully\n",
    "plt.xticks(rotation = 90)\n",
    "# adding a new dashed line to set a threshold of arms buying\n",
    "ax.axhline(100000, ls='--')\n",
    "plt.show()\n"
   ],
   "execution_count": 20,
   "outputs": [
    {
     "ename": "KeyError",
     "evalue": "'state'",
     "output_type": "error",
     "traceback": [
      "\u001B[0;31m---------------------------------------------------------------------------\u001B[0m",
      "\u001B[0;31mKeyError\u001B[0m                                  Traceback (most recent call last)",
      "\u001B[0;32m~/opt/anaconda3/lib/python3.8/site-packages/pandas/core/indexes/base.py\u001B[0m in \u001B[0;36mget_loc\u001B[0;34m(self, key, method, tolerance)\u001B[0m\n\u001B[1;32m   2894\u001B[0m             \u001B[0;32mtry\u001B[0m\u001B[0;34m:\u001B[0m\u001B[0;34m\u001B[0m\u001B[0;34m\u001B[0m\u001B[0m\n\u001B[0;32m-> 2895\u001B[0;31m                 \u001B[0;32mreturn\u001B[0m \u001B[0mself\u001B[0m\u001B[0;34m.\u001B[0m\u001B[0m_engine\u001B[0m\u001B[0;34m.\u001B[0m\u001B[0mget_loc\u001B[0m\u001B[0;34m(\u001B[0m\u001B[0mcasted_key\u001B[0m\u001B[0;34m)\u001B[0m\u001B[0;34m\u001B[0m\u001B[0;34m\u001B[0m\u001B[0m\n\u001B[0m\u001B[1;32m   2896\u001B[0m             \u001B[0;32mexcept\u001B[0m \u001B[0mKeyError\u001B[0m \u001B[0;32mas\u001B[0m \u001B[0merr\u001B[0m\u001B[0;34m:\u001B[0m\u001B[0;34m\u001B[0m\u001B[0;34m\u001B[0m\u001B[0m\n",
      "\u001B[0;32mpandas/_libs/index.pyx\u001B[0m in \u001B[0;36mpandas._libs.index.IndexEngine.get_loc\u001B[0;34m()\u001B[0m\n",
      "\u001B[0;32mpandas/_libs/index.pyx\u001B[0m in \u001B[0;36mpandas._libs.index.IndexEngine.get_loc\u001B[0;34m()\u001B[0m\n",
      "\u001B[0;32mpandas/_libs/hashtable_class_helper.pxi\u001B[0m in \u001B[0;36mpandas._libs.hashtable.PyObjectHashTable.get_item\u001B[0;34m()\u001B[0m\n",
      "\u001B[0;32mpandas/_libs/hashtable_class_helper.pxi\u001B[0m in \u001B[0;36mpandas._libs.hashtable.PyObjectHashTable.get_item\u001B[0;34m()\u001B[0m\n",
      "\u001B[0;31mKeyError\u001B[0m: 'state'",
      "\nThe above exception was the direct cause of the following exception:\n",
      "\u001B[0;31mKeyError\u001B[0m                                  Traceback (most recent call last)",
      "\u001B[0;32m<ipython-input-20-73ae050b2a7e>\u001B[0m in \u001B[0;36m<module>\u001B[0;34m\u001B[0m\n\u001B[1;32m      7\u001B[0m \u001B[0mfig\u001B[0m\u001B[0;34m,\u001B[0m \u001B[0max1\u001B[0m \u001B[0;34m=\u001B[0m \u001B[0mplt\u001B[0m\u001B[0;34m.\u001B[0m\u001B[0msubplots\u001B[0m\u001B[0;34m(\u001B[0m\u001B[0mfigsize\u001B[0m \u001B[0;34m=\u001B[0m \u001B[0;34m(\u001B[0m\u001B[0;36m30\u001B[0m\u001B[0;34m,\u001B[0m \u001B[0;36m30\u001B[0m\u001B[0;34m)\u001B[0m\u001B[0;34m)\u001B[0m\u001B[0;34m\u001B[0m\u001B[0;34m\u001B[0m\u001B[0m\n\u001B[1;32m      8\u001B[0m \u001B[0msns\u001B[0m\u001B[0;34m.\u001B[0m\u001B[0mset_theme\u001B[0m\u001B[0;34m(\u001B[0m\u001B[0mstyle\u001B[0m\u001B[0;34m=\u001B[0m\u001B[0;34m'whitegrid'\u001B[0m\u001B[0;34m)\u001B[0m\u001B[0;34m\u001B[0m\u001B[0;34m\u001B[0m\u001B[0m\n\u001B[0;32m----> 9\u001B[0;31m \u001B[0max\u001B[0m \u001B[0;34m=\u001B[0m \u001B[0msns\u001B[0m\u001B[0;34m.\u001B[0m\u001B[0mbarplot\u001B[0m\u001B[0;34m(\u001B[0m\u001B[0mx\u001B[0m \u001B[0;34m=\u001B[0m \u001B[0mdf_new_pivot_2020_pivot\u001B[0m\u001B[0;34m[\u001B[0m\u001B[0;34m'state'\u001B[0m\u001B[0;34m]\u001B[0m\u001B[0;34m,\u001B[0m \u001B[0my\u001B[0m \u001B[0;34m=\u001B[0m \u001B[0mdf_new_pivot_2020_pivot\u001B[0m\u001B[0;34m[\u001B[0m\u001B[0;34m'total'\u001B[0m\u001B[0;34m]\u001B[0m\u001B[0;34m)\u001B[0m\u001B[0;34m\u001B[0m\u001B[0;34m\u001B[0m\u001B[0m\n\u001B[0m\u001B[1;32m     10\u001B[0m \u001B[0;31m# rotating the states names to display more beautifully\u001B[0m\u001B[0;34m\u001B[0m\u001B[0;34m\u001B[0m\u001B[0;34m\u001B[0m\u001B[0m\n\u001B[1;32m     11\u001B[0m \u001B[0mplt\u001B[0m\u001B[0;34m.\u001B[0m\u001B[0mxticks\u001B[0m\u001B[0;34m(\u001B[0m\u001B[0mrotation\u001B[0m \u001B[0;34m=\u001B[0m \u001B[0;36m90\u001B[0m\u001B[0;34m)\u001B[0m\u001B[0;34m\u001B[0m\u001B[0;34m\u001B[0m\u001B[0m\n",
      "\u001B[0;32m~/opt/anaconda3/lib/python3.8/site-packages/pandas/core/frame.py\u001B[0m in \u001B[0;36m__getitem__\u001B[0;34m(self, key)\u001B[0m\n\u001B[1;32m   2900\u001B[0m             \u001B[0;32mif\u001B[0m \u001B[0mself\u001B[0m\u001B[0;34m.\u001B[0m\u001B[0mcolumns\u001B[0m\u001B[0;34m.\u001B[0m\u001B[0mnlevels\u001B[0m \u001B[0;34m>\u001B[0m \u001B[0;36m1\u001B[0m\u001B[0;34m:\u001B[0m\u001B[0;34m\u001B[0m\u001B[0;34m\u001B[0m\u001B[0m\n\u001B[1;32m   2901\u001B[0m                 \u001B[0;32mreturn\u001B[0m \u001B[0mself\u001B[0m\u001B[0;34m.\u001B[0m\u001B[0m_getitem_multilevel\u001B[0m\u001B[0;34m(\u001B[0m\u001B[0mkey\u001B[0m\u001B[0;34m)\u001B[0m\u001B[0;34m\u001B[0m\u001B[0;34m\u001B[0m\u001B[0m\n\u001B[0;32m-> 2902\u001B[0;31m             \u001B[0mindexer\u001B[0m \u001B[0;34m=\u001B[0m \u001B[0mself\u001B[0m\u001B[0;34m.\u001B[0m\u001B[0mcolumns\u001B[0m\u001B[0;34m.\u001B[0m\u001B[0mget_loc\u001B[0m\u001B[0;34m(\u001B[0m\u001B[0mkey\u001B[0m\u001B[0;34m)\u001B[0m\u001B[0;34m\u001B[0m\u001B[0;34m\u001B[0m\u001B[0m\n\u001B[0m\u001B[1;32m   2903\u001B[0m             \u001B[0;32mif\u001B[0m \u001B[0mis_integer\u001B[0m\u001B[0;34m(\u001B[0m\u001B[0mindexer\u001B[0m\u001B[0;34m)\u001B[0m\u001B[0;34m:\u001B[0m\u001B[0;34m\u001B[0m\u001B[0;34m\u001B[0m\u001B[0m\n\u001B[1;32m   2904\u001B[0m                 \u001B[0mindexer\u001B[0m \u001B[0;34m=\u001B[0m \u001B[0;34m[\u001B[0m\u001B[0mindexer\u001B[0m\u001B[0;34m]\u001B[0m\u001B[0;34m\u001B[0m\u001B[0;34m\u001B[0m\u001B[0m\n",
      "\u001B[0;32m~/opt/anaconda3/lib/python3.8/site-packages/pandas/core/indexes/base.py\u001B[0m in \u001B[0;36mget_loc\u001B[0;34m(self, key, method, tolerance)\u001B[0m\n\u001B[1;32m   2895\u001B[0m                 \u001B[0;32mreturn\u001B[0m \u001B[0mself\u001B[0m\u001B[0;34m.\u001B[0m\u001B[0m_engine\u001B[0m\u001B[0;34m.\u001B[0m\u001B[0mget_loc\u001B[0m\u001B[0;34m(\u001B[0m\u001B[0mcasted_key\u001B[0m\u001B[0;34m)\u001B[0m\u001B[0;34m\u001B[0m\u001B[0;34m\u001B[0m\u001B[0m\n\u001B[1;32m   2896\u001B[0m             \u001B[0;32mexcept\u001B[0m \u001B[0mKeyError\u001B[0m \u001B[0;32mas\u001B[0m \u001B[0merr\u001B[0m\u001B[0;34m:\u001B[0m\u001B[0;34m\u001B[0m\u001B[0;34m\u001B[0m\u001B[0m\n\u001B[0;32m-> 2897\u001B[0;31m                 \u001B[0;32mraise\u001B[0m \u001B[0mKeyError\u001B[0m\u001B[0;34m(\u001B[0m\u001B[0mkey\u001B[0m\u001B[0;34m)\u001B[0m \u001B[0;32mfrom\u001B[0m \u001B[0merr\u001B[0m\u001B[0;34m\u001B[0m\u001B[0;34m\u001B[0m\u001B[0m\n\u001B[0m\u001B[1;32m   2898\u001B[0m \u001B[0;34m\u001B[0m\u001B[0m\n\u001B[1;32m   2899\u001B[0m         \u001B[0;32mif\u001B[0m \u001B[0mtolerance\u001B[0m \u001B[0;32mis\u001B[0m \u001B[0;32mnot\u001B[0m \u001B[0;32mNone\u001B[0m\u001B[0;34m:\u001B[0m\u001B[0;34m\u001B[0m\u001B[0;34m\u001B[0m\u001B[0m\n",
      "\u001B[0;31mKeyError\u001B[0m: 'state'"
     ]
    },
    {
     "data": {
      "text/plain": "<Figure size 2160x2160 with 1 Axes>",
      "image/png": "[encoded data removed]"
     },
     "metadata": {},
     "output_type": "display_data"
    }
   ]
  },
  {
   "cell_type": "code",
   "metadata": {
    "pycharm": {
     "name": "#%%\n"
    },
    "id": "ntE115zpEzGo",
    "executionInfo": {
     "status": "aborted",
     "timestamp": 1608076461292,
     "user_tz": 300,
     "elapsed": 2860,
     "user": {
      "displayName": "Parvi Singh",
      "photoUrl": "",
      "userId": "15870809085498692847"
     }
    }
   },
   "source": [
    "#filtering the top 20 states only to help with the values"
   ],
   "execution_count": null,
   "outputs": []
  },
  {
   "cell_type": "code",
   "metadata": {
    "id": "i1daMcENFEBi",
    "executionInfo": {
     "status": "aborted",
     "timestamp": 1608076461294,
     "user_tz": 300,
     "elapsed": 2847,
     "user": {
      "displayName": "Parvi Singh",
      "photoUrl": "",
      "userId": "15870809085498692847"
     }
    }
   },
   "source": [
    "import plotly.express as px\n",
    "\n",
    "df_new"
   ],
   "execution_count": null,
   "outputs": []
  },
  {
   "cell_type": "code",
   "metadata": {
    "id": "m8Q7oeaFFjPC",
    "executionInfo": {
     "status": "aborted",
     "timestamp": 1608076461296,
     "user_tz": 300,
     "elapsed": 2833,
     "user": {
      "displayName": "Parvi Singh",
      "photoUrl": "",
      "userId": "15870809085498692847"
     }
    }
   },
   "source": [
    "url2 = 'https://raw.githubusercontent.com/plotly/datasets/master/2011_us_ag_exports.csv'\n",
    "df_2 = pd.read_csv(url2)\n",
    "\n",
    "df_2 = df_2[['code', 'state']]\n",
    "final = pd.merge(df_new, df_2, on = 'state')\n",
    "final"
   ],
   "execution_count": null,
   "outputs": []
  },
  {
   "cell_type": "code",
   "metadata": {
    "id": "lu4vOG-yGQf8",
    "executionInfo": {
     "status": "aborted",
     "timestamp": 1608076461297,
     "user_tz": 300,
     "elapsed": 2829,
     "user": {
      "displayName": "Parvi Singh",
      "photoUrl": "",
      "userId": "15870809085498692847"
     }
    }
   },
   "source": [
    "final.sort_values(by = ['year'], ascending= True, inplace= True)"
   ],
   "execution_count": null,
   "outputs": []
  },
  {
   "cell_type": "code",
   "metadata": {
    "id": "VDosW4dzFNiF",
    "executionInfo": {
     "status": "aborted",
     "timestamp": 1608076461299,
     "user_tz": 300,
     "elapsed": 2816,
     "user": {
      "displayName": "Parvi Singh",
      "photoUrl": "",
      "userId": "15870809085498692847"
     }
    }
   },
   "source": [
    "fig = px.choropleth(final,locations='code',color = 'totals',animation_frame= 'year', color_continuous_scale='Inferno', locationmode='USA-states', scope = 'usa', title = 'Guns by State', height = 600)\n",
    "fig.show()"
   ],
   "execution_count": null,
   "outputs": []
  },
  {
   "cell_type": "code",
   "metadata": {
    "id": "_c0_2fWbG-Qn",
    "executionInfo": {
     "status": "aborted",
     "timestamp": 1608076461300,
     "user_tz": 300,
     "elapsed": 2811,
     "user": {
      "displayName": "Parvi Singh",
      "photoUrl": "",
      "userId": "15870809085498692847"
     }
    }
   },
   "source": [
    "import chart_studio\n",
    "username = 'ParviSingh' # your username\n",
    "api_key = 'DnzTYZDKcRkOHSePo4kQ' # your api key - go to profile > settings > regenerate key\n",
    "chart_studio.tools.set_credentials_file(username=username, api_key=api_key)\n"
   ],
   "execution_count": null,
   "outputs": []
  },
  {
   "cell_type": "code",
   "metadata": {
    "pycharm": {
     "name": "#%%\n"
    },
    "id": "MOes8HEebpyw",
    "outputId": "d68d15c5-5ba3-4fb9-fa5c-a0dbf3e44b16"
   },
   "source": [
    "import chart_studio.plotly as py\n",
    "py.plot(fig, filename= 'Gun_Sales_US_annual', auto_open=True)"
   ],
   "execution_count": null,
   "outputs": []
  },
  {
   "cell_type": "code",
   "metadata": {
    "pycharm": {
     "name": "#%%\n"
    },
    "id": "Mewfkdpvbpyy",
    "outputId": "b5d859ef-b4d4-4198-b2f7-60582f12f1f9"
   },
   "source": [
    "'''<iframe width=\"900\" height=\"800\" frameborder=\"0\" scrolling=\"no\" src=\"//plotly.com/~ParviSingh/1.embed\"></iframe>'''"
   ],
   "execution_count": null,
   "outputs": []
  },
  {
   "cell_type": "code",
   "metadata": {
    "pycharm": {
     "name": "#%%\n"
    },
    "id": "8KLnWT5pbpy1"
   },
   "source": [
    "import plotly.io as pio\n",
    "\n",
    "pio.write_html(fig, file='figure.html', auto_open=True)"
   ],
   "execution_count": null,
   "outputs": []
  },
  {
   "cell_type": "code",
   "metadata": {
    "pycharm": {
     "name": "#%%\n"
    },
    "id": "PBkIP18xbpy2"
   },
   "source": [
    ""
   ],
   "execution_count": null,
   "outputs": []
  }
 ]
}