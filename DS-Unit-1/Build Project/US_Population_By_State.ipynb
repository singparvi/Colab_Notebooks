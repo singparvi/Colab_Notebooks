{
 "nbformat": 4,
 "nbformat_minor": 0,
 "metadata": {
  "colab": {
   "name": "US_Population_By_State.ipynb",
   "provenance": [],
   "authorship_tag": "ABX9TyPMcpoF5UBPCcH5pbbixmUo"
  },
  "kernelspec": {
   "name": "pycharm-16554a3c",
   "language": "python",
   "display_name": "PyCharm (Colab Notebooks)"
  }
 },
 "cells": [
  {
   "cell_type": "code",
   "metadata": {
    "colab": {
     "base_uri": "https://localhost:8080/",
     "height": 407
    },
    "id": "erJVSmwDkoZs",
    "executionInfo": {
     "status": "ok",
     "timestamp": 1608266171724,
     "user_tz": 300,
     "elapsed": 702,
     "user": {
      "displayName": "Parvi Singh",
      "photoUrl": "",
      "userId": "15870809085498692847"
     }
    },
    "outputId": "6708fdf0-9ab7-452e-ccca-ba01549f4be7"
   },
   "source": [
    "import pandas as pd\r\n",
    "# data from https://github.com/datasets/population\r\n",
    "data = pd.read_csv('https://raw.githubusercontent.com/singparvi/data-USstates/master/state-population.csv')\r\n",
    "data.columns = ['state', 'ages', 'year', 'population']\r\n",
    "data"
   ],
   "execution_count": 1,
   "outputs": [
    {
     "data": {
      "text/plain": "     state     ages  year   population\n0       AL  under18  2012    1117489.0\n1       AL    total  2012    4817528.0\n2       AL  under18  2010    1130966.0\n3       AL    total  2010    4785570.0\n4       AL  under18  2011    1125763.0\n...    ...      ...   ...          ...\n2539   USA    total  2010  309326295.0\n2540   USA  under18  2011   73902222.0\n2541   USA    total  2011  311582564.0\n2542   USA  under18  2012   73708179.0\n2543   USA    total  2012  313873685.0\n\n[2544 rows x 4 columns]",
      "text/html": "<div>\n<style scoped>\n    .dataframe tbody tr th:only-of-type {\n        vertical-align: middle;\n    }\n\n    .dataframe tbody tr th {\n        vertical-align: top;\n    }\n\n    .dataframe thead th {\n        text-align: right;\n    }\n</style>\n<table border=\"1\" class=\"dataframe\">\n  <thead>\n    <tr style=\"text-align: right;\">\n      <th></th>\n      <th>state</th>\n      <th>ages</th>\n      <th>year</th>\n      <th>population</th>\n    </tr>\n  </thead>\n  <tbody>\n    <tr>\n      <th>0</th>\n      <td>AL</td>\n      <td>under18</td>\n      <td>2012</td>\n      <td>1117489.0</td>\n    </tr>\n    <tr>\n      <th>1</th>\n      <td>AL</td>\n      <td>total</td>\n      <td>2012</td>\n      <td>4817528.0</td>\n    </tr>\n    <tr>\n      <th>2</th>\n      <td>AL</td>\n      <td>under18</td>\n      <td>2010</td>\n      <td>1130966.0</td>\n    </tr>\n    <tr>\n      <th>3</th>\n      <td>AL</td>\n      <td>total</td>\n      <td>2010</td>\n      <td>4785570.0</td>\n    </tr>\n    <tr>\n      <th>4</th>\n      <td>AL</td>\n      <td>under18</td>\n      <td>2011</td>\n      <td>1125763.0</td>\n    </tr>\n    <tr>\n      <th>...</th>\n      <td>...</td>\n      <td>...</td>\n      <td>...</td>\n      <td>...</td>\n    </tr>\n    <tr>\n      <th>2539</th>\n      <td>USA</td>\n      <td>total</td>\n      <td>2010</td>\n      <td>309326295.0</td>\n    </tr>\n    <tr>\n      <th>2540</th>\n      <td>USA</td>\n      <td>under18</td>\n      <td>2011</td>\n      <td>73902222.0</td>\n    </tr>\n    <tr>\n      <th>2541</th>\n      <td>USA</td>\n      <td>total</td>\n      <td>2011</td>\n      <td>311582564.0</td>\n    </tr>\n    <tr>\n      <th>2542</th>\n      <td>USA</td>\n      <td>under18</td>\n      <td>2012</td>\n      <td>73708179.0</td>\n    </tr>\n    <tr>\n      <th>2543</th>\n      <td>USA</td>\n      <td>total</td>\n      <td>2012</td>\n      <td>313873685.0</td>\n    </tr>\n  </tbody>\n</table>\n<p>2544 rows × 4 columns</p>\n</div>"
     },
     "execution_count": 1,
     "metadata": {},
     "output_type": "execute_result"
    }
   ]
  },
  {
   "cell_type": "code",
   "metadata": {
    "colab": {
     "base_uri": "https://localhost:8080/",
     "height": 407
    },
    "id": "1AwPxI-Jkz5q",
    "executionInfo": {
     "status": "ok",
     "timestamp": 1608266171725,
     "user_tz": 300,
     "elapsed": 691,
     "user": {
      "displayName": "Parvi Singh",
      "photoUrl": "",
      "userId": "15870809085498692847"
     }
    },
    "outputId": "d3b59a21-3e43-4029-d34f-99f38b10ad88"
   },
   "source": [
    "data = data[data.ages != 'under18']\r\n",
    "data = data[data.state != 'USA']\r\n",
    "data.shape\r\n",
    "data"
   ],
   "execution_count": 2,
   "outputs": [
    {
     "data": {
      "text/plain": "     state   ages  year  population\n1       AL  total  2012   4817528.0\n3       AL  total  2010   4785570.0\n5       AL  total  2011   4801627.0\n6       AL  total  2009   4757938.0\n9       AL  total  2013   4833722.0\n...    ...    ...   ...         ...\n2487    PR  total  2013   3615086.0\n2488    PR  total  2009   3740410.0\n2490    PR  total  2010   3721208.0\n2493    PR  total  2011   3686580.0\n2495    PR  total  2012   3651545.0\n\n[1248 rows x 4 columns]",
      "text/html": "<div>\n<style scoped>\n    .dataframe tbody tr th:only-of-type {\n        vertical-align: middle;\n    }\n\n    .dataframe tbody tr th {\n        vertical-align: top;\n    }\n\n    .dataframe thead th {\n        text-align: right;\n    }\n</style>\n<table border=\"1\" class=\"dataframe\">\n  <thead>\n    <tr style=\"text-align: right;\">\n      <th></th>\n      <th>state</th>\n      <th>ages</th>\n      <th>year</th>\n      <th>population</th>\n    </tr>\n  </thead>\n  <tbody>\n    <tr>\n      <th>1</th>\n      <td>AL</td>\n      <td>total</td>\n      <td>2012</td>\n      <td>4817528.0</td>\n    </tr>\n    <tr>\n      <th>3</th>\n      <td>AL</td>\n      <td>total</td>\n      <td>2010</td>\n      <td>4785570.0</td>\n    </tr>\n    <tr>\n      <th>5</th>\n      <td>AL</td>\n      <td>total</td>\n      <td>2011</td>\n      <td>4801627.0</td>\n    </tr>\n    <tr>\n      <th>6</th>\n      <td>AL</td>\n      <td>total</td>\n      <td>2009</td>\n      <td>4757938.0</td>\n    </tr>\n    <tr>\n      <th>9</th>\n      <td>AL</td>\n      <td>total</td>\n      <td>2013</td>\n      <td>4833722.0</td>\n    </tr>\n    <tr>\n      <th>...</th>\n      <td>...</td>\n      <td>...</td>\n      <td>...</td>\n      <td>...</td>\n    </tr>\n    <tr>\n      <th>2487</th>\n      <td>PR</td>\n      <td>total</td>\n      <td>2013</td>\n      <td>3615086.0</td>\n    </tr>\n    <tr>\n      <th>2488</th>\n      <td>PR</td>\n      <td>total</td>\n      <td>2009</td>\n      <td>3740410.0</td>\n    </tr>\n    <tr>\n      <th>2490</th>\n      <td>PR</td>\n      <td>total</td>\n      <td>2010</td>\n      <td>3721208.0</td>\n    </tr>\n    <tr>\n      <th>2493</th>\n      <td>PR</td>\n      <td>total</td>\n      <td>2011</td>\n      <td>3686580.0</td>\n    </tr>\n    <tr>\n      <th>2495</th>\n      <td>PR</td>\n      <td>total</td>\n      <td>2012</td>\n      <td>3651545.0</td>\n    </tr>\n  </tbody>\n</table>\n<p>1248 rows × 4 columns</p>\n</div>"
     },
     "execution_count": 2,
     "metadata": {},
     "output_type": "execute_result"
    }
   ]
  },
  {
   "cell_type": "code",
   "metadata": {
    "colab": {
     "base_uri": "https://localhost:8080/",
     "height": 108
    },
    "id": "BXKdYOzyl1lQ",
    "executionInfo": {
     "status": "ok",
     "timestamp": 1608266171725,
     "user_tz": 300,
     "elapsed": 681,
     "user": {
      "displayName": "Parvi Singh",
      "photoUrl": "",
      "userId": "15870809085498692847"
     }
    },
    "outputId": "76089843-2dff-4ff2-f15b-1b26033b3a4c"
   },
   "source": [
    "pd.crosstab(index = data['ages'], columns= 'count')"
   ],
   "execution_count": 3,
   "outputs": [
    {
     "data": {
      "text/plain": "col_0  count\nages        \ntotal   1248",
      "text/html": "<div>\n<style scoped>\n    .dataframe tbody tr th:only-of-type {\n        vertical-align: middle;\n    }\n\n    .dataframe tbody tr th {\n        vertical-align: top;\n    }\n\n    .dataframe thead th {\n        text-align: right;\n    }\n</style>\n<table border=\"1\" class=\"dataframe\">\n  <thead>\n    <tr style=\"text-align: right;\">\n      <th>col_0</th>\n      <th>count</th>\n    </tr>\n    <tr>\n      <th>ages</th>\n      <th></th>\n    </tr>\n  </thead>\n  <tbody>\n    <tr>\n      <th>total</th>\n      <td>1248</td>\n    </tr>\n  </tbody>\n</table>\n</div>"
     },
     "execution_count": 3,
     "metadata": {},
     "output_type": "execute_result"
    }
   ]
  },
  {
   "cell_type": "code",
   "metadata": {
    "colab": {
     "base_uri": "https://localhost:8080/",
     "height": 407
    },
    "id": "Tc-fjNqQmwgR",
    "executionInfo": {
     "status": "ok",
     "timestamp": 1608266171919,
     "user_tz": 300,
     "elapsed": 865,
     "user": {
      "displayName": "Parvi Singh",
      "photoUrl": "",
      "userId": "15870809085498692847"
     }
    },
    "outputId": "af067f7e-6a41-4ed5-9a2a-258df1608f16"
   },
   "source": [
    "data.drop(labels = 'ages', axis = 1)\r\n"
   ],
   "execution_count": 4,
   "outputs": [
    {
     "data": {
      "text/plain": "     state  year  population\n1       AL  2012   4817528.0\n3       AL  2010   4785570.0\n5       AL  2011   4801627.0\n6       AL  2009   4757938.0\n9       AL  2013   4833722.0\n...    ...   ...         ...\n2487    PR  2013   3615086.0\n2488    PR  2009   3740410.0\n2490    PR  2010   3721208.0\n2493    PR  2011   3686580.0\n2495    PR  2012   3651545.0\n\n[1248 rows x 3 columns]",
      "text/html": "<div>\n<style scoped>\n    .dataframe tbody tr th:only-of-type {\n        vertical-align: middle;\n    }\n\n    .dataframe tbody tr th {\n        vertical-align: top;\n    }\n\n    .dataframe thead th {\n        text-align: right;\n    }\n</style>\n<table border=\"1\" class=\"dataframe\">\n  <thead>\n    <tr style=\"text-align: right;\">\n      <th></th>\n      <th>state</th>\n      <th>year</th>\n      <th>population</th>\n    </tr>\n  </thead>\n  <tbody>\n    <tr>\n      <th>1</th>\n      <td>AL</td>\n      <td>2012</td>\n      <td>4817528.0</td>\n    </tr>\n    <tr>\n      <th>3</th>\n      <td>AL</td>\n      <td>2010</td>\n      <td>4785570.0</td>\n    </tr>\n    <tr>\n      <th>5</th>\n      <td>AL</td>\n      <td>2011</td>\n      <td>4801627.0</td>\n    </tr>\n    <tr>\n      <th>6</th>\n      <td>AL</td>\n      <td>2009</td>\n      <td>4757938.0</td>\n    </tr>\n    <tr>\n      <th>9</th>\n      <td>AL</td>\n      <td>2013</td>\n      <td>4833722.0</td>\n    </tr>\n    <tr>\n      <th>...</th>\n      <td>...</td>\n      <td>...</td>\n      <td>...</td>\n    </tr>\n    <tr>\n      <th>2487</th>\n      <td>PR</td>\n      <td>2013</td>\n      <td>3615086.0</td>\n    </tr>\n    <tr>\n      <th>2488</th>\n      <td>PR</td>\n      <td>2009</td>\n      <td>3740410.0</td>\n    </tr>\n    <tr>\n      <th>2490</th>\n      <td>PR</td>\n      <td>2010</td>\n      <td>3721208.0</td>\n    </tr>\n    <tr>\n      <th>2493</th>\n      <td>PR</td>\n      <td>2011</td>\n      <td>3686580.0</td>\n    </tr>\n    <tr>\n      <th>2495</th>\n      <td>PR</td>\n      <td>2012</td>\n      <td>3651545.0</td>\n    </tr>\n  </tbody>\n</table>\n<p>1248 rows × 3 columns</p>\n</div>"
     },
     "execution_count": 4,
     "metadata": {},
     "output_type": "execute_result"
    }
   ]
  },
  {
   "cell_type": "code",
   "metadata": {
    "colab": {
     "base_uri": "https://localhost:8080/",
     "height": 407
    },
    "id": "ALhKADsRnDiy",
    "executionInfo": {
     "status": "ok",
     "timestamp": 1608266171919,
     "user_tz": 300,
     "elapsed": 853,
     "user": {
      "displayName": "Parvi Singh",
      "photoUrl": "",
      "userId": "15870809085498692847"
     }
    },
    "outputId": "6a8d0b40-e09c-453b-e1e7-8ddfaa6c2a37"
   },
   "source": [
    "data.sort_values(by = 'year')"
   ],
   "execution_count": 5,
   "outputs": [
    {
     "data": {
      "text/plain": "     state   ages  year  population\n1585    NC  total  1990   6664016.0\n1873    RI  total  1990   1005995.0\n1871    PA  total  1990  11903299.0\n2257    WA  total  1990   4903043.0\n911     LA  total  1990   4221532.0\n...    ...    ...   ...         ...\n1337    NE  total  2013   1868516.0\n1350    NV  total  2013   2790136.0\n1433    NH  total  2013   1323459.0\n2391    WI  total  2013   5742713.0\n1145    MN  total  2013   5420380.0\n\n[1248 rows x 4 columns]",
      "text/html": "<div>\n<style scoped>\n    .dataframe tbody tr th:only-of-type {\n        vertical-align: middle;\n    }\n\n    .dataframe tbody tr th {\n        vertical-align: top;\n    }\n\n    .dataframe thead th {\n        text-align: right;\n    }\n</style>\n<table border=\"1\" class=\"dataframe\">\n  <thead>\n    <tr style=\"text-align: right;\">\n      <th></th>\n      <th>state</th>\n      <th>ages</th>\n      <th>year</th>\n      <th>population</th>\n    </tr>\n  </thead>\n  <tbody>\n    <tr>\n      <th>1585</th>\n      <td>NC</td>\n      <td>total</td>\n      <td>1990</td>\n      <td>6664016.0</td>\n    </tr>\n    <tr>\n      <th>1873</th>\n      <td>RI</td>\n      <td>total</td>\n      <td>1990</td>\n      <td>1005995.0</td>\n    </tr>\n    <tr>\n      <th>1871</th>\n      <td>PA</td>\n      <td>total</td>\n      <td>1990</td>\n      <td>11903299.0</td>\n    </tr>\n    <tr>\n      <th>2257</th>\n      <td>WA</td>\n      <td>total</td>\n      <td>1990</td>\n      <td>4903043.0</td>\n    </tr>\n    <tr>\n      <th>911</th>\n      <td>LA</td>\n      <td>total</td>\n      <td>1990</td>\n      <td>4221532.0</td>\n    </tr>\n    <tr>\n      <th>...</th>\n      <td>...</td>\n      <td>...</td>\n      <td>...</td>\n      <td>...</td>\n    </tr>\n    <tr>\n      <th>1337</th>\n      <td>NE</td>\n      <td>total</td>\n      <td>2013</td>\n      <td>1868516.0</td>\n    </tr>\n    <tr>\n      <th>1350</th>\n      <td>NV</td>\n      <td>total</td>\n      <td>2013</td>\n      <td>2790136.0</td>\n    </tr>\n    <tr>\n      <th>1433</th>\n      <td>NH</td>\n      <td>total</td>\n      <td>2013</td>\n      <td>1323459.0</td>\n    </tr>\n    <tr>\n      <th>2391</th>\n      <td>WI</td>\n      <td>total</td>\n      <td>2013</td>\n      <td>5742713.0</td>\n    </tr>\n    <tr>\n      <th>1145</th>\n      <td>MN</td>\n      <td>total</td>\n      <td>2013</td>\n      <td>5420380.0</td>\n    </tr>\n  </tbody>\n</table>\n<p>1248 rows × 4 columns</p>\n</div>"
     },
     "execution_count": 5,
     "metadata": {},
     "output_type": "execute_result"
    }
   ]
  },
  {
   "cell_type": "code",
   "metadata": {
    "id": "pYszOp46Nb9l",
    "executionInfo": {
     "status": "ok",
     "timestamp": 1608266171920,
     "user_tz": 300,
     "elapsed": 847,
     "user": {
      "displayName": "Parvi Singh",
      "photoUrl": "",
      "userId": "15870809085498692847"
     }
    }
   },
   "source": [
    "# data.to_csv(r'US_Population.csv')"
   ],
   "execution_count": 6,
   "outputs": []
  },
  {
   "cell_type": "code",
   "metadata": {
    "id": "M1-iqFjEQ0Lw",
    "colab": {
     "base_uri": "https://localhost:8080/",
     "height": 334
    },
    "executionInfo": {
     "status": "ok",
     "timestamp": 1608266173620,
     "user_tz": 300,
     "elapsed": 2539,
     "user": {
      "displayName": "Parvi Singh",
      "photoUrl": "",
      "userId": "15870809085498692847"
     }
    },
    "outputId": "27a5e954-44f9-4e11-f9cc-572f8ac5de51"
   },
   "source": [
    "url_2 = 'http://www2.census.gov/programs-surveys/popest/datasets/2010-2019/national/totals/nst-est2019-alldata.csv'\n",
    "\n",
    "new_pop_data = pd.read_csv(url_2)\n",
    "new_pop_data.head()"
   ],
   "execution_count": 7,
   "outputs": [
    {
     "data": {
      "text/plain": "   SUMLEV REGION DIVISION  STATE              NAME  CENSUS2010POP  \\\n0      10      0        0      0     United States      308745538   \n1      20      1        0      0  Northeast Region       55317240   \n2      20      2        0      0    Midwest Region       66927001   \n3      20      3        0      0      South Region      114555744   \n4      20      4        0      0       West Region       71945553   \n\n   ESTIMATESBASE2010  POPESTIMATE2010  POPESTIMATE2011  POPESTIMATE2012  ...  \\\n0          308758105        309321666        311556874        313830990  ...   \n1           55318443         55380134         55604223         55775216  ...   \n2           66929725         66974416         67157800         67336743  ...   \n3          114563030        114866680        116006522        117241208  ...   \n4           71946907         72100436         72788329         73477823  ...   \n\n   RDOMESTICMIG2019  RNETMIG2011  RNETMIG2012  RNETMIG2013  RNETMIG2014  \\\n0          0.000000     2.493773     2.682083     2.636187     2.921500   \n1         -5.254530     0.887909    -0.038355    -0.469783    -0.986097   \n2         -2.365881    -0.963930    -0.973943    -0.006924    -0.762969   \n3          3.261349     5.130513     5.850458     5.292073     6.161501   \n4          0.614245     2.723344     3.062896     3.162262     4.026429   \n\n   RNETMIG2015  RNETMIG2016  RNETMIG2017  RNETMIG2018  RNETMIG2019  \n0     3.260435     3.252788     2.871957     2.153911     1.818059  \n1    -2.061965    -2.490484    -1.837048    -2.134447    -2.859713  \n2    -1.388437    -1.241784    -0.557370    -0.922755    -1.111173  \n3     7.277358     7.150074     6.198168     5.225519     5.203720  \n4     4.987285     5.261078     4.021194     3.044951     2.312083  \n\n[5 rows x 151 columns]",
      "text/html": "<div>\n<style scoped>\n    .dataframe tbody tr th:only-of-type {\n        vertical-align: middle;\n    }\n\n    .dataframe tbody tr th {\n        vertical-align: top;\n    }\n\n    .dataframe thead th {\n        text-align: right;\n    }\n</style>\n<table border=\"1\" class=\"dataframe\">\n  <thead>\n    <tr style=\"text-align: right;\">\n      <th></th>\n      <th>SUMLEV</th>\n      <th>REGION</th>\n      <th>DIVISION</th>\n      <th>STATE</th>\n      <th>NAME</th>\n      <th>CENSUS2010POP</th>\n      <th>ESTIMATESBASE2010</th>\n      <th>POPESTIMATE2010</th>\n      <th>POPESTIMATE2011</th>\n      <th>POPESTIMATE2012</th>\n      <th>...</th>\n      <th>RDOMESTICMIG2019</th>\n      <th>RNETMIG2011</th>\n      <th>RNETMIG2012</th>\n      <th>RNETMIG2013</th>\n      <th>RNETMIG2014</th>\n      <th>RNETMIG2015</th>\n      <th>RNETMIG2016</th>\n      <th>RNETMIG2017</th>\n      <th>RNETMIG2018</th>\n      <th>RNETMIG2019</th>\n    </tr>\n  </thead>\n  <tbody>\n    <tr>\n      <th>0</th>\n      <td>10</td>\n      <td>0</td>\n      <td>0</td>\n      <td>0</td>\n      <td>United States</td>\n      <td>308745538</td>\n      <td>308758105</td>\n      <td>309321666</td>\n      <td>311556874</td>\n      <td>313830990</td>\n      <td>...</td>\n      <td>0.000000</td>\n      <td>2.493773</td>\n      <td>2.682083</td>\n      <td>2.636187</td>\n      <td>2.921500</td>\n      <td>3.260435</td>\n      <td>3.252788</td>\n      <td>2.871957</td>\n      <td>2.153911</td>\n      <td>1.818059</td>\n    </tr>\n    <tr>\n      <th>1</th>\n      <td>20</td>\n      <td>1</td>\n      <td>0</td>\n      <td>0</td>\n      <td>Northeast Region</td>\n      <td>55317240</td>\n      <td>55318443</td>\n      <td>55380134</td>\n      <td>55604223</td>\n      <td>55775216</td>\n      <td>...</td>\n      <td>-5.254530</td>\n      <td>0.887909</td>\n      <td>-0.038355</td>\n      <td>-0.469783</td>\n      <td>-0.986097</td>\n      <td>-2.061965</td>\n      <td>-2.490484</td>\n      <td>-1.837048</td>\n      <td>-2.134447</td>\n      <td>-2.859713</td>\n    </tr>\n    <tr>\n      <th>2</th>\n      <td>20</td>\n      <td>2</td>\n      <td>0</td>\n      <td>0</td>\n      <td>Midwest Region</td>\n      <td>66927001</td>\n      <td>66929725</td>\n      <td>66974416</td>\n      <td>67157800</td>\n      <td>67336743</td>\n      <td>...</td>\n      <td>-2.365881</td>\n      <td>-0.963930</td>\n      <td>-0.973943</td>\n      <td>-0.006924</td>\n      <td>-0.762969</td>\n      <td>-1.388437</td>\n      <td>-1.241784</td>\n      <td>-0.557370</td>\n      <td>-0.922755</td>\n      <td>-1.111173</td>\n    </tr>\n    <tr>\n      <th>3</th>\n      <td>20</td>\n      <td>3</td>\n      <td>0</td>\n      <td>0</td>\n      <td>South Region</td>\n      <td>114555744</td>\n      <td>114563030</td>\n      <td>114866680</td>\n      <td>116006522</td>\n      <td>117241208</td>\n      <td>...</td>\n      <td>3.261349</td>\n      <td>5.130513</td>\n      <td>5.850458</td>\n      <td>5.292073</td>\n      <td>6.161501</td>\n      <td>7.277358</td>\n      <td>7.150074</td>\n      <td>6.198168</td>\n      <td>5.225519</td>\n      <td>5.203720</td>\n    </tr>\n    <tr>\n      <th>4</th>\n      <td>20</td>\n      <td>4</td>\n      <td>0</td>\n      <td>0</td>\n      <td>West Region</td>\n      <td>71945553</td>\n      <td>71946907</td>\n      <td>72100436</td>\n      <td>72788329</td>\n      <td>73477823</td>\n      <td>...</td>\n      <td>0.614245</td>\n      <td>2.723344</td>\n      <td>3.062896</td>\n      <td>3.162262</td>\n      <td>4.026429</td>\n      <td>4.987285</td>\n      <td>5.261078</td>\n      <td>4.021194</td>\n      <td>3.044951</td>\n      <td>2.312083</td>\n    </tr>\n  </tbody>\n</table>\n<p>5 rows × 151 columns</p>\n</div>"
     },
     "execution_count": 7,
     "metadata": {},
     "output_type": "execute_result"
    }
   ]
  },
  {
   "cell_type": "code",
   "metadata": {
    "id": "Voij02M3lywu",
    "executionInfo": {
     "status": "ok",
     "timestamp": 1608266173621,
     "user_tz": 300,
     "elapsed": 2532,
     "user": {
      "displayName": "Parvi Singh",
      "photoUrl": "",
      "userId": "15870809085498692847"
     }
    }
   },
   "source": [
    "# Extrapolating US population based on 2018-2019 growth\r\n",
    "US_Population_2018 = 326687501\r\n",
    "US_Population_2019 = 328239523\r\n",
    "\r\n",
    "y_o_y_growth = (US_Population_2019/US_Population_2018)\r\n"
   ],
   "execution_count": 8,
   "outputs": []
  },
  {
   "cell_type": "code",
   "metadata": {
    "id": "mMSWB5tWNGas",
    "executionInfo": {
     "status": "ok",
     "timestamp": 1608266173622,
     "user_tz": 300,
     "elapsed": 2527,
     "user": {
      "displayName": "Parvi Singh",
      "photoUrl": "",
      "userId": "15870809085498692847"
     }
    }
   },
   "source": [
    "df = pd.DataFrame()\n",
    "new_pop_data['POPESTIMATE2020'] = new_pop_data['POPESTIMATE2019'] * y_o_y_growth"
   ],
   "execution_count": 9,
   "outputs": []
  },
  {
   "cell_type": "code",
   "metadata": {
    "id": "FJMMeMnPP3tM",
    "executionInfo": {
     "status": "ok",
     "timestamp": 1608266173623,
     "user_tz": 300,
     "elapsed": 2522,
     "user": {
      "displayName": "Parvi Singh",
      "photoUrl": "",
      "userId": "15870809085498692847"
     }
    }
   },
   "source": [
    "new_pop_data['POPESTIMATE2020'] = new_pop_data['POPESTIMATE2020'].apply(int)"
   ],
   "execution_count": 10,
   "outputs": []
  },
  {
   "cell_type": "code",
   "metadata": {
    "id": "O6uK_9a7NmlI",
    "executionInfo": {
     "status": "ok",
     "timestamp": 1608266173624,
     "user_tz": 300,
     "elapsed": 2518,
     "user": {
      "displayName": "Parvi Singh",
      "photoUrl": "",
      "userId": "15870809085498692847"
     }
    }
   },
   "source": [
    "# get the list of all the columns \n",
    "#new_pop_data.columns.to_list()"
   ],
   "execution_count": 11,
   "outputs": []
  },
  {
   "cell_type": "code",
   "metadata": {
    "colab": {
     "base_uri": "https://localhost:8080/",
     "height": 1000
    },
    "id": "6baLDe9gOW2l",
    "executionInfo": {
     "status": "ok",
     "timestamp": 1608266173625,
     "user_tz": 300,
     "elapsed": 2511,
     "user": {
      "displayName": "Parvi Singh",
      "photoUrl": "",
      "userId": "15870809085498692847"
     }
    },
    "outputId": "d0aa33c5-3d91-4e56-aecf-b141314248c9"
   },
   "source": [
    "new_pop_data_subset = new_pop_data[['NAME',\n",
    " 'CENSUS2010POP',\n",
    " 'POPESTIMATE2010',\n",
    " 'POPESTIMATE2011',\n",
    " 'POPESTIMATE2012',\n",
    " 'POPESTIMATE2013',\n",
    " 'POPESTIMATE2014',\n",
    " 'POPESTIMATE2015',\n",
    " 'POPESTIMATE2016',\n",
    " 'POPESTIMATE2017',\n",
    " 'POPESTIMATE2018',\n",
    " 'POPESTIMATE2019',\n",
    " 'POPESTIMATE2020'\n",
    " ]]\n",
    "new_pop_data_subset = new_pop_data_subset.drop(labels =[0,1,2,3,4],axis = 0)\n",
    "new_pop_data_subset = new_pop_data_subset.drop('CENSUS2010POP', axis=1)\n",
    "new_pop_data_subset.columns = [columns.replace('POPESTIMATE',\"\") for columns in new_pop_data_subset]\n",
    "new_pop_data_subset = new_pop_data_subset.drop(labels = ['2010','2011','2012','2013'], axis=1)\n",
    "new_pop_data_subset.rename(columns={'NAME':'state'}, inplace=True)\n",
    "new_pop_data_subset"
   ],
   "execution_count": 12,
   "outputs": [
    {
     "data": {
      "text/plain": "                   state      2014      2015      2016      2017      2018  \\\n5                Alabama   4841799   4852347   4863525   4874486   4887681   \n6                 Alaska    736283    737498    741456    739700    735139   \n7                Arizona   6730413   6829676   6941072   7044008   7158024   \n8               Arkansas   2967392   2978048   2989918   3001345   3009733   \n9             California  38596972  38918045  39167117  39358497  39461588   \n10              Colorado   5350101   5450623   5539215   5611885   5691287   \n11           Connecticut   3594524   3587122   3578141   3573297   3571520   \n12              Delaware    932487    941252    948921    956823    965479   \n13  District of Columbia    662328    675400    685815    694906    701547   \n14               Florida  19845911  20209042  20613477  20963613  21244317   \n15               Georgia  10067278  10178447  10301890  10410330  10511131   \n16                Hawaii   1414538   1422052   1427559   1424393   1420593   \n17                 Idaho   1631112   1651059   1682380   1717715   1750536   \n18              Illinois  12884493  12858913  12820527  12778828  12723071   \n19               Indiana   6593644   6608422   6634304   6658078   6695497   \n20                  Iowa   3109350   3120960   3131371   3141550   3148618   \n21                Kansas   2900475   2909011   2910844   2908718   2911359   \n22              Kentucky   4414349   4425976   4438182   4452268   4461153   \n23             Louisiana   4644013   4664628   4678135   4670560   4659690   \n24                 Maine   1330513   1328262   1331317   1334612   1339057   \n25              Maryland   5957283   5985562   6003323   6023868   6035802   \n26         Massachusetts   6762596   6794228   6823608   6859789   6882635   \n27              Michigan   9929848   9931715   9950571   9973114   9984072   \n28             Minnesota   5451079   5482032   5522744   5566230   5606249   \n29           Mississippi   2990468   2988471   2987938   2988510   2981020   \n30              Missouri   6056202   6071732   6087135   6106670   6121623   \n31               Montana   1021869   1030475   1040859   1052482   1060665   \n32              Nebraska   1879321   1891277   1905616   1915947   1925614   \n33                Nevada   2817628   2866939   2917563   2969905   3027341   \n34         New Hampshire   1333341   1336350   1342307   1348787   1353465   \n35            New Jersey   8864525   8867949   8870827   8885525   8886025   \n36            New Mexico   2089568   2089291   2091630   2091784   2092741   \n37              New York  19651049  19654666  19633428  19589572  19530351   \n38        North Carolina   9932887  10031646  10154788  10268233  10381615   \n39          North Dakota    737401    754066    754434    754942    758080   \n40                  Ohio  11602700  11617527  11634370  11659650  11676341   \n41              Oklahoma   3878187   3909500   3926331   3931316   3940235   \n42                Oregon   3963244   4015792   4089976   4143625   4181886   \n43          Pennsylvania  12788313  12784826  12782275  12787641  12800922   \n44          Rhode Island   1055936   1056065   1056770   1055673   1058287   \n45        South Carolina   4823617   4891938   4957968   5021268   5084156   \n46          South Dakota    849129    853988    862996    872868    878698   \n47             Tennessee   6541223   6591170   6646010   6708799   6771631   \n48                 Texas  26964333  27470056  27914410  28295273  28628666   \n49                  Utah   2936879   2981835   3041868   3101042   3153550   \n50               Vermont    625214    625216    623657    624344    624358   \n51              Virginia   8310993   8361808   8410106   8463587   8501286   \n52            Washington   7054655   7163657   7294771   7423362   7523869   \n53         West Virginia   1849489   1842050   1831023   1817004   1804291   \n54             Wisconsin   5751525   5760940   5772628   5790186   5807406   \n55               Wyoming    582531    585613    584215    578931    577601   \n56           Puerto Rico   3534874   3473232   3406672   3325286   3193354   \n\n        2019      2020  \n5    4903185   4926478  \n6     731545    735020  \n7    7278717   7313296  \n8    3017804   3032140  \n9   39512223  39699937  \n10   5758736   5786094  \n11   3565287   3582224  \n12    973764    978390  \n13    705749    709101  \n14  21477737  21579773  \n15  10617423  10667864  \n16   1415872   1422598  \n17   1787065   1795554  \n18  12671821  12732022  \n19   6732219   6764202  \n20   3155070   3170059  \n21   2913314   2927154  \n22   4467673   4488897  \n23   4648794   4670879  \n24   1344212   1350598  \n25   6045680   6074401  \n26   6892503   6925247  \n27   9986857  10034302  \n28   5639632   5666424  \n29   2976149   2990288  \n30   6137428   6166585  \n31   1068778   1073855  \n32   1934408   1943597  \n33   3080156   3094789  \n34   1359711   1366170  \n35   8882190   8924387  \n36   2096829   2106790  \n37  19453561  19545980  \n38  10488084  10537910  \n39    762062    765682  \n40  11689100  11744632  \n41   3956971   3975769  \n42   4217737   4237774  \n43  12801989  12862808  \n44   1059361   1064393  \n45   5148714   5173174  \n46    884659    888861  \n47   6829174   6861617  \n48  28995881  29133634  \n49   3205958   3221188  \n50    623989    626953  \n51   8535519   8576069  \n52   7614893   7651069  \n53   1792147   1800661  \n54   5822434   5850095  \n55    578759    581508  \n56   3193694   3208866  ",
      "text/html": "<div>\n<style scoped>\n    .dataframe tbody tr th:only-of-type {\n        vertical-align: middle;\n    }\n\n    .dataframe tbody tr th {\n        vertical-align: top;\n    }\n\n    .dataframe thead th {\n        text-align: right;\n    }\n</style>\n<table border=\"1\" class=\"dataframe\">\n  <thead>\n    <tr style=\"text-align: right;\">\n      <th></th>\n      <th>state</th>\n      <th>2014</th>\n      <th>2015</th>\n      <th>2016</th>\n      <th>2017</th>\n      <th>2018</th>\n      <th>2019</th>\n      <th>2020</th>\n    </tr>\n  </thead>\n  <tbody>\n    <tr>\n      <th>5</th>\n      <td>Alabama</td>\n      <td>4841799</td>\n      <td>4852347</td>\n      <td>4863525</td>\n      <td>4874486</td>\n      <td>4887681</td>\n      <td>4903185</td>\n      <td>4926478</td>\n    </tr>\n    <tr>\n      <th>6</th>\n      <td>Alaska</td>\n      <td>736283</td>\n      <td>737498</td>\n      <td>741456</td>\n      <td>739700</td>\n      <td>735139</td>\n      <td>731545</td>\n      <td>735020</td>\n    </tr>\n    <tr>\n      <th>7</th>\n      <td>Arizona</td>\n      <td>6730413</td>\n      <td>6829676</td>\n      <td>6941072</td>\n      <td>7044008</td>\n      <td>7158024</td>\n      <td>7278717</td>\n      <td>7313296</td>\n    </tr>\n    <tr>\n      <th>8</th>\n      <td>Arkansas</td>\n      <td>2967392</td>\n      <td>2978048</td>\n      <td>2989918</td>\n      <td>3001345</td>\n      <td>3009733</td>\n      <td>3017804</td>\n      <td>3032140</td>\n    </tr>\n    <tr>\n      <th>9</th>\n      <td>California</td>\n      <td>38596972</td>\n      <td>38918045</td>\n      <td>39167117</td>\n      <td>39358497</td>\n      <td>39461588</td>\n      <td>39512223</td>\n      <td>39699937</td>\n    </tr>\n    <tr>\n      <th>10</th>\n      <td>Colorado</td>\n      <td>5350101</td>\n      <td>5450623</td>\n      <td>5539215</td>\n      <td>5611885</td>\n      <td>5691287</td>\n      <td>5758736</td>\n      <td>5786094</td>\n    </tr>\n    <tr>\n      <th>11</th>\n      <td>Connecticut</td>\n      <td>3594524</td>\n      <td>3587122</td>\n      <td>3578141</td>\n      <td>3573297</td>\n      <td>3571520</td>\n      <td>3565287</td>\n      <td>3582224</td>\n    </tr>\n    <tr>\n      <th>12</th>\n      <td>Delaware</td>\n      <td>932487</td>\n      <td>941252</td>\n      <td>948921</td>\n      <td>956823</td>\n      <td>965479</td>\n      <td>973764</td>\n      <td>978390</td>\n    </tr>\n    <tr>\n      <th>13</th>\n      <td>District of Columbia</td>\n      <td>662328</td>\n      <td>675400</td>\n      <td>685815</td>\n      <td>694906</td>\n      <td>701547</td>\n      <td>705749</td>\n      <td>709101</td>\n    </tr>\n    <tr>\n      <th>14</th>\n      <td>Florida</td>\n      <td>19845911</td>\n      <td>20209042</td>\n      <td>20613477</td>\n      <td>20963613</td>\n      <td>21244317</td>\n      <td>21477737</td>\n      <td>21579773</td>\n    </tr>\n    <tr>\n      <th>15</th>\n      <td>Georgia</td>\n      <td>10067278</td>\n      <td>10178447</td>\n      <td>10301890</td>\n      <td>10410330</td>\n      <td>10511131</td>\n      <td>10617423</td>\n      <td>10667864</td>\n    </tr>\n    <tr>\n      <th>16</th>\n      <td>Hawaii</td>\n      <td>1414538</td>\n      <td>1422052</td>\n      <td>1427559</td>\n      <td>1424393</td>\n      <td>1420593</td>\n      <td>1415872</td>\n      <td>1422598</td>\n    </tr>\n    <tr>\n      <th>17</th>\n      <td>Idaho</td>\n      <td>1631112</td>\n      <td>1651059</td>\n      <td>1682380</td>\n      <td>1717715</td>\n      <td>1750536</td>\n      <td>1787065</td>\n      <td>1795554</td>\n    </tr>\n    <tr>\n      <th>18</th>\n      <td>Illinois</td>\n      <td>12884493</td>\n      <td>12858913</td>\n      <td>12820527</td>\n      <td>12778828</td>\n      <td>12723071</td>\n      <td>12671821</td>\n      <td>12732022</td>\n    </tr>\n    <tr>\n      <th>19</th>\n      <td>Indiana</td>\n      <td>6593644</td>\n      <td>6608422</td>\n      <td>6634304</td>\n      <td>6658078</td>\n      <td>6695497</td>\n      <td>6732219</td>\n      <td>6764202</td>\n    </tr>\n    <tr>\n      <th>20</th>\n      <td>Iowa</td>\n      <td>3109350</td>\n      <td>3120960</td>\n      <td>3131371</td>\n      <td>3141550</td>\n      <td>3148618</td>\n      <td>3155070</td>\n      <td>3170059</td>\n    </tr>\n    <tr>\n      <th>21</th>\n      <td>Kansas</td>\n      <td>2900475</td>\n      <td>2909011</td>\n      <td>2910844</td>\n      <td>2908718</td>\n      <td>2911359</td>\n      <td>2913314</td>\n      <td>2927154</td>\n    </tr>\n    <tr>\n      <th>22</th>\n      <td>Kentucky</td>\n      <td>4414349</td>\n      <td>4425976</td>\n      <td>4438182</td>\n      <td>4452268</td>\n      <td>4461153</td>\n      <td>4467673</td>\n      <td>4488897</td>\n    </tr>\n    <tr>\n      <th>23</th>\n      <td>Louisiana</td>\n      <td>4644013</td>\n      <td>4664628</td>\n      <td>4678135</td>\n      <td>4670560</td>\n      <td>4659690</td>\n      <td>4648794</td>\n      <td>4670879</td>\n    </tr>\n    <tr>\n      <th>24</th>\n      <td>Maine</td>\n      <td>1330513</td>\n      <td>1328262</td>\n      <td>1331317</td>\n      <td>1334612</td>\n      <td>1339057</td>\n      <td>1344212</td>\n      <td>1350598</td>\n    </tr>\n    <tr>\n      <th>25</th>\n      <td>Maryland</td>\n      <td>5957283</td>\n      <td>5985562</td>\n      <td>6003323</td>\n      <td>6023868</td>\n      <td>6035802</td>\n      <td>6045680</td>\n      <td>6074401</td>\n    </tr>\n    <tr>\n      <th>26</th>\n      <td>Massachusetts</td>\n      <td>6762596</td>\n      <td>6794228</td>\n      <td>6823608</td>\n      <td>6859789</td>\n      <td>6882635</td>\n      <td>6892503</td>\n      <td>6925247</td>\n    </tr>\n    <tr>\n      <th>27</th>\n      <td>Michigan</td>\n      <td>9929848</td>\n      <td>9931715</td>\n      <td>9950571</td>\n      <td>9973114</td>\n      <td>9984072</td>\n      <td>9986857</td>\n      <td>10034302</td>\n    </tr>\n    <tr>\n      <th>28</th>\n      <td>Minnesota</td>\n      <td>5451079</td>\n      <td>5482032</td>\n      <td>5522744</td>\n      <td>5566230</td>\n      <td>5606249</td>\n      <td>5639632</td>\n      <td>5666424</td>\n    </tr>\n    <tr>\n      <th>29</th>\n      <td>Mississippi</td>\n      <td>2990468</td>\n      <td>2988471</td>\n      <td>2987938</td>\n      <td>2988510</td>\n      <td>2981020</td>\n      <td>2976149</td>\n      <td>2990288</td>\n    </tr>\n    <tr>\n      <th>30</th>\n      <td>Missouri</td>\n      <td>6056202</td>\n      <td>6071732</td>\n      <td>6087135</td>\n      <td>6106670</td>\n      <td>6121623</td>\n      <td>6137428</td>\n      <td>6166585</td>\n    </tr>\n    <tr>\n      <th>31</th>\n      <td>Montana</td>\n      <td>1021869</td>\n      <td>1030475</td>\n      <td>1040859</td>\n      <td>1052482</td>\n      <td>1060665</td>\n      <td>1068778</td>\n      <td>1073855</td>\n    </tr>\n    <tr>\n      <th>32</th>\n      <td>Nebraska</td>\n      <td>1879321</td>\n      <td>1891277</td>\n      <td>1905616</td>\n      <td>1915947</td>\n      <td>1925614</td>\n      <td>1934408</td>\n      <td>1943597</td>\n    </tr>\n    <tr>\n      <th>33</th>\n      <td>Nevada</td>\n      <td>2817628</td>\n      <td>2866939</td>\n      <td>2917563</td>\n      <td>2969905</td>\n      <td>3027341</td>\n      <td>3080156</td>\n      <td>3094789</td>\n    </tr>\n    <tr>\n      <th>34</th>\n      <td>New Hampshire</td>\n      <td>1333341</td>\n      <td>1336350</td>\n      <td>1342307</td>\n      <td>1348787</td>\n      <td>1353465</td>\n      <td>1359711</td>\n      <td>1366170</td>\n    </tr>\n    <tr>\n      <th>35</th>\n      <td>New Jersey</td>\n      <td>8864525</td>\n      <td>8867949</td>\n      <td>8870827</td>\n      <td>8885525</td>\n      <td>8886025</td>\n      <td>8882190</td>\n      <td>8924387</td>\n    </tr>\n    <tr>\n      <th>36</th>\n      <td>New Mexico</td>\n      <td>2089568</td>\n      <td>2089291</td>\n      <td>2091630</td>\n      <td>2091784</td>\n      <td>2092741</td>\n      <td>2096829</td>\n      <td>2106790</td>\n    </tr>\n    <tr>\n      <th>37</th>\n      <td>New York</td>\n      <td>19651049</td>\n      <td>19654666</td>\n      <td>19633428</td>\n      <td>19589572</td>\n      <td>19530351</td>\n      <td>19453561</td>\n      <td>19545980</td>\n    </tr>\n    <tr>\n      <th>38</th>\n      <td>North Carolina</td>\n      <td>9932887</td>\n      <td>10031646</td>\n      <td>10154788</td>\n      <td>10268233</td>\n      <td>10381615</td>\n      <td>10488084</td>\n      <td>10537910</td>\n    </tr>\n    <tr>\n      <th>39</th>\n      <td>North Dakota</td>\n      <td>737401</td>\n      <td>754066</td>\n      <td>754434</td>\n      <td>754942</td>\n      <td>758080</td>\n      <td>762062</td>\n      <td>765682</td>\n    </tr>\n    <tr>\n      <th>40</th>\n      <td>Ohio</td>\n      <td>11602700</td>\n      <td>11617527</td>\n      <td>11634370</td>\n      <td>11659650</td>\n      <td>11676341</td>\n      <td>11689100</td>\n      <td>11744632</td>\n    </tr>\n    <tr>\n      <th>41</th>\n      <td>Oklahoma</td>\n      <td>3878187</td>\n      <td>3909500</td>\n      <td>3926331</td>\n      <td>3931316</td>\n      <td>3940235</td>\n      <td>3956971</td>\n      <td>3975769</td>\n    </tr>\n    <tr>\n      <th>42</th>\n      <td>Oregon</td>\n      <td>3963244</td>\n      <td>4015792</td>\n      <td>4089976</td>\n      <td>4143625</td>\n      <td>4181886</td>\n      <td>4217737</td>\n      <td>4237774</td>\n    </tr>\n    <tr>\n      <th>43</th>\n      <td>Pennsylvania</td>\n      <td>12788313</td>\n      <td>12784826</td>\n      <td>12782275</td>\n      <td>12787641</td>\n      <td>12800922</td>\n      <td>12801989</td>\n      <td>12862808</td>\n    </tr>\n    <tr>\n      <th>44</th>\n      <td>Rhode Island</td>\n      <td>1055936</td>\n      <td>1056065</td>\n      <td>1056770</td>\n      <td>1055673</td>\n      <td>1058287</td>\n      <td>1059361</td>\n      <td>1064393</td>\n    </tr>\n    <tr>\n      <th>45</th>\n      <td>South Carolina</td>\n      <td>4823617</td>\n      <td>4891938</td>\n      <td>4957968</td>\n      <td>5021268</td>\n      <td>5084156</td>\n      <td>5148714</td>\n      <td>5173174</td>\n    </tr>\n    <tr>\n      <th>46</th>\n      <td>South Dakota</td>\n      <td>849129</td>\n      <td>853988</td>\n      <td>862996</td>\n      <td>872868</td>\n      <td>878698</td>\n      <td>884659</td>\n      <td>888861</td>\n    </tr>\n    <tr>\n      <th>47</th>\n      <td>Tennessee</td>\n      <td>6541223</td>\n      <td>6591170</td>\n      <td>6646010</td>\n      <td>6708799</td>\n      <td>6771631</td>\n      <td>6829174</td>\n      <td>6861617</td>\n    </tr>\n    <tr>\n      <th>48</th>\n      <td>Texas</td>\n      <td>26964333</td>\n      <td>27470056</td>\n      <td>27914410</td>\n      <td>28295273</td>\n      <td>28628666</td>\n      <td>28995881</td>\n      <td>29133634</td>\n    </tr>\n    <tr>\n      <th>49</th>\n      <td>Utah</td>\n      <td>2936879</td>\n      <td>2981835</td>\n      <td>3041868</td>\n      <td>3101042</td>\n      <td>3153550</td>\n      <td>3205958</td>\n      <td>3221188</td>\n    </tr>\n    <tr>\n      <th>50</th>\n      <td>Vermont</td>\n      <td>625214</td>\n      <td>625216</td>\n      <td>623657</td>\n      <td>624344</td>\n      <td>624358</td>\n      <td>623989</td>\n      <td>626953</td>\n    </tr>\n    <tr>\n      <th>51</th>\n      <td>Virginia</td>\n      <td>8310993</td>\n      <td>8361808</td>\n      <td>8410106</td>\n      <td>8463587</td>\n      <td>8501286</td>\n      <td>8535519</td>\n      <td>8576069</td>\n    </tr>\n    <tr>\n      <th>52</th>\n      <td>Washington</td>\n      <td>7054655</td>\n      <td>7163657</td>\n      <td>7294771</td>\n      <td>7423362</td>\n      <td>7523869</td>\n      <td>7614893</td>\n      <td>7651069</td>\n    </tr>\n    <tr>\n      <th>53</th>\n      <td>West Virginia</td>\n      <td>1849489</td>\n      <td>1842050</td>\n      <td>1831023</td>\n      <td>1817004</td>\n      <td>1804291</td>\n      <td>1792147</td>\n      <td>1800661</td>\n    </tr>\n    <tr>\n      <th>54</th>\n      <td>Wisconsin</td>\n      <td>5751525</td>\n      <td>5760940</td>\n      <td>5772628</td>\n      <td>5790186</td>\n      <td>5807406</td>\n      <td>5822434</td>\n      <td>5850095</td>\n    </tr>\n    <tr>\n      <th>55</th>\n      <td>Wyoming</td>\n      <td>582531</td>\n      <td>585613</td>\n      <td>584215</td>\n      <td>578931</td>\n      <td>577601</td>\n      <td>578759</td>\n      <td>581508</td>\n    </tr>\n    <tr>\n      <th>56</th>\n      <td>Puerto Rico</td>\n      <td>3534874</td>\n      <td>3473232</td>\n      <td>3406672</td>\n      <td>3325286</td>\n      <td>3193354</td>\n      <td>3193694</td>\n      <td>3208866</td>\n    </tr>\n  </tbody>\n</table>\n</div>"
     },
     "execution_count": 12,
     "metadata": {},
     "output_type": "execute_result"
    }
   ]
  },
  {
   "cell_type": "code",
   "metadata": {
    "id": "fVSJSct4Rrkk",
    "colab": {
     "base_uri": "https://localhost:8080/",
     "height": 1000
    },
    "executionInfo": {
     "status": "ok",
     "timestamp": 1608266173849,
     "user_tz": 300,
     "elapsed": 2723,
     "user": {
      "displayName": "Parvi Singh",
      "photoUrl": "",
      "userId": "15870809085498692847"
     }
    },
    "outputId": "52e6de52-c98f-46b0-db0e-c166102431e7"
   },
   "source": [
    "# importing states codes\n",
    "state_code_url = 'https://raw.githubusercontent.com/plotly/datasets/master/2011_us_ag_exports.csv'\n",
    "state_codes = pd.read_csv(state_code_url)\n",
    "state_codes = state_codes[['code', 'state']]\n",
    "state_codes"
   ],
   "execution_count": 13,
   "outputs": [
    {
     "data": {
      "text/plain": "   code           state\n0    AL         Alabama\n1    AK          Alaska\n2    AZ         Arizona\n3    AR        Arkansas\n4    CA      California\n5    CO        Colorado\n6    CT     Connecticut\n7    DE        Delaware\n8    FL         Florida\n9    GA         Georgia\n10   HI          Hawaii\n11   ID           Idaho\n12   IL        Illinois\n13   IN         Indiana\n14   IA            Iowa\n15   KS          Kansas\n16   KY        Kentucky\n17   LA       Louisiana\n18   ME           Maine\n19   MD        Maryland\n20   MA   Massachusetts\n21   MI        Michigan\n22   MN       Minnesota\n23   MS     Mississippi\n24   MO        Missouri\n25   MT         Montana\n26   NE        Nebraska\n27   NV          Nevada\n28   NH   New Hampshire\n29   NJ      New Jersey\n30   NM      New Mexico\n31   NY        New York\n32   NC  North Carolina\n33   ND    North Dakota\n34   OH            Ohio\n35   OK        Oklahoma\n36   OR          Oregon\n37   PA    Pennsylvania\n38   RI    Rhode Island\n39   SC  South Carolina\n40   SD    South Dakota\n41   TN       Tennessee\n42   TX           Texas\n43   UT            Utah\n44   VT         Vermont\n45   VA        Virginia\n46   WA      Washington\n47   WV   West Virginia\n48   WI       Wisconsin\n49   WY         Wyoming",
      "text/html": "<div>\n<style scoped>\n    .dataframe tbody tr th:only-of-type {\n        vertical-align: middle;\n    }\n\n    .dataframe tbody tr th {\n        vertical-align: top;\n    }\n\n    .dataframe thead th {\n        text-align: right;\n    }\n</style>\n<table border=\"1\" class=\"dataframe\">\n  <thead>\n    <tr style=\"text-align: right;\">\n      <th></th>\n      <th>code</th>\n      <th>state</th>\n    </tr>\n  </thead>\n  <tbody>\n    <tr>\n      <th>0</th>\n      <td>AL</td>\n      <td>Alabama</td>\n    </tr>\n    <tr>\n      <th>1</th>\n      <td>AK</td>\n      <td>Alaska</td>\n    </tr>\n    <tr>\n      <th>2</th>\n      <td>AZ</td>\n      <td>Arizona</td>\n    </tr>\n    <tr>\n      <th>3</th>\n      <td>AR</td>\n      <td>Arkansas</td>\n    </tr>\n    <tr>\n      <th>4</th>\n      <td>CA</td>\n      <td>California</td>\n    </tr>\n    <tr>\n      <th>5</th>\n      <td>CO</td>\n      <td>Colorado</td>\n    </tr>\n    <tr>\n      <th>6</th>\n      <td>CT</td>\n      <td>Connecticut</td>\n    </tr>\n    <tr>\n      <th>7</th>\n      <td>DE</td>\n      <td>Delaware</td>\n    </tr>\n    <tr>\n      <th>8</th>\n      <td>FL</td>\n      <td>Florida</td>\n    </tr>\n    <tr>\n      <th>9</th>\n      <td>GA</td>\n      <td>Georgia</td>\n    </tr>\n    <tr>\n      <th>10</th>\n      <td>HI</td>\n      <td>Hawaii</td>\n    </tr>\n    <tr>\n      <th>11</th>\n      <td>ID</td>\n      <td>Idaho</td>\n    </tr>\n    <tr>\n      <th>12</th>\n      <td>IL</td>\n      <td>Illinois</td>\n    </tr>\n    <tr>\n      <th>13</th>\n      <td>IN</td>\n      <td>Indiana</td>\n    </tr>\n    <tr>\n      <th>14</th>\n      <td>IA</td>\n      <td>Iowa</td>\n    </tr>\n    <tr>\n      <th>15</th>\n      <td>KS</td>\n      <td>Kansas</td>\n    </tr>\n    <tr>\n      <th>16</th>\n      <td>KY</td>\n      <td>Kentucky</td>\n    </tr>\n    <tr>\n      <th>17</th>\n      <td>LA</td>\n      <td>Louisiana</td>\n    </tr>\n    <tr>\n      <th>18</th>\n      <td>ME</td>\n      <td>Maine</td>\n    </tr>\n    <tr>\n      <th>19</th>\n      <td>MD</td>\n      <td>Maryland</td>\n    </tr>\n    <tr>\n      <th>20</th>\n      <td>MA</td>\n      <td>Massachusetts</td>\n    </tr>\n    <tr>\n      <th>21</th>\n      <td>MI</td>\n      <td>Michigan</td>\n    </tr>\n    <tr>\n      <th>22</th>\n      <td>MN</td>\n      <td>Minnesota</td>\n    </tr>\n    <tr>\n      <th>23</th>\n      <td>MS</td>\n      <td>Mississippi</td>\n    </tr>\n    <tr>\n      <th>24</th>\n      <td>MO</td>\n      <td>Missouri</td>\n    </tr>\n    <tr>\n      <th>25</th>\n      <td>MT</td>\n      <td>Montana</td>\n    </tr>\n    <tr>\n      <th>26</th>\n      <td>NE</td>\n      <td>Nebraska</td>\n    </tr>\n    <tr>\n      <th>27</th>\n      <td>NV</td>\n      <td>Nevada</td>\n    </tr>\n    <tr>\n      <th>28</th>\n      <td>NH</td>\n      <td>New Hampshire</td>\n    </tr>\n    <tr>\n      <th>29</th>\n      <td>NJ</td>\n      <td>New Jersey</td>\n    </tr>\n    <tr>\n      <th>30</th>\n      <td>NM</td>\n      <td>New Mexico</td>\n    </tr>\n    <tr>\n      <th>31</th>\n      <td>NY</td>\n      <td>New York</td>\n    </tr>\n    <tr>\n      <th>32</th>\n      <td>NC</td>\n      <td>North Carolina</td>\n    </tr>\n    <tr>\n      <th>33</th>\n      <td>ND</td>\n      <td>North Dakota</td>\n    </tr>\n    <tr>\n      <th>34</th>\n      <td>OH</td>\n      <td>Ohio</td>\n    </tr>\n    <tr>\n      <th>35</th>\n      <td>OK</td>\n      <td>Oklahoma</td>\n    </tr>\n    <tr>\n      <th>36</th>\n      <td>OR</td>\n      <td>Oregon</td>\n    </tr>\n    <tr>\n      <th>37</th>\n      <td>PA</td>\n      <td>Pennsylvania</td>\n    </tr>\n    <tr>\n      <th>38</th>\n      <td>RI</td>\n      <td>Rhode Island</td>\n    </tr>\n    <tr>\n      <th>39</th>\n      <td>SC</td>\n      <td>South Carolina</td>\n    </tr>\n    <tr>\n      <th>40</th>\n      <td>SD</td>\n      <td>South Dakota</td>\n    </tr>\n    <tr>\n      <th>41</th>\n      <td>TN</td>\n      <td>Tennessee</td>\n    </tr>\n    <tr>\n      <th>42</th>\n      <td>TX</td>\n      <td>Texas</td>\n    </tr>\n    <tr>\n      <th>43</th>\n      <td>UT</td>\n      <td>Utah</td>\n    </tr>\n    <tr>\n      <th>44</th>\n      <td>VT</td>\n      <td>Vermont</td>\n    </tr>\n    <tr>\n      <th>45</th>\n      <td>VA</td>\n      <td>Virginia</td>\n    </tr>\n    <tr>\n      <th>46</th>\n      <td>WA</td>\n      <td>Washington</td>\n    </tr>\n    <tr>\n      <th>47</th>\n      <td>WV</td>\n      <td>West Virginia</td>\n    </tr>\n    <tr>\n      <th>48</th>\n      <td>WI</td>\n      <td>Wisconsin</td>\n    </tr>\n    <tr>\n      <th>49</th>\n      <td>WY</td>\n      <td>Wyoming</td>\n    </tr>\n  </tbody>\n</table>\n</div>"
     },
     "execution_count": 13,
     "metadata": {},
     "output_type": "execute_result"
    }
   ]
  },
  {
   "cell_type": "code",
   "metadata": {
    "colab": {
     "base_uri": "https://localhost:8080/",
     "height": 1000
    },
    "id": "NCX-nNr-cvIw",
    "executionInfo": {
     "status": "ok",
     "timestamp": 1608266173849,
     "user_tz": 300,
     "elapsed": 2714,
     "user": {
      "displayName": "Parvi Singh",
      "photoUrl": "",
      "userId": "15870809085498692847"
     }
    },
    "outputId": "2091489f-24eb-40ad-bb7b-dd66a75fa12f"
   },
   "source": [
    "new_pop_data_subset"
   ],
   "execution_count": 14,
   "outputs": [
    {
     "data": {
      "text/plain": "                   state      2014      2015      2016      2017      2018  \\\n5                Alabama   4841799   4852347   4863525   4874486   4887681   \n6                 Alaska    736283    737498    741456    739700    735139   \n7                Arizona   6730413   6829676   6941072   7044008   7158024   \n8               Arkansas   2967392   2978048   2989918   3001345   3009733   \n9             California  38596972  38918045  39167117  39358497  39461588   \n10              Colorado   5350101   5450623   5539215   5611885   5691287   \n11           Connecticut   3594524   3587122   3578141   3573297   3571520   \n12              Delaware    932487    941252    948921    956823    965479   \n13  District of Columbia    662328    675400    685815    694906    701547   \n14               Florida  19845911  20209042  20613477  20963613  21244317   \n15               Georgia  10067278  10178447  10301890  10410330  10511131   \n16                Hawaii   1414538   1422052   1427559   1424393   1420593   \n17                 Idaho   1631112   1651059   1682380   1717715   1750536   \n18              Illinois  12884493  12858913  12820527  12778828  12723071   \n19               Indiana   6593644   6608422   6634304   6658078   6695497   \n20                  Iowa   3109350   3120960   3131371   3141550   3148618   \n21                Kansas   2900475   2909011   2910844   2908718   2911359   \n22              Kentucky   4414349   4425976   4438182   4452268   4461153   \n23             Louisiana   4644013   4664628   4678135   4670560   4659690   \n24                 Maine   1330513   1328262   1331317   1334612   1339057   \n25              Maryland   5957283   5985562   6003323   6023868   6035802   \n26         Massachusetts   6762596   6794228   6823608   6859789   6882635   \n27              Michigan   9929848   9931715   9950571   9973114   9984072   \n28             Minnesota   5451079   5482032   5522744   5566230   5606249   \n29           Mississippi   2990468   2988471   2987938   2988510   2981020   \n30              Missouri   6056202   6071732   6087135   6106670   6121623   \n31               Montana   1021869   1030475   1040859   1052482   1060665   \n32              Nebraska   1879321   1891277   1905616   1915947   1925614   \n33                Nevada   2817628   2866939   2917563   2969905   3027341   \n34         New Hampshire   1333341   1336350   1342307   1348787   1353465   \n35            New Jersey   8864525   8867949   8870827   8885525   8886025   \n36            New Mexico   2089568   2089291   2091630   2091784   2092741   \n37              New York  19651049  19654666  19633428  19589572  19530351   \n38        North Carolina   9932887  10031646  10154788  10268233  10381615   \n39          North Dakota    737401    754066    754434    754942    758080   \n40                  Ohio  11602700  11617527  11634370  11659650  11676341   \n41              Oklahoma   3878187   3909500   3926331   3931316   3940235   \n42                Oregon   3963244   4015792   4089976   4143625   4181886   \n43          Pennsylvania  12788313  12784826  12782275  12787641  12800922   \n44          Rhode Island   1055936   1056065   1056770   1055673   1058287   \n45        South Carolina   4823617   4891938   4957968   5021268   5084156   \n46          South Dakota    849129    853988    862996    872868    878698   \n47             Tennessee   6541223   6591170   6646010   6708799   6771631   \n48                 Texas  26964333  27470056  27914410  28295273  28628666   \n49                  Utah   2936879   2981835   3041868   3101042   3153550   \n50               Vermont    625214    625216    623657    624344    624358   \n51              Virginia   8310993   8361808   8410106   8463587   8501286   \n52            Washington   7054655   7163657   7294771   7423362   7523869   \n53         West Virginia   1849489   1842050   1831023   1817004   1804291   \n54             Wisconsin   5751525   5760940   5772628   5790186   5807406   \n55               Wyoming    582531    585613    584215    578931    577601   \n56           Puerto Rico   3534874   3473232   3406672   3325286   3193354   \n\n        2019      2020  \n5    4903185   4926478  \n6     731545    735020  \n7    7278717   7313296  \n8    3017804   3032140  \n9   39512223  39699937  \n10   5758736   5786094  \n11   3565287   3582224  \n12    973764    978390  \n13    705749    709101  \n14  21477737  21579773  \n15  10617423  10667864  \n16   1415872   1422598  \n17   1787065   1795554  \n18  12671821  12732022  \n19   6732219   6764202  \n20   3155070   3170059  \n21   2913314   2927154  \n22   4467673   4488897  \n23   4648794   4670879  \n24   1344212   1350598  \n25   6045680   6074401  \n26   6892503   6925247  \n27   9986857  10034302  \n28   5639632   5666424  \n29   2976149   2990288  \n30   6137428   6166585  \n31   1068778   1073855  \n32   1934408   1943597  \n33   3080156   3094789  \n34   1359711   1366170  \n35   8882190   8924387  \n36   2096829   2106790  \n37  19453561  19545980  \n38  10488084  10537910  \n39    762062    765682  \n40  11689100  11744632  \n41   3956971   3975769  \n42   4217737   4237774  \n43  12801989  12862808  \n44   1059361   1064393  \n45   5148714   5173174  \n46    884659    888861  \n47   6829174   6861617  \n48  28995881  29133634  \n49   3205958   3221188  \n50    623989    626953  \n51   8535519   8576069  \n52   7614893   7651069  \n53   1792147   1800661  \n54   5822434   5850095  \n55    578759    581508  \n56   3193694   3208866  ",
      "text/html": "<div>\n<style scoped>\n    .dataframe tbody tr th:only-of-type {\n        vertical-align: middle;\n    }\n\n    .dataframe tbody tr th {\n        vertical-align: top;\n    }\n\n    .dataframe thead th {\n        text-align: right;\n    }\n</style>\n<table border=\"1\" class=\"dataframe\">\n  <thead>\n    <tr style=\"text-align: right;\">\n      <th></th>\n      <th>state</th>\n      <th>2014</th>\n      <th>2015</th>\n      <th>2016</th>\n      <th>2017</th>\n      <th>2018</th>\n      <th>2019</th>\n      <th>2020</th>\n    </tr>\n  </thead>\n  <tbody>\n    <tr>\n      <th>5</th>\n      <td>Alabama</td>\n      <td>4841799</td>\n      <td>4852347</td>\n      <td>4863525</td>\n      <td>4874486</td>\n      <td>4887681</td>\n      <td>4903185</td>\n      <td>4926478</td>\n    </tr>\n    <tr>\n      <th>6</th>\n      <td>Alaska</td>\n      <td>736283</td>\n      <td>737498</td>\n      <td>741456</td>\n      <td>739700</td>\n      <td>735139</td>\n      <td>731545</td>\n      <td>735020</td>\n    </tr>\n    <tr>\n      <th>7</th>\n      <td>Arizona</td>\n      <td>6730413</td>\n      <td>6829676</td>\n      <td>6941072</td>\n      <td>7044008</td>\n      <td>7158024</td>\n      <td>7278717</td>\n      <td>7313296</td>\n    </tr>\n    <tr>\n      <th>8</th>\n      <td>Arkansas</td>\n      <td>2967392</td>\n      <td>2978048</td>\n      <td>2989918</td>\n      <td>3001345</td>\n      <td>3009733</td>\n      <td>3017804</td>\n      <td>3032140</td>\n    </tr>\n    <tr>\n      <th>9</th>\n      <td>California</td>\n      <td>38596972</td>\n      <td>38918045</td>\n      <td>39167117</td>\n      <td>39358497</td>\n      <td>39461588</td>\n      <td>39512223</td>\n      <td>39699937</td>\n    </tr>\n    <tr>\n      <th>10</th>\n      <td>Colorado</td>\n      <td>5350101</td>\n      <td>5450623</td>\n      <td>5539215</td>\n      <td>5611885</td>\n      <td>5691287</td>\n      <td>5758736</td>\n      <td>5786094</td>\n    </tr>\n    <tr>\n      <th>11</th>\n      <td>Connecticut</td>\n      <td>3594524</td>\n      <td>3587122</td>\n      <td>3578141</td>\n      <td>3573297</td>\n      <td>3571520</td>\n      <td>3565287</td>\n      <td>3582224</td>\n    </tr>\n    <tr>\n      <th>12</th>\n      <td>Delaware</td>\n      <td>932487</td>\n      <td>941252</td>\n      <td>948921</td>\n      <td>956823</td>\n      <td>965479</td>\n      <td>973764</td>\n      <td>978390</td>\n    </tr>\n    <tr>\n      <th>13</th>\n      <td>District of Columbia</td>\n      <td>662328</td>\n      <td>675400</td>\n      <td>685815</td>\n      <td>694906</td>\n      <td>701547</td>\n      <td>705749</td>\n      <td>709101</td>\n    </tr>\n    <tr>\n      <th>14</th>\n      <td>Florida</td>\n      <td>19845911</td>\n      <td>20209042</td>\n      <td>20613477</td>\n      <td>20963613</td>\n      <td>21244317</td>\n      <td>21477737</td>\n      <td>21579773</td>\n    </tr>\n    <tr>\n      <th>15</th>\n      <td>Georgia</td>\n      <td>10067278</td>\n      <td>10178447</td>\n      <td>10301890</td>\n      <td>10410330</td>\n      <td>10511131</td>\n      <td>10617423</td>\n      <td>10667864</td>\n    </tr>\n    <tr>\n      <th>16</th>\n      <td>Hawaii</td>\n      <td>1414538</td>\n      <td>1422052</td>\n      <td>1427559</td>\n      <td>1424393</td>\n      <td>1420593</td>\n      <td>1415872</td>\n      <td>1422598</td>\n    </tr>\n    <tr>\n      <th>17</th>\n      <td>Idaho</td>\n      <td>1631112</td>\n      <td>1651059</td>\n      <td>1682380</td>\n      <td>1717715</td>\n      <td>1750536</td>\n      <td>1787065</td>\n      <td>1795554</td>\n    </tr>\n    <tr>\n      <th>18</th>\n      <td>Illinois</td>\n      <td>12884493</td>\n      <td>12858913</td>\n      <td>12820527</td>\n      <td>12778828</td>\n      <td>12723071</td>\n      <td>12671821</td>\n      <td>12732022</td>\n    </tr>\n    <tr>\n      <th>19</th>\n      <td>Indiana</td>\n      <td>6593644</td>\n      <td>6608422</td>\n      <td>6634304</td>\n      <td>6658078</td>\n      <td>6695497</td>\n      <td>6732219</td>\n      <td>6764202</td>\n    </tr>\n    <tr>\n      <th>20</th>\n      <td>Iowa</td>\n      <td>3109350</td>\n      <td>3120960</td>\n      <td>3131371</td>\n      <td>3141550</td>\n      <td>3148618</td>\n      <td>3155070</td>\n      <td>3170059</td>\n    </tr>\n    <tr>\n      <th>21</th>\n      <td>Kansas</td>\n      <td>2900475</td>\n      <td>2909011</td>\n      <td>2910844</td>\n      <td>2908718</td>\n      <td>2911359</td>\n      <td>2913314</td>\n      <td>2927154</td>\n    </tr>\n    <tr>\n      <th>22</th>\n      <td>Kentucky</td>\n      <td>4414349</td>\n      <td>4425976</td>\n      <td>4438182</td>\n      <td>4452268</td>\n      <td>4461153</td>\n      <td>4467673</td>\n      <td>4488897</td>\n    </tr>\n    <tr>\n      <th>23</th>\n      <td>Louisiana</td>\n      <td>4644013</td>\n      <td>4664628</td>\n      <td>4678135</td>\n      <td>4670560</td>\n      <td>4659690</td>\n      <td>4648794</td>\n      <td>4670879</td>\n    </tr>\n    <tr>\n      <th>24</th>\n      <td>Maine</td>\n      <td>1330513</td>\n      <td>1328262</td>\n      <td>1331317</td>\n      <td>1334612</td>\n      <td>1339057</td>\n      <td>1344212</td>\n      <td>1350598</td>\n    </tr>\n    <tr>\n      <th>25</th>\n      <td>Maryland</td>\n      <td>5957283</td>\n      <td>5985562</td>\n      <td>6003323</td>\n      <td>6023868</td>\n      <td>6035802</td>\n      <td>6045680</td>\n      <td>6074401</td>\n    </tr>\n    <tr>\n      <th>26</th>\n      <td>Massachusetts</td>\n      <td>6762596</td>\n      <td>6794228</td>\n      <td>6823608</td>\n      <td>6859789</td>\n      <td>6882635</td>\n      <td>6892503</td>\n      <td>6925247</td>\n    </tr>\n    <tr>\n      <th>27</th>\n      <td>Michigan</td>\n      <td>9929848</td>\n      <td>9931715</td>\n      <td>9950571</td>\n      <td>9973114</td>\n      <td>9984072</td>\n      <td>9986857</td>\n      <td>10034302</td>\n    </tr>\n    <tr>\n      <th>28</th>\n      <td>Minnesota</td>\n      <td>5451079</td>\n      <td>5482032</td>\n      <td>5522744</td>\n      <td>5566230</td>\n      <td>5606249</td>\n      <td>5639632</td>\n      <td>5666424</td>\n    </tr>\n    <tr>\n      <th>29</th>\n      <td>Mississippi</td>\n      <td>2990468</td>\n      <td>2988471</td>\n      <td>2987938</td>\n      <td>2988510</td>\n      <td>2981020</td>\n      <td>2976149</td>\n      <td>2990288</td>\n    </tr>\n    <tr>\n      <th>30</th>\n      <td>Missouri</td>\n      <td>6056202</td>\n      <td>6071732</td>\n      <td>6087135</td>\n      <td>6106670</td>\n      <td>6121623</td>\n      <td>6137428</td>\n      <td>6166585</td>\n    </tr>\n    <tr>\n      <th>31</th>\n      <td>Montana</td>\n      <td>1021869</td>\n      <td>1030475</td>\n      <td>1040859</td>\n      <td>1052482</td>\n      <td>1060665</td>\n      <td>1068778</td>\n      <td>1073855</td>\n    </tr>\n    <tr>\n      <th>32</th>\n      <td>Nebraska</td>\n      <td>1879321</td>\n      <td>1891277</td>\n      <td>1905616</td>\n      <td>1915947</td>\n      <td>1925614</td>\n      <td>1934408</td>\n      <td>1943597</td>\n    </tr>\n    <tr>\n      <th>33</th>\n      <td>Nevada</td>\n      <td>2817628</td>\n      <td>2866939</td>\n      <td>2917563</td>\n      <td>2969905</td>\n      <td>3027341</td>\n      <td>3080156</td>\n      <td>3094789</td>\n    </tr>\n    <tr>\n      <th>34</th>\n      <td>New Hampshire</td>\n      <td>1333341</td>\n      <td>1336350</td>\n      <td>1342307</td>\n      <td>1348787</td>\n      <td>1353465</td>\n      <td>1359711</td>\n      <td>1366170</td>\n    </tr>\n    <tr>\n      <th>35</th>\n      <td>New Jersey</td>\n      <td>8864525</td>\n      <td>8867949</td>\n      <td>8870827</td>\n      <td>8885525</td>\n      <td>8886025</td>\n      <td>8882190</td>\n      <td>8924387</td>\n    </tr>\n    <tr>\n      <th>36</th>\n      <td>New Mexico</td>\n      <td>2089568</td>\n      <td>2089291</td>\n      <td>2091630</td>\n      <td>2091784</td>\n      <td>2092741</td>\n      <td>2096829</td>\n      <td>2106790</td>\n    </tr>\n    <tr>\n      <th>37</th>\n      <td>New York</td>\n      <td>19651049</td>\n      <td>19654666</td>\n      <td>19633428</td>\n      <td>19589572</td>\n      <td>19530351</td>\n      <td>19453561</td>\n      <td>19545980</td>\n    </tr>\n    <tr>\n      <th>38</th>\n      <td>North Carolina</td>\n      <td>9932887</td>\n      <td>10031646</td>\n      <td>10154788</td>\n      <td>10268233</td>\n      <td>10381615</td>\n      <td>10488084</td>\n      <td>10537910</td>\n    </tr>\n    <tr>\n      <th>39</th>\n      <td>North Dakota</td>\n      <td>737401</td>\n      <td>754066</td>\n      <td>754434</td>\n      <td>754942</td>\n      <td>758080</td>\n      <td>762062</td>\n      <td>765682</td>\n    </tr>\n    <tr>\n      <th>40</th>\n      <td>Ohio</td>\n      <td>11602700</td>\n      <td>11617527</td>\n      <td>11634370</td>\n      <td>11659650</td>\n      <td>11676341</td>\n      <td>11689100</td>\n      <td>11744632</td>\n    </tr>\n    <tr>\n      <th>41</th>\n      <td>Oklahoma</td>\n      <td>3878187</td>\n      <td>3909500</td>\n      <td>3926331</td>\n      <td>3931316</td>\n      <td>3940235</td>\n      <td>3956971</td>\n      <td>3975769</td>\n    </tr>\n    <tr>\n      <th>42</th>\n      <td>Oregon</td>\n      <td>3963244</td>\n      <td>4015792</td>\n      <td>4089976</td>\n      <td>4143625</td>\n      <td>4181886</td>\n      <td>4217737</td>\n      <td>4237774</td>\n    </tr>\n    <tr>\n      <th>43</th>\n      <td>Pennsylvania</td>\n      <td>12788313</td>\n      <td>12784826</td>\n      <td>12782275</td>\n      <td>12787641</td>\n      <td>12800922</td>\n      <td>12801989</td>\n      <td>12862808</td>\n    </tr>\n    <tr>\n      <th>44</th>\n      <td>Rhode Island</td>\n      <td>1055936</td>\n      <td>1056065</td>\n      <td>1056770</td>\n      <td>1055673</td>\n      <td>1058287</td>\n      <td>1059361</td>\n      <td>1064393</td>\n    </tr>\n    <tr>\n      <th>45</th>\n      <td>South Carolina</td>\n      <td>4823617</td>\n      <td>4891938</td>\n      <td>4957968</td>\n      <td>5021268</td>\n      <td>5084156</td>\n      <td>5148714</td>\n      <td>5173174</td>\n    </tr>\n    <tr>\n      <th>46</th>\n      <td>South Dakota</td>\n      <td>849129</td>\n      <td>853988</td>\n      <td>862996</td>\n      <td>872868</td>\n      <td>878698</td>\n      <td>884659</td>\n      <td>888861</td>\n    </tr>\n    <tr>\n      <th>47</th>\n      <td>Tennessee</td>\n      <td>6541223</td>\n      <td>6591170</td>\n      <td>6646010</td>\n      <td>6708799</td>\n      <td>6771631</td>\n      <td>6829174</td>\n      <td>6861617</td>\n    </tr>\n    <tr>\n      <th>48</th>\n      <td>Texas</td>\n      <td>26964333</td>\n      <td>27470056</td>\n      <td>27914410</td>\n      <td>28295273</td>\n      <td>28628666</td>\n      <td>28995881</td>\n      <td>29133634</td>\n    </tr>\n    <tr>\n      <th>49</th>\n      <td>Utah</td>\n      <td>2936879</td>\n      <td>2981835</td>\n      <td>3041868</td>\n      <td>3101042</td>\n      <td>3153550</td>\n      <td>3205958</td>\n      <td>3221188</td>\n    </tr>\n    <tr>\n      <th>50</th>\n      <td>Vermont</td>\n      <td>625214</td>\n      <td>625216</td>\n      <td>623657</td>\n      <td>624344</td>\n      <td>624358</td>\n      <td>623989</td>\n      <td>626953</td>\n    </tr>\n    <tr>\n      <th>51</th>\n      <td>Virginia</td>\n      <td>8310993</td>\n      <td>8361808</td>\n      <td>8410106</td>\n      <td>8463587</td>\n      <td>8501286</td>\n      <td>8535519</td>\n      <td>8576069</td>\n    </tr>\n    <tr>\n      <th>52</th>\n      <td>Washington</td>\n      <td>7054655</td>\n      <td>7163657</td>\n      <td>7294771</td>\n      <td>7423362</td>\n      <td>7523869</td>\n      <td>7614893</td>\n      <td>7651069</td>\n    </tr>\n    <tr>\n      <th>53</th>\n      <td>West Virginia</td>\n      <td>1849489</td>\n      <td>1842050</td>\n      <td>1831023</td>\n      <td>1817004</td>\n      <td>1804291</td>\n      <td>1792147</td>\n      <td>1800661</td>\n    </tr>\n    <tr>\n      <th>54</th>\n      <td>Wisconsin</td>\n      <td>5751525</td>\n      <td>5760940</td>\n      <td>5772628</td>\n      <td>5790186</td>\n      <td>5807406</td>\n      <td>5822434</td>\n      <td>5850095</td>\n    </tr>\n    <tr>\n      <th>55</th>\n      <td>Wyoming</td>\n      <td>582531</td>\n      <td>585613</td>\n      <td>584215</td>\n      <td>578931</td>\n      <td>577601</td>\n      <td>578759</td>\n      <td>581508</td>\n    </tr>\n    <tr>\n      <th>56</th>\n      <td>Puerto Rico</td>\n      <td>3534874</td>\n      <td>3473232</td>\n      <td>3406672</td>\n      <td>3325286</td>\n      <td>3193354</td>\n      <td>3193694</td>\n      <td>3208866</td>\n    </tr>\n  </tbody>\n</table>\n</div>"
     },
     "execution_count": 14,
     "metadata": {},
     "output_type": "execute_result"
    }
   ]
  },
  {
   "cell_type": "code",
   "metadata": {
    "id": "N-3XEAQ1TBuC",
    "executionInfo": {
     "status": "ok",
     "timestamp": 1608266173850,
     "user_tz": 300,
     "elapsed": 2707,
     "user": {
      "displayName": "Parvi Singh",
      "photoUrl": "",
      "userId": "15870809085498692847"
     }
    }
   },
   "source": [
    "new_pop_data_subset = pd.melt(new_pop_data_subset,id_vars= ['state'], value_vars= ['2014', '2015', '2016', '2017', '2018', '2019', '2020'])\n",
    "new_pop_data_subset.rename(columns = {'variable': 'year', 'value': 'population'}, inplace= True)"
   ],
   "execution_count": 15,
   "outputs": []
  },
  {
   "cell_type": "code",
   "metadata": {
    "colab": {
     "base_uri": "https://localhost:8080/",
     "height": 1000
    },
    "id": "kn-ju8xzkc90",
    "executionInfo": {
     "status": "ok",
     "timestamp": 1608266174089,
     "user_tz": 300,
     "elapsed": 2939,
     "user": {
      "displayName": "Parvi Singh",
      "photoUrl": "",
      "userId": "15870809085498692847"
     }
    },
    "outputId": "bac01a14-7de5-4b34-b9db-dab16eda9c43"
   },
   "source": [
    "state_codes"
   ],
   "execution_count": 16,
   "outputs": [
    {
     "data": {
      "text/plain": "   code           state\n0    AL         Alabama\n1    AK          Alaska\n2    AZ         Arizona\n3    AR        Arkansas\n4    CA      California\n5    CO        Colorado\n6    CT     Connecticut\n7    DE        Delaware\n8    FL         Florida\n9    GA         Georgia\n10   HI          Hawaii\n11   ID           Idaho\n12   IL        Illinois\n13   IN         Indiana\n14   IA            Iowa\n15   KS          Kansas\n16   KY        Kentucky\n17   LA       Louisiana\n18   ME           Maine\n19   MD        Maryland\n20   MA   Massachusetts\n21   MI        Michigan\n22   MN       Minnesota\n23   MS     Mississippi\n24   MO        Missouri\n25   MT         Montana\n26   NE        Nebraska\n27   NV          Nevada\n28   NH   New Hampshire\n29   NJ      New Jersey\n30   NM      New Mexico\n31   NY        New York\n32   NC  North Carolina\n33   ND    North Dakota\n34   OH            Ohio\n35   OK        Oklahoma\n36   OR          Oregon\n37   PA    Pennsylvania\n38   RI    Rhode Island\n39   SC  South Carolina\n40   SD    South Dakota\n41   TN       Tennessee\n42   TX           Texas\n43   UT            Utah\n44   VT         Vermont\n45   VA        Virginia\n46   WA      Washington\n47   WV   West Virginia\n48   WI       Wisconsin\n49   WY         Wyoming",
      "text/html": "<div>\n<style scoped>\n    .dataframe tbody tr th:only-of-type {\n        vertical-align: middle;\n    }\n\n    .dataframe tbody tr th {\n        vertical-align: top;\n    }\n\n    .dataframe thead th {\n        text-align: right;\n    }\n</style>\n<table border=\"1\" class=\"dataframe\">\n  <thead>\n    <tr style=\"text-align: right;\">\n      <th></th>\n      <th>code</th>\n      <th>state</th>\n    </tr>\n  </thead>\n  <tbody>\n    <tr>\n      <th>0</th>\n      <td>AL</td>\n      <td>Alabama</td>\n    </tr>\n    <tr>\n      <th>1</th>\n      <td>AK</td>\n      <td>Alaska</td>\n    </tr>\n    <tr>\n      <th>2</th>\n      <td>AZ</td>\n      <td>Arizona</td>\n    </tr>\n    <tr>\n      <th>3</th>\n      <td>AR</td>\n      <td>Arkansas</td>\n    </tr>\n    <tr>\n      <th>4</th>\n      <td>CA</td>\n      <td>California</td>\n    </tr>\n    <tr>\n      <th>5</th>\n      <td>CO</td>\n      <td>Colorado</td>\n    </tr>\n    <tr>\n      <th>6</th>\n      <td>CT</td>\n      <td>Connecticut</td>\n    </tr>\n    <tr>\n      <th>7</th>\n      <td>DE</td>\n      <td>Delaware</td>\n    </tr>\n    <tr>\n      <th>8</th>\n      <td>FL</td>\n      <td>Florida</td>\n    </tr>\n    <tr>\n      <th>9</th>\n      <td>GA</td>\n      <td>Georgia</td>\n    </tr>\n    <tr>\n      <th>10</th>\n      <td>HI</td>\n      <td>Hawaii</td>\n    </tr>\n    <tr>\n      <th>11</th>\n      <td>ID</td>\n      <td>Idaho</td>\n    </tr>\n    <tr>\n      <th>12</th>\n      <td>IL</td>\n      <td>Illinois</td>\n    </tr>\n    <tr>\n      <th>13</th>\n      <td>IN</td>\n      <td>Indiana</td>\n    </tr>\n    <tr>\n      <th>14</th>\n      <td>IA</td>\n      <td>Iowa</td>\n    </tr>\n    <tr>\n      <th>15</th>\n      <td>KS</td>\n      <td>Kansas</td>\n    </tr>\n    <tr>\n      <th>16</th>\n      <td>KY</td>\n      <td>Kentucky</td>\n    </tr>\n    <tr>\n      <th>17</th>\n      <td>LA</td>\n      <td>Louisiana</td>\n    </tr>\n    <tr>\n      <th>18</th>\n      <td>ME</td>\n      <td>Maine</td>\n    </tr>\n    <tr>\n      <th>19</th>\n      <td>MD</td>\n      <td>Maryland</td>\n    </tr>\n    <tr>\n      <th>20</th>\n      <td>MA</td>\n      <td>Massachusetts</td>\n    </tr>\n    <tr>\n      <th>21</th>\n      <td>MI</td>\n      <td>Michigan</td>\n    </tr>\n    <tr>\n      <th>22</th>\n      <td>MN</td>\n      <td>Minnesota</td>\n    </tr>\n    <tr>\n      <th>23</th>\n      <td>MS</td>\n      <td>Mississippi</td>\n    </tr>\n    <tr>\n      <th>24</th>\n      <td>MO</td>\n      <td>Missouri</td>\n    </tr>\n    <tr>\n      <th>25</th>\n      <td>MT</td>\n      <td>Montana</td>\n    </tr>\n    <tr>\n      <th>26</th>\n      <td>NE</td>\n      <td>Nebraska</td>\n    </tr>\n    <tr>\n      <th>27</th>\n      <td>NV</td>\n      <td>Nevada</td>\n    </tr>\n    <tr>\n      <th>28</th>\n      <td>NH</td>\n      <td>New Hampshire</td>\n    </tr>\n    <tr>\n      <th>29</th>\n      <td>NJ</td>\n      <td>New Jersey</td>\n    </tr>\n    <tr>\n      <th>30</th>\n      <td>NM</td>\n      <td>New Mexico</td>\n    </tr>\n    <tr>\n      <th>31</th>\n      <td>NY</td>\n      <td>New York</td>\n    </tr>\n    <tr>\n      <th>32</th>\n      <td>NC</td>\n      <td>North Carolina</td>\n    </tr>\n    <tr>\n      <th>33</th>\n      <td>ND</td>\n      <td>North Dakota</td>\n    </tr>\n    <tr>\n      <th>34</th>\n      <td>OH</td>\n      <td>Ohio</td>\n    </tr>\n    <tr>\n      <th>35</th>\n      <td>OK</td>\n      <td>Oklahoma</td>\n    </tr>\n    <tr>\n      <th>36</th>\n      <td>OR</td>\n      <td>Oregon</td>\n    </tr>\n    <tr>\n      <th>37</th>\n      <td>PA</td>\n      <td>Pennsylvania</td>\n    </tr>\n    <tr>\n      <th>38</th>\n      <td>RI</td>\n      <td>Rhode Island</td>\n    </tr>\n    <tr>\n      <th>39</th>\n      <td>SC</td>\n      <td>South Carolina</td>\n    </tr>\n    <tr>\n      <th>40</th>\n      <td>SD</td>\n      <td>South Dakota</td>\n    </tr>\n    <tr>\n      <th>41</th>\n      <td>TN</td>\n      <td>Tennessee</td>\n    </tr>\n    <tr>\n      <th>42</th>\n      <td>TX</td>\n      <td>Texas</td>\n    </tr>\n    <tr>\n      <th>43</th>\n      <td>UT</td>\n      <td>Utah</td>\n    </tr>\n    <tr>\n      <th>44</th>\n      <td>VT</td>\n      <td>Vermont</td>\n    </tr>\n    <tr>\n      <th>45</th>\n      <td>VA</td>\n      <td>Virginia</td>\n    </tr>\n    <tr>\n      <th>46</th>\n      <td>WA</td>\n      <td>Washington</td>\n    </tr>\n    <tr>\n      <th>47</th>\n      <td>WV</td>\n      <td>West Virginia</td>\n    </tr>\n    <tr>\n      <th>48</th>\n      <td>WI</td>\n      <td>Wisconsin</td>\n    </tr>\n    <tr>\n      <th>49</th>\n      <td>WY</td>\n      <td>Wyoming</td>\n    </tr>\n  </tbody>\n</table>\n</div>"
     },
     "execution_count": 16,
     "metadata": {},
     "output_type": "execute_result"
    }
   ]
  },
  {
   "cell_type": "code",
   "metadata": {
    "colab": {
     "base_uri": "https://localhost:8080/",
     "height": 407
    },
    "id": "0X0tyOD8Os0W",
    "executionInfo": {
     "status": "ok",
     "timestamp": 1608266174091,
     "user_tz": 300,
     "elapsed": 2925,
     "user": {
      "displayName": "Parvi Singh",
      "photoUrl": "",
      "userId": "15870809085498692847"
     }
    },
    "outputId": "5fef82fe-43df-4a82-9a00-61ab32b26435"
   },
   "source": [
    "new_pop_data_subset = pd.merge(state_codes, new_pop_data_subset, on = 'state')\n",
    "new_pop_data_subset"
   ],
   "execution_count": 17,
   "outputs": [
    {
     "data": {
      "text/plain": "    code    state  year  population\n0     AL  Alabama  2014     4841799\n1     AL  Alabama  2015     4852347\n2     AL  Alabama  2016     4863525\n3     AL  Alabama  2017     4874486\n4     AL  Alabama  2018     4887681\n..   ...      ...   ...         ...\n345   WY  Wyoming  2016      584215\n346   WY  Wyoming  2017      578931\n347   WY  Wyoming  2018      577601\n348   WY  Wyoming  2019      578759\n349   WY  Wyoming  2020      581508\n\n[350 rows x 4 columns]",
      "text/html": "<div>\n<style scoped>\n    .dataframe tbody tr th:only-of-type {\n        vertical-align: middle;\n    }\n\n    .dataframe tbody tr th {\n        vertical-align: top;\n    }\n\n    .dataframe thead th {\n        text-align: right;\n    }\n</style>\n<table border=\"1\" class=\"dataframe\">\n  <thead>\n    <tr style=\"text-align: right;\">\n      <th></th>\n      <th>code</th>\n      <th>state</th>\n      <th>year</th>\n      <th>population</th>\n    </tr>\n  </thead>\n  <tbody>\n    <tr>\n      <th>0</th>\n      <td>AL</td>\n      <td>Alabama</td>\n      <td>2014</td>\n      <td>4841799</td>\n    </tr>\n    <tr>\n      <th>1</th>\n      <td>AL</td>\n      <td>Alabama</td>\n      <td>2015</td>\n      <td>4852347</td>\n    </tr>\n    <tr>\n      <th>2</th>\n      <td>AL</td>\n      <td>Alabama</td>\n      <td>2016</td>\n      <td>4863525</td>\n    </tr>\n    <tr>\n      <th>3</th>\n      <td>AL</td>\n      <td>Alabama</td>\n      <td>2017</td>\n      <td>4874486</td>\n    </tr>\n    <tr>\n      <th>4</th>\n      <td>AL</td>\n      <td>Alabama</td>\n      <td>2018</td>\n      <td>4887681</td>\n    </tr>\n    <tr>\n      <th>...</th>\n      <td>...</td>\n      <td>...</td>\n      <td>...</td>\n      <td>...</td>\n    </tr>\n    <tr>\n      <th>345</th>\n      <td>WY</td>\n      <td>Wyoming</td>\n      <td>2016</td>\n      <td>584215</td>\n    </tr>\n    <tr>\n      <th>346</th>\n      <td>WY</td>\n      <td>Wyoming</td>\n      <td>2017</td>\n      <td>578931</td>\n    </tr>\n    <tr>\n      <th>347</th>\n      <td>WY</td>\n      <td>Wyoming</td>\n      <td>2018</td>\n      <td>577601</td>\n    </tr>\n    <tr>\n      <th>348</th>\n      <td>WY</td>\n      <td>Wyoming</td>\n      <td>2019</td>\n      <td>578759</td>\n    </tr>\n    <tr>\n      <th>349</th>\n      <td>WY</td>\n      <td>Wyoming</td>\n      <td>2020</td>\n      <td>581508</td>\n    </tr>\n  </tbody>\n</table>\n<p>350 rows × 4 columns</p>\n</div>"
     },
     "execution_count": 17,
     "metadata": {},
     "output_type": "execute_result"
    }
   ]
  },
  {
   "cell_type": "code",
   "metadata": {
    "colab": {
     "base_uri": "https://localhost:8080/",
     "height": 407
    },
    "id": "RKkxH1K0Jome",
    "executionInfo": {
     "status": "ok",
     "timestamp": 1608266174091,
     "user_tz": 300,
     "elapsed": 2916,
     "user": {
      "displayName": "Parvi Singh",
      "photoUrl": "",
      "userId": "15870809085498692847"
     }
    },
    "outputId": "1a38a090-fe35-4e15-bb40-92558a9c5efd"
   },
   "source": [
    "# generate dataframe to include months in new_pop_data_subset\r\n",
    "new_pop_data_subset['month'] = 'NaN'\r\n",
    "\r\n",
    "new_pop_data_subset_1 = new_pop_data_subset.copy()\r\n",
    "# new_pop_data_subset_2 = new_pop_data_subset.copy()\r\n",
    "new_pop_data_subset_1['month'] = 1\r\n",
    "# new_pop_data_subset_2['month'] = 2\r\n",
    "new_pop_data_subset_2 = new_pop_data_subset.copy()\r\n",
    "for i in range (2,13):\r\n",
    "  new_pop_data_subset_2['month'] = i\r\n",
    "  new_pop_data_subset_1 = pd.concat([new_pop_data_subset_1,new_pop_data_subset_2])\r\n",
    "new_pop_data_subset_1"
   ],
   "execution_count": 18,
   "outputs": [
    {
     "data": {
      "text/plain": "    code    state  year  population  month\n0     AL  Alabama  2014     4841799      1\n1     AL  Alabama  2015     4852347      1\n2     AL  Alabama  2016     4863525      1\n3     AL  Alabama  2017     4874486      1\n4     AL  Alabama  2018     4887681      1\n..   ...      ...   ...         ...    ...\n345   WY  Wyoming  2016      584215     12\n346   WY  Wyoming  2017      578931     12\n347   WY  Wyoming  2018      577601     12\n348   WY  Wyoming  2019      578759     12\n349   WY  Wyoming  2020      581508     12\n\n[4200 rows x 5 columns]",
      "text/html": "<div>\n<style scoped>\n    .dataframe tbody tr th:only-of-type {\n        vertical-align: middle;\n    }\n\n    .dataframe tbody tr th {\n        vertical-align: top;\n    }\n\n    .dataframe thead th {\n        text-align: right;\n    }\n</style>\n<table border=\"1\" class=\"dataframe\">\n  <thead>\n    <tr style=\"text-align: right;\">\n      <th></th>\n      <th>code</th>\n      <th>state</th>\n      <th>year</th>\n      <th>population</th>\n      <th>month</th>\n    </tr>\n  </thead>\n  <tbody>\n    <tr>\n      <th>0</th>\n      <td>AL</td>\n      <td>Alabama</td>\n      <td>2014</td>\n      <td>4841799</td>\n      <td>1</td>\n    </tr>\n    <tr>\n      <th>1</th>\n      <td>AL</td>\n      <td>Alabama</td>\n      <td>2015</td>\n      <td>4852347</td>\n      <td>1</td>\n    </tr>\n    <tr>\n      <th>2</th>\n      <td>AL</td>\n      <td>Alabama</td>\n      <td>2016</td>\n      <td>4863525</td>\n      <td>1</td>\n    </tr>\n    <tr>\n      <th>3</th>\n      <td>AL</td>\n      <td>Alabama</td>\n      <td>2017</td>\n      <td>4874486</td>\n      <td>1</td>\n    </tr>\n    <tr>\n      <th>4</th>\n      <td>AL</td>\n      <td>Alabama</td>\n      <td>2018</td>\n      <td>4887681</td>\n      <td>1</td>\n    </tr>\n    <tr>\n      <th>...</th>\n      <td>...</td>\n      <td>...</td>\n      <td>...</td>\n      <td>...</td>\n      <td>...</td>\n    </tr>\n    <tr>\n      <th>345</th>\n      <td>WY</td>\n      <td>Wyoming</td>\n      <td>2016</td>\n      <td>584215</td>\n      <td>12</td>\n    </tr>\n    <tr>\n      <th>346</th>\n      <td>WY</td>\n      <td>Wyoming</td>\n      <td>2017</td>\n      <td>578931</td>\n      <td>12</td>\n    </tr>\n    <tr>\n      <th>347</th>\n      <td>WY</td>\n      <td>Wyoming</td>\n      <td>2018</td>\n      <td>577601</td>\n      <td>12</td>\n    </tr>\n    <tr>\n      <th>348</th>\n      <td>WY</td>\n      <td>Wyoming</td>\n      <td>2019</td>\n      <td>578759</td>\n      <td>12</td>\n    </tr>\n    <tr>\n      <th>349</th>\n      <td>WY</td>\n      <td>Wyoming</td>\n      <td>2020</td>\n      <td>581508</td>\n      <td>12</td>\n    </tr>\n  </tbody>\n</table>\n<p>4200 rows × 5 columns</p>\n</div>"
     },
     "execution_count": 18,
     "metadata": {},
     "output_type": "execute_result"
    }
   ]
  },
  {
   "cell_type": "code",
   "metadata": {
    "colab": {
     "base_uri": "https://localhost:8080/",
     "height": 407
    },
    "id": "RU-1f9roUPlM",
    "executionInfo": {
     "status": "ok",
     "timestamp": 1608266174092,
     "user_tz": 300,
     "elapsed": 2906,
     "user": {
      "displayName": "Parvi Singh",
      "photoUrl": "",
      "userId": "15870809085498692847"
     }
    },
    "outputId": "91a909dc-4b11-48bf-efe1-3d2ad1a483e2"
   },
   "source": [
    "new_pop_data_subset_1[new_pop_data_subset_1['year'] == '2020']"
   ],
   "execution_count": 19,
   "outputs": [
    {
     "data": {
      "text/plain": "    code          state  year  population  month\n6     AL        Alabama  2020     4926478      1\n13    AK         Alaska  2020      735020      1\n20    AZ        Arizona  2020     7313296      1\n27    AR       Arkansas  2020     3032140      1\n34    CA     California  2020    39699937      1\n..   ...            ...   ...         ...    ...\n321   VA       Virginia  2020     8576069     12\n328   WA     Washington  2020     7651069     12\n335   WV  West Virginia  2020     1800661     12\n342   WI      Wisconsin  2020     5850095     12\n349   WY        Wyoming  2020      581508     12\n\n[600 rows x 5 columns]",
      "text/html": "<div>\n<style scoped>\n    .dataframe tbody tr th:only-of-type {\n        vertical-align: middle;\n    }\n\n    .dataframe tbody tr th {\n        vertical-align: top;\n    }\n\n    .dataframe thead th {\n        text-align: right;\n    }\n</style>\n<table border=\"1\" class=\"dataframe\">\n  <thead>\n    <tr style=\"text-align: right;\">\n      <th></th>\n      <th>code</th>\n      <th>state</th>\n      <th>year</th>\n      <th>population</th>\n      <th>month</th>\n    </tr>\n  </thead>\n  <tbody>\n    <tr>\n      <th>6</th>\n      <td>AL</td>\n      <td>Alabama</td>\n      <td>2020</td>\n      <td>4926478</td>\n      <td>1</td>\n    </tr>\n    <tr>\n      <th>13</th>\n      <td>AK</td>\n      <td>Alaska</td>\n      <td>2020</td>\n      <td>735020</td>\n      <td>1</td>\n    </tr>\n    <tr>\n      <th>20</th>\n      <td>AZ</td>\n      <td>Arizona</td>\n      <td>2020</td>\n      <td>7313296</td>\n      <td>1</td>\n    </tr>\n    <tr>\n      <th>27</th>\n      <td>AR</td>\n      <td>Arkansas</td>\n      <td>2020</td>\n      <td>3032140</td>\n      <td>1</td>\n    </tr>\n    <tr>\n      <th>34</th>\n      <td>CA</td>\n      <td>California</td>\n      <td>2020</td>\n      <td>39699937</td>\n      <td>1</td>\n    </tr>\n    <tr>\n      <th>...</th>\n      <td>...</td>\n      <td>...</td>\n      <td>...</td>\n      <td>...</td>\n      <td>...</td>\n    </tr>\n    <tr>\n      <th>321</th>\n      <td>VA</td>\n      <td>Virginia</td>\n      <td>2020</td>\n      <td>8576069</td>\n      <td>12</td>\n    </tr>\n    <tr>\n      <th>328</th>\n      <td>WA</td>\n      <td>Washington</td>\n      <td>2020</td>\n      <td>7651069</td>\n      <td>12</td>\n    </tr>\n    <tr>\n      <th>335</th>\n      <td>WV</td>\n      <td>West Virginia</td>\n      <td>2020</td>\n      <td>1800661</td>\n      <td>12</td>\n    </tr>\n    <tr>\n      <th>342</th>\n      <td>WI</td>\n      <td>Wisconsin</td>\n      <td>2020</td>\n      <td>5850095</td>\n      <td>12</td>\n    </tr>\n    <tr>\n      <th>349</th>\n      <td>WY</td>\n      <td>Wyoming</td>\n      <td>2020</td>\n      <td>581508</td>\n      <td>12</td>\n    </tr>\n  </tbody>\n</table>\n<p>600 rows × 5 columns</p>\n</div>"
     },
     "execution_count": 19,
     "metadata": {},
     "output_type": "execute_result"
    }
   ]
  },
  {
   "cell_type": "code",
   "metadata": {
    "colab": {
     "base_uri": "https://localhost:8080/",
     "height": 198
    },
    "id": "FiTrz6EXcBrS",
    "executionInfo": {
     "status": "ok",
     "timestamp": 1608266174093,
     "user_tz": 300,
     "elapsed": 2897,
     "user": {
      "displayName": "Parvi Singh",
      "photoUrl": "",
      "userId": "15870809085498692847"
     }
    },
    "outputId": "1d96d308-d91e-4631-9757-875fde3a4a22"
   },
   "source": [
    "data.rename(columns = {'state':'code'}, inplace = True)\r\n",
    "data.head()\r\n",
    "# new_pop_data_subset_1.head()\r\n"
   ],
   "execution_count": 20,
   "outputs": [
    {
     "data": {
      "text/plain": "  code   ages  year  population\n1   AL  total  2012   4817528.0\n3   AL  total  2010   4785570.0\n5   AL  total  2011   4801627.0\n6   AL  total  2009   4757938.0\n9   AL  total  2013   4833722.0",
      "text/html": "<div>\n<style scoped>\n    .dataframe tbody tr th:only-of-type {\n        vertical-align: middle;\n    }\n\n    .dataframe tbody tr th {\n        vertical-align: top;\n    }\n\n    .dataframe thead th {\n        text-align: right;\n    }\n</style>\n<table border=\"1\" class=\"dataframe\">\n  <thead>\n    <tr style=\"text-align: right;\">\n      <th></th>\n      <th>code</th>\n      <th>ages</th>\n      <th>year</th>\n      <th>population</th>\n    </tr>\n  </thead>\n  <tbody>\n    <tr>\n      <th>1</th>\n      <td>AL</td>\n      <td>total</td>\n      <td>2012</td>\n      <td>4817528.0</td>\n    </tr>\n    <tr>\n      <th>3</th>\n      <td>AL</td>\n      <td>total</td>\n      <td>2010</td>\n      <td>4785570.0</td>\n    </tr>\n    <tr>\n      <th>5</th>\n      <td>AL</td>\n      <td>total</td>\n      <td>2011</td>\n      <td>4801627.0</td>\n    </tr>\n    <tr>\n      <th>6</th>\n      <td>AL</td>\n      <td>total</td>\n      <td>2009</td>\n      <td>4757938.0</td>\n    </tr>\n    <tr>\n      <th>9</th>\n      <td>AL</td>\n      <td>total</td>\n      <td>2013</td>\n      <td>4833722.0</td>\n    </tr>\n  </tbody>\n</table>\n</div>"
     },
     "execution_count": 20,
     "metadata": {},
     "output_type": "execute_result"
    }
   ]
  },
  {
   "cell_type": "code",
   "metadata": {
    "colab": {
     "base_uri": "https://localhost:8080/",
     "height": 407
    },
    "id": "z6Xx9U8QkUov",
    "executionInfo": {
     "status": "ok",
     "timestamp": 1608266174093,
     "user_tz": 300,
     "elapsed": 2887,
     "user": {
      "displayName": "Parvi Singh",
      "photoUrl": "",
      "userId": "15870809085498692847"
     }
    },
    "outputId": "12584499-35c8-49dd-a6bf-16ffcc64dc9c"
   },
   "source": [
    "data"
   ],
   "execution_count": 21,
   "outputs": [
    {
     "data": {
      "text/plain": "     code   ages  year  population\n1      AL  total  2012   4817528.0\n3      AL  total  2010   4785570.0\n5      AL  total  2011   4801627.0\n6      AL  total  2009   4757938.0\n9      AL  total  2013   4833722.0\n...   ...    ...   ...         ...\n2487   PR  total  2013   3615086.0\n2488   PR  total  2009   3740410.0\n2490   PR  total  2010   3721208.0\n2493   PR  total  2011   3686580.0\n2495   PR  total  2012   3651545.0\n\n[1248 rows x 4 columns]",
      "text/html": "<div>\n<style scoped>\n    .dataframe tbody tr th:only-of-type {\n        vertical-align: middle;\n    }\n\n    .dataframe tbody tr th {\n        vertical-align: top;\n    }\n\n    .dataframe thead th {\n        text-align: right;\n    }\n</style>\n<table border=\"1\" class=\"dataframe\">\n  <thead>\n    <tr style=\"text-align: right;\">\n      <th></th>\n      <th>code</th>\n      <th>ages</th>\n      <th>year</th>\n      <th>population</th>\n    </tr>\n  </thead>\n  <tbody>\n    <tr>\n      <th>1</th>\n      <td>AL</td>\n      <td>total</td>\n      <td>2012</td>\n      <td>4817528.0</td>\n    </tr>\n    <tr>\n      <th>3</th>\n      <td>AL</td>\n      <td>total</td>\n      <td>2010</td>\n      <td>4785570.0</td>\n    </tr>\n    <tr>\n      <th>5</th>\n      <td>AL</td>\n      <td>total</td>\n      <td>2011</td>\n      <td>4801627.0</td>\n    </tr>\n    <tr>\n      <th>6</th>\n      <td>AL</td>\n      <td>total</td>\n      <td>2009</td>\n      <td>4757938.0</td>\n    </tr>\n    <tr>\n      <th>9</th>\n      <td>AL</td>\n      <td>total</td>\n      <td>2013</td>\n      <td>4833722.0</td>\n    </tr>\n    <tr>\n      <th>...</th>\n      <td>...</td>\n      <td>...</td>\n      <td>...</td>\n      <td>...</td>\n    </tr>\n    <tr>\n      <th>2487</th>\n      <td>PR</td>\n      <td>total</td>\n      <td>2013</td>\n      <td>3615086.0</td>\n    </tr>\n    <tr>\n      <th>2488</th>\n      <td>PR</td>\n      <td>total</td>\n      <td>2009</td>\n      <td>3740410.0</td>\n    </tr>\n    <tr>\n      <th>2490</th>\n      <td>PR</td>\n      <td>total</td>\n      <td>2010</td>\n      <td>3721208.0</td>\n    </tr>\n    <tr>\n      <th>2493</th>\n      <td>PR</td>\n      <td>total</td>\n      <td>2011</td>\n      <td>3686580.0</td>\n    </tr>\n    <tr>\n      <th>2495</th>\n      <td>PR</td>\n      <td>total</td>\n      <td>2012</td>\n      <td>3651545.0</td>\n    </tr>\n  </tbody>\n</table>\n<p>1248 rows × 4 columns</p>\n</div>"
     },
     "execution_count": 21,
     "metadata": {},
     "output_type": "execute_result"
    }
   ]
  },
  {
   "cell_type": "code",
   "metadata": {
    "id": "a_0YM7OyXd99",
    "executionInfo": {
     "status": "ok",
     "timestamp": 1608266174094,
     "user_tz": 300,
     "elapsed": 2881,
     "user": {
      "displayName": "Parvi Singh",
      "photoUrl": "",
      "userId": "15870809085498692847"
     }
    }
   },
   "source": [
    "# comment after one run \n",
    "data.drop('ages', axis = 1, inplace = True)\n",
    "new_pop_data_subset_1.drop('state', axis = 1, inplace = True)"
   ],
   "execution_count": 22,
   "outputs": []
  },
  {
   "cell_type": "code",
   "metadata": {
    "colab": {
     "base_uri": "https://localhost:8080/",
     "height": 407
    },
    "id": "YaSxgrogc82L",
    "executionInfo": {
     "status": "ok",
     "timestamp": 1608266174245,
     "user_tz": 300,
     "elapsed": 3024,
     "user": {
      "displayName": "Parvi Singh",
      "photoUrl": "",
      "userId": "15870809085498692847"
     }
    },
    "outputId": "732d4d77-dc2e-48cb-8565-5a66abca9d58"
   },
   "source": [
    "# generate dataframe to include months in data\r\n",
    "data['month'] = 'NaN'\r\n",
    "\r\n",
    "data_1 = data.copy()\r\n",
    "data_2 = data.copy()\r\n",
    "data_1['month'] = 1\r\n",
    "for i in range (2,13):\r\n",
    "  data_2['month'] = i\r\n",
    "  data_1 = pd.concat([data_1,data_2])\r\n",
    "data_1"
   ],
   "execution_count": 23,
   "outputs": [
    {
     "data": {
      "text/plain": "     code  year  population  month\n1      AL  2012   4817528.0      1\n3      AL  2010   4785570.0      1\n5      AL  2011   4801627.0      1\n6      AL  2009   4757938.0      1\n9      AL  2013   4833722.0      1\n...   ...   ...         ...    ...\n2487   PR  2013   3615086.0     12\n2488   PR  2009   3740410.0     12\n2490   PR  2010   3721208.0     12\n2493   PR  2011   3686580.0     12\n2495   PR  2012   3651545.0     12\n\n[14976 rows x 4 columns]",
      "text/html": "<div>\n<style scoped>\n    .dataframe tbody tr th:only-of-type {\n        vertical-align: middle;\n    }\n\n    .dataframe tbody tr th {\n        vertical-align: top;\n    }\n\n    .dataframe thead th {\n        text-align: right;\n    }\n</style>\n<table border=\"1\" class=\"dataframe\">\n  <thead>\n    <tr style=\"text-align: right;\">\n      <th></th>\n      <th>code</th>\n      <th>year</th>\n      <th>population</th>\n      <th>month</th>\n    </tr>\n  </thead>\n  <tbody>\n    <tr>\n      <th>1</th>\n      <td>AL</td>\n      <td>2012</td>\n      <td>4817528.0</td>\n      <td>1</td>\n    </tr>\n    <tr>\n      <th>3</th>\n      <td>AL</td>\n      <td>2010</td>\n      <td>4785570.0</td>\n      <td>1</td>\n    </tr>\n    <tr>\n      <th>5</th>\n      <td>AL</td>\n      <td>2011</td>\n      <td>4801627.0</td>\n      <td>1</td>\n    </tr>\n    <tr>\n      <th>6</th>\n      <td>AL</td>\n      <td>2009</td>\n      <td>4757938.0</td>\n      <td>1</td>\n    </tr>\n    <tr>\n      <th>9</th>\n      <td>AL</td>\n      <td>2013</td>\n      <td>4833722.0</td>\n      <td>1</td>\n    </tr>\n    <tr>\n      <th>...</th>\n      <td>...</td>\n      <td>...</td>\n      <td>...</td>\n      <td>...</td>\n    </tr>\n    <tr>\n      <th>2487</th>\n      <td>PR</td>\n      <td>2013</td>\n      <td>3615086.0</td>\n      <td>12</td>\n    </tr>\n    <tr>\n      <th>2488</th>\n      <td>PR</td>\n      <td>2009</td>\n      <td>3740410.0</td>\n      <td>12</td>\n    </tr>\n    <tr>\n      <th>2490</th>\n      <td>PR</td>\n      <td>2010</td>\n      <td>3721208.0</td>\n      <td>12</td>\n    </tr>\n    <tr>\n      <th>2493</th>\n      <td>PR</td>\n      <td>2011</td>\n      <td>3686580.0</td>\n      <td>12</td>\n    </tr>\n    <tr>\n      <th>2495</th>\n      <td>PR</td>\n      <td>2012</td>\n      <td>3651545.0</td>\n      <td>12</td>\n    </tr>\n  </tbody>\n</table>\n<p>14976 rows × 4 columns</p>\n</div>"
     },
     "execution_count": 23,
     "metadata": {},
     "output_type": "execute_result"
    }
   ]
  },
  {
   "cell_type": "code",
   "metadata": {
    "colab": {
     "base_uri": "https://localhost:8080/",
     "height": 408
    },
    "id": "OrhwHHtheaHb",
    "executionInfo": {
     "status": "ok",
     "timestamp": 1608266174245,
     "user_tz": 300,
     "elapsed": 3012,
     "user": {
      "displayName": "Parvi Singh",
      "photoUrl": "",
      "userId": "15870809085498692847"
     }
    },
    "outputId": "54e320d0-9f40-49b2-9f0e-97564df9709e"
   },
   "source": [
    "merge = pd.concat([data_1, new_pop_data_subset_1])\r\n",
    "condition = (merge['code'] == 'AL') & (merge['year'] == 2012)\r\n",
    "merge[condition]"
   ],
   "execution_count": 24,
   "outputs": [
    {
     "data": {
      "text/plain": "  code  year  population  month\n1   AL  2012   4817528.0      1\n1   AL  2012   4817528.0      2\n1   AL  2012   4817528.0      3\n1   AL  2012   4817528.0      4\n1   AL  2012   4817528.0      5\n1   AL  2012   4817528.0      6\n1   AL  2012   4817528.0      7\n1   AL  2012   4817528.0      8\n1   AL  2012   4817528.0      9\n1   AL  2012   4817528.0     10\n1   AL  2012   4817528.0     11\n1   AL  2012   4817528.0     12",
      "text/html": "<div>\n<style scoped>\n    .dataframe tbody tr th:only-of-type {\n        vertical-align: middle;\n    }\n\n    .dataframe tbody tr th {\n        vertical-align: top;\n    }\n\n    .dataframe thead th {\n        text-align: right;\n    }\n</style>\n<table border=\"1\" class=\"dataframe\">\n  <thead>\n    <tr style=\"text-align: right;\">\n      <th></th>\n      <th>code</th>\n      <th>year</th>\n      <th>population</th>\n      <th>month</th>\n    </tr>\n  </thead>\n  <tbody>\n    <tr>\n      <th>1</th>\n      <td>AL</td>\n      <td>2012</td>\n      <td>4817528.0</td>\n      <td>1</td>\n    </tr>\n    <tr>\n      <th>1</th>\n      <td>AL</td>\n      <td>2012</td>\n      <td>4817528.0</td>\n      <td>2</td>\n    </tr>\n    <tr>\n      <th>1</th>\n      <td>AL</td>\n      <td>2012</td>\n      <td>4817528.0</td>\n      <td>3</td>\n    </tr>\n    <tr>\n      <th>1</th>\n      <td>AL</td>\n      <td>2012</td>\n      <td>4817528.0</td>\n      <td>4</td>\n    </tr>\n    <tr>\n      <th>1</th>\n      <td>AL</td>\n      <td>2012</td>\n      <td>4817528.0</td>\n      <td>5</td>\n    </tr>\n    <tr>\n      <th>1</th>\n      <td>AL</td>\n      <td>2012</td>\n      <td>4817528.0</td>\n      <td>6</td>\n    </tr>\n    <tr>\n      <th>1</th>\n      <td>AL</td>\n      <td>2012</td>\n      <td>4817528.0</td>\n      <td>7</td>\n    </tr>\n    <tr>\n      <th>1</th>\n      <td>AL</td>\n      <td>2012</td>\n      <td>4817528.0</td>\n      <td>8</td>\n    </tr>\n    <tr>\n      <th>1</th>\n      <td>AL</td>\n      <td>2012</td>\n      <td>4817528.0</td>\n      <td>9</td>\n    </tr>\n    <tr>\n      <th>1</th>\n      <td>AL</td>\n      <td>2012</td>\n      <td>4817528.0</td>\n      <td>10</td>\n    </tr>\n    <tr>\n      <th>1</th>\n      <td>AL</td>\n      <td>2012</td>\n      <td>4817528.0</td>\n      <td>11</td>\n    </tr>\n    <tr>\n      <th>1</th>\n      <td>AL</td>\n      <td>2012</td>\n      <td>4817528.0</td>\n      <td>12</td>\n    </tr>\n  </tbody>\n</table>\n</div>"
     },
     "execution_count": 24,
     "metadata": {},
     "output_type": "execute_result"
    }
   ]
  },
  {
   "cell_type": "code",
   "metadata": {
    "id": "f3vhmMdGfmJu",
    "executionInfo": {
     "status": "ok",
     "timestamp": 1608266174246,
     "user_tz": 300,
     "elapsed": 3004,
     "user": {
      "displayName": "Parvi Singh",
      "photoUrl": "",
      "userId": "15870809085498692847"
     }
    }
   },
   "source": [
    "# making a new column to match from in the Guns_Sales DataFrame\r\n",
    "merge['month'] = merge['month'].apply(str)\r\n",
    "merge['code'] = merge['code'].apply(str)\r\n",
    "merge['year'] = merge['year'].apply(str)\r\n",
    "\r\n",
    "merge['vlookup'] = merge['code'] + \"+\" + merge['year']   + \"+\" + merge['month'] "
   ],
   "execution_count": 25,
   "outputs": []
  },
  {
   "cell_type": "code",
   "metadata": {
    "colab": {
     "base_uri": "https://localhost:8080/"
    },
    "id": "ApIn3t3bJfWg",
    "executionInfo": {
     "status": "ok",
     "timestamp": 1608266437210,
     "user_tz": 300,
     "elapsed": 317,
     "user": {
      "displayName": "Parvi Singh",
      "photoUrl": "",
      "userId": "15870809085498692847"
     }
    },
    "outputId": "200d3eea-7e98-4bed-f63d-dfadfd3a264f"
   },
   "source": [
    "merge.info()"
   ],
   "execution_count": 26,
   "outputs": [
    {
     "name": "stdout",
     "output_type": "stream",
     "text": [
      "<class 'pandas.core.frame.DataFrame'>\n",
      "Int64Index: 19176 entries, 1 to 349\n",
      "Data columns (total 5 columns):\n",
      " #   Column      Non-Null Count  Dtype  \n",
      "---  ------      --------------  -----  \n",
      " 0   code        19176 non-null  object \n",
      " 1   year        19176 non-null  object \n",
      " 2   population  19056 non-null  float64\n",
      " 3   month       19176 non-null  object \n",
      " 4   vlookup     19176 non-null  object \n",
      "dtypes: float64(1), object(4)\n",
      "memory usage: 898.9+ KB\n"
     ]
    }
   ]
  },
  {
   "cell_type": "code",
   "metadata": {
    "id": "PQLQ482EQ2Bu",
    "executionInfo": {
     "status": "ok",
     "timestamp": 1608266448886,
     "user_tz": 300,
     "elapsed": 288,
     "user": {
      "displayName": "Parvi Singh",
      "photoUrl": "",
      "userId": "15870809085498692847"
     }
    }
   },
   "source": [
    "merge = merge.dropna(axis=0)"
   ],
   "execution_count": 27,
   "outputs": []
  },
  {
   "cell_type": "code",
   "metadata": {
    "id": "H2gxAg7Vfirc",
    "executionInfo": {
     "status": "ok",
     "timestamp": 1608266464090,
     "user_tz": 300,
     "elapsed": 315,
     "user": {
      "displayName": "Parvi Singh",
      "photoUrl": "",
      "userId": "15870809085498692847"
     }
    }
   },
   "source": [
    "# Export data to a CSV format\r\n",
    "merge.to_csv(r'US_Population.csv', index = False)"
   ],
   "execution_count": 28,
   "outputs": []
  },
  {
   "cell_type": "code",
   "metadata": {
    "colab": {
     "base_uri": "https://localhost:8080/",
     "height": 407
    },
    "id": "oqSn5MU8KvfZ",
    "executionInfo": {
     "status": "ok",
     "timestamp": 1608266745608,
     "user_tz": 300,
     "elapsed": 667,
     "user": {
      "displayName": "Parvi Singh",
      "photoUrl": "",
      "userId": "15870809085498692847"
     }
    },
    "outputId": "3e749e18-dd72-4857-a8a4-738746577cd4"
   },
   "source": [
    "merge"
   ],
   "execution_count": 29,
   "outputs": [
    {
     "data": {
      "text/plain": "    code  year  population month     vlookup\n1     AL  2012   4817528.0     1   AL+2012+1\n3     AL  2010   4785570.0     1   AL+2010+1\n5     AL  2011   4801627.0     1   AL+2011+1\n6     AL  2009   4757938.0     1   AL+2009+1\n9     AL  2013   4833722.0     1   AL+2013+1\n..   ...   ...         ...   ...         ...\n345   WY  2016    584215.0    12  WY+2016+12\n346   WY  2017    578931.0    12  WY+2017+12\n347   WY  2018    577601.0    12  WY+2018+12\n348   WY  2019    578759.0    12  WY+2019+12\n349   WY  2020    581508.0    12  WY+2020+12\n\n[19056 rows x 5 columns]",
      "text/html": "<div>\n<style scoped>\n    .dataframe tbody tr th:only-of-type {\n        vertical-align: middle;\n    }\n\n    .dataframe tbody tr th {\n        vertical-align: top;\n    }\n\n    .dataframe thead th {\n        text-align: right;\n    }\n</style>\n<table border=\"1\" class=\"dataframe\">\n  <thead>\n    <tr style=\"text-align: right;\">\n      <th></th>\n      <th>code</th>\n      <th>year</th>\n      <th>population</th>\n      <th>month</th>\n      <th>vlookup</th>\n    </tr>\n  </thead>\n  <tbody>\n    <tr>\n      <th>1</th>\n      <td>AL</td>\n      <td>2012</td>\n      <td>4817528.0</td>\n      <td>1</td>\n      <td>AL+2012+1</td>\n    </tr>\n    <tr>\n      <th>3</th>\n      <td>AL</td>\n      <td>2010</td>\n      <td>4785570.0</td>\n      <td>1</td>\n      <td>AL+2010+1</td>\n    </tr>\n    <tr>\n      <th>5</th>\n      <td>AL</td>\n      <td>2011</td>\n      <td>4801627.0</td>\n      <td>1</td>\n      <td>AL+2011+1</td>\n    </tr>\n    <tr>\n      <th>6</th>\n      <td>AL</td>\n      <td>2009</td>\n      <td>4757938.0</td>\n      <td>1</td>\n      <td>AL+2009+1</td>\n    </tr>\n    <tr>\n      <th>9</th>\n      <td>AL</td>\n      <td>2013</td>\n      <td>4833722.0</td>\n      <td>1</td>\n      <td>AL+2013+1</td>\n    </tr>\n    <tr>\n      <th>...</th>\n      <td>...</td>\n      <td>...</td>\n      <td>...</td>\n      <td>...</td>\n      <td>...</td>\n    </tr>\n    <tr>\n      <th>345</th>\n      <td>WY</td>\n      <td>2016</td>\n      <td>584215.0</td>\n      <td>12</td>\n      <td>WY+2016+12</td>\n    </tr>\n    <tr>\n      <th>346</th>\n      <td>WY</td>\n      <td>2017</td>\n      <td>578931.0</td>\n      <td>12</td>\n      <td>WY+2017+12</td>\n    </tr>\n    <tr>\n      <th>347</th>\n      <td>WY</td>\n      <td>2018</td>\n      <td>577601.0</td>\n      <td>12</td>\n      <td>WY+2018+12</td>\n    </tr>\n    <tr>\n      <th>348</th>\n      <td>WY</td>\n      <td>2019</td>\n      <td>578759.0</td>\n      <td>12</td>\n      <td>WY+2019+12</td>\n    </tr>\n    <tr>\n      <th>349</th>\n      <td>WY</td>\n      <td>2020</td>\n      <td>581508.0</td>\n      <td>12</td>\n      <td>WY+2020+12</td>\n    </tr>\n  </tbody>\n</table>\n<p>19056 rows × 5 columns</p>\n</div>"
     },
     "execution_count": 29,
     "metadata": {},
     "output_type": "execute_result"
    }
   ]
  },
  {
   "cell_type": "markdown",
   "metadata": {
    "id": "lysbi8bLLFlY"
   },
   "source": [
    ""
   ]
  },
  {
   "cell_type": "code",
   "metadata": {
    "colab": {
     "base_uri": "https://localhost:8080/",
     "height": 768
    },
    "id": "umVxobeHLG3J",
    "executionInfo": {
     "status": "ok",
     "timestamp": 1608267081618,
     "user_tz": 300,
     "elapsed": 355,
     "user": {
      "displayName": "Parvi Singh",
      "photoUrl": "",
      "userId": "15870809085498692847"
     }
    },
    "outputId": "7a649975-59e0-4e90-dc65-34010a53709f"
   },
   "source": [
    "#Gathering data for overall US as well\n",
    "data = pd.read_csv('https://raw.githubusercontent.com/singparvi/data-USstates/master/state-population.csv')\n",
    "data.columns = ['state', 'ages', 'year', 'population']\n",
    "data_US = data[data.state == 'USA']\n",
    "data_US = data_US[data_US.ages == 'total']\n",
    "data_US.shape\n",
    "data_US"
   ],
   "execution_count": 30,
   "outputs": [
    {
     "data": {
      "text/plain": "     state   ages  year   population\n2497   USA  total  1990  249622814.0\n2498   USA  total  1991  252980942.0\n2501   USA  total  1992  256514231.0\n2502   USA  total  1993  259918595.0\n2505   USA  total  1994  263125826.0\n2508   USA  total  1995  266278403.0\n2509   USA  total  1996  269394291.0\n2510   USA  total  1997  272646932.0\n2513   USA  total  1998  275854116.0\n2515   USA  total  2000  282162411.0\n2517   USA  total  1999  279040181.0\n2518   USA  total  2001  284968955.0\n2520   USA  total  2002  287625193.0\n2522   USA  total  2003  290107933.0\n2524   USA  total  2004  292805298.0\n2526   USA  total  2005  295516599.0\n2528   USA  total  2006  298379912.0\n2530   USA  total  2007  301231207.0\n2532   USA  total  2008  304093966.0\n2535   USA  total  2013  316128839.0\n2536   USA  total  2009  306771529.0\n2539   USA  total  2010  309326295.0\n2541   USA  total  2011  311582564.0\n2543   USA  total  2012  313873685.0",
      "text/html": "<div>\n<style scoped>\n    .dataframe tbody tr th:only-of-type {\n        vertical-align: middle;\n    }\n\n    .dataframe tbody tr th {\n        vertical-align: top;\n    }\n\n    .dataframe thead th {\n        text-align: right;\n    }\n</style>\n<table border=\"1\" class=\"dataframe\">\n  <thead>\n    <tr style=\"text-align: right;\">\n      <th></th>\n      <th>state</th>\n      <th>ages</th>\n      <th>year</th>\n      <th>population</th>\n    </tr>\n  </thead>\n  <tbody>\n    <tr>\n      <th>2497</th>\n      <td>USA</td>\n      <td>total</td>\n      <td>1990</td>\n      <td>249622814.0</td>\n    </tr>\n    <tr>\n      <th>2498</th>\n      <td>USA</td>\n      <td>total</td>\n      <td>1991</td>\n      <td>252980942.0</td>\n    </tr>\n    <tr>\n      <th>2501</th>\n      <td>USA</td>\n      <td>total</td>\n      <td>1992</td>\n      <td>256514231.0</td>\n    </tr>\n    <tr>\n      <th>2502</th>\n      <td>USA</td>\n      <td>total</td>\n      <td>1993</td>\n      <td>259918595.0</td>\n    </tr>\n    <tr>\n      <th>2505</th>\n      <td>USA</td>\n      <td>total</td>\n      <td>1994</td>\n      <td>263125826.0</td>\n    </tr>\n    <tr>\n      <th>2508</th>\n      <td>USA</td>\n      <td>total</td>\n      <td>1995</td>\n      <td>266278403.0</td>\n    </tr>\n    <tr>\n      <th>2509</th>\n      <td>USA</td>\n      <td>total</td>\n      <td>1996</td>\n      <td>269394291.0</td>\n    </tr>\n    <tr>\n      <th>2510</th>\n      <td>USA</td>\n      <td>total</td>\n      <td>1997</td>\n      <td>272646932.0</td>\n    </tr>\n    <tr>\n      <th>2513</th>\n      <td>USA</td>\n      <td>total</td>\n      <td>1998</td>\n      <td>275854116.0</td>\n    </tr>\n    <tr>\n      <th>2515</th>\n      <td>USA</td>\n      <td>total</td>\n      <td>2000</td>\n      <td>282162411.0</td>\n    </tr>\n    <tr>\n      <th>2517</th>\n      <td>USA</td>\n      <td>total</td>\n      <td>1999</td>\n      <td>279040181.0</td>\n    </tr>\n    <tr>\n      <th>2518</th>\n      <td>USA</td>\n      <td>total</td>\n      <td>2001</td>\n      <td>284968955.0</td>\n    </tr>\n    <tr>\n      <th>2520</th>\n      <td>USA</td>\n      <td>total</td>\n      <td>2002</td>\n      <td>287625193.0</td>\n    </tr>\n    <tr>\n      <th>2522</th>\n      <td>USA</td>\n      <td>total</td>\n      <td>2003</td>\n      <td>290107933.0</td>\n    </tr>\n    <tr>\n      <th>2524</th>\n      <td>USA</td>\n      <td>total</td>\n      <td>2004</td>\n      <td>292805298.0</td>\n    </tr>\n    <tr>\n      <th>2526</th>\n      <td>USA</td>\n      <td>total</td>\n      <td>2005</td>\n      <td>295516599.0</td>\n    </tr>\n    <tr>\n      <th>2528</th>\n      <td>USA</td>\n      <td>total</td>\n      <td>2006</td>\n      <td>298379912.0</td>\n    </tr>\n    <tr>\n      <th>2530</th>\n      <td>USA</td>\n      <td>total</td>\n      <td>2007</td>\n      <td>301231207.0</td>\n    </tr>\n    <tr>\n      <th>2532</th>\n      <td>USA</td>\n      <td>total</td>\n      <td>2008</td>\n      <td>304093966.0</td>\n    </tr>\n    <tr>\n      <th>2535</th>\n      <td>USA</td>\n      <td>total</td>\n      <td>2013</td>\n      <td>316128839.0</td>\n    </tr>\n    <tr>\n      <th>2536</th>\n      <td>USA</td>\n      <td>total</td>\n      <td>2009</td>\n      <td>306771529.0</td>\n    </tr>\n    <tr>\n      <th>2539</th>\n      <td>USA</td>\n      <td>total</td>\n      <td>2010</td>\n      <td>309326295.0</td>\n    </tr>\n    <tr>\n      <th>2541</th>\n      <td>USA</td>\n      <td>total</td>\n      <td>2011</td>\n      <td>311582564.0</td>\n    </tr>\n    <tr>\n      <th>2543</th>\n      <td>USA</td>\n      <td>total</td>\n      <td>2012</td>\n      <td>313873685.0</td>\n    </tr>\n  </tbody>\n</table>\n</div>"
     },
     "execution_count": 30,
     "metadata": {},
     "output_type": "execute_result"
    }
   ]
  },
  {
   "cell_type": "markdown",
   "metadata": {
    "id": "3RlVqZj5LFhj"
   },
   "source": [
    ""
   ]
  },
  {
   "cell_type": "markdown",
   "metadata": {
    "id": "p6McJFQTLFdL"
   },
   "source": [
    ""
   ]
  },
  {
   "cell_type": "markdown",
   "metadata": {
    "id": "znOugPDbLFZT"
   },
   "source": [
    ""
   ]
  },
  {
   "cell_type": "markdown",
   "metadata": {
    "id": "Aepti-WsLFUD"
   },
   "source": [
    ""
   ]
  },
  {
   "cell_type": "markdown",
   "metadata": {
    "id": "UwKj8hcnLFQW"
   },
   "source": [
    ""
   ]
  },
  {
   "cell_type": "markdown",
   "metadata": {
    "id": "A5jBorJfLFKZ"
   },
   "source": [
    ""
   ]
  },
  {
   "cell_type": "markdown",
   "metadata": {
    "id": "hzdkJ583lcBh"
   },
   "source": [
    "########################- - - - - - -########\n"
   ]
  },
  {
   "cell_type": "code",
   "metadata": {
    "id": "VlJD2ZyTM7IN",
    "executionInfo": {
     "status": "ok",
     "timestamp": 1608256711036,
     "user_tz": 300,
     "elapsed": 1011,
     "user": {
      "displayName": "Parvi Singh",
      "photoUrl": "",
      "userId": "15870809085498692847"
     }
    }
   },
   "source": [
    "new_pop_data_subset_1 = new_pop_data_subset_1[[]]"
   ],
   "execution_count": 31,
   "outputs": []
  },
  {
   "cell_type": "code",
   "metadata": {
    "id": "wh4_SHuOmcLf",
    "colab": {
     "base_uri": "https://localhost:8080/",
     "height": 569
    },
    "executionInfo": {
     "status": "error",
     "timestamp": 1608256711569,
     "user_tz": 300,
     "elapsed": 1537,
     "user": {
      "displayName": "Parvi Singh",
      "photoUrl": "",
      "userId": "15870809085498692847"
     }
    },
    "outputId": "02bd28fa-5fdb-465b-f4b1-e48c2d1124df"
   },
   "source": [
    "state_codes['state+code'].to_list()"
   ],
   "execution_count": 32,
   "outputs": [
    {
     "ename": "KeyError",
     "evalue": "'state+code'",
     "output_type": "error",
     "traceback": [
      "\u001B[0;31m---------------------------------------------------------------------------\u001B[0m",
      "\u001B[0;31mKeyError\u001B[0m                                  Traceback (most recent call last)",
      "\u001B[0;32m~/opt/anaconda3/lib/python3.8/site-packages/pandas/core/indexes/base.py\u001B[0m in \u001B[0;36mget_loc\u001B[0;34m(self, key, method, tolerance)\u001B[0m\n\u001B[1;32m   2894\u001B[0m             \u001B[0;32mtry\u001B[0m\u001B[0;34m:\u001B[0m\u001B[0;34m\u001B[0m\u001B[0;34m\u001B[0m\u001B[0m\n\u001B[0;32m-> 2895\u001B[0;31m                 \u001B[0;32mreturn\u001B[0m \u001B[0mself\u001B[0m\u001B[0;34m.\u001B[0m\u001B[0m_engine\u001B[0m\u001B[0;34m.\u001B[0m\u001B[0mget_loc\u001B[0m\u001B[0;34m(\u001B[0m\u001B[0mcasted_key\u001B[0m\u001B[0;34m)\u001B[0m\u001B[0;34m\u001B[0m\u001B[0;34m\u001B[0m\u001B[0m\n\u001B[0m\u001B[1;32m   2896\u001B[0m             \u001B[0;32mexcept\u001B[0m \u001B[0mKeyError\u001B[0m \u001B[0;32mas\u001B[0m \u001B[0merr\u001B[0m\u001B[0;34m:\u001B[0m\u001B[0;34m\u001B[0m\u001B[0;34m\u001B[0m\u001B[0m\n",
      "\u001B[0;32mpandas/_libs/index.pyx\u001B[0m in \u001B[0;36mpandas._libs.index.IndexEngine.get_loc\u001B[0;34m()\u001B[0m\n",
      "\u001B[0;32mpandas/_libs/index.pyx\u001B[0m in \u001B[0;36mpandas._libs.index.IndexEngine.get_loc\u001B[0;34m()\u001B[0m\n",
      "\u001B[0;32mpandas/_libs/hashtable_class_helper.pxi\u001B[0m in \u001B[0;36mpandas._libs.hashtable.PyObjectHashTable.get_item\u001B[0;34m()\u001B[0m\n",
      "\u001B[0;32mpandas/_libs/hashtable_class_helper.pxi\u001B[0m in \u001B[0;36mpandas._libs.hashtable.PyObjectHashTable.get_item\u001B[0;34m()\u001B[0m\n",
      "\u001B[0;31mKeyError\u001B[0m: 'state+code'",
      "\nThe above exception was the direct cause of the following exception:\n",
      "\u001B[0;31mKeyError\u001B[0m                                  Traceback (most recent call last)",
      "\u001B[0;32m<ipython-input-32-0d75eed976d5>\u001B[0m in \u001B[0;36m<module>\u001B[0;34m\u001B[0m\n\u001B[0;32m----> 1\u001B[0;31m \u001B[0mstate_codes\u001B[0m\u001B[0;34m[\u001B[0m\u001B[0;34m'state+code'\u001B[0m\u001B[0;34m]\u001B[0m\u001B[0;34m.\u001B[0m\u001B[0mto_list\u001B[0m\u001B[0;34m(\u001B[0m\u001B[0;34m)\u001B[0m\u001B[0;34m\u001B[0m\u001B[0;34m\u001B[0m\u001B[0m\n\u001B[0m\u001B[1;32m      2\u001B[0m \u001B[0;34m\u001B[0m\u001B[0m\n",
      "\u001B[0;32m~/opt/anaconda3/lib/python3.8/site-packages/pandas/core/frame.py\u001B[0m in \u001B[0;36m__getitem__\u001B[0;34m(self, key)\u001B[0m\n\u001B[1;32m   2900\u001B[0m             \u001B[0;32mif\u001B[0m \u001B[0mself\u001B[0m\u001B[0;34m.\u001B[0m\u001B[0mcolumns\u001B[0m\u001B[0;34m.\u001B[0m\u001B[0mnlevels\u001B[0m \u001B[0;34m>\u001B[0m \u001B[0;36m1\u001B[0m\u001B[0;34m:\u001B[0m\u001B[0;34m\u001B[0m\u001B[0;34m\u001B[0m\u001B[0m\n\u001B[1;32m   2901\u001B[0m                 \u001B[0;32mreturn\u001B[0m \u001B[0mself\u001B[0m\u001B[0;34m.\u001B[0m\u001B[0m_getitem_multilevel\u001B[0m\u001B[0;34m(\u001B[0m\u001B[0mkey\u001B[0m\u001B[0;34m)\u001B[0m\u001B[0;34m\u001B[0m\u001B[0;34m\u001B[0m\u001B[0m\n\u001B[0;32m-> 2902\u001B[0;31m             \u001B[0mindexer\u001B[0m \u001B[0;34m=\u001B[0m \u001B[0mself\u001B[0m\u001B[0;34m.\u001B[0m\u001B[0mcolumns\u001B[0m\u001B[0;34m.\u001B[0m\u001B[0mget_loc\u001B[0m\u001B[0;34m(\u001B[0m\u001B[0mkey\u001B[0m\u001B[0;34m)\u001B[0m\u001B[0;34m\u001B[0m\u001B[0;34m\u001B[0m\u001B[0m\n\u001B[0m\u001B[1;32m   2903\u001B[0m             \u001B[0;32mif\u001B[0m \u001B[0mis_integer\u001B[0m\u001B[0;34m(\u001B[0m\u001B[0mindexer\u001B[0m\u001B[0;34m)\u001B[0m\u001B[0;34m:\u001B[0m\u001B[0;34m\u001B[0m\u001B[0;34m\u001B[0m\u001B[0m\n\u001B[1;32m   2904\u001B[0m                 \u001B[0mindexer\u001B[0m \u001B[0;34m=\u001B[0m \u001B[0;34m[\u001B[0m\u001B[0mindexer\u001B[0m\u001B[0;34m]\u001B[0m\u001B[0;34m\u001B[0m\u001B[0;34m\u001B[0m\u001B[0m\n",
      "\u001B[0;32m~/opt/anaconda3/lib/python3.8/site-packages/pandas/core/indexes/base.py\u001B[0m in \u001B[0;36mget_loc\u001B[0;34m(self, key, method, tolerance)\u001B[0m\n\u001B[1;32m   2895\u001B[0m                 \u001B[0;32mreturn\u001B[0m \u001B[0mself\u001B[0m\u001B[0;34m.\u001B[0m\u001B[0m_engine\u001B[0m\u001B[0;34m.\u001B[0m\u001B[0mget_loc\u001B[0m\u001B[0;34m(\u001B[0m\u001B[0mcasted_key\u001B[0m\u001B[0;34m)\u001B[0m\u001B[0;34m\u001B[0m\u001B[0;34m\u001B[0m\u001B[0m\n\u001B[1;32m   2896\u001B[0m             \u001B[0;32mexcept\u001B[0m \u001B[0mKeyError\u001B[0m \u001B[0;32mas\u001B[0m \u001B[0merr\u001B[0m\u001B[0;34m:\u001B[0m\u001B[0;34m\u001B[0m\u001B[0;34m\u001B[0m\u001B[0m\n\u001B[0;32m-> 2897\u001B[0;31m                 \u001B[0;32mraise\u001B[0m \u001B[0mKeyError\u001B[0m\u001B[0;34m(\u001B[0m\u001B[0mkey\u001B[0m\u001B[0;34m)\u001B[0m \u001B[0;32mfrom\u001B[0m \u001B[0merr\u001B[0m\u001B[0;34m\u001B[0m\u001B[0;34m\u001B[0m\u001B[0m\n\u001B[0m\u001B[1;32m   2898\u001B[0m \u001B[0;34m\u001B[0m\u001B[0m\n\u001B[1;32m   2899\u001B[0m         \u001B[0;32mif\u001B[0m \u001B[0mtolerance\u001B[0m \u001B[0;32mis\u001B[0m \u001B[0;32mnot\u001B[0m \u001B[0;32mNone\u001B[0m\u001B[0;34m:\u001B[0m\u001B[0;34m\u001B[0m\u001B[0;34m\u001B[0m\u001B[0m\n",
      "\u001B[0;31mKeyError\u001B[0m: 'state+code'"
     ]
    }
   ]
  },
  {
   "cell_type": "code",
   "metadata": {
    "id": "gC6ZY_iwPzd7",
    "executionInfo": {
     "status": "aborted",
     "timestamp": 1608256711564,
     "user_tz": 300,
     "elapsed": 1530,
     "user": {
      "displayName": "Parvi Singh",
      "photoUrl": "",
      "userId": "15870809085498692847"
     }
    }
   },
   "source": [
    "import pandas as pd\n",
    "from numpy.random import randint\n",
    "iterate = ['Alabama+AL',\n",
    " 'Alaska+AK',\n",
    " 'Arizona+AZ',\n",
    " 'Arkansas+AR',\n",
    " 'California+CA',\n",
    " 'Colorado+CO',\n",
    " 'Connecticut+CT',\n",
    " 'Delaware+DE',\n",
    " 'Florida+FL',\n",
    " 'Georgia+GA',\n",
    " 'Hawaii+HI',\n",
    " 'Idaho+ID',\n",
    " 'Illinois+IL',\n",
    " 'Indiana+IN',\n",
    " 'Iowa+IA',\n",
    " 'Kansas+KS',\n",
    " 'Kentucky+KY',\n",
    " 'Louisiana+LA',\n",
    " 'Maine+ME',\n",
    " 'Maryland+MD',\n",
    " 'Massachusetts+MA',\n",
    " 'Michigan+MI',\n",
    " 'Minnesota+MN',\n",
    " 'Mississippi+MS',\n",
    " 'Missouri+MO',\n",
    " 'Montana+MT',\n",
    " 'Nebraska+NE',\n",
    " 'Nevada+NV',\n",
    " 'New Hampshire+NH',\n",
    " 'New Jersey+NJ',\n",
    " 'New Mexico+NM',\n",
    " 'New York+NY',\n",
    " 'North Carolina+NC',\n",
    " 'North Dakota+ND',\n",
    " 'Ohio+OH',\n",
    " 'Oklahoma+OK',\n",
    " 'Oregon+OR',\n",
    " 'Pennsylvania+PA',\n",
    " 'Rhode Island+RI',\n",
    " 'South Carolina+SC',\n",
    " 'South Dakota+SD',\n",
    " 'Tennessee+TN',\n",
    " 'Texas+TX',\n",
    " 'Utah+UT',\n",
    " 'Vermont+VT',\n",
    " 'Virginia+VA',\n",
    " 'Washington+WA',\n",
    " 'West Virginia+WV',\n",
    " 'Wisconsin+WI',\n",
    " 'Wyoming+WY']\n",
    "# state_codes['state+code'] = state_codes['state'] + \"+\" + state_codes['code']\n",
    "import itertools\n",
    "df = pd.DataFrame(columns=['code+state', 'year', 'month', 'population'])\n",
    "# for i,j,k in itertools.product(iterate,range(6), range(1,13)):\n",
    "  #for i, j in itertools.product(range(x), range(y)):\n",
    "counter = 0\n",
    "for i in iterate:\n",
    "  for j in range (6):\n",
    "    for k in range(1,13):\n",
    "      df.loc[counter] = [str(i)] + [2014+j] + [k] + [0]\n",
    "      counter = counter+1\n",
    "\n",
    "df\n",
    "# state_codes['state+code'].to_list()"
   ],
   "execution_count": null,
   "outputs": []
  },
  {
   "cell_type": "code",
   "metadata": {
    "id": "YAak9PSisHEK",
    "executionInfo": {
     "status": "aborted",
     "timestamp": 1608256711565,
     "user_tz": 300,
     "elapsed": 1523,
     "user": {
      "displayName": "Parvi Singh",
      "photoUrl": "",
      "userId": "15870809085498692847"
     }
    }
   },
   "source": [
    "for i in iterate:\n",
    "  for j in range(1):\n",
    "    df['population'] = list(new_pop_data_subset.loc[new_pop_data_subset['state+code'] == 'i', 'population'][j])"
   ],
   "execution_count": null,
   "outputs": []
  },
  {
   "cell_type": "code",
   "metadata": {
    "id": "fFIK-P12pW9l",
    "executionInfo": {
     "status": "aborted",
     "timestamp": 1608256711565,
     "user_tz": 300,
     "elapsed": 1515,
     "user": {
      "displayName": "Parvi Singh",
      "photoUrl": "",
      "userId": "15870809085498692847"
     }
    }
   },
   "source": [
    "new_pop_data_subset['state+code']=='Alabama+AL'[0]\n",
    "new_pop_data_subset.loc[new_pop_data_subset['state+code'] == 'Alabama+AL', 'population'][0]"
   ],
   "execution_count": null,
   "outputs": []
  },
  {
   "cell_type": "code",
   "metadata": {
    "id": "H8vKSz1ImxoY",
    "executionInfo": {
     "status": "aborted",
     "timestamp": 1608256711566,
     "user_tz": 300,
     "elapsed": 1506,
     "user": {
      "displayName": "Parvi Singh",
      "photoUrl": "",
      "userId": "15870809085498692847"
     }
    }
   },
   "source": [
    "new_pop_data_subset['state+code'] = new_pop_data_subset['state'] + \"+\" + new_pop_data_subset['code']\n",
    "new_pop_data_subset"
   ],
   "execution_count": null,
   "outputs": []
  },
  {
   "cell_type": "code",
   "metadata": {
    "id": "nlmaWzXsnqkf",
    "executionInfo": {
     "status": "aborted",
     "timestamp": 1608256711566,
     "user_tz": 300,
     "elapsed": 1498,
     "user": {
      "displayName": "Parvi Singh",
      "photoUrl": "",
      "userId": "15870809085498692847"
     }
    }
   },
   "source": [
    "pd.merge(new_pop_data_subset,df,on= 'state+code', how=)"
   ],
   "execution_count": null,
   "outputs": []
  },
  {
   "cell_type": "code",
   "metadata": {
    "id": "f3UfCQJFW7Bb",
    "executionInfo": {
     "status": "aborted",
     "timestamp": 1608256711567,
     "user_tz": 300,
     "elapsed": 1490,
     "user": {
      "displayName": "Parvi Singh",
      "photoUrl": "",
      "userId": "15870809085498692847"
     }
    }
   },
   "source": [
    "df.shape\n",
    "# state_codes['state'].to_list()"
   ],
   "execution_count": null,
   "outputs": []
  },
  {
   "cell_type": "code",
   "metadata": {
    "id": "5rqgKB_qh57r",
    "executionInfo": {
     "status": "aborted",
     "timestamp": 1608256711567,
     "user_tz": 300,
     "elapsed": 1483,
     "user": {
      "displayName": "Parvi Singh",
      "photoUrl": "",
      "userId": "15870809085498692847"
     }
    }
   },
   "source": [
    "for i in range(3):\n",
    "  for j in range(3):\n",
    "    print (i,j)"
   ],
   "execution_count": null,
   "outputs": []
  },
  {
   "cell_type": "code",
   "metadata": {
    "id": "9TIDYzASdAdy",
    "executionInfo": {
     "status": "aborted",
     "timestamp": 1608256711568,
     "user_tz": 300,
     "elapsed": 1481,
     "user": {
      "displayName": "Parvi Singh",
      "photoUrl": "",
      "userId": "15870809085498692847"
     }
    }
   },
   "source": [
    "for i,j in itertools.product(state,range(5), range(1,13)):\n",
    "  for j in range"
   ],
   "execution_count": null,
   "outputs": []
  }
 ]
}