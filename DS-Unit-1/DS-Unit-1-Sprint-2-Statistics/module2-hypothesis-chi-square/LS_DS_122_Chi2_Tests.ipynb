{
  "nbformat": 4,
  "nbformat_minor": 0,
  "metadata": {
    "colab": {
      "name": "LS_DS_122_Chi2_Tests.ipynb",
      "provenance": [],
      "collapsed_sections": []
    },
    "kernelspec": {
      "name": "python3",
      "display_name": "Python 3"
    }
  },
  "cells": [
    {
      "cell_type": "markdown",
      "metadata": {
        "id": "838Dmw1kM2LK"
      },
      "source": [
        "# Lambda School Data Science Module 122\n",
        "## Hypothesis Testing - Chi-Square Tests"
      ]
    },
    {
      "cell_type": "markdown",
      "metadata": {
        "id": "zzFoOHrAlceg"
      },
      "source": [
        "#Objectives\n",
        "\n",
        "* Expain the purpose of a chi-square test and identify appliations\n",
        "* Use a chi-square test for independence to test for a statistically significant association between two categorical variables\n",
        "* Use a chi-square test p-value to draw the correct conclusion about the null and alternative hypothesis\n"
      ]
    },
    {
      "cell_type": "markdown",
      "metadata": {
        "id": "dbcPKIo5M6Ny"
      },
      "source": [
        "## Prepare \n",
        "In the last lecture, we learned about the t-test, which allows you to weigh evidence for or against the claim that mean of a population is equal to a reference value (the null hypothesis).\n",
        "\n",
        "T-tests are often the appropriate statistical test when you are working with a a quantitative, continuous variable.\n",
        "\n",
        "However, there are lots of other kinds of data and many other methods of data analysis.  For example, we might like to examine the relationship between two categorical variables.  In that case, we'd like to use a chi-square test.  \"Chi-square\" refers to a particular statistical distribution in the way that the t-test is called the t-test because it depends on the t-distribution.\n",
        "\n",
        "The chi-square test works - in general - by comparing the counts that actually appear in a two-way table to the counts we would expect to see if the two variables were not related to each other at all.\n",
        "\n",
        "[More about the Chi-square test](https://https://en.wikipedia.org/wiki/Chi-squared_test).\n"
      ]
    },
    {
      "cell_type": "markdown",
      "metadata": {
        "id": "gFR3uySzIuHW"
      },
      "source": [
        "## Titanic Example\n",
        "\n",
        "In the early hours of April 15, 1912, the unsinkable ship RMS Titanic sank when it struck an iceberg, killing more than half of the passengers and crew aboard. \n",
        "\n",
        "The Titanic.csv dataset contains demographic information for 889 of those passengers as well as a record of whether or not each passenger survived. \n",
        "\n",
        "Our goal is to determine if there is a relationship between ticket class and passneger survival on the Titanic.\n",
        "\n"
      ]
    },
    {
      "cell_type": "markdown",
      "metadata": {
        "id": "Bq3kUBwiSdTC"
      },
      "source": [
        "A chi-square test *always* tests the null hypothesis that there is *no* relationship between two variables vs. the alternative hypothesis that there *is* some relationship between the two variables.\n"
      ]
    },
    {
      "cell_type": "markdown",
      "metadata": {
        "id": "MqZXv4PwStTl"
      },
      "source": [
        "Therefore, in this exmaple\n",
        "\n",
        "**Ho:** There ____________________ relationship between passenger ticket class and survival on the Titanic.\n",
        "\n",
        "**Ha:** There _____________________ relationship between passenger ticket class and survival on the Titanic."
      ]
    },
    {
      "cell_type": "code",
      "metadata": {
        "id": "H9MfqTT3Lgqm"
      },
      "source": [
        "import pandas as pd\n",
        "import numpy as np\n",
        "\n",
        "\n",
        "data_url = 'https://raw.githubusercontent.com/Chelsea-Myers/Lambda-Intro/master/Titanic.csv'\n",
        "\n",
        "titanic = pd.read_csv(data_url, skipinitialspace=True, header=0)\n",
        "\n",
        "print(df.shape)\n",
        "titanic .head()"
      ],
      "execution_count": null,
      "outputs": []
    },
    {
      "cell_type": "markdown",
      "metadata": {
        "id": "6PYW6S2ENbt5"
      },
      "source": [
        "Survived = 0 means the passenger did not survive and \n",
        "Surivived = 1 means the passenger did survive.\n",
        "\n",
        "Pclass = 1, 2, 3 indicates the passenger had a 1st, 2nd or 3rd class ticket, respectively."
      ]
    },
    {
      "cell_type": "markdown",
      "metadata": {
        "id": "pjxovVDJNqD4"
      },
      "source": [
        "To start, let's look at the freqeuncy and relative frequency of surival on the Titanic."
      ]
    },
    {
      "cell_type": "code",
      "metadata": {
        "id": "-OmuXo0QOh0U"
      },
      "source": [
        "#Frequency of survival\n",
        "\n"
      ],
      "execution_count": null,
      "outputs": []
    },
    {
      "cell_type": "code",
      "metadata": {
        "id": "0GJ82NyuPU0a"
      },
      "source": [
        "#Relative frequency of survival.  Multiply by 100 to convert from\n",
        "#proportions to percents\n",
        "\n",
        "\n"
      ],
      "execution_count": null,
      "outputs": []
    },
    {
      "cell_type": "markdown",
      "metadata": {
        "id": "VKynT9-TPdff"
      },
      "source": [
        "Survival results here:   \n"
      ]
    },
    {
      "cell_type": "markdown",
      "metadata": {
        "id": "FTsevjpdPiDm"
      },
      "source": [
        "Now let's look at the frequency and relative frequency of ticket class.\n"
      ]
    },
    {
      "cell_type": "code",
      "metadata": {
        "id": "G5wpvh-vPtJG"
      },
      "source": [
        "#Frequency and relative frequency of ticket class."
      ],
      "execution_count": null,
      "outputs": []
    },
    {
      "cell_type": "code",
      "metadata": {
        "id": "6HXq-_bqP1yA"
      },
      "source": [
        ""
      ],
      "execution_count": null,
      "outputs": []
    },
    {
      "cell_type": "code",
      "metadata": {
        "id": "gJkV74KOlO43"
      },
      "source": [
        ""
      ],
      "execution_count": null,
      "outputs": []
    },
    {
      "cell_type": "markdown",
      "metadata": {
        "id": "CXLE0CZwP96L"
      },
      "source": [
        "Passenger class results here: "
      ]
    },
    {
      "cell_type": "markdown",
      "metadata": {
        "id": "O6i9Mmh0QGvo"
      },
      "source": [
        "Now let's look at the joint distribution of survival by passenger class.  That means we want to see how many people fall into each combination of the two categories."
      ]
    },
    {
      "cell_type": "code",
      "metadata": {
        "id": "tlBel8j9M6tB"
      },
      "source": [
        "#Joint distribution"
      ],
      "execution_count": null,
      "outputs": []
    },
    {
      "cell_type": "markdown",
      "metadata": {
        "id": "FJqraSFAS4eE"
      },
      "source": [
        "So... is there a relationship between ticket class and survival?  "
      ]
    },
    {
      "cell_type": "markdown",
      "metadata": {
        "id": "ognwwnHyTOn3"
      },
      "source": [
        "Let's begin by including the marginal distribution of each variable.  We actually calculated those before, but we can add them to the \"margins\" of the two-way table (hence the name marginal distribution) so we can remember how many people survived overall and how many people were in each ticket class overall."
      ]
    },
    {
      "cell_type": "code",
      "metadata": {
        "id": "lRnahAiao1X5"
      },
      "source": [
        "# Joint distribution with margins"
      ],
      "execution_count": null,
      "outputs": []
    },
    {
      "cell_type": "markdown",
      "metadata": {
        "id": "mUVwexDOo5Nm"
      },
      "source": [
        "But what we really want to know is \"Of people in each ticket class, what proportion survived?\"  We can compare those proportions and see if they are the same or different.\n",
        "\n",
        "We use \"normalize = index\" to tell Python that we want to compute the proportion of individuals who did and did not survive by the row variable (what Python calls the index variable).  \n",
        "\n",
        "In statistical terminology, we call this the conditional distribution.  We are computing the distribution of survival *conditional* on what passenger class they were in."
      ]
    },
    {
      "cell_type": "code",
      "metadata": {
        "id": "uut5TSEAocmx"
      },
      "source": [
        "#Conditional distribution of survival by passenger class"
      ],
      "execution_count": null,
      "outputs": []
    },
    {
      "cell_type": "markdown",
      "metadata": {
        "id": "eTuzvCsVU-GC"
      },
      "source": [
        "We observe:"
      ]
    },
    {
      "cell_type": "markdown",
      "metadata": {
        "id": "SSjO9J7ZV7kY"
      },
      "source": [
        "But because we haven't actually computed a statistical test, we don't know for sure if there is strong evidence that there is a relationship between ticket class and survival.  That's where the Chi-Square test comes in."
      ]
    },
    {
      "cell_type": "markdown",
      "metadata": {
        "id": "YZwjlEvEWOv6"
      },
      "source": [
        "As a refresher:\n",
        "\n",
        "**Ho:** \n",
        "\n",
        "**Ha:** "
      ]
    },
    {
      "cell_type": "markdown",
      "metadata": {
        "id": "Y1Pt_aECZEti"
      },
      "source": [
        "Just like in the t-test examples, if the p-value is less than the significance level, we will reject the null hypothesis.  If the p-value is greater than the significance level, we will fail to reject."
      ]
    },
    {
      "cell_type": "markdown",
      "metadata": {
        "id": "6H6ki7rYZOj1"
      },
      "source": [
        "We import the chi-square function (chi2_contingency) from scipy.stats.  \n",
        "\n",
        "**Take a very close look at the entry in the contingency table function**. It is the *table* we created above, not just the two variables of interest.\n",
        "\n",
        "The chi2_contingency function has a lot of output, but we are most interested in the p-value, which we are calling p below.  "
      ]
    },
    {
      "cell_type": "code",
      "metadata": {
        "id": "eNwb4YNSWJqe"
      },
      "source": [
        "from scipy.stats import chi2_contingency\n",
        "\n",
        "#Chi-square test\n"
      ],
      "execution_count": null,
      "outputs": []
    },
    {
      "cell_type": "markdown",
      "metadata": {
        "id": "_E7z5tdGZ2uC"
      },
      "source": [
        "P-value = "
      ]
    },
    {
      "cell_type": "markdown",
      "metadata": {
        "id": "7Pq1ef1CaJra"
      },
      "source": [
        "So... we definitely think that passenger ticket class is ???"
      ]
    },
    {
      "cell_type": "markdown",
      "metadata": {
        "id": "HMH1-hIVaWxc"
      },
      "source": [
        "Let's make a nice visualization - a side by side bar plot - to illustrate this relationship.\n",
        "\n"
      ]
    },
    {
      "cell_type": "markdown",
      "metadata": {
        "id": "4Y9nzI3vbDCU"
      },
      "source": [
        "First, let's take a look at our conditional distribution of survival by passenger class again."
      ]
    },
    {
      "cell_type": "code",
      "metadata": {
        "id": "steEWv1kbHmG"
      },
      "source": [
        "#Copy code for conditional distribution of survival by passenger class here:"
      ],
      "execution_count": null,
      "outputs": []
    },
    {
      "cell_type": "markdown",
      "metadata": {
        "id": "IpgY1QZPbLia"
      },
      "source": [
        "We'd like to create a bar plot where we compare the percent of surivors in each passenger class.\n",
        "\n",
        "We're going to start by creating two vectors: one for the percent of individuals who survived and one for the percent of individuals who didn't survive and plotting those with the help of some graphing parameters that are going to make everything line up nicely.\n",
        "\n",
        "[More info about barplots](https://https://matplotlib.org/examples/api/barchart_demo.html)."
      ]
    },
    {
      "cell_type": "code",
      "metadata": {
        "id": "41bOviWHa2j0"
      },
      "source": [
        "import matplotlib.pyplot as plt\n",
        "\n",
        "# Need this for graphing purposes - it's the number of passenger classes\n",
        "N = ## Fill in here \n",
        "\n",
        "\n",
        "Died = (## Fill in here##) # Percent that died in each ticket class\n",
        "Survived = (## Fill in here##) #Percent that survived in each ticket class\n",
        "\n",
        "#This is more graphical stuff\n",
        "ind = np.arange(N)  # the x locations for the groups\n",
        "width = 0.35       # the width of the bars\n",
        "\n",
        "#Create the plot\n",
        "fig, ax = plt.subplots()\n",
        "rects1 = ax.bar(ind, Died, width, color='g') #bars for died\n",
        "rects2 = ax.bar(ind + width, Survived, width, color='b') #bars for survived\n",
        "\n",
        "# add some text for labels, title and axes ticks\n",
        "ax.set_ylabel('## Fill in here##')\n",
        "ax.set_title('## Fill in here##')\n",
        "ax.set_xticks(ind + width / 2)\n",
        "ax.set_xticklabels(('## Fill in here##))\n",
        "\n",
        "ax.legend((rects1[0], rects2[0]), ('##Fill in here##'))\n",
        "\n"
      ],
      "execution_count": null,
      "outputs": []
    },
    {
      "cell_type": "markdown",
      "metadata": {
        "id": "u5RpoaR_d2R_"
      },
      "source": [
        "We can see by our lovely graph and chi-square test that:"
      ]
    },
    {
      "cell_type": "markdown",
      "metadata": {
        "id": "Lwpb3CmveWud"
      },
      "source": [
        "\n",
        "\n",
        "---\n",
        "\n"
      ]
    },
    {
      "cell_type": "markdown",
      "metadata": {
        "id": "tS3aRmPiebpq"
      },
      "source": [
        "Now let's look at passenger sex and survival?  Were women and children really the first ones in the lifeboats?\n",
        "\n",
        "Note that here both child and adult males are considered male and child and adult females are considered female in the data so we really can't conclude anything about children from this analysis.\n"
      ]
    },
    {
      "cell_type": "markdown",
      "metadata": {
        "id": "H2bG1Kuee1NY"
      },
      "source": [
        "First, is a chi-square test appropriate for these data?"
      ]
    },
    {
      "cell_type": "markdown",
      "metadata": {
        "id": "6KvffzmrBSkf"
      },
      "source": [
        "Answer: "
      ]
    },
    {
      "cell_type": "markdown",
      "metadata": {
        "id": "GL8Z9zRke7qz"
      },
      "source": [
        "What is the distribution of passenger sex on the Titanic?"
      ]
    },
    {
      "cell_type": "code",
      "metadata": {
        "id": "KrBQVQHHfC6d"
      },
      "source": [
        "#Relative frequency of gender\n",
        "\n",
        "\n",
        "\n",
        "#Relative frequency of gender\n",
        "\n"
      ],
      "execution_count": null,
      "outputs": []
    },
    {
      "cell_type": "markdown",
      "metadata": {
        "id": "RyD2aTmaBdxB"
      },
      "source": [
        "Passengers on the Titanic were..."
      ]
    },
    {
      "cell_type": "markdown",
      "metadata": {
        "id": "xaufLlDyfDi5"
      },
      "source": [
        "Refresh your memory by calculating the distribution of passenger survival."
      ]
    },
    {
      "cell_type": "code",
      "metadata": {
        "id": "6GXC4hGefIlF"
      },
      "source": [
        "#Frequency of survival\n",
        "\n",
        "\n",
        "\n",
        "#Relative frequency of survival\n",
        "\n"
      ],
      "execution_count": null,
      "outputs": []
    },
    {
      "cell_type": "markdown",
      "metadata": {
        "id": "9YWuLRR6CTJX"
      },
      "source": [
        "Survival results: "
      ]
    },
    {
      "cell_type": "markdown",
      "metadata": {
        "id": "wzfhaJP6fI73"
      },
      "source": [
        "Calculate the joint distribution of passenger sex and survival.  Add on the margins.  Can you draw any initial conclusions about the relationship between passenger sex and survival?"
      ]
    },
    {
      "cell_type": "code",
      "metadata": {
        "id": "EnfVAURhfbTP"
      },
      "source": [
        "#Joint distribution and joint distribution adding margins."
      ],
      "execution_count": null,
      "outputs": []
    },
    {
      "cell_type": "markdown",
      "metadata": {
        "id": "2roTfH3jCkWW"
      },
      "source": [
        "Results: "
      ]
    },
    {
      "cell_type": "markdown",
      "metadata": {
        "id": "9etbacRBfbwI"
      },
      "source": [
        "Calculate the distribution of survival conditional on passenger sex.  What does this tell you?"
      ]
    },
    {
      "cell_type": "code",
      "metadata": {
        "id": "F_Jol17Jfkth"
      },
      "source": [
        "#Conditional distribution of survival by passenger sex"
      ],
      "execution_count": null,
      "outputs": []
    },
    {
      "cell_type": "markdown",
      "metadata": {
        "id": "V1Tl2SjMC7a4"
      },
      "source": [
        "Results: "
      ]
    },
    {
      "cell_type": "markdown",
      "metadata": {
        "id": "kSt1t2Nsfk8-"
      },
      "source": [
        "Now we need to conduct the chi-square test.  What are our hypotheses?\n",
        "\n",
        "**Ho:**\n",
        "\n",
        "**Ha:** "
      ]
    },
    {
      "cell_type": "code",
      "metadata": {
        "id": "6gyJiazOfyzy"
      },
      "source": [
        "#chi-square test"
      ],
      "execution_count": null,
      "outputs": []
    },
    {
      "cell_type": "markdown",
      "metadata": {
        "id": "ysZ9YgYWfz4x"
      },
      "source": [
        "What is the p-value?  What do we conclude (at the 0.05 significance level) about the relationship between passenger sex and survival?"
      ]
    },
    {
      "cell_type": "markdown",
      "metadata": {
        "id": "tpYhnUxgDapA"
      },
      "source": [
        "Results: "
      ]
    },
    {
      "cell_type": "markdown",
      "metadata": {
        "id": "VKLtwyJTf722"
      },
      "source": [
        "Create a side-by-side bar plot illustrating the relationship of passenger sex and survival.  "
      ]
    },
    {
      "cell_type": "code",
      "metadata": {
        "id": "g4kHOpWRgY-N"
      },
      "source": [
        "#Need this for graphing purposes - it's the number of sexes (male and female)\n",
        "\n",
        "N = ## Fill in here ##\n",
        "\n",
        "\n",
        "Died = ## Fill in here ## # Percent that died in each ticket class\n",
        "Survived = ## Fill in here ## #Percent that survived in each ticket class\n",
        "\n",
        "#This is more graphical stuff\n",
        "ind = np.arange(N)  # the x locations for the groups\n",
        "width = 0.35       # the width of the bars\n",
        "\n",
        "#Create the plot\n",
        "fig, ax = plt.subplots()\n",
        "rects1 = ax.bar(ind, Died, width, color='g') #bars for died\n",
        "rects2 = ax.bar(ind + width, Survived, width, color='b') #bars for survived\n",
        "\n",
        "# add some text for labels, title and axes ticks\n",
        "ax.set_ylabel('##Fill in here##')\n",
        "ax.set_title('##Fill in here##')\n",
        "ax.set_xticks(ind + width / 2)\n",
        "ax.set_xticklabels(('##Fill in here##'))\n",
        "\n",
        "ax.legend((rects1[0], rects2[0]), ('##Fill in here##))"
      ],
      "execution_count": null,
      "outputs": []
    },
    {
      "cell_type": "markdown",
      "metadata": {
        "id": "W901a8WOgbka"
      },
      "source": [
        "Explain your results to someone who is interested in Titanic history but knows little about statistics."
      ]
    },
    {
      "cell_type": "markdown",
      "metadata": {
        "id": "DrBv7777uOO2"
      },
      "source": [
        "#Determine family size on the Titanic\n",
        "\n",
        "As a proxy, how many people have the same last name?"
      ]
    },
    {
      "cell_type": "code",
      "metadata": {
        "id": "pei2btwwnO0Y"
      },
      "source": [
        "#Print the first 5 observations\n",
        "df.head()"
      ],
      "execution_count": null,
      "outputs": []
    },
    {
      "cell_type": "code",
      "metadata": {
        "id": "FZdCwIPfoeV-"
      },
      "source": [
        ""
      ],
      "execution_count": null,
      "outputs": []
    },
    {
      "cell_type": "code",
      "metadata": {
        "id": "HZMpvXd0pe8h"
      },
      "source": [
        ""
      ],
      "execution_count": null,
      "outputs": []
    },
    {
      "cell_type": "code",
      "metadata": {
        "id": "dy0izAv5vZVA"
      },
      "source": [
        ""
      ],
      "execution_count": null,
      "outputs": []
    },
    {
      "cell_type": "code",
      "metadata": {
        "id": "fbL4bFejq7ae"
      },
      "source": [
        ""
      ],
      "execution_count": null,
      "outputs": []
    },
    {
      "cell_type": "code",
      "metadata": {
        "id": "8s7s7a_csPq-"
      },
      "source": [
        ""
      ],
      "execution_count": null,
      "outputs": []
    },
    {
      "cell_type": "code",
      "metadata": {
        "id": "ge1cfqzEsgzt"
      },
      "source": [
        ""
      ],
      "execution_count": null,
      "outputs": []
    },
    {
      "cell_type": "code",
      "metadata": {
        "id": "K2kV1aCzsr4A"
      },
      "source": [
        ""
      ],
      "execution_count": null,
      "outputs": []
    }
  ]
}