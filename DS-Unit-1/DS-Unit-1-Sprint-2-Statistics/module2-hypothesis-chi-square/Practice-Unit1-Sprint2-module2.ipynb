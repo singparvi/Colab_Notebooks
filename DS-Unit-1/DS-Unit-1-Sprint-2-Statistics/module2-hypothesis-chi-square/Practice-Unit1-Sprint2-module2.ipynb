{
 "cells": [
  {
   "cell_type": "code",
   "execution_count": 0,
   "metadata": {
    "collapsed": true
   },
   "outputs": [],
   "source": []
  },
  {
   "cell_type": "markdown",
   "source": [
    "Objective 02 - set up a chi-square test for independence on two categorical variables"
   ],
   "metadata": {
    "collapsed": false,
    "pycharm": {
     "name": "#%% md\n"
    }
   }
  },
  {
   "cell_type": "code",
   "execution_count": 9,
   "outputs": [
    {
     "name": "stdout",
     "output_type": "stream",
     "text": [
      "Table \n",
      " [[200 290]\n",
      " [400 910]]\n",
      "Expected:   [[163.33333333 326.66666667]\n",
      " [436.66666667 873.33333333]] \n",
      "\n",
      "Chi square stat is :  16.965 \n",
      "\n",
      "p:   0.000038 \n",
      "\n"
     ]
    }
   ],
   "source": [
    "import numpy as np\n",
    "from scipy.stats import chi2_contingency\n",
    "\n",
    "# create a table using a NumPy Array\n",
    "table = np.array([[200,290], [400,910]])\n",
    "\n",
    "# print the table to check\n",
    "print ('Table \\n', table)\n",
    "\n",
    "# seat the chi-square test\n",
    "# stat, p, dof, \\\n",
    "stat, p, df, expected = chi2_contingency(table, correction=False)\n",
    "\n",
    "# print stats\n",
    "print ('Expected:  ',expected, '\\n')\n",
    "print (f'Chi square stat is :  {stat:.3f}', '\\n')\n",
    "print (f'p:  {p: .6f}', '\\n')"
   ],
   "metadata": {
    "collapsed": false,
    "pycharm": {
     "name": "#%%\n"
    }
   }
  },
  {
   "cell_type": "code",
   "execution_count": 1,
   "outputs": [
    {
     "name": "stdout",
     "output_type": "stream",
     "text": [
      "[[13  7 10  5 13]\n",
      " [ 5  7  4 12  9]\n",
      " [ 5  9 14  0 10]\n",
      " [12 13  8  7  7]\n",
      " [ 7 10  9 13  6]\n",
      " [ 8  4  5 13  5]]\n"
     ]
    }
   ],
   "source": [
    "import numpy as np\n",
    "\n",
    "\n",
    "a1 = [13, 7, 10, 5, 13]\n",
    "a2 = [5, 7, 4, 12, 9]\n",
    "a3 = [5, 9, 14, 0, 10]\n",
    "a4 = [12, 13, 8, 7, 7]\n",
    "a5 = [7, 10, 9, 13, 6]\n",
    "a6 = [8, 4, 5, 13, 5]\n",
    "\n",
    "# combine them into a 6,5 array\n",
    "dice = np.array([a1, a2, a3, a4, a5, a6])\n",
    "print (dice)"
   ],
   "metadata": {
    "collapsed": false,
    "pycharm": {
     "name": "#%%\n"
    }
   }
  },
  {
   "cell_type": "code",
   "execution_count": 6,
   "outputs": [
    {
     "name": "stdout",
     "output_type": "stream",
     "text": [
      "40.37517168424223 0.0044771485808120706 20 [[9.6 9.6 9.6 9.6 9.6]\n",
      " [7.4 7.4 7.4 7.4 7.4]\n",
      " [7.6 7.6 7.6 7.6 7.6]\n",
      " [9.4 9.4 9.4 9.4 9.4]\n",
      " [9.  9.  9.  9.  9. ]\n",
      " [7.  7.  7.  7.  7. ]]\n"
     ]
    }
   ],
   "source": [
    "from scipy.stats import chi2_contingency\n",
    "\n",
    "# perform the chi square test\n",
    "stat, p, dof, expected = chi2_contingency(dice, correction= False)\n",
    "\n",
    "print (stat, p, dof, expected)"
   ],
   "metadata": {
    "collapsed": false,
    "pycharm": {
     "name": "#%%\n"
    }
   }
  },
  {
   "cell_type": "code",
   "execution_count": null,
   "outputs": [],
   "source": [],
   "metadata": {
    "collapsed": false,
    "pycharm": {
     "name": "#%%\n"
    }
   }
  }
 ],
 "metadata": {
  "kernelspec": {
   "display_name": "Python 3",
   "language": "python",
   "name": "python3"
  },
  "language_info": {
   "codemirror_mode": {
    "name": "ipython",
    "version": 2
   },
   "file_extension": ".py",
   "mimetype": "text/x-python",
   "name": "python",
   "nbconvert_exporter": "python",
   "pygments_lexer": "ipython2",
   "version": "2.7.6"
  }
 },
 "nbformat": 4,
 "nbformat_minor": 0
}