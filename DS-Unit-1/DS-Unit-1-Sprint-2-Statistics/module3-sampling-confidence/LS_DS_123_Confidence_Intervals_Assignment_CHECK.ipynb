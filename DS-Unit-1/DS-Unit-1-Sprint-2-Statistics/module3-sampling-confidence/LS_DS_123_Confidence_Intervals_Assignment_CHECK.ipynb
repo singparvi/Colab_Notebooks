{
  "nbformat": 4,
  "nbformat_minor": 0,
  "metadata": {
    "colab": {
      "name": "LS_DS_123_Confidence_Intervals_Assignment_CHECK.ipynb",
      "provenance": [],
      "collapsed_sections": []
    },
    "kernelspec": {
      "name": "python3",
      "display_name": "Python 3"
    }
  },
  "cells": [
    {
      "cell_type": "markdown",
      "metadata": {
        "id": "eI13byJQrZgw"
      },
      "source": [
        "# Lambda School Data Science - Unit 1 Sprint 2 Module 3\n",
        "\n",
        "---\n",
        "\n",
        "## Assignment: Sampling and Confidence Intervals"
      ]
    },
    {
      "cell_type": "markdown",
      "metadata": {
        "id": "yt6t5-QO1dno"
      },
      "source": [
        "### Objectives\n",
        "\n",
        "* Objective 01 - explain the concepts of statistical estimate, precision, and standard error as they apply to inferential statistics\n",
        "* Objective 02 - explain the implications of the central limit theorem in inferential statistics\n",
        "* Objective 03 - explain the purpose of and identify applications for confidence intervals\n",
        "demonstrate how to build a confidence interval around a sample estimate\n",
        "* Objective 04 - visualize a confidence interval in order to communicate the precision of sample estimates"
      ]
    },
    {
      "cell_type": "markdown",
      "metadata": {
        "id": "g_c3L9CeANiJ"
      },
      "source": [
        "## Confidence Intervals\n",
        "\n",
        "Soft drinks like Coke and Pepsi are manufactured to have a standard caffeine content. For example, a 12-oz serving of Coke has 34mg of caffeine, and a 12-oz serving of Pepsi has 37.6mg of caffeine. However, fountain soft drinks are typically mixed in individual restaurant dispensers, so it is more difficult to maintain a standard level of caffeine per serving. In this study, researchers randomly sampled Coke, Diet Coke, Pepsi, and Diet Pepsi at a set of franchise restaurants and measured the caffeine content in 12oz of each soft drink. The data is found in the Soda.xlsx dataset.\n",
        "\n",
        "Because individuals can be sensitive to caffeine – and because the manufacturers are interested in product consistency – we wish to estimate the mean caffeine content in 12oz of Coke served in franchise restaurants using a 95% confidence interval. \n",
        "\n",
        "You can find the Coke data here: 'https://raw.githubusercontent.com/Chelsea-Myers/Lambda-Intro/master/Coke.csv'\n",
        "\n",
        "The first variable is the sample ID and the second variable is the caffeine content in the 12-oz sample measured in mg.\n",
        "\n",
        "Source: A.N. Garand and L.N. Bell (1997). \"Caffeine Content of Fountain and Private-Label Store Brand Carbonated Beverages,\" Journal of the American Dietetic Association, Vol. 97, #2, pp. 179-182.\n"
      ]
    },
    {
      "cell_type": "markdown",
      "metadata": {
        "id": "oaJpAIakUo31"
      },
      "source": [
        "### 1) Load the dataset and print the first few rows.\n",
        "\n",
        "* name your DataFrame `coke_df`\n",
        "* set `skipinitialspace=True`\n",
        "* set `header=0`"
      ]
    },
    {
      "cell_type": "code",
      "metadata": {
        "id": "yXwMJQGrAIbO"
      },
      "source": [
        "# Import your libraries and load the data\n",
        "\n",
        "### your code here ###\n"
      ],
      "execution_count": null,
      "outputs": []
    },
    {
      "cell_type": "code",
      "metadata": {
        "id": "pYsFvm1dPygj"
      },
      "source": [
        "# Take a look at your data\n",
        "\n",
        "### your code here ###\n"
      ],
      "execution_count": null,
      "outputs": []
    },
    {
      "cell_type": "code",
      "metadata": {
        "id": "igi_7D8S17Gg"
      },
      "source": [
        "# This is an ANSWER CHECK cell.\n",
        "# Don't alter this cell if you want accurate feedback\n",
        "#------------------------------------------------------------------------------#\n",
        "\n",
        "# check if the DataFrame was created\n",
        "assert not coke_df.empty, 'Make sure the df name is accurate and you loaded the correct URL.'\n",
        "# check the shape of the DataFrame\n",
        "assert coke_df.shape == (50, 2), 'Is your data loaded with the correct argument?'\n",
        "print('Correct! Continue to the next question')"
      ],
      "execution_count": null,
      "outputs": []
    },
    {
      "cell_type": "markdown",
      "metadata": {
        "id": "wOQ-9E8uYcni"
      },
      "source": [
        "###2) Calculate the mean, standard deviation (SD), standard error (SE) for the caffeine content and n for the sample size. \n",
        "\n",
        "Label your variables as follows:\n",
        "\n",
        "* `mean_caffeine`\n",
        "* `sd_caffeine`\n",
        "* `n_caffeine`\n",
        "* `se_caffeine`"
      ]
    },
    {
      "cell_type": "code",
      "metadata": {
        "id": "m1vuFGxVQo64"
      },
      "source": [
        "### your code here ###\n",
        "\n"
      ],
      "execution_count": null,
      "outputs": []
    },
    {
      "cell_type": "code",
      "metadata": {
        "id": "5qorI8MB9G0c"
      },
      "source": [
        "# This is an ANSWER CHECK cell.\n",
        "# Don't alter this cell if you want accurate feedback\n",
        "#------------------------------------------------------------------------------#\n",
        "\n",
        "# check statistics calculations\n",
        "assert round(mean_caffeine) == 38, 'Check your mean value'\n",
        "assert round(sd_caffeine) == 5, 'Check your standard deviation value'\n",
        "assert n_caffeine == 50, 'Check the sample number'\n",
        "assert round(se_caffeine, 2) == 0.74, 'Check the standard error value'\n",
        "print('Correct! Continue to the next question')"
      ],
      "execution_count": null,
      "outputs": []
    },
    {
      "cell_type": "markdown",
      "metadata": {
        "id": "Eu7eTFgh9Hcd"
      },
      "source": [
        "### Summarize your results from above in a sentence or two."
      ]
    },
    {
      "cell_type": "markdown",
      "metadata": {
        "id": "y2Rz-8O-YmF9"
      },
      "source": [
        "SHORT ANSWER TEXT HERE"
      ]
    },
    {
      "cell_type": "markdown",
      "metadata": {
        "id": "RySL5E7GEHGf"
      },
      "source": [
        "###3) Find t* for a 95% confidence interval.  \n",
        "\n",
        "Use the starter code below and *fill in the degrees of freedom*. The `t_star` variable has been created for you."
      ]
    },
    {
      "cell_type": "code",
      "metadata": {
        "id": "ti9x37XSQ_yL"
      },
      "source": [
        "# Import the stats library\n",
        "from scipy.stats import t\n",
        "\n",
        "#Don't worry too much about where the 0.975 comes from.  It has to do\n",
        "#with wanting to determine the *middle* 95% of the t-distribution\n",
        "#We're going to learn how to calculate a 95% CI this easy way in just a minute.\n",
        "\n",
        "#Hint: Recall that n = 223 for the body temp problem. What was the dof for that problem?\n",
        "\n",
        "### your code here: fill in the degrees of freedom ###\n",
        "\n",
        "t_star = t.ppf(0.975, #YOUR CODE#)\n",
        "print('t_star =', t_star)"
      ],
      "execution_count": null,
      "outputs": []
    },
    {
      "cell_type": "code",
      "metadata": {
        "id": "7N34GArqCuhY"
      },
      "source": [
        "# This is an ANSWER CHECK cell.\n",
        "# Don't alter this cell if you want accurate feedback\n",
        "#------------------------------------------------------------------------------#\n",
        "\n",
        "# check statistics calculations\n",
        "assert round(t_star) == 2, 'Check the dof you entered!'\n",
        "print('Correct! Continue to the next question')"
      ],
      "execution_count": null,
      "outputs": []
    },
    {
      "cell_type": "markdown",
      "metadata": {
        "id": "AddooPk1JBvQ"
      },
      "source": [
        "###4) Calculate the margin of error for a 95% confidence interval for the mean caffeine content in a 12-oz Coke. Name your variable `m_err`.\n",
        "\n"
      ]
    },
    {
      "cell_type": "code",
      "metadata": {
        "id": "IjjYtXodJW-b"
      },
      "source": [
        "### your code here ###\n"
      ],
      "execution_count": null,
      "outputs": []
    },
    {
      "cell_type": "code",
      "metadata": {
        "id": "s0w_f66zDn31"
      },
      "source": [
        "# This is an ANSWER CHECK cell.\n",
        "# Don't alter this cell if you want accurate feedback\n",
        "#------------------------------------------------------------------------------#\n",
        "\n",
        "# check margin of error calculation\n",
        "assert round(m_err, 2) == 1.49, 'Did you multiply m_err by the correct value?'\n",
        "print('Correct! Continue to the next question')"
      ],
      "execution_count": null,
      "outputs": []
    },
    {
      "cell_type": "markdown",
      "metadata": {
        "id": "bhiK1zIPEWBd"
      },
      "source": [
        "### State the margin of error answer with the correct units. (example: The margin of error is 5 pounds per bag of cat food)."
      ]
    },
    {
      "cell_type": "markdown",
      "metadata": {
        "id": "ePBmVZU7N2nq"
      },
      "source": [
        "SHORT ANSWER TEXT HERE"
      ]
    },
    {
      "cell_type": "markdown",
      "metadata": {
        "id": "AtGASqgxYp5t"
      },
      "source": [
        "###5) Calculate a 95% CI for the mean caffeine content in a 12-oz fountain Coke with the CI formula using the summary statistics and t* that you calculated above.\n",
        "\n",
        "Name your variables as follows:\n",
        "\n",
        "* lower confidence level: `lower_CL`\n",
        "* upper confidence level: `upper_CL`"
      ]
    },
    {
      "cell_type": "code",
      "metadata": {
        "id": "JPUE0osGEw0M"
      },
      "source": [
        "### your code here ###\n"
      ],
      "execution_count": null,
      "outputs": []
    },
    {
      "cell_type": "code",
      "metadata": {
        "id": "yPBvD9x6FMZU"
      },
      "source": [
        "# This is an ANSWER CHECK cell.\n",
        "# Don't alter this cell if you want accurate feedback\n",
        "#------------------------------------------------------------------------------#\n",
        "\n",
        "# check confidence level calculations\n",
        "assert round(lower_CL, 2) == 36.45, 'Check your lower CL calculation.'\n",
        "assert round(upper_CL, 2) == 39.43, 'Check your upper CL calculation.'\n",
        "print('Correct! Continue to the next question')"
      ],
      "execution_count": null,
      "outputs": []
    },
    {
      "cell_type": "markdown",
      "metadata": {
        "id": "gAKJlaMyEzVz"
      },
      "source": [
        "###6) Calculate a **95% confidence interval** for the mean caffeine content in a 12-oz fountain Coke using the t-interval function in Python. Name your variable `t_int_95`."
      ]
    },
    {
      "cell_type": "code",
      "metadata": {
        "id": "GSo4uKWVFKwQ"
      },
      "source": [
        "### your code here ###\n"
      ],
      "execution_count": null,
      "outputs": []
    },
    {
      "cell_type": "code",
      "metadata": {
        "id": "oTCZbc82GgHX"
      },
      "source": [
        "# This is an ANSWER CHECK cell.\n",
        "# Don't alter this cell if you want accurate feedback\n",
        "#------------------------------------------------------------------------------#\n",
        "\n",
        "# check confidence level calculations\n",
        "assert round(t_int_95[0], 2) == 36.45, 'Check your interval calculation.'\n",
        "assert round(t_int_95[1], 2) == 39.43, 'Check your interval calculation.'\n",
        "print('Correct! Continue to the next question')"
      ],
      "execution_count": null,
      "outputs": []
    },
    {
      "cell_type": "markdown",
      "metadata": {
        "id": "8oD8lp84YyvU"
      },
      "source": [
        "###7) Compare the two confidence intervals you calculated.  Do they match?  Should they?"
      ]
    },
    {
      "cell_type": "markdown",
      "metadata": {
        "id": "mBMX1NAIFT88"
      },
      "source": [
        "They do match and they should!"
      ]
    },
    {
      "cell_type": "markdown",
      "metadata": {
        "id": "-2ulIAGmYudp"
      },
      "source": [
        "###8) Interpret the meaning of the 95% confidence interval for the mean caffeiene content in a 12-oz fountain Coke. in a sentence or two."
      ]
    },
    {
      "cell_type": "markdown",
      "metadata": {
        "id": "hD5HloatYxoh"
      },
      "source": [
        "SHORT ANSWER TEXT HERE"
      ]
    },
    {
      "cell_type": "markdown",
      "metadata": {
        "id": "SpqgKQfTYvF0"
      },
      "source": [
        "###9) Using the t-interval Python function, calculate a **90% confidence interval** for the mean caffeine content in a 12-oz Coke. Name your variable `t_int_90` (make sure to use `90` at the end!).\n"
      ]
    },
    {
      "cell_type": "code",
      "metadata": {
        "id": "r1y1LE_dPAi6"
      },
      "source": [
        "### your code here ###\n"
      ],
      "execution_count": null,
      "outputs": []
    },
    {
      "cell_type": "code",
      "metadata": {
        "id": "HQggp0yKMpXL"
      },
      "source": [
        "# This is an ANSWER CHECK cell.\n",
        "# Don't alter this cell if you want accurate feedback\n",
        "#------------------------------------------------------------------------------#\n",
        "\n",
        "# check confidence level calculations\n",
        "assert round(t_int_90[0], 2) == 36.70, 'Check your interval calculation.'\n",
        "assert round(t_int_90[1], 2) == 39.18, 'Check your interval calculation.'\n",
        "print('Correct! Continue to the next question')"
      ],
      "execution_count": null,
      "outputs": []
    },
    {
      "cell_type": "markdown",
      "metadata": {
        "id": "d5UezihtM4d6"
      },
      "source": [
        "### Is this estimate *more accurate* or *more precise* (pick one) than the 95% confidence interval?\n"
      ]
    },
    {
      "cell_type": "markdown",
      "metadata": {
        "id": "7WIQtB0PGJP4"
      },
      "source": [
        "SHORT ANSWER TEXT HERE"
      ]
    },
    {
      "cell_type": "markdown",
      "metadata": {
        "id": "hQsmY8RnHKJf"
      },
      "source": [
        "###10) Using the t-interval Python function, calculate a **99% confidence interval** for the mean caffeine content in a 12-oz Coke.  Name your variable `t_int_99` (make sure to use `99` at the end!).\n",
        "\n",
        "\n"
      ]
    },
    {
      "cell_type": "code",
      "metadata": {
        "id": "YrKq5pXYPNnK"
      },
      "source": [
        "### your code here ###\n"
      ],
      "execution_count": null,
      "outputs": []
    },
    {
      "cell_type": "code",
      "metadata": {
        "id": "4mkiLun_M_Af"
      },
      "source": [
        "# This is an ANSWER CHECK cell.\n",
        "# Don't alter this cell if you want accurate feedback\n",
        "#------------------------------------------------------------------------------#\n",
        "\n",
        "# check confidence level calculations\n",
        "assert round(t_int_99[0], 2) == 35.95, 'Check your interval calculation.'\n",
        "assert round(t_int_99[1], 2) == 39.93, 'Check your interval calculation.'\n",
        "print('Correct! Continue to the next question')"
      ],
      "execution_count": null,
      "outputs": []
    },
    {
      "cell_type": "markdown",
      "metadata": {
        "id": "j2vFv5eTM_f5"
      },
      "source": [
        "### Is this estimate more *accurate* or more *precise* (pick one) than the 99% confidence interval?"
      ]
    },
    {
      "cell_type": "markdown",
      "metadata": {
        "id": "liduCGIkJAC2"
      },
      "source": [
        "SHORT ANSWER TEXT HERE"
      ]
    },
    {
      "cell_type": "markdown",
      "metadata": {
        "id": "9tIHBlM_SyGR"
      },
      "source": [
        "## Stretch goals:\n",
        "\n",
        "###1) The correspondence between confidence intervals and hypothesis tests.\n",
        "\n",
        "Read [this](https://https://blog.minitab.com/blog/adventures-in-statistics-2/understanding-hypothesis-tests-confidence-intervals-and-confidence-levels#:~:text=If%20a%20hypothesis%20test%20produces,corresponding%20confidence%20level%20is%2095%25.&text=If%20the%20confidence%20interval%20does,the%20results%20are%20statistically%20significant.) article about the correspondence between confidence intervals and hypothesis tests.  Feel free to read the whole article, but the relevant part can be found under the heading Why P Values and Confidence Intervals Always Agree About Statistical Significance.\n",
        "\n",
        "Imagine you work for quality control at Coke and are tasked with making sure that the caffeiene content in the fountain beverages served in restaurants is the same as in a 12-oz can of Coke (34mg).  If you believe that the mean caffeiene content in fountain coke is not 34mg, you must re-train the franchise managers to make sure the Coke served has the correct caffeiene level.\n",
        "\n",
        "Based on the confidence interval you calculated in the assignment, do you believe that the mean caffeiene content is statistically significantly different from 34 mg in a 12-oz serving?\n"
      ]
    },
    {
      "cell_type": "markdown",
      "metadata": {
        "id": "4Aa3df-_LgnT"
      },
      "source": [
        "Because 34mg is not in the bounds of the 95% confidence interval, we can reject the null hypothesis that the mean caffeiene content in 12-oz of fountain Coke is equal to 34mg.  Instead, we conclude it is between about 36.4 and 39.4 mg."
      ]
    },
    {
      "cell_type": "markdown",
      "metadata": {
        "id": "Ne4k2kd3LhfV"
      },
      "source": [
        "###2) If we increased the sample size from 50 to 100 but the sample mean and SD remained the same, describe **two** ways the margin of error would change.  Would the margin of error become smaller or larger?"
      ]
    },
    {
      "cell_type": "markdown",
      "metadata": {
        "id": "6lVcoTU6L5Pg"
      },
      "source": [
        "Both t* and n would change.  Therefore"
      ]
    },
    {
      "cell_type": "code",
      "metadata": {
        "id": "PQkk3nu4L4vu"
      },
      "source": [
        "t_star = t.ppf(0.975,df=###)\n",
        "\n",
        "### your code here ###"
      ],
      "execution_count": null,
      "outputs": []
    },
    {
      "cell_type": "markdown",
      "metadata": {
        "id": "5bZ8LyiQXnpO"
      },
      "source": [
        "SHORT ANSWER TEXT HERE\n"
      ]
    }
  ]
}