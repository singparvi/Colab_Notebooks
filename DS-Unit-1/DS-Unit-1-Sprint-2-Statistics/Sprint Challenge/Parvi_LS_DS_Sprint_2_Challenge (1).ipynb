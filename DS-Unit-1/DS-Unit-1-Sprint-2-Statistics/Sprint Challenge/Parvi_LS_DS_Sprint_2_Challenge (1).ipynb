{
  "nbformat": 4,
  "nbformat_minor": 0,
  "metadata": {
    "colab": {
      "name": "LS_DS_Sprint_2_Challenge.ipynb",
      "provenance": [],
      "collapsed_sections": []
    },
    "kernelspec": {
      "name": "python3",
      "display_name": "Python 3"
    }
  },
  "cells": [
    {
      "cell_type": "markdown",
      "metadata": {
        "id": "838Dmw1kM2LK"
      },
      "source": [
        "# Sprint 2 Challenge\n",
        "\n",
        "### Dataset description: \n",
        "\n",
        "Anyone who is a fan of detective TV shows has watched a scene where human remains are discovered and some sort of expert is called in to determine when the person died. But is this science fiction or science fact? Is it possible to use evidence from skeletal remains to determine how long a body has been buried (a decent approximation of how long the person has been dead)? \n",
        "\n",
        "Researchers sampled long bone material from bodies exhumed from coffin burials in two cemeteries in England. In each case, date of death and burial (and therefore interment time) was known. This data is given in the Longbones.csv dataset. \n",
        "\n",
        "You can find Longbones.csv here: https://raw.githubusercontent.com/Chelsea-Myers/Lambda-Intro/master/Longbones.csv\n",
        "\n",
        "**What can we learn about the bodies that were buried in the cemetery?**\n",
        "\n",
        "The variable names are:\n",
        "\n",
        "Site = Site ID, either Site 1 or Site 2\n",
        "\n",
        "Time = Interrment time in years\n",
        "\n",
        "Depth = Burial depth in ft.\n",
        "\n",
        "Lime = Burial with Quiklime (0 = No, 1 = Yes)\n",
        "\n",
        "Age = Age at time of death in years\n",
        "\n",
        "Nitro = Nitrogen composition of the long bones in g per 100g of bone.\n",
        "\n",
        "Oil = Oil contamination of the grave site (0 = No contamination, 1 = Oil contamination)\n",
        "\n",
        "Source: D.R. Jarvis (1997). \"Nitrogen Levels in Long Bones from Coffin Burials Interred for Periods of 26-90 Years,\" Forensic Science International, Vol85, pp199-208"
      ]
    },
    {
      "cell_type": "markdown",
      "metadata": {
        "id": "3hi4kQm1XhlO"
      },
      "source": [
        "###1) Import the data \n",
        "\n",
        "Import the Longbones.csv file and print the first 5 rows."
      ]
    },
    {
      "cell_type": "code",
      "metadata": {
        "id": "4lBeDadzeHKy"
      },
      "source": [
        "#Import the dataset\n",
        "\n",
        "import pandas as pd\n",
        "import numpy as np\n",
        "\n",
        "\n",
        "data_url = 'https://raw.githubusercontent.com/Chelsea-Myers/Lambda-Intro/master/Longbones.csv'\n",
        "\n",
        "df = pd.read_csv(data_url, skipinitialspace=True, header=0)\n",
        "\n"
      ],
      "execution_count": 21,
      "outputs": []
    },
    {
      "cell_type": "code",
      "metadata": {
        "id": "erthjvyReHap",
        "colab": {
          "base_uri": "https://localhost:8080/",
          "height": 204
        },
        "outputId": "97aef1e5-f38c-4593-9037-a21ef5f0c67b"
      },
      "source": [
        "### YOUR CODE HERE ###\n",
        "df.head()"
      ],
      "execution_count": 22,
      "outputs": [
        {
          "output_type": "execute_result",
          "data": {
            "text/html": [
              "<div>\n",
              "<style scoped>\n",
              "    .dataframe tbody tr th:only-of-type {\n",
              "        vertical-align: middle;\n",
              "    }\n",
              "\n",
              "    .dataframe tbody tr th {\n",
              "        vertical-align: top;\n",
              "    }\n",
              "\n",
              "    .dataframe thead th {\n",
              "        text-align: right;\n",
              "    }\n",
              "</style>\n",
              "<table border=\"1\" class=\"dataframe\">\n",
              "  <thead>\n",
              "    <tr style=\"text-align: right;\">\n",
              "      <th></th>\n",
              "      <th>Site</th>\n",
              "      <th>Time</th>\n",
              "      <th>Depth</th>\n",
              "      <th>Lime</th>\n",
              "      <th>Age</th>\n",
              "      <th>Nitro</th>\n",
              "      <th>Oil</th>\n",
              "    </tr>\n",
              "  </thead>\n",
              "  <tbody>\n",
              "    <tr>\n",
              "      <th>0</th>\n",
              "      <td>1</td>\n",
              "      <td>88.5</td>\n",
              "      <td>7.0</td>\n",
              "      <td>1</td>\n",
              "      <td>NaN</td>\n",
              "      <td>3.88</td>\n",
              "      <td>1</td>\n",
              "    </tr>\n",
              "    <tr>\n",
              "      <th>1</th>\n",
              "      <td>1</td>\n",
              "      <td>88.5</td>\n",
              "      <td>NaN</td>\n",
              "      <td>1</td>\n",
              "      <td>NaN</td>\n",
              "      <td>4.00</td>\n",
              "      <td>1</td>\n",
              "    </tr>\n",
              "    <tr>\n",
              "      <th>2</th>\n",
              "      <td>1</td>\n",
              "      <td>85.2</td>\n",
              "      <td>7.0</td>\n",
              "      <td>1</td>\n",
              "      <td>NaN</td>\n",
              "      <td>3.69</td>\n",
              "      <td>1</td>\n",
              "    </tr>\n",
              "    <tr>\n",
              "      <th>3</th>\n",
              "      <td>1</td>\n",
              "      <td>71.8</td>\n",
              "      <td>7.6</td>\n",
              "      <td>1</td>\n",
              "      <td>65.0</td>\n",
              "      <td>3.88</td>\n",
              "      <td>0</td>\n",
              "    </tr>\n",
              "    <tr>\n",
              "      <th>4</th>\n",
              "      <td>1</td>\n",
              "      <td>70.6</td>\n",
              "      <td>7.5</td>\n",
              "      <td>1</td>\n",
              "      <td>42.0</td>\n",
              "      <td>3.53</td>\n",
              "      <td>0</td>\n",
              "    </tr>\n",
              "  </tbody>\n",
              "</table>\n",
              "</div>"
            ],
            "text/plain": [
              "   Site  Time  Depth  Lime   Age  Nitro  Oil\n",
              "0     1  88.5    7.0     1   NaN   3.88    1\n",
              "1     1  88.5    NaN     1   NaN   4.00    1\n",
              "2     1  85.2    7.0     1   NaN   3.69    1\n",
              "3     1  71.8    7.6     1  65.0   3.88    0\n",
              "4     1  70.6    7.5     1  42.0   3.53    0"
            ]
          },
          "metadata": {
            "tags": []
          },
          "execution_count": 22
        }
      ]
    },
    {
      "cell_type": "markdown",
      "metadata": {
        "id": "NKsOOVvoeLUR"
      },
      "source": [
        "###2) Check for missing data.\n",
        "\n",
        "Is there any missing data in the dataset?  If so, in what variable(s)?  "
      ]
    },
    {
      "cell_type": "code",
      "metadata": {
        "id": "-xCpxeU7xXFV",
        "colab": {
          "base_uri": "https://localhost:8080/"
        },
        "outputId": "8870704b-83bc-4bfa-8cf4-bdbd55152425"
      },
      "source": [
        "### YOUR CODE HERE ###\n",
        "df.isnull().sum()"
      ],
      "execution_count": 23,
      "outputs": [
        {
          "output_type": "execute_result",
          "data": {
            "text/plain": [
              "Site     0\n",
              "Time     0\n",
              "Depth    1\n",
              "Lime     0\n",
              "Age      7\n",
              "Nitro    0\n",
              "Oil      0\n",
              "dtype: int64"
            ]
          },
          "metadata": {
            "tags": []
          },
          "execution_count": 23
        }
      ]
    },
    {
      "cell_type": "markdown",
      "metadata": {
        "id": "qeVwTYT_eZhI"
      },
      "source": [
        "Summarize your answer here.\n",
        "ANSWER -->\n",
        "\n",
        "There is some missing data in this DataFrame. There is one missing observation in Depth column and seven missing observations in Age column. \n",
        "The rest of the DataFrame is not having any missing information."
      ]
    },
    {
      "cell_type": "markdown",
      "metadata": {
        "id": "maUUy0b-efKn"
      },
      "source": [
        "### 3) Remove any rows with missing data from the dataset.  If there is no missing data, write \"No missing data\" in the answer section below."
      ]
    },
    {
      "cell_type": "code",
      "metadata": {
        "id": "iWxyaYvUxfcn",
        "colab": {
          "base_uri": "https://localhost:8080/"
        },
        "outputId": "cefd4156-218f-49e4-c027-577562a9498d"
      },
      "source": [
        "### YOUR CODE HERE ###\n",
        "# Finding the shape of the DataFrame\n",
        "df.shape\n",
        "# Dropping rows with no information in any one column(variable)\n",
        "df = df.dropna()\n",
        "df.shape"
      ],
      "execution_count": 26,
      "outputs": [
        {
          "output_type": "execute_result",
          "data": {
            "text/plain": [
              "(35, 7)"
            ]
          },
          "metadata": {
            "tags": []
          },
          "execution_count": 26
        }
      ]
    },
    {
      "cell_type": "markdown",
      "metadata": {
        "id": "FiwnkZHjg6Br"
      },
      "source": [
        "If there are no NA's, indicate that here. "
      ]
    },
    {
      "cell_type": "markdown",
      "metadata": {
        "id": "DCu_DnqzfZCi"
      },
      "source": [
        "#Use the following information to answer questions 4) - 7) \n",
        "\n",
        "The mean nitrogen compostion in living individuals is 4.3g per 100g of bone.  \n",
        "\n",
        "We wish to use the Longbones sample to test the null hypothesis that the mean nitrogen composition per 100g of bone in the deceased is 4.3g (equal to that of living humans) vs the alternative hypothesis that the mean nitrogen composition per 100g of bone in the deceased is not 4.3g (not equal to that of living humans). \n",
        "\n"
      ]
    },
    {
      "cell_type": "markdown",
      "metadata": {
        "id": "TvZZhLlSjehS"
      },
      "source": [
        "###4) Using symbols and statistical language, write the null and alternative hypotheses outlined above."
      ]
    },
    {
      "cell_type": "markdown",
      "metadata": {
        "id": "qt0ug6daj96v"
      },
      "source": [
        "Your answer here.\n",
        "ANSWER -->\n",
        "\n",
        " We are making a comparison of the sample mean with a particular number therefore this is a case of a one sample t-test. The null and alternative hypothesis in this case will be:-\n",
        "\n",
        "$H_0: \\mu = $ 4.3 grams\n",
        "\n",
        "In words, our null hypothesis is that the population mean of all dying people nitrogen composition per 100 grams bone is 4.3 grams.\n",
        "\n",
        "$H_a: \\mu \\neq$ 4.3 grams\n",
        "\n",
        "In words, our alternative hypothesis is that the population mean of all dying people nitrogen composition per 100 grams bone is NOT 4.3 grams.\n"
      ]
    },
    {
      "cell_type": "markdown",
      "metadata": {
        "id": "xG44zc__kCte"
      },
      "source": [
        "###5) What is the appropriate test for these hypotheses?  A t-test or a chi-square test?  Explain your answer in a sentence or two."
      ]
    },
    {
      "cell_type": "markdown",
      "metadata": {
        "id": "IbGjw2LlkQjx"
      },
      "source": [
        "Your answer here.\n",
        "ANSWER --> \n",
        "\n",
        "As mentioned above the since we are comparing the population mean with a reference value the suitable t-test in such situation is the single value t-test."
      ]
    },
    {
      "cell_type": "markdown",
      "metadata": {
        "id": "9KnID825kQ-E"
      },
      "source": [
        "###6) Use a built-in Python function to conduct the statistical test you identified in 5).  Report your p-value.  Write the conclusion to your hypothesis test at the alpha = 0.05 significance level."
      ]
    },
    {
      "cell_type": "code",
      "metadata": {
        "id": "l7kbcK8RxqV0",
        "colab": {
          "base_uri": "https://localhost:8080/"
        },
        "outputId": "fdcd39ad-15a9-4ffa-d2ae-63dbb53541d3"
      },
      "source": [
        "### YOUR CODE HERE ###\n",
        "import scipy.stats as st\n",
        "\n",
        "t, pval = st.stats.ttest_1samp(df['Nitro'], 4.3)\n",
        "print ('The p-value of the sample is:',pval)"
      ],
      "execution_count": 27,
      "outputs": [
        {
          "output_type": "stream",
          "text": [
            "The p-value of the sample is: 8.097649978903554e-18\n"
          ],
          "name": "stdout"
        }
      ]
    },
    {
      "cell_type": "markdown",
      "metadata": {
        "id": "sBW2ug1hkxdy"
      },
      "source": [
        "Your answer here.\n",
        "ANSWER -->\n",
        "\n",
        "Based on the p-value of single value t-test and the set significance level on the sample we reject the null hypothesis and conclude that the population mean of all dying people nitrogen composition per 100 grams bone is NOT 4.3 grams."
      ]
    },
    {
      "cell_type": "markdown",
      "metadata": {
        "id": "MsxjHEbRrQBZ"
      },
      "source": [
        "###7) Create a 95% confidence interval for the mean nitrogen compostion in the longbones of a deceased individual.  Interpret your confidence interval in a sentence or two."
      ]
    },
    {
      "cell_type": "code",
      "metadata": {
        "id": "atFLEgciP15T",
        "colab": {
          "base_uri": "https://localhost:8080/"
        },
        "outputId": "e6ef0e1f-e5ee-4f17-f351-f0c4418c7814"
      },
      "source": [
        "### YOUR CODE HERE ###\n",
        "from scipy.stats import t\n",
        "# calculating data mean, standard deviation, n and standard error\n",
        "nitro_mean = df['Nitro'].mean()\n",
        "nitro_sd = df['Nitro'].std()\n",
        "nitro_n = df['Nitro'].count()\n",
        "nitro_se = nitro_sd / (nitro_n**(1/2))\n",
        "t.interval(alpha= 0.95, df = nitro_n-1, loc = nitro_mean , scale = nitro_se)"
      ],
      "execution_count": 28,
      "outputs": [
        {
          "output_type": "execute_result",
          "data": {
            "text/plain": [
              "(3.734020952024922, 3.8579790479750784)"
            ]
          },
          "metadata": {
            "tags": []
          },
          "execution_count": 28
        }
      ]
    },
    {
      "cell_type": "markdown",
      "metadata": {
        "id": "m2ixBzDhP15X"
      },
      "source": [
        "Your answer here.\n",
        "ANSWER-->\n",
        "\n",
        "Based on the confidence interval and significance level of 95% we can conclude the population mean for dying people nitrogen composition per 100 grams bone is between 3.73 grams and 3.86 grams. \n",
        "\n",
        "The values from the confidence interval also validates the one sample t-test we had conducted earlier as the value of 4.3 grams does not lie in this threshold."
      ]
    },
    {
      "cell_type": "markdown",
      "metadata": {
        "id": "KYpQ60qPfSpq"
      },
      "source": [
        "#Use the following information to answer questions 8) - 12) \n"
      ]
    },
    {
      "cell_type": "markdown",
      "metadata": {
        "id": "wXnTAE6zlKnN"
      },
      "source": [
        "The researchers also want to learn more about burial practices in the parts of England where the two cemetaries in the study were located.  They wish to determine if burials with Quicklime are associated with the burial region.  \n",
        "\n",
        "Their null hypothesis is that there is no association between cemetery site and burial with Quicklime.  The alternative hypothesis is that there is an association between cemetery site and burial with Quicklime.\n",
        "\n"
      ]
    },
    {
      "cell_type": "markdown",
      "metadata": {
        "id": "Nrh9-WJCnfi-"
      },
      "source": [
        "###8) Calculate the joint distribution of burial with Quicklime by burial site."
      ]
    },
    {
      "cell_type": "code",
      "metadata": {
        "id": "G6N_fzPXyF1J",
        "colab": {
          "base_uri": "https://localhost:8080/",
          "height": 142
        },
        "outputId": "eeddd448-47c1-43cd-b808-9f10c5cfd777"
      },
      "source": [
        "### YOUR CODE HERE ###\n",
        "pd.crosstab(df['Site'], df['Lime'])"
      ],
      "execution_count": 29,
      "outputs": [
        {
          "output_type": "execute_result",
          "data": {
            "text/html": [
              "<div>\n",
              "<style scoped>\n",
              "    .dataframe tbody tr th:only-of-type {\n",
              "        vertical-align: middle;\n",
              "    }\n",
              "\n",
              "    .dataframe tbody tr th {\n",
              "        vertical-align: top;\n",
              "    }\n",
              "\n",
              "    .dataframe thead th {\n",
              "        text-align: right;\n",
              "    }\n",
              "</style>\n",
              "<table border=\"1\" class=\"dataframe\">\n",
              "  <thead>\n",
              "    <tr style=\"text-align: right;\">\n",
              "      <th>Lime</th>\n",
              "      <th>0</th>\n",
              "      <th>1</th>\n",
              "    </tr>\n",
              "    <tr>\n",
              "      <th>Site</th>\n",
              "      <th></th>\n",
              "      <th></th>\n",
              "    </tr>\n",
              "  </thead>\n",
              "  <tbody>\n",
              "    <tr>\n",
              "      <th>1</th>\n",
              "      <td>14</td>\n",
              "      <td>5</td>\n",
              "    </tr>\n",
              "    <tr>\n",
              "      <th>2</th>\n",
              "      <td>9</td>\n",
              "      <td>7</td>\n",
              "    </tr>\n",
              "  </tbody>\n",
              "</table>\n",
              "</div>"
            ],
            "text/plain": [
              "Lime   0  1\n",
              "Site       \n",
              "1     14  5\n",
              "2      9  7"
            ]
          },
          "metadata": {
            "tags": []
          },
          "execution_count": 29
        }
      ]
    },
    {
      "cell_type": "markdown",
      "metadata": {
        "id": "tdESH5FcnvsR"
      },
      "source": [
        "###9) Calculate the conditional distribution of burial with Quicklime by burial site."
      ]
    },
    {
      "cell_type": "code",
      "metadata": {
        "id": "QkiPyt5ByJ7V",
        "colab": {
          "base_uri": "https://localhost:8080/",
          "height": 142
        },
        "outputId": "0836c6b4-22c3-4714-c1a9-33cee3ee986e"
      },
      "source": [
        "### YOUR CODE HERE ###\n",
        "pd.crosstab(df['Site'], df['Lime'], normalize='index')*100"
      ],
      "execution_count": 30,
      "outputs": [
        {
          "output_type": "execute_result",
          "data": {
            "text/html": [
              "<div>\n",
              "<style scoped>\n",
              "    .dataframe tbody tr th:only-of-type {\n",
              "        vertical-align: middle;\n",
              "    }\n",
              "\n",
              "    .dataframe tbody tr th {\n",
              "        vertical-align: top;\n",
              "    }\n",
              "\n",
              "    .dataframe thead th {\n",
              "        text-align: right;\n",
              "    }\n",
              "</style>\n",
              "<table border=\"1\" class=\"dataframe\">\n",
              "  <thead>\n",
              "    <tr style=\"text-align: right;\">\n",
              "      <th>Lime</th>\n",
              "      <th>0</th>\n",
              "      <th>1</th>\n",
              "    </tr>\n",
              "    <tr>\n",
              "      <th>Site</th>\n",
              "      <th></th>\n",
              "      <th></th>\n",
              "    </tr>\n",
              "  </thead>\n",
              "  <tbody>\n",
              "    <tr>\n",
              "      <th>1</th>\n",
              "      <td>73.684211</td>\n",
              "      <td>26.315789</td>\n",
              "    </tr>\n",
              "    <tr>\n",
              "      <th>2</th>\n",
              "      <td>56.250000</td>\n",
              "      <td>43.750000</td>\n",
              "    </tr>\n",
              "  </tbody>\n",
              "</table>\n",
              "</div>"
            ],
            "text/plain": [
              "Lime          0          1\n",
              "Site                      \n",
              "1     73.684211  26.315789\n",
              "2     56.250000  43.750000"
            ]
          },
          "metadata": {
            "tags": []
          },
          "execution_count": 30
        }
      ]
    },
    {
      "cell_type": "markdown",
      "metadata": {
        "id": "qGCgkD_KoM9e"
      },
      "source": [
        "###10) What is the appropriate test for the hypotheses listed above?  A t-test or a chi-square test?  Explain your answer in a sentence or two."
      ]
    },
    {
      "cell_type": "markdown",
      "metadata": {
        "id": "-5fEpmowoQbs"
      },
      "source": [
        "Your answer here.\n",
        "ANSWER -->\n",
        "\n",
        "Since both burial with Quickline and burial site are categorical variable the appropriate test is a chi-square test."
      ]
    },
    {
      "cell_type": "markdown",
      "metadata": {
        "id": "G2rwievuoTiy"
      },
      "source": [
        "###11) Conducte your hypothesis test and report your conclusion at the alpha = 0.05 significance level."
      ]
    },
    {
      "cell_type": "code",
      "metadata": {
        "id": "vQemmXEwyRRt"
      },
      "source": [
        "### YOUR CODE HERE ###\n",
        "#################### ANSWERING THE QUESTION BELOW INSTEAD ####################"
      ],
      "execution_count": 31,
      "outputs": []
    },
    {
      "cell_type": "markdown",
      "metadata": {
        "id": "IoSAVaYRodPs"
      },
      "source": [
        "Your answer here."
      ]
    },
    {
      "cell_type": "markdown",
      "metadata": {
        "id": "vdzV0Sd-SAYP"
      },
      "source": [
        "###12) Conducte your hypothesis test and report your conclusion at the alpha = 0.05 significance level."
      ]
    },
    {
      "cell_type": "code",
      "metadata": {
        "id": "XJkwX2P3SEds",
        "colab": {
          "base_uri": "https://localhost:8080/"
        },
        "outputId": "b2bfa7e7-f4cd-4ed6-af36-07216faf0a7c"
      },
      "source": [
        "### YOUR CODE HERE ###\n",
        "from scipy.stats import chi2_contingency\n",
        "g, p, dof, expected = chi2_contingency(pd.crosstab(df['Site'], df['Lime']))\n",
        "p"
      ],
      "execution_count": 32,
      "outputs": [
        {
          "output_type": "execute_result",
          "data": {
            "text/plain": [
              "0.4684181967877057"
            ]
          },
          "metadata": {
            "tags": []
          },
          "execution_count": 32
        }
      ]
    },
    {
      "cell_type": "markdown",
      "metadata": {
        "id": "OytU0QcdxBNF"
      },
      "source": [
        "Your answer here.\n",
        "\n",
        "ANSWER -->\n",
        "\n",
        "Based on the significance level of 0.05 and a p-value of 0.47 we fail to reject the null hypothesis and therefore we can conclude that there is a relationship between burial with Quicklime and burial site."
      ]
    },
    {
      "cell_type": "markdown",
      "metadata": {
        "id": "VPejVZDsF84m"
      },
      "source": [
        "###13) In a few sentences, describe the difference between Bayesian and Frequentist statistics."
      ]
    },
    {
      "cell_type": "markdown",
      "metadata": {
        "id": "88qgSn96xYkU"
      },
      "source": [
        "Your answer here.\n",
        "\n",
        "The main difference between Bayesian and Frequentist statistics is that in Bayseian there is a prior belief and by running statistics on the model you are just updating your belief. In Frequentist statistics there is no belief / historical data and statistics is done purely on the basis of the current dataset."
      ]
    }
  ]
}