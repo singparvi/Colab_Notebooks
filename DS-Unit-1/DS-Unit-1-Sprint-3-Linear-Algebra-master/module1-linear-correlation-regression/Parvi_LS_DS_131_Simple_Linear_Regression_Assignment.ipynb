{
 "nbformat": 4,
 "nbformat_minor": 0,
 "metadata": {
  "colab": {
   "name": "Parvi_LS_DS_131_Simple_Linear_Regression_Assignment.ipynb",
   "provenance": [],
   "collapsed_sections": []
  },
  "kernelspec": {
   "name": "pycharm-16554a3c",
   "language": "python",
   "display_name": "PyCharm (Colab Notebooks)"
  }
 },
 "cells": [
  {
   "cell_type": "markdown",
   "metadata": {
    "id": "RQw2GTc8oDRw"
   },
   "source": [
    "Unit 1, Sprint 2, Module 1\n",
    "\n",
    "###Learning Objectives:\n",
    "- Student can create a scatterplot\n",
    "- Student can identify the independent and dependent variables in a relationship (also known as features and target, and explanatory and response variables)\n",
    "- Student can identify linear and nonlinear relationships from a scatterplot\n",
    "- Student can calculate and interpret linear correlation\n",
    "- Student can calculate and interpret the slope and intercept of a simple linear regression model\n",
    "- Sudent can predict a response from a simple linear regression model\n",
    "- Student can calculate and interpret a residual"
   ]
  },
  {
   "cell_type": "markdown",
   "metadata": {
    "id": "uhmdnOzupL1N"
   },
   "source": [
    "#Use the following information to answer questions 1 - 13 in the assignment:\n",
    "\n"
   ]
  },
  {
   "cell_type": "markdown",
   "metadata": {
    "id": "MHWnltybtm8_"
   },
   "source": [
    "###Is head size related to brain weight in healthy adult humans?\n",
    "\n",
    "The Brainhead.csv dataset provides information on 237 individuals who were subject to post-mortem examination at the Middlesex Hospital in London around the turn of the 20th century. Study authors used cadavers to see if a relationship between brain weight and other more easily measured physiological characterizes such as age, sex, and head size could be determined. The end goal was to develop a way to estimate a person’s brain size while they were still alive (as the living aren’t keen on having their brains taken out and weighed). "
   ]
  },
  {
   "cell_type": "markdown",
   "metadata": {
    "id": "lM5t4Yajp8mH"
   },
   "source": [
    "**We wish to determine if there is a linear relationship between head size and brain weight in healthy human adults.**\n",
    "\n",
    "Source: R.J. Gladstone (1905). \"A Study of the Relations of the Brain to the Size of the Head\", Biometrika, Vol. 4, pp105-123."
   ]
  },
  {
   "cell_type": "code",
   "metadata": {
    "id": "sJegaDmRn0a6",
    "colab": {
     "base_uri": "https://localhost:8080/",
     "height": 204
    },
    "executionInfo": {
     "status": "ok",
     "timestamp": 1606956330791,
     "user_tz": 300,
     "elapsed": 507,
     "user": {
      "displayName": "Parvi Singh",
      "photoUrl": "",
      "userId": "15870809085498692847"
     }
    },
    "outputId": "b859946b-2a98-4d19-beee-9a216260b05e"
   },
   "source": [
    "#Import the Brainhead.csv dataset from a URL and print the first few rows\n",
    "\n",
    "import pandas as pd\n",
    "import numpy as np\n",
    "\n",
    "\n",
    "data_url = 'https://raw.githubusercontent.com/LambdaSchool/data-science-practice-datasets/main/unit_1/Brainhead/Brainhead.csv'\n",
    "\n",
    "df = pd.read_csv(data_url, skipinitialspace=True, header=0)\n",
    "\n",
    "df.head()"
   ],
   "execution_count": 6,
   "outputs": [
    {
     "output_type": "execute_result",
     "data": {
      "text/html": [
       "<div>\n",
       "<style scoped>\n",
       "    .dataframe tbody tr th:only-of-type {\n",
       "        vertical-align: middle;\n",
       "    }\n",
       "\n",
       "    .dataframe tbody tr th {\n",
       "        vertical-align: top;\n",
       "    }\n",
       "\n",
       "    .dataframe thead th {\n",
       "        text-align: right;\n",
       "    }\n",
       "</style>\n",
       "<table border=\"1\" class=\"dataframe\">\n",
       "  <thead>\n",
       "    <tr style=\"text-align: right;\">\n",
       "      <th></th>\n",
       "      <th>Gender</th>\n",
       "      <th>Age</th>\n",
       "      <th>Head</th>\n",
       "      <th>Brain</th>\n",
       "    </tr>\n",
       "  </thead>\n",
       "  <tbody>\n",
       "    <tr>\n",
       "      <th>0</th>\n",
       "      <td>1</td>\n",
       "      <td>1</td>\n",
       "      <td>4512</td>\n",
       "      <td>1530</td>\n",
       "    </tr>\n",
       "    <tr>\n",
       "      <th>1</th>\n",
       "      <td>1</td>\n",
       "      <td>1</td>\n",
       "      <td>3738</td>\n",
       "      <td>1297</td>\n",
       "    </tr>\n",
       "    <tr>\n",
       "      <th>2</th>\n",
       "      <td>1</td>\n",
       "      <td>1</td>\n",
       "      <td>4261</td>\n",
       "      <td>1335</td>\n",
       "    </tr>\n",
       "    <tr>\n",
       "      <th>3</th>\n",
       "      <td>1</td>\n",
       "      <td>1</td>\n",
       "      <td>3777</td>\n",
       "      <td>1282</td>\n",
       "    </tr>\n",
       "    <tr>\n",
       "      <th>4</th>\n",
       "      <td>1</td>\n",
       "      <td>1</td>\n",
       "      <td>4177</td>\n",
       "      <td>1590</td>\n",
       "    </tr>\n",
       "  </tbody>\n",
       "</table>\n",
       "</div>"
      ],
      "text/plain": [
       "   Gender  Age  Head  Brain\n",
       "0       1    1  4512   1530\n",
       "1       1    1  3738   1297\n",
       "2       1    1  4261   1335\n",
       "3       1    1  3777   1282\n",
       "4       1    1  4177   1590"
      ]
     },
     "metadata": {
      "tags": []
     },
     "execution_count": 6
    }
   ]
  },
  {
   "cell_type": "markdown",
   "metadata": {
    "id": "UygPGJ5Iq4zZ"
   },
   "source": [
    "The two variables we are interested in - for now - are \n",
    "\n",
    "- Brain, the brain weight in g\n",
    "- Head, the head size in cubic cm"
   ]
  },
  {
   "cell_type": "markdown",
   "metadata": {
    "id": "q5ese6fvrSBQ"
   },
   "source": [
    "1) If we wish to predict brain weight from head size, which variable is the independent variable (also called the feature, explanatory or x variable) and which variable is the dependent variable (also called the target, response or y variable)?"
   ]
  },
  {
   "cell_type": "markdown",
   "metadata": {
    "id": "n2D0DmCwru_g"
   },
   "source": [
    "Answer here: -->\n",
    "\n",
    "As the question suggest that we like to predict brain weight **from** head size. The head size is going to be a x variable or independent variable while the brain weight will be the y variable or the dependent variable."
   ]
  },
  {
   "cell_type": "markdown",
   "metadata": {
    "id": "p-dC58hMvRYt"
   },
   "source": [
    "2) Draw a scatterplot showing the relationship between brain weight and head size.  Make sure to graph the correct variable on the correct axis and label your graph."
   ]
  },
  {
   "cell_type": "code",
   "metadata": {
    "id": "sVZOz0j8xLb4",
    "colab": {
     "base_uri": "https://localhost:8080/",
     "height": 295
    },
    "executionInfo": {
     "status": "ok",
     "timestamp": 1606955995709,
     "user_tz": 300,
     "elapsed": 639,
     "user": {
      "displayName": "Parvi Singh",
      "photoUrl": "",
      "userId": "15870809085498692847"
     }
    },
    "outputId": "9dfe7b42-8eb8-4cb6-8708-c47f8e1a676b"
   },
   "source": [
    "### YOUR CODE HERE ###\n",
    "import matplotlib.pyplot as plt\n",
    "\n",
    "plt.scatter(x = df['Head'], y = df['Brain'])\n",
    "plt.xlabel('Head Size in cubic cm')\n",
    "plt.ylabel('Brain Weight in grams')   # ??? ask question about these in the after hours compared to fig, ax = plt.subplots() ax.set_title('Long Bone Nitrogen Composition and Interment Time')\n",
    "plt.title('Scatter plot for Brain Weight vs. Head Size');\n"
   ],
   "execution_count": 5,
   "outputs": [
    {
     "output_type": "display_data",
     "data": {
      "image/png": "[encoded data removed]",
      "text/plain": [
       "<Figure size 432x288 with 1 Axes>"
      ]
     },
     "metadata": {
      "tags": [],
      "needs_background": "light"
     }
    }
   ]
  },
  {
   "cell_type": "markdown",
   "metadata": {
    "id": "4eJsXuRLxKrz"
   },
   "source": [
    "3) Describe the strength and direction of the relationship between head size and brain weight."
   ]
  },
  {
   "cell_type": "markdown",
   "metadata": {
    "id": "9VLKDiESxJSR"
   },
   "source": [
    "Answer here: -->\n",
    "\n",
    "The strength and direction relationship between head size and brain weight can be obtained by linear corelation. "
   ]
  },
  {
   "cell_type": "markdown",
   "metadata": {
    "id": "q9zVxcOPwU4Z"
   },
   "source": [
    "4) Determine if there is any missing data in the dataset."
   ]
  },
  {
   "cell_type": "code",
   "metadata": {
    "id": "jagDF8wF0aaZ",
    "colab": {
     "base_uri": "https://localhost:8080/"
    },
    "executionInfo": {
     "status": "ok",
     "timestamp": 1606956430425,
     "user_tz": 300,
     "elapsed": 387,
     "user": {
      "displayName": "Parvi Singh",
      "photoUrl": "",
      "userId": "15870809085498692847"
     }
    },
    "outputId": "c7a02ef3-524d-4a55-9583-be8d4c8b3d38"
   },
   "source": [
    "### YOUR CODE HERE ###\n",
    "df.isnull().sum()\n",
    "# df.shape "
   ],
   "execution_count": 7,
   "outputs": [
    {
     "output_type": "execute_result",
     "data": {
      "text/plain": [
       "Gender    0\n",
       "Age       0\n",
       "Head      0\n",
       "Brain     0\n",
       "dtype: int64"
      ]
     },
     "metadata": {
      "tags": []
     },
     "execution_count": 7
    }
   ]
  },
  {
   "cell_type": "markdown",
   "metadata": {
    "id": "82l60bgp0vR5"
   },
   "source": [
    "Answer here: -->\n",
    "\n",
    "The data is complete and there is no missing information in the 237 rows and 4 columns."
   ]
  },
  {
   "cell_type": "markdown",
   "metadata": {
    "id": "5ZeOv8ELAy8u"
   },
   "source": [
    "5) Calculate and interpret the correlation coefficient for the relationship between head size and brain weight.  "
   ]
  },
  {
   "cell_type": "code",
   "metadata": {
    "id": "GyoPNwziBm-5",
    "colab": {
     "base_uri": "https://localhost:8080/"
    },
    "executionInfo": {
     "status": "ok",
     "timestamp": 1606957135103,
     "user_tz": 300,
     "elapsed": 411,
     "user": {
      "displayName": "Parvi Singh",
      "photoUrl": "",
      "userId": "15870809085498692847"
     }
    },
    "outputId": "42eb9025-f088-46f2-c033-ee2f5e1889ae"
   },
   "source": [
    "### YOUR CODE HERE ###\n",
    "r = np.corrcoef(df['Head'], df['Brain'])\n",
    "\n",
    "print ('The correlation coefficient for head  size and brain weight is:', r[0][1])"
   ],
   "execution_count": 12,
   "outputs": [
    {
     "output_type": "stream",
     "text": [
      "The correlation coefficient for head  size and brain weight is: 0.7995697092542962\n"
     ],
     "name": "stdout"
    }
   ]
  },
  {
   "cell_type": "markdown",
   "metadata": {
    "id": "XK5-ZKk_DFLh"
   },
   "source": [
    "Answer here: -->\n",
    "\n",
    "The correlation coefficient for the relationship between head size and brain weight is 0.80 which denotes that there is a strong **positive** correlation between the two."
   ]
  },
  {
   "cell_type": "markdown",
   "metadata": {
    "id": "AzdWVytNTTib"
   },
   "source": [
    "6) Without doing any other calculations, determine the correlation of brain weight with head size."
   ]
  },
  {
   "cell_type": "markdown",
   "metadata": {
    "id": "N1DwNk3MrIp3"
   },
   "source": [
    "Answer here: -->\n",
    "\n",
    "The correlation of brain weight and head size is the same as the one shown above. The correlation coefficient is **bi directional** i.e. you get the same result if you invert the inputs in the formula.\n"
   ]
  },
  {
   "cell_type": "markdown",
   "metadata": {
    "id": "RFa5JXjmxive"
   },
   "source": [
    "7) Use Python to calculate the slope and intercept terms for the model of head size and brain weight."
   ]
  },
  {
   "cell_type": "code",
   "metadata": {
    "id": "dWWiUtwTyHp2",
    "colab": {
     "base_uri": "https://localhost:8080/"
    },
    "executionInfo": {
     "status": "ok",
     "timestamp": 1606957138584,
     "user_tz": 300,
     "elapsed": 818,
     "user": {
      "displayName": "Parvi Singh",
      "photoUrl": "",
      "userId": "15870809085498692847"
     }
    },
    "outputId": "0da12a58-f2de-47a5-b3f5-bb10dbcf0e53"
   },
   "source": [
    "### YOUR CODE HERE ###\n",
    "\n",
    "from statsmodels.formula.api import ols\n",
    "\n",
    "# Entering the model in Y ~ X format\n",
    "\n",
    "model = ols('Brain ~ Head', data = df).fit()\n",
    "model.params"
   ],
   "execution_count": 13,
   "outputs": [
    {
     "output_type": "stream",
     "text": [
      "/usr/local/lib/python3.6/dist-packages/statsmodels/tools/_testing.py:19: FutureWarning: pandas.util.testing is deprecated. Use the functions in the public API at pandas.testing instead.\n",
      "  import pandas.util.testing as tm\n"
     ],
     "name": "stderr"
    },
    {
     "output_type": "execute_result",
     "data": {
      "text/plain": [
       "Intercept    325.573421\n",
       "Head           0.263429\n",
       "dtype: float64"
      ]
     },
     "metadata": {
      "tags": []
     },
     "execution_count": 13
    }
   ]
  },
  {
   "cell_type": "markdown",
   "metadata": {
    "id": "aAAlveuK050b"
   },
   "source": [
    "8) Use the model output above to write the linear model relating head size to brain weight (ie fill in the b terms with the correct numbers from above).\n",
    "\n",
    "$$\\hat{Y} = b_0 - b_1X$$\n",
    "\n"
   ]
  },
  {
   "cell_type": "markdown",
   "metadata": {
    "id": "lm3Q5xItygsW"
   },
   "source": [
    "Answer here: -->\n",
    "\n",
    "$$\\hat{Y} = 325.573421 + 0.263429X$$"
   ]
  },
  {
   "cell_type": "markdown",
   "metadata": {
    "id": "_KlS62UB1UAi"
   },
   "source": [
    "9) What does the slope term tell us about the relationship between head size and brain weight?"
   ]
  },
  {
   "cell_type": "markdown",
   "metadata": {
    "id": "DW4aHn_t1saW"
   },
   "source": [
    "Answer here: -->\n",
    "\n",
    "The slope or b1 being a positive value tells us that there is a positive linear correlation relationship between brain weight and head size. This validates the information we got above during correlation.\n",
    "In other words for every 1 cubic cm increase in head size the brain weight increases by 0.263429 only. "
   ]
  },
  {
   "cell_type": "markdown",
   "metadata": {
    "id": "BXsUc9n02Th0"
   },
   "source": [
    "10) What does the intercept tell us about the relationship between head size and brain weight?"
   ]
  },
  {
   "cell_type": "markdown",
   "metadata": {
    "id": "Zy58W12J4JJu"
   },
   "source": [
    "Answer here: -->\n",
    "\n",
    "The intercept is something that we will have to ignore for this particular model as there is no 0 value of head size. Or you cannot say that for a 0 cubic cm of head size the brain weight is going to be 325.57 grams which will not make any sense."
   ]
  },
  {
   "cell_type": "markdown",
   "metadata": {
    "id": "f0NjkceYb2sY"
   },
   "source": [
    "11) Draw a scatterplot with the regression line overlayed on top of the points."
   ]
  },
  {
   "cell_type": "code",
   "metadata": {
    "id": "dKxmzQLYabfm",
    "colab": {
     "base_uri": "https://localhost:8080/",
     "height": 279
    },
    "executionInfo": {
     "status": "ok",
     "timestamp": 1606957142102,
     "user_tz": 300,
     "elapsed": 679,
     "user": {
      "displayName": "Parvi Singh",
      "photoUrl": "",
      "userId": "15870809085498692847"
     }
    },
    "outputId": "62f665f8-d669-4a93-d725-143eb8905297"
   },
   "source": [
    "### YOUR CODE HERE ###\n",
    "import seaborn as sns\n",
    "\n",
    "# Using none as the CI interval\n",
    "ax = sns.regplot(x = 'Head', y = 'Brain', data = df, ci = None)"
   ],
   "execution_count": 14,
   "outputs": [
    {
     "output_type": "display_data",
     "data": {
      "image/png": "[encoded data removed]",
      "text/plain": [
       "<Figure size 432x288 with 1 Axes>"
      ]
     },
     "metadata": {
      "tags": [],
      "needs_background": "light"
     }
    }
   ]
  },
  {
   "cell_type": "markdown",
   "metadata": {
    "id": "7dySccNE3pX7"
   },
   "source": [
    "12) A healty human has a brain size of 4100 cubic cm, how much do we expect his or her brain to weigh?"
   ]
  },
  {
   "cell_type": "code",
   "metadata": {
    "id": "BNV0bbzH4NFX",
    "colab": {
     "base_uri": "https://localhost:8080/"
    },
    "executionInfo": {
     "status": "ok",
     "timestamp": 1606957144044,
     "user_tz": 300,
     "elapsed": 446,
     "user": {
      "displayName": "Parvi Singh",
      "photoUrl": "",
      "userId": "15870809085498692847"
     }
    },
    "outputId": "ff9f1c22-c76a-4424-c32d-51e9d8229b0f"
   },
   "source": [
    "### YOUR CODE HERE ###\n",
    "x = 4100\n",
    "\n",
    "# getting the data from the slope and intercept calculated above\n",
    "intercept, slope = model.params\n",
    "predict_brain_weight = intercept + (slope * x)\n",
    "predict_brain_weight\n"
   ],
   "execution_count": 15,
   "outputs": [
    {
     "output_type": "execute_result",
     "data": {
      "text/plain": [
       "1405.6337129559786"
      ]
     },
     "metadata": {
      "tags": []
     },
     "execution_count": 15
    }
   ]
  },
  {
   "cell_type": "markdown",
   "metadata": {
    "id": "OnGU23JI6C1r"
   },
   "source": [
    "Answer here --> \n",
    "\n",
    "From the calculations above for 4100 cubic cm of brain size we predict the brain weight to be 1405 grams."
   ]
  },
  {
   "cell_type": "markdown",
   "metadata": {
    "id": "rogizl36Bape"
   },
   "source": [
    "13) Calculate and interpret the model residual for for the first observation in the dataset (head size = 4512 cubic cm)."
   ]
  },
  {
   "cell_type": "code",
   "metadata": {
    "id": "L9_qbtRtBnvr",
    "colab": {
     "base_uri": "https://localhost:8080/",
     "height": 204
    },
    "executionInfo": {
     "status": "ok",
     "timestamp": 1606931905510,
     "user_tz": 300,
     "elapsed": 725,
     "user": {
      "displayName": "Parvi Singh",
      "photoUrl": "",
      "userId": "15870809085498692847"
     }
    },
    "outputId": "37baf795-a96c-452f-a177-51d9a1e0ce51"
   },
   "source": [
    "df.head()"
   ],
   "execution_count": null,
   "outputs": [
    {
     "output_type": "execute_result",
     "data": {
      "text/html": [
       "<div>\n",
       "<style scoped>\n",
       "    .dataframe tbody tr th:only-of-type {\n",
       "        vertical-align: middle;\n",
       "    }\n",
       "\n",
       "    .dataframe tbody tr th {\n",
       "        vertical-align: top;\n",
       "    }\n",
       "\n",
       "    .dataframe thead th {\n",
       "        text-align: right;\n",
       "    }\n",
       "</style>\n",
       "<table border=\"1\" class=\"dataframe\">\n",
       "  <thead>\n",
       "    <tr style=\"text-align: right;\">\n",
       "      <th></th>\n",
       "      <th>Gender</th>\n",
       "      <th>Age</th>\n",
       "      <th>Head</th>\n",
       "      <th>Brain</th>\n",
       "    </tr>\n",
       "  </thead>\n",
       "  <tbody>\n",
       "    <tr>\n",
       "      <th>0</th>\n",
       "      <td>1</td>\n",
       "      <td>1</td>\n",
       "      <td>4512</td>\n",
       "      <td>1530</td>\n",
       "    </tr>\n",
       "    <tr>\n",
       "      <th>1</th>\n",
       "      <td>1</td>\n",
       "      <td>1</td>\n",
       "      <td>3738</td>\n",
       "      <td>1297</td>\n",
       "    </tr>\n",
       "    <tr>\n",
       "      <th>2</th>\n",
       "      <td>1</td>\n",
       "      <td>1</td>\n",
       "      <td>4261</td>\n",
       "      <td>1335</td>\n",
       "    </tr>\n",
       "    <tr>\n",
       "      <th>3</th>\n",
       "      <td>1</td>\n",
       "      <td>1</td>\n",
       "      <td>3777</td>\n",
       "      <td>1282</td>\n",
       "    </tr>\n",
       "    <tr>\n",
       "      <th>4</th>\n",
       "      <td>1</td>\n",
       "      <td>1</td>\n",
       "      <td>4177</td>\n",
       "      <td>1590</td>\n",
       "    </tr>\n",
       "  </tbody>\n",
       "</table>\n",
       "</div>"
      ],
      "text/plain": [
       "   Gender  Age  Head  Brain\n",
       "0       1    1  4512   1530\n",
       "1       1    1  3738   1297\n",
       "2       1    1  4261   1335\n",
       "3       1    1  3777   1282\n",
       "4       1    1  4177   1590"
      ]
     },
     "metadata": {
      "tags": []
     },
     "execution_count": 21
    }
   ]
  },
  {
   "cell_type": "code",
   "metadata": {
    "id": "d8hURY1HBq6v",
    "colab": {
     "base_uri": "https://localhost:8080/"
    },
    "executionInfo": {
     "status": "ok",
     "timestamp": 1606965204491,
     "user_tz": 300,
     "elapsed": 426,
     "user": {
      "displayName": "Parvi Singh",
      "photoUrl": "",
      "userId": "15870809085498692847"
     }
    },
    "outputId": "42c0c614-059e-461f-b1f5-c3a2a49ab652"
   },
   "source": [
    "### YOUR CODE HERE ###\n",
    "observed_brain_weight = 1530\n",
    "\n",
    "residual = observed_brain_weight - predict_brain_weight\n",
    "print ('For 4100 cubic cm we observed the brain weight is {:.2f} and the predicted brain weight is {:.2f}. \\\n",
    " Therefore the residual value is {:.2f}'.format(observed_brain_weight,predict_brain_weight,residual))"
   ],
   "execution_count": 43,
   "outputs": [
    {
     "output_type": "stream",
     "text": [
      "For 4100 cubic cm we observed the brain weight is 1530.00 and the predicted brain weight is 1405.63.  Therefore the residual value is 124.37\n"
     ],
     "name": "stdout"
    }
   ]
  },
  {
   "cell_type": "markdown",
   "metadata": {
    "id": "75sfaALjCB4f"
   },
   "source": [
    "Answer here:-->\n",
    "\n",
    "From the residual calculation we can say that we have underestimated the brain weight as determined by predictions from our model.\n",
    "\n"
   ]
  },
  {
   "cell_type": "markdown",
   "metadata": {
    "id": "C4NzMnGd7bVI"
   },
   "source": [
    "#Use the following information to answer questions 14 - 16 in the assignment:\n",
    "\n"
   ]
  },
  {
   "cell_type": "markdown",
   "metadata": {
    "id": "T1TDNIibteov"
   },
   "source": [
    "Import the Sleep.csv dataset from a URL and print the first few rows\n",
    "\n",
    "Researchers recorded data on sleep duration as well as a set of ecological and constitutional variables  for a selection of mammal species. This data appears in the Sleep.csv dataset. \n",
    "\n",
    "\n",
    "Source: Allison, T. and Cicchetti, D. (1976), \"Sleep in Mammals: Ecological and Constitutional Correlates\",  Science, November 12, vol. 194, pp. 732-734.\n",
    "\n",
    "\n",
    "\n",
    "Data Dictionary:\n",
    "\n",
    "| Variable Name |            Description           |                                                                 Details                                                                 |              |   |\n",
    "|:-------------:|:--------------------------------:|:---------------------------------------------------------------------------------------------------------------------------------------:|--------------|---|\n",
    "| Animal        |            Animal name           |                                                            Character [string]                                                           |    |   |\n",
    "| Body          |            Body weight           |                                                               Numeric [kg]                                                              |       |   |\n",
    "| Brain         |           Brain weight           |                                                               Numeric [g]                                                               |  |   |\n",
    "| SWsleep       | Slow wave (“non-dreaming”) sleep | Numeric [hours]                                                                                                                         |              |   |\n",
    "| Parasleep     | Paradoxical (“dreaming”) sleep   | Numeric [hours]                                                                                                                         |              |   |\n",
    "| Totsleep      | Total sleep                      | Numeric [hours]                                                                                                                         |              |   |\n",
    "| Life          | Maximum life expectancy          | Numeric [years]                                                                                                                         |              |   |\n",
    "| Gest          | Gestation time                   | Numeric [days]                                                                                                                          |              |   |\n",
    "| Pred          | Predation index                  | Numeric [1 – 5] 1 = least likely to be preyed upon, 5 = most likely to be preyed upon                                                   |              |   |\n",
    "| Exposure      | Sleep exposure index             | Numeric [1 – 5] 1 = least amount of exposure during sleep (mammal sleeps indoors or in a den), 5 = most amount of exposure during sleep |              |   |\n",
    "| Danger        | Overall danger index             | Numeric [ 1 – 5] 1 = least amount of danger from other animals, 5 = most amount of danger from other animals                            |              |   |\n",
    "\n"
   ]
  },
  {
   "cell_type": "code",
   "metadata": {
    "id": "lAGRV2LkuKyw",
    "colab": {
     "base_uri": "https://localhost:8080/",
     "height": 204
    },
    "executionInfo": {
     "status": "ok",
     "timestamp": 1606957283887,
     "user_tz": 300,
     "elapsed": 589,
     "user": {
      "displayName": "Parvi Singh",
      "photoUrl": "",
      "userId": "15870809085498692847"
     }
    },
    "outputId": "af5941ab-f976-4f77-f806-6122c2910d4a"
   },
   "source": [
    "data_url = 'https://raw.githubusercontent.com/LambdaSchool/data-science-practice-datasets/main/unit_1/Sleep/Sleep.csv'\n",
    "\n",
    "sleep = pd.read_csv(data_url, skipinitialspace=True, header=0)\n",
    "\n",
    "sleep.head()"
   ],
   "execution_count": 20,
   "outputs": [
    {
     "output_type": "execute_result",
     "data": {
      "text/html": [
       "<div>\n",
       "<style scoped>\n",
       "    .dataframe tbody tr th:only-of-type {\n",
       "        vertical-align: middle;\n",
       "    }\n",
       "\n",
       "    .dataframe tbody tr th {\n",
       "        vertical-align: top;\n",
       "    }\n",
       "\n",
       "    .dataframe thead th {\n",
       "        text-align: right;\n",
       "    }\n",
       "</style>\n",
       "<table border=\"1\" class=\"dataframe\">\n",
       "  <thead>\n",
       "    <tr style=\"text-align: right;\">\n",
       "      <th></th>\n",
       "      <th>Animal</th>\n",
       "      <th>Body</th>\n",
       "      <th>Brain</th>\n",
       "      <th>SWsleep</th>\n",
       "      <th>Parasleep</th>\n",
       "      <th>Totsleep</th>\n",
       "      <th>Life</th>\n",
       "      <th>Gest</th>\n",
       "      <th>Pred</th>\n",
       "      <th>Exposure</th>\n",
       "      <th>Danger</th>\n",
       "    </tr>\n",
       "  </thead>\n",
       "  <tbody>\n",
       "    <tr>\n",
       "      <th>0</th>\n",
       "      <td>African_giant_pouched_rat</td>\n",
       "      <td>1.000</td>\n",
       "      <td>6.6</td>\n",
       "      <td>6.3</td>\n",
       "      <td>2.0</td>\n",
       "      <td>8.3</td>\n",
       "      <td>4.5</td>\n",
       "      <td>42.0</td>\n",
       "      <td>3</td>\n",
       "      <td>1</td>\n",
       "      <td>3</td>\n",
       "    </tr>\n",
       "    <tr>\n",
       "      <th>1</th>\n",
       "      <td>Asian_elephant</td>\n",
       "      <td>2547.000</td>\n",
       "      <td>4603.0</td>\n",
       "      <td>2.1</td>\n",
       "      <td>1.8</td>\n",
       "      <td>3.9</td>\n",
       "      <td>69.0</td>\n",
       "      <td>624.0</td>\n",
       "      <td>3</td>\n",
       "      <td>5</td>\n",
       "      <td>4</td>\n",
       "    </tr>\n",
       "    <tr>\n",
       "      <th>2</th>\n",
       "      <td>Baboon</td>\n",
       "      <td>10.550</td>\n",
       "      <td>179.5</td>\n",
       "      <td>9.1</td>\n",
       "      <td>0.7</td>\n",
       "      <td>9.8</td>\n",
       "      <td>27.0</td>\n",
       "      <td>180.0</td>\n",
       "      <td>4</td>\n",
       "      <td>4</td>\n",
       "      <td>4</td>\n",
       "    </tr>\n",
       "    <tr>\n",
       "      <th>3</th>\n",
       "      <td>Big_brown_bat</td>\n",
       "      <td>0.023</td>\n",
       "      <td>0.3</td>\n",
       "      <td>15.8</td>\n",
       "      <td>3.9</td>\n",
       "      <td>19.7</td>\n",
       "      <td>19.0</td>\n",
       "      <td>35.0</td>\n",
       "      <td>1</td>\n",
       "      <td>1</td>\n",
       "      <td>1</td>\n",
       "    </tr>\n",
       "    <tr>\n",
       "      <th>4</th>\n",
       "      <td>Brazilian_tapir</td>\n",
       "      <td>160.000</td>\n",
       "      <td>169.0</td>\n",
       "      <td>5.2</td>\n",
       "      <td>1.0</td>\n",
       "      <td>6.2</td>\n",
       "      <td>30.4</td>\n",
       "      <td>392.0</td>\n",
       "      <td>4</td>\n",
       "      <td>5</td>\n",
       "      <td>4</td>\n",
       "    </tr>\n",
       "  </tbody>\n",
       "</table>\n",
       "</div>"
      ],
      "text/plain": [
       "                      Animal      Body   Brain  ...  Pred  Exposure  Danger\n",
       "0  African_giant_pouched_rat     1.000     6.6  ...     3         1       3\n",
       "1             Asian_elephant  2547.000  4603.0  ...     3         5       4\n",
       "2                     Baboon    10.550   179.5  ...     4         4       4\n",
       "3              Big_brown_bat     0.023     0.3  ...     1         1       1\n",
       "4            Brazilian_tapir   160.000   169.0  ...     4         5       4\n",
       "\n",
       "[5 rows x 11 columns]"
      ]
     },
     "metadata": {
      "tags": []
     },
     "execution_count": 20
    }
   ]
  },
  {
   "cell_type": "markdown",
   "metadata": {
    "id": "bren8oq27vGP"
   },
   "source": [
    "14) Write a function that replaces the _ in each animal name with a space.  Eg. Asian_elephant = Asian elephant.  Hint: use the string.replace(old, new, count) function."
   ]
  },
  {
   "cell_type": "code",
   "metadata": {
    "id": "IDTgzW2B8RLn",
    "colab": {
     "base_uri": "https://localhost:8080/",
     "height": 204
    },
    "executionInfo": {
     "status": "ok",
     "timestamp": 1606957287266,
     "user_tz": 300,
     "elapsed": 649,
     "user": {
      "displayName": "Parvi Singh",
      "photoUrl": "",
      "userId": "15870809085498692847"
     }
    },
    "outputId": "2876dd9a-9cb9-4266-d295-a8b0b2c977c5"
   },
   "source": [
    "### YOUR CODE HERE ###\n",
    "def replace_(str):\n",
    "  return str.replace('_', ' ')\n",
    "\n",
    "sleep['Animal'] = sleep['Animal'].apply(replace_)\n",
    "sleep.head()\n"
   ],
   "execution_count": 21,
   "outputs": [
    {
     "output_type": "execute_result",
     "data": {
      "text/html": [
       "<div>\n",
       "<style scoped>\n",
       "    .dataframe tbody tr th:only-of-type {\n",
       "        vertical-align: middle;\n",
       "    }\n",
       "\n",
       "    .dataframe tbody tr th {\n",
       "        vertical-align: top;\n",
       "    }\n",
       "\n",
       "    .dataframe thead th {\n",
       "        text-align: right;\n",
       "    }\n",
       "</style>\n",
       "<table border=\"1\" class=\"dataframe\">\n",
       "  <thead>\n",
       "    <tr style=\"text-align: right;\">\n",
       "      <th></th>\n",
       "      <th>Animal</th>\n",
       "      <th>Body</th>\n",
       "      <th>Brain</th>\n",
       "      <th>SWsleep</th>\n",
       "      <th>Parasleep</th>\n",
       "      <th>Totsleep</th>\n",
       "      <th>Life</th>\n",
       "      <th>Gest</th>\n",
       "      <th>Pred</th>\n",
       "      <th>Exposure</th>\n",
       "      <th>Danger</th>\n",
       "    </tr>\n",
       "  </thead>\n",
       "  <tbody>\n",
       "    <tr>\n",
       "      <th>0</th>\n",
       "      <td>African giant pouched rat</td>\n",
       "      <td>1.000</td>\n",
       "      <td>6.6</td>\n",
       "      <td>6.3</td>\n",
       "      <td>2.0</td>\n",
       "      <td>8.3</td>\n",
       "      <td>4.5</td>\n",
       "      <td>42.0</td>\n",
       "      <td>3</td>\n",
       "      <td>1</td>\n",
       "      <td>3</td>\n",
       "    </tr>\n",
       "    <tr>\n",
       "      <th>1</th>\n",
       "      <td>Asian elephant</td>\n",
       "      <td>2547.000</td>\n",
       "      <td>4603.0</td>\n",
       "      <td>2.1</td>\n",
       "      <td>1.8</td>\n",
       "      <td>3.9</td>\n",
       "      <td>69.0</td>\n",
       "      <td>624.0</td>\n",
       "      <td>3</td>\n",
       "      <td>5</td>\n",
       "      <td>4</td>\n",
       "    </tr>\n",
       "    <tr>\n",
       "      <th>2</th>\n",
       "      <td>Baboon</td>\n",
       "      <td>10.550</td>\n",
       "      <td>179.5</td>\n",
       "      <td>9.1</td>\n",
       "      <td>0.7</td>\n",
       "      <td>9.8</td>\n",
       "      <td>27.0</td>\n",
       "      <td>180.0</td>\n",
       "      <td>4</td>\n",
       "      <td>4</td>\n",
       "      <td>4</td>\n",
       "    </tr>\n",
       "    <tr>\n",
       "      <th>3</th>\n",
       "      <td>Big brown bat</td>\n",
       "      <td>0.023</td>\n",
       "      <td>0.3</td>\n",
       "      <td>15.8</td>\n",
       "      <td>3.9</td>\n",
       "      <td>19.7</td>\n",
       "      <td>19.0</td>\n",
       "      <td>35.0</td>\n",
       "      <td>1</td>\n",
       "      <td>1</td>\n",
       "      <td>1</td>\n",
       "    </tr>\n",
       "    <tr>\n",
       "      <th>4</th>\n",
       "      <td>Brazilian tapir</td>\n",
       "      <td>160.000</td>\n",
       "      <td>169.0</td>\n",
       "      <td>5.2</td>\n",
       "      <td>1.0</td>\n",
       "      <td>6.2</td>\n",
       "      <td>30.4</td>\n",
       "      <td>392.0</td>\n",
       "      <td>4</td>\n",
       "      <td>5</td>\n",
       "      <td>4</td>\n",
       "    </tr>\n",
       "  </tbody>\n",
       "</table>\n",
       "</div>"
      ],
      "text/plain": [
       "                      Animal      Body   Brain  ...  Pred  Exposure  Danger\n",
       "0  African giant pouched rat     1.000     6.6  ...     3         1       3\n",
       "1             Asian elephant  2547.000  4603.0  ...     3         5       4\n",
       "2                     Baboon    10.550   179.5  ...     4         4       4\n",
       "3              Big brown bat     0.023     0.3  ...     1         1       1\n",
       "4            Brazilian tapir   160.000   169.0  ...     4         5       4\n",
       "\n",
       "[5 rows x 11 columns]"
      ]
     },
     "metadata": {
      "tags": []
     },
     "execution_count": 21
    }
   ]
  },
  {
   "cell_type": "markdown",
   "metadata": {
    "id": "y0MUOeae-P2z"
   },
   "source": [
    "15) Plot the relationship between life expectancy and total sleep and gestation time and total sleep."
   ]
  },
  {
   "cell_type": "code",
   "metadata": {
    "id": "d8oTfgl5-WPG",
    "colab": {
     "base_uri": "https://localhost:8080/",
     "height": 567
    },
    "executionInfo": {
     "status": "ok",
     "timestamp": 1606957294562,
     "user_tz": 300,
     "elapsed": 4025,
     "user": {
      "displayName": "Parvi Singh",
      "photoUrl": "",
      "userId": "15870809085498692847"
     }
    },
    "outputId": "0a1aba82-ca11-4b52-cc45-64e4ce3e9dad"
   },
   "source": [
    "### YOUR CODE HERE ###\n",
    "to_plot = sleep[['Life', 'Totsleep', 'Gest']]\n",
    "sns.pairplot(to_plot)"
   ],
   "execution_count": 22,
   "outputs": [
    {
     "output_type": "execute_result",
     "data": {
      "text/plain": [
       "<seaborn.axisgrid.PairGrid at 0x7f06ca619240>"
      ]
     },
     "metadata": {
      "tags": []
     },
     "execution_count": 22
    },
    {
     "output_type": "display_data",
     "data": {
      "image/png": "[encoded data removed]",
      "text/plain": [
       "<Figure size 540x540 with 12 Axes>"
      ]
     },
     "metadata": {
      "tags": [],
      "needs_background": "light"
     }
    }
   ]
  },
  {
   "cell_type": "markdown",
   "metadata": {
    "id": "vOHOv5cc-plj"
   },
   "source": [
    "16) Calculate the correlation between life expectancy and total sleep and between gestation time and total sleep."
   ]
  },
  {
   "cell_type": "code",
   "metadata": {
    "id": "DlhS1o27-ss8",
    "colab": {
     "base_uri": "https://localhost:8080/"
    },
    "executionInfo": {
     "status": "ok",
     "timestamp": 1606957298705,
     "user_tz": 300,
     "elapsed": 399,
     "user": {
      "displayName": "Parvi Singh",
      "photoUrl": "",
      "userId": "15870809085498692847"
     }
    },
    "outputId": "a0fbee80-b238-42f1-9c22-26d2bdceb93e"
   },
   "source": [
    "### YOUR CODE HERE ###\n",
    "r1 = np.corrcoef(x = sleep['Life'], y = sleep['Totsleep'])\n",
    "r2 = np.corrcoef(x = sleep['Gest'], y = sleep['Totsleep'])\n",
    "\n",
    "print ('Correlation between life expectancy and total sleep=', r1[0][1])\n",
    "print ('Correlation between gestational time and total sleep=', r2[0][1])"
   ],
   "execution_count": 23,
   "outputs": [
    {
     "output_type": "stream",
     "text": [
      "Correlation between life expectancy and total sleep= -0.3824461769490717\n",
      "Correlation between gestational time and total sleep= -0.6144743061371066\n"
     ],
     "name": "stdout"
    }
   ]
  },
  {
   "cell_type": "markdown",
   "metadata": {
    "id": "LSVXvBZGcF48"
   },
   "source": [
    "#Portfolio Project Assignment."
   ]
  },
  {
   "cell_type": "markdown",
   "metadata": {
    "id": "dnM2THk30l36"
   },
   "source": [
    "We're coming into the home stretch!  Finalize your project results.  Ask any lingering questions, and complete any revisions you have.  This would be a good time to have a classmate take a look at your project and point out anything missing or any obvious errors (they happen to everyone!)."
   ]
  }
 ]
}