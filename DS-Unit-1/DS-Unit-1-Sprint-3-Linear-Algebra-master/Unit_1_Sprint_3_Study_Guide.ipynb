{
  "nbformat": 4,
  "nbformat_minor": 0,
  "metadata": {
    "colab": {
      "name": "Unit 1 Sprint 3 - Study Guide.ipynb",
      "provenance": [],
      "collapsed_sections": []
    },
    "kernelspec": {
      "name": "python3",
      "display_name": "Python 3"
    }
  },
  "cells": [
    {
      "cell_type": "markdown",
      "metadata": {
        "id": "Nd2OOOVXxXS1"
      },
      "source": [
        "This study guide should reinforce and provide practice for all of the concepts you have seen in Unit 1 Sprint 1. There are a mix of written questions and coding exercises, both are equally important to prepare you for the sprint challenge as well as to be able to speak on these topics comfortably in interviews and on the job.\n",
        "\n",
        "If you get stuck or are unsure of something remember the 20 minute rule. If that doesn't help, then research a solution with google and stackoverflow. Only once you have exausted these methods should you turn to your track team and mentor - they won't be there on your SC or during an interview. That being said, don't hesitate to ask for help if you truly are stuck.\n",
        "\n",
        "Have fun studying!"
      ]
    },
    {
      "cell_type": "markdown",
      "metadata": {
        "id": "fpvInKdXekFi"
      },
      "source": [
        "## Questions"
      ]
    },
    {
      "cell_type": "markdown",
      "metadata": {
        "id": "Q6bS8AhBZ86H"
      },
      "source": [
        "When completing this section, try to limit your answers to 2-3 sentences max and use plain english as much as possible. It's very easy to hide incomplete knowledge and undertanding behind fancy or technical words, so imagine you are explaining these things to a non-technical interviewer.\n",
        "\n",
        "1. Describe a scatterplot.\n",
        "```\n",
        "Answer\n",
        "```\n",
        "\n",
        "2. Describe a linear relationship.\n",
        "```\n",
        "Answer\n",
        "```\n",
        "\n",
        "3. Describe a relationship that is not linear.\n",
        "```\n",
        "Answer\n",
        "```\n",
        "\n",
        "4. What is meant by the independent and dependent variable in a relationship?\n",
        "```\n",
        "Answer\n",
        "```\n",
        "\n",
        "5. What are some other names for the independent and dependent variables?\n",
        "```\n",
        "Answer\n",
        "```\n",
        "\n",
        "6. Describe what is meant by linear correlation.\n",
        "````\n",
        "Answer\n",
        "```\n",
        "\n",
        "7. How do you interpret the slope in a linear regression model?\n",
        "```\n",
        "Answer\n",
        "```\n",
        "\n",
        "8. How/when do you interpret the incercept in a linear regression model?\n",
        "```\n",
        "Answer\n",
        "```\n",
        "\n",
        "9. What is meant by the \"least-squares\" regression line or the \"line of best fit\"?\n",
        "```\n",
        "Answer\n",
        "```\n",
        "\n",
        "10. Explain the difference between an observed value of y and a predicted value of y.\n",
        "```\n",
        "your answer\n",
        "```\n",
        "\n",
        "11. What is a residual?\n",
        "```\n",
        "your answer\n",
        "```\n",
        "\n",
        "12. What statistical test is used to determine if there is a statistically significant association between the x and y variables?\n",
        "```\n",
        "your answer\n",
        "```\n",
        "\n",
        "13. How would you write a hypothesis test to determine if there is a statistically significant association between the x and y variables?\n",
        "```\n",
        "your answer\n",
        "```\n",
        "\n",
        "14. How do you interpret a 95% confidence interval for the slope and intercept of a linear model?\n",
        "```\n",
        "your answer\n",
        "```\n",
        "\n",
        "15. Identify four things to watch out for when doing linear regression.\n",
        "```\n",
        "your answer\n",
        "```\n",
        "\n",
        "16. What is R-squared?  What is the difference between \"regular\" and adjusted R-squared?\n",
        "```\n",
        "your answer\n",
        "```\n",
        "\n",
        "17. How do you add additional independent variables to your model?\n",
        "```\n",
        "your answer\n",
        "```\n",
        "\n",
        "18. How do you determine if a new independent variable is statistically significantly associated with the response variable?\n",
        "```\n",
        "your answer\n",
        "```\n",
        "\n",
        "19. How do you make estimates using a linear model?\n",
        "```\n",
        "your answer\n",
        "```\n",
        "\n",
        "20. What is a matrix?\n",
        "```\n",
        "your answer\n",
        "```\n",
        "\n",
        "21. How do you determine the dimensions of a matrix?\n",
        "```\n",
        "your answer\n",
        "```\n",
        "\n",
        "22. How do you write a linear model in matrix notation?\n",
        "```\n",
        "your answer\n",
        "```\n",
        "\n",
        "23. What is a dot product?\n",
        "```\n",
        "your answer\n",
        "```\n",
        "\n",
        "24. How do you do matrix multiplication?\n",
        "```\n",
        "your answer\n",
        "```\n",
        "\n",
        "25. How do you do matrix addition?\n",
        "```\n",
        "your answer\n",
        "```\n",
        "\n",
        "26. How do you transpose a matrix?\n",
        "```\n",
        "your answer\n",
        "```\n",
        "\n",
        "27. What is a matrix inverse?\n",
        "```\n",
        "your answer\n",
        "```\n",
        "\n",
        "28. Are all matricies invertible?\n",
        "```\n",
        "your answer\n",
        "```\n",
        "\n",
        "29. How do you solve for the model coefficients using matricies?\n",
        "```\n",
        "your answer\n",
        "```\n",
        "\n",
        "30. What is cosine similarity?\n",
        "```\n",
        "your answer\n",
        "```\n",
        "\n",
        "31. What does a cosine similarity of 1 indicate?  A cosine similarity of 0?  A cosine similarity of -1?\n",
        "```\n",
        "your answer\n",
        "```\n",
        "\n",
        "32. What is a vector?\n",
        "```\n",
        "your answer\n",
        "```\n",
        "\n",
        "33. What is the norm of a vector?\n",
        "```\n",
        "your answer\n",
        "```"
      ]
    },
    {
      "cell_type": "markdown",
      "metadata": {
        "id": "dUQaIwbceohq"
      },
      "source": [
        "## Coding problems"
      ]
    },
    {
      "cell_type": "markdown",
      "metadata": {
        "id": "4jnYgnFjP6eE"
      },
      "source": [
        "Graph a scatterplot."
      ]
    },
    {
      "cell_type": "code",
      "metadata": {
        "id": "S9hFYrmqQlLA"
      },
      "source": [
        ""
      ],
      "execution_count": null,
      "outputs": []
    },
    {
      "cell_type": "markdown",
      "metadata": {
        "id": "bCbET5ioQlmQ"
      },
      "source": [
        "Graph a scatterplot with two groups indicated by different color dots.\n"
      ]
    },
    {
      "cell_type": "code",
      "metadata": {
        "id": "lwNwPn5nQowi"
      },
      "source": [
        ""
      ],
      "execution_count": null,
      "outputs": []
    },
    {
      "cell_type": "markdown",
      "metadata": {
        "id": "2hq-PhcTQph7"
      },
      "source": [
        "Graph a scatterplot with the regression line overlayed."
      ]
    },
    {
      "cell_type": "code",
      "metadata": {
        "id": "ZsWsuYwXRRP3"
      },
      "source": [
        ""
      ],
      "execution_count": null,
      "outputs": []
    },
    {
      "cell_type": "markdown",
      "metadata": {
        "id": "jVqQYLgxld7M"
      },
      "source": [
        "Graph a scatterplot with the regression line (including confidence limits) overlayed."
      ]
    },
    {
      "cell_type": "code",
      "metadata": {
        "id": "ScovMuwvRdtq"
      },
      "source": [
        ""
      ],
      "execution_count": null,
      "outputs": []
    },
    {
      "cell_type": "markdown",
      "metadata": {
        "id": "uD5cTw9plh9c"
      },
      "source": [
        "Determine the slope and intercept of a linear model."
      ]
    },
    {
      "cell_type": "code",
      "metadata": {
        "id": "XlazD59ClhXi"
      },
      "source": [
        ""
      ],
      "execution_count": null,
      "outputs": []
    },
    {
      "cell_type": "markdown",
      "metadata": {
        "id": "JyThYBHGlm60"
      },
      "source": [
        "Conduct a statistical test for the slope parameter(s) in a linear model."
      ]
    },
    {
      "cell_type": "code",
      "metadata": {
        "id": "pr_vT8VSmK6J"
      },
      "source": [
        ""
      ],
      "execution_count": null,
      "outputs": []
    },
    {
      "cell_type": "markdown",
      "metadata": {
        "id": "jsVSa5EXnS_o"
      },
      "source": [
        "Calculate R-squared and adjusted R-squared."
      ]
    },
    {
      "cell_type": "code",
      "metadata": {
        "id": "mmdHcvXznVec"
      },
      "source": [
        ""
      ],
      "execution_count": null,
      "outputs": []
    },
    {
      "cell_type": "markdown",
      "metadata": {
        "id": "gmYQEUVtnVrS"
      },
      "source": [
        "Estimate values of y for given x values."
      ]
    },
    {
      "cell_type": "code",
      "metadata": {
        "id": "6plEyx0beiQU"
      },
      "source": [
        ""
      ],
      "execution_count": null,
      "outputs": []
    },
    {
      "cell_type": "markdown",
      "metadata": {
        "id": "lquWZxwGeWkN"
      },
      "source": [
        "Calculate a residual"
      ]
    },
    {
      "cell_type": "code",
      "metadata": {
        "id": "bs4t6foXnXyC"
      },
      "source": [
        ""
      ],
      "execution_count": null,
      "outputs": []
    },
    {
      "cell_type": "markdown",
      "metadata": {
        "id": "1HOEq-E2ebEu"
      },
      "source": [
        "Perform matrix multiplication."
      ]
    },
    {
      "cell_type": "code",
      "metadata": {
        "id": "sg5T5dGrejp5"
      },
      "source": [
        ""
      ],
      "execution_count": null,
      "outputs": []
    },
    {
      "cell_type": "markdown",
      "metadata": {
        "id": "n84gRgadef_4"
      },
      "source": [
        "Find the transpose of a matrix."
      ]
    },
    {
      "cell_type": "code",
      "metadata": {
        "id": "0MpAl_f9emgs"
      },
      "source": [
        ""
      ],
      "execution_count": null,
      "outputs": []
    },
    {
      "cell_type": "markdown",
      "metadata": {
        "id": "Ko7NkmHIemv7"
      },
      "source": [
        "Find the inverse of a matrix."
      ]
    },
    {
      "cell_type": "code",
      "metadata": {
        "id": "QKwvPqdbeoNq"
      },
      "source": [
        ""
      ],
      "execution_count": null,
      "outputs": []
    },
    {
      "cell_type": "markdown",
      "metadata": {
        "id": "DJ8DlWEjeoYD"
      },
      "source": [
        "Calculate the estimates of the model coefficients using matricies."
      ]
    },
    {
      "cell_type": "code",
      "metadata": {
        "id": "AkF-_B-Hf26V"
      },
      "source": [
        ""
      ],
      "execution_count": null,
      "outputs": []
    },
    {
      "cell_type": "markdown",
      "metadata": {
        "id": "qAzADSeHf3Qm"
      },
      "source": [
        "Calculate the dot product of two vectors."
      ]
    },
    {
      "cell_type": "code",
      "metadata": {
        "id": "jJLR-dYLf7vq"
      },
      "source": [
        ""
      ],
      "execution_count": null,
      "outputs": []
    },
    {
      "cell_type": "markdown",
      "metadata": {
        "id": "p1eXNXp8f6Ld"
      },
      "source": [
        "Calculate the norm of a vector."
      ]
    },
    {
      "cell_type": "code",
      "metadata": {
        "id": "wiSaVAbQf_jN"
      },
      "source": [
        ""
      ],
      "execution_count": null,
      "outputs": []
    },
    {
      "cell_type": "markdown",
      "metadata": {
        "id": "V2zIwbThf_uC"
      },
      "source": [
        "Calculate the cosine similarity between two vectors."
      ]
    },
    {
      "cell_type": "code",
      "metadata": {
        "id": "llz7ua-XgDy5"
      },
      "source": [
        ""
      ],
      "execution_count": null,
      "outputs": []
    }
  ]
}