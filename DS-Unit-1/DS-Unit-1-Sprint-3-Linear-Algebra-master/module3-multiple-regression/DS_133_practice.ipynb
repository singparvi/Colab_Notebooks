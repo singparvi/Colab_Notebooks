{
 "nbformat": 4,
 "nbformat_minor": 0,
 "metadata": {
  "colab": {
   "name": "DS_133_practice.ipynb",
   "provenance": [],
   "authorship_tag": "ABX9TyPDIzStULCMvLICTwLhZfjd"
  },
  "kernelspec": {
   "name": "python3",
   "language": "python",
   "display_name": "Python 3"
  }
 },
 "cells": [
  {
   "cell_type": "markdown",
   "metadata": {
    "id": "qwXP5kBk81BN"
   },
   "source": [
    "Objective 01 - model the relationship of multiple predictor variables to a single outcome"
   ]
  },
  {
   "cell_type": "code",
   "metadata": {
    "colab": {
     "base_uri": "https://localhost:8080/",
     "height": 130
    },
    "id": "EcX16ABUH9ik",
    "executionInfo": {
     "status": "error",
     "timestamp": 1607377063397,
     "user_tz": 300,
     "elapsed": 477,
     "user": {
      "displayName": "Parvi Singh",
      "photoUrl": "",
      "userId": "15870809085498692847"
     }
    },
    "outputId": "b0c94010-4906-437f-d08e-ecca35549f67"
   },
   "source": [
    "import pandas as pd\n",
    "import seaborn as sns\n",
    "\n",
    "# Load the car data set\n",
    "crashes = sns.load_dataset('car_crashes')\n",
    "\n",
    "crashes.head()"
   ],
   "execution_count": 3,
   "outputs": [
    {
     "data": {
      "text/plain": "   total  speeding  alcohol  not_distracted  no_previous  ins_premium  \\\n0   18.8     7.332    5.640          18.048       15.040       784.55   \n1   18.1     7.421    4.525          16.290       17.014      1053.48   \n2   18.6     6.510    5.208          15.624       17.856       899.47   \n3   22.4     4.032    5.824          21.056       21.280       827.34   \n4   12.0     4.200    3.360          10.920       10.680       878.41   \n\n   ins_losses abbrev  \n0      145.08     AL  \n1      133.93     AK  \n2      110.35     AZ  \n3      142.39     AR  \n4      165.63     CA  ",
      "text/html": "<div>\n<style scoped>\n    .dataframe tbody tr th:only-of-type {\n        vertical-align: middle;\n    }\n\n    .dataframe tbody tr th {\n        vertical-align: top;\n    }\n\n    .dataframe thead th {\n        text-align: right;\n    }\n</style>\n<table border=\"1\" class=\"dataframe\">\n  <thead>\n    <tr style=\"text-align: right;\">\n      <th></th>\n      <th>total</th>\n      <th>speeding</th>\n      <th>alcohol</th>\n      <th>not_distracted</th>\n      <th>no_previous</th>\n      <th>ins_premium</th>\n      <th>ins_losses</th>\n      <th>abbrev</th>\n    </tr>\n  </thead>\n  <tbody>\n    <tr>\n      <th>0</th>\n      <td>18.8</td>\n      <td>7.332</td>\n      <td>5.640</td>\n      <td>18.048</td>\n      <td>15.040</td>\n      <td>784.55</td>\n      <td>145.08</td>\n      <td>AL</td>\n    </tr>\n    <tr>\n      <th>1</th>\n      <td>18.1</td>\n      <td>7.421</td>\n      <td>4.525</td>\n      <td>16.290</td>\n      <td>17.014</td>\n      <td>1053.48</td>\n      <td>133.93</td>\n      <td>AK</td>\n    </tr>\n    <tr>\n      <th>2</th>\n      <td>18.6</td>\n      <td>6.510</td>\n      <td>5.208</td>\n      <td>15.624</td>\n      <td>17.856</td>\n      <td>899.47</td>\n      <td>110.35</td>\n      <td>AZ</td>\n    </tr>\n    <tr>\n      <th>3</th>\n      <td>22.4</td>\n      <td>4.032</td>\n      <td>5.824</td>\n      <td>21.056</td>\n      <td>21.280</td>\n      <td>827.34</td>\n      <td>142.39</td>\n      <td>AR</td>\n    </tr>\n    <tr>\n      <th>4</th>\n      <td>12.0</td>\n      <td>4.200</td>\n      <td>3.360</td>\n      <td>10.920</td>\n      <td>10.680</td>\n      <td>878.41</td>\n      <td>165.63</td>\n      <td>CA</td>\n    </tr>\n  </tbody>\n</table>\n</div>"
     },
     "execution_count": 3,
     "metadata": {},
     "output_type": "execute_result"
    }
   ]
  },
  {
   "cell_type": "code",
   "metadata": {
    "id": "kqDyoNw8I3zr"
   },
   "source": [
    "# import the OLS model from statsmodels\n",
    "from statsmodels.formula.api import ols\n",
    "\n",
    "# Set up and fit the model in one step\n",
    "# Format  Y ~ X\n",
    "\n",
    "model = ols('total ~ alcohol', data= crashes).fit()\n",
    "\n",
    "# Print the model summary\n",
    "print(model.summary())"
   ],
   "execution_count": 4,
   "outputs": [
    {
     "name": "stdout",
     "output_type": "stream",
     "text": [
      "                            OLS Regression Results                            \n",
      "==============================================================================\n",
      "Dep. Variable:                  total   R-squared:                       0.727\n",
      "Model:                            OLS   Adj. R-squared:                  0.721\n",
      "Method:                 Least Squares   F-statistic:                     130.5\n",
      "Date:                Mon, 07 Dec 2020   Prob (F-statistic):           2.04e-15\n",
      "Time:                        16:44:19   Log-Likelihood:                -110.99\n",
      "No. Observations:                  51   AIC:                             226.0\n",
      "Df Residuals:                      49   BIC:                             229.8\n",
      "Df Model:                           1                                         \n",
      "Covariance Type:            nonrobust                                         \n",
      "==============================================================================\n",
      "                 coef    std err          t      P>|t|      [0.025      0.975]\n",
      "------------------------------------------------------------------------------\n",
      "Intercept      5.8578      0.921      6.357      0.000       4.006       7.709\n",
      "alcohol        2.0325      0.178     11.422      0.000       1.675       2.390\n",
      "==============================================================================\n",
      "Omnibus:                        1.922   Durbin-Watson:                   1.776\n",
      "Prob(Omnibus):                  0.382   Jarque-Bera (JB):                1.705\n",
      "Skew:                           0.439   Prob(JB):                        0.426\n",
      "Kurtosis:                       2.824   Cond. No.                         16.2\n",
      "==============================================================================\n",
      "\n",
      "Notes:\n",
      "[1] Standard Errors assume that the covariance matrix of the errors is correctly specified.\n"
     ]
    }
   ]
  },
  {
   "cell_type": "code",
   "execution_count": 5,
   "outputs": [
    {
     "data": {
      "text/plain": "<AxesSubplot:xlabel='alcohol', ylabel='total'>"
     },
     "execution_count": 5,
     "metadata": {},
     "output_type": "execute_result"
    },
    {
     "data": {
      "text/plain": "<Figure size 1008x432 with 2 Axes>",
      "image/png": "[encoded data removed]"
     },
     "metadata": {
      "needs_background": "light"
     },
     "output_type": "display_data"
    }
   ],
   "source": [
    "import matplotlib.pyplot as plt\n",
    "fig, [ax1, ax2] = plt.subplots(1, 2, figsize = (14,6))\n",
    "\n",
    "#compare the two independent variables to each other - are they related?\n",
    "sns.scatterplot(x = 'alcohol', y = 'speeding', data= crashes, s= 50, ax= ax1)\n",
    "# the color no represents the percentage of speeding drivers\n",
    "sns.scatterplot(x = 'alcohol', y = 'total', hue= 'speeding', data= crashes, s= 50, palette= 'magma', ax= ax2)"
   ],
   "metadata": {
    "collapsed": false,
    "pycharm": {
     "name": "#%%\n"
    }
   }
  },
  {
   "cell_type": "code",
   "execution_count": 6,
   "outputs": [
    {
     "name": "stdout",
     "output_type": "stream",
     "text": [
      "                            OLS Regression Results                            \n",
      "==============================================================================\n",
      "Dep. Variable:                  total   R-squared:                       0.730\n",
      "Model:                            OLS   Adj. R-squared:                  0.719\n",
      "Method:                 Least Squares   F-statistic:                     64.87\n",
      "Date:                Mon, 07 Dec 2020   Prob (F-statistic):           2.27e-14\n",
      "Time:                        16:59:10   Log-Likelihood:                -110.71\n",
      "No. Observations:                  51   AIC:                             227.4\n",
      "Df Residuals:                      48   BIC:                             233.2\n",
      "Df Model:                           2                                         \n",
      "Covariance Type:            nonrobust                                         \n",
      "==============================================================================\n",
      "                 coef    std err          t      P>|t|      [0.025      0.975]\n",
      "------------------------------------------------------------------------------\n",
      "Intercept      5.6807      0.957      5.934      0.000       3.756       7.606\n",
      "alcohol        1.9152      0.241      7.954      0.000       1.431       2.399\n",
      "speeding       0.1502      0.206      0.728      0.470      -0.265       0.565\n",
      "==============================================================================\n",
      "Omnibus:                        2.495   Durbin-Watson:                   1.809\n",
      "Prob(Omnibus):                  0.287   Jarque-Bera (JB):                2.045\n",
      "Skew:                           0.490   Prob(JB):                        0.360\n",
      "Kurtosis:                       2.978   Cond. No.                         23.5\n",
      "==============================================================================\n",
      "\n",
      "Notes:\n",
      "[1] Standard Errors assume that the covariance matrix of the errors is correctly specified.\n"
     ]
    }
   ],
   "source": [
    "# set up and fit the model in one step\n",
    "# format - Y ~ X1 + X2\n",
    "\n",
    "model = ols('total ~ alcohol + speeding', data= crashes).fit()\n",
    "\n",
    "#print the model summary\n",
    "print (model.summary())"
   ],
   "metadata": {
    "collapsed": false,
    "pycharm": {
     "name": "#%%\n"
    }
   }
  },
  {
   "cell_type": "markdown",
   "source": [
    "Objective 02 - conduct a t-test to determine the significance of individual variables in the model"
   ],
   "metadata": {
    "collapsed": false,
    "pycharm": {
     "name": "#%% md\n"
    }
   }
  },
  {
   "cell_type": "code",
   "execution_count": 2,
   "outputs": [
    {
     "data": {
      "text/plain": "   total  speeding  alcohol  not_distracted  no_previous  ins_premium  \\\n0   18.8     7.332    5.640          18.048       15.040       784.55   \n1   18.1     7.421    4.525          16.290       17.014      1053.48   \n2   18.6     6.510    5.208          15.624       17.856       899.47   \n3   22.4     4.032    5.824          21.056       21.280       827.34   \n4   12.0     4.200    3.360          10.920       10.680       878.41   \n\n   ins_losses abbrev  \n0      145.08     AL  \n1      133.93     AK  \n2      110.35     AZ  \n3      142.39     AR  \n4      165.63     CA  ",
      "text/html": "<div>\n<style scoped>\n    .dataframe tbody tr th:only-of-type {\n        vertical-align: middle;\n    }\n\n    .dataframe tbody tr th {\n        vertical-align: top;\n    }\n\n    .dataframe thead th {\n        text-align: right;\n    }\n</style>\n<table border=\"1\" class=\"dataframe\">\n  <thead>\n    <tr style=\"text-align: right;\">\n      <th></th>\n      <th>total</th>\n      <th>speeding</th>\n      <th>alcohol</th>\n      <th>not_distracted</th>\n      <th>no_previous</th>\n      <th>ins_premium</th>\n      <th>ins_losses</th>\n      <th>abbrev</th>\n    </tr>\n  </thead>\n  <tbody>\n    <tr>\n      <th>0</th>\n      <td>18.8</td>\n      <td>7.332</td>\n      <td>5.640</td>\n      <td>18.048</td>\n      <td>15.040</td>\n      <td>784.55</td>\n      <td>145.08</td>\n      <td>AL</td>\n    </tr>\n    <tr>\n      <th>1</th>\n      <td>18.1</td>\n      <td>7.421</td>\n      <td>4.525</td>\n      <td>16.290</td>\n      <td>17.014</td>\n      <td>1053.48</td>\n      <td>133.93</td>\n      <td>AK</td>\n    </tr>\n    <tr>\n      <th>2</th>\n      <td>18.6</td>\n      <td>6.510</td>\n      <td>5.208</td>\n      <td>15.624</td>\n      <td>17.856</td>\n      <td>899.47</td>\n      <td>110.35</td>\n      <td>AZ</td>\n    </tr>\n    <tr>\n      <th>3</th>\n      <td>22.4</td>\n      <td>4.032</td>\n      <td>5.824</td>\n      <td>21.056</td>\n      <td>21.280</td>\n      <td>827.34</td>\n      <td>142.39</td>\n      <td>AR</td>\n    </tr>\n    <tr>\n      <th>4</th>\n      <td>12.0</td>\n      <td>4.200</td>\n      <td>3.360</td>\n      <td>10.920</td>\n      <td>10.680</td>\n      <td>878.41</td>\n      <td>165.63</td>\n      <td>CA</td>\n    </tr>\n  </tbody>\n</table>\n</div>"
     },
     "execution_count": 2,
     "metadata": {},
     "output_type": "execute_result"
    }
   ],
   "source": [
    "import pandas as pd\n",
    "import seaborn as sns\n",
    "\n",
    "# Load the car crash dataset\n",
    "crashes = sns.load_dataset(\"car_crashes\")\n",
    "\n",
    "crashes.head()"
   ],
   "metadata": {
    "collapsed": false,
    "pycharm": {
     "name": "#%%\n"
    }
   }
  },
  {
   "cell_type": "code",
   "execution_count": 3,
   "outputs": [
    {
     "name": "stdout",
     "output_type": "stream",
     "text": [
      "                            OLS Regression Results                            \n",
      "==============================================================================\n",
      "Dep. Variable:                  total   R-squared:                       0.730\n",
      "Model:                            OLS   Adj. R-squared:                  0.719\n",
      "Method:                 Least Squares   F-statistic:                     64.87\n",
      "Date:                Mon, 07 Dec 2020   Prob (F-statistic):           2.27e-14\n",
      "Time:                        17:14:01   Log-Likelihood:                -110.71\n",
      "No. Observations:                  51   AIC:                             227.4\n",
      "Df Residuals:                      48   BIC:                             233.2\n",
      "Df Model:                           2                                         \n",
      "Covariance Type:            nonrobust                                         \n",
      "==============================================================================\n",
      "                 coef    std err          t      P>|t|      [0.025      0.975]\n",
      "------------------------------------------------------------------------------\n",
      "Intercept      5.6807      0.957      5.934      0.000       3.756       7.606\n",
      "alcohol        1.9152      0.241      7.954      0.000       1.431       2.399\n",
      "speeding       0.1502      0.206      0.728      0.470      -0.265       0.565\n",
      "==============================================================================\n",
      "Omnibus:                        2.495   Durbin-Watson:                   1.809\n",
      "Prob(Omnibus):                  0.287   Jarque-Bera (JB):                2.045\n",
      "Skew:                           0.490   Prob(JB):                        0.360\n",
      "Kurtosis:                       2.978   Cond. No.                         23.5\n",
      "==============================================================================\n",
      "\n",
      "Notes:\n",
      "[1] Standard Errors assume that the covariance matrix of the errors is correctly specified.\n"
     ]
    }
   ],
   "source": [
    "#import OLS model from statsmodels\n",
    "from statsmodels.formula.api import ols\n",
    "\n",
    "# set up the model in one step and fit it\n",
    "model = ols('total ~ alcohol + speeding', data= crashes).fit()\n",
    "print (model.summary())"
   ],
   "metadata": {
    "collapsed": false,
    "pycharm": {
     "name": "#%%\n"
    }
   }
  },
  {
   "cell_type": "code",
   "execution_count": null,
   "outputs": [],
   "source": [],
   "metadata": {
    "collapsed": false,
    "pycharm": {
     "name": "#%%\n"
    }
   }
  }
 ]
}