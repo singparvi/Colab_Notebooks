{
  "nbformat": 4,
  "nbformat_minor": 0,
  "metadata": {
    "colab": {
      "name": "LS_DS_132_Inference_For_Regression.ipynb",
      "provenance": [],
      "collapsed_sections": []
    },
    "kernelspec": {
      "name": "python3",
      "display_name": "Python 3"
    }
  },
  "cells": [
    {
      "cell_type": "markdown",
      "metadata": {
        "id": "RQw2GTc8oDRw"
      },
      "source": [
        "Unit 1, Sprint 3, Module 2\n",
        "\n",
        "###Learning Objectives:\n",
        "- Student can identify the appropriate hypotheses to test for a statistically significant relationship between two quantitative variables\n",
        "- Student can conduct and interpret a t-test for the slope parameter\n",
        "- Student can identify the appropriate parts of the output of a linear regression model and use them to build a confidence interval for the slope term.\n",
        "- Student can make the connection between the t-test for a population mean and a t-test for a slope coefficient.\n",
        "- Student can identify violations of the assumptions for linear regression"
      ]
    },
    {
      "cell_type": "markdown",
      "metadata": {
        "id": "uhmdnOzupL1N"
      },
      "source": [
        "### Returning to our forensic science example:\n",
        "\n"
      ]
    },
    {
      "cell_type": "markdown",
      "metadata": {
        "id": "K1ExqvbepUkB"
      },
      "source": [
        "Anyone who is a fan of detective TV shows has watched a scene where human remains are discovered and some sort of expert is called in to determine when the person died. But is this science fiction or science fact? Is it possible to use evidence from skeletal remains to determine how long a body has been buried (a decent approximation of how long the person has been dead)? \n",
        "\n",
        "\n"
      ]
    },
    {
      "cell_type": "markdown",
      "metadata": {
        "id": "OypdMHJop6bQ"
      },
      "source": [
        "Researchers sampled long bone material from bodies exhumed from coffin burials in two cemeteries in England. In each case, date of death and burial (and therefore interment time) was known. This data is given in the Longbones.csv dataset. "
      ]
    },
    {
      "cell_type": "markdown",
      "metadata": {
        "id": "lM5t4Yajp8mH"
      },
      "source": [
        "**We wish to determine if there is a relationship between the nitrogen composition of the long bones of the skeleton and the length of time the body was interred.**\n",
        "\n",
        "Source: D.R. Jarvis (1997). \"Nitrogen Levels in Long Bones from Coffin Burials Interred for Periods of 26-90 Years,\" Forensic Science International, Vol85, pp199-208"
      ]
    },
    {
      "cell_type": "code",
      "metadata": {
        "id": "sJegaDmRn0a6"
      },
      "source": [
        "#Import the Longbones.csv dataset from a URL and print the first few rows\n",
        "\n",
        "import pandas as pd\n",
        "import numpy as np\n",
        "\n",
        "\n",
        "data_url = 'https://raw.githubusercontent.com/LambdaSchool/data-science-practice-datasets/main/unit_1/Longbones/Longbones.csv'\n",
        "\n",
        "df = pd.read_csv(data_url, skipinitialspace=True, header=0)\n",
        "\n",
        "#Drop records with NAs and rename the dataset longbones\n",
        "\n",
        "longbones = df.dropna()\n",
        "\n",
        "longbones.head()"
      ],
      "execution_count": null,
      "outputs": []
    },
    {
      "cell_type": "markdown",
      "metadata": {
        "id": "UygPGJ5Iq4zZ"
      },
      "source": [
        "At the point we left off yesterday, we'd calulated the linear regression line that models the relationship between long bone nitrogen composition and interrment time."
      ]
    },
    {
      "cell_type": "code",
      "metadata": {
        "id": "aCcew3SNelyc"
      },
      "source": [
        ""
      ],
      "execution_count": null,
      "outputs": []
    },
    {
      "cell_type": "markdown",
      "metadata": {
        "id": "q5ese6fvrSBQ"
      },
      "source": [
        "We used those model coefficients to write the least squares regression line\n",
        "\n",
        "$\\hat{Y} = 316.8 - 69.24 X$"
      ]
    },
    {
      "cell_type": "markdown",
      "metadata": {
        "id": "n2D0DmCwru_g"
      },
      "source": [
        "And we illustrated the linear regression model graphically by overlaying it on top of the scatterplot of nitrogen composition and interrment time."
      ]
    },
    {
      "cell_type": "code",
      "metadata": {
        "id": "b-mxPZMdfWld"
      },
      "source": [
        ""
      ],
      "execution_count": null,
      "outputs": []
    },
    {
      "cell_type": "markdown",
      "metadata": {
        "id": "s5AsLaQitiEX"
      },
      "source": [
        "However, there is an important point we haven't addressed yet:\n",
        "\n",
        "We have only described the relationship between nitrogen composition and interrment time for the skeletons __________.  We want to know what (if anything) we can say about the the relationship between long bone nitrogen composition and interrment time __________."
      ]
    },
    {
      "cell_type": "markdown",
      "metadata": {
        "id": "p-dC58hMvRYt"
      },
      "source": [
        "As with the t-test and chi-square test last week, we wish to make a __________ about the relationship between nitrogen composition and interrment time in the entire population.\n",
        "\n",
        "To do that, we're going to have to conduct a statistical hypothesis test."
      ]
    },
    {
      "cell_type": "markdown",
      "metadata": {
        "id": "W5vJuq1xgaBH"
      },
      "source": [
        "A quick aside about notation:\n",
        "\n",
        "When we talked about the t-test last week, we used the symbol __________ to represent the __________ and __________ to represent the __________.\n",
        "\n",
        "Similarly, we will use __________ and __________ to represent the __________ and __________, respectively, and __________ and __________ to respresent the __________.\n",
        "\n",
        "To make things even more confusing, sometimes people will use $\\hat{\\beta_0}$ and $\\hat{\\beta_1}$ to repsresent the sample slope and intercpet, but we've chosen to use $b_0$ and $b_1$ instead."
      ]
    },
    {
      "cell_type": "markdown",
      "metadata": {
        "id": "9sO8a15ju6IE"
      },
      "source": [
        "Sample model: $\\hat{y} = b_0 + b_1x$\n",
        "\n",
        "Population model: $\\hat{y} = \\beta_0 + \\beta_1x$"
      ]
    },
    {
      "cell_type": "markdown",
      "metadata": {
        "id": "6OyR7PpmiSGP"
      },
      "source": [
        "So - just like when we did the t-test for a population mean - our hypotheses will make claims about the __________ slope and/or intercept - not the __________ slope and/or intercept."
      ]
    },
    {
      "cell_type": "markdown",
      "metadata": {
        "id": "jZ-3QNFtimi6"
      },
      "source": [
        "When testing for a statistically significant relationship between two quantitative variables, the null hypothesis is **always** that the two variables are __________.\n",
        "\n"
      ]
    },
    {
      "cell_type": "markdown",
      "metadata": {
        "id": "Eu6-pdCZi-fA"
      },
      "source": [
        "Mathematically, that works out to saying that the slope is equal to __________.  Knowing something about the independent variable doesn't tell you anything about the dependent variable."
      ]
    },
    {
      "cell_type": "markdown",
      "metadata": {
        "id": "FQTI936JjORz"
      },
      "source": [
        "In symbolic notation, we write this as:\n",
        "\n",
        "Ho: __________"
      ]
    },
    {
      "cell_type": "markdown",
      "metadata": {
        "id": "wACsDcYPjVc3"
      },
      "source": [
        "The alternative hypothesis - unsurprisingly - is that __________ between the two variables."
      ]
    },
    {
      "cell_type": "markdown",
      "metadata": {
        "id": "AjgG-19Njg0Z"
      },
      "source": [
        "In symbolic notation:\n",
        "\n",
        "Ha: __________"
      ]
    },
    {
      "cell_type": "markdown",
      "metadata": {
        "id": "gyLxgCnZkFQq"
      },
      "source": [
        "Let's look at a picture to make this idea concrete.  "
      ]
    },
    {
      "cell_type": "markdown",
      "metadata": {
        "id": "zLLsmEwhkJRi"
      },
      "source": [
        "![Zero slope.png](data:image/png;base64,iVBORw0KGgoAAAANSUhEUgAAAqsAAAKtCAYAAAAAQifsAAAABHNCSVQICAgIfAhkiAAAAAlwSFlzAAAPYQAAD2EBqD+naQAAIABJREFUeJzs3XtcVHX+P/DXmVG5Co4oCm6rJZdKaw2VVDSRyAHaNEtQ8FbbV+v727LcLXVzKy/VdqdvFx6l3zZ1bWct0dVSwUgN3bQMcC+1MoCZJnghkLwAInx+f/CdWcYZhhlmzsw5M6/n4zGP8jPnnHnPAd7zns/5fD5HEkIIEBEREREpkMbbARARERERdYbFKhEREREpFotVIiIiIlIsFqtEREREpFgsVomIiIhIsVisEhEREZFisVglIiIiIsVisUpEREREisVilYiIiIgUi8UqERERESkWi1XyCfPmzcPAgQPR2NjYrf0bGxsRFRWFuXPnujkyIiL1uTqnfv7559BoNFi5cqXDx3j00UfRt29f1NXVyRUm+QkWq6R6hw4dwoYNG/C73/0OQUFB3TpGUFAQfve73+HPf/4zSkpK3BwhEZF6uCOnAsCTTz6J5uZmLF++3H3BkV9isUqqt2zZMoSHh+Ohhx5y6TgPPvggwsPDsWzZMjdFRkSkPu7KqQMGDMB9992Hd999Fz/88IOboiN/xGKVVK2iogKfffYZZsyYgYCAAJeOFRAQgBkzZqCoqAhVVVVuipCISD3cmVOB9uEELS0tWL16tRuiI3/FYpVU7b333gMAZGVlWbS3tLTgrbfewp133okhQ4YgMDAQERERuOOOO1BQUNDp8WbOnIm2tjb88Y9/lDVuIiIl6iyndnTw4EGkpqaiT58+CAsLQ1paWqfDpxITEzFkyBDmVHIJi1VStc8++wxarRZjxoyxaK+rq8Njjz2GCxcuYPLkyfjtb3+LqVOn4vDhw8jIyOg0cSYmJqJnz5749NNPPRE+EZGidJZTTQ4ePIjk5GQEBQXh4YcfRkZGBnbv3o0JEybgb3/7m819kpKSUFNTg2+//VbO0MmH9fB2AETddenSJRw+fBg33nij1SQAnU6H48ePIzo62qL9/PnzGDduHBYvXoxZs2ZZXeYKDAzEsGHDUFZWhosXLyIkJET290FEpAT2cqpJYWEh3nrrLfz3f/+3ue3jjz/G1KlT8atf/Qrl5eVW+4wePRp//vOfUVxcjBtvvFG2+Ml3sWeVVOvkyZNobW1FVFSU1XO9evWyKlQBoHfv3vjVr36F+vp6HDp0yOZxBw4ciLa2Npw8edLtMRMRKZW9nGoSExNjUagCwF133YWJEyeisrIS+/bts9pn4MCBEELg+PHjbo+Z/AOLVVKtH3/8EUB7L6ot3377Le677z4MHToUwcHB0Gg00Gg0+O1vfwsAnRajffv2BQDU1tbKEDURkTJ1lVMBYMKECTbbk5OTAQBlZWVWzzGnkqs4DIBUy3SZqqmpyeq5gwcP4vbbb0draytuv/12TJ06FWFhYdBoNDh8+DC2bt2K5uZmm8c1LYLtyvqCRERqYy+nmgwYMMBmu6n3tKGhweo55lRyFYtVUq3IyEgA/+kN6OjZZ59FU1MT9u7da9UT8MILL2Dr1q2dHtd0PNPxiYj8gb2canL69Gmb7adOnYIkSQgPD7d6jjmVXMVhAKRaUVFR6N+/v80B/VVVVejbt6/NS1Z79+61e9zy8nJERERg0KBB7gqViEjx7OVUk/3799ts37NnDwDglltusXruyJEjkCQJI0aMcE+g5HdYrJKq3XbbbaitrcXRo0ct2ocMGYK6ujr861//smh/7733sGvXrk6Pd+zYMZw+fRqTJk2SJV4iIiXrLKeaVFRU4O2337Zo27p1K4qLixEbG2uzg+DAgQPQarW47bbbZImZfJ9HitWvv/4aDz/8MIYPH47Q0FAMHjwYM2bMQEVFhUP7NzQ0YMGCBYiMjERoaChSUlJsDuIm/3PvvfdCCIHCwkKL9sceewxCCCQlJWH+/Pl4/PHHkZycjIceegiZmZkQQtg8XmFhISRJwr333uuJ8Im6hTmV5NJZTjVJS0vD448/jl/+8pdYtmwZsrKyMH36dAQFBdlcv/qnn37CoUOHkJqait69e8sdPvkq4QHTp08X0dHR4tFHHxXvvfeeeO6558TAgQNFaGio+Oabb+zu29bWJsaNGyd69+4tVq1aJfLy8sTw4cNFWFiYqKys9ET4pGCXL18WAwYMEGPGjLF6bvv27WLs2LEiLCxM6HQ6kZaWJvbt2yfWrl0rNBqNWLdundU+Y8eOFQMGDBAtLS2eCJ+oW5hTSS6d5dS9e/cKjUYjVq5cKQ4ePCjuuOMOER4eLsLCwkRaWpooKSmxebx3331XaDQasW3bNk+ETz7KI8XqgQMHrD78KyoqRGBgoJgzZ47dfTdu3CgkSRKbN282t509e1bodDoxa9YsWeIldfnDH/4gNBqNOHz4sEvH+fvf/y4kSRLPP/+8myIjkgdzKsnJXTlVCCFGjhwpbrjhBtHW1uaGyMhfSUJ0cj3UA0aNGgVJkjpdnB0AZsyYgX379qG6utqi/aGHHsIHH3yAuro69OzZU+5QScGam5sRHx+PX/ziF3Zn+Xdl2rRpKCsrQ3l5udWdrYjUgDmV3MFdOfWvf/0r7r33XnzyySdIT093Y4Tkb7w6wer06dPo16+f3W3KysqQkJBg1Z6YmIhLly7BaDTKFR6pREBAADZs2IBRo0aZ1/NzVmNjIxISErB+/XoWqqRazKnkDu7IqUD7eq25ubksVMllXltndcOGDTh58iSeffZZu9vV1NRg4sSJVu2m28FVV1dj2LBhssRI6jF+/HiMHz++2/sHBQXhqaeecmNERJ7FnEru5GpOBYCZM2e6KRryd14pVo8cOYKHH34YSUlJmDt3rt1tGxsbbfZ0BQYGQghh91tfbW0tCgsLMWTIEN45g4jMGhsbcezYMej1+i57ItWAOZWIvEnunOrxYvX06dO48847odPp8NFHH0GSJLvbBwUF2bwtZlNTEyRJspswCwsLMXv2bJdjJiLftGHDBsyaNcvbYbiEOZWIlEKunOrRYvWnn35CWloafvrpJ+zfvx8DBw7scp+oqCjU1NRYtZvaoqOjO913yJAhANpP3g033NC9oN1g0aJFyM3N9drrMwbGwBgs/fvf/8bs2bPNOUKtmFO9p2MMDQ0NWLZsGQ4cOGB+fuzYsXj++ecRFhbmkRi8hTEwBkD+nOqxYrW5uRm//OUvUVlZic8++wzx8fEO7TdixAibt3c7ePAggoODERcX1+m+ph6CG264weaEAk8JDw/36uszBsbAGGxT86Vs5lTl/P6mpaXhq6++snj+q6++wgsvvICCggKPxOBpRqMRVVVV6NGjh6J+FozBN3OqR1YDaGtrQ1ZWFr788kts2rQJiYmJNrc7deoUysvL0draam6bPn06Tp8+jc2bN5vbamtrsWnTJkyZMoVLrBCR32FOVQ6j0YjCwkKLcwwAra2tKCwsdPiuYmpRV1eHtLQ0xMfHIyMjA7t370ZaWhrq6+u9HRr5MI/0rP7mN7/Bxx9/jClTpqC2thYffPCBxfOm8Q1Lly7F+vXrcezYMfz85z8H0J5YX3/9ddx///345ptv0K9fP+Tl5aGtrQ3Lly/3RPhERIrCnKocVVVVdp+vrKxEbGysh6KRX05ODoqKiizaioqKkJ2dLWsvMvk3jxSrf//73yFJEj7++GN8/PHHVs+bEqskSdBoLDt7NRoNdu7ciSeeeAJvvvkmGhsbkZiYiPXr1/tUAiAichRzqnIMHTrU7vMxMTEeikR+pl7kq3XsRebvEMnBI8MA9uzZg9bW1k4fJu+//z6uXLli7gEwCQ8Px+rVq3HmzBmcP38en332GW655RZPhO4W2dnZ3g6BMTAGxuBDmFO9/7tjiiEuLg56vR5ardbiea1WC71eL2vx5unz4Egvsjco6ffB32OQi1dvtyq30tJSjBw5EiUlJV4fdExEysHc0D08b7bV19cjOzvbotdRr9fDYDBAp9N5MTL3MhqNdifyGY1G9qz6Kblzg9fuYEVEROQLdDodCgoKUFFRgcrKSsTExPhk0WbqRS4qKrLowddqtUhNTfXJ90zK4JFhAERERL4uNjYW6enpPl20GQwGpKamWrSlpqbCYDB4KSLyB+xZJSIiIof4Sy8yKQuLVSIiInJKbGwsi1TyGA4DICIiIiLFYrFKRERERIrFYpWIiIiIFIvFKhEREREpFotVIiIiIlIsFqtEREREpFgsVomIiIhIsVisEhEREZFisVglIiIiIsVisUpEREREisVilYiIiIgUi8UqERERESkWi1UiIiIiUiwWq0RERESkWCxWiYiIiEixWKwSERERkWJ5rFi9ePEinnnmGaSnpyMiIgIajQbr1693aN9169ZBo9FYPbRaLc6cOSNz5EREysOcSkT+ooenXqi2tharVq3C4MGDMWLECOzdu9ep/SVJwqpVqzBkyBCL9j59+rgvSCIilWBOJSJ/4bFiNTo6GqdOnUJkZCRKSkowevRop4+RlpaGhIQEGaIjIlIX5lQi8hceGwbQs2dPREZGunycCxcuoK2tzQ0RERGpF3MqEfkL1UywEkIgOTkZYWFhCA4OxtSpU1FZWentsIiIVIk5lYjUwmPDAFwRHByM+++/H5MmTUJYWBhKSkrw6quvIikpCaWlpRg0aJC3QyQiUg3mVCJSE1UUq5mZmcjMzDT/e8qUKZg8eTJuu+02PPfcc8jLy/NidERE6sKcSkRqoopi1ZakpCTceuutKCoq6nLbRYsWITw83KItOzsb2dnZcoVHRAphMBhgMBgs2hoaGrwUjXIxpxKRI7yRU1VbrALANddcA6PR2OV2ubm5nPFK5KdsFVGlpaUYOXKklyJSLuZUIuqKN3KqaiZY2XL06FH079/f22EQEfkE5lQiUiLFFaunTp1CeXk5WltbzW21tbVW2+3YsQMlJSVIT0/3ZHhERKrCnEpEaufRYQBvv/02zp07h5MnTwIAtm3bhhMnTgAAFi5ciN69e2Pp0qVYv349jh07hp///OcAgHHjxuGWW27BqFGjEB4ejpKSErz//vsYPHgwfve733nyLRARKQZzKhH5A48Wq6+88gqOHz8OoP1Wf1u2bMGWLVsAAHPmzEHv3r0hSRI0GssO35kzZ2L79u349NNPcenSJURFReHBBx/E008/zUtWROS3mFOJyB9IQgjh7SDkYhrwW1JSwskARGTG3NA9PG9EZIvcuUFxY1aJiIiIiExYrBIRERGRYrFYJSIiIiLFUvVNAYiIiPyZ0WhEVVUVYmJiEBsb6+1wiGTBnlUiIiKVqaurQ1paGuLj45GRkYG4uDikpaWhvr7e26ERuR2LVSIiIpXJyclBUVGRRVtRUZHVbTCJfAGLVSIiIhUxGo0oLCy0uCsZALS2tqKwsBAVFRVeioxIHixWiYiIVKSqqsru85WVlR6KhMgzWKwSERGpyNChQ+0+HxMT46FIiDyDxSoREZGKxMXFQa/XQ6vVWrRrtVro9XquCkA+h8UqERGRyhgMBqSmplq0paamwmAweCkiIvlwnVUiIiKV0el0KCgoQEVFBSorK7nOKvk0FqtEREQqFRsbyyKVfB6HARARERGRYrFYJSIiIiLFYrFKRERERIrFYpWIiIiIFIvFKhEREREpFotVIiIiIlIsFqtEREREpFgsVomIiIhIsTxWrF68eBHPPPMM0tPTERERAY1Gg/Xr1zu8f0NDAxYsWIDIyEiEhoYiJSUFZWVlMkZMRKRczKlE5C88VqzW1tZi1apVOHLkCEaMGAFJkhzeVwiBjIwM/OUvf8HChQvx8ssv4+zZs0hOTkZVVZWMURMRKRNzKhH5C4/dbjU6OhqnTp1CZGQkSkpKMHr0aIf3/eijj3DgwAHk5+dj2rRpAIDMzEzExcXhmWeewYYNG+QKm4hIkZhTichfeKxntWfPnoiMjOzWvvn5+Rg4cKA5qQJAv379kJWVha1bt6KlpcVdYRIRqQJzKhH5C1VMsCorK0NCQoJVe2JiIi5dugSj0eiFqIiI1Ik5lYjURBXFak1NDaKioqzaTW3V1dWeDomISLXUllONRiN27tyJiooKb4dCRF6gimK1sbERAQEBVu2BgYEQQqCxsdELURERqZNacmpdXR3S0tIQHx+PjIwMxMXFIS0tDfX19d4OjYg8yGMTrFwRFBSE5uZmq/ampiZIkoSgoCC7+y9atAjh4eEWbdnZ2cjOznZrnESkPAaDAQaDwaKtoaHBS9Eog1pyak5ODoqKiizaioqKkJ2djYKCAre+FhE5xhs5VRXFalRUFGpqaqzaTW3R0dF298/NzbU5PouIfJ+tIqq0tBQjR470UkTep4acajQaUVhYaNXe2tqKwsJCVFRUIDY2VtYYiMiaN3KqKoYBjBgxAqWlpVbtBw8eRHBwMOLi4rwQFRGROqkhp3a13mtlZaWHIiEib1NcsXrq1CmUl5ejtbXV3DZ9+nScPn0amzdvNrfV1tZi06ZNmDJlCnr27OmNUImIFE+tOXXo0KF2n4+JifFQJETkbR4dBvD222/j3LlzOHnyJABg27ZtOHHiBABg4cKF6N27N5YuXYr169fj2LFj+PnPfw6gPbG+/vrruP/++/HNN9+gX79+yMvLQ1tbG5YvX+7Jt0BEpBi+nFPj4uKg1+tRVFRkUWhrtVqkpqZyCACRH/FosfrKK6/g+PHjAABJkrBlyxZs2bIFADBnzhz07t0bkiRBo7Hs8NVoNNi5cyeeeOIJvPnmm2hsbERiYiLWr1/PhEVEfsvXc6rBYEB2drbF2NXU1FSryR1E5NskIYTwdhByMQ34LSkp4QQrIjJjbugeb523iooKVFZWIiYmRlHFNBG1kzs3qGI1ACIi8l+xsbEsUon8GItVIiIicjuj0Yiqqir2iJPLFLcaABEREakX7zxG7sZilYiIiNzG3p3HiLqDxSoRERG5henOYx2XGwMs7zxG5CwWq0REROQWvPMYyYHFKhEREbkF7zxGcmCxSkRE5MeMRiN27tzplkv0pjuPabVai3atVgu9Xs9VATzMnT9bb2KxSkRE5IfkmrVvMBiQmppq0cY7j3mWr63IwGKViIjID8k1a1+n06GgoABGoxE7duyA0WhEQUEBdDqdS8clx/naigy8KQARESlKx8XkhRBcWF4Gpln7V+s4a9/V8807j3mHJ362nsZilYiIFKGurg45OTk2P2gBQK/Xw2AwsIfODRyZta+2gkYJlHDXLl/82XIYABERKYKtS5cdqfkyptJw1r57KWmMqC/+bFmsEhGR13W2mHxHXFjefThr372UNEbUF3+2LFaJiMjrurp02REXlncPztp3DyXetcvXfrYcs0pERF7X1aXLjtR4GVOJTLP2KyoqUFlZKfs4SyWM55SDEseIevpnKzcWq0RE5HWmS5dFRUWdDgXQarVITU1V9YeuEsk9a9/WxDlfmiyn5DGivrIiA4cBEBGRIti6dNmRmi9j+jMljeeUgy+OEVUa9qwSEZEi2Lp0CcAnLmP6K19c89MWg8GA7Oxsi/fKL1fuw2KViIgU5epLl75QzPgrJY7nlIOvjRFVGharREREJAslj+eUg6+MEVUaj41ZvXz5MpYsWYJBgwYhODgYY8aMsbv4s8m6deug0WisHlqtFmfOnPFA5EREysOc6j5GoxE7d+7k+q0y4HhOcgeP9azOmzcPmzdvxqJFixATE4O1a9ciIyMDe/fuxbhx4+zuK0kSVq1ahSFDhli09+nTR8aIiYiUiznVdb4+S10pOJ6TXOWRYvWrr77Cxo0b8eqrr2LRokUAgDlz5mD48OFYvHgx9u/f3+Ux0tLSkJCQIHeoRESKx5zqHvZmqRcUFHgpKt/D8ZzkKo8MA9i0aRN69OiB+fPnm9sCAgLwwAMP4MCBAzh58qRDx7lw4QLa2trkCpOISBWYU12nxLsO+brY2Fikp6ezUCWneaRYPXz4MOLi4hAaGmrRnpiYaH7eHiEEkpOTERYWhuDgYEydOpW32yMiv8Wc6jpHZqlT93l7HLC3X5/cyyPDAGpqahAVFWXVHhUVBSEEqqurO903ODgY999/PyZNmoSwsDCUlJTg1VdfRVJSEkpLSzFo0CA5QyciUhzmVNf52yx1T/H2OGBvvz7JwyM9q42NjQgICLBqDwwMND/fmczMTLz33nuYPXs2pkyZghUrVqCwsBC1tbV47rnnZIuZiEipmFNdx1nq8vD23aq8/fokD4/0rAYFBaG5udmqvampyfy8M5KSknDrrbc6tEwLACxatAjh4eEWbdnZ2fzlJfIDBoPBatZxQ0ODl6JxD+ZU9+Asdffy9t2qvP36/sIbOdUjxWpUVJTNy1I1NTUAgOjoaKePec0118BoNDq0bW5urt/PeiXyV7aKqNLSUowcOdJLEbmOOdU9OEvdvbx9typvv76/8EZO9cgwgBEjRsBoNOLChQsW7QcPHoQkSRgxYoTTxzx69Cj69+/vrhCJiFSDOdW9OEvdPbw9Dtjbr0/y8UixOn36dFy5cgWrV682t12+fBlr167FmDFjzAP6T506hfLycoulRGpra62Ot2PHDpSUlCA9PV3+4ImIFIY5lWzx9gx4b48Ddub1vX2uyEnCQ7KyskSvXr3E4sWLxerVq8W4ceNEr169xP79+83bzJs3T0iSJL7//ntzW2xsrMjKyhIvvfSSePfdd8WCBQtEz549xZAhQ8SZM2fsvmZJSYkAIEpKSmR7X0SkPr6QG5hTyeTHH38Uer1eADA/9Hq9qKur83gsdXV1Xo2lq9dX0rnyJXLnBo/dbvVPf/oTnnrqKWzYsAH19fW4+eabsX37diQlJZm3kSQJGo1lZ+/MmTOxfft2fPrpp7h06RKioqLw4IMP4umnn/bbS1ZERMypZKKkO3F5exxwV6+vpHNFjpOEEMLbQcjFNOC3pKTEJyYDEJF7MDd0D8+b8hiNRsTHx9t9nmNx2/FcyUfu3OCRMatERETkfrwTl+N4rtSLxSoREZFKcQa843iu1IvFKhERkUp5ewa+mvBcqReLVSIiIhUzGAxITU21aOOduGzjuVInj60GQEREPsLVO9UEBgJhYZaP8PD2R1gY8PXXQHk58LOfAcHBwA8/AFeuADfeCIwZA4wd2/7o188970flvD0DX014rtSJxSoRETknNBS4dAloa+ve/k1N7Y8zZ+xvV19v+e/Tp4E9e7r3mnJJTASSk4F589qLaS+KjY1l4eUgnit1YbFKRETO+fxzwF3L0wgBNDYCDQ3ATz+1Pw4fBvbta+9R/dvfgMuX3fNacvjqq/bHSy95O5L/iIoCcnOBrCxAkrwdjSyMRiOqqqrYM+onOGaViIi8R5LaL/VHRQHx8cDo0cD8+cD69cDu3UBzc3tB66lHWxvwr38Bzz/fPuRAjWpqgJkzAY2m/fx6+xEWBvzv/wIdbvvbXXV1dUhLS0N8fDwyMjIQFxeHtLQ01F/dC08+hcWqSvG+xkREMpAkYNgw4He/Aw4c8Gyh3Nlj9+72Mbpqdf58+xeQHj1cLnz7RkSgoLDwP/dKBVBQWAhd376OHychATAY2sdBkyqwWFUZfqskIvIzkyYBX3zh/aLZ9CguBm66ydtnpfvKyoCcHKBnT+/3OgcGAvfd1/6FRMnDXbyMY1ZVhvc1JiIir5owAfjHPzz+sjt37kRGRoZV+yAACwD8XqOBpruT/ryluRlYt6794UmS1L7ahr1HdHR7b7gCKCMKcojRaERhYaFVe2trKwoLC1FRUcGB5kRE5JM6uwPVSQDPAMg+ckQZn4H19cAnnwAffQR8/LG3o7FNCODEifaHCrBYVRFH7mvs7B8qZ1QSETmHedM7THegKioqQmuHyVparRapqanK+VnodMCcOe0PJbhypX2ZuBMngOPH2//7ww/WDyG8HWmnWKyqiDvva1xXV4ecnByLnlq9Xg+DwQCdTtftGImuxg928hXMm95nMBiQnZ1t8TPgHai60KNH+yX96Gjg1lvleY3SUtdvFmIHJ1ipSFxcHFJSUiBdtW6eJElISUlxqhCwN/aVyB04GZB8DfOm95nuQGU0GrFjxw4YjUYUFBTwy4KPY7GqQuKqrvqr/90V09jX1qvWvDONff36669djlGNuByYe/GDnXxJV3mTecOzYmNjkZ6ezqs1foLFqooYjUbs3r3b5nO7d+92OFl2Nfb1wQcfdDo2NWMPoPvxg518jSNzBohIHixWVcRdybKrsa+lpaVuKSbs9VQqqRdTzT2ASjqPHfGDnXyNO+cMEJFzWKyqiLuSZVxcHBK6uK+3K8WEvZ5KpfViqrUHUGnn8Wr8YCdvc/cXOdNMdK1Wa9Gu1Wqh1+t5OZpIRixWVcSdyfKdd96x+7wrxYS9nkql9WKqtQdQaefxavxgJ2+R84ucwWBAamqqRRtnohPJj8WqyrgrWY4ePRp6vR4ajeWvgKvFRFc9lUrrxXRHD2BnPThyXaJXS28wP9jJG+T8IseZ6ETe4bFi9fLly1iyZAkGDRqE4OBgjBkzxiqhdKahoQELFixAZGQkQkNDkZKSgrKyMpkjViZ3JkuDwYA77rjDos2RYsJeEdZVT6U97u7FdKRYdKUHsLMenKNHj8p6iV4tvcH8YJcXc6o1T32R40x0Ig8THjJz5kzRq1cvsWTJErFmzRqRlJQkevbsKf72t7/Z3a+trU2MGzdO9O7dW6xatUrk5eWJ4cOHi7CwMFFZWWl335KSEgFAlJSUuPOt+ITy8nKxY8cOYTQahdFoNP+/PT/++KPQ6/UCgPmh1+tFXV2dxXE7Pu/Mo6vXd5QjcXZUV1fn1PYmkyZNsvk+QkNDhUajsWjTarVCr9e79L5MP7PCwkKPnEdf5gu5gTnV2o4dO+z+bezYscPtr9kxlxL5K7lzg0eK1S+//FJIkiRee+01c1tTU5OIiYkRSUlJdvfduHGjkCRJbN682dx29uxZodPpxKxZs+zuq/TE6g3OFnId6fV6odVquyzC7G3n6DFc0d3XcLRoF6L7RXl3PtBs/cwiIiL04bXYAAAgAElEQVRkKYj9hdpzA3OqbV39XbqzoHQll6qZvxbn/vq+HeUTxeoTTzwhevbsKc6fP2/R/oc//EFoNBrxww8/dLpvVlaWiIqKsmp/8MEHRWhoqLh8+XKn+yo9sXpDdws5Rz4ETH/Mhw4d6jSJd7cX01Ge+rBavXp1t4rV7vTsdNaDq9Pp/O6Dslva2oS4fFmI8+eFqK0V4uRJUbJtm6pzA3Nq5zzxhdiTr6MU/lqc++v7dpbcuaEHPODw4cOIi4tDaGioRXtiYqL5+UGDBtnct6yszOYyS4mJiVizZg2MRiOGDRvm/qB9kGk819U6jufqbAxWV+MkZ86cidLSUvO/9Xo9Dh06hLNnz1rdE76goAAVFRWorKx0+/3iHRnP6c1xZs6usmA0GrFnzx6bz9XX12PXrl24cuUKYgcNQowQwJ49QFVV+6OiAjh2DAgJAX74AVDIslbkOubUznni3vGu5FK1sjdxraCgwEtRyc9f37fSeKRYrampQVRUlFV7VFQUhBCorq62u+/EiRNt7gsA1dXVqk6snuRKIdfVrPm///3vFv82/XF39sccGxvrXDJvaQH27gW2bwe+/BI4eNDmZulo/+rbqYwMx1/Tjvn/93BaXJxzm6OL9zN5cnei8D0aDRAYCAQEWD9stV+8COza5e2ou405tXOmiX1yfSEGlP+l2N38sTgH/Pd9K5FHitXGxkYEBARYtQcGBpqf786+Qgi7+6qKEMC5c8CJE+29YB3/2/H/XXi/rhRyXRZNV82+RWsrUFgISJLD8ZFCBAUB11zT/vjZz2z/t08fj/1s6+rqkJOTY/GhodfrYTAYur+yQGmpqotV5tSuOf2F2An+dtMLfyvOTfz1fSuRR4rVoKAgNDc3W7U3NTWZn+/OvpIk2d3XZNHIkQi/qi37/x5EZsOHA/feC9x+O+qGDkXOr35lt0Cqr6+3utzoCKPR6HCCMxqNiI+P7/axjEYjqqqqZOld8hRXL8MZDAarS8ANDQ1ujdHTvJ5TFy1CeLhlVs3OzlbMTSnkZlryrqioyGKZLK1Wi9TUVFn/1rzxN+1vxbmJv77vrnglp8oyEvYqd9xxhxg2bJhV+2effSYkSRKffPJJp/vGxsaKO++806r9vffeExqNRvzrX//qdF/zgN/2fkv/fQQFCTF2rBALFoiLL70kfpOYKHSdTAByZILAV199JRISEhyaUOTumZPOzMi0Fae7Vz4Qon0VgY0bN4oJEybIMskqJSVFSJJkcQxJkkRKSkqn+/jKpAC5JsypYaKQPV7PqSo9b+4k92TRq3n7b9rfJpSZ+Ov7dpZPrwbw3HPPdTlzNTMz0+bM1fnz5/vEzFVvcWWtTlt/vLYeEyZMcFu83UnU9pKMvaLXlQLJaDR2uVKAswVWdz4UfSXByrVuptpzA3Oqcjiz5J0rvP037eniXCn89X07yyeKVdOagK+++qq5rbm5WcTGxopx48aZ22pqasSRI0fElStXzG0bN24UGo1G5Ofnm9tMawLm5OTYfV0m1s51twhwZn3R3NxctyVxZxO1M3FenXjcUSC584PFVFjv2rXLofPpybUm5dbVeyksLOzW75jacwNzqn9R0t+0p4pzpfHX9+0onyhWhWhf269Xr15i8eLFYvXq1WLcuHGiV69eYv/+/eZt5s2bJyRJEt9//725rbW1VYwdO1aEhYWJlStXmu+2Eh4e3uUvDRNr57pKfmvWrLF5frsq5BwtCN0Zq6txXl1EuuODwR3fxrt72c8bd/GRk63CX6PRiIiIiG6fX1/IDcyp/kOJf9NcJJ868plitbm5WSxevFhER0eLoKAgceutt4pPP/3UYpv77rtPaLVai8QqhBDnzp0T8+fPF/379xehoaEiJSVFlJaWdvmaTKz2OXI5v7u3U716jKUrl6u6k6i7c4epjknXXT2jrnwbl/MGDmpiq/CPiIhw6efjC7mBOdV/KOlv2ttjZ0mZfKZY9QYmVvtsFQGOFJmOjll1V1LtbqJ2Ns6ORa+3xym5+uHk7fFtcjAV/q6MtzZhbugenjfvUcrftFLiIGWROzdoQIpgNBqxc+dOVFRUeOw1TYtnG41GrF69GgAghLDYpuPixyYGgwGpqakW202YMAEbN27EmjVr7L5mZWWl03GalonRarUW7VqtFnq9vtPlW2zFaU/HZUg6npsdO3bAaDSioKCg++t6OsmR9f3ssfXe3X0XH0+LjY1Fenq6xVJBtnTnd4xI6ZTwN21aJP/qv0FbnxNE7uSRdVaVzNvrUMqy4LmTYmNju/yA77j4sb07xBiNRrvH6e66dN25haKtOB955BGn1kaUc2Fxe1xd388Td/HxFq59SP5ICX/TXCSfvEaW/lqFsNctrZRxN0q5pOLOMVFyvidXZ2R6+/K+M5Tyu6FErp4bXs7uHp43/+auzwk5Jmdxwpd3ccyqC+ydPCUUAkoaNC+E+85JXV2dGD9+vKILQjUsQ6KmwtrTXD03LLq6h+eNXPmckKOTSCkdT/6OxaoLOjt5SikSlbYciVzLLY0fP56JwwVqKKy9pbvnhkVX9/C8kSufE3J0Eimh44nkzw1+OWZVKeNu5Bh758oYXHeMibJ1H/cDBw44fB93suatcbNqwHND5Fnd/ZwwTc66WsfJWc7+LctxTFImv1wNQCkTNLo7y92Wuro6pKWlIT4+HhkZGYiLi0NaWhrq6+udjss067q7iYMzRYmIfJuznxOurnDiqWOSMvllserOItFV7lqOxFaPZlFREbKzs12O0VFMHEREZIscnURK6Xgi+fllsQooY806wD3reSqlR5OJg4hIneRe61uOTiIldTyRvPy2WPX2ou9X6+6ld0A5PZpMHERE6uLOIWRdkaOTSCkdTyQvv5xg1ZEvTNBQUo9mdxbvJyIi77A3hMzdk2LluLGBEm6WQPLz+2LVF5h6NJ25M5NcmDiIiNTBW7Pp5egk8oWOJ+qc3w4D8DVKuxTiyrAGIiKSn1KGkBF1hT2rPoI9mkRE5AwlDSEjsofFqo/hpRAiInKEkoaQEdnDYQBERER+SmlDyMia3MuKqQF7VomIiPwUh5ApV11dHXJyciwmwen1ehgMBq8ts+kt7FklIiLyc5wUqzydLSs2ZcoUv+tpZbFKREREpCD27ky5f/9+2W/goDQsVomIiIgUpKtlxUxMN3DwdR4rVhsaGrBgwQJERkYiNDQUKSkpKCsrc2jfFStWQKPRWD2Cg4NljpqISJmYU8kXcPKQ7XPQ1bJiJh1v4ODLPDLBSgiBjIwM/POf/8TixYsRERGBvLw8JCcno7S01KEfiiRJeOeddxASEmJuu/oe9ERE/oA5ldSOk4fsn4POlhXrTGVlpU+PN/ZIsfrRRx/hwIEDyM/Px7Rp0wAAmZmZiIuLwzPPPIMNGzY4dJx7770Xffv2lTNUIiLFY04ltets8lB2djYKCgq8FJVndXUODAYDsrOzbd4S92q+fgMHjwwDyM/Px8CBA81JFQD69euHrKwsbN26FS0tLQ4dp62tDefPn5crTCIiVWBOJTWzN3nIHy5pA46dA9OyYkajETt27MD48eOtrn5otVro9Xqf7lUFPFSslpWVISEhwao9MTERly5dgtFo7PIYQghcd911CA8PR+/evTFnzhycOXNGjnCJiBSNOZXUrKvJQ5WVlR6KxHucOQemZcW2bdvmtzdw8MgwgJqaGkycONGqPSoqCgBQXV2NYcOGdbq/TqfDI488grFjxyIgIAD79u3DW2+9hUOHDuHrr79GaGiobLETESkNcyqpWVdjqn39kjbQvXPgzzdwcLpYFULg8uXLDm0bEBAAAGhsbDT/f0eBgYEQQqCxsdHucRYuXGjx72nTpmH06NGYNWsW8vLysHjxYgejJyJSFuZU8jedTR7SarVITU31iwLMlXMQGxvrF+eoI6eHARQXFyMoKKjLR3BwsPlSVFBQEJqbm62O1dTUBEmSEBQU5HTg2dnZGDhwoNXgZCIiNWFOJX9kMBj89pK2Cc+B45zuWb3++uuxdu1ah7Y1XZKKiopCTU2N1fOmtujoaGfDAABcc801qKur63K7RYsWITw83KItOzvbLxbSJfJ3BoPBKvk3NDR4KRprzKnkj/z5kraJWs+BN3Kq08XqgAEDMHfuXKf2GTFiBPbv32/VfvDgQQQHByMuLs7ZMAAAx44dsznJ4Gq5ubkObUdEvsdWEVVaWoqRI0d6KSJLzKnkz/zxkvbV1HYOvJFTPbIawPTp03H69Gls3rzZ3FZbW4tNmzZhypQp6Nmzp7n9xIkTKC8vt9i/trbW6ph5eXk4e/Ys0tPT5QuciEiBmFOJyJ94ZDWA6dOn4/XXX8f999+Pb775Bv369UNeXh7a2tqwfPlyi23nzJmD4uJitLW1mdsGDx6MGTNm4KabbkJgYCD27duHjRs3IiEhAQsWLPDEWyAiUgzmVCLyJx4pVjUaDXbu3IknnngCb775JhobG5GYmIj169dbdX1LkgSNxrLDd/bs2fjiiy+wefNmNDU1YfDgwVi6dCmefPJJBAYGeuItEBEpBnMqEfkTjxSrABAeHo7Vq1dj9erVdrfbs2ePVdu7774rV1hERKrEnEpE/sIjY1aJiIiIiLrDYz2rREREREpnNBpRVVWlmqWk/AF7VomIiMjv1dXVIS0tDfHx8cjIyEBcXBzS0tJQX1/v7dD8HotVIiIi8ns5OTlWd3ArKirizS4UgMUqERGRyhmNRuzcuRMVFRXeDkWVjEYjCgsL0draatHe2tqKwsJCnlcvY7FKRESkUrx07R5VVVV2n6+srPRQJGQLi1UiIiKV4qVr9xg6dKjd52NiYjwUCdnCYpWIiEghnLmcz0vX7hMXFwe9Xg+tVmvRrtVqodfruSqAl7FYJSIi8rLuXM7npWv3MhgMSE1NtWhLTU2FwWDwUkRkwnVWiYiIvMze5fyCggKb+/DStXvpdDoUFBSgoqIClZWVXGdVQdizSkRE5EXdvZzPS9fyiI2NRXp6Os+fgrBYJSIi8iJXLufz0jX5Aw4DICIi8iJXLufz0jX5AxarREREXmS6nF9UVGQxFECr1SI1NdWh4jM2NpZFKvksDgMgIiLyMl7OJ+oce1aJiIi8jJfziTrHYpWIiEgheDmfyBqHARARERGRYrFnlYiIiMyMRiOqqqo4FIEUgz2rRERE1K1bvhJ5AotVIiIisnvLVyJv8kixeurUKSxduhQpKSkICwuDRqNBcXGxU8eorq5GVlYWdDodwsPDcffdd+O7776TKWIiIuViTiV36+4tX4k8wSPFanl5OV5++WVUV1fj5ptvhiRJTu1/8eJFJCcnY9++ffj973+PlStXoqysDMnJybw8QUR+hzmV3M2VW74Syc0jE6xGjRqFH3/8EX369EF+fj4OHDjg1P5vv/02qqqqcOjQISQkJAAA0tLSMHz4cLz66qt49tln5QibiEiRmFPJ3Vy55SuR3DzSsxoSEoI+ffp0e//8/HyMHj3anFQBID4+Hrfffjs+/PBDd4RIRKQazKnkbqZbvmq1Wot2rVYLvV7PVQHIqxQ/wUoIgX/84x8YNWqU1XOJiYmoqqrCxYsXvRAZEZH6MKdSZ3jLV1Iqxa+zWldXh+bmZkRFRVk9Z2qrrq7mtz4iIgcwp1JneMtXUiqni1UhBC5fvuzQtgEBAU4HdLXGxsZOjxUYGGixDRGR2jCnktLwlq+kNE4PAyguLkZQUFCXj+DgYBiNRpcDDAoKAgA0NzdbPdfU1GSxDRGR2jCnEhHZ53TP6vXXX4+1a9c6tK2ty0zO6tu3LwICAlBTU2P1nKktOjra7jEWLVqE8PBwi7bs7GwudEzkBwwGg9WYu4aGBi9FY405lYjUxBs51elidcCAAZg7d64csdgkSRJuuukmfP3111bPffnll7juuusQEhJi9xi5ubkWs16JyH/YKqJKS0sxcuRIL0VkiTmViNTEGzlVcasBnDhxAuXl5RZt06dPx6FDh1BaWmpuKy8vx+7du5GVleXpEImIVIM5lYjUzmOrATz77LOQJAnffPMNhBBYv3499u3bBwBYtmyZebs5c+aguLgYbW1t5rb/9//+H9asWYOMjAw8/vjj6NGjB3JzcxEVFYXf/OY3nnoLRESKwZxKRP7CY8Xq008/bb4loCRJeP/9983/3zGxSpIEjcaywzc0NBSff/45Fi1ahOeeew5tbW2YNGkSXnvtNURERHjqLRARKQZzKhH5C48Vqx2/1duzZ88em+3R0dHYuHGjO0MiIlIt5lQi8heKG7NKRERERGTCYpWIiIiIFIvFKhEREREpFotVIiIiIlIsFqtEREREpFgsVomIiIhIsVisEhEREZFisVglIiIiIsVisUpEREREisVilYiIiIgUi8UqERERESkWi1UiIiIiUiwWq0RERESkWCxWiYiIiEixWKwSERERkWKxWCUiIiIixWKxSkRERESKxWKViIiIiBSLxSoRERERKVYPbwdARETkj4xGI6qqqhATE4PY2Fhvh0OkWOxZJSIi8qC6ujqkpaUhPj4eGRkZiIuLQ1paGurr670dGpEieaRYPXXqFJYuXYqUlBSEhYVBo9GguLjY4f1XrFgBjUZj9QgODpYxaiIiZWJOVbecnBwUFRVZtBUVFSE7O9tLEREpm0eGAZSXl+Pll19GbGwsbr75Zhw4cMDpY0iShHfeeQchISHmNq1W684wiYhUgTlVvYxGIwoLC63aW1tbUVhYiIqKCg4JILqKR3pWR40ahR9//BFHjhzBokWLun2ce++9Fzk5OebHjBkz3BglEV2toaEBCxYsQGRkJEJDQ5GSkoKysrJuHeuOO+6ARqPBwoULLdrr6urw8ssvY+LEiYiMjIROp8PYsWPx4Ycfdnqs0tJSTJkyBREREQgJCcFNN92Et956q1txqRFzqnpVVVXZfb6ystJDkZA3uJpTi4qKkJKSgv79+0On0+HWW2/Fhg0bLLZxJqd+++23yMrKwtChQxESEoL+/ftj4sSJ+OSTT1x+r+7kkWI1JCQEffr0cfk4bW1tOH/+vBsiIqKuCCGQkZGBv/zlL1i4cCFefvllnD17FsnJyV1+4F5t8+bNOHjwICRJsnruwIEDeOqppxAREYGnnnoKzz//PEJCQjBz5kysWLHCavtdu3Zh3LhxqK2txdNPP4033ngDd911F3744Yduv1e1YU5Vr6FDh9p9PiYmxkORkKe5mlO3bdsGvV6PlpYWrFixAs8//zyCg4Mxd+5c/M///I95O2dy6vfff48LFy7gvvvuwxtvvIGnn34akiRhypQp+N///V+3n4NuEx62adMmodFoxOeff+7wPsuXLxeSJInevXsLSZJEaGiomD17tjh9+rTd/UpKSgQAUVJS4mrYRH5n48aNQpIksXnzZnPb2bNnhU6nE7NmzXL4OE1NTeLaa68Vzz77rJAkSTzyyCMWzx87dkwcP37car/bb79dBAUFiUuXLpnbfvrpJzFw4EAxffr0bryj//Cl3MCcqj56vV5otVoBwPzQarVCr9d7OzSSkas5dfLkyeJnP/uZaGlpMbdduXJFxMTEiBEjRpjbnMmptrS1tYkRI0aIG264wZG3JYSQPzeoYjUAnU6HRx55BKtXr0Z+fj7mz5+PjRs34rbbbsOFCxe8HR6R2yxfvhwajQbl5eXIyspCeHg4+vXrh8ceewzNzc0ejSU/Px8DBw7EtGnTzG39+vVDVlYWtm7dipaWFoeO8+KLL0IIgccff9zm84MHD8Y111xj1X733XejubkZR48eNbd98MEHOHPmDJ577jkAwKVLlyCEcOZtEZhTvc1gMCA1NdWiLTU1FQaDwUsR+S5fyqk//fQTdDodevT4z3QjrVaLfv36ISgoyNzmTE61RZIkXHPNNTh37pyjb012Tk+wEkLg8uXLDm0bEBDgdEC2XD3Gbdq0aRg9ejRmzZqFvLw8LF682C2vQ+RtpsvkWVlZuPbaa/HCCy/g4MGDeOONN3Du3DmsXbvW7v6NjY24dOlSl6+j1Wq7vIxcVlaGhIQEq/bExESsWbMGRqMRw4YNs3uM48eP48UXX8TatWudzgc1NTUA2pO5yWeffYawsDCcOHECU6ZMgdFoREhICObMmYPc3Fy35RxPYk71PzqdDgUFBaioqEBlZSXXWZWRL+XU5ORkvPTSS3j66acxb948SJKEDz74ACUlJfjoo4+6jNFWTjW5dOkSGhsb0dDQgK1bt2Lnzp3KWp3C2a7YvXv3CkmSunxoNBpRXl5utX93Lll1JioqStxxxx2dPs9LVqQ2psuz06ZNs2j/9a9/LTQajfjnP//p0P5dPa699touYwkNDRX/9V//ZdW+Y8cOodFoxK5du7o8xvTp08X48ePN/7Y1DMCWuro6MWDAAJGcnGzR/otf/EKEhISIkJAQ8dhjj4ktW7aIRx99VEiSJHJycro8romScgNzKpF8fCmnXrp0ScyYMUNoNBrz64aGhopt27Z1+dqd5VSThx56yHxMrVYrsrKyxLlz57o8roncucHpntXrr7++y28iJlFRUc4e3inXXHMN6urqutxu0aJFCA8Pt2jLzs5W1rcGov8jSRJ+/etfW7Q98sgjyMvLw44dOzB8+PBO9503bx4mTJjQ5Wt0vGTUmcbGRps9eYGBgRBCoLGx0e7+e/bswZYtW/DVV191+VodCSGQk5ODhoYGvPnmmxbPXbhwAY2Njfjv//5v5ObmAvjPpa3Vq1dj5cqVVhNYDAaD1eXVhoYGp2KSE3Mqkbx8Jaf26tULcXFxyMzMxD333IPW1lasXr0as2bNQlFRERITE23uZy+nmixatAiZmZmorq7Ghx9+iNbW1k6HSXgjpzpdrA4YMABz586VIxanHTt2zGaX+tVyc3Md2o5IKa6eETx06FBoNBocO3bM7n5DhgzBkCFD3BJDUFCQzWTV1NQESZLsJufW1lY8+uijmDt3rtN/ew8//DB27dqFP/3pT1YfIqbXnDlzpkV7Tk4O3n33XRw4cMCqWLVVRJWWlmLkyJFOxSUX5lQi+ak9pwLAr3/9a3z11VcoLS01t2VmZmLYsGF49NFHO11v2V5ONYmLi0NcXBwAYPbs2dDr9ZgyZQoOHjxota03cqpHbgrgjBMnTuDSpUuIj483t9XW1lqNscjLy8PZs2eRnp7u6RCJPM7Wkk+2XLx40aEJMqZB+fZERUWZxzh1ZGqLjo7udN9169bBaDRi9erV+P777wHAPBHq/Pnz+P777xEZGWmVnFesWIF33nkHL774InJycqyOGx0djW+//RYDBgywaI+MjAQA3q7SBuZUImtqy6ktLS344x//iCVLlli09+jRA+np6Xj77bdx5coVi8lXQNc5tTPTp0/HQw89pJibVHisWH322WchSRK++eYbCCGwfv167Nu3DwCwbNky83Zz5sxBcXEx2trazG2DBw/GjBkzcNNNNyEwMBD79u3Dxo0bkZCQgAULFnjqLRB5TEVFBQYPHmz+d2VlJdra2rr8hv/KK6/YXJv0akOGDOlyRuiIESOwf/9+q/aDBw8iODjY/C3clhMnTqClpQXjxo2zaJckCevWrcP69euxZcsWTJkyxfzc22+/jRUrVuA3v/lNpysHjBw5EkVFRTh58qRFAq2urgYA9O/f3+578iXMqUSOU3tO/fHHH3HlyhW0trZaPdfS0oK2tja0trZaFKuO5NTOmIYkKGXIlMeKVdNCs0D7B9b7779v/v+OiVWSJGg0litqzZ49G1988QU2b96MpqYmDB48GEuXLsWTTz6JwMBAT70FIo8QQuDtt9+2WNrmjTfegCRJXfZ6uXN81fTp05Gfn4/NmzfjnnvuAdDeI7dp0yZMmTIFPXv2NG97de9ddnY2brnlFqtj3n333bjzzjuxYMECi/FVGzduxKOPPoo5c+bglVde6TSmrKwsvPDCC3jvvfeQnJxsbl+zZg169uxp0ebrmFOJHOMLOTUyMhJ9+vTBli1bsHLlSnNReuHCBXz88ce44YYbLMbDOppTz549a/Ul/8qVK1i3bh2CgoJw4403dvm+PMFjxWrHb/X27Nmzx6rt3XffdXc4RIr23XffYerUqUhLS8MXX3yBDz74ALNnz8ZNN91kdz93jq+aPn06Xn/9ddx///345ptv0K9fP+Tl5aGtrQ3Lly+32Pbq3ruO45+udu211+Kuu+4y//vQoUOYO3cu+vXrh0mTJuGDDz6w2H7cuHG49tprAbT3TPzqV7/C+++/j5aWFkycOBF79uxBfn4+nnzySQwcONAt710NmFOJHKf2nKrRaPD444/jqaeewq233oq5c+fiypUreO+993Dy5Em89NJL5n2dyakPPvggfvrpJ9x2220YNGgQTp06hQ8++ADl5eV47bXXEBwc7Jb37jJZ1hhQCC6zQmqzfPlyodFoxJEjR0RmZqYIDw8XERER4tFHHxXNzc0ej+fcuXNi/vz5on///iI0NFSkpKSI0tJSq+2Sk5OFVqvt8ngajUYsXLjQom3t2rVCo9F0+li3bp3F9leuXBErV64U1157rQgICBBxcXHijTfecOp9MTd0D88bqY2v5VSDwSDGjBkj+vbtK0JCQsTYsWPFli1bLLZxJqdu3LhRTJ48WURFRYlevXqJiIgIMXnyZPHJJ5849b7kzg2SEL57+xfT7LSSkhLOXCVVWLFiBVauXImzZ8+ib9++3g7HZzE3dA/PG6kNc6pnyJ0bVHG7VSIiIiLyTyxWiYiIiEixWKwSERERkWKxWCVSkGeeeQatra0cW0VE5AbMqb6BxSoRERERKRaLVSIiIiJSLBarRERERKRYLFaJiIiISLFYrBIRERGRYrFYJSIiIiLFYrFKRERERIrFYpWIiIiIFIvFKhEREREpFotVIiIiIlIsFqtEREREpFgsVomIiIhIsVisEhEREZFisVglIjg5acEAACAASURBVCIiIsVisUpEREREiuWRYnX37t144IEHEB8fj5CQEAwdOhTz58/HqVOnHD5GdXU1srKyoNPpEB4ejrvvvhvfffedjFETESkTcyoR+ROPFKtLlizB559/jnvuuQdvvvkmsrOz8eGHHyIhIQFnzpzpcv+LFy8iOTkZ+/btw+9//3usXLkSZWVlSE5ORn19vQfegWsMBoO3Q2AMjIEx+BDmVO//7jAGxsAYPEh4wL59+6zaiouLhSRJ4qmnnupy/xdffFFoNBpRUlJibjty5Ijo0aOHWLZsWaf7lZSUCAAW+3nDXXfd5dXXZwyMgTFYUkpu6C7mVP/+/WUMjEFpMcidGzzSszp+/HirtgkTJqBv377497//3eX++fn5GD16NBISEsxt8fHxuP322/Hhhx+6NVYiIqVjTiUif+K1CVYXL17EhQsX0K9fP7vbCSHwj3/8A6NGjbJ6LjExEVVVVbh48aJcYRIRqQJzKhH5Kq8Vq7m5uWhpacHMmTPtbldXV4fm5mZERUVZPWdqq66uliVGIiK1YE4lIl/Vw9kdhBC4fPmyQ9sGBATYbC8uLsbKlSsxY8YMTJw40e4xGhsbOz1WYGCgxTad7evIZTE5NTQ0oLS0lDEwBsagkBhMOaGz3OFJzKnO8/ffX8bAGJQWg+w51dlBrnv37hWSJHX50Gg0ory83Gr/f//73yIiIkKMHDlSXLhwocvXq62tFZIkiWeffdbquby8PKHRaITRaLS574YNGwQAPvjggw+bjw0bNjibAt2OOZUPPvjwlYdcOdXpntXrr78ea9eudWjbqy8znThxApMnT4ZOp8P27dsREhLS5TH69u2LgIAA1NTUWD1naouOjra5r16vx4YNGzBkyBAEBQU5FDMR+b7GxkYcO3YMer3e26EwpxKR6smdUyUhhJDlyFepq6tDUlISGhoasH//flx33XUO75uYmAiNRoODBw9atOv1ehw9ehQVFRXuDpeISNGYU4nIX3hkgtWlS5eQnp6Ompoa7Nixw25SPXHiBMrLyy3apk+fjkOHDlmMxSgvL8fu3buRlZUlW9xERErEnEpE/sQjPat33303tm3bhgceeADJyckWz4WGhmLq1KnmfycnJ6O4uBhtbW3mtgsXLuCWW27B+fPn8fjjj6NHjx7Izc2FEAJlZWWIiIiQ+y0QESkGcyoR+ROPFKvXXnstjh8/bvO5wYMH4+jRo+Z/T5o0Cfv27cOVK1cstquursaiRYuwa9cutLW1YdKkSXjttdecuvRFROQLmFOJyJ94bMwqEREREZGzvHZTACIiIiKirvhMsbp792488MADiI+PR0hICIYOHYr58+fj1KlTDh+juroaWVlZ0Ol0CA8Px913343vvvvO4f1PnTqFpUuXIiUlBWFhYdBoNCguLnZ4/xUrVkCj0Vg9goODPRYD4Pp5ANoXJ16wYAEiIyMRGhqKlJQUlJWVObSvs+fh8uXLWLJkCQYNGoTg4GCMGTMGRUVFssfpjhjWrVtn871qtVqcOXPG4de/ePEinnnmGaSnpyMiIgIajQbr1693eH93nAdXYnDHefj666/x8MMPY/jw4QgNDcXgwYMxY8YMh2e2u+t3wVcwp7onBoA5lTmVOdXVnOr0OqtKtWTJEtTX1yMzMxOxsbE4evQo3nzzTWzfvh2HDx9GZGSk3f0vXryI5ORknD9/Hr///e/Ro0cPvPbaa0hOTsbhw4eh0+m6jKG8vBwvv/wyYmNjcfPNN+PAgQNOvw9JkvDOO+9YrJeo1Wod3t/VGNxxHoQQyMjIwD//+U8sXrwYERERyMvLQ3JyMkpLSzF06NAuj+HMeZg3bx42b96MRYsWISYmBmvXrkVGRgb27t2LcePGyRqnqzGY3uuqVaswZMgQi/Y+ffo4/Pq1tbVYtWoVBg8ejBEjRmDv3r0O7+uu8+BKDIDr5+HFF1/EF198gczMTNx88804deoU3nzzTSQkJODLL7/EjTfe2Om+7vxd8BXMqe6JgTmVOZU51Q05VZZbDXjBvn37rNqKi4uFJEniqaee6nL/F198UWg0GlFSUmJuO3LkiOjRo4dYtmyZQzFcuHBB1NfXCyGE2LRpk9BoNOLzzz938B0IsXz5cqHRaMSPP/7o8D7ujsEd52Hjxo1CkiSxefNmc9vZs2eFTqcTs2bN6nJ/Z87Dl19+KSRJEq+99pq5rampScTExIikpCRZ43RHDGvXrrU6391x+fJlcfr0aSGEEF9//bWQJEmsW7fOoX3ddR5cicEd5+HAgQOipaXFoq2iokIEBgaKOXPm2N3XXefAlzCnuicG5lTmVCGYU4VwLaf6zDCA8ePHW7VNmDABffv2deg+1vn5+Rg9ejQSEhLMbfHx8bj99tvx4YcfOhRDSEiIU9/cOtPW1obz5893a19XY3DHecjPz8fAgQMxbdo0c1u/fv2QlZWFrVu3oqWlxaHjOHIeNm3ahB49emD+/PnmtoCAADzwwAM4cOAATp48KXucrsTQ0YULFyyWF3JGz549u+zp6oy7zoMrMXTU3fMwZswY9OhhebEoJiYGw4YN6zIHuOsc+BLmVPfEwJzKnAowpwKu5VSfKVZtuXjxIi5cuIB+/frZ3U4IgX/84x8YNWqU1XOJiYmoqqrCxYsX5QrTKpbrrrsO4eHh6N27N+bMmePUOBtXX9sd56GsrMwiMXc8xqVLl2A0Gh2KxZHzcPjwYcTFxSE0NNTqtUzPyxmnqzEA7e81OTkZYWFhCA4OxtSpU1FZWenQa7uDu86Dq+Q6D6dPn+4yByjlHCgdc6rzr82cypxqwpza/XPg08Vqbm4uWlpaMHPmTLvb1dXVobm52eq+28B/7sVdXV0tS4wd6XQ6PPLII1i9ejXy8/Mxf/58bNy4EbfddhsuXLgg++u76zzU1NS4dAxnzoO91xJC2H0tV+N0RwzBwcG4//77kZeXh7/+9a9YsmQJPvvsMyQlJTnce+Aqd50HV8h1HjZs2ICTJ092mQOUcA7UgDnVOcypzsXpjhiYU9v5Wk5V5AQrIQQuX77s0LYBAQE224uLi7Fy5UrMmDEDEydOtHuMxsZGq2OZYtBqtRBCoKGhAc3NzU7F4KyFCxda/Pvuu+/GiBEjMG/ePLzxxhv47W9/2+m+7ojBXeehsbHRZjyBgYEQQphfpzNXn4dp06Zh9OjRmDVrFvLy8rB48WKLmDt7rY7vyRZX43RHDJmZmcjMzDT/e8qUKZg8eTJuu+02PPfcc8jLy3MoBle46zy4Qo7zcOTIETz88MNISkrC3Llz7W6rhHMgJ+bUdsyp7ZhT5aWEfOJrOVWRPavFxcUICgrq8hEcHGyzK/nIkSO45557cPPNN2PNmjVdvl5QUBAAWCQMUwwPPfQQhBBITEx0KgZ3KC4uxn333QcAWLZsmdPnwVnuOg9BQUE2k29TUxMkSTK/jjOys7MxcOBAq6VL7L1Wx/fU2ft1R5yuxGBLUlISbr31VoeXinGVHD8vd3DlPJw+fRp33nkndDodPvroI0iSZHd7pZ4Dd2FO/U8MzKntmFPlo9R8ouacqsie1euvvx5r1651aNuru5lPnDiByZMnQ6fTYfv27RbLdHSmb9++CAgIQE1NjVUM+fn5+Pjjj/Huu+92+k3bVle3O5hiWLHi/7N39/FN1Wf/wD9JgD5YKAEEWm4FoU1FQaFARUCt2C1p7wmiUGwRkTm45wZqfUAnIjL03oM6/Il2Du8NRDSigIqzD1AfBmzAoAXdmPS0VRShPJRAFSgF2u/vjzbpyWOTNDnnJP28Xy9e5nxzTnIR7NUr53zP9V2C5uZmLFmyxOu+oYghVJ9DUlKS02vY2ceSk5ODiu+yyy6DzWZze09PlxP8ea9QxdmRGLy57LLLFJvXFK5/r1AI5nP4/vvvYbFY8P3332Pbtm3o379/u8do+TMIBeZU5xiYU1swp4aHlvNJpOZUTRar/fr1a/cUsyc2mw0//vGPcfHiRXz22Wfo16+fX8fpdDoMHz4cu3fvdovhzTffdDTDVpo9hkcffRTp6elBfSaBCNXnMGLECGzbts1tfMeOHYiPj4fJZAoqvgMHDrhN2Lb3njt9+rTTZPwdO3ZAp9NhxIgRYY+zIzF489VXX+HSSy8N+LhghOvfKxQC/RwaGxvxk5/8BNXV1fj444+Rlpbm13Fa/gxCgTnVOQbm1BbMqeGh5XwSqTlVk9MAgnH27FlkZ2ejtrYWRUVFGDx4sNd9Dx48iMrKSqexqVOnYteuXaioqHCMVVZW4pNPPkFubm7I4/UUQ11dndt+hYWFOH78OLKzsxWJIRSfw9SpU3H06FFs2LDBMVZXV4d169Zh0qRJ6Nq1q88YAvkcpk6diosXL2LFihWOsfPnz2PVqlUYO3YsBgwYAKBlFZrKyko0NTUFFWd7f99gY/D0dy0qKkJ5eXlY/s3D+Tl0JIZQfA7Nzc3Izc3Fzp07sW7dOsedw/68v9KfQSRgTg1NDMypzKn2uJhTg/8MdEIIEdARGnXbbbdh48aNuPfee5GZmen0XEJCAiZPnuzYzszMxJYtW5z6jp0+fRojR47EDz/8gEceeQRdunTBsmXLIITAnj170Lt3b7/ieOaZZ6DT6bBv3z68/fbb+OlPf4orrrgCQMscKV8xXHLJJZg+fTqGDx+O2NhYbN26FWvXrsXIkSOxbds2x+TycMYQis+hubkZEyZMwL59+/DII4+gT58+KCwsxMGDB7Fr1y6kpqaG9HOYPn063n//fTz44IOOlU52796NTz75BOPHjwcA3HPPPVi9ejUOHDiAyy+/POA42xNsDCaTCSNHjsTo0aORmJiI8vJyrFy5EgMGDMA///nPgL4Bv/LKKzh16hQOHTqEV199FbfffjtGjhwJoOUGi+7du4f9cwg2hlB8Dg8++CBeeuklTJo0yenGArsZM2YACP//C9GCOTU0MTCnMqcyp4Ygpwa8jIBGDRo0SOj1eo9/rrjiCqd9MzMzhcFgcHuNQ4cOidzcXNGzZ0/Ro0cPMXnyZFFTUxNQHDqdzmMMru/nKYa5c+eKYcOGicTERBETEyNMJpN44oknxOnTpxWLQYjQfA6nTp0Sc+bMEZdeeqlISEgQEydOFBUVFW77heJzaGxsFAsWLBDJyckiLi5OXHfddWLz5s1O+9xzzz3CYDCIb775Jqg42xNsDIsWLRLp6enCaDSKmJgYMWjQIDFv3jxx7NixgGPw9TNgf89wfw7BxhCKzyEzM9Pre+v1esd+4f4MogVzamhiEII5lTmVObWjOTVqzqwSERERUfSJmjmrRERERBR9WKwSERERkWaxWCUiIiIizWKxSkRERESaxWKViIiIiDSLxSoRERERaRaLVSIiIiLSLBarRERERKRZLFaJiIiISLNYrBIRERGRZrFYJSIiIiLNYrFKRERERJrFYpWIiIiINIvFKhERERFpFotVIiIiItIsFqtEREREpFksVomIiIhIs1isEhEREZFmsVglIiIiIs1isUpEREREmsVilaLGrFmz0L9/fzQ0NAR87HvvvQe9Xo9PP/00DJEREUWWQPOpXq/HxIkTncYeeOAB9OrVCzabLRwhUifCYpWiwq5du7BmzRr86le/QlxcXMDHT5kyBenp6XjooYfCEB0RUeToaD61e+KJJ9DY2Iinn346dMFRp8RilaLCwoULkZiYiJ///OdBv8Zjjz2Gzz//HG+//XYIIyMiiiyhyKcA0K9fP9xzzz3405/+hO+++y5E0VFnxGKVIl5VVRU+/vhjTJ8+HTExMUG/zqRJk9CzZ08UFhaGMDoiosgRqnxqN2vWLFy4cAErVqwIQXTUWbFYpYj35z//GQCQm5vr8flNmzbh1ltvRb9+/RAbG4vLL78ct912Gz7++GOn/WJiYnDbbbfh73//OyRJCnvcRERa4yufXrhwAUuXLkVKSgpiY2MxePBgLFq0COfPn/f6ehkZGRg0aBD+8pe/hC1min4sViniffzxxzAYDBg7dqzbc4sXL4bFYsGWLVtgsVjwyCOPICsrC/v378ebb77ptv/48eMBAGVlZWGPm4hIa3zl02nTpmHx4sXQ6/WYP38+br31VqxcudLriQK78ePHo7a2Fv/5z3/CFTZFuS5qB0DUEWfPnsXevXtx1VVXud0IsGnTJixduhRDhgzB1q1b0b9/f6fnDx8+7PZ6Y8aMgRACW7ZswS9+8Yuwxk5EpCW+8ulbb72FjRs3Yty4cfjkk0/QrVs3AMCSJUswevRo6HQ6r687ZswYvPXWW9iyZQuuuuqqsP4dKDrxzCpFtEOHDqGpqQlJSUluzy1fvhw6nQ4vvPCCW6EKAMnJyW5j9v2+/fbb0AdLRKRhvvLpypUrodPp8L//+7+OQhUAevbsiUWLFkEI4fV1+/fvDyEE8yoFjcUqRbQTJ04AAIxGo9tzO3fuhE6ng9ls9vv1evXqBQCoq6sLTYBERBHCVz7ds2cP9Hq9Y6qUXGZmps/XZV6ljmKxShHNfqnq3Llzbs+dOnUKRqMxoDta7Q2wO9JbkIgoEvnKp/X19ejVqxcMBoPbc56uXMkxr1JHsViliNa3b18AbWcE5Hr27ImTJ0+isbHR79ezv479dYmIOgtf+TQxMRE2mw1NTU1uzx05csTn6zKvUkexWKWIlpSUhEsvvRSVlZVuz40dOxZCCJSUlPj9evv37wcAjBgxImQxEhFFAl/5ND09Hc3Nzdi2bZvbc+0tU71//37odDrmVQoai1WKeDfeeCPq6urw1VdfOY3Pnz8fQgg8/PDDHu/89zS2Y8cO6HQ63HzzzWGLl4hIq7zl09mzZ0MIgYULFzpdrbLZbHj22Wd9dgPYvn07DAYDbrzxxrDFTdFNkWJ19+7dmDdvHoYNG4aEhAQMHDgQ06dPR1VVlV/H19fXY+7cuejbty8SEhIwceJE7NmzJ8xRU6S44447IIRAaWmp0/iPfvQjLFq0CF9//TWGDh2KWbNm4cknn8ScOXMwdOhQPPnkk26vtWnTJvTs2RMTJ05UKnyigDGnUrh4y6d5eXmYNGkStm/fjmHDhuGRRx7BAw88gOHDh2PYsGFeuwF8//332LVrF7KystC9e3cl/goUjYQCpk6dKpKTk8UDDzwg/vznP4tnn31W9O/fXyQkJIh9+/b5PLa5uVmMGzdOdO/eXSxdulQUFhaKYcOGiR49eojq6molwieNO3/+vOjXr58YO3asx+eLi4tFdna26N27t4iNjRWXX365uP3228Wnn37qtJ8kSUKn04mHHnpIgaiJgsecSuHiK59euHBBLF26VAwZMkTExsaKK664QixatEicP39e6PV6MXHiRLdj/vSnPwm9Xi82btyoRPgUpRQpVrdv3y4uXLjgNFZVVSViY2PFzJkzfR67du1aodPpxIYNGxxjx48fF0ajUcyYMSMs8VLk+c1vfiP0er3Yu3dv0K/x0EMPidjYWPH111+HLjCiMGBOpXAKRT61GzVqlBg6dKhobm4OQWTUWemE8NHJN8zsq17s2rXL6z7Tp0/H1q1b3eYX/vznP8ebb74Jm82Grl27hjtU0rjGxkakpaXh2muvxQcffBDw8UeOHMGQIUMwb948/O53vwtDhEThx5xKodDRfGr3/vvv44477sBf//pXZGdnhzBC6mxUvcHq6NGj6NOnj8999uzZg/T0dLfxjIwMnD17FpIkhSs8iiAxMTFYs2YNRo8e7ejpF4gDBw7g8ccfx8KFC8MQHZEymFMpFDqaT+3OnTuHZcuWsVClDuui1huvWbMGhw4dwjPPPONzv9raWtx0001u4/bl4A4fPoyrr746LDFSZJkwYQImTJgQ1LFjx47F2LFjQxwRkXKYUymUOpJP7e68884QRUOdnSrF6v79+zFv3jyMHz8ed999t899GxoaPK5AFBsbCyGEz299dXV1KC0txaBBg7hyBhE5NDQ04MCBAzCbze2eiYwEzKlEpKZw51TFi9WjR4/iv//7v2E0GvHuu+/67M0GtCzP5mkFonPnzkGn0/lMmKWlpbjrrrs6HDMRRac1a9ZgxowZaofRIcypRKQV4cqpihar33//PSwWC77//nts27at3fWEgZZLU7W1tW7j9rHk5GSvxw4aNAhAy4c3dOjQ4IIOgYKCAixbtky192cMjIExOPvyyy9x1113OXJEpGJOVQ9jYAxqxvDNN9/g9ttv9/r8e++9h8svv1yxeMKdUxUrVhsbG/GTn/wE1dXV+Pjjj5GWlubXcSNGjPC4vNuOHTsQHx8Pk8nk9Vj7GYKhQ4d6vKFAKYmJiaq+P2NgDIwBkCQJNTU1SElJcRRakXwpmzm1c/3/yxgYg1x6ejrMZjPKysrQ1NTkGDcYDMjKysJtt92mWCxy4cqpinQDaG5uRm5uLnbu3Il169YhIyPD435HjhxBZWWl0wc/depUHD16FBs2bHCM1dXVYd26dZg0aRJbrBCRTzabDZOzsmBKS8OpnByYTCbMmzdP7bA6hDmViKxWK7KyspzGsrKyYLVaVYoofBQ5s/rQQw/hww8/xKRJk1BXV4c333zT6Xn7/IbHH38cq1evxoEDBxynr6dOnYoXX3wRs2fPxr59+9CnTx8UFhaiubkZTz/9tBLhE1EEu/vOO/HXjz8GAHzROrZz5071AgoB5lQiMhqNKCkpQVVVFaqrq/H888+jpKRE7bDCQpFi9fPPP4dOp8OHH36IDz/80O15e2LV6XTQ651P9ur1ehQXF+PRRx/F8uXL0dDQgIyMDKxevRqpqalKhE9EEUr68kv8dfNmAMDrAH7bOt7c3KxaTKHAnEpEdqmpqUhNTcUf//hHtUMJG0WK1U8//dSv/VauXImVK1e6jScmJmLFihVYsWJFqENTRF5entohMAbG0PliEAKmq64CABQDuCe876Yo5tRO8P8vY2AMERhDuKi63Gq4VVRUYNSoUSgvL1d98jURKay1hVMFgFFedmFuCAxzKhF5Eu7coOpyq0REYdGzZ8t/+/fHE2YzDAaD09Oul8aJiEi7mLGJKLoMHQrU17c8rq31eMfsddddp0JgREQUDFWWWyUiCoubbwb272953HoTlesdsykpKfjhhx8wapS3yQFERKQlLFaJKDpMnw589lnL46Ymx5xVO/sds0DL/CoiIooMLFaJKKLIV6JytFqaNw94552Wx+fPA5yTSqQqjz+nREFisUpEEcFmsyE/Px+lpaWOMbPZjPeuvRZxr7zSMnD2LMAVmIhU4+3n1Gq1wmg0qhgZRTKefiCiiJCfn4+ysjKnsSs3bULc73/fsnHqFBCmdamJyD+efk7LysqiugdoRHjiCeC119SOImgsVolI8yRJQmlpqdMa9zMBvNjaJvqrHTuAxESVoiMiwPPPKQA0NTWhtLQUVVVVKkXWyc2bB/zmN8BTT6kdSdBYrBKR5tXU1Dht3wpgdevjywBU2mxKh0RELlx/Tl1VV1crFAk5FBYC9mlSBw6oGkpHsFglIs0bMmSI4/FNADa2Pk4D8B2AlJQUFaIiIjn5z6kn/DlVWGkp8Mtftjw+fhyIiVE3ng5gsUpEmmcymWA2mzFXp8NnrWPpAGoMBpjNZt5tTKQB9p9T1xXjDPw5Vd6+fYDF0vL4yy+BPn3UjaeDWKwSUURYN3Mm/tQ6R3UWgD0AsrKyYLVaVY2LiNp4WjGOP6cKO3YMGDas5XFZGXDllerGEwJsXUVE2rdtGxLuugsAUD99Ou6cNQtPsn8jkeZ4WjGOP6cKOncO6Nev5fFrrwG33KJuPCHCYpWItG3fPuCGG1oeZ2cj8e23ka1uRETUDvmKcaQQIdra9z38MPCzn6kbTwixWCUi7Tp4sO1yVloaUFSkbjxE1KkouRJXh9/LvnLfLbcAzz8f2uBUxjmrRKRNNhtw+eUtjw0GYP9+deMhok7DZrPBYrEgLS0NOTk5MJlMsFgsOHnypDbfS6dre+yyKEM0YLFKRNpz9izQu3fb9sWL6sVCRJ2Okitxdfi95IVqc3MII9MOFqtEpC0XLwKXXNK23doBgIhICUquxNXh95IXqqdPO29HERarRKQdQgBduzpvExEpSMmVuDr0Xldc0fZ41y7nL/lRhsUqEWmHXpaSWKgSkQqUXIkr6PdasKBt+dSXXgJGjw5ZTFqkWLF65swZLF68GNnZ2ejduzf0ej1Wr17d/oEAXn/9dej1erc/BoMBx44dC3PkRKQI+eUrFqrtYk4lCg8lV+IK6r2Ki4Hnnmt5/KMfAfPnhywerVKsdVVdXR2WLl2KgQMHYsSIEfjss88COl6n02Hp0qUYNGiQ03jPnj1DFyQRqYOFasCYU4nCx2q1Ii8vD6WlpY6xcK3EFdB7HTwI5OS0bW/aFPJ4tEixYjU5ORlHjhxB3759UV5ejjFjxgT8GhaLBenp6WGIjohU0wnuZA0H5lSi8FFyJS6/3+vChbZ2fkCn+mKvWLHatWtX9O3bt8Ovc/r0acTHx0Ov53RboognL1TPn4/aO1nDgTmVKPyUXImr3ffq1q3tcScqVIEIusFKCIHMzEz06NED8fHxmDx5ckjvyCMihbm2XJF3AaCwY04liiCdfKpURCy3Gh8fj9mzZ+Pmm29Gjx49UF5ejhdeeAHjx49HRUUFBgwYoHaIROSB1+UD4+PbHh8/HtUtV7SIOZUognCqVGQUq9OmTcO0adMc25MmTcKPf/xj3HjjjXj22WdRWFioYnRE5MpmsyE/P9/phgGz2Qyr1QrjTTcBDQ0tg19/DfTpo1KUnRdzKlGEkBeq33/faadKRUSx6sn48eNx3XXXuS1R5klBQQESExOdxvLy8sKybBoReV8+cH9aGq4/frxl4PPPAZc70cPBarW63VVbX18f9veNNMypRBojX3L688+B7t3Vi0VGjZwascUqAFx22WWQJKnd/ZYtW8Y7XokUYl8+0NWLTU1thepnnwHXXKNIncpz6wAAIABJREFUPJ6KqIqKCowaNUqR948kzKlEGjFvHmCztTz+v/9TLF/6Q42cGjE3WHny1Vdf4dJLL1U7DCKS8bR84OMA5rU+rnjiCeCmmxSNifzDnEoUXpIkobi4GFVVVd53ev994JVXWh5PmQLce68ywWmY5orVI0eOoLKyEk1NTY6xuro6t/2KiopQXl6O7OxsJcMjona4Lh84C8BvWh//AkD3e+5ROKLOjTmVKHz8Kj7RMo/fYrEgLS0NOTk5MJlMsFgsOHnypPOOX3/dUqDabdgQhqgjj6LTAF555RWcOnUKhw4dAgBs3LgRBw8eBADcf//96N69Ox5//HGsXr0aBw4cwOWtzW/HjRuHkSNHYvTo0UhMTER5eTlWrlyJgQMH4le/+pWSfwUiaod9+cCysjKYm5qwqnX8WZ0OX/34x4r1LOwMmFOJ1OHzJlKj0W1/b/P48/LyUFJS0jLQ2AgMHty2QydsUeWVUNCgQYOEXq/3+Oebb74RQghxzz33CIPB4NgWQohFixaJ9PR0YTQaRUxMjBg0aJCYN2+eOHbsmM/3Ky8vFwBEeXl5WP9eROTMZrOJX197rRAt6VasBITZbBY2m03t0IQQ0ZMbmFOJ1GE2m4XBYBAAHH8MBoMwm81u+1ZWVjrt5/pHkqSWHVvzpVC2NAuJcOcGnRDRW7rbJ/yWl5fzZgAiJf3978CECQCApm7d8NW//62pM6rMDcHh50bUcuk/LS3N5/PyfFdcXIycnByv+xcVFSFb/nwElmXhzg2am7NKRBGustJRqAKAobFRU4UqEVFHeLqJVM51JTjXefyuIr1QVQKLVSIKnSNHgCuvbNtm4iWiKNNe8ZmSkuK0bZ/HbzAYnMYNBgOcMuSZMyGKMPqwWCWi0Dh9GkhKattmoUpEUchX8Wk2mz1eSbJarcjKynIaOytfOvXLL52XoSYnLFaJqOMuXnReXYWFKhFFMU/FZ1ZWltvKTnZGoxElJSWQJAlFRUWov/12dLPnyTVrnK9IkZuIXsGKiDRACKBrV+dtIqIoZi8+q6qqUF1djZSUFL/m5qempiK1vLytf+rddwMzZoQ52sjHYpWIOkYvu0DDQpWIOpHU1NTAbiCVJMC+VKlOB7z+engCizKcBkBEwdPp2h6zUCUi8q6hAZC3vJLPWSWfWKwSUXBYqBIR+U9+AxVzZkBYrBJR4OSFqmzNeSIi8oBf7juExSoRBUaedM+edZ6zSkREzliodhh/yxCR/+RJt64OiItTLxYiIq2T58xz59SLI8KxGwAR+UeedL/6CujdW71YiIg0SJIk1NTUtLSyMpnanqipAWJi1AsswrFYJaL2yQvVXbuAK65QLxYiohBxKi4DaUHlwmazIT8/H6WlpQCAtQAcr7Z+PTB4cIdj7cw4DYCIfJMXqh99BIwerV4sREQhYLPZYLFYkJaWhpycHJhMJlgsFpw8eTKo18vPz0dZWRkA4B4Aua3jf73sMuD220MSc2fGYpWIvBs2rO3xa68BOTnqxUJEFCLy4tKurKwMefaG/QGQJAmlpaVoamrC1QBWto6fBHDrwYOoqqrqcLydHYtVok5KkiQUFxc7EqnrNqZOBfbta3m8cCHws5+pFCkRUejIi0u5pqYmlJaWBlxc1tTUAAASAfxbNt6r9b/V1dXBB0sAOGeVqNNxnVsFAL1798aJEycc22sHDULugQMtG3feCTzzjMJREhGFh7249Ka6ujqg+atDhgwBAJySjckmTyElJSWA6MgTFqtEnYyny1/yQvXnQFuhmp4OWK3KBUdEFGb24tKbQItLk8kEefdUe6FqMBiQlZXVoRu3qAWnARB1It4uf9ndCuCPrY8bAVS9/bZSoRERKcJkMsFsNsNgMDiNGwwGmM3mwItL2U2o8jOqWVlZsPLLfkiwWCXqRHxd/soAsFG2HQvOtSKi6GS1WpGVleU0FlRx6dL0X5IkFBUVQZIklJSUwGg0hiBa4jQAok7E2+WvwQB2yrbt6ZdzrYgoGhmNRpSUlKCqqgrV1dXB9VmVF6qVlUBMDFJTU3nZPwwUO7N65swZLF68GNnZ2ejduzf0ej1Wr17t9/H19fWYO3cu+vbti4SEBEycOBF79uwJY8RE0cfT5a8+AOTnW3XowOUwUgxzKmmVW2cRDUtNTUV2dnbHCtV58wD5alUUcooVq3V1dVi6dCn279+PESNGQCf/h26HEAI5OTl4++23cf/99+O5557D8ePHkZmZ2e5dfUTkTH75Kw7Acdlz9p9KzrXSPuZU0ppQN9rXrOHDnbeXL1cnjk5EsWkAycnJOHLkCPr27Yvy8nKMGTPG72PfffddbN++HevXr8eUKVMAANOmTYPJZMLixYuxZs2acIVNFHUcl7/270fq0KGO8SpJQlGwl8NIccyppDW+Gu2XlJSoFFWI/fnPwL9l3VSF8L4vhYxixWrXrl3Rt2/foI5dv349+vfv70iqANCnTx/k5ubizTffxIULF9C1a9dQhUoU/YRwKlQhBFIBFqkRhDmVtMTeacSVvNF+xOeXb791XhyFhapiIqIbwJ49e5Cenu42npGRgbNnz0KSJBWiIoo89rlk0Mt+9JlwOx3mVAo1fxrtRzQhgIEDnbdJMRFRrNbW1iIpKclt3D52+PBhpUMiiijyuWTZOTmO8ZM2m4pRkVqYUynUQt1oX3P4BV9VEVGsNjQ0ICYmxm08NjYWQgg0NDSoEBVR5LDPJZOn2C56PfLy8lSLidTDnEqhFvJG+1oiv3mRhaoqIqLPalxcHBobG93Gz507B51Oh7i4OJ/HFxQUIDEx0WksLy+Pv6ipU7DPJZOn2K4Ampqbo2cumQ9Wq9Wts0F9fb1K0WgDcyqFg9VqRV5entPc1YjvLCIvVD38zHRGauTUiChWk5KSUFtb6zZuH0tOTvZ5/LJlyzzOzyLqDGpqapwK1UQAF2Xb1dXVUV2seiqiKioqMGrUKJUiUh9zKoVDSBrta4m8UK2oALp1Uy8WDVEjp0ZEsTpixAhs27bNbXzHjh2Ij4+Hic14ibySz1EdBOB7l+cjfi4ZBYw5lcIpKlZxkheqBQXAyJHqxULam7N65MgRVFZWoqmpyTE2depUHD16FBs2bHCM1dXVYd26dZg0aRJbrBB5I0u44/R6fCN7KirmklG7mFOJAuS6wMYf/qBOHOSg6JnVV155BadOncKhQ4cAABs3bsTBgwcBAPfffz+6d++Oxx9/HKtXr8aBAwdw+eWXA2hJrC+++CJmz56Nffv2oU+fPigsLERzczOefvppJf8KRJFDlnBP/+Uv6LF2LRBNc8mIOZUo1J56ynmbN1RpgqLF6vPPP49vv/0WAKDT6fDee+/hvffeAwDMnDkT3bt3h06ng17vfMJXr9ejuLgYjz76KJYvX46GhgZkZGRg9erVPCtE5In8zMD8+UiYPRsls2dHz1wyAsCcShRS+/YBS5e2bbNQ1QydENH7r2Gf8FteXs6bAajzkBWqDSNH4rNnn2Vx6oK5ITj83ChqNTUBXWTn76K3NAqLcOcGzc1ZJaIOcJlrFb9nD3JycmAymWCxWHDy5EmVAiMi0jAWqprGYpUoWrgUql1cmnOXlZWxDyYRkSs2/dc8FqtEUeDilVc6besAp7u/0bptXwSAiIjgXKheuKBeHCEgSRKKi4ujMsezWCWKdPfeiy6VlY5NnY9dgZZFAIiI1KKZokpeqO7d6zwVIILYbDZYLBakpaVF7bQvFqtEEcQtyb/8MvCXvzieb69QBbgIABGpQ1NFlbxQfeQR4NprlY8hRPLz81FWVuY0Fm3TvlisEkUAT0n+V2PGAPPnO/Zpr1DlIgBEpCbNFFWuTf+fe07Z9w8hSZJQWloa9dO+WKwSRQDXJJ8K4De7dzu2/TmjykUAiEgtmimq5s1z3o7wG6pqamp8Ph8t075YrBJpnGuS7wlAkj1fJUkwm80wuNz9bzAYMGHCBBQVFUGSJJSUlMBoNCoXOBFRK00UVbt2Aa+80rYd4YUqAAwZMsTn89Ey7YvFKpHGyZO8AYB8dpcOLUnearUiKyvL6bisrCxs3LgR2dnZvPRPRKpSvag6fx7IyGjbjoJCFQBMJpPXkxXRNO2LxSqRxsmT/EXZuP3Sf0pKCoxGI0pKSiBJEs+kEpEmyG8IVb2oiolpexwlhaqdt5MV0TTtKzL7NBB1IvYkX1Ja6hjToSXJZ2VlOSX51NTUqPkmTUSRyWazIT8/H6WynGU2m/HHP/4R9913n9O4IkVVlDf9t5+sqKqqQnV1dVQur81ilSgCuBaqQPR9cyai6ODtrv/77rtP+aJKXqi63NwVbaL5ZAWLVSKtkyXbqspKFNXUROU3ZyKKfPYbQl3J7/pXrKiSF6r79wN6znyMVCxWibRMnmzPnEFqfDxSTSb14iEi8sGfu/4VL1SfeQZISwv/e1LY8GsGkVbJk+133wHx8erFQkTkB9Xv+gfcm/4vXBj+96SwYrFKpEXyZLtzJzBggHqxEBH5SfW7/mfOdN6OwhuqOiMWq0RaIy9U33rLuTcgEZHGqdZKqaQEWLOmbZuFatTgnFUiLZEXqgsXAkqvmU1E1EHBtlKSJAk1wd5AeuYMkJ3dts1CNaqwWCXSCnmhmpXVclMAEVGE8veuf299Wa1Wq/8LmyQktD1moRp1OA2ASAvkhWq3bpBeecWx8gsRUTTz1pc1z98rS1He9J9YrBKpz+XOVcvNNyMtLQ05OTkwmUywWCw4efKkSsEREYWPvS9rk0vDfnlfVp/k+bO5OQwRkhYoVqyeP38ejz32GAYMGID4+HiMHTvW7ZuUJ6+//jr0er3bH4PBgGPHjikQOVEYuRaqZnPHzjBQp8GcSkqTJCnkV3z86cvqlTx/Vle7t6yiqKHYnNVZs2Zhw4YNKCgoQEpKClatWoWcnBx89tlnGDdunM9jdTodli5dikGDBjmN9+zZM4wRE4XZ9dc7bUqVlSj10LjadeUXIoA5lZQTkjmlXgTdl1VemD78MNDO61BkU6RY/ec//4m1a9fihRdeQEFBAQBg5syZGDZsGBYsWIBt27a1+xoWiwXp6enhDpVIGQUFwI4dbdtCoKa42Ochiq38QprHnEpK8jWntKSkpEOvbe/LWlZW5jQVwGAwICsry3POcz2D+vzzHYqBtE+RaQDr1q1Dly5dMGfOHMdYTEwM7r33Xmzfvh2HDh3y63VOnz6NZs5JoQgmSRL+VVAAvPhi22DrDQGaWPmFIgJzKgUr0Ev5HZ5T6gd/+7JKkoRG1zO5vKGqU1CkWN27dy9MJhMS5K0lAGS0Njvfu3evz+OFEMjMzESPHj0QHx+PyZMn+57HQqQB8l8KNpsNFosFP01Lw3BZoXrSZnM8Vn3lF4oYzKkUKHsOCvTmzQ7NKfWTvS+rJEkoKiqCJEkoKSlxTDGwx/5MWhpiTp1yHCfPnxTdFJkGUFtbi6SkJLfxpKQkCCFw+PBhr8fGx8dj9uzZuPnmm9GjRw+Ul5fjhRdewPjx41FRUYEBXIaSNMbT/K7evXsj8eRJyNN+F4MBWS6X0axWK/Ly8pyOVWTlF4oozKkUqGAv5St5xcdbX9b8/Hzs3rwZdbIxT/mTopcixWpDQwNiYmLcxmNjYx3PezNt2jRMmzbNsT1p0iT8+Mc/xo033ohnn30WhYWFoQ+YqAM8/VK4cOKEU6GqAwAPN04Fu/ILdS7MqRQI+6V8V/7cvBnUnNIQsscuv9jvLX9S9FKkWI2Li0NjY6Pb+Llz5xzPB2L8+PG47rrr/GrTAgAFBQVITEx0GsvLy2M7IAo5T78U9ADqZduuzVU83Tjl78ov1D6r1ep2Zrq+vt7L3pGBOZUC4c+lfF/5Rs0rPjU1Ne6FqgxvPFWeGjlVkWI1KSnJ42Wp2tpaAEBycnLAr3nZZZdBkiS/9l22bBnveiVFePqlIL8twVMXQN44FV6eiqiKigqMGjVKpYg6jjmVAtHRS/lqXvHJzslxPNZ6/pQkCTU1NVF/RUyNnKrIDVYjRoyAJEk4ffq00/iOHTug0+kwYsSIgF/zq6++wqWXXhqqEIkC5umuWtdfCr7OCOh0Ot44RUFhTqVAhOrmzdTUVGRnZyuXs2Qtqq7QO5crWrrxNNib18h/ihSrU6dOxcWLF7FixQrH2Pnz57Fq1SqMHTvWMaH/yJEjqKysdJoXU1dX5/Z6RUVFKC8vR3Z2dviDJ3LhKzHJfyn4KlSBljuyn3nmGaXCpijCnEqB8rc9lGbICtWGRYuQ9qMfOT2tpdh93bxGISIUkpubK7p16yYWLFggVqxYIcaNGye6desmtm3b5thn1qxZQqfTiW+++cYxlpqaKnJzc8Xvf/978ac//UnMnTtXdO3aVQwaNEgcO3bM53uWl5cLAKK8vDxsfy/qfMxmszAYDAItJ04FAGEwGITZbBZCCGGz2YRo6f4nBCD0sv1c/6Snp7fsT4qKhtzAnErBkCRJFBUVCUmS1A7FO1n+FLIyRYuxV1ZWes3vADQVaziFOzcottzqG2+8gUWLFmHNmjU4efIkrrnmGnz00UcYP368Yx+dTge9y6n+O++8Ex999BE2b96Ms2fPIikpCf/zP/+Dp556ipesSHF+3VVrMjnGV734IpoffNDr633++echWQWGOh/m1MihpbmMmr9503V1KlnTfy3G3tGb18hPYSmBNYJnASjUioqKfH6Ldjob0PqN2mw2C71ez2/fGsLcEBx+boE5ceKEMJvNTj/rZrOZV1O8WbLE4xlVLeOZ1Rbhzg2KzFkliha+7qqVz1F9YtQonOzTB0DLXLH2bnjh6kFE0YdzGQNw8CCweHHbdgQto5qenu52BUNLN4BFAxarRAHwdletPK0+BOD3e/c6fiEZjcZ2bwTQUvsVIuo4+5Qh+c1tgPOUIZK5/PK2xxFQqMpvtK2oqEBzc7PT81q6ASwasFglCpDrXbXytPoWgGVw/4UUqtYxRBQZ/JnLSK3k81QjoFAFPJ81NxgMSE9PhyRJKCkpgdFoVCm66MNilShARqMRb731Fm644QanQrUWwAyXfeW/kCKudQwRBa2jjfg7jQgsVH2dNa+oqFApqujGYpWoHZ6a/+fn52PL1q1O+3laM0j+C8m+CowkSSgqKuK3b6IoFu1XUzzlxYDJC9Xvvut4UAqJxLPmIfn3UhGLVSIvvDX/37VrF0pc2le5Nv339QtJ8VVgiEgV0Xg1JWSrNckL1aeeAloXsogEkXTWPFpW12KxSuSFtzt5x2RkOI15Wp0q0n8hEVHHRePVlJB0OHDtpbpkSQgiU04knTWPlo4ULFaJPPA2J+mky7anQnXTpk0R/wuJiEInWq6mhKTDgY+m/5EkEs6aR1NHCsVWsCKKJJ7mJK0D0F223cVgAGRJwGAwICsrCz9yWcOaiCgadHi1pvx85+0ILVSBtrPmVVVVqK6u1sTqZK6iaXUtnlkl8sB1TtLDAO6Qbe/etUvz36qJiEKpQ3M19+0D5PkxggtVOS2fNY+kubXtYbFK5IF8TlIWgOdlz1nMZowePTrq5qIREfkS9FxNIYBhw5y3KewiaW5te1isEnlhtVoxc9w4bJaNWcxmp7OnWv5WTUQUakHN1ZQvRcpCVVGRMLfWH5yzSuSFsWtXrJT1Uq2SJJSwKCWiTizguZoKN/2XJAk1NTWanEOqhkiYW+sPFqtEnjQ3A91lt1MJgcj78SYiCo/U1NT2ix55oXrsWFjjsdlsyM/PR6msB7a59UoYp2f5+e+lYZwGQOSJfI4PL1sREQVGXqj+9rfApZeG9e2ipZ8oecZilchVBK5VTUSkGa69VB97LKxvF039RMkzFqvUqbmtl8xClYgoeCo0/fennyhFNs5ZpU7J0/wmp5R6/rziMRERRTSLxXlboS/80dRPlDzjmVWKem5nT+E+v8kppdbWAl27KhcgEVGk270bkH35V/LKVDT1EyXPWKxS1LLZbLBYLEhLS0NOTg5MJhMsFgt27drlNL9JnlKvB1D1ww+qxEtEFJGEAMaMcd72wtPJg1CIln6i5BmnAVDU8nZ36PHjxx3b8pT6MwA7EFnrJRMRqc6Ppv/hbi0VLf1EyTPFzqyeP38ejz32GAYMGID4+HiMHTvWrZDwpr6+HnPnzkXfvn2RkJCAiRMnYs+ePWGOmCKZr7tDKyoqADgXqisB/Ln1Mec3USRgTiVN8POmVKVaS3FVweikWLE6a9YsvPjii5g5cyZeeukldOnSBTk5OfjHP/7h8zghBHJycvD222/j/vvvx3PPPYfjx48jMzOz3TsAqXOy2WztJkB5Sj0M4Kdomd80YcIEVFdXs9UJaR5zKqlOXqh+/73X3dhaijpMKGDnzp1Cp9OJP/zhD46xc+fOiZSUFDF+/Hifx65du1bodDqxYcMGx9jx48eF0WgUM2bM8HlseXm5ACDKy8s79hegiGI2m4VerxdoqUnd/giXP/bxnj17Ou1nNpuFzWZT+69DYRDpuYE5lVQnz6N/+YvPXYuKirzmYwCiqKhIoaApXMKdGxQ5s7pu3Tp06dIFc+bMcYzFxMTg3nvvxfbt23Ho0CGvx65fvx79+/fHlClTHGN9+vRBbm4uPvjgA1y4cCGssVNksX+Db25u9vi860WqKknC2rVr0bNnT5w6dcrpuc2bN3P1E9Ik5lRSlWsv1dmzfe7O1lLUUYoUq3v37oXJZEJCQoLTeEZGhuN5b/bs2YP09HS38YyMDJw9exaSJIU2WIpovi5jus2mEgKpqalYvny5W6EKAM3NzbxERZrEnEqqCaLpP1tLUUcpUqzW1tYiKSnJbTwpKQlCCBw+fDioYwH4PJY6H2/f4F3T6UmbDUDLmdht27b5fE2ufkJaw5xKqhg50nk7gF6qbC1FHaFIsdrQ0ICYmBi38djYWMfzwRwrhPB5LHU+nr7Bu6bTLgaD4/K+PzeU8BIVaQ1zKilu61ZAfsY+wKb/9tZSkiShqKgIkiShpKQkJG2rKPop0mc1Li4OjY2NbuPnzp1zPB/MsTqdzuexdgUFBUhMTHQay8vL43zEKGW1WpGXl4fS0lJ84PKcDgBkd6C2N5dqwoQJvEQV4axWq9vZm/r6epWiCQ3mVFJUUxNw441t2x1YnSo1NZU5NcKpkVMVKVaTkpI8Xlqqra0FACQnJ/s81r5foMfaLVu2zOMcLYpO9m/w/8jLw7i333aMu8y0QnV1NbKzs2E2m1FWVubWVqV3797YuHGjAhFTOHkqoioqKjBq1CiVIuo45lRSVBdZqaDgMqqkTWrkVEWmAYwYMQKSJOH06dNO4zt27IBOp8OIESN8Hmtv4u56bHx8PEwmU8jjpSiwdavPQhVou7zvaS7VDTfcgKqqKl6iIk1iTiXF+Nn0nyicFClWp06diosXL2LFihWOsfPnz2PVqlUYO3YsBgwYAAA4cuQIKisrnc5wTZ06FUePHsWGDRscY3V1dVi3bh0mTZqErl27KvFXIA3yusb0wYNOl6y6tHMHqqe5VFu2bGGhSprFnEqKkBeqrVNMiFQRlu6tHuTm5opu3bqJBQsWiBUrVohx48aJbt26iW3btjn2mTVrltDpdOKbb75xjDU1NYnrr79e9OjRQ/z6178WhYWFYtiwYSIxMVFIkuTzPdnAOjqdOHFCmM1mzw38z551alZts9m870udVjTkBuZUCit50/+PPlI7GtK4cOcGReasAsAbb7yBRYsWYc2aNTh58iSuueYafPTRRxg/frxjH51OB73e+WSvXq9HcXExHn30USxfvhwNDQ3IyMjA6tWrOUm7k/K6xvSdd6Jk06a2QSFgBFBSUoKqqipUV1cjJSWF/99QVGBOpbCRn1EdOhTIyVEvFiIAOiGidxKKfcJveXk5bwaIEpIkIS0tzeNzTv8jR+//1hQCzA3B4efWCQTR9J8o3LlBkTmrRKHirS8qC1Uiog4aOtR5m7mUNILFKkUUT31R5em0qrJSuWCIiKJFURGwf3/bthDeb2IlUhiLVYooritUyQvVW7OykMq2O0REgWlsBP77vx2bthMnYLFYkJaWhpycHJhMJlgsFpw8eVLFIKkzY7FKmuHvt3h7X1R5oTrjppuw+p13whsgEVE0al2mFwAghPebWLlCGamExSqpzmazef0W76mANRqNKCktdWwftFrx5mefsS8qEVGgXJr+S5KE0tJStxX9mmTLVBMpTbHWVUTeePoWv3nzZqSmpuLEiROOMbPZDKvVCmOvXm07vvYaLrvzTqVCJSKKHvJC9cIFAN5vYrWrrq5mizNSHItVUpX9W7yr5uZmp0IVaLkM5VSozpkD/Oxn4Q6RiCj6yAvVLVuALi3lgKebWOXsy1QTKYnTAEhV7X2Ll7sovyw1eDAgW2qSiIj8JC9U77gDuOEGx6brTax2rstUEymJxSqpqr1v8XZu3f4CKHKJiKiVS9P/4nvvdZuHar+JVS4rKwtWqzXs4RF5wmKVVOXtW7yca6FaJUnhDYqIKBq5NP3XAR5bUxmNRpSUlECSJBQVFUGSJJSUlCh6Eyt7vJIci1VSnadv8b1794bBYHArVC28DEVEFLj33nNq+t/F5QSBp9ZUqampyM7OVjTn+uoOQ50Xi1VSnadv8VVVVTjX3Oy0n6W1GwAREQXgzBng9tsdmzpAs62p2OOVPGE3ANKM1NTUtm/wZrPTutRVkoQSnlElIgpcQoLjYXFREZCT43VXNVtTeesOIy+keWWtc+KZVdKep58GNm1q2xaCCYqIKBguTf+13JrKnx6v1DmxWCVt2bABWLKkbVu49QEgIiJ/yAvV1mlVWm5NpeVCmtTFYpW04/PPW3r+2bFQJSIKjrxQ/eILp22ttqbSciFN6mKxStpw4gQwYkTbNgtVIqLgyArT+unTgeHDnZ7WQmsqb7RaSJO6eIMVKUaSJNTU1CAlJcX5G/KFC0CfPm3bLFSJiILj0vS/59q1MJ86BavV6lY86CEVAAAgAElEQVSMOt3UqhH2QrqqqgrV1dXuvy+oU+KZVQq7dvvmdevWtjMLVSKi4Fx1ldOmvWyNxNZPavR4Je1isUph57NvnsudqkREFIR164Avv3Rsys+vaqWHKlGwFCtW6+vrMXfuXPTt2xcJCQmYOHEi9uzZ49exS5YsgV6vd/sTHx8f5qipo+x98zw1oC6R99NjoUoUEOZUcqivB6ZNc2zqvOzG1k8UqRSZsyqEQE5ODv71r39hwYIF6N27NwoLC5GZmYmKiop221UAgE6nw6uvvopLLrnEMeZrPXnSBm9985xKU5eVqojIN+ZUctKzp+Oht0IVYOsnilyKFKvvvvsutm/fjvXr12PKlCkAgGnTpsFkMmHx4sVYs2aNX69zxx13oFevXuEMlULM0y9NeaFa/cUXSNH5Sq9E5Io5lRxcplKZLRaUlZU5Xc0yGAzIysri/E+KWIpMA1i/fj369+/vSKoA0KdPH+Tm5uKDDz7AhQsX/Hqd5uZm/PDDD+EKk8LAtW+evFCdcdNNSHFpqUJE7WNOJQAem/6z9RNFI0WK1T179iA9Pd1tPCMjA2fPnoUkSe2+hhACgwcPRmJiIrp3746ZM2fi2LFj4QiXgiRJEoqLi90m8duTp7xQfeC66/Dye+8pGyBRlGBOJadC9bvvHNta7qFKFCxFpgHU1tbipptuchtPSkoCABw+fBhXX3211+ONRiPmz5+P66+/HjExMdi6dStefvll7Nq1C7t370ZCQkLYYqf22Ww2TJ48Gdu2bXOMmc1mR18/o9HodDPVkeeew/975BE1QiWKCsypnZy8UH35ZWDAALddtNhDlShYARerQgicP3/er31jYmIAAA0NDY7HcrGxsRBCoKGhwefr3H///U7bU6ZMwZgxYzBjxgwUFhZiwYIFfkZPoWaz2WAymXDixAmn8c2bNyMvLw8lJSXOifV3v0N/FqpEDsypFBB5Pu3dG/jlL9WLhUghAU8D2LJlC+Li4tr9Ex8f77gUFRcXh8bGRrfXOnfuHHQ6HeLi4gIOPC8vD/3793fr30nKmjx5sluhCrTMhSstLXVOrHfeCfCXIJET5lTy28iRztt1derEQaSwgM+sXnnllVi1apVf+9ovSSUlJaG2ttbteftYcnJyoGEAAC677DLYbLZ29ysoKEBiYqLTWF5eXsSt6KE1kiQ5Xfp35dSeauBAgBP8SQVWq9Xt5pL6+nqVonHHnEpel6KWe/ttYO/etm32piaVqJJThQKmTZsmkpKS3MbnzJkjEhISxPnz54N63b59+wqLxeL1+fLycgFAlJeXB/X65FtRUZFAS03q9ke4/iHSkEjPDcyp0eHEiRPCbDY75U6z2SxsNpvrjsynpGnhzg2KdAOYOnUqjh49ig0bNjjG6urqsG7dOkyaNAldu3Z1jB88eBCVlZVOx9d5uNRRWFiI48ePIzs7O3yBk0/eGo+7zZbjGQCikGJOjQ4+l6KW69277THzKXVCinQDmDp1Kl588UXMnj0b+/btQ58+fVBYWIjm5mY8/fTTTvvOnDkTW7ZsQbNsVaOBAwdi+vTpGD58OGJjY7F161asXbsW6enpmDt3rhJ/BfLAZDIhPT0dFRUVjrHNAGJl+xQXFYG/+ohCizk18tmXonbV1NSE0tJSVFVVtUwJcGn6T9QZKVKs6vV6FBcX49FHH8Xy5cvR0NCAjIwMrF692m1+jk6ng17vfML3rrvuwj/+8Q9s2LAB586dw8CBA/H444/jiSeeQGxsLEg9r776KjIyMgAA/wdA3opaB0Di8n5EIcecGvm8LUVtV11djVSTqW2AhSp1YjohovcnoKKiAqNGjUJ5ebnHBtoUGhaLBf02bcLrsv+VurQu71dSUqJiZESeMTcEh59b6EiShLS0NK/PO/1iPnYMuPTSsMdEFKxw5wZF5qxSdHvnwQedClUduLwfEZEvrktR2xkMBudC9Y03WKhSp8dilTrmm2/QQ3ZDRjGX9yMi8ot9KWq5i01NbRtDhwJ33aVwVETao8icVYpSP/wADBrUti0Eb6YiIvKT0WhESUkJqqqqUF1djR/dc0/LJX+7//xHtdiItITFKgXE0bz6iiuQOnRo2xPRO/WZiCisUlNTkfq3vzkXqsypRA4sVskvNpsN+fn5jlYrTmmUSZWIKHi1tcCcOW3bzKlETjhnlfwib14tT6MWs1mdgIiIooV8edwwFaqSJKG4uBhVVVVheX2icGKxSu2yN69uampyKlR1gKN5NRERBSHMTf9tNhssFgvS0tKQk5MDk8kEi8WCkydPhvy9iMKFxSq1y968Wp5G5f/jVFdXKxoPEVFUUGB1Kr+XdCXSMBar1K4hQ4Y4FaqXwLlwTeEqVUREgZEXqqdPh+Ut5FfF5ORLuhJFAhar1C6TbJWV/wJwtvWxwWCA2Wx2W96RiIh8kBeqf/87cMklYXkbf5Z0JYoELFbJN1lSvf+663BI9hRXqSIiCpC8UH3wQWDcuLC91ZAhQ3w+z6tiFClYrJJ38qRaVISXduyAJEko4ipVRESBs1ict5ctC+vb+VrSlVfFKJKwWCXP5IXq8uVA65KqqampyM7OZpIjIgrEu+8CrX2qASjWS9XTkq68KkaRhosCkDt5oXrffcC8eerFQkQU6Y4cAXJz27YVbPrvuqRrSkoKTzZQxGGxSs7kherYsUBhoXqxEBFFOiGApCTnbRWkpqaySKWIxWkA1CYmpu2xXg9s365eLERE0UAv+zXLZVSJgsJilVrccANw/nzbtktfPiIiCpACTf+JOgMWqwT89rfAtm1t20yqREQdIy9Uz51TLw6iKMBitZP7YdUq4Fe/cmzrALd1oyVJQnFxMVc7ISLyh7xQ/eIL5ylWRBQwFqud2fbt6D57tmPTnl7t60bbbDZYLBakpaUhJycHJpPJrZAlIiIZeaH6+98Dw4erFwtRlGCx2lnV1DitnCJLr451oydPnoyysjKnw+yFLBERuXC5277qtttUCoQouihSrB45cgSPP/44Jk6ciB49ekCv12PLli0Bvcbhw4eRm5sLo9GIxMRE3Hbbbfj666/DFHGUs9kA2TJ7Oi+7bdu2DU0uN1rZC1lOCSBSD3OqBr31FlBd7djUAbwaRRQiihSrlZWVeO6553D48GFcc8010Om8lUeenTlzBpmZmdi6dSuefPJJ/PrXv8aePXuQmZnJJBCoxkagd2/HZmD/Em2qZUmZiJTFnKoxhw4BM2Y4NuX/GrwaRdRxihSro0ePxokTJ7B//34UFBQEfPwrr7yCmpoafPTRR3j44YfxwAMPYNOmTTh8+DBeeOGFMEQcpYQAYmOdtr2tGz1hwgSfL5UiOzNLRMpiTtWQ5mbgv/7Lsen6tYFXo4g6TpFi9ZJLLkHPnj2DPn79+vUYM2YM0tPTHWNpaWm45ZZb8M4774QixM7BQ3Nqb+tGb9y40WshazabuRIKkYqYUzVEliN9nd/m1Sii4Gn+BishBL744guMHj3a7bmMjAzU1NTgzJkzKkQWYbw0p7avGy1JEoqKiiBJEkpKSmA0Gr0WslarVamoiSjEmFNDSJZXpcpKn7vyahRR8LqoHUB7bDYbGhsbkSRfW7mVfezw4cM80+eLH6uoeFo32l7IVlVVobq6GikpKfyciSIcc2qIyPPqhQswdekCs9mMsrIypxtTDQYDsrKy+HkSdUDAxaoQAufly3L6EBOCRsgNDQ1eXyu2df6lfR/yQJ5Qg1xC1VMhS0ShwZwageR5tbIS6NLyq9RqtSIvLw+lpaWOp3k1iqjjAi5Wt2zZgptvvrnd/XQ6Hb788kuYTKagArOLi4sDADQ2Nro9d651CTv7PuRCnlDPnHGes0pEmsCcGmHkebWwEJD9e/BqFFF4BFysXnnllVi1apVf+3q6zBSoXr16ISYmBrW1tW7P2ceSk5N9vkZBQQESExOdxvLy8qK7nYg8oR49CsTHqxcLkYqsVqvbma36+nqVonHHnBpBxo9ve3zttcB993ncjVejKJqpkVMDLlb79euHu+++OxyxeKTT6TB8+HDs3r3b7bmdO3di8ODBuOSSS3y+xrJly5zueo168kL1P/8B+vZVLxYilXkqoioqKjBq1CiVInLGnBoh/vxn4B//aNveu1e9WIhUpEZO1dx14YMHD6LS5a7KqVOnYteuXaioqHCMVVZW4pNPPkFubq7SIWqbvFD99FNg6FD1YiEi1TGnhsDXXwM/+1nbtpcbVYkoPBTrBvDMM89Ap9Nh3759EEJg9erV2Lp1KwBg4cKFjv1mzpyJLVu2oLm52TH2i1/8Aq+99hpycnLwyCOPoEuXLli2bBmSkpLw0EMPKfVX0D55ofr660BmpmqhEFF4MacqpKkJGDy4bZuFKpHiFCtWn3rqKceSgDqdDitXrnQ8lidWnU4HvcuNQAkJCfjb3/6GgoICPPvss2hubsbNN9+MP/zhD+gtWzq0U5MXqosXAwpeViQi5TGnKqSL7NdkmApVSZJQU1PDG7KIvFCsWJV/q/fl008/9TienJyMtWvXhjKk6NGrV9vj3Fzg6adVC4WIlMGcqgA/elR3hM1mQ35+vlOrK7PZDKvVCqPRGPL3I4pUmpuzSgG65Rbg5MmWx1deCfCXDxFRx8kL1YsXw/IW+fn5KCsrcxorKyuL/q4KRAFisRrJ5s8HPvmkbfvLL9WLhYgoWsgL1QMHAIMh5G8hSRJKS0udVrsCgKamJpSWlqKqqirk70kUqVisRqrly4GXX27b5qR/IqKOkxeqq1YBAweG5W1qamp8Pl9dXR2W9yWKRCxWI9GHHwL339+2zUKViKjjrrqq7fFNNwGzZoXtrYYMGeLz+ZSUlLC9N1GkYbEaacrLgUmT2rZZqBIRddzy5c5TqT77LKxvZzKZYDabYXCZYmAwGGA2m9kVgEiGxWok+fZbYPTotm0WqkREHbd/vypXq6xWK7KyspzGsrKy3JayJOrsFGtdRR1UX+88d4qFKhFRx1244LzSn4K51Wg0oqSkBFVVVaiurmafVSIvWKyqzK9m0BcuAD17tm2zUCUiCo1u3doeq5RbU1NTWaQS+cBpACqx2WywWCxIS0tDTk4OTCYTLBYLTtp7ptoJoYlkSkQUdcLc9J+IQoPFqkr8aQZts9kA2TKJOsBzQUtERIGRF6p+rgZGROpgsaoCf5tB95Kt0W1Pq1zdhIiog+SF6uHDzttEpDksVlXgVzNoWfKUp1GubkJE1AHywnTdOiApSb1YiMgvLFZV0F4z6OycHMdjb4v8cXUTIqIAJSe3PZ48GbjjDvViISK/sVhVga9m0PIp/gkAvM2k4uomREQB+N//BWpr27bff1+9WIgoICxWVeKpGfRF+RzWQ4cwgaubEBF13OefAwsXtm3zzn+iiMJiVSX2ZtCSJKGoqMjpjCq++AJITubqJkREHXXuHDBiRNs2C1WiiMNFAVSWmpqKVJOpbaCkBBg+HABXNyEi6rC4uLbHLFSJIhKLVbV1kf0TfPghYDa77cLVTYiIgsCm/0RRgdMAFCRJEoqLi9vaTo0YAbTOUz26ZAmKDQa2pCIiCgU2/SeKGjyzqgCbzYb8/HyUlpY6xv7Wrx9uPHoUALD2iitw5+LFjufMZjOsViuMRqPisRIRRTx5oXr8OJv+E0U4nllVgOvSqs8CjkJ1S79+mPHtt077c5UqIqIgyQvTjz4C+vRRLxYiCglFitUjR47g8ccfx8SJE9GjRw/o9Xps2bLF7+OXLFkCvV7v9ic+Pj6MUYeG69KqcwA80frcXgA3HT3a7rKrRERynTmn+nT99W2PZ84EZAusEFHkUmQaQGVlJZ577jmkpqbimmuuwfbt2wN+DZ1Oh1dffRWXXHKJY8y1B6kWyZdWTQewovXxRQAj2zm2urqaN1YRkZvOnFO9evllYMeOlscDBgCrV6sbDxGFjCJnVkePHo0TJ05g//79KCgoCPp17rjjDuTn5zv+TJ8+PYRRhod9aVUjgPLWsf0AuvpxLFepIrXV19dj7ty56Nu3LxISEjBx4kTs2bPH7+MPHz6M3NxcGI1GJCYm4rbbbsPXX38dxog7h86cUz3617+A+fPbtr/7Tr1YiHxgTg2OImdW5d/cO6K5uRk//PADunfvHpLXU4LJZMLkW27B+x9/DACoBTAULWcw7A3/y8rKnKYC2J/jWVVSkxACOTk5+Ne//oUFCxagd+/eKCwsRGZmJioqKhxfxLw5c+YMMjMz8cMPP+DJJ59Ely5d8Ic//AGZmZnYu3cvbyDsgM6cU900NADXXNO2rWKLKkmSUFNTw57Y5BFzagcIha1bt07o9Xrxt7/9ze9jnn76aaHT6UT37t2FTqcTCQkJ4q677hJHjx71eVx5ebkAIMrLyzsadvDOnROiJX2K3wACrX/MZrOw2WzCZrMJs9nsGJc/R6SmtWvXCp1OJzZs2OAYO378uDAajWLGjBntHv+73/1O6PV6p5+//fv3iy5duoiFCxeGJWZ/aSI3hEiny6muWvOrUP7XmcOJEyeYx6ldzKnBi4huAEajEfPnz8eKFSuwfv16zJkzB2vXrsWNN96I06dPqx2edxcvArGxLY9/+lPcIUlYsWIFXnvtNSxfvhxGo9Ft2VVJklBSUhLd35DIq6effhp6vR6VlZXIzc1FYmIi+vTpgwcffBCNjY2KxrJ+/Xr0798fU6ZMcYz16dMHubm5+OCDD3DhwoV2jx8zZgzS09MdY2lpabjlllvwzjvvhC1ual/E5lRXGmn679rxBWBXF61gTo0OAU8DEELg/Pnzfu0bExMTcECe3H///U7bU6ZMwZgxYzBjxgwUFhZiwYIFIXmfkBIC6No6M/XWW2F77jnMd+m1Ku+nylWqCGi56QUAcnNzccUVV+C3v/0tduzYgZdeegmnTp3CqlWrfB7f0NCAs2fPtvs+BoMBPXv29LnPnj17nJKiXUZGBl577TVIkoSrr77a47FCCHzxxRe49957PR6/efNmnDlzJmSXsyMZc2qQNFKo2ju+uJJ3dWFuVw9zanQI+Mzqli1bEBcX1+6f+Ph4SJIUjpgBAHl5eejfv7/bt1lNEALQt360GRnAxo385k0BGTJkCN5//33cd999eP311/GLX/wCb7zxBv7973/7PO73v/89Lr300nb/eEqYrmpra5GUlOQ2bh87fPiw12NtNhsaGxuDPr4zYU4NgrxQ/eEH9eKAc8cXT6qrqxWKhHxhTo1sAZ9ZvfLKK9v9JmLn6UMNpcsuuww2m63d/QoKCpCYmOg0lpeXF75CMSGh5b+XXw7s3Mlv3hQQnU6HX/7yl05j8+fPR2FhIYqKijBs2DCvx86aNQs33HBDu+8RFxfX7j4NDQ0ez+TFxsZCCIGGhgafxwKezwTGtk6N8XV8KFmtVlitVqex+vp6Rd7bH8ypAZIXqrt3t+VblbR3Uwy7uqiPOTW01MipARer/fr1w9133x2OWAJ24MABv77NLFu2zK/9QmLIEODsWaBLF+CbbwD4982bxSrJuf6CGzJkCPR6PQ4cOODzuEGDBmHQoEEhiSEuLs7jnK5z585Bp9P5TM7257wdL98n3DwVURUVFRg1apQi798e5tQAXHVV2+Pf/Q7QwL+hyWSC2WxmVxeNY04NHTVyqiKtqwJx8OBBnD17FmlpaY6xuro69HFZMq+wsBDHjx9Hdna20iF6N2EC8NVXLY9lc9D4zZs6Sufn2uZnzpzx6wYZg8Hg9jPlKikpCbW1tW7j9rHk5GSvx/bq1QsxMTFBH0+hE9E5Ve63vwW+/LLl8dVXAxqaV2u1WpGXl+d0BS0rK8vt7BNpB3NqZFGsWH3mmWeg0+mwb98+CCGwevVqbN26FQCwcOFCx34zZ87Eli1b0Nzc7BgbOHAgpk+fjuHDhyM2NhZbt27F2rVrkZ6ejrlz5yr1V/DtjjuAv/+95XFTk9OlKn7zpkBVVVVh4MCBju3q6mo0Nze3+w3/+eefx5IlS9p9/UGDBuEr+xcrL0aMGIFt27a5je/YsQPx8fEwmUxej9XpdBg+fDh2797t9tzOnTsxePDgqL0R4P+3d+9BUZ33G8Cfs+APuQRc8G6NeMW2xgLxlmLiaqaitgXicDE1RhOGJH/YJjZGE42NGvOH40Q6WreJnano2LFYoKkdTaeNlCyMl8jFJuPI4jVluClBlAUEhPf3x3aXXXdhb2d3D8vzmdnJ2bPn7Hn2K/nOy3LOe3wl4HuqpfJy4L33+p87OM/Q10yzuly7dg3Xr1/nPKsKxJ46tPlssPqb3/zG/JuMJEk4cuSIedmysUqSBJXK+rqvl156CefOnUNRUREePnyIKVOm4N1338W2bdvM52r41euvA0VFxuWenv6LqyzwN29ylhAChw4dMt80AgAOHDgASZIcfusl5/lV6enpKCwsRFFREVavXg3A+I1cQUEBUlJSMGJE/33Y7H17l56ejvfeew+VlZXmPxnr9XoUFxcPjavNFS6ge6qltjZg/vz+53688t8RzuqiTOypAcArs7cqhE8msN62rX9C6s5Oh5vX1NSIM2fOiJqaGu9loiHLNFn7j370I5GSkiK0Wq146aWXhCRJYt26dT7N0tvbK5555hkRGRkpdu/eLbRarZgzZ46Iioqy+fldsmSJkCTJal1bW5uYMWOGGDdunNi3b5/Izc0VTz75pJg8ebJobm725UexocjJ7YcAv9RNpkn/9Xo9e+8wxJ7qG97uDRyseuLjj/ub6IMH3jkGDSs7d+4UKpVKVFdXi4yMDBEVFSViYmLEm2++Kbq6unyep7W1VeTk5IgxY8aIiIgIsWzZMlFZWWmznUajEUFBQTbr6+rqRGZmphg1apSIjIwUqamp4saNG76IPigOVt3j87rJMFDl3aWGN/ZU3/B2b1DcBVZDxpEjwNtvG5fv3gWG8r21SXHGjBmjiDuSREVF4fDhwzh8+PCg2/373/+2u37ixInIz8/3RjQKdDJN+j/YHNf/+Mc/3H5fGlrYU4e2IXG7VcX561+BV181LtfWAg6uACQiIhdYDlSduHvQQExzXFte2ApYz3FNRMrHwaqrzp4F/ndiNPR64Hvf828eIqJAYjlQ/eYbwIO5I3l3KaLAwMGqK776CjBdTVhVBQwyzQQREbnI8pf/3/0OGOTOQs7gHNdEgYGDVWdduQIsXGhcLi0F4uP9m4cC0gcffIDe3l5ER0f7OwqRb+3YAdTVGZefeQZ47PaY7jDNcR0UFGS1PigoCMnJyZxmahhgTw0MHKw64/bt/t/wT5823qmKiIjkUVYG7NnT//zcOdne+sSJE1bzawKBN8d1TU0NPv/8c56DSwGLswE40tgITJ1qXD5xAli1yr95iIgCSWsrYDnpusyT/gfy3aVaWlrwi1/8wupmM8nJyThx4gTUarUfkxHJi4PVwbS2AhMmGJd//3tgzRr/5iEiCiRCAJaDKi/enSoQ7y7FablouOBpAANpb+9voh99BLzxhn/zEBEFGsvbwCr4NqpKxGm5aDjhYNWe7m4gIsK4/OtfA9u2+TcPEVGgkWnS/+GK03LRcMLB6uN6e4GQEOPyyy8DH3/s3zxERIHGcqDa1eW/HEMYp+Wi4YSDVUtCAMH/O413xQrg6FH/5iEiCjSWA9WaGuD//s9/WYYwTstFwwkHq5ZM508lJACff+7fLEREgSY8vH/5j38EOKDyyHCYlosI4GwA/UaNMv53/HigstK/WYiIAs2mTUBHh3F5xQrglVf8mycABPK0XESWOFgFgO9/H7h/37jc0ODfLEREgeaLL4Df/rb/Of9yJatAnJaLyBJPA1i6FKiuNi739fk3CxFRoLl7F/jJT/qf88p/InLR8B6sZmUBJSXG5d5e6xP/iYjIM0IAY8daPycictHwHaxu3AicPGlc7u62npyaiIg8x0n/iUgGw3OEtnMncOiQcbmjAxgxwq9xiIgCDif9JyKZDL/B6oEDwK5dxuXWViA01L95iIgCjeVAtafHfzmIKCD4ZLBaXFyM7OxsxMXFITw8HNOnT0dOTg4aGxudfo/6+npkZmZCrVYjKioKaWlpuHXrlmtBjh0D3nzTuNzUBERFubY/EZECKKan2mM5UL11q/9GK0REbvLJYHXr1q348ssvsXr1ahw8eBAvvvgiTp48icTERNy5c8fh/u3t7dBoNCgtLcX777+P3bt3o6qqChqNBvfu3XMuxKlTwPr1xuVvv7U+6d/LlDBBMzMwAzMEDkX0VHuio/uX8/OB2Fj332sQSvjZYQZmYAYfEj5QWlpqs06n0wlJksSOHTsc7r93716hUqlERUWFeV11dbUIDg4W27dvH3C/iooKAUBUfPqpEMazpoS4etW9D+GBn//85z4/JjMwAzMMzNwbLHrKUOL3nmqvbvv29ffZjAznPoibhvvPLzMwg9IyeLun+uSb1cWLF9use/bZZxEdHY2rV6863L+wsBDz589HYmKieV1cXByef/55nDRd0T+Y1183/re8HJg92+ncRERK5Pee+rhz54B33jEuz53bP9MKEZEM/HaBVXt7OwwGA0aPHj3odkIIfP3115g3b57NawsWLMCNGzfQ3t7u+IAlJcDTT7uZlohI2XzeU02++w5ISup//p//OL8vEZET/DZYzc3NRU9PD9asWTPodi0tLejq6sKECRNsXjOtq6+vH/xg+/cDS5a4nZWISOl82lNN+voAy8Exp6giIi9w+TJNIQS6u7ud2jYkJMTuep1Oh927dyMrKwtLHAwiOzs7B3yvkSNHWm0z0L5Xx44FKiudyuwN9+/fR6Ufj88MzMAM1kx/Kh+od/jSkOypplMNLP9aVVHhsz473H9+mYEZlJbB6z3V1ZNcS0pKhCRJDh8qlUro9Xqb/a9evSpiYmLE008/LQwGg8PjNTc3C0mSxJ49e2xe02q1QqVSiZqaGrv7Hj9+XADggw8++LD7OH78uKstUF3jlbwAAAzWSURBVHbsqXzwwUegPLzVU13+ZnX27NnIy8tzatvH/8xUW1uL5cuXQ61W4/Tp0wgPD3f4HtHR0QgJCUFDQ4PNa6Z1EydOtLtvcnIyjh8/jtjYWIRy8n8i+p/Ozk7cvn0bycnJ/o7CnkpEQ563e6okhG9OMmppaUFSUhLu37+PsrIyTJs2zel9FyxYAJVKhQsXLlitT05Oxs2bN3Ht2jW54xIRKRp7KhENFz65wKqjowMrV65EQ0MDzpw5M2hTra2thV6vt1qXnp6OS5cuWZ2LodfrUVxcjMzMTK/lJiJSIvZUIhpOfPLNalpaGk6dOoXs7GxoNBqr1yIiIpCammp+rtFooNPp0NfXZ15nMBiQkJCAtrY2bN68GcHBwcjNzYUQAlVVVYiJifH2RyAiUgz2VCIaTnwyWJ06dSr++9//2n1typQpuHnzpvn50qVLUVpaikePHlltV19fj02bNuGf//wn+vr6sHTpUuzfv9+lP30REQUC9lQiGk58ds4qEREREZGr/HZTACIiIiIiRwJmsFpcXIzs7GzExcUhPDwc06dPR05ODhobG51+j/r6emRmZkKtViMqKgppaWm4deuW0/s3Njbi3XffxbJlyxAZGQmVSgWdTuf0/rt27YJKpbJ5hIWF+SwD4HkdAOPkxK+99hrGjh2LiIgILFu2DFVVVU7t62oduru7sXXrVkyaNAlhYWFYtGgRvvjiC6/nlCPD0aNH7X7WoKAg3Llzx+njt7e344MPPsDKlSsRExMDlUqFY8eOOb2/HHXwJIMcdSgvL8fGjRsxZ84cREREYMqUKcjKynL6yna5fhYCBXuqPBkA9lT2VPZUT3uqy/OsKtXWrVtx7949ZGRkYObMmbh58yYOHjyI06dP4/Llyxg7duyg+7e3t0Oj0aCtrQ3vv/8+goODsX//fmg0Gly+fBlqtdphBr1ej3379mHmzJmYO3cuzp8/7/LnkCQJn3zyidV8iUFBQU7v72kGOeoghMCqVavwzTffYMuWLYiJiYFWq4VGo0FlZSWmT5/u8D1cqcP69etRVFSETZs2YcaMGcjLy8OqVatQUlKCH//4x17N6WkG02f98MMPERsba7V+1KhRTh+/ubkZH374IaZMmYL4+HiUlJQ4va9cdfAkA+B5Hfbu3Ytz584hIyMDc+fORWNjIw4ePIjExERcvHgRP/jBDwbcV86fhUDBnipPBvZU9lT2VBl6qlduNeAHpaWlNut0Op2QJEns2LHD4f579+4VKpVKVFRUmNdVV1eL4OBgsX37dqcyGAwGce/ePSGEEAUFBUKlUokvv/zSyU8gxM6dO4VKpRLfffed0/vInUGOOuTn5wtJkkRRUZF53d27d4VarRZr1651uL8rdbh48aKQJEns37/fvO7hw4dixowZIikpyas55ciQl5dnU293dHd3i6amJiGEEOXl5UKSJHH06FGn9pWrDp5kkKMO58+fFz09PVbrrl27JkaOHCnWrVs36L5y1SCQsKfKk4E9lT1VCPZUITzrqQFzGsDixYtt1j377LOIjo7uv4/1IAoLCzF//nwkJiaa18XFxeH555/HyZMnncoQHh7u0m9uA+nr60NbW5tb+3qaQY46FBYWYvz48XjhhRfM60aPHo3MzEz87W9/Q09Pj1Pv40wdCgoKEBwcjJycHPO6kJAQZGdn4/z586irq/N6Tk8yWDIYDFbTC7lixIgRDr/pGohcdfAkgyV367Bo0SIEB1v/sWjGjBn44Q9/6LAHyFWDQMKeKk8G9lT2VIA9FfCspwbMYNWe9vZ2GAwGjB49etDthBD4+uuvMW/ePJvXFixYgBs3bqC9vd1bMW2yTJs2DVFRUXjiiSewbt06l86z8fTYctShqqrKqjFbvkdHRwdqamqcyuJMHS5fvoxZs2YhIiLC5lim172Z09MMgPGzajQaREZGIiwsDKmpqbh+/bpTx5aDXHXwlLfq0NTU5LAHKKUGSsee6vqx2VPZU03YU92vQUAPVnNzc9HT04M1a9YMul1LSwu6urps7rsN9N+Lu76+3isZLanVavzyl7/E4cOHUVhYiJycHOTn5+O5556DwWDw+vHlqkNDQ4NH7+FKHQY7lhBi0GN5mlOODGFhYXjllVeg1Wrx2WefYevWrTh79iySkpKc/vbAU3LVwRPeqsPx48dRV1fnsAcooQZDAXuqa9hTXcspRwb2VKNA66mKvMBKCIHu7m6ntg0JCbG7XqfTYffu3cjKysKSJUsGfY/Ozk6b9zJlCAoKghAC9+/fR1dXl0sZXPWrX/3K6nlaWhri4+Oxfv16HDhwAG+//faA+8qRQa46dHZ22s0zcuRICCHMxxnI43V44YUXMH/+fKxduxZarRZbtmyxyjzQsSw/kz2e5pQjQ0ZGBjIyMszPU1JSsHz5cjz33HP46KOPoNVqncrgCbnq4Alv1KG6uhobN25EUlISXn755UG3VUINvIk91Yg91Yg91buU0E8Cracq8ptVnU6H0NBQh4+wsDC7XyVXV1dj9erVmDt3Lv7whz84PF5oaCgAWDUMU4Y33ngDQggsWLDApQxy0Ol02LBhAwBg+/btLtfBVXLVITQ01G7zffjwISRJMh/HFS+++CLGjx9vM3XJYMey/EwDfV45cnqSwZ6kpCQsXLjQ6aliPOWNfy85eFKHpqYm/PSnP4VarcZf/vIXSJI06PZKrYFc2FP7M7CnGrGneo9S+8lQ7qmK/GZ19uzZyMvLc2rbx79mrq2txfLly6FWq3H69GmraToGEh0djZCQEDQ0NNhkKCwsxN///nd8+umnA/6mbe+rbjmYMuzatQt9fX3YtWvXgNvKkUGuOkyYMMHqPUxM6yZOnOhWvsmTJ6OlpcXmmPb+nODMseTK6UmGgUyePNln5zV5699LDu7U4cGDB1ixYgUePHiAsrIyjB8/3uE+Sq6BHNhTrTOwpxqxp3qHkvvJUO2pihysjhs3zuFXzPa0tLRg+fLlePToEUpKSjBu3Din9pMkCU899RTKy8ttMvzpT38yT4bta6YM77zzDhITE92qiSvkqkN8fDzKysps1l+4cAFhYWGYNWuWW/lu375tc8K2ae45g8FgdTL+hQsXIEkS4uPjvZ7TkwwDuXnzJsaMGePyfu7w1r+XHFytQ1dXF372s5/h+vXrOHv2LOLi4pzaT8k1kAN7qnUG9lQj9lTvUHI/Gao9VZGnAbijo6MDK1euRENDA86cOYNp06YNuG1tbS30er3VuvT0dFy6dAmVlZXmdXq9HsXFxcjMzJQ9r70Mzc3NNttptVrcvXsXK1eu9EkGOeqQnp6OpqYmFBUVmdc1NzejoKAAKSkpGDFixKAZXKlDeno6Hj16hMOHD5vXdXd3Iy8vD4sWLcKkSZMAGO9Co9fr0dvb61ZOR5/X3Qz2PuuZM2dQUVHhlX9zb9bBkwxy1KGvrw+ZmZm4ePEiCgoKzFcOO3N8X9dgKGBPlScDeyp7qikXe6r7NZCEEMKlPRQqLS0Np06dQnZ2NjQajdVrERERSE1NNT/XaDTQ6XRW844ZDAYkJCSgra0NmzdvRnBwMHJzcyGEQFVVFWJiYpzKsWfPHkiShCtXruDPf/4zXn31VUydOhWA8RypwTKEh4cjKysLTz31FEaOHInS0lLk5+cjISEBZWVl5pPLvZlBjjr09fVh8eLFuHLlCjZv3ozRo0dDq9WitrYWly5dwsyZM2WtQ1ZWFj777DO89dZb5judlJeXo7i4GElJSQCADRs24NixY7h9+zaefPJJl3M64m6GWbNmISEhAfPmzUNUVBQqKipw5MgRTJo0CV999ZVLvwEfOnQIra2tqKurwyeffILVq1cjISEBgPECiyeeeMLrdXA3gxx1eOutt3DgwAGkpKRYXVhgsnbtWgDe/1kIFOyp8mRgT2VPZU+Voae6fBsBhYqNjRUqlcruY+rUqVbbajQaERQUZPMedXV1IjMzU4waNUpERkaK1NRUcePGDZdySJJkN8Pjx7OX4bXXXhNz5swRUVFRIiQkRMyaNUts27ZNGAwGn2UQQp46tLa2ipycHDFmzBgREREhli1bJiorK222k6MOXV1dYsuWLWLixIkiNDRULFy4UPzrX/+y2mbDhg0iKChIfPvtt27ldMTdDDt27BCJiYlCrVaLkJAQERsbKzZu3Cju3LnjcobB/h8wHdPbdXA3gxx10Gg0Ax5bpVKZt/N2DQIFe6o8GYRgT2VPZU/1tKcGzDerRERERBR4AuacVSIiIiIKPBysEhEREZFicbBKRERERIrFwSoRERERKRYHq0RERESkWBysEhEREZFicbBKRERERIrFwSoRERERKRYHq0RERESkWBysEhEREZFicbBKRERERIrFwSoRERERKdb/A8GntS59uE/KAAAAAElFTkSuQmCC)"
      ]
    },
    {
      "cell_type": "markdown",
      "metadata": {
        "id": "AfytuOXykQ-V"
      },
      "source": [
        "In the first two cases, there is no apparent relationship between x and y and the slope of the regression line appears flat.  (Note that in a) y = 0 no matter what x is).\n",
        "\n",
        "In c) and d) there is clearly a pretty strong relationship between the two variables and the lines have a non-zero slope."
      ]
    },
    {
      "cell_type": "markdown",
      "metadata": {
        "id": "GW0GOOgVk4ik"
      },
      "source": [
        "That leads us back to our original question, **\"Is long bone nitrogen composition statistically significanctly associated with interrment time?\"**"
      ]
    },
    {
      "cell_type": "markdown",
      "metadata": {
        "id": "UIqgn0THlinM"
      },
      "source": [
        "The null hypothesis is that they are unrelated and the slope is = 0.  The alternative hypothesis is that they are related and the slope is not equal to 0.  In symbolic notation:\n",
        "\n",
        "Ho: $\\beta_1$ = 0\n",
        "\n",
        "Ha: $\\beta_1 \\neq$ 0"
      ]
    },
    {
      "cell_type": "markdown",
      "metadata": {
        "id": "3JCPzn9EmEl7"
      },
      "source": [
        "The model we fit yesterday will do a lot more than just print the model parameters!  "
      ]
    },
    {
      "cell_type": "code",
      "metadata": {
        "id": "sVZOz0j8xLb4"
      },
      "source": [
        ""
      ],
      "execution_count": null,
      "outputs": []
    },
    {
      "cell_type": "markdown",
      "metadata": {
        "id": "4eJsXuRLxKrz"
      },
      "source": [
        "Right now we just want to look at the middle part of the table where we see the headings coef, std error, t, etc."
      ]
    },
    {
      "cell_type": "markdown",
      "metadata": {
        "id": "9VLKDiESxJSR"
      },
      "source": [
        "We should recognize the values under coef from yesterday. These are the model coefficients that we included in our linear regression model:\n",
        "\n",
        "$\\hat{Y} = 316.8 - 69.24 X$"
      ]
    },
    {
      "cell_type": "markdown",
      "metadata": {
        "id": "jXvMYjhBoWWy"
      },
      "source": [
        "First off, now that we've written the linear model, we can pretty much ignore the row for the intercept term.  In 99.99% of cases we don't do inference on the intercept.  It's only there to make the math work out.\n",
        "\n"
      ]
    },
    {
      "cell_type": "markdown",
      "metadata": {
        "id": "GI170a6-o6hx"
      },
      "source": [
        "Instead, we can concentrate on the row for the slope term.  We can pick out that row because it's labeled \"Nitro\", which is the independent variable."
      ]
    },
    {
      "cell_type": "markdown",
      "metadata": {
        "id": "Zhj_5D2bpJIR"
      },
      "source": [
        "Reading from left to right, we have the slope coefficient -69.24.  We know what that is already.\n",
        "\n",
        "The next three entries in the table are the standard error of the slope (std err), a t-statistic (t) and a p-value for our hypothesis test (P > |t|). "
      ]
    },
    {
      "cell_type": "markdown",
      "metadata": {
        "id": "N_1Es6J1pla_"
      },
      "source": [
        "Yes!  This means that we are testing our hypotheses about the slope paramter using a t-test.  "
      ]
    },
    {
      "cell_type": "markdown",
      "metadata": {
        "id": "55FQEaZup0xi"
      },
      "source": [
        "We didn't talk about it too much at the time, but for a t-test for a population mean, we the t-statistic is calculated as \n",
        "\n",
        "\\begin{equation}\n",
        "t = \\frac{\\bar{x} - \\mu_0}{SE}\n",
        "\\end{equation}\n",
        "\n",
        "Where $\\bar{x}$ is the sample mean, $\\mu_0$ is the mean under the null hypothesis and SE is the standard error."
      ]
    },
    {
      "cell_type": "markdown",
      "metadata": {
        "id": "3gr8OoX8qpqY"
      },
      "source": [
        "Now, the t-statistic is calculated as \n",
        "\n",
        "\\begin{equation}\n",
        "t = \\frac{b_1 - \\beta_1}{SE}\n",
        "\\end{equation}\n",
        "\n",
        "Where $b_1$ is the slope in the sample, $\\beta_1$ is the slope under the null hypothesis and SE is the standard error."
      ]
    },
    {
      "cell_type": "markdown",
      "metadata": {
        "id": "eucccNn4rDMD"
      },
      "source": [
        "These calculations become really simple when we do inference for regression because\n",
        "\n",
        "\n",
        "\n",
        "1.   Under Ho, $\\beta_1$ = 0\n",
        "2.   The SE is calculated for you in Python\n",
        "\n",
        "\\begin{equation}\n",
        "t = \\frac{-69.24 - 0}{13.34} = -5.192\n",
        "\\end{equation}\n"
      ]
    },
    {
      "cell_type": "markdown",
      "metadata": {
        "id": "hYfLzVVwrzH2"
      },
      "source": [
        "But wait!  There's more!\n",
        "\n",
        "We didn't even need to calculate the t-statistic.  It was given in the output under \"t\".\n",
        "\n",
        "We don't have to calculate the p-value either, because that's given under P > |t|."
      ]
    },
    {
      "cell_type": "markdown",
      "metadata": {
        "id": "_YFlFydYsHuk"
      },
      "source": [
        "Recall that __________\n",
        "\n"
      ]
    },
    {
      "cell_type": "markdown",
      "metadata": {
        "id": "xc1PYc1ysan9"
      },
      "source": [
        "Looking back at our results, we see that the p-value rounds to 0.000.  That doesn't mean that the p-value is actually 0, it just means that it is less than 0.0005.  \n",
        "\n",
        "That's enough information for us to __________ the null hypothesis at the alpha = 0.05 level (or alpha = 0.01 for that matter) and conclude that __________ a statistically significant relationship between long bone nitrogen composition and interrment time."
      ]
    },
    {
      "cell_type": "markdown",
      "metadata": {
        "id": "MRy3EI40tNwl"
      },
      "source": [
        "\n",
        "\n",
        "---\n",
        "\n"
      ]
    },
    {
      "cell_type": "markdown",
      "metadata": {
        "id": "82l60bgp0vR5"
      },
      "source": [
        "Okay... so now what?????\n",
        "\n",
        "Does that mean that the slope of the model for the relationship between nitrogen composition and interrment time in the population is exactly equal to -69.24?"
      ]
    },
    {
      "cell_type": "markdown",
      "metadata": {
        "id": "2nEnFXNDtg5D"
      },
      "source": [
        "As we learned when we were creating confidence intervals for a population mean, the answer is \"probably not\".\n",
        "\n",
        "Had the researchers exhumed a differnet sample of bodies from different cemeteries, the exact slope coefficient calculated would probably be slightly different.\n",
        "\n",
        "Therefore, we want to estimate the population slope coefficient using a confidence interval."
      ]
    },
    {
      "cell_type": "markdown",
      "metadata": {
        "id": "II_IqVUIuO5E"
      },
      "source": [
        "And good news!  That information is given to us in our output, too.  It's the last two entries of of the Nitro line.\n",
        "\n",
        "\n",
        "-96.375  to   -42.110\n",
        "\n",
        "Note that the heading [0.025      0.975] is bookending the middle 0.95 of the data, so the two values below give the lower and upper bounds of a 95% confidence interval."
      ]
    },
    {
      "cell_type": "markdown",
      "metadata": {
        "id": "ZTnN18NN1H-c"
      },
      "source": [
        "We are 95% confident that the true slope of the relationship between long bone nitrogen composition and interrment time is between -96.37 to -42.11 years per 100g of bone."
      ]
    },
    {
      "cell_type": "markdown",
      "metadata": {
        "id": "12WjHAT91iBl"
      },
      "source": [
        "We can plot the confidence limits on our slope and intercept terms with a shaded area around our regression line."
      ]
    },
    {
      "cell_type": "code",
      "metadata": {
        "id": "yPsXBJsAv-Rq"
      },
      "source": [
        ""
      ],
      "execution_count": null,
      "outputs": []
    },
    {
      "cell_type": "markdown",
      "metadata": {
        "id": "G4oNjo6t2BAs"
      },
      "source": [
        "We believe that the true regression line for the model could show up anywhere in that shaded blue area."
      ]
    },
    {
      "cell_type": "markdown",
      "metadata": {
        "id": "wMQY1jX04Njg"
      },
      "source": [
        "\n",
        "\n",
        "---\n",
        "\n"
      ]
    },
    {
      "cell_type": "markdown",
      "metadata": {
        "id": "ALHIkP4PwVWt"
      },
      "source": [
        "Linear regression is great!  What could possibly go wrong?!?\n",
        "\n"
      ]
    },
    {
      "cell_type": "markdown",
      "metadata": {
        "id": "m331yLSp4cgn"
      },
      "source": [
        "A few things to watch out for:"
      ]
    },
    {
      "cell_type": "markdown",
      "metadata": {
        "id": "SSHWw7Rw35Lr"
      },
      "source": [
        "1) Linear regression can only model the relationship between two quantitative variables.  Often we will want to model the relationship between a predictor variable and a categorical (usually yes or no) outcome.\n",
        "\n",
        "For this, we'll need *logistic* regression.  This is convered in Unit 2."
      ]
    },
    {
      "cell_type": "markdown",
      "metadata": {
        "id": "wYBevsdf4R2H"
      },
      "source": [
        "2) Linear regression models the *linear* relationship between two variables. If the relationship between your variables is not linear, you won't get a very good answer using linear regression.\n",
        "\n",
        "Let's look at an example."
      ]
    },
    {
      "cell_type": "markdown",
      "metadata": {
        "id": "ML2uKT1D7Qxe"
      },
      "source": [
        "How do environmental factors contribute to the diversity of plant life on an island? The Plants.csv dataset provides information on a number of characteristics of the British Isles (not including Ireland or Britain itself) including latitude, area, and distance from Britain. We wish to use linear regression to determine if islands with a larger area are home to a greater number of species of plant life.\n",
        "\n",
        "Sources:\n",
        "\n",
        "M.P. Johnson and D.S. Simberloff (1974). \"Environmental Determinants\n",
        "of Island Species Numbers in the British Isles,\" Journal of Biogeography, Vol. 1, pp. 149-154\n",
        "\n",
        "E.D. McCoy and E.F. Connor (1976). \"Environmental Determinants of Island Species Number in the British Isles: A Reconsideration,\" Journal of Biogeography, Vol. 3, pp. 381-382."
      ]
    },
    {
      "cell_type": "code",
      "metadata": {
        "id": "Az7aXj-N6sW6"
      },
      "source": [
        "data_url = 'https://raw.githubusercontent.com/LambdaSchool/data-science-practice-datasets/main/unit_1/Plants/Plants.csv'\n",
        "\n",
        "plants = pd.read_csv(data_url, skipinitialspace=True, header=0)\n",
        "\n",
        "plants.head()\n",
        "\n"
      ],
      "execution_count": null,
      "outputs": []
    },
    {
      "cell_type": "code",
      "metadata": {
        "id": "IEzlwaXX4By5"
      },
      "source": [
        ""
      ],
      "execution_count": null,
      "outputs": []
    },
    {
      "cell_type": "markdown",
      "metadata": {
        "id": "B1O2nuW_3ixr"
      },
      "source": [
        "Just by inspection we can see that this model doesn't look like it fits very well!"
      ]
    },
    {
      "cell_type": "markdown",
      "metadata": {
        "id": "-rhf7zmX9g3E"
      },
      "source": [
        "If you run into a situation like this, there are different transformations that can be done to a predictor variable (taking the natural log, for example) that can bring the relationship into a straight line.  \n",
        "\n",
        "We'll talk about this notion in a little bit."
      ]
    },
    {
      "cell_type": "markdown",
      "metadata": {
        "id": "iRVl1ZyC92kj"
      },
      "source": [
        "3) What is the population that we can draw conclusions about?"
      ]
    },
    {
      "cell_type": "markdown",
      "metadata": {
        "id": "W144SPd89-4n"
      },
      "source": [
        "In the case of longbones dataset, we can probably draw conclusions about the population of burials in that area of England or in other places with similar climates and soil composition.\n",
        "\n",
        "Would the model give us a good prediction for a body that was buried in Sub-Saharan Africa?\n",
        "\n",
        "Probably not."
      ]
    },
    {
      "cell_type": "markdown",
      "metadata": {
        "id": "Vplb9Bze-hKu"
      },
      "source": [
        "4) Beware of outliers and influential points.\n",
        "\n",
        "A single point can \"pull\" the linear regression relationship way out of whack.  You must use your judgement (and help from subject matter experts) to determine what should be done with an outlier.\n",
        "\n",
        "Often separate models are created with and without the outlier and both sets of results are presented for the reader to evaluate."
      ]
    },
    {
      "cell_type": "markdown",
      "metadata": {
        "id": "MTxQw1AW_1A4"
      },
      "source": [
        "A notorious example: The relationship between votes for George W. Bush and Pat Buchanan in the 2000 presidental election in Florida. ![votes.gif](data:image/gif;base64,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)"
      ]
    },
    {
      "cell_type": "markdown",
      "metadata": {
        "id": "ToPVp-S6X6uD"
      },
      "source": [
        "5) Correlation $\\neq$ causation\n",
        "\n",
        "You've probably heard it before, but it bears repeating.\n",
        "\n",
        "![Seasonality.png](data:image/png;base64,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)"
      ]
    },
    {
      "cell_type": "markdown",
      "metadata": {
        "id": "K_nw1ugWY1ae"
      },
      "source": [
        "Sometimes two variables will appear correlated and there will be no obvious reason why.\n",
        "\n",
        "Sometimes two variables will appear correlated because an outside factor called a __________ is causing changes in both.\n",
        "\n",
        "As we can see above, ice cream sales don't cause forest fires.  However, both increase in the summer months and decrease in the winter months."
      ]
    },
    {
      "cell_type": "markdown",
      "metadata": {
        "id": "DHNJ5vpJCGSf"
      },
      "source": [
        "#Let's return to the sleep example"
      ]
    },
    {
      "cell_type": "markdown",
      "metadata": {
        "id": "T1TDNIibteov"
      },
      "source": [
        "Import the Sleep.csv dataset from a URL and print the first few rows\n",
        "\n",
        "Researchers recorded data on sleep duration as well as a set of ecological and constitutional variables  for a selection of mammal species. This data appears in the Sleep.csv dataset. \n",
        "\n",
        "\n",
        "Source: Allison, T. and Cicchetti, D. (1976), \"Sleep in Mammals: Ecological and Constitutional Correlates\",  Science, November 12, vol. 194, pp. 732-734.\n",
        "\n",
        "\n",
        "\n",
        "Data Dictionary:\n",
        "\n",
        "| Variable Name |            Description           |                                                                 Details                                                                 |              |   |\n",
        "|:-------------:|:--------------------------------:|:---------------------------------------------------------------------------------------------------------------------------------------:|--------------|---|\n",
        "| Animal        |            Animal name           |                                                            Character [string]                                                           |    |   |\n",
        "| Body          |            Body weight           |                                                               Numeric [kg]                                                              |       |   |\n",
        "| Brain         |           Brain weight           |                                                               Numeric [g]                                                               |  |   |\n",
        "| SWsleep       | Slow wave (“non-dreaming”) sleep | Numeric [hours]                                                                                                                         |              |   |\n",
        "| Parasleep     | Paradoxical (“dreaming”) sleep   | Numeric [hours]                                                                                                                         |              |   |\n",
        "| Totsleep      | Total sleep                      | Numeric [hours]                                                                                                                         |              |   |\n",
        "| Life          | Maximum life expectancy          | Numeric [years]                                                                                                                         |              |   |\n",
        "| Gest          | Gestation time                   | Numeric [days]                                                                                                                          |              |   |\n",
        "| Pred          | Predation index                  | Numeric [1 – 5] 1 = least likely to be preyed upon, 5 = most likely to be preyed upon                                                   |              |   |\n",
        "| Exposure      | Sleep exposure index             | Numeric [1 – 5] 1 = least amount of exposure during sleep (mammal sleeps indoors or in a den), 5 = most amount of exposure during sleep |              |   |\n",
        "| Danger        | Overall danger index             | Numeric [ 1 – 5] 1 = least amount of danger from other animals, 5 = most amount of danger from other animals                            |              |   |\n",
        "\n"
      ]
    },
    {
      "cell_type": "code",
      "metadata": {
        "id": "lAGRV2LkuKyw"
      },
      "source": [
        "data_url = 'https://raw.githubusercontent.com/LambdaSchool/data-science-practice-datasets/main/unit_1/Sleep/Sleep.csv'\n",
        "\n",
        "sleep = pd.read_csv(data_url, skipinitialspace=True, header=0)\n",
        "\n",
        "sleep.head()"
      ],
      "execution_count": null,
      "outputs": []
    },
    {
      "cell_type": "markdown",
      "metadata": {
        "id": "ADEgHGq2Gc-y"
      },
      "source": [
        "In yesterday's assignment, we saw that non-dreaming sleep and total sleep were highly correlated.  However, dreaming sleep is more variable among mammals.  Let's continue to explore the relationship of other variables to the amount of time spent in dreaming sleep."
      ]
    },
    {
      "cell_type": "markdown",
      "metadata": {
        "id": "blkk8t4mHDoe"
      },
      "source": [
        "First, lets see if time spent in non-dreaming and dreaming sleep is statistically significantly related in mammals.\n"
      ]
    },
    {
      "cell_type": "markdown",
      "metadata": {
        "id": "AfKhIa3ODt1k"
      },
      "source": [
        "Plot the relationship between non-dreaming sleep and dreaming sleep."
      ]
    },
    {
      "cell_type": "code",
      "metadata": {
        "id": "Xfzgz1DiHLvd"
      },
      "source": [
        "import seaborn as sns\n",
        "\n",
        "#Turn off CI plotting for today\n",
        "ax = sns.regplot(x=\"SWsleep\", y=\"Parasleep\", data=sleep, ci=None)"
      ],
      "execution_count": null,
      "outputs": []
    },
    {
      "cell_type": "markdown",
      "metadata": {
        "id": "kt80mNAiEe7x"
      },
      "source": [
        "How would we test the hypothesis that the amount of time spend in non-dreaming and dreaming sleep are unrelated vs the hypothesis that they are related?"
      ]
    },
    {
      "cell_type": "markdown",
      "metadata": {
        "id": "xjahq_t2CyMP"
      },
      "source": [
        "The null hypothesis is that they are unrelated and the slope is __________.  The alternative hypothesis is that they are related and the slope __________.  In symbolic notation:\n",
        "\n",
        "Ho: $\\beta_1$ = __________\n",
        "\n",
        "Ha: $\\beta_1 \\neq$ __________"
      ]
    },
    {
      "cell_type": "markdown",
      "metadata": {
        "id": "hLnEk3HeFKEu"
      },
      "source": [
        "Test these hypotheses using statsmodels.api"
      ]
    },
    {
      "cell_type": "code",
      "metadata": {
        "id": "URz-tbhmFHrc"
      },
      "source": [
        "import statsmodels.api as sm\n",
        "\n",
        "#Enter the model in the format Y ~ X\n"
      ],
      "execution_count": null,
      "outputs": []
    },
    {
      "cell_type": "markdown",
      "metadata": {
        "id": "ts0bWdepFZiB"
      },
      "source": [
        "We fail to reject the null hypothesis and conclude there is not a statistically significant relationship between the amount of non-dreaming and dreaming sleep a mammal gets daily."
      ]
    },
    {
      "cell_type": "markdown",
      "metadata": {
        "id": "XXgWAA5HJQiL"
      },
      "source": [
        "So it's not true that animals that sleep more automatically get more dreaming sleep.  Something else is at play.  What about brain size?  Maybe animals with larger brains dream more? "
      ]
    },
    {
      "cell_type": "code",
      "metadata": {
        "id": "wJzQvGZSC7Qd"
      },
      "source": [
        "#Use Seaborn to create the scatterplot and overlay the regression line\n",
        "\n"
      ],
      "execution_count": null,
      "outputs": []
    },
    {
      "cell_type": "markdown",
      "metadata": {
        "id": "t3D9ck0NDou1"
      },
      "source": [
        "Yikes!  There are two very large ouliers here.  Let's see if we can figure out which mammals those belong to."
      ]
    },
    {
      "cell_type": "code",
      "metadata": {
        "id": "m31G-Q_lJ5ox"
      },
      "source": [
        ""
      ],
      "execution_count": null,
      "outputs": []
    },
    {
      "cell_type": "markdown",
      "metadata": {
        "id": "vJEtf1ilKsnW"
      },
      "source": [
        "Let's remove the entries for human and Asian elephant and see if the relationship is meaningful in smaller-brained animals."
      ]
    },
    {
      "cell_type": "code",
      "metadata": {
        "id": "6QKSvWysNjRa"
      },
      "source": [
        ""
      ],
      "execution_count": null,
      "outputs": []
    },
    {
      "cell_type": "code",
      "metadata": {
        "id": "w2B7aFqKN2K2"
      },
      "source": [
        ""
      ],
      "execution_count": null,
      "outputs": []
    },
    {
      "cell_type": "markdown",
      "metadata": {
        "id": "ar2PUhjONiUc"
      },
      "source": [
        "Still doesn't look like a linear relationship.  It probably doesn't make sense to model this using linear regression..."
      ]
    },
    {
      "cell_type": "markdown",
      "metadata": {
        "id": "aTEO8kFpVEAx"
      },
      "source": [
        "###Logarithms\n",
        "\n",
        "Any time you see a relationship that looks like a flattening curve, the relationship may be logarithmic."
      ]
    },
    {
      "cell_type": "markdown",
      "metadata": {
        "id": "AUh65iCVVoiT"
      },
      "source": [
        "![download.png](data:image/png;base64,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)"
      ]
    },
    {
      "cell_type": "markdown",
      "metadata": {
        "id": "zI5PpFnZV1OC"
      },
      "source": [
        "![unnamed.gif](data:image/gif;base64,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)"
      ]
    },
    {
      "cell_type": "markdown",
      "metadata": {
        "id": "1Fo4akY5Qs1m"
      },
      "source": [
        "One thing we can do when we have a potential non-linear relationship between two variables is take the natural logarithm of the x-variable.  This will sometimes bring the relationship between the two variables into line.\n",
        "\n",
        "In other words, a graph of y = ln(x) will be linear."
      ]
    },
    {
      "cell_type": "code",
      "metadata": {
        "id": "rjlHxOvrQCex"
      },
      "source": [
        ""
      ],
      "execution_count": null,
      "outputs": []
    },
    {
      "cell_type": "markdown",
      "metadata": {
        "id": "pwb0fqGJRJ6c"
      },
      "source": [
        "Plot the relationship."
      ]
    },
    {
      "cell_type": "code",
      "metadata": {
        "id": "PnonESKmCJJR"
      },
      "source": [
        ""
      ],
      "execution_count": null,
      "outputs": []
    },
    {
      "cell_type": "markdown",
      "metadata": {
        "id": "ndYU54NpRMYz"
      },
      "source": [
        "Is there the relationship linear in the log?"
      ]
    },
    {
      "cell_type": "code",
      "metadata": {
        "id": "_F3uVDYSRPj3"
      },
      "source": [
        ""
      ],
      "execution_count": null,
      "outputs": []
    },
    {
      "cell_type": "markdown",
      "metadata": {
        "id": "dqRxNcn7F4J5"
      },
      "source": [
        "It is!  \n",
        "\n",
        "Now, this is where things get a little complicated when dealing with transformations.\n",
        "\n",
        "The interpretation of the slope is that, for every additional __________ of brain weight, we expect the mammal to get about __________ hours of dreaming sleeping.\n",
        "\n",
        "\n",
        " "
      ]
    },
    {
      "cell_type": "markdown",
      "metadata": {
        "id": "nGmY9lWGYEEK"
      },
      "source": [
        "Let's predict the amount of dreaming sleep that an animal with a 200g brain gets each day."
      ]
    },
    {
      "cell_type": "code",
      "metadata": {
        "id": "xM63vMkEXxcc"
      },
      "source": [
        "\n",
        "\n",
        "#Extract the slope and intercept values from the model paramters\n",
        "intercept = model.params[0]\n",
        "slope = model.params[1]\n",
        "\n",
        "#Use the model coefficients and plug the new value of x into the regression equation\n",
        "predict = intercept + slope*ln_x\n",
        "\n",
        "print('ln 200 = ', ln_x)\n",
        "print('Predicted dreaming sleep = ', predict)"
      ],
      "execution_count": null,
      "outputs": []
    },
    {
      "cell_type": "markdown",
      "metadata": {
        "id": "hodOE1UrY9tP"
      },
      "source": [
        "We expcet a mammal with a 200g brain to get about __________ of dreaming sleep each day."
      ]
    },
    {
      "cell_type": "markdown",
      "metadata": {
        "id": "qGRHo5gLGQ6W"
      },
      "source": [
        "Let's see if life expectancy is linearly related to the amount of dreaming sleep a mammal gets each day."
      ]
    },
    {
      "cell_type": "code",
      "metadata": {
        "id": "IKTgktSBTqRW"
      },
      "source": [
        ""
      ],
      "execution_count": null,
      "outputs": []
    },
    {
      "cell_type": "code",
      "metadata": {
        "id": "PlGED7QeTzNe"
      },
      "source": [
        ""
      ],
      "execution_count": null,
      "outputs": []
    },
    {
      "cell_type": "markdown",
      "metadata": {
        "id": "7u_UZtAsT28N"
      },
      "source": [
        "Borderline... can this be improved by a log transformation?"
      ]
    },
    {
      "cell_type": "code",
      "metadata": {
        "id": "TevcCB2PUAO3"
      },
      "source": [
        ""
      ],
      "execution_count": null,
      "outputs": []
    },
    {
      "cell_type": "code",
      "metadata": {
        "id": "evz7qbzRUcX_"
      },
      "source": [
        ""
      ],
      "execution_count": null,
      "outputs": []
    },
    {
      "cell_type": "code",
      "metadata": {
        "id": "FepAbtwlUm6k"
      },
      "source": [
        ""
      ],
      "execution_count": null,
      "outputs": []
    },
    {
      "cell_type": "markdown",
      "metadata": {
        "id": "Ku7Qs5VuUr9O"
      },
      "source": [
        "There is also a statistically significant relationship between the log of life expectancy and the amount of dreaming sleep a mammal gets each day.  For every additional log(year) of life expectancy, we expect dreaming sleep to decrease by about 1/2 an hour."
      ]
    },
    {
      "cell_type": "markdown",
      "metadata": {
        "id": "tpiX2SaXZIJk"
      },
      "source": [
        "Let's predict the amount of dreaming sleep that an animal with a life expectancy of 20 years gets each day."
      ]
    },
    {
      "cell_type": "code",
      "metadata": {
        "id": "oAYkfJixZQZE"
      },
      "source": [
        "\n",
        "\n",
        "#Extract the slope and intercept values from the model paramters\n",
        "intercept = model.params[0]\n",
        "slope = model.params[1]\n",
        "\n",
        "#Use the model coefficients and plug the new value of x into the regression equation\n",
        "predict = intercept + slope*ln_x\n",
        "\n",
        "print('ln 20 = ', ln_x)\n",
        "print('Predicted dreaming sleep = ', predict)"
      ],
      "execution_count": null,
      "outputs": []
    },
    {
      "cell_type": "markdown",
      "metadata": {
        "id": "cKMgoZ9FWnJh"
      },
      "source": [
        "We would expect a mammal with a life expectancy of 20 years to get about __________ of dreaming sleep each day."
      ]
    },
    {
      "cell_type": "markdown",
      "metadata": {
        "id": "rdOpX0zcZd-g"
      },
      "source": [
        "Other relationships?"
      ]
    }
  ]
}
