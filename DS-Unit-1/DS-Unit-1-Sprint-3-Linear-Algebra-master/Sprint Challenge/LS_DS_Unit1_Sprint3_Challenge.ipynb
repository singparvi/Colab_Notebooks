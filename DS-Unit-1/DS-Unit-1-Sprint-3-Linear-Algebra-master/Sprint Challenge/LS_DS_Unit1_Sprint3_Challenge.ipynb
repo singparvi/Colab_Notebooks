{
  "nbformat": 4,
  "nbformat_minor": 0,
  "metadata": {
    "colab": {
      "name": "LS_DS_Unit1_Sprint3_Challenge.ipynb",
      "provenance": [],
      "collapsed_sections": []
    },
    "kernelspec": {
      "name": "python3",
      "display_name": "Python 3"
    }
  },
  "cells": [
    {
      "cell_type": "markdown",
      "metadata": {
        "id": "acQxE7E4O2Yx"
      },
      "source": [
        "# Unit 1 Sprint 3 Challenge - Linear Algebra\n"
      ]
    },
    {
      "cell_type": "markdown",
      "metadata": {
        "id": "D90eph5lO5dp"
      },
      "source": [
        "## Welcome to the final sprint challenge of Unit 1!\n",
        "\n",
        "In this challenge, we're going to explore two different datasets where you can demonstrate your skills with fitting linear regression models and linear algebra.\n",
        "\n",
        "Good luck!\n",
        "\n",
        "### Tasks\n",
        "\n",
        "* Load and explore the first dataset\n",
        "* Fit a simple linear regression model to one independent variable\n",
        "* Fit a regression model to two independent variables\n",
        "* Interpret R-squared and an adjusted R-squared values\n",
        "* Load word vector data and explore\n",
        "* Calculate the cosine similarity between the vectors\n",
        "\n",
        "---"
      ]
    },
    {
      "cell_type": "markdown",
      "metadata": {
        "id": "nC2VEo1cGaOD"
      },
      "source": [
        "### Data: Information\n",
        "\n",
        "This dataset is a record of seven common different fish species in fish market sales. With this dataset, we can practice fitting linear regression models. More information can be found at the link below.\n",
        "\n",
        "* [Kaggle: Fish Market Dataset](https://www.kaggle.com/aungpyaeap/fish-market)"
      ]
    },
    {
      "cell_type": "markdown",
      "metadata": {
        "id": "e9Ht0VS6GiM8"
      },
      "source": [
        "## 1) Load the data\n",
        "\n",
        "* From the URL provided, load the CSV file as a DataFrame - arguments: use the default parameters for `pandas.read_csv()`\n",
        "* The shape of your DataFrame should be `(159, 7)`"
      ]
    },
    {
      "cell_type": "code",
      "metadata": {
        "id": "3YXv1PZQO5P9"
      },
      "source": [
        "# Load the data\n",
        "\n",
        "# URL provided\n",
        "url = \"https://raw.githubusercontent.com/LambdaSchool/data-science-practice-datasets/main/unit_1/Fish/Fish.csv\"\n",
        "\n",
        "### your code here ###\n"
      ],
      "execution_count": null,
      "outputs": []
    },
    {
      "cell_type": "markdown",
      "metadata": {
        "id": "tVQcvdcuLgNf"
      },
      "source": [
        "## 2) Explore, Visualize, and Clean\n",
        "\n",
        "Now you want to take a look at the dataset, figure out what variable types the columns contain, identify missing values, and possibly look for outliers.\n",
        "\n",
        "**Your tasks**\n",
        "\n",
        "* Use describe() and info() to learn about any missing values, the data types, and descriptive statistics for each numeric value\n",
        "\n",
        "*Hint: look at the minimum values for each column - would it make sense to remove rows that have a `0` in any of the columns?*"
      ]
    },
    {
      "cell_type": "code",
      "metadata": {
        "id": "Ks9ggzPSSLHv"
      },
      "source": [
        "### your code here ###"
      ],
      "execution_count": null,
      "outputs": []
    },
    {
      "cell_type": "markdown",
      "metadata": {
        "id": "fongqoI9SZje"
      },
      "source": [
        "## 3) Visualize and Identify the Target\n",
        "\n",
        "Now that you know more about the data, we need to identify the *target* or response variable: what are we trying to predict? You can create a visualization to look at all of the numeric variables.\n",
        "\n",
        "**Your tasks**\n",
        "\n",
        "* Use the seaborn library `sns.pairplot()` function to create your visualization (use the starter code)\n",
        "* Using the pairplot, identify two variables that you will use to fit a linear regression model"
      ]
    },
    {
      "cell_type": "code",
      "metadata": {
        "id": "EvY3PH7sRTLu"
      },
      "source": [
        "# Import seaborn\n",
        "import seaborn as sns\n",
        "\n",
        "# Use sns.pairplot(data) where data is the name of your DataFrame\n",
        "# sns.pairplot()\n",
        "\n",
        "## your code here ##"
      ],
      "execution_count": null,
      "outputs": []
    },
    {
      "cell_type": "markdown",
      "metadata": {
        "id": "9RIZSLLjcOzj"
      },
      "source": [
        "### Short answer:\n",
        "\n",
        "* What are the two variables you will use to fit a linear regression model and why did you choose them?\n",
        "\n"
      ]
    },
    {
      "cell_type": "markdown",
      "metadata": {
        "id": "Eq-Yh-MQY-k1"
      },
      "source": [
        "## 4) Create a scatter plot with a best-fit line\n",
        "\n",
        "Before we fit the linear regression model, we'll check how well a line fits our two variables. Because you have some choices for which independent variable to select, we're going to complete the rest of our analysis using `Width` as the independent variable and `Weight` as the dependent (target) variable.\n",
        "\n",
        "**Your tasks:**\n",
        "\n",
        "* Create a scatter plot using seaborn with `Width` and `Weight`\n",
        "* Use the sns.lmplot() and specify a confidence interval of 0.95\n",
        "* Answer the questions about your plot.\n"
      ]
    },
    {
      "cell_type": "code",
      "metadata": {
        "id": "oyCzMaHvalFo"
      },
      "source": [
        "## your code here ##\n"
      ],
      "execution_count": null,
      "outputs": []
    },
    {
      "cell_type": "markdown",
      "metadata": {
        "id": "tA0PT20JcUFj"
      },
      "source": [
        "### Short answer:\n",
        "\n",
        "1. Does it make sense to fit a linear model to these two variables? In otherwords, are there any problems with this data like extreme outliers, non-linearity, etc.\n",
        "2. Over what range of your independent variable does the model not fit the data well?"
      ]
    },
    {
      "cell_type": "markdown",
      "metadata": {
        "id": "bvPJjQVccfa9"
      },
      "source": [
        "## 5) Fit a linear regression model\n",
        "\n",
        "Now it's time to fit the linear regression model! We have two variables (`width` and `weight`).\n",
        "\n",
        "**Your tasks:**\n",
        "\n",
        "*  Use the `statsmodels.formula.api` library and import the `ols` method\n",
        "*  Fit a **single variable linear regression model** and print out the model summary\n",
        "*  Answer the questions about your resulting model parameters"
      ]
    },
    {
      "cell_type": "code",
      "metadata": {
        "id": "SjxV58yUM-xM"
      },
      "source": [
        "## your code here ##"
      ],
      "execution_count": null,
      "outputs": []
    },
    {
      "cell_type": "markdown",
      "metadata": {
        "id": "cso00X7mNloI"
      },
      "source": [
        "### Short Answer:\n",
        "1. Is the correlation between your variables positive or negative?\n",
        "2. How would you write the confidence interval for your slope coefficient?\n",
        "3. State the null hypothesis to test for a statistically significant relationship between your two variables.\n",
        "4. Using the P value from your model, do you **reject** or **fail to reject** the null hypothesis?"
      ]
    },
    {
      "cell_type": "markdown",
      "metadata": {
        "id": "gMrxuOaHSFEc"
      },
      "source": [
        "## 6) Fit a multiple predictor linear regression model\n",
        "\n",
        "For this next task, we'll add in an additional independent or predictor variable. Let's look back at the pairplot and choose another variable - we'll use `Length1`.\n",
        "\n",
        "Now fit linear regression model using two predictor variables: `Width` and `Length1`.\n",
        "\n",
        "**Your tasks:**\n",
        "\n",
        "* Select an additional predictor variable\n",
        "* Fit a model with both variables and print out the model summary\n",
        "* Answer the questions about your model"
      ]
    },
    {
      "cell_type": "code",
      "metadata": {
        "id": "Nu3XGDFqb8RT"
      },
      "source": [
        "## your code here ##"
      ],
      "execution_count": null,
      "outputs": []
    },
    {
      "cell_type": "markdown",
      "metadata": {
        "id": "aMVYt9vUeQgq"
      },
      "source": [
        "### Short answer:\n",
        "\n",
        "1. What percentage of the variance is explained by your first variable (when you only had one predictor variable)?\n",
        "2. How does the adjusted R-squared value change when a second pedictor variable is added?"
      ]
    },
    {
      "cell_type": "markdown",
      "metadata": {
        "id": "CfZxg7Xof5dj"
      },
      "source": [
        "## Part 2: Vectors and cosine similarity\n",
        "\n",
        "In this part of the challenge, we're going to look at how similar two vectors are. Remember, we can calculate the **cosine similarity** between two vectors by using this equation:\n",
        "\n",
        "$$\\cos \\theta= \\frac{\\mathbf {A} \\cdot \\mathbf {B} }{\\left\\|\\mathbf {A} \\right\\|\\left\\|\\mathbf {B} \\right\\|}$$\n",
        "\n",
        "$\\qquad$\n",
        "\n",
        "The numerator is the dot product of the vectors $\\mathbf {A}$ and $\\mathbf {B}$\n",
        "\n",
        "The denominator is the norm of $\\mathbf {A}$ times the norm of $\\mathbf {B}$\n",
        "\n",
        "### Three documents, two authors\n",
        "\n",
        "For this task, you will calculate the cosine similarity between three vectors. But here's the interesting part: each vector represents a \"chunk\" of text from a novel (a few chaptes of text). This text was cleaned to remove non-alphanumeric characters and numbers and then each document was transformed into a vector representation as described below. \n",
        "\n",
        "### Document vectors\n",
        "\n",
        "In the dataset you are going to load below, each row represents a word that occurs in at least one of the documents. So all the rows are all the words that are in our three documents.\n",
        "\n",
        "Each column represents a document (doc0, doc1, doc2). Now the fun part: the value in each cell is how frequently that word (row) occurs in that document (term-frequency) divided by how many documents that words appears in (document-frequency).\n",
        "\n",
        "`cell value = term_frequency / document_frequency`\n",
        "\n",
        "### Using cosine similarity\n",
        "\n",
        "You will be using cosine similarity to compare each document vector to the others. Remember that there are three documents, but two authors. Your task is to use the cosine similarity calculations to determine which two document vectors are most similar (written by the same author).\n",
        "\n",
        "**Your tasks:**\n",
        "\n",
        "* Load in the csv file that contains the document vectors (this is coded for you - just run the cell)\n",
        "* Look at the DataFrame you just loaded in any way that helps you understand the format, what's included in the data, the shape of the DataFrame, etc.\n",
        "* Calculate the cosine similarity for **three pairs of vectors**\n",
        "  * doc0-doc1\n",
        "  * doc0-doc2\n",
        "  * doc1-doc2\n",
        "\n",
        "* Print out the results so you can refer to them\n",
        "* Answer the questions after you have completed the cosine similarity calculations\n"
      ]
    },
    {
      "cell_type": "code",
      "metadata": {
        "id": "RHcKj5epb8UQ"
      },
      "source": [
        "# Imports (import pandas if you haven't)\n",
        "\n",
        "# Load the data - DON'T DELETE THIS CELL\n",
        "url = 'https://raw.githubusercontent.com/LambdaSchool/data-science-practice-datasets/main/unit_4/unit1_nlp/text_vectors.csv'\n",
        "text = pd.read_csv(url)\n"
      ],
      "execution_count": null,
      "outputs": []
    },
    {
      "cell_type": "code",
      "metadata": {
        "id": "6orkQNkvyleB"
      },
      "source": [
        "## Explore the data\n",
        "\n",
        "## your code here ##\n"
      ],
      "execution_count": null,
      "outputs": []
    },
    {
      "cell_type": "code",
      "metadata": {
        "id": "AgTYYDTbzDnd"
      },
      "source": [
        "## Calculate the cosine similarity\n",
        "\n",
        "# Use these imports for you cosine calculations (DON'T DELETE)\n",
        "from numpy import dot\n",
        "from numpy.linalg import norm\n",
        "\n",
        "## your code here ##\n"
      ],
      "execution_count": null,
      "outputs": []
    },
    {
      "cell_type": "markdown",
      "metadata": {
        "id": "_eS4D8WD0_xe"
      },
      "source": [
        "## Short answer\n",
        "\n",
        "1. Using your cosine similarity calculations, which two documents are most similar?\n",
        "2. If doc1 and doc2 were written by the same author, are your cosine similarity calculations consistent with this statement?\n",
        "3. What process would we need to follow to add an additional document column? In other words, why can't we just stick another column with (term-frequency/document-frequency) values onto our current DataFrame `text`?"
      ]
    },
    {
      "cell_type": "markdown",
      "metadata": {
        "id": "K8Foxa3p2an1"
      },
      "source": [
        "**Additional Information about the texts used in this analysis:**\n",
        "\n",
        "You can find the raw text [here](https://github.com/LambdaSchool/data-science-practice-datasets/tree/main/unit_4/unit1_nlp). Dcoument 0 (doc0) is chapters 1-3 from \"Pride and Predjudice\" by Jane Austen. Document 1 (doc1) is chapters 1- 4 from \"Frankenstein\" by Mary Shelley. Document 2 is also from \"Frankenstein\", chapters 11-14."
      ]
    }
  ]
}