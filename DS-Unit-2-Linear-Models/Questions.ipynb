{
 "metadata": {
  "language_info": {
   "codemirror_mode": {
    "name": "ipython",
    "version": 3
   },
   "file_extension": ".py",
   "mimetype": "text/x-python",
   "name": "python",
   "nbconvert_exporter": "python",
   "pygments_lexer": "ipython3",
   "version": 3
  },
  "orig_nbformat": 2
 },
 "nbformat": 4,
 "nbformat_minor": 2,
 "cells": [
  {
   "source": [
    "2020-01-20 Questions from module 4\n",
    "\n",
    "1. train.describe(exclude='number').T.sort_values(by='unique’) — what is this T doing in here\n",
    "\n",
    "2. What is the fit_transform vs transform difference. What is happening with fitting?\n",
    " "
   ],
   "cell_type": "markdown",
   "metadata": {}
  }
 ]
}