{
 "nbformat": 4,
 "nbformat_minor": 0,
 "metadata": {
  "kernelspec": {
   "name": "python3",
   "language": "python",
   "display_name": "Python 3"
  },
  "language_info": {
   "codemirror_mode": {
    "name": "ipython",
    "version": 3
   },
   "file_extension": ".py",
   "mimetype": "text/x-python",
   "name": "python",
   "nbconvert_exporter": "python",
   "pygments_lexer": "ipython3",
   "version": "3.8.5"
  },
  "colab": {
   "name": "PS_DS_Sprint_Challenge_23.ipynb",
   "provenance": [],
   "collapsed_sections": []
  }
 },
 "cells": [
  {
   "cell_type": "markdown",
   "metadata": {
    "deletable": false,
    "editable": false,
    "nbgrader": {
     "cell_type": "markdown",
     "checksum": "26331cfec4792162c2f8fe9b562702d2",
     "grade": false,
     "grade_id": "cell-f2b2468124042cfe",
     "locked": true,
     "schema_version": 3,
     "solution": false,
     "task": false
    },
    "id": "QVUaXb_Zp3x-"
   },
   "source": [
    "_Lambda School Data Science, Unit 2_\n",
    "\n",
    "---\n",
    "\n",
    "👇 **Do not change the code in this cell.** If you're working in Google Colab, you can run this cell to install `category_encoders` and `pdpbox`."
   ]
  },
  {
   "cell_type": "code",
   "metadata": {
    "deletable": false,
    "editable": false,
    "nbgrader": {
     "cell_type": "code",
     "checksum": "6e84593629f1e735cc6423e463199480",
     "grade": false,
     "grade_id": "cell-656c869f2d287493",
     "locked": true,
     "schema_version": 3,
     "solution": false,
     "task": false
    },
    "id": "k4kJL58dp3yG",
    "outputId": "009bebd1-909d-4c25-dd97-226a89c5e7e3"
   },
   "source": [
    "%%capture\n",
    "import sys\n",
    "\n",
    "if 'google.colab' in sys.modules:\n",
    "    !pip install category_encoders\n",
    "    !pip install pdpbox"
   ],
   "execution_count": 6,
   "outputs": []
  },
  {
   "cell_type": "markdown",
   "metadata": {
    "deletable": false,
    "editable": false,
    "nbgrader": {
     "cell_type": "markdown",
     "checksum": "be6f7489d8b09d515eed676f06ac2d3b",
     "grade": false,
     "grade_id": "cell-dbdc2fe26ba31738",
     "locked": true,
     "schema_version": 3,
     "solution": false,
     "task": false
    },
    "id": "WwEadCcBp3yI"
   },
   "source": [
    "# Sprint Challenge: Predict Chicago Food Inspections 🍕\n",
    "\n",
    "In this challenge, you'll use data from the [Chicago Department of Public Health](https://www.chicago.gov/city/en/depts/cdph/provdrs/healthy_restaurants/svcs/food-protection-services.html) to build a model to predict whether a food establishment passed inspection or not.\n",
    "\n",
    "The purpose of this model is to help inspectors use their time more efficiently by identifying establishments that will likely fail inspection. In other words, this model should be able to predict whether an establishment will fail inspection *before* the inspector arrives at the establishment. \n",
    "\n",
    "# Directions\n",
    "\n",
    "This notebook contains 12 tasks, which cover the material we've learned in this sprint. Here's a summary:\n",
    "\n",
    "- **Task 1:** Importing data.\n",
    "- **Task 2:** Identifying data leakage.\n",
    "- **Task 3:** Writing a wrangle function.\n",
    "- **Task 4:** Splitting data into a feature matrix and target vector.\n",
    "- **Task 5:** Splitting data into training and validation sets.\n",
    "- **Task 6:** Establishing baseline accuracy.\n",
    "- **Task 7:** Building model with bagging predictor.\n",
    "- **Task 8:** Building model with boosting predictor.\n",
    "- **Task 9 (`stretch goal`):** Plotting ROC curves.\n",
    "- **Task 10:** Generating classification report.\n",
    "- **Task 11:** Calculating permutation importances.\n",
    "- **Task 12 (`stretch goal`):** Creating PDP interaction plot.\n",
    "\n",
    "For each task you should do the following:\n",
    "\n",
    "- Read the task instructions.\n",
    "- Write your code in the cell below the task. Delete the `raise NotImplementedError` before your start.\n",
    "- Run the testing cell below the task. If you get an error, read the error message and re-evaluate your code.\n",
    "\n",
    "**You should limit your code to the following libraries:**\n",
    "\n",
    "- `category_encoders`\n",
    "- `numpy`\n",
    "- `matplotlib`\n",
    "- `pandas`\n",
    "- `pdpbox`\n",
    "- `sklearn`\n",
    "- `xgboost`\n",
    "\n",
    "**A word of warning:** The virtual machine that will check your answers is small. So, where applicable, don't use huge values for `n_estimators` (`>100`) or `n_jobs` (keep at `-1`). \n",
    "\n",
    "If you'd like to import all your libraries at the start of your notebook, you can do so in the code block below 👇"
   ]
  },
  {
   "cell_type": "code",
   "metadata": {
    "deletable": false,
    "nbgrader": {
     "cell_type": "code",
     "checksum": "313c53b0dc59a11bb7bfaefbf995fe2c",
     "grade": false,
     "grade_id": "cell-44be413734e30691",
     "locked": false,
     "schema_version": 3,
     "solution": true,
     "task": false
    },
    "id": "ES2JJg3Cp3yJ"
   },
   "source": [
    "import pandas as pd\n",
    "from pdpbox.pdp import pdp_interact_plot, pdp_interact\n",
    "from sklearn.ensemble import RandomForestClassifier\n",
    "from sklearn.impute import SimpleImputer\n",
    "import category_encoders as ce\n",
    "from sklearn.pipeline import make_pipeline\n",
    "# from pandas_profiling import ProfileReport # commenting as codegrade is throwing an error on pandas_profiling\n",
    "import numpy as np\n",
    "import eli5\n",
    "from eli5.sklearn import PermutationImportance\n",
    "from sklearn.metrics import classification_report\n",
    "import matplotlib.pyplot as plt\n",
    "from sklearn.metrics import roc_curve\n",
    "from xgboost import XGBClassifier\n",
    "# raise NotImplementedError()"
   ],
   "execution_count": 7,
   "outputs": []
  },
  {
   "cell_type": "markdown",
   "metadata": {
    "deletable": false,
    "editable": false,
    "nbgrader": {
     "cell_type": "markdown",
     "checksum": "48dd82293df0d9af1aa7efac7f7468fa",
     "grade": false,
     "grade_id": "cell-602d346d44303e87",
     "locked": true,
     "schema_version": 3,
     "solution": false,
     "task": false
    },
    "id": "IkQRxZ3Sp3yJ"
   },
   "source": [
    "# I. Wrangle Data\n",
    "\n",
    "**Task 1:** Change the code below to import your dataset. Be sure to examine the columns carefully and determine if one of them should be set as the index."
   ]
  },
  {
   "cell_type": "code",
   "metadata": {
    "deletable": false,
    "nbgrader": {
     "cell_type": "code",
     "checksum": "dafd956974169191567e3544c18186a5",
     "grade": false,
     "grade_id": "cell-8b9246d8d97a80ff",
     "locked": false,
     "schema_version": 3,
     "solution": true,
     "task": false
    },
    "id": "4M-XrtPIp3yK",
    "outputId": "f357b760-d224-42fb-80d6-8d8ee01d9385"
   },
   "source": [
    "'''T1. Import data file.'''\n",
    "url = 'https://drive.google.com/uc?export=download&id=1aUnQ4AJK4UtW8JL9zPyYUMtkjIgQpqKT'\n",
    "df = pd.read_csv(url)\n",
    "# Setting 'Inspection ID' as the index\n",
    "df ['Inspection Date'] = pd.to_datetime(df ['Inspection Date'], infer_datetime_format=True)\n",
    "df = df.set_index('Inspection Date')\n",
    "df.head()\n",
    "\n",
    "# raise NotImplementedError()"
   ],
   "execution_count": 8,
   "outputs": [
    {
     "data": {
      "text/plain": "                 Inspection ID                               DBA Name  \\\nInspection Date                                                         \n2017-09-15             2088270            TOM YUM RICE & NOODLE, INC.   \n2011-10-20              555268  FILLING STATION  & CONVENIENCE  STORE   \n2016-04-05             1751394                               A P DELI   \n2016-04-29             1763905           FRANK'S CHICAGO SHRIMP HOUSE   \n2011-01-10              453326                                MORRILL   \n\n                                              AKA Name  License #  \\\nInspection Date                                                     \n2017-09-15                                TOM YUM CAFE  2354911.0   \n2011-10-20       FILLING STATION  & CONVENIENCE  STORE  1044901.0   \n2016-04-05                                    A P DELI    47405.0   \n2016-04-29                FRANK'S CHICAGO SHRIMP HOUSE     6414.0   \n2011-01-10                                     MORRILL    24571.0   \n\n                 Facility Type             Risk                       Address  \\\nInspection Date                                                                 \n2017-09-15          Restaurant    Risk 1 (High)                  608 W BARRY    \n2011-10-20       Grocery Store     Risk 3 (Low)      6646-6658 S WESTERN AVE    \n2016-04-05          Restaurant    Risk 1 (High)               2025 E 75TH ST    \n2016-04-29          Restaurant  Risk 2 (Medium)            4459 S ARCHER AVE    \n2011-01-10              School    Risk 1 (High)  6011 S Rockwell (2600W) AVE    \n\n                    City State      Zip          Inspection Type  \\\nInspection Date                                                    \n2017-09-15       CHICAGO    IL  60657.0                  Canvass   \n2011-10-20       CHICAGO    IL  60636.0  Complaint Re-Inspection   \n2016-04-05       CHICAGO    IL  60649.0    Canvass Re-Inspection   \n2016-04-29       CHICAGO    IL  60632.0                  Canvass   \n2011-01-10       CHICAGO    IL  60629.0                  Canvass   \n\n                                                        Violations   Latitude  \\\nInspection Date                                                                 \n2017-09-15       3. POTENTIALLY HAZARDOUS FOOD MEETS TEMPERATUR...  41.938007   \n2011-10-20       32. FOOD AND NON-FOOD CONTACT SURFACES PROPERL...  41.772402   \n2016-04-05       35. WALLS, CEILINGS, ATTACHED EQUIPMENT CONSTR...  41.758779   \n2016-04-29       38. VENTILATION: ROOMS AND EQUIPMENT VENTED AS...  41.812181   \n2011-01-10       34. FLOORS: CONSTRUCTED PER CODE, CLEANED, GOO...        NaN   \n\n                 Longitude                                           Location  \\\nInspection Date                                                                 \n2017-09-15      -87.644755  {'longitude': '-87.6447545707008', 'latitude':...   \n2011-10-20      -87.683603  {'longitude': '-87.68360273081268', 'latitude'...   \n2016-04-05      -87.575054  {'longitude': '-87.57505446746121', 'latitude'...   \n2016-04-29      -87.707125  {'longitude': '-87.70712481334274', 'latitude'...   \n2011-01-10             NaN                                                NaN   \n\n                 Fail  Serious Violations Found  \nInspection Date                                  \n2017-09-15          1                       2.0  \n2011-10-20          0                       0.0  \n2016-04-05          0                       0.0  \n2016-04-29          0                       0.0  \n2011-01-10          0                       0.0  ",
      "text/html": "<div>\n<style scoped>\n    .dataframe tbody tr th:only-of-type {\n        vertical-align: middle;\n    }\n\n    .dataframe tbody tr th {\n        vertical-align: top;\n    }\n\n    .dataframe thead th {\n        text-align: right;\n    }\n</style>\n<table border=\"1\" class=\"dataframe\">\n  <thead>\n    <tr style=\"text-align: right;\">\n      <th></th>\n      <th>Inspection ID</th>\n      <th>DBA Name</th>\n      <th>AKA Name</th>\n      <th>License #</th>\n      <th>Facility Type</th>\n      <th>Risk</th>\n      <th>Address</th>\n      <th>City</th>\n      <th>State</th>\n      <th>Zip</th>\n      <th>Inspection Type</th>\n      <th>Violations</th>\n      <th>Latitude</th>\n      <th>Longitude</th>\n      <th>Location</th>\n      <th>Fail</th>\n      <th>Serious Violations Found</th>\n    </tr>\n    <tr>\n      <th>Inspection Date</th>\n      <th></th>\n      <th></th>\n      <th></th>\n      <th></th>\n      <th></th>\n      <th></th>\n      <th></th>\n      <th></th>\n      <th></th>\n      <th></th>\n      <th></th>\n      <th></th>\n      <th></th>\n      <th></th>\n      <th></th>\n      <th></th>\n      <th></th>\n    </tr>\n  </thead>\n  <tbody>\n    <tr>\n      <th>2017-09-15</th>\n      <td>2088270</td>\n      <td>TOM YUM RICE &amp; NOODLE, INC.</td>\n      <td>TOM YUM CAFE</td>\n      <td>2354911.0</td>\n      <td>Restaurant</td>\n      <td>Risk 1 (High)</td>\n      <td>608 W BARRY</td>\n      <td>CHICAGO</td>\n      <td>IL</td>\n      <td>60657.0</td>\n      <td>Canvass</td>\n      <td>3. POTENTIALLY HAZARDOUS FOOD MEETS TEMPERATUR...</td>\n      <td>41.938007</td>\n      <td>-87.644755</td>\n      <td>{'longitude': '-87.6447545707008', 'latitude':...</td>\n      <td>1</td>\n      <td>2.0</td>\n    </tr>\n    <tr>\n      <th>2011-10-20</th>\n      <td>555268</td>\n      <td>FILLING STATION  &amp; CONVENIENCE  STORE</td>\n      <td>FILLING STATION  &amp; CONVENIENCE  STORE</td>\n      <td>1044901.0</td>\n      <td>Grocery Store</td>\n      <td>Risk 3 (Low)</td>\n      <td>6646-6658 S WESTERN AVE</td>\n      <td>CHICAGO</td>\n      <td>IL</td>\n      <td>60636.0</td>\n      <td>Complaint Re-Inspection</td>\n      <td>32. FOOD AND NON-FOOD CONTACT SURFACES PROPERL...</td>\n      <td>41.772402</td>\n      <td>-87.683603</td>\n      <td>{'longitude': '-87.68360273081268', 'latitude'...</td>\n      <td>0</td>\n      <td>0.0</td>\n    </tr>\n    <tr>\n      <th>2016-04-05</th>\n      <td>1751394</td>\n      <td>A P DELI</td>\n      <td>A P DELI</td>\n      <td>47405.0</td>\n      <td>Restaurant</td>\n      <td>Risk 1 (High)</td>\n      <td>2025 E 75TH ST</td>\n      <td>CHICAGO</td>\n      <td>IL</td>\n      <td>60649.0</td>\n      <td>Canvass Re-Inspection</td>\n      <td>35. WALLS, CEILINGS, ATTACHED EQUIPMENT CONSTR...</td>\n      <td>41.758779</td>\n      <td>-87.575054</td>\n      <td>{'longitude': '-87.57505446746121', 'latitude'...</td>\n      <td>0</td>\n      <td>0.0</td>\n    </tr>\n    <tr>\n      <th>2016-04-29</th>\n      <td>1763905</td>\n      <td>FRANK'S CHICAGO SHRIMP HOUSE</td>\n      <td>FRANK'S CHICAGO SHRIMP HOUSE</td>\n      <td>6414.0</td>\n      <td>Restaurant</td>\n      <td>Risk 2 (Medium)</td>\n      <td>4459 S ARCHER AVE</td>\n      <td>CHICAGO</td>\n      <td>IL</td>\n      <td>60632.0</td>\n      <td>Canvass</td>\n      <td>38. VENTILATION: ROOMS AND EQUIPMENT VENTED AS...</td>\n      <td>41.812181</td>\n      <td>-87.707125</td>\n      <td>{'longitude': '-87.70712481334274', 'latitude'...</td>\n      <td>0</td>\n      <td>0.0</td>\n    </tr>\n    <tr>\n      <th>2011-01-10</th>\n      <td>453326</td>\n      <td>MORRILL</td>\n      <td>MORRILL</td>\n      <td>24571.0</td>\n      <td>School</td>\n      <td>Risk 1 (High)</td>\n      <td>6011 S Rockwell (2600W) AVE</td>\n      <td>CHICAGO</td>\n      <td>IL</td>\n      <td>60629.0</td>\n      <td>Canvass</td>\n      <td>34. FLOORS: CONSTRUCTED PER CODE, CLEANED, GOO...</td>\n      <td>NaN</td>\n      <td>NaN</td>\n      <td>NaN</td>\n      <td>0</td>\n      <td>0.0</td>\n    </tr>\n  </tbody>\n</table>\n</div>"
     },
     "execution_count": 8,
     "metadata": {},
     "output_type": "execute_result"
    }
   ]
  },
  {
   "cell_type": "markdown",
   "metadata": {
    "deletable": false,
    "editable": false,
    "nbgrader": {
     "cell_type": "markdown",
     "checksum": "493ede874f1e2c163a74021a41d8775d",
     "grade": false,
     "grade_id": "cell-1b2eb047117d89ab",
     "locked": true,
     "schema_version": 3,
     "solution": false,
     "task": false
    },
    "id": "if55Tcgwp3yK"
   },
   "source": [
    "**Task 1 Test**"
   ]
  },
  {
   "cell_type": "code",
   "metadata": {
    "deletable": false,
    "editable": false,
    "nbgrader": {
     "cell_type": "code",
     "checksum": "0d68298cfa23877cd61b8ba487c19dc6",
     "grade": true,
     "grade_id": "cell-e9593d4f4ed7a9bb",
     "locked": true,
     "points": 1,
     "schema_version": 3,
     "solution": false,
     "task": false
    },
    "id": "ZMHrOvgJp3yK"
   },
   "source": [
    "'''T1 Test'''\n",
    "assert isinstance(df, pd.DataFrame), 'Have you created a DataFrame named `df`?'\n",
    "assert len(df) == 51916"
   ],
   "execution_count": 9,
   "outputs": []
  },
  {
   "cell_type": "markdown",
   "metadata": {
    "deletable": false,
    "editable": false,
    "nbgrader": {
     "cell_type": "markdown",
     "checksum": "1ee62609b3bf18520406b3837f7843a6",
     "grade": false,
     "grade_id": "cell-9e90dce33ddd0506",
     "locked": true,
     "schema_version": 3,
     "solution": false,
     "task": false
    },
    "id": "mSuxqs0sp3yL"
   },
   "source": [
    "**Task 2:** Given that this model is supposed to generate predictions *before* an inspection is conducted, identify the numerical feature that is an example of **data leakage.** Assign the column name to the variable `'leaky_col'`.\n",
    "\n",
    "**Remember:** Leakage is when your feature matrix includes columns that will not be available to your model at the time it make predictions.\n",
    "\n"
   ]
  },
  {
   "cell_type": "code",
   "metadata": {
    "deletable": false,
    "nbgrader": {
     "cell_type": "code",
     "checksum": "27b878765c52a092c3c56791dde91d5d",
     "grade": false,
     "grade_id": "cell-ef24afc9168ad64f",
     "locked": false,
     "schema_version": 3,
     "solution": true,
     "task": false
    },
    "id": "q6sbQeYSp3yL"
   },
   "source": [
    "'''T2. Identify data leakage column.'''\n",
    "leaky_col = 'Serious Violations Found'\n",
    "# YOUR CODE HERE\n",
    "# raise NotImplementedError()"
   ],
   "execution_count": 10,
   "outputs": []
  },
  {
   "cell_type": "markdown",
   "metadata": {
    "deletable": false,
    "editable": false,
    "nbgrader": {
     "cell_type": "markdown",
     "checksum": "9874ad6b513dd2c2e409aa1d6610a65e",
     "grade": false,
     "grade_id": "cell-378fd448d54e6fc0",
     "locked": true,
     "schema_version": 3,
     "solution": false,
     "task": false
    },
    "id": "fIWu7M5dp3yL"
   },
   "source": [
    "**Task 2 Test**"
   ]
  },
  {
   "cell_type": "code",
   "metadata": {
    "deletable": false,
    "editable": false,
    "nbgrader": {
     "cell_type": "code",
     "checksum": "5a57c6a47e502a421524daf29beb7941",
     "grade": true,
     "grade_id": "cell-8429f30efb2a7bf7",
     "locked": true,
     "points": 1,
     "schema_version": 3,
     "solution": false,
     "task": false
    },
    "id": "1ffXR7ABp3yM"
   },
   "source": [
    "'''T2 Test'''\n",
    "# This is a hidden test. \n",
    "# You'll see the result when you submit to Canvas.\n",
    "assert isinstance(leaky_col, str), '`leaky_col` should be type `str`.'"
   ],
   "execution_count": 11,
   "outputs": []
  },
  {
   "cell_type": "markdown",
   "metadata": {
    "deletable": false,
    "editable": false,
    "nbgrader": {
     "cell_type": "markdown",
     "checksum": "b17eb5d6c465729f58b1739a11ea5b96",
     "grade": false,
     "grade_id": "cell-2f7298cea62c493e",
     "locked": true,
     "schema_version": 3,
     "solution": false,
     "task": false
    },
    "id": "x0PUAmKKp3yM"
   },
   "source": [
    "**Task 3:** Add to the `wrangle` function below so that it does the following:\n",
    "\n",
    "- Removes the \"leaky\" column.\n",
    "- Removes high-cardinality categorical columns (more than `500` categories).\n",
    "- Removes categorical columns that have only one category.\n",
    "- Removes numerical columns that are unique identifiers for each observation, not features that would affect the target."
   ]
  },
  {
   "cell_type": "code",
   "metadata": {
    "pycharm": {
     "name": "#%%\n"
    },
    "id": "VoyVI6i_p3yM",
    "colab": {
     "referenced_widgets": [
      "467790aea5954c5bb042c5858f42666b",
      "3876ee5ad01a4ee69a18e3dafb32e251",
      "68fe7b3e52154018b1e78873d6c1b35b"
     ]
    },
    "outputId": "3de0a4b2-3f78-47e8-f2fa-a4b363c84082"
   },
   "source": [
    "# finding high cardinality columns first\n",
    "# commenting as codegrade is throwing an error on pandas_profiling\n",
    "# profile = ProfileReport(df, minimal=True).to_notebook_iframe()\n"
   ],
   "execution_count": 12,
   "outputs": []
  },
  {
   "cell_type": "code",
   "metadata": {
    "pycharm": {
     "name": "#%%\n"
    },
    "id": "OA0qa_-Jp3yN",
    "outputId": "6bc7dffd-6479-4ab0-8e68-4a44f3228b64"
   },
   "source": [
    "# get the column names to easily copy paste\n",
    "print(df.columns.to_list())"
   ],
   "execution_count": 13,
   "outputs": [
    {
     "name": "stdout",
     "output_type": "stream",
     "text": [
      "['Inspection ID', 'DBA Name', 'AKA Name', 'License #', 'Facility Type', 'Risk', 'Address', 'City', 'State', 'Zip', 'Inspection Type', 'Violations', 'Latitude', 'Longitude', 'Location', 'Fail', 'Serious Violations Found']\n"
     ]
    }
   ]
  },
  {
   "cell_type": "code",
   "metadata": {
    "deletable": false,
    "nbgrader": {
     "cell_type": "code",
     "checksum": "40e1745bb407a170e1dec8221d37fc3c",
     "grade": false,
     "grade_id": "cell-d6fc5ee398afff4f",
     "locked": false,
     "schema_version": 3,
     "solution": true,
     "task": false
    },
    "id": "OBoqGECyp3yN"
   },
   "source": [
    "'''T3. Write wrangle function.'''\n",
    "def wrangle(df):\n",
    "    df.drop(columns=[leaky_col, 'DBA Name', 'AKA Name', 'License #', 'Address', 'State', 'Violations', 'Location', 'Inspection ID' ], inplace=True)\n",
    "\n",
    "    return df\n",
    "# YOUR CODE HERE\n",
    "# raise NotImplementedError()\n",
    "df = wrangle(df)"
   ],
   "execution_count": 14,
   "outputs": []
  },
  {
   "cell_type": "code",
   "metadata": {
    "pycharm": {
     "name": "#%%\n"
    },
    "id": "ol61duQbp3yO",
    "outputId": "82bc2616-03c3-41f9-fc8a-1722053d3a0a"
   },
   "source": [
    "# see the new dataframe to check how it looks\n",
    "df.head()"
   ],
   "execution_count": 15,
   "outputs": [
    {
     "data": {
      "text/plain": "                 Facility Type             Risk     City      Zip  \\\nInspection Date                                                     \n2017-09-15          Restaurant    Risk 1 (High)  CHICAGO  60657.0   \n2011-10-20       Grocery Store     Risk 3 (Low)  CHICAGO  60636.0   \n2016-04-05          Restaurant    Risk 1 (High)  CHICAGO  60649.0   \n2016-04-29          Restaurant  Risk 2 (Medium)  CHICAGO  60632.0   \n2011-01-10              School    Risk 1 (High)  CHICAGO  60629.0   \n\n                         Inspection Type   Latitude  Longitude  Fail  \nInspection Date                                                       \n2017-09-15                       Canvass  41.938007 -87.644755     1  \n2011-10-20       Complaint Re-Inspection  41.772402 -87.683603     0  \n2016-04-05         Canvass Re-Inspection  41.758779 -87.575054     0  \n2016-04-29                       Canvass  41.812181 -87.707125     0  \n2011-01-10                       Canvass        NaN        NaN     0  ",
      "text/html": "<div>\n<style scoped>\n    .dataframe tbody tr th:only-of-type {\n        vertical-align: middle;\n    }\n\n    .dataframe tbody tr th {\n        vertical-align: top;\n    }\n\n    .dataframe thead th {\n        text-align: right;\n    }\n</style>\n<table border=\"1\" class=\"dataframe\">\n  <thead>\n    <tr style=\"text-align: right;\">\n      <th></th>\n      <th>Facility Type</th>\n      <th>Risk</th>\n      <th>City</th>\n      <th>Zip</th>\n      <th>Inspection Type</th>\n      <th>Latitude</th>\n      <th>Longitude</th>\n      <th>Fail</th>\n    </tr>\n    <tr>\n      <th>Inspection Date</th>\n      <th></th>\n      <th></th>\n      <th></th>\n      <th></th>\n      <th></th>\n      <th></th>\n      <th></th>\n      <th></th>\n    </tr>\n  </thead>\n  <tbody>\n    <tr>\n      <th>2017-09-15</th>\n      <td>Restaurant</td>\n      <td>Risk 1 (High)</td>\n      <td>CHICAGO</td>\n      <td>60657.0</td>\n      <td>Canvass</td>\n      <td>41.938007</td>\n      <td>-87.644755</td>\n      <td>1</td>\n    </tr>\n    <tr>\n      <th>2011-10-20</th>\n      <td>Grocery Store</td>\n      <td>Risk 3 (Low)</td>\n      <td>CHICAGO</td>\n      <td>60636.0</td>\n      <td>Complaint Re-Inspection</td>\n      <td>41.772402</td>\n      <td>-87.683603</td>\n      <td>0</td>\n    </tr>\n    <tr>\n      <th>2016-04-05</th>\n      <td>Restaurant</td>\n      <td>Risk 1 (High)</td>\n      <td>CHICAGO</td>\n      <td>60649.0</td>\n      <td>Canvass Re-Inspection</td>\n      <td>41.758779</td>\n      <td>-87.575054</td>\n      <td>0</td>\n    </tr>\n    <tr>\n      <th>2016-04-29</th>\n      <td>Restaurant</td>\n      <td>Risk 2 (Medium)</td>\n      <td>CHICAGO</td>\n      <td>60632.0</td>\n      <td>Canvass</td>\n      <td>41.812181</td>\n      <td>-87.707125</td>\n      <td>0</td>\n    </tr>\n    <tr>\n      <th>2011-01-10</th>\n      <td>School</td>\n      <td>Risk 1 (High)</td>\n      <td>CHICAGO</td>\n      <td>60629.0</td>\n      <td>Canvass</td>\n      <td>NaN</td>\n      <td>NaN</td>\n      <td>0</td>\n    </tr>\n  </tbody>\n</table>\n</div>"
     },
     "execution_count": 15,
     "metadata": {},
     "output_type": "execute_result"
    }
   ]
  },
  {
   "cell_type": "markdown",
   "metadata": {
    "deletable": false,
    "editable": false,
    "nbgrader": {
     "cell_type": "markdown",
     "checksum": "22afb4a381b73f41b02f83ca4a0102bd",
     "grade": false,
     "grade_id": "cell-7b5d539f39db8415",
     "locked": true,
     "schema_version": 3,
     "solution": false,
     "task": false
    },
    "id": "mpEBoAnsp3yP"
   },
   "source": [
    "**Task 3 Test**"
   ]
  },
  {
   "cell_type": "code",
   "metadata": {
    "deletable": false,
    "editable": false,
    "nbgrader": {
     "cell_type": "code",
     "checksum": "05d5f964ad8d8bf468bd907abaa85213",
     "grade": true,
     "grade_id": "cell-49f495efb58bcd9f",
     "locked": true,
     "points": 1,
     "schema_version": 3,
     "solution": false,
     "task": false
    },
    "id": "vRPKxNVMp3yP"
   },
   "source": [
    "'''T3 Test'''\n",
    "assert df.select_dtypes('object').nunique().max() < 500, 'Have you dropped the high-cardinality columns?'\n",
    "assert df.select_dtypes('object').nunique().min() > 1, 'Have you dropped the column with only one category?'"
   ],
   "execution_count": 16,
   "outputs": []
  },
  {
   "cell_type": "markdown",
   "metadata": {
    "deletable": false,
    "editable": false,
    "nbgrader": {
     "cell_type": "markdown",
     "checksum": "f93a157b989f3327402d7b93a31bb595",
     "grade": false,
     "grade_id": "cell-aea953fa5337fc1f",
     "locked": true,
     "schema_version": 3,
     "solution": false,
     "task": false
    },
    "id": "yUlxd2pWp3yP"
   },
   "source": [
    "# II. Split Data\n",
    "\n",
    "**Task 4:** Split the DataFrame `df` into the feature matrix `X` and the target vector `y`. Your target is `'Fail'`."
   ]
  },
  {
   "cell_type": "code",
   "metadata": {
    "deletable": false,
    "nbgrader": {
     "cell_type": "code",
     "checksum": "7bfd4151db9dd6615a624da2954138e8",
     "grade": false,
     "grade_id": "cell-b21b1c40f5478337",
     "locked": false,
     "schema_version": 3,
     "solution": true,
     "task": false
    },
    "id": "r3n3frYUp3yR",
    "outputId": "737d7389-2ec3-4124-ca88-1c22d99be4bb"
   },
   "source": [
    "'''T4. Split feature matrix and target vector.'''\n",
    "target = 'Fail'\n",
    "X = df.drop(columns=target)\n",
    "y = df[target]\n",
    "# raise NotImplementedError()\n",
    "X.shape, y.shape"
   ],
   "execution_count": 17,
   "outputs": [
    {
     "data": {
      "text/plain": "((51916, 7), (51916,))"
     },
     "execution_count": 17,
     "metadata": {},
     "output_type": "execute_result"
    }
   ]
  },
  {
   "cell_type": "markdown",
   "metadata": {
    "deletable": false,
    "editable": false,
    "nbgrader": {
     "cell_type": "markdown",
     "checksum": "2f00ae85d10438328017da8b01b77354",
     "grade": false,
     "grade_id": "cell-d9a64e5a6bd2a37d",
     "locked": true,
     "schema_version": 3,
     "solution": false,
     "task": false
    },
    "id": "38KhPu6ep3yS"
   },
   "source": [
    "**Task 4 Test**"
   ]
  },
  {
   "cell_type": "code",
   "metadata": {
    "deletable": false,
    "editable": false,
    "nbgrader": {
     "cell_type": "code",
     "checksum": "04db76e9023f0b61187af1e39513d377",
     "grade": true,
     "grade_id": "cell-a1d912e28c9f7522",
     "locked": true,
     "points": 1,
     "schema_version": 3,
     "solution": false,
     "task": false
    },
    "id": "Fg3ik9Rpp3yS"
   },
   "source": [
    "'''T4 Test'''\n",
    "assert y.shape == (51916,), '`y` either has the wrong number of rows, or is two-dimentional.'\n",
    "assert len(X) == 51916, '`X` has the wrong number of rows.'"
   ],
   "execution_count": 18,
   "outputs": []
  },
  {
   "cell_type": "markdown",
   "metadata": {
    "deletable": false,
    "editable": false,
    "nbgrader": {
     "cell_type": "markdown",
     "checksum": "e719471298c6c418489a657a500b7d0e",
     "grade": false,
     "grade_id": "cell-b575fbda93b87f6a",
     "locked": true,
     "schema_version": 3,
     "solution": false,
     "task": false
    },
    "id": "f6PfQ1Uxp3yT"
   },
   "source": [
    "**Task 5:** Split your dataset into training and validation sets.\n",
    "\n",
    "- Your training set (`X_train`, `y_train`) should contain inspections conducted before 2017.\n",
    "- Your validation set (`X_val`, `y_val`) should contain inspections conducted during or after 2017."
   ]
  },
  {
   "cell_type": "code",
   "metadata": {
    "deletable": false,
    "nbgrader": {
     "cell_type": "code",
     "checksum": "f92b2b9f9460a17c987c23188e3c31b1",
     "grade": false,
     "grade_id": "cell-0bb47689fd4667ed",
     "locked": false,
     "schema_version": 3,
     "solution": true,
     "task": false
    },
    "id": "0FB6JaUVp3yT",
    "outputId": "1732a363-466e-4384-9f80-b7f5f37f5632"
   },
   "source": [
    "'''T5. Split dataset into training and validation sets.'''\n",
    "# YOUR CODE HERE\n",
    "# train subsetting\n",
    "X_train = X[X.index.year < 2017]\n",
    "y_train = y[y.index.year < 2017]\n",
    "\n",
    "# test subsetting\n",
    "X_val = X[X.index.year >= 2017]\n",
    "y_val = y[y.index.year >= 2017]\n",
    "X_train.shape, y_train.shape, X_val.shape, y_val.shape\n",
    "# raise NotImplementedError()"
   ],
   "execution_count": 19,
   "outputs": [
    {
     "data": {
      "text/plain": "((41827, 7), (41827,), (10089, 7), (10089,))"
     },
     "execution_count": 19,
     "metadata": {},
     "output_type": "execute_result"
    }
   ]
  },
  {
   "cell_type": "markdown",
   "metadata": {
    "deletable": false,
    "editable": false,
    "nbgrader": {
     "cell_type": "markdown",
     "checksum": "60e77b85e7db0d0cb2522b8caa399e77",
     "grade": false,
     "grade_id": "cell-8517b2d477256843",
     "locked": true,
     "schema_version": 3,
     "solution": false,
     "task": false
    },
    "id": "B-YljCnSp3yU"
   },
   "source": [
    "**Task 5 Testing**"
   ]
  },
  {
   "cell_type": "code",
   "metadata": {
    "deletable": false,
    "editable": false,
    "nbgrader": {
     "cell_type": "code",
     "checksum": "56e9e6ef918d3a662decf3f6d67dfd01",
     "grade": true,
     "grade_id": "cell-52cf3ef1934a4278",
     "locked": true,
     "points": 1,
     "schema_version": 3,
     "solution": false,
     "task": false
    },
    "id": "w9IvCQysp3yU"
   },
   "source": [
    "'''T5 Test'''\n",
    "assert len(X_train) == len(y_train) == 41827, 'Your training set has the wrong number of observations.'\n",
    "assert len(X_val) == len(y_val) == 10089, 'Your validation set has the wrong number of observations.'"
   ],
   "execution_count": 20,
   "outputs": []
  },
  {
   "cell_type": "markdown",
   "metadata": {
    "deletable": false,
    "editable": false,
    "nbgrader": {
     "cell_type": "markdown",
     "checksum": "0641d242faca29af591ebea98bc88ed6",
     "grade": false,
     "grade_id": "cell-2e9a4c74f50ed0fc",
     "locked": true,
     "schema_version": 3,
     "solution": false,
     "task": false
    },
    "id": "yq-nNc27p3yV"
   },
   "source": [
    "# III. Establish Baseline\n",
    "\n",
    "**Task 6:** Establish the baseline accuracy score for this classification problem using your training set. Save the score to the variable `baseline_acc`."
   ]
  },
  {
   "cell_type": "code",
   "metadata": {
    "deletable": false,
    "nbgrader": {
     "cell_type": "code",
     "checksum": "b658c6901efe4fe564387be697265352",
     "grade": false,
     "grade_id": "cell-3d21cc97649be107",
     "locked": false,
     "schema_version": 3,
     "solution": true,
     "task": false
    },
    "id": "vNwdRDFNp3yV",
    "outputId": "9b29aa50-18b7-4624-c63a-e4f0ca6da3b1"
   },
   "source": [
    "'''T6. Establish baseline accuracy.'''\n",
    "# the baseline of this problem is going to be the class that is in the majority\n",
    "print(y_train.value_counts())\n",
    "baseline_acc = 0\n",
    "# raise NotImplementedError()\n",
    "print('Baseline accuracy:', baseline_acc)"
   ],
   "execution_count": 21,
   "outputs": [
    {
     "name": "stdout",
     "output_type": "stream",
     "text": [
      "0    31398\n",
      "1    10429\n",
      "Name: Fail, dtype: int64\n",
      "Baseline accuracy: 0\n"
     ]
    }
   ]
  },
  {
   "cell_type": "markdown",
   "metadata": {
    "deletable": false,
    "editable": false,
    "nbgrader": {
     "cell_type": "markdown",
     "checksum": "6098c9452685d029c07b96f5295b5c1d",
     "grade": false,
     "grade_id": "cell-56d5801c8831c15b",
     "locked": true,
     "schema_version": 3,
     "solution": false,
     "task": false
    },
    "id": "5HoYwCe7p3yV"
   },
   "source": [
    "**Task 6 Testing**"
   ]
  },
  {
   "cell_type": "code",
   "metadata": {
    "deletable": false,
    "editable": false,
    "nbgrader": {
     "cell_type": "code",
     "checksum": "8527a8f2e79c09d69519059e56c54272",
     "grade": true,
     "grade_id": "cell-abdc4cbe95e9d1da",
     "locked": true,
     "points": 1,
     "schema_version": 3,
     "solution": false,
     "task": false
    },
    "id": "qqbGXBt4p3yV",
    "outputId": "622595c0-2261-41bb-f631-3af9c084447a"
   },
   "source": [
    "'''T6 Test'''\n",
    "assert isinstance(baseline_acc, float), '`baseline_acc` should be type float. Have you defined the variable?'\n",
    "assert 0.0 <= baseline_acc <= 1.0"
   ],
   "execution_count": 22,
   "outputs": [
    {
     "ename": "AssertionError",
     "evalue": "`baseline_acc` should be type float. Have you defined the variable?",
     "output_type": "error",
     "traceback": [
      "\u001B[0;31m---------------------------------------------------------------------------\u001B[0m",
      "\u001B[0;31mAssertionError\u001B[0m                            Traceback (most recent call last)",
      "\u001B[0;32m<ipython-input-22-f35b4bc436d6>\u001B[0m in \u001B[0;36m<module>\u001B[0;34m\u001B[0m\n\u001B[1;32m      1\u001B[0m \u001B[0;34m'''T6 Test'''\u001B[0m\u001B[0;34m\u001B[0m\u001B[0;34m\u001B[0m\u001B[0m\n\u001B[0;32m----> 2\u001B[0;31m \u001B[0;32massert\u001B[0m \u001B[0misinstance\u001B[0m\u001B[0;34m(\u001B[0m\u001B[0mbaseline_acc\u001B[0m\u001B[0;34m,\u001B[0m \u001B[0mfloat\u001B[0m\u001B[0;34m)\u001B[0m\u001B[0;34m,\u001B[0m \u001B[0;34m'`baseline_acc` should be type float. Have you defined the variable?'\u001B[0m\u001B[0;34m\u001B[0m\u001B[0;34m\u001B[0m\u001B[0m\n\u001B[0m\u001B[1;32m      3\u001B[0m \u001B[0;32massert\u001B[0m \u001B[0;36m0.0\u001B[0m \u001B[0;34m<=\u001B[0m \u001B[0mbaseline_acc\u001B[0m \u001B[0;34m<=\u001B[0m \u001B[0;36m1.0\u001B[0m\u001B[0;34m\u001B[0m\u001B[0;34m\u001B[0m\u001B[0m\n\u001B[1;32m      4\u001B[0m \u001B[0;34m\u001B[0m\u001B[0m\n",
      "\u001B[0;31mAssertionError\u001B[0m: `baseline_acc` should be type float. Have you defined the variable?"
     ]
    }
   ]
  },
  {
   "cell_type": "markdown",
   "metadata": {
    "deletable": false,
    "editable": false,
    "nbgrader": {
     "cell_type": "markdown",
     "checksum": "8a0f7eab56c05e92a441333652ccf6cf",
     "grade": false,
     "grade_id": "cell-7d68939c4eced62c",
     "locked": true,
     "schema_version": 3,
     "solution": false,
     "task": false
    },
    "id": "Y9ikiS4Bp3yW"
   },
   "source": [
    "# IV. Build Model\n",
    "\n",
    "In this section, you want to answer the question: Which ensemble method performs better with this data — bagging or boosting?\n",
    "\n",
    "**Task 7:** Build a model that includes a bagging predictor (`RandomForest`). Your predictor should be part of a pipeline named `model_bag` that includes any transformers that you think are necessary."
   ]
  },
  {
   "cell_type": "code",
   "metadata": {
    "pycharm": {
     "name": "#%%\n"
    },
    "id": "pkjNhaCMp3yW",
    "outputId": "4bae8137-02df-4a86-ca05-abd35483181f"
   },
   "source": [
    "X_train.describe(include='all')"
   ],
   "execution_count": 23,
   "outputs": [
    {
     "data": {
      "text/plain": "       Facility Type           Risk     City           Zip Inspection Type  \\\ncount          41612          41815    41786  41801.000000           41826   \nunique           304              3       33           NaN              51   \ntop       Restaurant  Risk 1 (High)  CHICAGO           NaN         Canvass   \nfreq           27436          29801    41626           NaN           19458   \nmean             NaN            NaN      NaN  60628.902849             NaN   \nstd              NaN            NaN      NaN     22.108896             NaN   \nmin              NaN            NaN      NaN  60007.000000             NaN   \n25%              NaN            NaN      NaN  60614.000000             NaN   \n50%              NaN            NaN      NaN  60625.000000             NaN   \n75%              NaN            NaN      NaN  60643.000000             NaN   \nmax              NaN            NaN      NaN  60827.000000             NaN   \n\n            Latitude     Longitude  \ncount   41665.000000  41665.000000  \nunique           NaN           NaN  \ntop              NaN           NaN  \nfreq             NaN           NaN  \nmean       41.878321    -87.676510  \nstd         0.081259      0.059333  \nmin        41.644670    -87.914428  \n25%        41.823475    -87.708017  \n50%        41.889465    -87.666725  \n75%        41.938539    -87.634314  \nmax        42.021064    -87.525094  ",
      "text/html": "<div>\n<style scoped>\n    .dataframe tbody tr th:only-of-type {\n        vertical-align: middle;\n    }\n\n    .dataframe tbody tr th {\n        vertical-align: top;\n    }\n\n    .dataframe thead th {\n        text-align: right;\n    }\n</style>\n<table border=\"1\" class=\"dataframe\">\n  <thead>\n    <tr style=\"text-align: right;\">\n      <th></th>\n      <th>Facility Type</th>\n      <th>Risk</th>\n      <th>City</th>\n      <th>Zip</th>\n      <th>Inspection Type</th>\n      <th>Latitude</th>\n      <th>Longitude</th>\n    </tr>\n  </thead>\n  <tbody>\n    <tr>\n      <th>count</th>\n      <td>41612</td>\n      <td>41815</td>\n      <td>41786</td>\n      <td>41801.000000</td>\n      <td>41826</td>\n      <td>41665.000000</td>\n      <td>41665.000000</td>\n    </tr>\n    <tr>\n      <th>unique</th>\n      <td>304</td>\n      <td>3</td>\n      <td>33</td>\n      <td>NaN</td>\n      <td>51</td>\n      <td>NaN</td>\n      <td>NaN</td>\n    </tr>\n    <tr>\n      <th>top</th>\n      <td>Restaurant</td>\n      <td>Risk 1 (High)</td>\n      <td>CHICAGO</td>\n      <td>NaN</td>\n      <td>Canvass</td>\n      <td>NaN</td>\n      <td>NaN</td>\n    </tr>\n    <tr>\n      <th>freq</th>\n      <td>27436</td>\n      <td>29801</td>\n      <td>41626</td>\n      <td>NaN</td>\n      <td>19458</td>\n      <td>NaN</td>\n      <td>NaN</td>\n    </tr>\n    <tr>\n      <th>mean</th>\n      <td>NaN</td>\n      <td>NaN</td>\n      <td>NaN</td>\n      <td>60628.902849</td>\n      <td>NaN</td>\n      <td>41.878321</td>\n      <td>-87.676510</td>\n    </tr>\n    <tr>\n      <th>std</th>\n      <td>NaN</td>\n      <td>NaN</td>\n      <td>NaN</td>\n      <td>22.108896</td>\n      <td>NaN</td>\n      <td>0.081259</td>\n      <td>0.059333</td>\n    </tr>\n    <tr>\n      <th>min</th>\n      <td>NaN</td>\n      <td>NaN</td>\n      <td>NaN</td>\n      <td>60007.000000</td>\n      <td>NaN</td>\n      <td>41.644670</td>\n      <td>-87.914428</td>\n    </tr>\n    <tr>\n      <th>25%</th>\n      <td>NaN</td>\n      <td>NaN</td>\n      <td>NaN</td>\n      <td>60614.000000</td>\n      <td>NaN</td>\n      <td>41.823475</td>\n      <td>-87.708017</td>\n    </tr>\n    <tr>\n      <th>50%</th>\n      <td>NaN</td>\n      <td>NaN</td>\n      <td>NaN</td>\n      <td>60625.000000</td>\n      <td>NaN</td>\n      <td>41.889465</td>\n      <td>-87.666725</td>\n    </tr>\n    <tr>\n      <th>75%</th>\n      <td>NaN</td>\n      <td>NaN</td>\n      <td>NaN</td>\n      <td>60643.000000</td>\n      <td>NaN</td>\n      <td>41.938539</td>\n      <td>-87.634314</td>\n    </tr>\n    <tr>\n      <th>max</th>\n      <td>NaN</td>\n      <td>NaN</td>\n      <td>NaN</td>\n      <td>60827.000000</td>\n      <td>NaN</td>\n      <td>42.021064</td>\n      <td>-87.525094</td>\n    </tr>\n  </tbody>\n</table>\n</div>"
     },
     "execution_count": 23,
     "metadata": {},
     "output_type": "execute_result"
    }
   ]
  },
  {
   "cell_type": "code",
   "metadata": {
    "deletable": false,
    "nbgrader": {
     "cell_type": "code",
     "checksum": "49a48b340c0ee7f9630c3ce57e4ca439",
     "grade": false,
     "grade_id": "cell-889285d53fdbe282",
     "locked": false,
     "schema_version": 3,
     "solution": true,
     "task": false
    },
    "id": "luQIa-XTp3yW"
   },
   "source": [
    "'''T7. Build model with bagging predictor.'''\n",
    "\n",
    "# YOUR CODE HERE\n",
    "\n",
    "model_bag = make_pipeline(\n",
    "    ce.OrdinalEncoder(),\n",
    "    SimpleImputer(strategy='mean'),\n",
    "    RandomForestClassifier(n_estimators=100, n_jobs=-1)\n",
    ")\n",
    "model_bag.fit(X_train, y_train);"
   ],
   "execution_count": 24,
   "outputs": []
  },
  {
   "cell_type": "markdown",
   "metadata": {
    "deletable": false,
    "editable": false,
    "nbgrader": {
     "cell_type": "markdown",
     "checksum": "81055fe5d87448fd8e4aff2ca4f10ea0",
     "grade": false,
     "grade_id": "cell-72dac6ede9a13038",
     "locked": true,
     "schema_version": 3,
     "solution": false,
     "task": false
    },
    "id": "mMTtyCiFp3yW"
   },
   "source": [
    "**Tast 7 Testing**"
   ]
  },
  {
   "cell_type": "code",
   "metadata": {
    "deletable": false,
    "editable": false,
    "nbgrader": {
     "cell_type": "code",
     "checksum": "57725e1ca8a837d8fa761271f994ad44",
     "grade": true,
     "grade_id": "cell-cddc5d7d2170877b",
     "locked": true,
     "points": 1,
     "schema_version": 3,
     "solution": false,
     "task": false
    },
    "id": "IJ6F7yUGp3yX"
   },
   "source": [
    "'''T7 Testing'''\n",
    "from sklearn.pipeline import Pipeline\n",
    "from sklearn.ensemble import RandomForestClassifier\n",
    "assert isinstance(model_bag, Pipeline), '`model_bag` is the wrong data type. Have you assigned your pipeline to the correct variable name?'\n",
    "assert isinstance(model_bag[-1], RandomForestClassifier), 'Your predictor should be a `RandomForestClassifier`.'\n",
    "assert hasattr(model_bag[-1], 'feature_importances_'), 'Have you trained your model?'"
   ],
   "execution_count": 25,
   "outputs": []
  },
  {
   "cell_type": "markdown",
   "metadata": {
    "deletable": false,
    "editable": false,
    "nbgrader": {
     "cell_type": "markdown",
     "checksum": "5e3c031075213c671f8f9b321585e9eb",
     "grade": false,
     "grade_id": "cell-d9750931390fe58f",
     "locked": true,
     "schema_version": 3,
     "solution": false,
     "task": false
    },
    "id": "tXWqpL7Kp3yX"
   },
   "source": [
    "**Task 8:** Build a model that includes a boosting predictor (`GradientBoostingClassifier` from `sklearn` or `XGBClassifier` from `xgboost`). Your predictor should be part of a pipeline named `model_boost` that includes any transformers that you think are necessary. "
   ]
  },
  {
   "cell_type": "code",
   "metadata": {
    "deletable": false,
    "nbgrader": {
     "cell_type": "code",
     "checksum": "a30d11fa6b0d4e143f4572b0baf65afb",
     "grade": false,
     "grade_id": "cell-37f16b5811ae5223",
     "locked": false,
     "schema_version": 3,
     "solution": true,
     "task": false
    },
    "id": "yJ4q2cW-p3yX",
    "outputId": "3e4bb4f9-f611-484f-8c31-aa656b225183"
   },
   "source": [
    "'''T8. Build model with boosting predictor.'''\n",
    "# importing again to correct codegrade error even though it is imported above too\n",
    "import matplotlib.pyplot as plt\n",
    "from sklearn.metrics import roc_curve\n",
    "from xgboost import XGBClassifier\n",
    "\n",
    "model_boost = make_pipeline(\n",
    "    ce.OrdinalEncoder(),\n",
    "    SimpleImputer(strategy='mean'),\n",
    "    XGBClassifier(n_estimators=100, verbosity=1, n_jobs=-1)\n",
    ")\n",
    "# raise NotImplementedError()\n",
    "model_boost.fit(X_train, y_train);"
   ],
   "execution_count": 26,
   "outputs": [
    {
     "name": "stdout",
     "output_type": "stream",
     "text": [
      "[03:11:51] WARNING: ../src/learner.cc:1061: Starting in XGBoost 1.3.0, the default evaluation metric used with the objective 'binary:logistic' was changed from 'error' to 'logloss'. Explicitly set eval_metric if you'd like to restore the old behavior.\n"
     ]
    }
   ]
  },
  {
   "cell_type": "markdown",
   "metadata": {
    "deletable": false,
    "editable": false,
    "nbgrader": {
     "cell_type": "markdown",
     "checksum": "64d1c2ff5004fe02082dc204299e0e70",
     "grade": false,
     "grade_id": "cell-3699731f62fa5db3",
     "locked": true,
     "schema_version": 3,
     "solution": false,
     "task": false
    },
    "id": "kyC3_SgNp3yY"
   },
   "source": [
    "**Task 8 Testing**"
   ]
  },
  {
   "cell_type": "code",
   "metadata": {
    "deletable": false,
    "editable": false,
    "nbgrader": {
     "cell_type": "code",
     "checksum": "35744289b60d1556e064bc09da544566",
     "grade": true,
     "grade_id": "cell-90deb42a1c052402",
     "locked": true,
     "points": 1,
     "schema_version": 3,
     "solution": false,
     "task": false
    },
    "id": "UUXP1twEp3yY"
   },
   "source": [
    "'''T8 Testing'''\n",
    "from xgboost import XGBClassifier\n",
    "from sklearn.ensemble import GradientBoostingClassifier\n",
    "assert isinstance(model_boost, Pipeline), '`model_boost` is the wrong data type. Have you assigned your pipeline to the correct variable name?'\n",
    "assert any([isinstance(model_boost[-1], XGBClassifier),\n",
    "            isinstance(model_boost[-1], GradientBoostingClassifier)]), 'Your predictor should be `XGBClassifier` or `GradientBoostingClassifier`.'"
   ],
   "execution_count": 27,
   "outputs": []
  },
  {
   "cell_type": "markdown",
   "metadata": {
    "deletable": false,
    "editable": false,
    "nbgrader": {
     "cell_type": "markdown",
     "checksum": "ebed19854d947c07608d2cb6c356f7ec",
     "grade": false,
     "grade_id": "cell-dc041ac00c805cff",
     "locked": true,
     "schema_version": 3,
     "solution": false,
     "task": false
    },
    "id": "QqBGeb_Rp3yY"
   },
   "source": [
    "# V. Check Metrics\n",
    "\n",
    "Here are the accuracy scores for your two models. Did you beat the baseline? Which of your two models appears to perform better on your validation set?"
   ]
  },
  {
   "cell_type": "code",
   "metadata": {
    "deletable": false,
    "editable": false,
    "nbgrader": {
     "cell_type": "code",
     "checksum": "fc12491c98afa1dd0767422ce0a07b22",
     "grade": false,
     "grade_id": "cell-c0206a761fccab6c",
     "locked": true,
     "schema_version": 3,
     "solution": false,
     "task": false
    },
    "id": "TfvRqia7p3yY",
    "outputId": "3b0b47c1-9361-4bd7-ef49-bb4cacd187d4"
   },
   "source": [
    "print('Bagging Model')\n",
    "print('Training accuracy:', model_bag.score(X_train, y_train))\n",
    "print('Validation accuracy:', model_bag.score(X_val, y_val))\n",
    "print()\n",
    "print('Boosting Model')\n",
    "print('Training accuracy:', model_boost.score(X_train, y_train))\n",
    "print('Validation accuracy:', model_boost.score(X_val, y_val))"
   ],
   "execution_count": 28,
   "outputs": [
    {
     "name": "stdout",
     "output_type": "stream",
     "text": [
      "Bagging Model\n",
      "Training accuracy: 0.907858560260119\n",
      "Validation accuracy: 0.6816334621865398\n",
      "\n",
      "Boosting Model\n",
      "Training accuracy: 0.7880794701986755\n",
      "Validation accuracy: 0.7023490930716622\n"
     ]
    }
   ]
  },
  {
   "cell_type": "markdown",
   "metadata": {
    "deletable": false,
    "editable": false,
    "nbgrader": {
     "cell_type": "markdown",
     "checksum": "044f92b1e1321a290f39d2a3d4f756ed",
     "grade": false,
     "grade_id": "cell-17e8e5433e896bc5",
     "locked": true,
     "schema_version": 3,
     "solution": false,
     "task": false
    },
    "id": "SNsDf4HTp3yZ"
   },
   "source": [
    "**Task 9 (`stretch_goal`):** Plot the ROC-curve for both of your models (you can plot them one-at-a-time, side-by-side, or in the same plot)."
   ]
  },
  {
   "cell_type": "code",
   "metadata": {
    "deletable": false,
    "nbgrader": {
     "cell_type": "code",
     "checksum": "e4a418ccf53481f58016cf1828e973da",
     "grade": false,
     "grade_id": "cell-769e4a780bb22283",
     "locked": false,
     "schema_version": 3,
     "solution": true,
     "task": false
    },
    "id": "ibF1R-Vcp3yZ",
    "outputId": "85702760-c325-43a7-96f1-0413b009545c"
   },
   "source": [
    "'''T9. Plot ROC-curve.'''\n",
    "# importing again to correct codegrade error even though it is imported above too\n",
    "import matplotlib.pyplot as plt\n",
    "from sklearn.metrics import roc_curve\n",
    "from xgboost import XGBClassifier\n",
    "\n",
    "y_pred_proba = model_bag.predict_proba(X_val)[:,1]\n",
    "fpr, tpr, thresholds = roc_curve(y_val, y_pred_proba)\n",
    "\n",
    "# print the results\n",
    "pd.DataFrame({\n",
    "    'False Positive Rate': fpr,\n",
    "    'True Positive Rate': tpr,\n",
    "    'Threshold': thresholds\n",
    "})\n",
    "# raise NotImplementedError()"
   ],
   "execution_count": 29,
   "outputs": [
    {
     "data": {
      "text/plain": "      False Positive Rate  True Positive Rate  Threshold\n0                0.000000            0.000000   2.000000\n1                0.000282            0.001001   1.000000\n2                0.000282            0.001335   0.995455\n3                0.000423            0.001335   0.991667\n4                0.000705            0.002336   0.990000\n...                   ...                 ...        ...\n3126             0.868866            0.940274   0.001600\n3127             0.869007            0.940274   0.001579\n3128             0.869289            0.940607   0.001429\n3129             0.869571            0.940607   0.001071\n3130             1.000000            1.000000   0.000000\n\n[3131 rows x 3 columns]",
      "text/html": "<div>\n<style scoped>\n    .dataframe tbody tr th:only-of-type {\n        vertical-align: middle;\n    }\n\n    .dataframe tbody tr th {\n        vertical-align: top;\n    }\n\n    .dataframe thead th {\n        text-align: right;\n    }\n</style>\n<table border=\"1\" class=\"dataframe\">\n  <thead>\n    <tr style=\"text-align: right;\">\n      <th></th>\n      <th>False Positive Rate</th>\n      <th>True Positive Rate</th>\n      <th>Threshold</th>\n    </tr>\n  </thead>\n  <tbody>\n    <tr>\n      <th>0</th>\n      <td>0.000000</td>\n      <td>0.000000</td>\n      <td>2.000000</td>\n    </tr>\n    <tr>\n      <th>1</th>\n      <td>0.000282</td>\n      <td>0.001001</td>\n      <td>1.000000</td>\n    </tr>\n    <tr>\n      <th>2</th>\n      <td>0.000282</td>\n      <td>0.001335</td>\n      <td>0.995455</td>\n    </tr>\n    <tr>\n      <th>3</th>\n      <td>0.000423</td>\n      <td>0.001335</td>\n      <td>0.991667</td>\n    </tr>\n    <tr>\n      <th>4</th>\n      <td>0.000705</td>\n      <td>0.002336</td>\n      <td>0.990000</td>\n    </tr>\n    <tr>\n      <th>...</th>\n      <td>...</td>\n      <td>...</td>\n      <td>...</td>\n    </tr>\n    <tr>\n      <th>3126</th>\n      <td>0.868866</td>\n      <td>0.940274</td>\n      <td>0.001600</td>\n    </tr>\n    <tr>\n      <th>3127</th>\n      <td>0.869007</td>\n      <td>0.940274</td>\n      <td>0.001579</td>\n    </tr>\n    <tr>\n      <th>3128</th>\n      <td>0.869289</td>\n      <td>0.940607</td>\n      <td>0.001429</td>\n    </tr>\n    <tr>\n      <th>3129</th>\n      <td>0.869571</td>\n      <td>0.940607</td>\n      <td>0.001071</td>\n    </tr>\n    <tr>\n      <th>3130</th>\n      <td>1.000000</td>\n      <td>1.000000</td>\n      <td>0.000000</td>\n    </tr>\n  </tbody>\n</table>\n<p>3131 rows × 3 columns</p>\n</div>"
     },
     "execution_count": 29,
     "metadata": {},
     "output_type": "execute_result"
    }
   ]
  },
  {
   "cell_type": "code",
   "metadata": {
    "pycharm": {
     "name": "#%%\n"
    },
    "id": "oVikjJjAp3ya",
    "outputId": "fdb2fe0b-4188-4852-9922-014112051850"
   },
   "source": [
    "# importing again to correct codegrade error even though it is imported above too\n",
    "import matplotlib.pyplot as plt\n",
    "from sklearn.metrics import roc_curve\n",
    "from xgboost import XGBClassifier\n",
    "\n",
    "# See the results of the ROC curve on a plot\n",
    "plt.scatter(fpr, tpr)\n",
    "plt.title('ROC Curve')\n",
    "plt.xlabel('False Positive Rate')\n",
    "plt.ylabel('True Positive Rate')\n"
   ],
   "execution_count": 30,
   "outputs": [
    {
     "data": {
      "text/plain": "Text(0, 0.5, 'True Positive Rate')"
     },
     "execution_count": 30,
     "metadata": {},
     "output_type": "execute_result"
    },
    {
     "data": {
      "text/plain": "<Figure size 432x288 with 1 Axes>",
      "image/png": "[encoded data removed]"
     },
     "metadata": {
      "needs_background": "light"
     },
     "output_type": "display_data"
    }
   ]
  },
  {
   "cell_type": "markdown",
   "metadata": {
    "deletable": false,
    "editable": false,
    "nbgrader": {
     "cell_type": "markdown",
     "checksum": "c2a7559346e95bf6ecd31e90dcefd3be",
     "grade": false,
     "grade_id": "cell-1b8571c3a6a034f5",
     "locked": true,
     "schema_version": 3,
     "solution": false,
     "task": false
    },
    "id": "96EQ0UhUp3ya"
   },
   "source": [
    "**Task 10:** Choose one of your models based on your validation accuracy score or your ROC curves. Then create a classification report for that model using your validation data. Save the text of the report to the variable name `model_cr`. \n",
    "\n",
    "##### PS: Due to the better score from the bagging model of RandomForest"
   ]
  },
  {
   "cell_type": "code",
   "metadata": {
    "deletable": false,
    "nbgrader": {
     "cell_type": "code",
     "checksum": "2ef340cbc8ec53da648b929c0bab96ef",
     "grade": false,
     "grade_id": "cell-49891c4ce9bf5f37",
     "locked": false,
     "schema_version": 3,
     "solution": true,
     "task": false
    },
    "id": "fzOjSr_Yp3ya",
    "outputId": "fd3207fe-dc2c-446c-c599-1375494043cf"
   },
   "source": [
    "'''T10. Generate classification report for one model.'''\n",
    "from sklearn.metrics import classification_report\n",
    "model_cr = classification_report(y_val, model_bag.predict(X_val))\n",
    "# raise NotImplementedError()\n",
    "print(model_cr)"
   ],
   "execution_count": 31,
   "outputs": [
    {
     "name": "stdout",
     "output_type": "stream",
     "text": [
      "              precision    recall  f1-score   support\n",
      "\n",
      "           0       0.73      0.86      0.79      7092\n",
      "           1       0.44      0.26      0.33      2997\n",
      "\n",
      "    accuracy                           0.68     10089\n",
      "   macro avg       0.59      0.56      0.56     10089\n",
      "weighted avg       0.65      0.68      0.65     10089\n",
      "\n"
     ]
    }
   ]
  },
  {
   "cell_type": "markdown",
   "metadata": {
    "deletable": false,
    "editable": false,
    "nbgrader": {
     "cell_type": "markdown",
     "checksum": "103296abc9f51aa4b883c35c418275cc",
     "grade": false,
     "grade_id": "cell-7b5374efd0e40c69",
     "locked": true,
     "schema_version": 3,
     "solution": false,
     "task": false
    },
    "id": "mWewlE7np3ya"
   },
   "source": [
    "**Task 10 Testing**"
   ]
  },
  {
   "cell_type": "code",
   "metadata": {
    "deletable": false,
    "editable": false,
    "nbgrader": {
     "cell_type": "code",
     "checksum": "110853de9aaaba37cb2fe601091b1e7d",
     "grade": true,
     "grade_id": "cell-94e04c938f3f5f84",
     "locked": true,
     "points": 1,
     "schema_version": 3,
     "solution": false,
     "task": false
    },
    "id": "VS3UzV3Kp3yb"
   },
   "source": [
    "assert isinstance(model_cr, str), '`model_cr` should be type `str`.'\n",
    "assert all(term in model_cr for term in ['precision', 'recall', 'f1-score', 'support']), 'Is this a classification report?'"
   ],
   "execution_count": 32,
   "outputs": []
  },
  {
   "cell_type": "markdown",
   "metadata": {
    "deletable": false,
    "editable": false,
    "nbgrader": {
     "cell_type": "markdown",
     "checksum": "00449a4317e9b4d383f2ca7d58a2b0af",
     "grade": false,
     "grade_id": "cell-d2b4843352d3085a",
     "locked": true,
     "schema_version": 3,
     "solution": false,
     "task": false
    },
    "id": "KvVugUDVp3yb"
   },
   "source": [
    "**Task 11:** Using your best model, create a DataFrame `permutation_importances` with the model's permutation importances based on your validation data.\n",
    "\n",
    "- The index of the DataFrame should be your feature names.\n",
    "- The first column should be the mean importance.\n",
    "- The second column should be the importance standard deviation."
   ]
  },
  {
   "cell_type": "code",
   "metadata": {
    "pycharm": {
     "name": "#%%\n"
    },
    "id": "LzCASMqGp3yb",
    "outputId": "55038e28-e6a6-4f38-f06a-a518836c0371"
   },
   "source": [
    "'''T11. Create DataFrame of permutation importances.'''\n",
    "import eli5\n",
    "from eli5.sklearn import PermutationImportance\n",
    "\n",
    "# transform X_val to X_val_transformed first\n",
    "\n",
    "# make pipeline to transform\n",
    "transformer = make_pipeline(\n",
    "    ce.OrdinalEncoder()\n",
    ")\n",
    "\n",
    "#transform\n",
    "X_val_transformed = transformer.fit_transform(X_val)\n",
    "\n",
    "# get Permutation Importance now\n",
    "\n",
    "permuter = PermutationImportance(\n",
    "    model_bag,\n",
    "    scoring='accuracy',\n",
    "    n_iter=5,\n",
    "    random_state=42\n",
    ")\n",
    "permuter.fit(X_val_transformed, y_val)\n",
    "\n",
    "# get the index name\n",
    "feature_names = X_val.columns.tolist()\n",
    "pd.Series(permuter.feature_importances_, feature_names)\n",
    "#make DataFrame\n",
    "permutation_importances = pd.DataFrame({\n",
    "    'importance_mean':np.std(permuter.feature_importances_),\n",
    "    'importance_stdev':np.mean(permuter.feature_importances_)\n",
    "}, index=feature_names)\n",
    "# raise NotImplementedError()\n",
    "permutation_importances"
   ],
   "execution_count": 33,
   "outputs": [
    {
     "data": {
      "text/plain": "                 importance_mean  importance_stdev\nFacility Type           0.000986          -0.00085\nRisk                    0.000986          -0.00085\nCity                    0.000986          -0.00085\nZip                     0.000986          -0.00085\nInspection Type         0.000986          -0.00085\nLatitude                0.000986          -0.00085\nLongitude               0.000986          -0.00085",
      "text/html": "<div>\n<style scoped>\n    .dataframe tbody tr th:only-of-type {\n        vertical-align: middle;\n    }\n\n    .dataframe tbody tr th {\n        vertical-align: top;\n    }\n\n    .dataframe thead th {\n        text-align: right;\n    }\n</style>\n<table border=\"1\" class=\"dataframe\">\n  <thead>\n    <tr style=\"text-align: right;\">\n      <th></th>\n      <th>importance_mean</th>\n      <th>importance_stdev</th>\n    </tr>\n  </thead>\n  <tbody>\n    <tr>\n      <th>Facility Type</th>\n      <td>0.000986</td>\n      <td>-0.00085</td>\n    </tr>\n    <tr>\n      <th>Risk</th>\n      <td>0.000986</td>\n      <td>-0.00085</td>\n    </tr>\n    <tr>\n      <th>City</th>\n      <td>0.000986</td>\n      <td>-0.00085</td>\n    </tr>\n    <tr>\n      <th>Zip</th>\n      <td>0.000986</td>\n      <td>-0.00085</td>\n    </tr>\n    <tr>\n      <th>Inspection Type</th>\n      <td>0.000986</td>\n      <td>-0.00085</td>\n    </tr>\n    <tr>\n      <th>Latitude</th>\n      <td>0.000986</td>\n      <td>-0.00085</td>\n    </tr>\n    <tr>\n      <th>Longitude</th>\n      <td>0.000986</td>\n      <td>-0.00085</td>\n    </tr>\n  </tbody>\n</table>\n</div>"
     },
     "execution_count": 33,
     "metadata": {},
     "output_type": "execute_result"
    }
   ]
  },
  {
   "cell_type": "markdown",
   "metadata": {
    "deletable": false,
    "editable": false,
    "nbgrader": {
     "cell_type": "markdown",
     "checksum": "dccb1015d0f5c2f8b23f780eb8e4abf7",
     "grade": false,
     "grade_id": "cell-9eb949d189e401bc",
     "locked": true,
     "schema_version": 3,
     "solution": false,
     "task": false
    },
    "id": "YzUgbdK3p3yb"
   },
   "source": [
    "**Task 11 Testing**"
   ]
  },
  {
   "cell_type": "code",
   "metadata": {
    "deletable": false,
    "editable": false,
    "nbgrader": {
     "cell_type": "code",
     "checksum": "d84e55cd6e77a52c576972ab68477c90",
     "grade": true,
     "grade_id": "cell-a4d8990e7070c2dd",
     "locked": true,
     "points": 1,
     "schema_version": 3,
     "solution": false,
     "task": false
    },
    "id": "k1JcDIU_p3yc"
   },
   "source": [
    "'''Task 11 Test'''\n",
    "assert isinstance(permutation_importances, pd.DataFrame), '`permutation_importances` should be type `DataFrame`.'\n",
    "assert permutation_importances.shape == (7,2)"
   ],
   "execution_count": 34,
   "outputs": []
  },
  {
   "cell_type": "markdown",
   "metadata": {
    "deletable": false,
    "editable": false,
    "nbgrader": {
     "cell_type": "markdown",
     "checksum": "f005618a5eb29cde9fbc73ab717b0e1c",
     "grade": false,
     "grade_id": "cell-3d8938c1715a596d",
     "locked": true,
     "schema_version": 3,
     "solution": false,
     "task": false
    },
    "id": "8U71fkP7p3yc"
   },
   "source": [
    "**Task 12 (`stretch goal`):** Using your best model, create a PDP interaction plot to examine how `'Latitude'` and `'Longitude'` inform predictions. Remember to use your validation data.\n",
    "\n",
    "**Note:** Because of the way that `pdp_interact` works, it will throw an error if there are `NaN` values in your validation set. To avoid this problem, be sure to set `dataset` to `X_val.dropna()`."
   ]
  },
  {
   "cell_type": "code",
   "metadata": {
    "deletable": false,
    "nbgrader": {
     "cell_type": "code",
     "checksum": "ea5a8422d2efafe17ee63a77c5db1e41",
     "grade": false,
     "grade_id": "cell-224d3b408f9bdd88",
     "locked": false,
     "schema_version": 3,
     "solution": true,
     "task": false
    },
    "id": "TgyzJSg2p3yc",
    "outputId": "fb458846-4695-4a01-f9b2-a81bbe02b90b"
   },
   "source": [
    "'''T12. Create PDP interaction plot for \"Latitude\" and \"Longitude\".'''\n",
    "features = ['Longitude', 'Latitude']\n",
    "\n",
    "# this is a multi feature problem so using pdp_interact_plot\n",
    "# for partial dependence plot\n",
    "#first make interaction object from pdp_interact that can be passed to pdp_interact_plot\n",
    "interaction = pdp_interact(\n",
    "    model=model_bag,\n",
    "    dataset=X_val.dropna(),\n",
    "    model_features=X_val.columns,\n",
    "    features=features\n",
    ")\n",
    "\n",
    "#plot using pdp_interact_plot using the interaction object from pdp_interact\n",
    "pdp_interact_plot(interaction,feature_names=features, plot_type='grid', plot_pdp=True)\n",
    "# raise NotImplementedError()\n"
   ],
   "execution_count": 35,
   "outputs": [
    {
     "data": {
      "text/plain": "(<Figure size 756x900 with 5 Axes>,\n {'title_ax': <AxesSubplot:>,\n  'pdp_inter_ax': {'_pdp_x_ax': <AxesSubplot:xlabel='Longitude'>,\n   '_pdp_y_ax': <AxesSubplot:ylabel='Latitude'>,\n   '_pdp_inter_ax': <AxesSubplot:>}})"
     },
     "execution_count": 35,
     "metadata": {},
     "output_type": "execute_result"
    },
    {
     "name": "stderr",
     "output_type": "stream",
     "text": [
      "findfont: Font family ['Arial'] not found. Falling back to DejaVu Sans.\n",
      "findfont: Font family ['Arial'] not found. Falling back to DejaVu Sans.\n",
      "findfont: Font family ['Arial'] not found. Falling back to DejaVu Sans.\n",
      "findfont: Font family ['Arial'] not found. Falling back to DejaVu Sans.\n"
     ]
    },
    {
     "data": {
      "text/plain": "<Figure size 756x900 with 5 Axes>",
      "image/png": "[encoded data removed]"
     },
     "metadata": {
      "needs_background": "light"
     },
     "output_type": "display_data"
    }
   ]
  },
  {
   "cell_type": "markdown",
   "metadata": {
    "deletable": false,
    "editable": false,
    "nbgrader": {
     "cell_type": "markdown",
     "checksum": "ea11277dc1543cb3a51dc7cf050af8a9",
     "grade": false,
     "grade_id": "cell-60908df556f5057e",
     "locked": true,
     "schema_version": 3,
     "solution": false,
     "task": false
    },
    "id": "NfPPR6Jqp3yc"
   },
   "source": [
    "What do you think? Is there a relationship between location and failing a food saftey inspection?"
   ]
  },
  {
   "cell_type": "code",
   "metadata": {
    "pycharm": {
     "name": "#%%\n"
    },
    "id": "c2-SrgZnp3yc"
   },
   "source": [
    ""
   ],
   "execution_count": 35,
   "outputs": []
  },
  {
   "cell_type": "code",
   "metadata": {
    "pycharm": {
     "name": "#%%\n"
    },
    "id": "cJ_caCB_p3yc"
   },
   "source": [
    ""
   ],
   "execution_count": 35,
   "outputs": []
  },
  {
   "cell_type": "code",
   "metadata": {
    "pycharm": {
     "name": "#%%\n"
    },
    "id": "lHSP37qEp3yd"
   },
   "source": [
    ""
   ],
   "execution_count": 35,
   "outputs": []
  },
  {
   "cell_type": "code",
   "metadata": {
    "pycharm": {
     "name": "#%%\n"
    },
    "id": "5iy7Eyhdp3yd"
   },
   "source": [
    ""
   ],
   "execution_count": 35,
   "outputs": []
  },
  {
   "cell_type": "code",
   "metadata": {
    "pycharm": {
     "name": "#%%\n"
    },
    "id": "GNWq3Yy7p3yd"
   },
   "source": [
    ""
   ],
   "execution_count": 35,
   "outputs": []
  },
  {
   "cell_type": "code",
   "metadata": {
    "pycharm": {
     "name": "#%%\n"
    },
    "id": "4gHhcxayp3yd"
   },
   "source": [
    ""
   ],
   "execution_count": 35,
   "outputs": []
  }
 ]
}