{
 "nbformat": 4,
 "nbformat_minor": 0,
 "metadata": {
  "orig_nbformat": 2,
  "kernelspec": {
   "name": "python3",
   "language": "python",
   "display_name": "Python 3"
  },
  "colab": {
   "name": "Practice.ipynb",
   "provenance": [],
   "collapsed_sections": []
  }
 },
 "cells": [
  {
   "cell_type": "markdown",
   "metadata": {
    "id": "jkGfcczRxWc0"
   },
   "source": [
    "# Objective 01 - explore tabular data for supervised machine learning\n"
   ]
  },
  {
   "cell_type": "code",
   "metadata": {
    "colab": {
     "base_uri": "https://localhost:8080/",
     "height": 442
    },
    "id": "aOfE0aJWy7qo",
    "executionInfo": {
     "status": "ok",
     "timestamp": 1611707269317,
     "user_tz": 300,
     "elapsed": 584,
     "user": {
      "displayName": "Parvi Singh",
      "photoUrl": "https://lh3.googleusercontent.com/a-/AOh14GicHh9ECKPiyR68S3IUC3uvEPxQPh88MULwl8RHhQ=s64",
      "userId": "15870809085498692847"
     }
    },
    "outputId": "a7f80cc0-aa44-477c-8fce-cc62f9ee3d6c",
    "pycharm": {
     "name": "#%%\n"
    }
   },
   "source": [
    "# load in earthquake data sets\n",
    "\n",
    "import pandas as pd\n",
    "\n",
    "col_sets =  ['Evid', 'Magnitude', 'Magnitude Type', 'Time UTC', 'Lat', 'Lon', 'Depth Km']\n",
    "eq_set1 = pd.read_csv('pnsn_eqlist.csv', usecols=cols_set1)"
   ],
   "execution_count": 2,
   "outputs": [
    {
     "ename": "NameError",
     "evalue": "name 'cols_set1' is not defined",
     "output_type": "error",
     "traceback": [
      "\u001B[0;31m---------------------------------------------------------------------------\u001B[0m",
      "\u001B[0;31mNameError\u001B[0m                                 Traceback (most recent call last)",
      "\u001B[0;32m<ipython-input-2-3780cd89e5d4>\u001B[0m in \u001B[0;36m<module>\u001B[0;34m\u001B[0m\n\u001B[1;32m      4\u001B[0m \u001B[0;34m\u001B[0m\u001B[0m\n\u001B[1;32m      5\u001B[0m \u001B[0mcol_sets\u001B[0m \u001B[0;34m=\u001B[0m  \u001B[0;34m[\u001B[0m\u001B[0;34m'Evid'\u001B[0m\u001B[0;34m,\u001B[0m \u001B[0;34m'Magnitude'\u001B[0m\u001B[0;34m,\u001B[0m \u001B[0;34m'Magnitude Type'\u001B[0m\u001B[0;34m,\u001B[0m \u001B[0;34m'Time UTC'\u001B[0m\u001B[0;34m,\u001B[0m \u001B[0;34m'Lat'\u001B[0m\u001B[0;34m,\u001B[0m \u001B[0;34m'Lon'\u001B[0m\u001B[0;34m,\u001B[0m \u001B[0;34m'Depth Km'\u001B[0m\u001B[0;34m]\u001B[0m\u001B[0;34m\u001B[0m\u001B[0;34m\u001B[0m\u001B[0m\n\u001B[0;32m----> 6\u001B[0;31m \u001B[0meq_set1\u001B[0m \u001B[0;34m=\u001B[0m \u001B[0mpd\u001B[0m\u001B[0;34m.\u001B[0m\u001B[0mread_csv\u001B[0m\u001B[0;34m(\u001B[0m\u001B[0;34m'pnsn_eqlist.csv'\u001B[0m\u001B[0;34m,\u001B[0m \u001B[0musecols\u001B[0m\u001B[0;34m=\u001B[0m\u001B[0mcols_set1\u001B[0m\u001B[0;34m)\u001B[0m\u001B[0;34m\u001B[0m\u001B[0;34m\u001B[0m\u001B[0m\n\u001B[0m",
      "\u001B[0;31mNameError\u001B[0m: name 'cols_set1' is not defined"
     ]
    }
   ]
  },
  {
   "cell_type": "code",
   "execution_count": null,
   "outputs": [],
   "source": [
    "cols_set2 ="
   ],
   "metadata": {
    "collapsed": false,
    "pycharm": {
     "name": "#%%\n"
    }
   }
  },
  {
   "cell_type": "code",
   "execution_count": null,
   "outputs": [],
   "source": [],
   "metadata": {
    "collapsed": false,
    "pycharm": {
     "name": "#%%\n"
    }
   }
  },
  {
   "cell_type": "code",
   "execution_count": null,
   "outputs": [],
   "source": [],
   "metadata": {
    "collapsed": false,
    "pycharm": {
     "name": "#%%\n"
    }
   }
  },
  {
   "cell_type": "code",
   "execution_count": null,
   "outputs": [],
   "source": [],
   "metadata": {
    "collapsed": false,
    "pycharm": {
     "name": "#%%\n"
    }
   }
  },
  {
   "cell_type": "code",
   "execution_count": null,
   "outputs": [],
   "source": [],
   "metadata": {
    "collapsed": false,
    "pycharm": {
     "name": "#%%\n"
    }
   }
  },
  {
   "cell_type": "code",
   "execution_count": null,
   "outputs": [],
   "source": [],
   "metadata": {
    "collapsed": false,
    "pycharm": {
     "name": "#%%\n"
    }
   }
  },
  {
   "cell_type": "code",
   "execution_count": null,
   "outputs": [],
   "source": [],
   "metadata": {
    "collapsed": false,
    "pycharm": {
     "name": "#%%\n"
    }
   }
  },
  {
   "cell_type": "code",
   "execution_count": null,
   "outputs": [],
   "source": [],
   "metadata": {
    "collapsed": false,
    "pycharm": {
     "name": "#%%\n"
    }
   }
  },
  {
   "cell_type": "code",
   "execution_count": null,
   "outputs": [],
   "source": [],
   "metadata": {
    "collapsed": false,
    "pycharm": {
     "name": "#%%\n"
    }
   }
  }
 ]
}