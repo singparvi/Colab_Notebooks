{
 "nbformat": 4,
 "nbformat_minor": 0,
 "metadata": {
  "kernelspec": {
   "name": "u4-s1-nlp",
   "language": "python",
   "display_name": "U4-S1-NLP (Python3)"
  },
  "language_info": {
   "codemirror_mode": {
    "name": "ipython",
    "version": 3
   },
   "file_extension": ".py",
   "mimetype": "text/x-python",
   "name": "python",
   "nbconvert_exporter": "python",
   "pygments_lexer": "ipython3",
   "version": "3.7.3"
  },
  "colab": {
   "name": "InClass_LS_DS_222.ipynb",
   "provenance": [],
   "collapsed_sections": []
  },
  "widgets": {
   "application/vnd.jupyter.widget-state+json": {
    "779eac1b8772405da3a0830c391d0002": {
     "model_module": "@jupyter-widgets/controls",
     "model_name": "VBoxModel",
     "state": {
      "_view_name": "VBoxView",
      "_dom_classes": [
       "widget-interact"
      ],
      "_model_name": "VBoxModel",
      "_view_module": "@jupyter-widgets/controls",
      "_model_module_version": "1.5.0",
      "_view_count": null,
      "_view_module_version": "1.5.0",
      "box_style": "",
      "layout": "IPY_MODEL_39857c66dd7e4567bfd8ed88a892cf87",
      "_model_module": "@jupyter-widgets/controls",
      "children": [
       "IPY_MODEL_4c8a97a0a2854f0f89ce3d08614fd358",
       "IPY_MODEL_6e3fd0cf6758458a8a8793d83784036b",
       "IPY_MODEL_d99bca60f0cd42cdbce500381a4ace11"
      ]
     }
    },
    "39857c66dd7e4567bfd8ed88a892cf87": {
     "model_module": "@jupyter-widgets/base",
     "model_name": "LayoutModel",
     "state": {
      "_view_name": "LayoutView",
      "grid_template_rows": null,
      "right": null,
      "justify_content": null,
      "_view_module": "@jupyter-widgets/base",
      "overflow": null,
      "_model_module_version": "1.2.0",
      "_view_count": null,
      "flex_flow": null,
      "width": null,
      "min_width": null,
      "border": null,
      "align_items": null,
      "bottom": null,
      "_model_module": "@jupyter-widgets/base",
      "top": null,
      "grid_column": null,
      "overflow_y": null,
      "overflow_x": null,
      "grid_auto_flow": null,
      "grid_area": null,
      "grid_template_columns": null,
      "flex": null,
      "_model_name": "LayoutModel",
      "justify_items": null,
      "grid_row": null,
      "max_height": null,
      "align_content": null,
      "visibility": null,
      "align_self": null,
      "height": null,
      "min_height": null,
      "padding": null,
      "grid_auto_rows": null,
      "grid_gap": null,
      "max_width": null,
      "order": null,
      "_view_module_version": "1.2.0",
      "grid_template_areas": null,
      "object_position": null,
      "object_fit": null,
      "grid_auto_columns": null,
      "margin": null,
      "display": null,
      "left": null
     }
    },
    "4c8a97a0a2854f0f89ce3d08614fd358": {
     "model_module": "@jupyter-widgets/controls",
     "model_name": "IntSliderModel",
     "state": {
      "_view_name": "IntSliderView",
      "style": "IPY_MODEL_0a6e33d052444cd9bc27784a902cf2a7",
      "_dom_classes": [],
      "description": "max_depth",
      "step": 1,
      "_model_name": "IntSliderModel",
      "orientation": "horizontal",
      "max": 6,
      "_view_module": "@jupyter-widgets/controls",
      "_model_module_version": "1.5.0",
      "value": 1,
      "_view_count": null,
      "disabled": false,
      "_view_module_version": "1.5.0",
      "min": 1,
      "continuous_update": true,
      "readout_format": "d",
      "description_tooltip": null,
      "readout": true,
      "_model_module": "@jupyter-widgets/controls",
      "layout": "IPY_MODEL_d6d95c101367429a9efa553e4628df0c"
     }
    },
    "6e3fd0cf6758458a8a8793d83784036b": {
     "model_module": "@jupyter-widgets/controls",
     "model_name": "IntSliderModel",
     "state": {
      "_view_name": "IntSliderView",
      "style": "IPY_MODEL_6a13857cadca488fb552f99da348beaf",
      "_dom_classes": [],
      "description": "n_estimators",
      "step": 10,
      "_model_name": "IntSliderModel",
      "orientation": "horizontal",
      "max": 40,
      "_view_module": "@jupyter-widgets/controls",
      "_model_module_version": "1.5.0",
      "value": 10,
      "_view_count": null,
      "disabled": false,
      "_view_module_version": "1.5.0",
      "min": 10,
      "continuous_update": true,
      "readout_format": "d",
      "description_tooltip": null,
      "readout": true,
      "_model_module": "@jupyter-widgets/controls",
      "layout": "IPY_MODEL_84193afbccaa40228e65e6824c3c2b49"
     }
    },
    "d99bca60f0cd42cdbce500381a4ace11": {
     "model_module": "@jupyter-widgets/output",
     "model_name": "OutputModel",
     "state": {
      "_view_name": "OutputView",
      "msg_id": "",
      "_dom_classes": [],
      "_model_name": "OutputModel",
      "outputs": [
       {
        "output_type": "display_data",
        "metadata": {
         "tags": [],
         "needs_background": "light"
        },
        "image/png": "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\n",
        "text/plain": "<Figure size 432x288 with 1 Axes>"
       },
       {
        "output_type": "display_data",
        "metadata": {
         "tags": [],
         "needs_background": "light"
        },
        "image/png": "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\n",
        "text/plain": "<Figure size 432x288 with 1 Axes>"
       }
      ],
      "_view_module": "@jupyter-widgets/output",
      "_model_module_version": "1.0.0",
      "_view_count": null,
      "_view_module_version": "1.0.0",
      "layout": "IPY_MODEL_4b76c1e8482f44da924575d8eff67b70",
      "_model_module": "@jupyter-widgets/output"
     }
    },
    "0a6e33d052444cd9bc27784a902cf2a7": {
     "model_module": "@jupyter-widgets/controls",
     "model_name": "SliderStyleModel",
     "state": {
      "_view_name": "StyleView",
      "handle_color": null,
      "_model_name": "SliderStyleModel",
      "description_width": "",
      "_view_module": "@jupyter-widgets/base",
      "_model_module_version": "1.5.0",
      "_view_count": null,
      "_view_module_version": "1.2.0",
      "_model_module": "@jupyter-widgets/controls"
     }
    },
    "d6d95c101367429a9efa553e4628df0c": {
     "model_module": "@jupyter-widgets/base",
     "model_name": "LayoutModel",
     "state": {
      "_view_name": "LayoutView",
      "grid_template_rows": null,
      "right": null,
      "justify_content": null,
      "_view_module": "@jupyter-widgets/base",
      "overflow": null,
      "_model_module_version": "1.2.0",
      "_view_count": null,
      "flex_flow": null,
      "width": null,
      "min_width": null,
      "border": null,
      "align_items": null,
      "bottom": null,
      "_model_module": "@jupyter-widgets/base",
      "top": null,
      "grid_column": null,
      "overflow_y": null,
      "overflow_x": null,
      "grid_auto_flow": null,
      "grid_area": null,
      "grid_template_columns": null,
      "flex": null,
      "_model_name": "LayoutModel",
      "justify_items": null,
      "grid_row": null,
      "max_height": null,
      "align_content": null,
      "visibility": null,
      "align_self": null,
      "height": null,
      "min_height": null,
      "padding": null,
      "grid_auto_rows": null,
      "grid_gap": null,
      "max_width": null,
      "order": null,
      "_view_module_version": "1.2.0",
      "grid_template_areas": null,
      "object_position": null,
      "object_fit": null,
      "grid_auto_columns": null,
      "margin": null,
      "display": null,
      "left": null
     }
    },
    "6a13857cadca488fb552f99da348beaf": {
     "model_module": "@jupyter-widgets/controls",
     "model_name": "SliderStyleModel",
     "state": {
      "_view_name": "StyleView",
      "handle_color": null,
      "_model_name": "SliderStyleModel",
      "description_width": "",
      "_view_module": "@jupyter-widgets/base",
      "_model_module_version": "1.5.0",
      "_view_count": null,
      "_view_module_version": "1.2.0",
      "_model_module": "@jupyter-widgets/controls"
     }
    },
    "84193afbccaa40228e65e6824c3c2b49": {
     "model_module": "@jupyter-widgets/base",
     "model_name": "LayoutModel",
     "state": {
      "_view_name": "LayoutView",
      "grid_template_rows": null,
      "right": null,
      "justify_content": null,
      "_view_module": "@jupyter-widgets/base",
      "overflow": null,
      "_model_module_version": "1.2.0",
      "_view_count": null,
      "flex_flow": null,
      "width": null,
      "min_width": null,
      "border": null,
      "align_items": null,
      "bottom": null,
      "_model_module": "@jupyter-widgets/base",
      "top": null,
      "grid_column": null,
      "overflow_y": null,
      "overflow_x": null,
      "grid_auto_flow": null,
      "grid_area": null,
      "grid_template_columns": null,
      "flex": null,
      "_model_name": "LayoutModel",
      "justify_items": null,
      "grid_row": null,
      "max_height": null,
      "align_content": null,
      "visibility": null,
      "align_self": null,
      "height": null,
      "min_height": null,
      "padding": null,
      "grid_auto_rows": null,
      "grid_gap": null,
      "max_width": null,
      "order": null,
      "_view_module_version": "1.2.0",
      "grid_template_areas": null,
      "object_position": null,
      "object_fit": null,
      "grid_auto_columns": null,
      "margin": null,
      "display": null,
      "left": null
     }
    },
    "4b76c1e8482f44da924575d8eff67b70": {
     "model_module": "@jupyter-widgets/base",
     "model_name": "LayoutModel",
     "state": {
      "_view_name": "LayoutView",
      "grid_template_rows": null,
      "right": null,
      "justify_content": null,
      "_view_module": "@jupyter-widgets/base",
      "overflow": null,
      "_model_module_version": "1.2.0",
      "_view_count": null,
      "flex_flow": null,
      "width": null,
      "min_width": null,
      "border": null,
      "align_items": null,
      "bottom": null,
      "_model_module": "@jupyter-widgets/base",
      "top": null,
      "grid_column": null,
      "overflow_y": null,
      "overflow_x": null,
      "grid_auto_flow": null,
      "grid_area": null,
      "grid_template_columns": null,
      "flex": null,
      "_model_name": "LayoutModel",
      "justify_items": null,
      "grid_row": null,
      "max_height": null,
      "align_content": null,
      "visibility": null,
      "align_self": null,
      "height": null,
      "min_height": null,
      "padding": null,
      "grid_auto_rows": null,
      "grid_gap": null,
      "max_width": null,
      "order": null,
      "_view_module_version": "1.2.0",
      "grid_template_areas": null,
      "object_position": null,
      "object_fit": null,
      "grid_auto_columns": null,
      "margin": null,
      "display": null,
      "left": null
     }
    },
    "ffe176f032714750a38ec473265a70f9": {
     "model_module": "@jupyter-widgets/controls",
     "model_name": "VBoxModel",
     "state": {
      "_view_name": "VBoxView",
      "_dom_classes": [
       "widget-interact"
      ],
      "_model_name": "VBoxModel",
      "_view_module": "@jupyter-widgets/controls",
      "_model_module_version": "1.5.0",
      "_view_count": null,
      "_view_module_version": "1.5.0",
      "box_style": "",
      "layout": "IPY_MODEL_a2b309bebe8348779b00ed6532f7591e",
      "_model_module": "@jupyter-widgets/controls",
      "children": [
       "IPY_MODEL_7b1bd3603def466ab3a3c51d88a29ae0",
       "IPY_MODEL_398519c3da13485da48c06151b787238",
       "IPY_MODEL_0a31c117aa6a4c03adbbd87d5b19fa3e"
      ]
     }
    },
    "a2b309bebe8348779b00ed6532f7591e": {
     "model_module": "@jupyter-widgets/base",
     "model_name": "LayoutModel",
     "state": {
      "_view_name": "LayoutView",
      "grid_template_rows": null,
      "right": null,
      "justify_content": null,
      "_view_module": "@jupyter-widgets/base",
      "overflow": null,
      "_model_module_version": "1.2.0",
      "_view_count": null,
      "flex_flow": null,
      "width": null,
      "min_width": null,
      "border": null,
      "align_items": null,
      "bottom": null,
      "_model_module": "@jupyter-widgets/base",
      "top": null,
      "grid_column": null,
      "overflow_y": null,
      "overflow_x": null,
      "grid_auto_flow": null,
      "grid_area": null,
      "grid_template_columns": null,
      "flex": null,
      "_model_name": "LayoutModel",
      "justify_items": null,
      "grid_row": null,
      "max_height": null,
      "align_content": null,
      "visibility": null,
      "align_self": null,
      "height": null,
      "min_height": null,
      "padding": null,
      "grid_auto_rows": null,
      "grid_gap": null,
      "max_width": null,
      "order": null,
      "_view_module_version": "1.2.0",
      "grid_template_areas": null,
      "object_position": null,
      "object_fit": null,
      "grid_auto_columns": null,
      "margin": null,
      "display": null,
      "left": null
     }
    },
    "7b1bd3603def466ab3a3c51d88a29ae0": {
     "model_module": "@jupyter-widgets/controls",
     "model_name": "IntSliderModel",
     "state": {
      "_view_name": "IntSliderView",
      "style": "IPY_MODEL_0002bc7735ea4b8e933b802f258fd407",
      "_dom_classes": [],
      "description": "max_depth",
      "step": 1,
      "_model_name": "IntSliderModel",
      "orientation": "horizontal",
      "max": 6,
      "_view_module": "@jupyter-widgets/controls",
      "_model_module_version": "1.5.0",
      "value": 1,
      "_view_count": null,
      "disabled": false,
      "_view_module_version": "1.5.0",
      "min": 1,
      "continuous_update": true,
      "readout_format": "d",
      "description_tooltip": null,
      "readout": true,
      "_model_module": "@jupyter-widgets/controls",
      "layout": "IPY_MODEL_29047a5b82f043dd82e1426c3970827c"
     }
    },
    "398519c3da13485da48c06151b787238": {
     "model_module": "@jupyter-widgets/controls",
     "model_name": "IntSliderModel",
     "state": {
      "_view_name": "IntSliderView",
      "style": "IPY_MODEL_4b8567e139af4b7fb0e1ee57ec095b37",
      "_dom_classes": [],
      "description": "n_estimators",
      "step": 10,
      "_model_name": "IntSliderModel",
      "orientation": "horizontal",
      "max": 40,
      "_view_module": "@jupyter-widgets/controls",
      "_model_module_version": "1.5.0",
      "value": 10,
      "_view_count": null,
      "disabled": false,
      "_view_module_version": "1.5.0",
      "min": 10,
      "continuous_update": true,
      "readout_format": "d",
      "description_tooltip": null,
      "readout": true,
      "_model_module": "@jupyter-widgets/controls",
      "layout": "IPY_MODEL_b8da239ea0764812a41cc1da93a12ccc"
     }
    },
    "0a31c117aa6a4c03adbbd87d5b19fa3e": {
     "model_module": "@jupyter-widgets/output",
     "model_name": "OutputModel",
     "state": {
      "_view_name": "OutputView",
      "msg_id": "",
      "_dom_classes": [],
      "_model_name": "OutputModel",
      "outputs": [
       {
        "output_type": "display_data",
        "metadata": {
         "tags": [],
         "needs_background": "light"
        },
        "image/png": "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\n",
        "text/plain": "<Figure size 432x288 with 2 Axes>"
       },
       {
        "output_type": "display_data",
        "metadata": {
         "tags": [],
         "needs_background": "light"
        },
        "image/png": "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\n",
        "text/plain": "<Figure size 432x288 with 2 Axes>"
       },
       {
        "output_type": "display_data",
        "metadata": {
         "tags": [],
         "needs_background": "light"
        },
        "image/png": "iVBORw0KGgoAAAANSUhEUgAAAVoAAAEFCAYAAACiiS9UAAAABHNCSVQICAgIfAhkiAAAAAlwSFlzAAALEgAACxIB0t1+/AAAADh0RVh0U29mdHdhcmUAbWF0cGxvdGxpYiB2ZXJzaW9uMy4yLjIsIGh0dHA6Ly9tYXRwbG90bGliLm9yZy+WH4yJAAAeEklEQVR4nO3de7QlZX3m8e/TrYgIiKRJIjQ3AROQGG+A0VnKiuggC2iSGAFvg6O2kuCK4g1HZQjRESUGQTHaGiCQCFGycDraBifeMA5KN+Cg3WrsNI10g0G5Yxugz/nNH1WH3n3Yl9r7VO16q+r5sM5id1Xtt2rf3nrqrfetUkRgZmbVWVT3BpiZtZ0rWjOzirmiNTOrmCtaM7OKuaI1M6uYK1ozs4q5om05SZ+U9L4JnrePpAckLa5iu1Ix6ftjNg65H21aJG0EXh8R/9KE9Uo6EvgasAUI4DbgnIi4uOxtNGsqJ1orw20RsTOwK/BW4NOSfqvslUh6TNllmk2DK9oGkPQ4SR+VdFv+91FJj+uZ/05Jt+fzXi8pJB2Yz7tE0vvzx0skfVHSPZLukvQtSYskXQbsA/xT3lzwTkn75eU8Jn/u7pIuztdxt6QvzN/OyKwC7gKenj9vkaQzJP27pDslfU7S7j3b/hpJt+Tz3idpo6Sj8nlnSbpS0t9Jug84RdITJf1N/no3S3r/XPOGpAMlfVPSvZJ+Iekf8umSdJ6kOyTdJ+n7kg6d//7k/36DpPX5+7NS0p4980LSmyT9JH8PL5Skkj5mazFXtM3wHuC5wDOA3wUOB94LIOlo4HTgKOBA4Mgh5bwN2ATsAfwG8D/I6sdXAz8FjouInSPiw32eexmwE/A04NeB8+YvkFeqxwNLgPX55DcDJwAvBPYE7gYuzJc/BPgE8ErgycATgb3mFbsMuBLYDfh74BJga/5anwm8BHh9vuxfAF8BngQsBT6WT38J8ALgqfk6Xg7c2Wf7fx/4YD7/ycAtwBXzFjsWOIxsR/Jy4L/OL8dsPle0zfBK4OyIuCMifg78OfDqfN7LgYsjYm1EbAHOGlLOw2QVyL4R8XBEfCsKNNJLejLwUuBNEXF3/txv9iyyp6R7gF8BVwGnR8SN+bw3Ae+JiE0R8WC+fS/Lk/LLgH+KiH+NiIeAM8naeXtdGxFfiIhZsqaJY4C3RMQvI+IOsgr/pJ7Xty+wZ0T8Z0T8a8/0XYDfJjsv8cOIuL3PS30lcFFE3JBv67uB35O0X88y50TEPRHxU+DrZDs/s6Fc0TbDnmTpas4t+bS5ebf2zOt9PN+5ZEnzK5I2SDqj4Pr3Bu6KiLsHzL8tInYjqwgvAH6/Z96+wFX5ofY9wA+BGbJEvd225zuK+Umz9/XsCzwWuL2nvE+RJWyAdwICrpO0VtJ/z8v9GvBxsiR9h6QVknbt8zq2e58j4oF8e3pT9s96Hm8Bdu7/lpht44q2GW4jq2Tm7JNPA7id7DB5zt6DComI+yPibRHxFOB44HRJL5qbPWT9twK7S9pt2EbmKfBdwO9IOqHnuS+NiN16/naMiM3zt13S44Ffm1/svO14EFjSU9auEfG0fP0/i4g3RMSewBuBT8y1VUfEBRHxbOAQsiaEd/R5Cdu9z5KekG/P5mGv22wUV7RpeqykHef+gMuB90raQ9ISskPsv8uX/RzwWkkHS9oJGNgnVNKx+QkjAfeSJcvZfPZ/AE/p97z8MPvLZBXXkyQ9VtILBiz7EPCRfBsBPgl8QNK++TbsIWlZPu9K4DhJz5O0A1mzwsCTS/l2fAX4iKRd8zbhAyS9MC/7jyXNVdx3k1XSs5IOk3SEpMcCvwT+s+d197qc7L18hrKTjf8L+G5EbBy0TWZFuKJN0yqy9s65vx2BNcBNwPeBG4D3A0TEl8kO179O1izwnbyMB/uUexDwL8ADwLXAJyLi6/m8D5JV5vdIenuf576arK3zR8AdwFuGbP9FwD6SjgPOB1aSNVfcn2/fEfm2ryU7WXYFWbp9IC+737bPeQ2wA7COrDK9kqzdGbKTVN+V9EC+zj+LiA1kTRqfzpe/haw54Nz5Bed9iN8H/GO+PQewrf3XbGIesNAykg4GfgA8LiK21r0945C0M3APcFBE3Fz39piVxYm2BST9gbK+tk8CPkR2Jr8Rlayk4yTtlLeH/iVZYt9Y71aZlcsVbTu8keyQ+9/J2l1PrXdzxrKM7CTUbWRNGycV6XJmVhVJF+WDW34wYL4kXZAPbLlJ0rNGlunvtJnZNvmJ3geASyPi0D7zjyE7t3AM2fmG8yPiiGFlOtGamfWIiGvIhpEPsoysEo6I+A6wWz6oZ6BKLtJx9r6vdEyuUb9+S20y24KrC8wO7bacjmls5Qc2fnbBn+jDv9hQeFN32OOANwLLeyatiIgVY6xuL7YfSLMpn9ZvtCFQUUVrZpaqvFIdp2JdsEoq2hYEjqkrMzk0qT1okvS9KNEwOE7SXlTzr6Room7Mb3l2Zppr28z2IzCXMmL0YJN+k2Zm/c1sLf63cCuB1+S9D54L3DvgIkWPqCTRdqn2Lqs9tDHJYYhJgmbq35VxPt+6k3YbE3VR2cXdyiHpcrLLjS6RtAn4n2QXMyIiPkk2cvMYspGYW4DXjirTbbRm1nyz5VW0EXHyiPkB/Ok4ZVaUaKe/t6zrLG7qiWwSk35lU0/lTU/coz6XuhN1r1HpuvQ6osREWwUnWjNrvumeDBubK1ozaz4n2umou3E/JQttRknpcHmUcX5eKX5Dxvmk6v5cUj4xGOX0JqhMaypaM+uwEk+GVcEDFhK00DDQ9HQ/TiKvO+UNUvRnn9InNepdT/W9Btx0YGZWuS6eDEt6z1eCqvedKaWchZqsS1X678Co1J3Kb6DpbdiFOdGamVWsiyfDqjjjmNKl8VJJK9M2SWZI6GMbabweAGm8sqYka6j4SLCLJ8PMzKYpooNttFVIaXhhE5VxRJBSOhqmDUOIi37d607WyfQQcRutmVnFuth0kFIyaLqygnwbjgiKpvImJO9R1UIqv6HRfWsT2VInWjOzis08XPcWDOWK1syar4tNB004dCuLBy+Mb9JWjNSbP8a7w0EamtKEMZKbDszMKtbFRNslqSSTurR9EEOvkSeGEkzco+900BKuaM3MqhVdPBnWmr1kx0ySCZr+WTf9oitNStmVDqN3G62ZWcW62HSQ0l607cpMCV1Kp3NSfc2tvHB4lfWCE62ZWcW6mGhT2svWrepw3/ajhyb2TS1iVLWQ4mtJus+tE62ZWcW2dvDC37aN0/02E93WpkGJvenpu4kp+xFOtGZmFetiG62Z2VR1MdEmfYhhC9aGOxhMokmDA/pp9XBcJ1ozs4o50VoKyvwatunzbfsQ3F4pJe7Sh+O614GZWcUiob1IH9UMWEj7NScpKo5LbUqhg7RpCO6cpAcJDDH19my30ZqZVcwVrRXho4D+xkn6qafTfpo6SCC5pF3iyTBJRwPnA4uBz0TEOfPm7wP8LbBbvswZEbFqWJmuaM2s+WZmSilG0mLgQuDFwCZgtaSVEbGuZ7H3Ap+LiL+WdAiwCthvWLnudWBTM9Ftbxqa9Ism8VR/K41L2uU1HRwOrI+IDQCSrgCWAb0VbQC75o+fCNw2qlAnWjNrvjEqWknLgeU9k1ZExIr88V7ArT3zNgFHzCviLOArkt4MPAE4atQ6XdGaWfON0UabV6orRi442MnAJRHxEUm/B1wm6dCIwRvhpgMrbKEHZ236Xow8GZR4k8eopo2mfVYxW9obvhnYu+ffS/NpvV4HHA0QEddK2hFYAtwxqNCmvZ9mZo82O1v8b7jVwEGS9pe0A3ASsHLeMj8FXgQg6WBgR+Dnwwr1PcNaotI7jObavlceJ7Gn/l40PXGPraReBxGxVdJpwNVkXbcuioi1ks4G1kTESuBtwKclvZXsxNgpEcOHprmN1syar8QBC3mf2FXzpp3Z83gd8PxxynRF2xI+ithm0nSfekrt1bjuV5R7YaNHF+6RYWZm1erkRWWqKNQ6r+hPqQ3pvokX6a41ZTvRmplVrLzuXZVwP1qbmoVmjqYfKTX1It399Evctf7uS+p1UBUnWjNrvHDTwaOlvre2bcrsn9v2I53kLh24AI27EWUXmw7MzKaqizdnNDObqi4m2uQOKwqo+7Au1besiZ9lmcZpOmlS00ibmjkA2OqTYWZm1epi00Hj9oYJ8HtWvUnCeVMTfRMHPCxIF5sOzMymqZPduxYl2+JobTA7Yf5v01FD47pfzVP6ZT2daM3MKuaKtpjU98BWnoWmmbYeMY2T1FNP51NP3B6Ca2ZWrRLvGVaJTvajbd0Z15JVfVoh9e9HVUb3BGjOGzMqfU89cXexojUzm6pu9jqwJvPnV9xYN3RMO3Rtp3Hp24nWzKxirmjNzKoVMx1sOpiTehcUs14TDdEtfSuma1D11KRmDsCJ1sysap3s3lVWkl2U+C2ELU2z8hDdwncMrnQrpqiLFa2Z2VSl3URb1YCFtPcurdmLt0xZv5XUv39lGJXa25TOi4itade0TrRm1nxp17MesJCiaaaRlLKfvzfbjKo3mpjaJ207L6KTJ8PMzKaqi4l2lK61H6XMn8X0jJO5mpju60zhTrRmZlXrYqKtOiUld0EL65xJbqfT9KOHkRfznspW9Bdba1x5AU60ZtZ4id9tvJFNQWZm25sd428ESUdL+rGk9ZLOGLDMyyWtk7RW0mdHldn5u+A27uIZVqpJ71/WpO94UcndNWEMZSVaSYuBC4EXA5uA1ZJWRsS6nmUOAt4NPD8i7pb066PKdaI1s8aL2eJ/IxwOrI+IDRHxEHAFsGzeMm8ALoyIuwEi4o5RhVbaRuu0CGph8qlLVJCpuvQdbdxdE8YQM2PcQVhaDizvmbQiIlbkj/cCbu2Ztwk4Yl4RT83L+TawGDgrIv552Dp9MszMGm+cpoO8Ul0xcsHBHgMcBBwJLAWukfQ7EXHPsCeUbqEpwSnQ+vH34tHGSfltTu8xaWP7o20G9u7599J8Wq9NwHcj4mHgZkn/Rlbxrh5UqNtozazxSmyjXQ0cJGl/STsAJwEr5y3zBbI0i6QlZE0JG4YVWijRSjoO+FJEsYBeR/LwHsPapOiRsFN+JqKcRBsRWyWdBlxN1v56UUSslXQ2sCYiVubzXiJpHTADvCMi7hxWbtGmgxOBj0r6x3zFP5r4lZiZlazMAQsRsQpYNW/amT2PAzg9/yukUEUbEa+StCtwMnCJpAAuBi6PiPvnL9/EdNnEbbZmGacuaNP3cRqDtmbH6HVQh8KfZ0TcB1xJ1q/sycAfADdIenNF22ZmVkjMqvBfHYq20S4DTgEOBC4FDo+IOyTtBKwDPlbZFpqZjVBXBVpU0TbaPwTOi4hreidGxBZJr5t05W06POrlExTttNABE238vhdpFpjG6079hhNF34Ofza9kJX0IICK+WvpWmZmNoRVNB2QXWHjXvGkv7TMNqGYP5pS4TRuTUZmqOvnSxe/gqBSfynexrO5dVRla0Uo6FfgT4ABJN/XM2gX4dpUbZmZW1EzivQ5GJdrPAl8GPgj0Xpfx/oi4a9CTUtrzp7LHtenxZz5a2wZENDrRkvXN3SjpT+fPkLT7sMrWzGxamt7r4LPAscD1ZLcM6n01ATyl6IqalDKashc36zXWBWYq3I46pN7rYGhFGxHH5v/ffzqbY2Y2vqYnWgAkfTUiXjRq2pyF7i2bniibfAFlS8s4d9tt+u9mIWZm087oo3od7AjsBCyR9CS2NR3sSnYlcjOz2jW66QB4I/AWYE+ydtq5ivY+4OODnjTNPWvb0+OitI+IbITZBX492/79Lstsk3sdRMT5wPmS3hwRyV3PwF9CM4Pmd+8CICI+Jul5wH69z4mISyvaLjOzwpredACApMuAA4DvkV1RHLLuXYUr2pTSpw/H++viyZQq7qzby9+1hTefFFtH2m900WsdPAc4JL+yuJlZUhrd66DHD4DfBG4vsvAk6TX1PX8X014X+HOdzFiDI6bw2079Uyxa0S4B1km6DnhwbmJEHF/JVpmZjaEtTQdnjVNo1XuwJqWQtA9ozLYZ5/KSqf0G29Lr4JtVb4iZ2aSmcQPIhSja6+C5ZPcFOxjYgex+57+MiF2HPi+BvV7TE2V2w2GzyYyT9Jr8W6m698hCFW06+DhwEvB5sh4IrwGeWtVGmZmNY2sbmg4AImK9pMURMQNcLOlG4N39lp0kyda9N217clzU8tfXVgs9ydP27/WctiTaLZJ2AL4n6cNk3bzqrhvNzICWtNECryZrlz0NeCuwN/BHgxau5OaMCe2ZnQ6HSztblGNa3wB/14ppRaKNiFvyh78C/ry6zTEzG18rEq2km+mzE4+IwreyMTOrykwbEi1ZT4M5OwJ/DOw+zoqmeeif4uFW2l8DG5c/z4Up+xea+J1sCjcd3Dlv0kclXQ+cWf4mmZmNZ5xb/tShaNPBs3r+uYgs4Q587iTpta4UmvbHk2Y6N+tnnK5oZf/uUv+VFG06+AjbXstWYCNZ84GZWe1acTIM+CJZRTu3IwrgWCn7Z0T8Ve/CVaSwupJn0xNlSt3irDkmuUhLnb+VWaV9bFq0on02cBjwv8nqvOOA64CfVLRdZmaFzYxepFZFK9qlwLMi4n4ASWcBX4qIVxVdUdX7m5SSZ9tTZErvtQ036RDepn2Hy+x1IOlo4HyyQVqfiYhzBiz3R8CVwGERsWZYmUUr2t8AHur590P5NDOz2pXV60DSYuBC4MXAJmC1pJURsW7ecrsAfwZ8t0i5RSvaS4HrJF2V//sE4JKBG1uw0F7TTEkp7a2dDotLvBluLNO6+15Xvl8lvsrDgfURsQFA0hXAMmDdvOX+AvgQ8I4ihRa6LEFEfAB4LXB3/vfaiPhgse02M6vWrIr/SVouaU3P3/KeovYCbu3596Z82iPy7q57R8SXim7fOJdJvAG4oejyZmbTMk73rohYAayYZD2SFgF/BZwyzvMKV7TjqKR7V8eH8PZq0yF0V/kzLNdMee/nZrKrE85Zmk+bswtwKPCNvHvrbwIrJR0/7IRYJRWtmdk0lThgYTVwkKT9ySrYk4BXzM2MiHvJ7goOgKRvAG8vq9fBglWdSGsbwtuQZJLSCUCzspVV0UbEVkmnAVeTde+6KCLWSjobWBMRKycp14nWzBqvzFuGRcQqYNW8aX0voBURRxYps5KKNsWLytSdPNuQKFNvu7Z0LPReZ2Ovb6prG58TrZk1XluG4I6lml4HpRc5ZF31Jre2J8e6jy5stIUOqJj2d7gVF/42M0uZmw76qCLRdL2frVNicXUfsUxqkksXTqpp3ydXtGZmFUt911lRr4OFPr/8t839bLdpaqLrOn9ug7mN1sysYp3sdWBmNk2ziTceNHIIbhsHNzTpsDDFk4HWbT4ZZmZWsdR3/bUOwa0qGVWdSOtOn01PlFrU7O239DjRmplVbGvi4SPpIbhVJdO2XrKxny6lxxS70nXVtO6J9sj6pru6sTnRmlnjuemgj7KSR1XJdKp35E0ocToRlqeOzzUS6rU/7e+Su3eZmVUs7Wo2oSG4TUqn00wrqafMlBJ513X5s3DTgZlZxWYSz7SVVrSpjgares9fy8iyhqaZuvskWzs40ZqZVSy6nGjNzKahk4m2jiG4ZR46Vz6Et+bD/DYdrqc0OMTq4+5dZmYVS7uaTX0IbgnJr5L7k021e1c6X6EupkctqnsLrIitiVe1TrRm1ng+GdbHQhNhmSm1inTa+TvyOgXalHXyZJiZ2TR1MtFOkhJTTaltuaRiE1JmSu3R1ixOtGZmFZuZ9gVwxzTFmzMu8PmJptTKbxRZQxJtarKsu3+y1cf9aM3MKtbNNtpJLpO44J4IC3t+ZTeKrDiR1p0+25oiU788pW3PbbRmDeNKtnlSbzpowLloM7PhYoz/RpF0tKQfS1ov6Yw+80+XtE7STZK+KmnfUWVWez3ampsDoMzhwKUU8+hyp9a9K509vhPjNil9Lk1WVq8DSYuBC4EXA5uA1ZJWRsS6nsVuBJ4TEVsknQp8GDhxWLlOtGbWeLNE4b8RDgfWR8SGiHgIuAJY1rtARHw9Irbk//wOsHRUobUOWJg0zZV7ecWSyqnsZNr0E0+qidPpzwYZ52SYpOXA8p5JKyJiRf54L+DWnnmbgCOGFPc64Muj1umTYWbWeON078or1RUjFxxB0quA5wAvHLVskvcMW2hiXWhKrSKdVpXGfH+y4Zq0rTa5EnsdbAb27vn30nzadiQdBbwHeGFEPDiqUCdaM2u8KG8I7mrgIEn7k1WwJwGv6F1A0jOBTwFHR8QdRQqt5VY2TU+s1VxasfQity+/pmTXpkSZatu1lXe78YjYKuk04GpgMXBRRKyVdDawJiJWAucCOwOfV/al+GlEHD+sXCdaM2u8MgcsRMQqYNW8aWf2PD5q3DIrrWgnTa6TJNaUUmpTb5+TSvrsUnJM5T1vuhKbDirhRGtmjZf6EFxXtGbWeJ28eteoJoMmNg2kegeIKsscuK5ED+19GF6eJtyRo5cv/G1mVrFONh1MK7GWkWDKSmelnkxrYPexgetNPGU2LblZf52saM3Mpsm9DvqYZnqt+15lTUyn9Q1uqGW1C1L3HS4s40RrZlaxTvY6mFZinTTZpZRSmzi4oe7k2dYUWff72mQzkfZdw5xozazx3EbbR/ELg1dbfmXPT77PbelFDl5XQunTifHRUu8VUpTbaM3MKtbNNtrE21unuX1lrX9wWaUVta3MmlJoiomzLYmv7WbddFAd/wjMDDqaaM3Mpsm9DnKTHHpPPEihhqaBVJsDqm4GqONwv0lHMik2h7SRmw7MzCrWyaaDqtNrExNr3fc5G1huxYmr7vTZqkSZUFe51DjRmplVrJOJdpTCAxameCGZyduDJ3ratueXlFKqSm5TvaB4KunTyTGdz6KgmZipexOGcqI1s8br9BDcqtpdu5RYy0oW07mLbuWryFeU5o+qaSmwTTwE18ysYp1MtKPSU0oXlakjsZbaTzbR/rv9VzD9H0OTUmaTtjU17nVgZlaxTvc6qKrddbILyYz9lOx5NSTW5FNqC0ebpbgNC9H07R+Xh+CaNUzXKqk26GQbrZnZNHWyjXbkybCCzQTTOKnVxKaBUhNXBc0AU72DQ933L+tq+k3sdTvRmplVrNP9aKs6wTVJiph04MBE65riybr+haV9Mq1LiXek1LevIZxozcwq1sleB6OSbPGLyky6/orTcR2JNdGUWv1lFqstv68GpczkE/uUdPJkmJnZNLnpIDd6WO4YZVXcU6CJiTXVlFp54nKvg/I0+LWUOTJM0tHA+cBi4DMRcc68+Y8DLgWeDdwJnBgRG4eV2eC31swsExGF/4aRtBi4EHgpcAhwsqRD5i32OuDuiDgQOA/40Kjtc0VrZo03G1H4b4TDgfURsSEiHgKuAJbNW2YZ8Lf54yuBF0nDz0xV0nSw9+qvLvAOXWZmxW19aHPhOkfScmB5z6QVEbEif7wXcGvPvE3AEfOKeGSZiNgq6V7g14BfDFqnT4aZWafkleqKkQuWyE0HZmbbbAb27vn30nxa32UkPQZ4ItlJsYFc0ZqZbbMaOEjS/pJ2AE4CVs5bZiXw3/LHLwO+FiPOsrnpwMwsl7e5ngZcTda966KIWCvpbGBNRKwE/ga4TNJ64C6yyngopd7R16ZL0gMRsXPJZR4PHBIR50g6Afi3iFg3ZhnfAN4eEWvK3DazaXDTgVUuIlb2dPo+gax/ollnuKK1vpQ5V9IPJH1f0on59CMlfUPSlZJ+JOnv5/oQSjomn3a9pAskfTGffoqkj0t6HnA8cK6k70k6IC/rOflySyRtzB8/XtIVkn4o6Srg8T3b9hJJ10q6QdLnJZWawM3K5jZaG+QPgWcAvwssAVZLuiaf90zgacBtwLeB50taA3wKeEFE3Czp8vkFRsT/lbQS+GJEXAkwpJ/3qcCWiDhY0tOBG/LllwDvBY6KiF9KehdwOnB2GS/arAquaG2Q/wJcHhEzwH9I+iZwGHAfcF1EbAKQ9D1gP+ABYENE3Jw//3K27xQ+rhcAFwBExE2SbsqnP5es6eHbeSW9A3DtAtZjVjlXtDaJB3sez7Cw79FWtjVh7VhgeQH/JyJOXsA6zabKbbQ2yLeAEyUtlrQHWcK8bsjyPwaeImm//N8nDljufmCXnn9vJLsKEmR9EudcA7wCQNKhwNPz6d8ha6o4MJ/3BElPLfB6zGrjitYGuQq4Cfh/wNeAd0bEzwYtHBG/Av4E+GdJ15NVqPf2WfQK4B2SbpR0APCXwKmSbiRrC57z18DOkn5I1v56fb6enwOnAJfnzQnXAr+9kBdqVjX3o7XSSNo5Ih7IeyFcCPwkIs6re7vM6uZEa2V6Q35ybC3Z+O9P1bw9ZklwojUzq5gTrZlZxVzRmplVzBWtmVnFXNGamVXMFa2ZWcX+P26bI/d07XVXAAAAAElFTkSuQmCC\n",
        "text/plain": "<Figure size 432x288 with 2 Axes>"
       }
      ],
      "_view_module": "@jupyter-widgets/output",
      "_model_module_version": "1.0.0",
      "_view_count": null,
      "_view_module_version": "1.0.0",
      "layout": "IPY_MODEL_3b8be6348d1a400c9f78e71aa8837de1",
      "_model_module": "@jupyter-widgets/output"
     }
    },
    "0002bc7735ea4b8e933b802f258fd407": {
     "model_module": "@jupyter-widgets/controls",
     "model_name": "SliderStyleModel",
     "state": {
      "_view_name": "StyleView",
      "handle_color": null,
      "_model_name": "SliderStyleModel",
      "description_width": "",
      "_view_module": "@jupyter-widgets/base",
      "_model_module_version": "1.5.0",
      "_view_count": null,
      "_view_module_version": "1.2.0",
      "_model_module": "@jupyter-widgets/controls"
     }
    },
    "29047a5b82f043dd82e1426c3970827c": {
     "model_module": "@jupyter-widgets/base",
     "model_name": "LayoutModel",
     "state": {
      "_view_name": "LayoutView",
      "grid_template_rows": null,
      "right": null,
      "justify_content": null,
      "_view_module": "@jupyter-widgets/base",
      "overflow": null,
      "_model_module_version": "1.2.0",
      "_view_count": null,
      "flex_flow": null,
      "width": null,
      "min_width": null,
      "border": null,
      "align_items": null,
      "bottom": null,
      "_model_module": "@jupyter-widgets/base",
      "top": null,
      "grid_column": null,
      "overflow_y": null,
      "overflow_x": null,
      "grid_auto_flow": null,
      "grid_area": null,
      "grid_template_columns": null,
      "flex": null,
      "_model_name": "LayoutModel",
      "justify_items": null,
      "grid_row": null,
      "max_height": null,
      "align_content": null,
      "visibility": null,
      "align_self": null,
      "height": null,
      "min_height": null,
      "padding": null,
      "grid_auto_rows": null,
      "grid_gap": null,
      "max_width": null,
      "order": null,
      "_view_module_version": "1.2.0",
      "grid_template_areas": null,
      "object_position": null,
      "object_fit": null,
      "grid_auto_columns": null,
      "margin": null,
      "display": null,
      "left": null
     }
    },
    "4b8567e139af4b7fb0e1ee57ec095b37": {
     "model_module": "@jupyter-widgets/controls",
     "model_name": "SliderStyleModel",
     "state": {
      "_view_name": "StyleView",
      "handle_color": null,
      "_model_name": "SliderStyleModel",
      "description_width": "",
      "_view_module": "@jupyter-widgets/base",
      "_model_module_version": "1.5.0",
      "_view_count": null,
      "_view_module_version": "1.2.0",
      "_model_module": "@jupyter-widgets/controls"
     }
    },
    "b8da239ea0764812a41cc1da93a12ccc": {
     "model_module": "@jupyter-widgets/base",
     "model_name": "LayoutModel",
     "state": {
      "_view_name": "LayoutView",
      "grid_template_rows": null,
      "right": null,
      "justify_content": null,
      "_view_module": "@jupyter-widgets/base",
      "overflow": null,
      "_model_module_version": "1.2.0",
      "_view_count": null,
      "flex_flow": null,
      "width": null,
      "min_width": null,
      "border": null,
      "align_items": null,
      "bottom": null,
      "_model_module": "@jupyter-widgets/base",
      "top": null,
      "grid_column": null,
      "overflow_y": null,
      "overflow_x": null,
      "grid_auto_flow": null,
      "grid_area": null,
      "grid_template_columns": null,
      "flex": null,
      "_model_name": "LayoutModel",
      "justify_items": null,
      "grid_row": null,
      "max_height": null,
      "align_content": null,
      "visibility": null,
      "align_self": null,
      "height": null,
      "min_height": null,
      "padding": null,
      "grid_auto_rows": null,
      "grid_gap": null,
      "max_width": null,
      "order": null,
      "_view_module_version": "1.2.0",
      "grid_template_areas": null,
      "object_position": null,
      "object_fit": null,
      "grid_auto_columns": null,
      "margin": null,
      "display": null,
      "left": null
     }
    },
    "3b8be6348d1a400c9f78e71aa8837de1": {
     "model_module": "@jupyter-widgets/base",
     "model_name": "LayoutModel",
     "state": {
      "_view_name": "LayoutView",
      "grid_template_rows": null,
      "right": null,
      "justify_content": null,
      "_view_module": "@jupyter-widgets/base",
      "overflow": null,
      "_model_module_version": "1.2.0",
      "_view_count": null,
      "flex_flow": null,
      "width": null,
      "min_width": null,
      "border": null,
      "align_items": null,
      "bottom": null,
      "_model_module": "@jupyter-widgets/base",
      "top": null,
      "grid_column": null,
      "overflow_y": null,
      "overflow_x": null,
      "grid_auto_flow": null,
      "grid_area": null,
      "grid_template_columns": null,
      "flex": null,
      "_model_name": "LayoutModel",
      "justify_items": null,
      "grid_row": null,
      "max_height": null,
      "align_content": null,
      "visibility": null,
      "align_self": null,
      "height": null,
      "min_height": null,
      "padding": null,
      "grid_auto_rows": null,
      "grid_gap": null,
      "max_width": null,
      "order": null,
      "_view_module_version": "1.2.0",
      "grid_template_areas": null,
      "object_position": null,
      "object_fit": null,
      "grid_auto_columns": null,
      "margin": null,
      "display": null,
      "left": null
     }
    },
    "01a74291446545e8affecaa3c0fb7a49": {
     "model_module": "@jupyter-widgets/controls",
     "model_name": "VBoxModel",
     "state": {
      "_view_name": "VBoxView",
      "_dom_classes": [
       "widget-interact"
      ],
      "_model_name": "VBoxModel",
      "_view_module": "@jupyter-widgets/controls",
      "_model_module_version": "1.5.0",
      "_view_count": null,
      "_view_module_version": "1.5.0",
      "box_style": "",
      "layout": "IPY_MODEL_5b95bc5a97ed4f1e85238cd8c451e682",
      "_model_module": "@jupyter-widgets/controls",
      "children": [
       "IPY_MODEL_54ec0a1433574a2996890e33530871bf",
       "IPY_MODEL_04603d3a98844470a824e99da70d7dfa",
       "IPY_MODEL_6f5c782bf4734619b3b4804a3b15aea7"
      ]
     }
    },
    "5b95bc5a97ed4f1e85238cd8c451e682": {
     "model_module": "@jupyter-widgets/base",
     "model_name": "LayoutModel",
     "state": {
      "_view_name": "LayoutView",
      "grid_template_rows": null,
      "right": null,
      "justify_content": null,
      "_view_module": "@jupyter-widgets/base",
      "overflow": null,
      "_model_module_version": "1.2.0",
      "_view_count": null,
      "flex_flow": null,
      "width": null,
      "min_width": null,
      "border": null,
      "align_items": null,
      "bottom": null,
      "_model_module": "@jupyter-widgets/base",
      "top": null,
      "grid_column": null,
      "overflow_y": null,
      "overflow_x": null,
      "grid_auto_flow": null,
      "grid_area": null,
      "grid_template_columns": null,
      "flex": null,
      "_model_name": "LayoutModel",
      "justify_items": null,
      "grid_row": null,
      "max_height": null,
      "align_content": null,
      "visibility": null,
      "align_self": null,
      "height": null,
      "min_height": null,
      "padding": null,
      "grid_auto_rows": null,
      "grid_gap": null,
      "max_width": null,
      "order": null,
      "_view_module_version": "1.2.0",
      "grid_template_areas": null,
      "object_position": null,
      "object_fit": null,
      "grid_auto_columns": null,
      "margin": null,
      "display": null,
      "left": null
     }
    },
    "54ec0a1433574a2996890e33530871bf": {
     "model_module": "@jupyter-widgets/controls",
     "model_name": "IntSliderModel",
     "state": {
      "_view_name": "IntSliderView",
      "style": "IPY_MODEL_3a7acc98c7a24827b391d96fad5eedab",
      "_dom_classes": [],
      "description": "max_depth",
      "step": 1,
      "_model_name": "IntSliderModel",
      "orientation": "horizontal",
      "max": 6,
      "_view_module": "@jupyter-widgets/controls",
      "_model_module_version": "1.5.0",
      "value": 1,
      "_view_count": null,
      "disabled": false,
      "_view_module_version": "1.5.0",
      "min": 1,
      "continuous_update": true,
      "readout_format": "d",
      "description_tooltip": null,
      "readout": true,
      "_model_module": "@jupyter-widgets/controls",
      "layout": "IPY_MODEL_4ac5ec0468e74780a7a4709972f2ddb4"
     }
    },
    "04603d3a98844470a824e99da70d7dfa": {
     "model_module": "@jupyter-widgets/controls",
     "model_name": "IntSliderModel",
     "state": {
      "_view_name": "IntSliderView",
      "style": "IPY_MODEL_e204ec2c81974858a578976af8bd5b16",
      "_dom_classes": [],
      "description": "n_estimators",
      "step": 1,
      "_model_name": "IntSliderModel",
      "orientation": "horizontal",
      "max": 5,
      "_view_module": "@jupyter-widgets/controls",
      "_model_module_version": "1.5.0",
      "value": 2,
      "_view_count": null,
      "disabled": false,
      "_view_module_version": "1.5.0",
      "min": 2,
      "continuous_update": true,
      "readout_format": "d",
      "description_tooltip": null,
      "readout": true,
      "_model_module": "@jupyter-widgets/controls",
      "layout": "IPY_MODEL_74b6e21793ef4bdab512607130c7cb69"
     }
    },
    "6f5c782bf4734619b3b4804a3b15aea7": {
     "model_module": "@jupyter-widgets/output",
     "model_name": "OutputModel",
     "state": {
      "_view_name": "OutputView",
      "msg_id": "",
      "_dom_classes": [],
      "_model_name": "OutputModel",
      "outputs": [
       {
        "output_type": "display_data",
        "metadata": {
         "tags": [],
         "needs_background": "light"
        },
        "image/png": "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\n",
        "text/plain": "<Figure size 432x288 with 2 Axes>"
       },
       {
        "output_type": "display_data",
        "metadata": {
         "tags": [],
         "needs_background": "light"
        },
        "image/png": "iVBORw0KGgoAAAANSUhEUgAAAVoAAAEFCAYAAACiiS9UAAAABHNCSVQICAgIfAhkiAAAAAlwSFlzAAALEgAACxIB0t1+/AAAADh0RVh0U29mdHdhcmUAbWF0cGxvdGxpYiB2ZXJzaW9uMy4yLjIsIGh0dHA6Ly9tYXRwbG90bGliLm9yZy+WH4yJAAASFklEQVR4nO3dfaxlVXnH8e9vBhErqLH40jKoo0IVFRUVbW2VRLQDKYxpfQFrWq11rIpptFqxGrVU01pbTUmJOkaqUoSChmYio2h9o0GRGUWojKLjgM7gC74gxVeYe5/+cc7I4XbuPedwz5pz9uX7mazcs9ded+11k8mTJ89ee59UFZKkdlZNewGStNIZaCWpMQOtJDVmoJWkxgy0ktSYgVaSGjPQSlJjBloNleQnA20+yc8Hjv+40TXvnOQ9Sb6Z5KYkX0pyXItrSa3tN+0FaPZV1YF7Pie5FvjzqvqvheOS7FdVuyd02f2AncCTgW8BxwPnJXlEVV07oWtI+4QZrW63JMck2ZXk1Um+C/xbklVJTk3yjSQ/THJeknsO/M4Tknw2yY+TXJHkmL3NXVU/rao3VtW1VTVfVR8GrgEes2/+OmlyDLRarvsC9wTuD2wAXgY8nV4m+pvADcAZAEkOAS4E3tT/nVcCH0pyr2EXSXIf4HDgqsn/CVJbBlot1zzwhqr6ZVX9HPgL4LVVtauqfgm8EXhGkv2A5wKbq2pzP0v9OLCVXllgUUnuBJwNvK+qvtryj5FasEar5fp+Vf1i4Pj+wAVJ5gf65oD79M89M8kJA+fuBHxqscmTrALOAm4GTpnYqqV9yECr5Vr4+redwJ9V1SULBybZCZxVVS8cZeIkAd5DL0gfX1W3LHex0jRYOtCkvRN4c5L7AyS5V5L1/XP/DpyQ5PeTrE5yQP+G2ppF5noH8FDghH5ZQuokA60m7V+ATcDHktwEXAo8HqCqdgLrgb8Bvk8v+30Ve/l/2A/ULwIeBXy39b5dqaX44m9JasuMVpIaM9BK0oAkZya5PsmXFzmfJKcn2Z7kyiRHDZvTQCtJt/VeYN0S548DDuu3DfRu2i7JQCtJA6rqYuBHSwxZD7y/ei4F7pHkN5aas8k+2mse+VTvsEnAzu/dY9pLmHlP+u75We4ct/xgx8gxZ/97PehF9DLRPTZW1cYxLncIvR0ze+zq931nsV/wgQVJdyj9oDpOYF02A62k7puf25dXuw44dOB4Tb9vUdZoJXXf3O7R2/JtAv6kv/vgCcCNVbVo2QDMaCWtAFXzwweNKMk5wDHAwUl2AW+g9/IjquqdwGZ6b5zbDvwMeP6wOQ20krpvfnKBtqpOHnK+gJeOM6eBVlL3TTCjbcFAK6n79u3NsLEZaCV1nxmtJLVVk9lN0IyBVlL3TfBmWAsGWkndZ+lAkhrzZpgkNWZGK0mNeTNMkhrzZpgktVVljVaS2rJGK0mNWTqQpMbMaCWpsblbpr2CJRloJXWfpQNJaszSgSQ1ZkYrSY0ZaCWprfJmmCQ1Zo1WkhqzdCBJjZnRSlJjZrSS1JgZrSQ1ttsXf0tSW2a0ktSYNVpJasyMVpIaM6OVpMbMaCWpMXcdSFJjVdNewZIMtJK6zxqtJDU244F21bQXIEnLVvOjtyGSrEtydZLtSU7dy/n7JflUksuTXJnk+GFzmtFK6r65uYlMk2Q1cAbwVGAXsCXJpqraNjDsdcB5VfWOJEcAm4EHLDWvgVZS902udHA0sL2qdgAkORdYDwwG2gLu1v98d+DbwyY10ErqvjECbZINwIaBro1VtbH/+RBg58C5XcDjF0zxRuBjSV4G3BU4dtg1DbSSum+MBxb6QXXj0IGLOxl4b1X9c5LfBs5K8vCqxRdhoJXUeTU/sX201wGHDhyv6fcNegGwDqCqPpfkAOBg4PrFJnXXgaTum58fvS1tC3BYkrVJ9gdOAjYtGPMt4CkASR4KHAB8f6lJzWgldd+Edh1U1e4kpwAXAauBM6vqqiSnAVurahPwV8C7k7yc3o2x51Ut/WiagVZS903wgYWq2kxvy9Zg3+sHPm8DnjjOnAZaSd0340+GGWgldZ8vlZGkxsxoJamxyW3vasJAK6n7JrTroBUDraTOK0sHktSYpQNJaswvZ5SkxsxoJamx3d4Mk6S2LB1IUmOWDiSpLbd3SVJrZrSS1JiBVpIa8xFcSWprgt8Z1oSBVlL3GWglqTF3HUhSY2a0ktSYgVaS2qo5SweS1JYZrSS15fYuSWrNQCtJjc12idZAK6n7avdsR1oDraTum+04a6CV1H3eDJOk1sxoJaktM1pJam3GM9pV016AtJIdep8fT3sJdwi1e/Q2DWa0UkM7v3ePaS/hDmHGv23cjFbSCjA/RhsiybokVyfZnuTURcY8K8m2JFcl+cCwOc1oJXXepDLaJKuBM4CnAruALUk2VdW2gTGHAa8BnlhVNyS597B5zWgldV7Nj96GOBrYXlU7qupm4Fxg/YIxLwTOqKobAKrq+mGTGmgldV7NZeSWZEOSrQNtw8BUhwA7B4539fsGHQ4cnuSSJJcmWTdsfZYOJHXeOKWDqtoIbFzG5fYDDgOOAdYAFyd5RFUtusXEQCup82o+k5rqOuDQgeM1/b5Bu4DPV9UtwDVJvkYv8G5ZbFJLB5I6b4I12i3AYUnWJtkfOAnYtGDMf9LLZklyML1Swo6lJjWjldR5VZPJaKtqd5JTgIuA1cCZVXVVktOArVW1qX/uaUm2AXPAq6rqh0vNa6CV1HmTfGChqjYDmxf0vX7gcwGv6LeRjFQ6SHJ4kk8k+XL/+Mgkrxv1IpLU0vxcRm7TMGqN9t30NujeAlBVV9KrXUjS1NV8Rm7TMGrp4Neq6rLkNouc0usZJOm2phVARzVqoP1BkgcBBZDkGcB3mq1KksZQs/062pED7UvpbfB9SJLrgGuA5zZblSSNYUVktFW1Azg2yV2BVVV1U9tlSdLoJrW9q5UlA22SvW5f2FOrraq3NViTJI1lbkq7CUY1LKM9qP/zt4DHcesTEicAl7ValCSNo9MZbVX9LUCSi4Gj9pQMkrwRuLD56iRpBCuiRgvcB7h54Pjmfp8kTd1K2XXwfuCyJBf0j58OvK/NkiRpPCsio62qNyf5CPB7/a7nV9Xl7ZYlSaObm5/tFxGOFGiT3A/4AXDBYF9VfavVwiRpVCuldHAh/afCgLsAa4GrgYe1WJQkjWO+y7sO9qiqRwweJzkKeEmTFUnSmDq9vWsxVfXFJI+f9GIk6fZYEaWDBU+IrQKOAr7dZEWSNKYVUTrg1ifEoPd6xAuBD01+OZI0vhWx6wDYVlXnD3YkeSZw/iLjJWmfmfHKwcjfsPCaEfskaZ+br4zcpmHY27uOA44HDkly+sCpu+E3LEiaEV3fdfBtYCtwIvCFgf6bgJe3WpQkjWOCX4LbxLC3d10BXJHk7Koyg5U0k4oOZ7RJzquqZwGXJ/l/9eaqOrLZyiRpRLs7Xjr4y/7PP2i9EEm6vWY9o11y10FV7fmm25dU1TcHGz6CK2lGzI/RpmHU7V1P3UvfcZNciCTdXkVGbtMwrEb7YnqZ6wOTXDlw6iDgkpYLk6RRdXrXAfAB4CPA3wOnDvTfVFU/arYqSRrD3IzXaIdt77oRuBE4GSDJvYEDgAOTHOiLvyXNghn/JpvRarRJTkjydeAa4DPAtfQyXUmaunkycpuGUW+GvQl4AvC1qloLPAW4tNmqJGkMNUabhlED7S1V9UNgVZJVVfUp4LEN1yVJI5v17V2jvibxx0kOBC4Gzk5yPfDTdsuSpNHNZ7aLtKNmtOuBn9N7kcxHgW8AJ7RalCSNY26MNg0jBdqq+mlVzVXV7qp6X1Wd3i8lSNLUzWf0NkySdUmuTrI9yalLjPujJJVkaBl12AMLN7H3+nGAqqq7DV21JDU2qd0ESVYDZ9B7GnYXsCXJpqratmDcQfTeBfP5UeYd9q6Dg6rqbntpBxlkJc2KCe46OBrYXlU7qupm4Fx6pdOF/g54C/CLUdY3299oJkkjGKd0kGRDkq0DbcPAVIcAOweOd/X7fiXJUcChVXXhqOsbddeBJM2scbZtVdVGYOPtuU6SVcDbgOeN83sGWkmdNze53V3XAYcOHK/p9+1xEPBw4NPpbSm7L7ApyYlVtXWxSQ20kjpvgg8ibAEOS7KWXoA9CXjOnpP9978cvOc4yaeBVy4VZMEaraQVYFJPhvW/G/EU4CLgK8B5VXVVktOSnHh712dGK6nzJvmVYVW1Gdi8oO/1i4w9ZpQ5DbSSOq/rL/6WpJk3rUdrR2WgldR5s/7ibwOtpM6zdCBJjRloJamxaX1zwqgMtJI6zxqtJDXmrgNJamx+xosHBlpJnefNMElqbLbzWQOtpBXAjFaSGtud2c5pDbSSOm+2w6yBVtIKYOlAkhpze5ckNTbbYdZAK2kFsHQgSY3NzXhOa6CV1HlmtJLUWJnRSlJbZrSS1JjbuySpsdkOswZaSSvA7hkPtQZaSZ3nzTBJasybYZLUmBmtJDVmRitJjc2VGa0kNeU+WklqzBqtJDVmjVaSGpv10sGqaS9Akparxvg3TJJ1Sa5Osj3JqXs5/4ok25JcmeQTSe4/bE4DraTOm6sauS0lyWrgDOA44Ajg5CRHLBh2OfDYqjoS+CDwj8PWZ6CV1Hnz1MhtiKOB7VW1o6puBs4F1g8OqKpPVdXP+oeXAmuGTWqgldR582O0JBuSbB1oGwamOgTYOXC8q9+3mBcAHxm2Pm+GSeq8cbZ3VdVGYONyr5nkucBjgScPG2ugldR5E9x1cB1w6MDxmn7fbSQ5Fngt8OSq+uWwSQ20kjqvJvcI7hbgsCRr6QXYk4DnDA5I8mjgXcC6qrp+lEkNtJI6b1JfN15Vu5OcAlwErAbOrKqrkpwGbK2qTcBbgQOB85MAfKuqTlxqXgOtpM6b5AMLVbUZ2Lyg7/UDn48dd04DraTOm2DpoAkDraTOm/VHcA20kjrPt3dJUmO++FuSGrN0IEmNGWglqTF3HUhSY2a0ktSYuw4kqbG5mu1vDTPQSuo8a7SS1Jg1WklqzBqtJDU2b+lAktoyo5Wkxtx1IEmNWTqQpMYsHUhSY2a0ktSYGa0kNTZXc9NewpIMtJI6z0dwJakxH8GVpMbMaCWpMXcdSFJj7jqQpMZ8BFeSGrNGK0mNWaOVpMbMaCWpMffRSlJjZrSS1Ji7DiSpMW+GSVJjs146WDXtBUjSctUY/4ZJsi7J1Um2Jzl1L+fvnOQ/+uc/n+QBw+Y00ErqvKoauS0lyWrgDOA44Ajg5CRHLBj2AuCGqnow8HbgLcPWZ6CV1HnzVSO3IY4GtlfVjqq6GTgXWL9gzHrgff3PHwSekiRLTdqkRrv2io8veVHpjmLttBdwB7H75utGjjlJNgAbBro2VtXG/udDgJ0D53YBj18wxa/GVNXuJDcCvw78YLFrejNM0h1KP6huHDpwgiwdSNKtrgMOHThe0+/b65gk+wF3B3641KQGWkm61RbgsCRrk+wPnARsWjBmE/Cn/c/PAD5ZQ+6yWTqQpL5+zfUU4CJgNXBmVV2V5DRga1VtAt4DnJVkO/AjesF4SZn1jb7at5L8pKoOnPCcJwJHVNU/JHk68LWq2jbmHJ8GXllVWye5NmlfsHSg5qpqU1X9Q//w6fT2J0p3GAZa7VV63prky0n+J8mz+/3HJPl0kg8m+WqSs/fsIUxyfL/vC0lOT/Lhfv/zkvxrkt8BTgTemuRLSR7Un+ux/XEHJ7m2//kuSc5N8pUkFwB3GVjb05J8LskXk5yfZKIZuDRp1mi1mD8EHgU8EjgY2JLk4v65RwMPA74NXAI8MclW4F3Ak6rqmiTnLJywqj6bZBPw4ar6IMAS+7xfDPysqh6a5Ejgi/3xBwOvA46tqp8meTXwCuC0SfzRUgsGWi3md4FzqmoO+F6SzwCPA/4XuKyqdgEk+RLwAOAnwI6quqb/++dw203h43oScDpAVV2Z5Mp+/xPolR4u6Qfp/YHPLeM6UnMGWt0evxz4PMfy/h/t5tYS1gEjjA/w8ao6eRnXlPYpa7RazH8Dz06yOsm96GWYly0x/mrggQNvMnr2IuNuAg4aOL4WeEz/8zMG+i8GngOQ5OHAkf3+S+mVKh7cP3fXJIeP8PdIU2Og1WIuAK4ErgA+Cfx1VX13scFV9XPgJcBHk3yBXkC9cS9DzwVeleTyJA8C/gl4cZLL6dWC93gHcGCSr9Crv36hf53vA88DzumXEz4HPGQ5f6jUmvtoNTFJDqyqn/R3IZwBfL2q3j7tdUnTZkarSXph/+bYVfSe/37XlNcjzQQzWklqzIxWkhoz0EpSYwZaSWrMQCtJjRloJamx/wPO2Kqmv6o8TgAAAABJRU5ErkJggg==\n",
        "text/plain": "<Figure size 432x288 with 2 Axes>"
       },
       {
        "output_type": "display_data",
        "metadata": {
         "tags": [],
         "needs_background": "light"
        },
        "image/png": "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\n",
        "text/plain": "<Figure size 432x288 with 2 Axes>"
       }
      ],
      "_view_module": "@jupyter-widgets/output",
      "_model_module_version": "1.0.0",
      "_view_count": null,
      "_view_module_version": "1.0.0",
      "layout": "IPY_MODEL_c77c2d8f0f154f02b53c89403b221657",
      "_model_module": "@jupyter-widgets/output"
     }
    },
    "3a7acc98c7a24827b391d96fad5eedab": {
     "model_module": "@jupyter-widgets/controls",
     "model_name": "SliderStyleModel",
     "state": {
      "_view_name": "StyleView",
      "handle_color": null,
      "_model_name": "SliderStyleModel",
      "description_width": "",
      "_view_module": "@jupyter-widgets/base",
      "_model_module_version": "1.5.0",
      "_view_count": null,
      "_view_module_version": "1.2.0",
      "_model_module": "@jupyter-widgets/controls"
     }
    },
    "4ac5ec0468e74780a7a4709972f2ddb4": {
     "model_module": "@jupyter-widgets/base",
     "model_name": "LayoutModel",
     "state": {
      "_view_name": "LayoutView",
      "grid_template_rows": null,
      "right": null,
      "justify_content": null,
      "_view_module": "@jupyter-widgets/base",
      "overflow": null,
      "_model_module_version": "1.2.0",
      "_view_count": null,
      "flex_flow": null,
      "width": null,
      "min_width": null,
      "border": null,
      "align_items": null,
      "bottom": null,
      "_model_module": "@jupyter-widgets/base",
      "top": null,
      "grid_column": null,
      "overflow_y": null,
      "overflow_x": null,
      "grid_auto_flow": null,
      "grid_area": null,
      "grid_template_columns": null,
      "flex": null,
      "_model_name": "LayoutModel",
      "justify_items": null,
      "grid_row": null,
      "max_height": null,
      "align_content": null,
      "visibility": null,
      "align_self": null,
      "height": null,
      "min_height": null,
      "padding": null,
      "grid_auto_rows": null,
      "grid_gap": null,
      "max_width": null,
      "order": null,
      "_view_module_version": "1.2.0",
      "grid_template_areas": null,
      "object_position": null,
      "object_fit": null,
      "grid_auto_columns": null,
      "margin": null,
      "display": null,
      "left": null
     }
    },
    "e204ec2c81974858a578976af8bd5b16": {
     "model_module": "@jupyter-widgets/controls",
     "model_name": "SliderStyleModel",
     "state": {
      "_view_name": "StyleView",
      "handle_color": null,
      "_model_name": "SliderStyleModel",
      "description_width": "",
      "_view_module": "@jupyter-widgets/base",
      "_model_module_version": "1.5.0",
      "_view_count": null,
      "_view_module_version": "1.2.0",
      "_model_module": "@jupyter-widgets/controls"
     }
    },
    "74b6e21793ef4bdab512607130c7cb69": {
     "model_module": "@jupyter-widgets/base",
     "model_name": "LayoutModel",
     "state": {
      "_view_name": "LayoutView",
      "grid_template_rows": null,
      "right": null,
      "justify_content": null,
      "_view_module": "@jupyter-widgets/base",
      "overflow": null,
      "_model_module_version": "1.2.0",
      "_view_count": null,
      "flex_flow": null,
      "width": null,
      "min_width": null,
      "border": null,
      "align_items": null,
      "bottom": null,
      "_model_module": "@jupyter-widgets/base",
      "top": null,
      "grid_column": null,
      "overflow_y": null,
      "overflow_x": null,
      "grid_auto_flow": null,
      "grid_area": null,
      "grid_template_columns": null,
      "flex": null,
      "_model_name": "LayoutModel",
      "justify_items": null,
      "grid_row": null,
      "max_height": null,
      "align_content": null,
      "visibility": null,
      "align_self": null,
      "height": null,
      "min_height": null,
      "padding": null,
      "grid_auto_rows": null,
      "grid_gap": null,
      "max_width": null,
      "order": null,
      "_view_module_version": "1.2.0",
      "grid_template_areas": null,
      "object_position": null,
      "object_fit": null,
      "grid_auto_columns": null,
      "margin": null,
      "display": null,
      "left": null
     }
    },
    "c77c2d8f0f154f02b53c89403b221657": {
     "model_module": "@jupyter-widgets/base",
     "model_name": "LayoutModel",
     "state": {
      "_view_name": "LayoutView",
      "grid_template_rows": null,
      "right": null,
      "justify_content": null,
      "_view_module": "@jupyter-widgets/base",
      "overflow": null,
      "_model_module_version": "1.2.0",
      "_view_count": null,
      "flex_flow": null,
      "width": null,
      "min_width": null,
      "border": null,
      "align_items": null,
      "bottom": null,
      "_model_module": "@jupyter-widgets/base",
      "top": null,
      "grid_column": null,
      "overflow_y": null,
      "overflow_x": null,
      "grid_auto_flow": null,
      "grid_area": null,
      "grid_template_columns": null,
      "flex": null,
      "_model_name": "LayoutModel",
      "justify_items": null,
      "grid_row": null,
      "max_height": null,
      "align_content": null,
      "visibility": null,
      "align_self": null,
      "height": null,
      "min_height": null,
      "padding": null,
      "grid_auto_rows": null,
      "grid_gap": null,
      "max_width": null,
      "order": null,
      "_view_module_version": "1.2.0",
      "grid_template_areas": null,
      "object_position": null,
      "object_fit": null,
      "grid_auto_columns": null,
      "margin": null,
      "display": null,
      "left": null
     }
    }
   }
  },
  "accelerator": "GPU"
 },
 "cells": [
  {
   "cell_type": "markdown",
   "metadata": {
    "id": "UEHyIgGaaSEJ"
   },
   "source": [
    "Lambda School Data Science\n",
    "\n",
    "*Unit 2, Sprint 2, Module 2*\n",
    "\n",
    "---"
   ]
  },
  {
   "cell_type": "markdown",
   "metadata": {
    "id": "mRfPLX4WgLVJ"
   },
   "source": [
    "# Random Forests"
   ]
  },
  {
   "cell_type": "markdown",
   "metadata": {
    "id": "jRRNhkxcgLVK"
   },
   "source": [
    "- use scikit-learn for **random forests**\n",
    "- do **ordinal encoding** with high-cardinality categoricals\n",
    "- understand how categorical encodings affect trees differently compared to linear models\n",
    "- understand how tree ensembles reduce overfitting compared to a single decision tree with unlimited depth"
   ]
  },
  {
   "cell_type": "markdown",
   "metadata": {
    "id": "-3TH11e1gLVL"
   },
   "source": [
    "Today's lesson has two take-away messages:\n",
    "\n",
    "#### Try Tree Ensembles when you do machine learning with labeled, tabular data\n",
    "- \"Tree Ensembles\" means Random Forest or Gradient Boosting models. \n",
    "- [Tree Ensembles often have the best predictive accuracy](https://arxiv.org/abs/1708.05070) with labeled, tabular data.\n",
    "- Why? Because trees can fit non-linear, non-[monotonic](https://en.wikipedia.org/wiki/Monotonic_function) relationships, and [interactions](https://christophm.github.io/interpretable-ml-book/interaction.html) between features.\n",
    "- A single decision tree, grown to unlimited depth, will [overfit](http://www.r2d3.us/visual-intro-to-machine-learning-part-1/). We solve this problem by ensembling trees, with bagging (Random Forest) or boosting (Gradient Boosting).\n",
    "- Random Forest's advantage: may be less sensitive to hyperparameters. Gradient Boosting's advantage: may get better predictive accuracy.\n",
    "\n",
    "#### One-hot encoding isn’t the only way, and may not be the best way, of categorical encoding for tree ensembles.\n",
    "- For example, tree ensembles can work with arbitrary \"ordinal\" encoding! (Randomly assigning an integer to each category.) Compared to one-hot encoding, the dimensionality will be lower, and the predictive accuracy may be just as good or even better.\n"
   ]
  },
  {
   "cell_type": "markdown",
   "metadata": {
    "id": "r5PbOFEuFfGF"
   },
   "source": [
    "### Setup\n",
    "\n",
    "Run the code cell below. You can work locally (follow the [local setup instructions](https://lambdaschool.github.io/ds/unit2/local/)) or on Colab.\n",
    "\n",
    "Libraries\n",
    "\n",
    "- **category_encoders** \n",
    "- **graphviz**\n",
    "- ipywidgets\n",
    "- matplotlib\n",
    "- numpy\n",
    "- pandas\n",
    "- seaborn\n",
    "- scikit-learn"
   ]
  },
  {
   "cell_type": "code",
   "metadata": {
    "id": "FStAplyRFoEu",
    "executionInfo": {
     "status": "ok",
     "timestamp": 1611967989991,
     "user_tz": 300,
     "elapsed": 2736,
     "user": {
      "displayName": "Parvi Singh",
      "photoUrl": "https://lh3.googleusercontent.com/a-/AOh14GicHh9ECKPiyR68S3IUC3uvEPxQPh88MULwl8RHhQ=s64",
      "userId": "15870809085498692847"
     }
    }
   },
   "source": [
    "%%capture\n",
    "import sys\n",
    "\n",
    "# If you're on Colab:\n",
    "if 'google.colab' in sys.modules:\n",
    "    DATA_PATH = 'https://raw.githubusercontent.com/LambdaSchool/DS-Unit-2-Kaggle-Challenge/master/data/'\n",
    "    !pip install category_encoders==2.*\n",
    "\n",
    "# If you're working locally:\n",
    "else:\n",
    "    DATA_PATH = '../data/'"
   ],
   "execution_count": 1,
   "outputs": []
  },
  {
   "cell_type": "markdown",
   "metadata": {
    "id": "ZL-yK8B7gLVW"
   },
   "source": [
    "# Use scikit-learn for random forests"
   ]
  },
  {
   "cell_type": "markdown",
   "metadata": {
    "id": "H7iVJ1p8A4pw"
   },
   "source": [
    "## Overview\n",
    "\n",
    "Let's fit a Random Forest!\n",
    "\n",
    "![](https://pbs.twimg.com/media/EGSvKA0UUAEzUZi?format=png)\n",
    "\n",
    "[Chris Albon, MachineLearningFlashcards.com](https://twitter.com/chrisalbon/status/1181261589887909889)"
   ]
  },
  {
   "cell_type": "markdown",
   "metadata": {
    "id": "gHFxMCPSgLVM"
   },
   "source": [
    "### Solution example\n",
    "\n",
    "First, read & wrangle the data.\n",
    "\n",
    "> Define a function to wrangle train, validate, and test sets in the same way. Clean outliers and engineer features. (For example, [what other columns have zeros and shouldn't?](https://github.com/Quartz/bad-data-guide#zeros-replace-missing-values) What other columns are duplicates, or nearly duplicates? Can you extract the year from date_recorded? Can you engineer new features, such as the number of years from waterpump construction to waterpump inspection?)"
   ]
  },
  {
   "cell_type": "code",
   "metadata": {
    "id": "YTLm-rDagLVM",
    "colab": {
     "base_uri": "https://localhost:8080/"
    },
    "executionInfo": {
     "status": "ok",
     "timestamp": 1611967991097,
     "user_tz": 300,
     "elapsed": 3826,
     "user": {
      "displayName": "Parvi Singh",
      "photoUrl": "https://lh3.googleusercontent.com/a-/AOh14GicHh9ECKPiyR68S3IUC3uvEPxQPh88MULwl8RHhQ=s64",
      "userId": "15870809085498692847"
     }
    },
    "outputId": "6d587085-a63c-4f75-8a45-818ed705a512"
   },
   "source": [
    "import numpy as np\n",
    "import pandas as pd\n",
    "from sklearn.model_selection import train_test_split\n",
    "DATA_PATH = 'https://raw.githubusercontent.com/LambdaSchool/DS-Unit-2-Kaggle-Challenge/master/data/'\n",
    "# Merge train_features.csv & train_labels.csv\n",
    "train = pd.merge(pd.read_csv(DATA_PATH+'waterpumps/train_features.csv'), \n",
    "                 pd.read_csv(DATA_PATH+'waterpumps/train_labels.csv'))\n",
    "print(train.shape)\n",
    "# Read test_features.csv & sample_submission.csv\n",
    "test = pd.read_csv(DATA_PATH+'waterpumps/test_features.csv')\n",
    "sample_submission = pd.read_csv(DATA_PATH+'waterpumps/sample_submission.csv')\n",
    "\n",
    "# Split train into train & val\n",
    "train, val = train_test_split(train, train_size=0.80, test_size=0.20, \n",
    "                              stratify=train['status_group'], random_state=42)\n",
    "\n",
    "\n",
    "def wrangle(X):\n",
    "    \"\"\"Wrangle train, validate, and test sets in the same way\"\"\"\n",
    "    \n",
    "    # Prevent SettingWithCopyWarning\n",
    "    X = X.copy()\n",
    "    \n",
    "    # About 3% of the time, latitude has small values near zero,\n",
    "    # outside Tanzania, so we'll treat these values like zero.\n",
    "    X['latitude'] = X['latitude'].replace(-2e-08, 0)\n",
    "    \n",
    "    # When columns have zeros and shouldn't, they are like null values.\n",
    "    # So we will replace the zeros with nulls, and impute missing values later.\n",
    "    # Also create a \"missing indicator\" column, because the fact that\n",
    "    # values are missing may be a predictive signal.\n",
    "    cols_with_zeros = ['longitude', 'latitude', 'construction_year', \n",
    "                       'gps_height', 'population']\n",
    "    for col in cols_with_zeros:\n",
    "        X[col] = X[col].replace(0, np.nan)\n",
    "        X[col+'_MISSING'] = X[col].isnull()\n",
    "            \n",
    "    # Drop duplicate columns\n",
    "    duplicates = ['quantity_group', 'payment_type']\n",
    "    X = X.drop(columns=duplicates)\n",
    "    \n",
    "    # Drop recorded_by (never varies) and id (always varies, random)\n",
    "    unusable_variance = ['recorded_by', 'id']\n",
    "    X = X.drop(columns=unusable_variance)\n",
    "    \n",
    "    # Convert date_recorded to datetime\n",
    "    X['date_recorded'] = pd.to_datetime(X['date_recorded'], infer_datetime_format=True)\n",
    "    \n",
    "    # Extract components from date_recorded, then drop the original column\n",
    "    X['year_recorded'] = X['date_recorded'].dt.year\n",
    "    X['month_recorded'] = X['date_recorded'].dt.month\n",
    "    X['day_recorded'] = X['date_recorded'].dt.day\n",
    "    X = X.drop(columns='date_recorded')\n",
    "    \n",
    "    # Engineer feature: how many years from construction_year to date_recorded\n",
    "    X['years'] = X['year_recorded'] - X['construction_year']\n",
    "    X['years_MISSING'] = X['years'].isnull()\n",
    "    \n",
    "    # return the wrangled dataframe\n",
    "    return X\n",
    "\n",
    "train = wrangle(train)\n",
    "val = wrangle(val)\n",
    "test = wrangle(test)\n",
    "train.shape, val.shape, test.shape"
   ],
   "execution_count": 2,
   "outputs": [
    {
     "name": "stdout",
     "output_type": "stream",
     "text": [
      "(59400, 41)\n"
     ]
    },
    {
     "data": {
      "text/plain": "((47520, 46), (11880, 46), (14358, 45))"
     },
     "execution_count": 2,
     "metadata": {},
     "output_type": "execute_result"
    }
   ]
  },
  {
   "cell_type": "code",
   "metadata": {
    "id": "m2HppBvZgLVP",
    "executionInfo": {
     "status": "ok",
     "timestamp": 1611967991097,
     "user_tz": 300,
     "elapsed": 3819,
     "user": {
      "displayName": "Parvi Singh",
      "photoUrl": "https://lh3.googleusercontent.com/a-/AOh14GicHh9ECKPiyR68S3IUC3uvEPxQPh88MULwl8RHhQ=s64",
      "userId": "15870809085498692847"
     }
    }
   },
   "source": [
    "# The status_group column is the target\n",
    "target = 'status_group'\n",
    "\n",
    "# Get a dataframe with all train columns except the target\n",
    "train_features = train.drop(columns=[target])\n",
    "\n",
    "# Get a list of the numeric features\n",
    "numeric_features = train_features.select_dtypes(include='number').columns.tolist()\n",
    "\n",
    "# Get a series with the cardinality of the nonnumeric features\n",
    "cardinality = train_features.select_dtypes(exclude='number').nunique()\n",
    "\n",
    "# Get a list of all categorical features with cardinality <= 50\n",
    "categorical_features = cardinality[cardinality <= 50].index.tolist()\n",
    "\n",
    "# Combine the lists \n",
    "features = numeric_features + categorical_features"
   ],
   "execution_count": 3,
   "outputs": []
  },
  {
   "cell_type": "code",
   "metadata": {
    "id": "aXmK2brXgLVR",
    "executionInfo": {
     "status": "ok",
     "timestamp": 1611967991098,
     "user_tz": 300,
     "elapsed": 3817,
     "user": {
      "displayName": "Parvi Singh",
      "photoUrl": "https://lh3.googleusercontent.com/a-/AOh14GicHh9ECKPiyR68S3IUC3uvEPxQPh88MULwl8RHhQ=s64",
      "userId": "15870809085498692847"
     }
    }
   },
   "source": [
    "# Arrange data into X features matrix and y target vector \n",
    "X_train = train[features]\n",
    "y_train = train[target]\n",
    "X_val = val[features]\n",
    "y_val = val[target]\n",
    "X_test = test[features]"
   ],
   "execution_count": 4,
   "outputs": []
  },
  {
   "cell_type": "markdown",
   "metadata": {
    "id": "XpZxZADFA4py"
   },
   "source": [
    "## Follow Along\n",
    "\n",
    "[Scikit-Learn User Guide: Random Forests](https://scikit-learn.org/stable/modules/ensemble.html#random-forests) "
   ]
  },
  {
   "cell_type": "code",
   "metadata": {
    "id": "mVtwcrUEI5PH",
    "executionInfo": {
     "status": "ok",
     "timestamp": 1611967991285,
     "user_tz": 300,
     "elapsed": 4001,
     "user": {
      "displayName": "Parvi Singh",
      "photoUrl": "https://lh3.googleusercontent.com/a-/AOh14GicHh9ECKPiyR68S3IUC3uvEPxQPh88MULwl8RHhQ=s64",
      "userId": "15870809085498692847"
     }
    }
   },
   "source": [
    "# from \n",
    "# from pandas_profiling import ProfileReport\n",
    "# profile = ProfileReport(train).to_notebook_iframe()\n",
    "# profile\n"
   ],
   "execution_count": 5,
   "outputs": []
  },
  {
   "cell_type": "code",
   "metadata": {
    "colab": {
     "base_uri": "https://localhost:8080/",
     "height": 326
    },
    "id": "I6tKw9S8I2kB",
    "executionInfo": {
     "status": "ok",
     "timestamp": 1611967991286,
     "user_tz": 300,
     "elapsed": 3996,
     "user": {
      "displayName": "Parvi Singh",
      "photoUrl": "https://lh3.googleusercontent.com/a-/AOh14GicHh9ECKPiyR68S3IUC3uvEPxQPh88MULwl8RHhQ=s64",
      "userId": "15870809085498692847"
     }
    },
    "outputId": "5c1cfcee-5791-4e9f-a8f0-c6c5920cd207"
   },
   "source": [
    "train.head()"
   ],
   "execution_count": 6,
   "outputs": [
    {
     "data": {
      "text/plain": "       amount_tsh                  funder  gps_height installer  longitude  \\\n43360         0.0                     NaN         NaN       NaN  33.542898   \n7263        500.0               Rc Church      2049.0      ACRA  34.665760   \n2486         25.0                   Donor       290.0        Do  38.238568   \n313           0.0  Government Of Tanzania         NaN       DWE  30.716727   \n52726         0.0                   Water         NaN      Gove  35.389331   \n\n       latitude             wpt_name  num_private          basin   subvillage  \\\n43360 -9.174777         Kwa Mzee Noa            0     Lake Nyasa  Mpandapanda   \n7263  -9.308548  Kwa Yasinta Ng'Ande            0         Rufiji      Kitichi   \n2486  -6.179919          Kwasungwini            0    Wami / Ruvu   Kwedigongo   \n313   -1.289055           Kwajovin 2            0  Lake Victoria      Kihanga   \n52726 -6.399942                Chama            0       Internal       Mtakuj   \n\n       ... longitude_MISSING  latitude_MISSING  construction_year_MISSING  \\\n43360  ...             False             False                       True   \n7263   ...             False             False                      False   \n2486   ...             False             False                      False   \n313    ...             False             False                       True   \n52726  ...             False             False                       True   \n\n      gps_height_MISSING population_MISSING  year_recorded month_recorded  \\\n43360               True               True           2011              7   \n7263               False              False           2011              3   \n2486               False              False           2011              3   \n313                 True               True           2011              7   \n52726               True               True           2011              3   \n\n      day_recorded years years_MISSING  \n43360           27   NaN          True  \n7263            23   3.0         False  \n2486             7   1.0         False  \n313             31   NaN          True  \n52726           10   NaN          True  \n\n[5 rows x 46 columns]",
      "text/html": "<div>\n<style scoped>\n    .dataframe tbody tr th:only-of-type {\n        vertical-align: middle;\n    }\n\n    .dataframe tbody tr th {\n        vertical-align: top;\n    }\n\n    .dataframe thead th {\n        text-align: right;\n    }\n</style>\n<table border=\"1\" class=\"dataframe\">\n  <thead>\n    <tr style=\"text-align: right;\">\n      <th></th>\n      <th>amount_tsh</th>\n      <th>funder</th>\n      <th>gps_height</th>\n      <th>installer</th>\n      <th>longitude</th>\n      <th>latitude</th>\n      <th>wpt_name</th>\n      <th>num_private</th>\n      <th>basin</th>\n      <th>subvillage</th>\n      <th>...</th>\n      <th>longitude_MISSING</th>\n      <th>latitude_MISSING</th>\n      <th>construction_year_MISSING</th>\n      <th>gps_height_MISSING</th>\n      <th>population_MISSING</th>\n      <th>year_recorded</th>\n      <th>month_recorded</th>\n      <th>day_recorded</th>\n      <th>years</th>\n      <th>years_MISSING</th>\n    </tr>\n  </thead>\n  <tbody>\n    <tr>\n      <th>43360</th>\n      <td>0.0</td>\n      <td>NaN</td>\n      <td>NaN</td>\n      <td>NaN</td>\n      <td>33.542898</td>\n      <td>-9.174777</td>\n      <td>Kwa Mzee Noa</td>\n      <td>0</td>\n      <td>Lake Nyasa</td>\n      <td>Mpandapanda</td>\n      <td>...</td>\n      <td>False</td>\n      <td>False</td>\n      <td>True</td>\n      <td>True</td>\n      <td>True</td>\n      <td>2011</td>\n      <td>7</td>\n      <td>27</td>\n      <td>NaN</td>\n      <td>True</td>\n    </tr>\n    <tr>\n      <th>7263</th>\n      <td>500.0</td>\n      <td>Rc Church</td>\n      <td>2049.0</td>\n      <td>ACRA</td>\n      <td>34.665760</td>\n      <td>-9.308548</td>\n      <td>Kwa Yasinta Ng'Ande</td>\n      <td>0</td>\n      <td>Rufiji</td>\n      <td>Kitichi</td>\n      <td>...</td>\n      <td>False</td>\n      <td>False</td>\n      <td>False</td>\n      <td>False</td>\n      <td>False</td>\n      <td>2011</td>\n      <td>3</td>\n      <td>23</td>\n      <td>3.0</td>\n      <td>False</td>\n    </tr>\n    <tr>\n      <th>2486</th>\n      <td>25.0</td>\n      <td>Donor</td>\n      <td>290.0</td>\n      <td>Do</td>\n      <td>38.238568</td>\n      <td>-6.179919</td>\n      <td>Kwasungwini</td>\n      <td>0</td>\n      <td>Wami / Ruvu</td>\n      <td>Kwedigongo</td>\n      <td>...</td>\n      <td>False</td>\n      <td>False</td>\n      <td>False</td>\n      <td>False</td>\n      <td>False</td>\n      <td>2011</td>\n      <td>3</td>\n      <td>7</td>\n      <td>1.0</td>\n      <td>False</td>\n    </tr>\n    <tr>\n      <th>313</th>\n      <td>0.0</td>\n      <td>Government Of Tanzania</td>\n      <td>NaN</td>\n      <td>DWE</td>\n      <td>30.716727</td>\n      <td>-1.289055</td>\n      <td>Kwajovin 2</td>\n      <td>0</td>\n      <td>Lake Victoria</td>\n      <td>Kihanga</td>\n      <td>...</td>\n      <td>False</td>\n      <td>False</td>\n      <td>True</td>\n      <td>True</td>\n      <td>True</td>\n      <td>2011</td>\n      <td>7</td>\n      <td>31</td>\n      <td>NaN</td>\n      <td>True</td>\n    </tr>\n    <tr>\n      <th>52726</th>\n      <td>0.0</td>\n      <td>Water</td>\n      <td>NaN</td>\n      <td>Gove</td>\n      <td>35.389331</td>\n      <td>-6.399942</td>\n      <td>Chama</td>\n      <td>0</td>\n      <td>Internal</td>\n      <td>Mtakuj</td>\n      <td>...</td>\n      <td>False</td>\n      <td>False</td>\n      <td>True</td>\n      <td>True</td>\n      <td>True</td>\n      <td>2011</td>\n      <td>3</td>\n      <td>10</td>\n      <td>NaN</td>\n      <td>True</td>\n    </tr>\n  </tbody>\n</table>\n<p>5 rows × 46 columns</p>\n</div>"
     },
     "execution_count": 6,
     "metadata": {},
     "output_type": "execute_result"
    }
   ]
  },
  {
   "cell_type": "code",
   "execution_count": 13,
   "outputs": [
    {
     "name": "stdout",
     "output_type": "stream",
     "text": [
      "/Users/rob/opt/anaconda3/envs/U4-S1-NLP/bin/python\r\n"
     ]
    }
   ],
   "source": [
    "!which python"
   ],
   "metadata": {
    "collapsed": false,
    "pycharm": {
     "name": "#%%\n"
    }
   }
  },
  {
   "cell_type": "code",
   "metadata": {
    "colab": {
     "base_uri": "https://localhost:8080/"
    },
    "id": "57yyygsdgLVW",
    "executionInfo": {
     "status": "ok",
     "timestamp": 1611968006245,
     "user_tz": 300,
     "elapsed": 13151,
     "user": {
      "displayName": "Parvi Singh",
      "photoUrl": "https://lh3.googleusercontent.com/a-/AOh14GicHh9ECKPiyR68S3IUC3uvEPxQPh88MULwl8RHhQ=s64",
      "userId": "15870809085498692847"
     }
    },
    "outputId": "766aa355-7faf-485f-ff85-39ee80172c3e"
   },
   "source": [
    "# TODO\n",
    "# %%time\n",
    "\n",
    "from sklearn.ensemble import RandomForestClassifier\n",
    "import category_encoders as ce\n",
    "from sklearn.impute import SimpleImputer\n",
    "from sklearn.pipeline import make_pipeline\n",
    "\n",
    "pipeline = make_pipeline(\n",
    "    ce.OneHotEncoder(use_cat_names=True),\n",
    "    SimpleImputer(strategy='median'),\n",
    "    RandomForestClassifier(random_state=0, n_jobs=-1)\n",
    ")\n",
    "\n",
    "#fit and train the pipeline train, val \n",
    "pipeline.fit(X_train, y_train)\n",
    "print(f'Val accuracy is {pipeline.score(X_val, y_val)}')"
   ],
   "execution_count": 14,
   "outputs": [
    {
     "name": "stderr",
     "output_type": "stream",
     "text": [
      "/Users/rob/opt/anaconda3/envs/U4-S1-NLP/lib/python3.7/site-packages/category_encoders/utils.py:21: FutureWarning: is_categorical is deprecated and will be removed in a future version.  Use is_categorical_dtype instead\n",
      "  elif pd.api.types.is_categorical(cols):\n"
     ]
    },
    {
     "name": "stdout",
     "output_type": "stream",
     "text": [
      "Val accuracy is 0.8088383838383838\n"
     ]
    }
   ]
  },
  {
   "cell_type": "code",
   "metadata": {
    "colab": {
     "base_uri": "https://localhost:8080/"
    },
    "id": "vGU3Z9wzKuS4",
    "executionInfo": {
     "status": "ok",
     "timestamp": 1611967565672,
     "user_tz": 300,
     "elapsed": 17422,
     "user": {
      "displayName": "Parvi Singh",
      "photoUrl": "https://lh3.googleusercontent.com/a-/AOh14GicHh9ECKPiyR68S3IUC3uvEPxQPh88MULwl8RHhQ=s64",
      "userId": "15870809085498692847"
     }
    },
    "outputId": "58b97dee-6526-471c-9970-2d4b60f9d8a1"
   },
   "source": [
    "print(f'X_train shape before encoding {X_train.shape}')"
   ],
   "execution_count": 15,
   "outputs": [
    {
     "name": "stdout",
     "output_type": "stream",
     "text": [
      "X_train shape before encoding (47520, 38)\n"
     ]
    }
   ]
  },
  {
   "cell_type": "code",
   "execution_count": 21,
   "outputs": [
    {
     "name": "stdout",
     "output_type": "stream",
     "text": [
      "<class 'pandas.core.frame.DataFrame'>\n",
      "Int64Index: 47520 entries, 43360 to 49783\n",
      "Data columns (total 38 columns):\n",
      " #   Column                     Non-Null Count  Dtype  \n",
      "---  ------                     --------------  -----  \n",
      " 0   amount_tsh                 47520 non-null  float64\n",
      " 1   gps_height                 31215 non-null  float64\n",
      " 2   longitude                  46078 non-null  float64\n",
      " 3   latitude                   46078 non-null  float64\n",
      " 4   num_private                47520 non-null  int64  \n",
      " 5   region_code                47520 non-null  int64  \n",
      " 6   district_code              47520 non-null  int64  \n",
      " 7   population                 30454 non-null  float64\n",
      " 8   construction_year          31003 non-null  float64\n",
      " 9   year_recorded              47520 non-null  int64  \n",
      " 10  month_recorded             47520 non-null  int64  \n",
      " 11  day_recorded               47520 non-null  int64  \n",
      " 12  years                      31003 non-null  float64\n",
      " 13  basin                      47520 non-null  object \n",
      " 14  region                     47520 non-null  object \n",
      " 15  public_meeting             44876 non-null  object \n",
      " 16  scheme_management          44392 non-null  object \n",
      " 17  permit                     45077 non-null  object \n",
      " 18  extraction_type            47520 non-null  object \n",
      " 19  extraction_type_group      47520 non-null  object \n",
      " 20  extraction_type_class      47520 non-null  object \n",
      " 21  management                 47520 non-null  object \n",
      " 22  management_group           47520 non-null  object \n",
      " 23  payment                    47520 non-null  object \n",
      " 24  water_quality              47520 non-null  object \n",
      " 25  quality_group              47520 non-null  object \n",
      " 26  quantity                   47520 non-null  object \n",
      " 27  source                     47520 non-null  object \n",
      " 28  source_type                47520 non-null  object \n",
      " 29  source_class               47520 non-null  object \n",
      " 30  waterpoint_type            47520 non-null  object \n",
      " 31  waterpoint_type_group      47520 non-null  object \n",
      " 32  longitude_MISSING          47520 non-null  bool   \n",
      " 33  latitude_MISSING           47520 non-null  bool   \n",
      " 34  construction_year_MISSING  47520 non-null  bool   \n",
      " 35  gps_height_MISSING         47520 non-null  bool   \n",
      " 36  population_MISSING         47520 non-null  bool   \n",
      " 37  years_MISSING              47520 non-null  bool   \n",
      "dtypes: bool(6), float64(7), int64(6), object(19)\n",
      "memory usage: 13.5+ MB\n"
     ]
    }
   ],
   "source": [
    "X_train.info()"
   ],
   "metadata": {
    "collapsed": false,
    "pycharm": {
     "name": "#%%\n"
    }
   }
  },
  {
   "cell_type": "code",
   "metadata": {
    "colab": {
     "base_uri": "https://localhost:8080/"
    },
    "id": "C6ix3DKKK2kv",
    "executionInfo": {
     "status": "ok",
     "timestamp": 1611967582086,
     "user_tz": 300,
     "elapsed": 30456,
     "user": {
      "displayName": "Parvi Singh",
      "photoUrl": "https://lh3.googleusercontent.com/a-/AOh14GicHh9ECKPiyR68S3IUC3uvEPxQPh88MULwl8RHhQ=s64",
      "userId": "15870809085498692847"
     }
    },
    "outputId": "2d6a3cf0-8f16-47e8-c105-7d383a7dfaa0"
   },
   "source": [
    "encoder = pipeline.named_steps['onehotencoder']\n",
    "encoded = encoder.transform(X_train)\n",
    "\n",
    "print(f'X_train shape before encoding {encoded.shape}')"
   ],
   "execution_count": 17,
   "outputs": [
    {
     "name": "stdout",
     "output_type": "stream",
     "text": [
      "X_train shape before encoding (47520, 182)\n"
     ]
    }
   ]
  },
  {
   "cell_type": "code",
   "execution_count": 20,
   "outputs": [
    {
     "data": {
      "text/plain": "       amount_tsh  gps_height  longitude   latitude  num_private  region_code  \\\n43360         0.0         NaN  33.542898  -9.174777            0           12   \n7263        500.0      2049.0  34.665760  -9.308548            0           11   \n2486         25.0       290.0  38.238568  -6.179919            0            6   \n313           0.0         NaN  30.716727  -1.289055            0           18   \n52726         0.0         NaN  35.389331  -6.399942            0            1   \n...           ...         ...        ...        ...          ...          ...   \n9795         50.0       489.0  38.268574  -5.450254            4            4   \n58170         0.0         NaN  33.926294  -9.641293            0           12   \n17191         0.0       599.0  39.262924 -10.768079            0           90   \n8192         30.0       426.0  39.348550 -10.642069            0           90   \n49783        50.0       501.0  37.562148  -6.888409            0            5   \n\n       district_code  population  construction_year  year_recorded  ...  \\\n43360              4         NaN                NaN           2011  ...   \n7263               4       175.0             2008.0           2011  ...   \n2486               1      2300.0             2010.0           2011  ...   \n313                1         NaN                NaN           2011  ...   \n52726              6         NaN                NaN           2011  ...   \n...              ...         ...                ...            ...  ...   \n9795               6      1300.0             2009.0           2011  ...   \n58170              3         NaN                NaN           2011  ...   \n17191             33         1.0             2012.0           2013  ...   \n8192              33       320.0             1988.0           2013  ...   \n49783              6        90.0             1982.0           2011  ...   \n\n       waterpoint_type_group_other  waterpoint_type_group_improved spring  \\\n43360                            0                                      0   \n7263                             0                                      0   \n2486                             0                                      0   \n313                              1                                      0   \n52726                            0                                      0   \n...                            ...                                    ...   \n9795                             0                                      0   \n58170                            0                                      0   \n17191                            0                                      0   \n8192                             0                                      0   \n49783                            0                                      0   \n\n       waterpoint_type_group_cattle trough  waterpoint_type_group_dam  \\\n43360                                    0                          0   \n7263                                     0                          0   \n2486                                     0                          0   \n313                                      0                          0   \n52726                                    0                          0   \n...                                    ...                        ...   \n9795                                     0                          0   \n58170                                    0                          0   \n17191                                    0                          0   \n8192                                     0                          0   \n49783                                    0                          0   \n\n       longitude_MISSING  latitude_MISSING  construction_year_MISSING  \\\n43360              False             False                       True   \n7263               False             False                      False   \n2486               False             False                      False   \n313                False             False                       True   \n52726              False             False                       True   \n...                  ...               ...                        ...   \n9795               False             False                      False   \n58170              False             False                       True   \n17191              False             False                      False   \n8192               False             False                      False   \n49783              False             False                      False   \n\n       gps_height_MISSING  population_MISSING  years_MISSING  \n43360                True                True           True  \n7263                False               False          False  \n2486                False               False          False  \n313                  True                True           True  \n52726                True                True           True  \n...                   ...                 ...            ...  \n9795                False               False          False  \n58170                True                True           True  \n17191               False               False          False  \n8192                False               False          False  \n49783               False               False          False  \n\n[47520 rows x 182 columns]",
      "text/html": "<div>\n<style scoped>\n    .dataframe tbody tr th:only-of-type {\n        vertical-align: middle;\n    }\n\n    .dataframe tbody tr th {\n        vertical-align: top;\n    }\n\n    .dataframe thead th {\n        text-align: right;\n    }\n</style>\n<table border=\"1\" class=\"dataframe\">\n  <thead>\n    <tr style=\"text-align: right;\">\n      <th></th>\n      <th>amount_tsh</th>\n      <th>gps_height</th>\n      <th>longitude</th>\n      <th>latitude</th>\n      <th>num_private</th>\n      <th>region_code</th>\n      <th>district_code</th>\n      <th>population</th>\n      <th>construction_year</th>\n      <th>year_recorded</th>\n      <th>...</th>\n      <th>waterpoint_type_group_other</th>\n      <th>waterpoint_type_group_improved spring</th>\n      <th>waterpoint_type_group_cattle trough</th>\n      <th>waterpoint_type_group_dam</th>\n      <th>longitude_MISSING</th>\n      <th>latitude_MISSING</th>\n      <th>construction_year_MISSING</th>\n      <th>gps_height_MISSING</th>\n      <th>population_MISSING</th>\n      <th>years_MISSING</th>\n    </tr>\n  </thead>\n  <tbody>\n    <tr>\n      <th>43360</th>\n      <td>0.0</td>\n      <td>NaN</td>\n      <td>33.542898</td>\n      <td>-9.174777</td>\n      <td>0</td>\n      <td>12</td>\n      <td>4</td>\n      <td>NaN</td>\n      <td>NaN</td>\n      <td>2011</td>\n      <td>...</td>\n      <td>0</td>\n      <td>0</td>\n      <td>0</td>\n      <td>0</td>\n      <td>False</td>\n      <td>False</td>\n      <td>True</td>\n      <td>True</td>\n      <td>True</td>\n      <td>True</td>\n    </tr>\n    <tr>\n      <th>7263</th>\n      <td>500.0</td>\n      <td>2049.0</td>\n      <td>34.665760</td>\n      <td>-9.308548</td>\n      <td>0</td>\n      <td>11</td>\n      <td>4</td>\n      <td>175.0</td>\n      <td>2008.0</td>\n      <td>2011</td>\n      <td>...</td>\n      <td>0</td>\n      <td>0</td>\n      <td>0</td>\n      <td>0</td>\n      <td>False</td>\n      <td>False</td>\n      <td>False</td>\n      <td>False</td>\n      <td>False</td>\n      <td>False</td>\n    </tr>\n    <tr>\n      <th>2486</th>\n      <td>25.0</td>\n      <td>290.0</td>\n      <td>38.238568</td>\n      <td>-6.179919</td>\n      <td>0</td>\n      <td>6</td>\n      <td>1</td>\n      <td>2300.0</td>\n      <td>2010.0</td>\n      <td>2011</td>\n      <td>...</td>\n      <td>0</td>\n      <td>0</td>\n      <td>0</td>\n      <td>0</td>\n      <td>False</td>\n      <td>False</td>\n      <td>False</td>\n      <td>False</td>\n      <td>False</td>\n      <td>False</td>\n    </tr>\n    <tr>\n      <th>313</th>\n      <td>0.0</td>\n      <td>NaN</td>\n      <td>30.716727</td>\n      <td>-1.289055</td>\n      <td>0</td>\n      <td>18</td>\n      <td>1</td>\n      <td>NaN</td>\n      <td>NaN</td>\n      <td>2011</td>\n      <td>...</td>\n      <td>1</td>\n      <td>0</td>\n      <td>0</td>\n      <td>0</td>\n      <td>False</td>\n      <td>False</td>\n      <td>True</td>\n      <td>True</td>\n      <td>True</td>\n      <td>True</td>\n    </tr>\n    <tr>\n      <th>52726</th>\n      <td>0.0</td>\n      <td>NaN</td>\n      <td>35.389331</td>\n      <td>-6.399942</td>\n      <td>0</td>\n      <td>1</td>\n      <td>6</td>\n      <td>NaN</td>\n      <td>NaN</td>\n      <td>2011</td>\n      <td>...</td>\n      <td>0</td>\n      <td>0</td>\n      <td>0</td>\n      <td>0</td>\n      <td>False</td>\n      <td>False</td>\n      <td>True</td>\n      <td>True</td>\n      <td>True</td>\n      <td>True</td>\n    </tr>\n    <tr>\n      <th>...</th>\n      <td>...</td>\n      <td>...</td>\n      <td>...</td>\n      <td>...</td>\n      <td>...</td>\n      <td>...</td>\n      <td>...</td>\n      <td>...</td>\n      <td>...</td>\n      <td>...</td>\n      <td>...</td>\n      <td>...</td>\n      <td>...</td>\n      <td>...</td>\n      <td>...</td>\n      <td>...</td>\n      <td>...</td>\n      <td>...</td>\n      <td>...</td>\n      <td>...</td>\n      <td>...</td>\n    </tr>\n    <tr>\n      <th>9795</th>\n      <td>50.0</td>\n      <td>489.0</td>\n      <td>38.268574</td>\n      <td>-5.450254</td>\n      <td>4</td>\n      <td>4</td>\n      <td>6</td>\n      <td>1300.0</td>\n      <td>2009.0</td>\n      <td>2011</td>\n      <td>...</td>\n      <td>0</td>\n      <td>0</td>\n      <td>0</td>\n      <td>0</td>\n      <td>False</td>\n      <td>False</td>\n      <td>False</td>\n      <td>False</td>\n      <td>False</td>\n      <td>False</td>\n    </tr>\n    <tr>\n      <th>58170</th>\n      <td>0.0</td>\n      <td>NaN</td>\n      <td>33.926294</td>\n      <td>-9.641293</td>\n      <td>0</td>\n      <td>12</td>\n      <td>3</td>\n      <td>NaN</td>\n      <td>NaN</td>\n      <td>2011</td>\n      <td>...</td>\n      <td>0</td>\n      <td>0</td>\n      <td>0</td>\n      <td>0</td>\n      <td>False</td>\n      <td>False</td>\n      <td>True</td>\n      <td>True</td>\n      <td>True</td>\n      <td>True</td>\n    </tr>\n    <tr>\n      <th>17191</th>\n      <td>0.0</td>\n      <td>599.0</td>\n      <td>39.262924</td>\n      <td>-10.768079</td>\n      <td>0</td>\n      <td>90</td>\n      <td>33</td>\n      <td>1.0</td>\n      <td>2012.0</td>\n      <td>2013</td>\n      <td>...</td>\n      <td>0</td>\n      <td>0</td>\n      <td>0</td>\n      <td>0</td>\n      <td>False</td>\n      <td>False</td>\n      <td>False</td>\n      <td>False</td>\n      <td>False</td>\n      <td>False</td>\n    </tr>\n    <tr>\n      <th>8192</th>\n      <td>30.0</td>\n      <td>426.0</td>\n      <td>39.348550</td>\n      <td>-10.642069</td>\n      <td>0</td>\n      <td>90</td>\n      <td>33</td>\n      <td>320.0</td>\n      <td>1988.0</td>\n      <td>2013</td>\n      <td>...</td>\n      <td>0</td>\n      <td>0</td>\n      <td>0</td>\n      <td>0</td>\n      <td>False</td>\n      <td>False</td>\n      <td>False</td>\n      <td>False</td>\n      <td>False</td>\n      <td>False</td>\n    </tr>\n    <tr>\n      <th>49783</th>\n      <td>50.0</td>\n      <td>501.0</td>\n      <td>37.562148</td>\n      <td>-6.888409</td>\n      <td>0</td>\n      <td>5</td>\n      <td>6</td>\n      <td>90.0</td>\n      <td>1982.0</td>\n      <td>2011</td>\n      <td>...</td>\n      <td>0</td>\n      <td>0</td>\n      <td>0</td>\n      <td>0</td>\n      <td>False</td>\n      <td>False</td>\n      <td>False</td>\n      <td>False</td>\n      <td>False</td>\n      <td>False</td>\n    </tr>\n  </tbody>\n</table>\n<p>47520 rows × 182 columns</p>\n</div>"
     },
     "execution_count": 20,
     "metadata": {},
     "output_type": "execute_result"
    }
   ],
   "source": [
    "encoded"
   ],
   "metadata": {
    "collapsed": false,
    "pycharm": {
     "name": "#%%\n"
    }
   }
  },
  {
   "cell_type": "code",
   "metadata": {
    "colab": {
     "base_uri": "https://localhost:8080/",
     "height": 624
    },
    "id": "uk9JPlnMLR7O",
    "executionInfo": {
     "status": "ok",
     "timestamp": 1611967582596,
     "user_tz": 300,
     "elapsed": 30960,
     "user": {
      "displayName": "Parvi Singh",
      "photoUrl": "https://lh3.googleusercontent.com/a-/AOh14GicHh9ECKPiyR68S3IUC3uvEPxQPh88MULwl8RHhQ=s64",
      "userId": "15870809085498692847"
     }
    },
    "outputId": "7306cc30-ab6b-4548-fc1b-9403a063ab89"
   },
   "source": [
    "%matplotlib inline\n",
    "import matplotlib.pyplot as plt\n",
    "#get feature_importances_\n",
    "\n",
    "rf = pipeline.named_steps['randomforestclassifier']\n",
    "importances = pd.Series(rf.feature_importances_, encoded.columns)\n",
    "\n",
    "# plot top 20 features\n",
    "n= 20\n",
    "plt.figure(figsize = (10, n/2))\n",
    "\n",
    "plt.title('Top 20 Features')\n",
    "importances.sort_values()[-n:].plot.barh() # what is -n doing here??"
   ],
   "execution_count": 45,
   "outputs": [
    {
     "output_type": "execute_result",
     "data": {
      "text/plain": [
       "<matplotlib.axes._subplots.AxesSubplot at 0x7f875ff02f28>"
      ]
     },
     "metadata": {
      "tags": []
     },
     "execution_count": 45
    },
    {
     "output_type": "display_data",
     "data": {
      "image/png": "[encoded data removed]",
      "text/plain": [
       "<Figure size 720x720 with 1 Axes>"
      ]
     },
     "metadata": {
      "tags": [],
      "needs_background": "light"
     }
    }
   ]
  },
  {
   "cell_type": "markdown",
   "metadata": {
    "id": "yfyk_aa5gLVY"
   },
   "source": [
    "# Do ordinal encoding with high-cardinality categoricals"
   ]
  },
  {
   "cell_type": "markdown",
   "metadata": {
    "id": "KBuMr2xyA4pz"
   },
   "source": [
    "## Overview\n",
    "\n",
    "https://contrib.scikit-learn.org/category_encoders/ordinal.html"
   ]
  },
  {
   "cell_type": "markdown",
   "metadata": {
    "id": "g5uCmMn2A4pz"
   },
   "source": [
    "## Follow Along"
   ]
  },
  {
   "cell_type": "code",
   "metadata": {
    "id": "b8d_WJtcgLVZ",
    "executionInfo": {
     "status": "ok",
     "timestamp": 1611967582597,
     "user_tz": 300,
     "elapsed": 30956,
     "user": {
      "displayName": "Parvi Singh",
      "photoUrl": "https://lh3.googleusercontent.com/a-/AOh14GicHh9ECKPiyR68S3IUC3uvEPxQPh88MULwl8RHhQ=s64",
      "userId": "15870809085498692847"
     }
    }
   },
   "source": [
    "# TODO\n",
    "\n",
    "# re arrange data into X and Y, so we are going to use all features including the high-carinality features because orianal encoding can deal with them as well\n",
    "\n",
    "\n",
    "X_train = train.drop(columns=target)\n",
    "y_train = train[target]\n",
    "X_val = val.drop(columns=target)\n",
    "y_val = val[target]\n",
    "X_test = test"
   ],
   "execution_count": 46,
   "outputs": []
  },
  {
   "cell_type": "code",
   "metadata": {
    "colab": {
     "base_uri": "https://localhost:8080/"
    },
    "id": "oBg4hUKiPbUi",
    "executionInfo": {
     "status": "ok",
     "timestamp": 1611967590639,
     "user_tz": 300,
     "elapsed": 38995,
     "user": {
      "displayName": "Parvi Singh",
      "photoUrl": "https://lh3.googleusercontent.com/a-/AOh14GicHh9ECKPiyR68S3IUC3uvEPxQPh88MULwl8RHhQ=s64",
      "userId": "15870809085498692847"
     }
    },
    "outputId": "6807f370-232e-4263-d41a-69219e4f2695"
   },
   "source": [
    "%%time\n",
    "\n",
    "# this is same as above only difference is changing OHE to OrdinalEncoding\n",
    "from sklearn.ensemble import RandomForestClassifier\n",
    "import category_encoders as ce\n",
    "from sklearn.impute import SimpleImputer\n",
    "from sklearn.pipeline import make_pipeline\n",
    "from sklearn.preprocessing import OrdinalEncoder\n",
    "\n",
    "pipeline = make_pipeline(\n",
    "    ce.OrdinalEncoder(),\n",
    "    SimpleImputer(strategy='median'),\n",
    "    RandomForestClassifier(random_state=0, n_jobs=-1)\n",
    ")\n",
    "\n",
    "#fit and train the pipeline train, val \n",
    "pipeline.fit(X_train, y_train)\n"
   ],
   "execution_count": 47,
   "outputs": [
    {
     "output_type": "stream",
     "text": [
      "CPU times: user 14.8 s, sys: 78.3 ms, total: 14.9 s\n",
      "Wall time: 8.14 s\n"
     ],
     "name": "stdout"
    }
   ]
  },
  {
   "cell_type": "code",
   "metadata": {
    "colab": {
     "base_uri": "https://localhost:8080/"
    },
    "id": "Gia27m25Q2c3",
    "executionInfo": {
     "status": "ok",
     "timestamp": 1611967591070,
     "user_tz": 300,
     "elapsed": 39419,
     "user": {
      "displayName": "Parvi Singh",
      "photoUrl": "https://lh3.googleusercontent.com/a-/AOh14GicHh9ECKPiyR68S3IUC3uvEPxQPh88MULwl8RHhQ=s64",
      "userId": "15870809085498692847"
     }
    },
    "outputId": "abbbfbbf-a35f-428b-c7e0-2c8b547649d7"
   },
   "source": [
    "print(f'Val accuracy is {pipeline.score(X_val, y_val)}')"
   ],
   "execution_count": 48,
   "outputs": [
    {
     "output_type": "stream",
     "text": [
      "Val accuracy is 0.8092592592592592\n"
     ],
     "name": "stdout"
    }
   ]
  },
  {
   "cell_type": "code",
   "metadata": {
    "colab": {
     "base_uri": "https://localhost:8080/"
    },
    "id": "1JdpHnB-QLK2",
    "executionInfo": {
     "status": "ok",
     "timestamp": 1611967591070,
     "user_tz": 300,
     "elapsed": 39413,
     "user": {
      "displayName": "Parvi Singh",
      "photoUrl": "https://lh3.googleusercontent.com/a-/AOh14GicHh9ECKPiyR68S3IUC3uvEPxQPh88MULwl8RHhQ=s64",
      "userId": "15870809085498692847"
     }
    },
    "outputId": "a6f4a6a7-b1fb-4429-f7be-8e5c4570543e"
   },
   "source": [
    "# before encoding\n",
    "X_train.shape"
   ],
   "execution_count": 49,
   "outputs": [
    {
     "output_type": "execute_result",
     "data": {
      "text/plain": [
       "(47520, 45)"
      ]
     },
     "metadata": {
      "tags": []
     },
     "execution_count": 49
    }
   ]
  },
  {
   "cell_type": "code",
   "metadata": {
    "colab": {
     "base_uri": "https://localhost:8080/"
    },
    "id": "MttLgXIHQfYP",
    "executionInfo": {
     "status": "ok",
     "timestamp": 1611967591281,
     "user_tz": 300,
     "elapsed": 39619,
     "user": {
      "displayName": "Parvi Singh",
      "photoUrl": "https://lh3.googleusercontent.com/a-/AOh14GicHh9ECKPiyR68S3IUC3uvEPxQPh88MULwl8RHhQ=s64",
      "userId": "15870809085498692847"
     }
    },
    "outputId": "9c3ff914-d1fc-4dda-8cf4-2f4fc61522dd"
   },
   "source": [
    "# after encoding\n",
    "\n",
    "encoder = pipeline.named_steps['ordinalencoder']\n",
    "encoded = encoder.transform(X_train)\n",
    "encoded.shape"
   ],
   "execution_count": 50,
   "outputs": [
    {
     "output_type": "execute_result",
     "data": {
      "text/plain": [
       "(47520, 45)"
      ]
     },
     "metadata": {
      "tags": []
     },
     "execution_count": 50
    }
   ]
  },
  {
   "cell_type": "markdown",
   "metadata": {
    "id": "xs2UPoVdgLVp"
   },
   "source": [
    "# Understand how categorical encodings affect trees differently compared to linear models"
   ]
  },
  {
   "cell_type": "markdown",
   "metadata": {
    "id": "tN3_9nY1A4p0"
   },
   "source": [
    "## Follow Along"
   ]
  },
  {
   "cell_type": "markdown",
   "metadata": {
    "id": "z8V-A92mgLVp"
   },
   "source": [
    "### Categorical exploration, 1 feature at a time\n",
    "\n",
    "Change `feature`, then re-run these cells!"
   ]
  },
  {
   "cell_type": "code",
   "metadata": {
    "id": "G35RAzVdgLVq",
    "executionInfo": {
     "status": "ok",
     "timestamp": 1611967591282,
     "user_tz": 300,
     "elapsed": 39614,
     "user": {
      "displayName": "Parvi Singh",
      "photoUrl": "https://lh3.googleusercontent.com/a-/AOh14GicHh9ECKPiyR68S3IUC3uvEPxQPh88MULwl8RHhQ=s64",
      "userId": "15870809085498692847"
     }
    }
   },
   "source": [
    "feature = 'extraction_type_class'"
   ],
   "execution_count": 51,
   "outputs": []
  },
  {
   "cell_type": "code",
   "metadata": {
    "colab": {
     "base_uri": "https://localhost:8080/"
    },
    "id": "OuxHWiH8gLVr",
    "executionInfo": {
     "status": "ok",
     "timestamp": 1611967591283,
     "user_tz": 300,
     "elapsed": 39611,
     "user": {
      "displayName": "Parvi Singh",
      "photoUrl": "https://lh3.googleusercontent.com/a-/AOh14GicHh9ECKPiyR68S3IUC3uvEPxQPh88MULwl8RHhQ=s64",
      "userId": "15870809085498692847"
     }
    },
    "outputId": "01091f3c-8d7e-4f30-adf4-163ff1f11e86"
   },
   "source": [
    "X_train[feature].value_counts(normalize = True\n",
    "                              )"
   ],
   "execution_count": 52,
   "outputs": [
    {
     "output_type": "execute_result",
     "data": {
      "text/plain": [
       "gravity         0.451347\n",
       "handpump        0.277441\n",
       "other           0.109280\n",
       "submersible     0.102988\n",
       "motorpump       0.049558\n",
       "rope pump       0.007428\n",
       "wind-powered    0.001957\n",
       "Name: extraction_type_class, dtype: float64"
      ]
     },
     "metadata": {
      "tags": []
     },
     "execution_count": 52
    }
   ]
  },
  {
   "cell_type": "code",
   "metadata": {
    "colab": {
     "base_uri": "https://localhost:8080/",
     "height": 552
    },
    "id": "pVxoC4NngLVt",
    "executionInfo": {
     "status": "ok",
     "timestamp": 1611967592093,
     "user_tz": 300,
     "elapsed": 40417,
     "user": {
      "displayName": "Parvi Singh",
      "photoUrl": "https://lh3.googleusercontent.com/a-/AOh14GicHh9ECKPiyR68S3IUC3uvEPxQPh88MULwl8RHhQ=s64",
      "userId": "15870809085498692847"
     }
    },
    "outputId": "c903d9f9-c1e8-4950-b60a-66854aa7ab6c"
   },
   "source": [
    "import seaborn as sns\n",
    "plt.figure(figsize=(16,9))\n",
    "sns.barplot(\n",
    "    x=train[feature], \n",
    "    y=train['status_group']=='functional', \n",
    "    color='grey'\n",
    ");"
   ],
   "execution_count": 53,
   "outputs": [
    {
     "output_type": "display_data",
     "data": {
      "image/png": "[encoded data removed]",
      "text/plain": [
       "<Figure size 1152x648 with 1 Axes>"
      ]
     },
     "metadata": {
      "tags": [],
      "needs_background": "light"
     }
    }
   ]
  },
  {
   "cell_type": "code",
   "metadata": {
    "colab": {
     "base_uri": "https://localhost:8080/"
    },
    "id": "w99mek14gLVv",
    "executionInfo": {
     "status": "ok",
     "timestamp": 1611967592094,
     "user_tz": 300,
     "elapsed": 40412,
     "user": {
      "displayName": "Parvi Singh",
      "photoUrl": "https://lh3.googleusercontent.com/a-/AOh14GicHh9ECKPiyR68S3IUC3uvEPxQPh88MULwl8RHhQ=s64",
      "userId": "15870809085498692847"
     }
    },
    "outputId": "6ccaeed1-93b3-46b4-e87e-7b45bac5b08c"
   },
   "source": [
    "X_train[feature].head(20)"
   ],
   "execution_count": 54,
   "outputs": [
    {
     "output_type": "execute_result",
     "data": {
      "text/plain": [
       "43360        gravity\n",
       "7263         gravity\n",
       "2486        handpump\n",
       "313            other\n",
       "52726      motorpump\n",
       "8558         gravity\n",
       "2559         gravity\n",
       "54735      motorpump\n",
       "25763       handpump\n",
       "44540    submersible\n",
       "28603          other\n",
       "4372     submersible\n",
       "30666        gravity\n",
       "6431     submersible\n",
       "57420          other\n",
       "1373         gravity\n",
       "2026         gravity\n",
       "58977       handpump\n",
       "41101        gravity\n",
       "10019        gravity\n",
       "Name: extraction_type_class, dtype: object"
      ]
     },
     "metadata": {
      "tags": []
     },
     "execution_count": 54
    }
   ]
  },
  {
   "cell_type": "markdown",
   "metadata": {
    "id": "ezzK2IdbgLVx"
   },
   "source": [
    "### [One Hot Encoding](https://contrib.scikit-learn.org/category_encoders/onehot.html)\n",
    "\n",
    "> Onehot (or dummy) coding for categorical features, produces one feature per category, each binary.\n",
    "\n",
    "Warning: May run slow, or run out of memory, with high cardinality categoricals!"
   ]
  },
  {
   "cell_type": "code",
   "metadata": {
    "colab": {
     "base_uri": "https://localhost:8080/",
     "height": 507
    },
    "id": "HDQZtV6GgLVy",
    "executionInfo": {
     "status": "ok",
     "timestamp": 1611967592095,
     "user_tz": 300,
     "elapsed": 40408,
     "user": {
      "displayName": "Parvi Singh",
      "photoUrl": "https://lh3.googleusercontent.com/a-/AOh14GicHh9ECKPiyR68S3IUC3uvEPxQPh88MULwl8RHhQ=s64",
      "userId": "15870809085498692847"
     }
    },
    "outputId": "510b1d9b-155c-4c59-cf90-aee6fba7564f"
   },
   "source": [
    "encoder = ce.OneHotEncoder(use_cat_names=True)\n",
    "encoded = encoder.fit_transform(X_train[[feature]])\n",
    "print(f'{len(encoded.columns)} columns')\n",
    "encoded"
   ],
   "execution_count": 55,
   "outputs": [
    {
     "output_type": "stream",
     "text": [
      "7 columns\n"
     ],
     "name": "stdout"
    },
    {
     "output_type": "stream",
     "text": [
      "/usr/local/lib/python3.6/dist-packages/category_encoders/utils.py:21: FutureWarning: is_categorical is deprecated and will be removed in a future version.  Use is_categorical_dtype instead\n",
      "  elif pd.api.types.is_categorical(cols):\n"
     ],
     "name": "stderr"
    },
    {
     "output_type": "execute_result",
     "data": {
      "text/html": [
       "<div>\n",
       "<style scoped>\n",
       "    .dataframe tbody tr th:only-of-type {\n",
       "        vertical-align: middle;\n",
       "    }\n",
       "\n",
       "    .dataframe tbody tr th {\n",
       "        vertical-align: top;\n",
       "    }\n",
       "\n",
       "    .dataframe thead th {\n",
       "        text-align: right;\n",
       "    }\n",
       "</style>\n",
       "<table border=\"1\" class=\"dataframe\">\n",
       "  <thead>\n",
       "    <tr style=\"text-align: right;\">\n",
       "      <th></th>\n",
       "      <th>extraction_type_class_gravity</th>\n",
       "      <th>extraction_type_class_handpump</th>\n",
       "      <th>extraction_type_class_other</th>\n",
       "      <th>extraction_type_class_motorpump</th>\n",
       "      <th>extraction_type_class_submersible</th>\n",
       "      <th>extraction_type_class_rope pump</th>\n",
       "      <th>extraction_type_class_wind-powered</th>\n",
       "    </tr>\n",
       "  </thead>\n",
       "  <tbody>\n",
       "    <tr>\n",
       "      <th>43360</th>\n",
       "      <td>1</td>\n",
       "      <td>0</td>\n",
       "      <td>0</td>\n",
       "      <td>0</td>\n",
       "      <td>0</td>\n",
       "      <td>0</td>\n",
       "      <td>0</td>\n",
       "    </tr>\n",
       "    <tr>\n",
       "      <th>7263</th>\n",
       "      <td>1</td>\n",
       "      <td>0</td>\n",
       "      <td>0</td>\n",
       "      <td>0</td>\n",
       "      <td>0</td>\n",
       "      <td>0</td>\n",
       "      <td>0</td>\n",
       "    </tr>\n",
       "    <tr>\n",
       "      <th>2486</th>\n",
       "      <td>0</td>\n",
       "      <td>1</td>\n",
       "      <td>0</td>\n",
       "      <td>0</td>\n",
       "      <td>0</td>\n",
       "      <td>0</td>\n",
       "      <td>0</td>\n",
       "    </tr>\n",
       "    <tr>\n",
       "      <th>313</th>\n",
       "      <td>0</td>\n",
       "      <td>0</td>\n",
       "      <td>1</td>\n",
       "      <td>0</td>\n",
       "      <td>0</td>\n",
       "      <td>0</td>\n",
       "      <td>0</td>\n",
       "    </tr>\n",
       "    <tr>\n",
       "      <th>52726</th>\n",
       "      <td>0</td>\n",
       "      <td>0</td>\n",
       "      <td>0</td>\n",
       "      <td>1</td>\n",
       "      <td>0</td>\n",
       "      <td>0</td>\n",
       "      <td>0</td>\n",
       "    </tr>\n",
       "    <tr>\n",
       "      <th>...</th>\n",
       "      <td>...</td>\n",
       "      <td>...</td>\n",
       "      <td>...</td>\n",
       "      <td>...</td>\n",
       "      <td>...</td>\n",
       "      <td>...</td>\n",
       "      <td>...</td>\n",
       "    </tr>\n",
       "    <tr>\n",
       "      <th>9795</th>\n",
       "      <td>0</td>\n",
       "      <td>0</td>\n",
       "      <td>0</td>\n",
       "      <td>0</td>\n",
       "      <td>1</td>\n",
       "      <td>0</td>\n",
       "      <td>0</td>\n",
       "    </tr>\n",
       "    <tr>\n",
       "      <th>58170</th>\n",
       "      <td>1</td>\n",
       "      <td>0</td>\n",
       "      <td>0</td>\n",
       "      <td>0</td>\n",
       "      <td>0</td>\n",
       "      <td>0</td>\n",
       "      <td>0</td>\n",
       "    </tr>\n",
       "    <tr>\n",
       "      <th>17191</th>\n",
       "      <td>0</td>\n",
       "      <td>0</td>\n",
       "      <td>0</td>\n",
       "      <td>0</td>\n",
       "      <td>1</td>\n",
       "      <td>0</td>\n",
       "      <td>0</td>\n",
       "    </tr>\n",
       "    <tr>\n",
       "      <th>8192</th>\n",
       "      <td>0</td>\n",
       "      <td>0</td>\n",
       "      <td>0</td>\n",
       "      <td>0</td>\n",
       "      <td>1</td>\n",
       "      <td>0</td>\n",
       "      <td>0</td>\n",
       "    </tr>\n",
       "    <tr>\n",
       "      <th>49783</th>\n",
       "      <td>1</td>\n",
       "      <td>0</td>\n",
       "      <td>0</td>\n",
       "      <td>0</td>\n",
       "      <td>0</td>\n",
       "      <td>0</td>\n",
       "      <td>0</td>\n",
       "    </tr>\n",
       "  </tbody>\n",
       "</table>\n",
       "<p>47520 rows × 7 columns</p>\n",
       "</div>"
      ],
      "text/plain": [
       "       extraction_type_class_gravity  ...  extraction_type_class_wind-powered\n",
       "43360                              1  ...                                   0\n",
       "7263                               1  ...                                   0\n",
       "2486                               0  ...                                   0\n",
       "313                                0  ...                                   0\n",
       "52726                              0  ...                                   0\n",
       "...                              ...  ...                                 ...\n",
       "9795                               0  ...                                   0\n",
       "58170                              1  ...                                   0\n",
       "17191                              0  ...                                   0\n",
       "8192                               0  ...                                   0\n",
       "49783                              1  ...                                   0\n",
       "\n",
       "[47520 rows x 7 columns]"
      ]
     },
     "metadata": {
      "tags": []
     },
     "execution_count": 55
    }
   ]
  },
  {
   "cell_type": "markdown",
   "metadata": {
    "id": "1Ql9Qmw3sNJ7"
   },
   "source": [
    "#### One-Hot Encoding, Logistic Regression, Validation Accuracy"
   ]
  },
  {
   "cell_type": "code",
   "metadata": {
    "colab": {
     "base_uri": "https://localhost:8080/"
    },
    "id": "mT4A-oDGpOss",
    "executionInfo": {
     "status": "ok",
     "timestamp": 1611967555394,
     "user_tz": 300,
     "elapsed": 34526,
     "user": {
      "displayName": "Parvi Singh",
      "photoUrl": "https://lh3.googleusercontent.com/a-/AOh14GicHh9ECKPiyR68S3IUC3uvEPxQPh88MULwl8RHhQ=s64",
      "userId": "15870809085498692847"
     }
    },
    "outputId": "0ed18929-b31f-483e-9a08-f92d601a0f31"
   },
   "source": [
    "from sklearn.linear_model import LogisticRegressionCV\n",
    "from sklearn.preprocessing import StandardScaler\n",
    "\n",
    "lr = make_pipeline(\n",
    "    ce.OneHotEncoder(use_cat_names=True), \n",
    "    SimpleImputer(), \n",
    "    StandardScaler(), \n",
    "    LogisticRegressionCV(multi_class='auto', solver='lbfgs', cv=5, n_jobs=-1)\n",
    ")\n",
    "\n",
    "lr.fit(X_train[[feature]], y_train)\n",
    "score = lr.score(X_val[[feature]], y_val)\n",
    "print('Logistic Regression, Validation Accuracy', score)"
   ],
   "execution_count": 21,
   "outputs": [
    {
     "output_type": "stream",
     "text": [
      "/usr/local/lib/python3.6/dist-packages/category_encoders/utils.py:21: FutureWarning: is_categorical is deprecated and will be removed in a future version.  Use is_categorical_dtype instead\n",
      "  elif pd.api.types.is_categorical(cols):\n"
     ],
     "name": "stderr"
    },
    {
     "output_type": "stream",
     "text": [
      "Logistic Regression, Validation Accuracy 0.6202861952861953\n"
     ],
     "name": "stdout"
    }
   ]
  },
  {
   "cell_type": "markdown",
   "metadata": {
    "id": "EbH6wivpsRuV"
   },
   "source": [
    "#### One-Hot Encoding, Decision Tree, Validation Accuracy"
   ]
  },
  {
   "cell_type": "code",
   "metadata": {
    "colab": {
     "base_uri": "https://localhost:8080/"
    },
    "id": "b6KUluFOqIdK",
    "executionInfo": {
     "status": "ok",
     "timestamp": 1611967555675,
     "user_tz": 300,
     "elapsed": 34803,
     "user": {
      "displayName": "Parvi Singh",
      "photoUrl": "https://lh3.googleusercontent.com/a-/AOh14GicHh9ECKPiyR68S3IUC3uvEPxQPh88MULwl8RHhQ=s64",
      "userId": "15870809085498692847"
     }
    },
    "outputId": "6ff3b189-0ebd-4c02-8293-8b5c93f7dc01"
   },
   "source": [
    "from sklearn.tree import DecisionTreeClassifier\n",
    "\n",
    "dt = make_pipeline(\n",
    "    ce.OneHotEncoder(use_cat_names=True), \n",
    "    SimpleImputer(), \n",
    "    DecisionTreeClassifier(random_state=42)\n",
    ")\n",
    "\n",
    "dt.fit(X_train[[feature]], y_train)\n",
    "score = dt.score(X_val[[feature]], y_val)\n",
    "print('Decision Tree, Validation Accuracy', score)"
   ],
   "execution_count": 22,
   "outputs": [
    {
     "output_type": "stream",
     "text": [
      "Decision Tree, Validation Accuracy 0.6202861952861953\n"
     ],
     "name": "stdout"
    },
    {
     "output_type": "stream",
     "text": [
      "/usr/local/lib/python3.6/dist-packages/category_encoders/utils.py:21: FutureWarning: is_categorical is deprecated and will be removed in a future version.  Use is_categorical_dtype instead\n",
      "  elif pd.api.types.is_categorical(cols):\n"
     ],
     "name": "stderr"
    }
   ]
  },
  {
   "cell_type": "markdown",
   "metadata": {
    "id": "8yg11_gTsUu6"
   },
   "source": [
    "#### One-Hot Encoding, Logistic Regression, Model Interpretation"
   ]
  },
  {
   "cell_type": "code",
   "metadata": {
    "colab": {
     "base_uri": "https://localhost:8080/",
     "height": 265
    },
    "id": "IxHwXGRornNI",
    "executionInfo": {
     "status": "ok",
     "timestamp": 1611967555676,
     "user_tz": 300,
     "elapsed": 34798,
     "user": {
      "displayName": "Parvi Singh",
      "photoUrl": "https://lh3.googleusercontent.com/a-/AOh14GicHh9ECKPiyR68S3IUC3uvEPxQPh88MULwl8RHhQ=s64",
      "userId": "15870809085498692847"
     }
    },
    "outputId": "9135b834-03b2-4b46-c5b2-a2287a15f875"
   },
   "source": [
    "model = lr.named_steps['logisticregressioncv']\n",
    "encoder = lr.named_steps['onehotencoder']\n",
    "encoded_columns = encoder.transform(X_val[[feature]]).columns\n",
    "coefficients = pd.Series(model.coef_[0], encoded_columns)\n",
    "coefficients.sort_values().plot.barh(color='grey');"
   ],
   "execution_count": 23,
   "outputs": [
    {
     "output_type": "display_data",
     "data": {
      "image/png": "[encoded data removed]",
      "text/plain": [
       "<Figure size 432x288 with 1 Axes>"
      ]
     },
     "metadata": {
      "tags": [],
      "needs_background": "light"
     }
    }
   ]
  },
  {
   "cell_type": "markdown",
   "metadata": {
    "id": "0REZ8HdpsccR"
   },
   "source": [
    "#### One-Hot Encoding, Decision Tree, Model Interpretation"
   ]
  },
  {
   "cell_type": "code",
   "metadata": {
    "colab": {
     "base_uri": "https://localhost:8080/"
    },
    "id": "PRPFpZ0Tqa3_",
    "executionInfo": {
     "status": "ok",
     "timestamp": 1611967557763,
     "user_tz": 300,
     "elapsed": 36879,
     "user": {
      "displayName": "Parvi Singh",
      "photoUrl": "https://lh3.googleusercontent.com/a-/AOh14GicHh9ECKPiyR68S3IUC3uvEPxQPh88MULwl8RHhQ=s64",
      "userId": "15870809085498692847"
     }
    },
    "outputId": "a44a13a4-cb66-421b-fdf6-3f40f9ce8f96"
   },
   "source": [
    "!pip install graphviz"
   ],
   "execution_count": 24,
   "outputs": [
    {
     "output_type": "stream",
     "text": [
      "Requirement already satisfied: graphviz in /usr/local/lib/python3.6/dist-packages (0.10.1)\n"
     ],
     "name": "stdout"
    }
   ]
  },
  {
   "cell_type": "code",
   "metadata": {
    "colab": {
     "base_uri": "https://localhost:8080/",
     "height": 934
    },
    "id": "gV-grmYKpDp9",
    "executionInfo": {
     "status": "ok",
     "timestamp": 1611967558039,
     "user_tz": 300,
     "elapsed": 37149,
     "user": {
      "displayName": "Parvi Singh",
      "photoUrl": "https://lh3.googleusercontent.com/a-/AOh14GicHh9ECKPiyR68S3IUC3uvEPxQPh88MULwl8RHhQ=s64",
      "userId": "15870809085498692847"
     }
    },
    "outputId": "238445a0-62aa-499a-a244-db6004aa7b60"
   },
   "source": [
    "# Plot tree\n",
    "# https://scikit-learn.org/stable/modules/generated/sklearn.tree.export_graphviz.html\n",
    "import graphviz\n",
    "from sklearn.tree import export_graphviz\n",
    "\n",
    "model = dt.named_steps['decisiontreeclassifier']\n",
    "encoder = dt.named_steps['onehotencoder']\n",
    "encoded_columns = encoder.transform(X_val[[feature]]).columns\n",
    "\n",
    "dot_data = export_graphviz(model, \n",
    "                           out_file=None, \n",
    "                           max_depth=7, \n",
    "                           feature_names=encoded_columns,\n",
    "                           class_names=model.classes_, \n",
    "                           impurity=False, \n",
    "                           filled=True, \n",
    "                           proportion=True, \n",
    "                           rounded=True)   \n",
    "display(graphviz.Source(dot_data))"
   ],
   "execution_count": 25,
   "outputs": [
    {
     "output_type": "display_data",
     "data": {
      "text/plain": [
       "<graphviz.files.Source at 0x7f875f8e4198>"
      ],
      "image/svg+xml": "<?xml version=\"1.0\" encoding=\"UTF-8\" standalone=\"no\"?>\n<!DOCTYPE svg PUBLIC \"-//W3C//DTD SVG 1.1//EN\"\n \"http://www.w3.org/Graphics/SVG/1.1/DTD/svg11.dtd\">\n<!-- Generated by graphviz version 2.40.1 (20161225.0304)\n -->\n<!-- Title: Tree Pages: 1 -->\n<svg width=\"1067pt\" height=\"685pt\"\n viewBox=\"0.00 0.00 1067.00 685.00\" xmlns=\"http://www.w3.org/2000/svg\" xmlns:xlink=\"http://www.w3.org/1999/xlink\">\n<g id=\"graph0\" class=\"graph\" transform=\"scale(1 1) rotate(0) translate(4 681)\">\n<title>Tree</title>\n<polygon fill=\"#ffffff\" stroke=\"transparent\" points=\"-4,4 -4,-681 1063,-681 1063,4 -4,4\"/>\n<!-- 0 -->\n<g id=\"node1\" class=\"node\">\n<title>0</title>\n<path fill=\"#f8decc\" stroke=\"#000000\" d=\"M944.5,-677C944.5,-677 725.5,-677 725.5,-677 719.5,-677 713.5,-671 713.5,-665 713.5,-665 713.5,-621 713.5,-621 713.5,-615 719.5,-609 725.5,-609 725.5,-609 944.5,-609 944.5,-609 950.5,-609 956.5,-615 956.5,-621 956.5,-621 956.5,-665 956.5,-665 956.5,-671 950.5,-677 944.5,-677\"/>\n<text text-anchor=\"middle\" x=\"835\" y=\"-661.8\" font-family=\"Helvetica,sans-Serif\" font-size=\"14.00\" fill=\"#000000\">extraction_type_class_other &lt;= 0.5</text>\n<text text-anchor=\"middle\" x=\"835\" y=\"-646.8\" font-family=\"Helvetica,sans-Serif\" font-size=\"14.00\" fill=\"#000000\">samples = 100.0%</text>\n<text text-anchor=\"middle\" x=\"835\" y=\"-631.8\" font-family=\"Helvetica,sans-Serif\" font-size=\"14.00\" fill=\"#000000\">value = [0.543, 0.073, 0.384]</text>\n<text text-anchor=\"middle\" x=\"835\" y=\"-616.8\" font-family=\"Helvetica,sans-Serif\" font-size=\"14.00\" fill=\"#000000\">class = functional</text>\n</g>\n<!-- 1 -->\n<g id=\"node2\" class=\"node\">\n<title>1</title>\n<path fill=\"#f5ceb2\" stroke=\"#000000\" d=\"M837,-573C837,-573 577,-573 577,-573 571,-573 565,-567 565,-561 565,-561 565,-517 565,-517 565,-511 571,-505 577,-505 577,-505 837,-505 837,-505 843,-505 849,-511 849,-517 849,-517 849,-561 849,-561 849,-567 843,-573 837,-573\"/>\n<text text-anchor=\"middle\" x=\"707\" y=\"-557.8\" font-family=\"Helvetica,sans-Serif\" font-size=\"14.00\" fill=\"#000000\">extraction_type_class_motorpump &lt;= 0.5</text>\n<text text-anchor=\"middle\" x=\"707\" y=\"-542.8\" font-family=\"Helvetica,sans-Serif\" font-size=\"14.00\" fill=\"#000000\">samples = 89.1%</text>\n<text text-anchor=\"middle\" x=\"707\" y=\"-527.8\" font-family=\"Helvetica,sans-Serif\" font-size=\"14.00\" fill=\"#000000\">value = [0.59, 0.078, 0.332]</text>\n<text text-anchor=\"middle\" x=\"707\" y=\"-512.8\" font-family=\"Helvetica,sans-Serif\" font-size=\"14.00\" fill=\"#000000\">class = functional</text>\n</g>\n<!-- 0&#45;&gt;1 -->\n<g id=\"edge1\" class=\"edge\">\n<title>0&#45;&gt;1</title>\n<path fill=\"none\" stroke=\"#000000\" d=\"M793.088,-608.9465C781.485,-599.519 768.7779,-589.1946 756.7741,-579.4415\"/>\n<polygon fill=\"#000000\" stroke=\"#000000\" points=\"758.9744,-576.7196 749.0061,-573.13 754.5602,-582.1524 758.9744,-576.7196\"/>\n<text text-anchor=\"middle\" x=\"751.5786\" y=\"-594.2973\" font-family=\"Helvetica,sans-Serif\" font-size=\"14.00\" fill=\"#000000\">True</text>\n</g>\n<!-- 12 -->\n<g id=\"node13\" class=\"node\">\n<title>12</title>\n<path fill=\"#9d66eb\" stroke=\"#000000\" d=\"M1047,-565.5C1047,-565.5 879,-565.5 879,-565.5 873,-565.5 867,-559.5 867,-553.5 867,-553.5 867,-524.5 867,-524.5 867,-518.5 873,-512.5 879,-512.5 879,-512.5 1047,-512.5 1047,-512.5 1053,-512.5 1059,-518.5 1059,-524.5 1059,-524.5 1059,-553.5 1059,-553.5 1059,-559.5 1053,-565.5 1047,-565.5\"/>\n<text text-anchor=\"middle\" x=\"963\" y=\"-550.3\" font-family=\"Helvetica,sans-Serif\" font-size=\"14.00\" fill=\"#000000\">samples = 10.9%</text>\n<text text-anchor=\"middle\" x=\"963\" y=\"-535.3\" font-family=\"Helvetica,sans-Serif\" font-size=\"14.00\" fill=\"#000000\">value = [0.159, 0.031, 0.81]</text>\n<text text-anchor=\"middle\" x=\"963\" y=\"-520.3\" font-family=\"Helvetica,sans-Serif\" font-size=\"14.00\" fill=\"#000000\">class = non functional</text>\n</g>\n<!-- 0&#45;&gt;12 -->\n<g id=\"edge12\" class=\"edge\">\n<title>0&#45;&gt;12</title>\n<path fill=\"none\" stroke=\"#000000\" d=\"M876.912,-608.9465C891.5533,-597.0504 907.9526,-583.726 922.4785,-571.9237\"/>\n<polygon fill=\"#000000\" stroke=\"#000000\" points=\"924.7786,-574.5645 930.3327,-565.5422 920.3645,-569.1317 924.7786,-574.5645\"/>\n<text text-anchor=\"middle\" x=\"927.7602\" y=\"-586.7095\" font-family=\"Helvetica,sans-Serif\" font-size=\"14.00\" fill=\"#000000\">False</text>\n</g>\n<!-- 2 -->\n<g id=\"node3\" class=\"node\">\n<title>2</title>\n<path fill=\"#f4caac\" stroke=\"#000000\" d=\"M708.5,-469C708.5,-469 443.5,-469 443.5,-469 437.5,-469 431.5,-463 431.5,-457 431.5,-457 431.5,-413 431.5,-413 431.5,-407 437.5,-401 443.5,-401 443.5,-401 708.5,-401 708.5,-401 714.5,-401 720.5,-407 720.5,-413 720.5,-413 720.5,-457 720.5,-457 720.5,-463 714.5,-469 708.5,-469\"/>\n<text text-anchor=\"middle\" x=\"576\" y=\"-453.8\" font-family=\"Helvetica,sans-Serif\" font-size=\"14.00\" fill=\"#000000\">extraction_type_class_submersible &lt;= 0.5</text>\n<text text-anchor=\"middle\" x=\"576\" y=\"-438.8\" font-family=\"Helvetica,sans-Serif\" font-size=\"14.00\" fill=\"#000000\">samples = 84.1%</text>\n<text text-anchor=\"middle\" x=\"576\" y=\"-423.8\" font-family=\"Helvetica,sans-Serif\" font-size=\"14.00\" fill=\"#000000\">value = [0.603, 0.08, 0.318]</text>\n<text text-anchor=\"middle\" x=\"576\" y=\"-408.8\" font-family=\"Helvetica,sans-Serif\" font-size=\"14.00\" fill=\"#000000\">class = functional</text>\n</g>\n<!-- 1&#45;&gt;2 -->\n<g id=\"edge2\" class=\"edge\">\n<title>1&#45;&gt;2</title>\n<path fill=\"none\" stroke=\"#000000\" d=\"M664.1057,-504.9465C652.2307,-495.519 639.2259,-485.1946 626.9407,-475.4415\"/>\n<polygon fill=\"#000000\" stroke=\"#000000\" points=\"628.9989,-472.6066 618.9907,-469.13 624.6464,-478.089 628.9989,-472.6066\"/>\n</g>\n<!-- 11 -->\n<g id=\"node12\" class=\"node\">\n<title>11</title>\n<path fill=\"#d8c1f7\" stroke=\"#000000\" d=\"M927,-461.5C927,-461.5 751,-461.5 751,-461.5 745,-461.5 739,-455.5 739,-449.5 739,-449.5 739,-420.5 739,-420.5 739,-414.5 745,-408.5 751,-408.5 751,-408.5 927,-408.5 927,-408.5 933,-408.5 939,-414.5 939,-420.5 939,-420.5 939,-449.5 939,-449.5 939,-455.5 933,-461.5 927,-461.5\"/>\n<text text-anchor=\"middle\" x=\"839\" y=\"-446.3\" font-family=\"Helvetica,sans-Serif\" font-size=\"14.00\" fill=\"#000000\">samples = 5.0%</text>\n<text text-anchor=\"middle\" x=\"839\" y=\"-431.3\" font-family=\"Helvetica,sans-Serif\" font-size=\"14.00\" fill=\"#000000\">value = [0.381, 0.045, 0.574]</text>\n<text text-anchor=\"middle\" x=\"839\" y=\"-416.3\" font-family=\"Helvetica,sans-Serif\" font-size=\"14.00\" fill=\"#000000\">class = non functional</text>\n</g>\n<!-- 1&#45;&gt;11 -->\n<g id=\"edge11\" class=\"edge\">\n<title>1&#45;&gt;11</title>\n<path fill=\"none\" stroke=\"#000000\" d=\"M750.2217,-504.9465C765.3206,-493.0504 782.2324,-479.726 797.2122,-467.9237\"/>\n<polygon fill=\"#000000\" stroke=\"#000000\" points=\"799.623,-470.4802 805.3119,-461.5422 795.2909,-464.9817 799.623,-470.4802\"/>\n</g>\n<!-- 3 -->\n<g id=\"node4\" class=\"node\">\n<title>3</title>\n<path fill=\"#f4c7a8\" stroke=\"#000000\" d=\"M568.5,-365C568.5,-365 339.5,-365 339.5,-365 333.5,-365 327.5,-359 327.5,-353 327.5,-353 327.5,-309 327.5,-309 327.5,-303 333.5,-297 339.5,-297 339.5,-297 568.5,-297 568.5,-297 574.5,-297 580.5,-303 580.5,-309 580.5,-309 580.5,-353 580.5,-353 580.5,-359 574.5,-365 568.5,-365\"/>\n<text text-anchor=\"middle\" x=\"454\" y=\"-349.8\" font-family=\"Helvetica,sans-Serif\" font-size=\"14.00\" fill=\"#000000\">extraction_type_class_gravity &lt;= 0.5</text>\n<text text-anchor=\"middle\" x=\"454\" y=\"-334.8\" font-family=\"Helvetica,sans-Serif\" font-size=\"14.00\" fill=\"#000000\">samples = 73.8%</text>\n<text text-anchor=\"middle\" x=\"454\" y=\"-319.8\" font-family=\"Helvetica,sans-Serif\" font-size=\"14.00\" fill=\"#000000\">value = [0.611, 0.085, 0.304]</text>\n<text text-anchor=\"middle\" x=\"454\" y=\"-304.8\" font-family=\"Helvetica,sans-Serif\" font-size=\"14.00\" fill=\"#000000\">class = functional</text>\n</g>\n<!-- 2&#45;&gt;3 -->\n<g id=\"edge3\" class=\"edge\">\n<title>2&#45;&gt;3</title>\n<path fill=\"none\" stroke=\"#000000\" d=\"M536.0526,-400.9465C525.0988,-391.6088 513.1127,-381.3911 501.768,-371.7203\"/>\n<polygon fill=\"#000000\" stroke=\"#000000\" points=\"503.9179,-368.9538 494.0371,-365.13 499.3767,-374.2809 503.9179,-368.9538\"/>\n</g>\n<!-- 10 -->\n<g id=\"node11\" class=\"node\">\n<title>10</title>\n<path fill=\"#f9e4d5\" stroke=\"#000000\" d=\"M787,-357.5C787,-357.5 611,-357.5 611,-357.5 605,-357.5 599,-351.5 599,-345.5 599,-345.5 599,-316.5 599,-316.5 599,-310.5 605,-304.5 611,-304.5 611,-304.5 787,-304.5 787,-304.5 793,-304.5 799,-310.5 799,-316.5 799,-316.5 799,-345.5 799,-345.5 799,-351.5 793,-357.5 787,-357.5\"/>\n<text text-anchor=\"middle\" x=\"699\" y=\"-342.3\" font-family=\"Helvetica,sans-Serif\" font-size=\"14.00\" fill=\"#000000\">samples = 10.3%</text>\n<text text-anchor=\"middle\" x=\"699\" y=\"-327.3\" font-family=\"Helvetica,sans-Serif\" font-size=\"14.00\" fill=\"#000000\">value = [0.541, 0.042, 0.416]</text>\n<text text-anchor=\"middle\" x=\"699\" y=\"-312.3\" font-family=\"Helvetica,sans-Serif\" font-size=\"14.00\" fill=\"#000000\">class = functional</text>\n</g>\n<!-- 2&#45;&gt;10 -->\n<g id=\"edge10\" class=\"edge\">\n<title>2&#45;&gt;10</title>\n<path fill=\"none\" stroke=\"#000000\" d=\"M616.2748,-400.9465C630.2139,-389.1606 645.8112,-375.9726 659.6732,-364.2519\"/>\n<polygon fill=\"#000000\" stroke=\"#000000\" points=\"662.2324,-366.6715 667.6088,-357.5422 657.7127,-361.3262 662.2324,-366.6715\"/>\n</g>\n<!-- 4 -->\n<g id=\"node5\" class=\"node\">\n<title>4</title>\n<path fill=\"#f3c5a4\" stroke=\"#000000\" d=\"M458.5,-261C458.5,-261 181.5,-261 181.5,-261 175.5,-261 169.5,-255 169.5,-249 169.5,-249 169.5,-205 169.5,-205 169.5,-199 175.5,-193 181.5,-193 181.5,-193 458.5,-193 458.5,-193 464.5,-193 470.5,-199 470.5,-205 470.5,-205 470.5,-249 470.5,-249 470.5,-255 464.5,-261 458.5,-261\"/>\n<text text-anchor=\"middle\" x=\"320\" y=\"-245.8\" font-family=\"Helvetica,sans-Serif\" font-size=\"14.00\" fill=\"#000000\">extraction_type_class_wind&#45;powered &lt;= 0.5</text>\n<text text-anchor=\"middle\" x=\"320\" y=\"-230.8\" font-family=\"Helvetica,sans-Serif\" font-size=\"14.00\" fill=\"#000000\">samples = 28.7%</text>\n<text text-anchor=\"middle\" x=\"320\" y=\"-215.8\" font-family=\"Helvetica,sans-Serif\" font-size=\"14.00\" fill=\"#000000\">value = [0.629, 0.059, 0.311]</text>\n<text text-anchor=\"middle\" x=\"320\" y=\"-200.8\" font-family=\"Helvetica,sans-Serif\" font-size=\"14.00\" fill=\"#000000\">class = functional</text>\n</g>\n<!-- 3&#45;&gt;4 -->\n<g id=\"edge4\" class=\"edge\">\n<title>3&#45;&gt;4</title>\n<path fill=\"none\" stroke=\"#000000\" d=\"M410.1234,-296.9465C397.9765,-287.519 384.6738,-277.1946 372.1073,-267.4415\"/>\n<polygon fill=\"#000000\" stroke=\"#000000\" points=\"374.021,-264.4963 363.9752,-261.13 369.7291,-270.0262 374.021,-264.4963\"/>\n</g>\n<!-- 9 -->\n<g id=\"node10\" class=\"node\">\n<title>9</title>\n<path fill=\"#f4c9aa\" stroke=\"#000000\" d=\"M677,-253.5C677,-253.5 501,-253.5 501,-253.5 495,-253.5 489,-247.5 489,-241.5 489,-241.5 489,-212.5 489,-212.5 489,-206.5 495,-200.5 501,-200.5 501,-200.5 677,-200.5 677,-200.5 683,-200.5 689,-206.5 689,-212.5 689,-212.5 689,-241.5 689,-241.5 689,-247.5 683,-253.5 677,-253.5\"/>\n<text text-anchor=\"middle\" x=\"589\" y=\"-238.3\" font-family=\"Helvetica,sans-Serif\" font-size=\"14.00\" fill=\"#000000\">samples = 45.1%</text>\n<text text-anchor=\"middle\" x=\"589\" y=\"-223.3\" font-family=\"Helvetica,sans-Serif\" font-size=\"14.00\" fill=\"#000000\">value = [0.599, 0.101, 0.299]</text>\n<text text-anchor=\"middle\" x=\"589\" y=\"-208.3\" font-family=\"Helvetica,sans-Serif\" font-size=\"14.00\" fill=\"#000000\">class = functional</text>\n</g>\n<!-- 3&#45;&gt;9 -->\n<g id=\"edge9\" class=\"edge\">\n<title>3&#45;&gt;9</title>\n<path fill=\"none\" stroke=\"#000000\" d=\"M498.204,-296.9465C513.6461,-285.0504 530.9422,-271.726 546.2625,-259.9237\"/>\n<polygon fill=\"#000000\" stroke=\"#000000\" points=\"548.7603,-262.4176 554.5462,-253.5422 544.4883,-256.8723 548.7603,-262.4176\"/>\n</g>\n<!-- 5 -->\n<g id=\"node6\" class=\"node\">\n<title>5</title>\n<path fill=\"#f3c4a3\" stroke=\"#000000\" d=\"M319,-157C319,-157 63,-157 63,-157 57,-157 51,-151 51,-145 51,-145 51,-101 51,-101 51,-95 57,-89 63,-89 63,-89 319,-89 319,-89 325,-89 331,-95 331,-101 331,-101 331,-145 331,-145 331,-151 325,-157 319,-157\"/>\n<text text-anchor=\"middle\" x=\"191\" y=\"-141.8\" font-family=\"Helvetica,sans-Serif\" font-size=\"14.00\" fill=\"#000000\">extraction_type_class_rope pump &lt;= 0.5</text>\n<text text-anchor=\"middle\" x=\"191\" y=\"-126.8\" font-family=\"Helvetica,sans-Serif\" font-size=\"14.00\" fill=\"#000000\">samples = 28.5%</text>\n<text text-anchor=\"middle\" x=\"191\" y=\"-111.8\" font-family=\"Helvetica,sans-Serif\" font-size=\"14.00\" fill=\"#000000\">value = [0.631, 0.059, 0.31]</text>\n<text text-anchor=\"middle\" x=\"191\" y=\"-96.8\" font-family=\"Helvetica,sans-Serif\" font-size=\"14.00\" fill=\"#000000\">class = functional</text>\n</g>\n<!-- 4&#45;&gt;5 -->\n<g id=\"edge5\" class=\"edge\">\n<title>4&#45;&gt;5</title>\n<path fill=\"none\" stroke=\"#000000\" d=\"M277.7606,-192.9465C266.0669,-183.519 253.2606,-173.1946 241.163,-163.4415\"/>\n<polygon fill=\"#000000\" stroke=\"#000000\" points=\"243.3162,-160.6816 233.3343,-157.13 238.9227,-166.1312 243.3162,-160.6816\"/>\n</g>\n<!-- 8 -->\n<g id=\"node9\" class=\"node\">\n<title>8</title>\n<path fill=\"#f8f3fd\" stroke=\"#000000\" d=\"M537,-149.5C537,-149.5 361,-149.5 361,-149.5 355,-149.5 349,-143.5 349,-137.5 349,-137.5 349,-108.5 349,-108.5 349,-102.5 355,-96.5 361,-96.5 361,-96.5 537,-96.5 537,-96.5 543,-96.5 549,-102.5 549,-108.5 549,-108.5 549,-137.5 549,-137.5 549,-143.5 543,-149.5 537,-149.5\"/>\n<text text-anchor=\"middle\" x=\"449\" y=\"-134.3\" font-family=\"Helvetica,sans-Serif\" font-size=\"14.00\" fill=\"#000000\">samples = 0.2%</text>\n<text text-anchor=\"middle\" x=\"449\" y=\"-119.3\" font-family=\"Helvetica,sans-Serif\" font-size=\"14.00\" fill=\"#000000\">value = [0.452, 0.065, 0.484]</text>\n<text text-anchor=\"middle\" x=\"449\" y=\"-104.3\" font-family=\"Helvetica,sans-Serif\" font-size=\"14.00\" fill=\"#000000\">class = non functional</text>\n</g>\n<!-- 4&#45;&gt;8 -->\n<g id=\"edge8\" class=\"edge\">\n<title>4&#45;&gt;8</title>\n<path fill=\"none\" stroke=\"#000000\" d=\"M362.2394,-192.9465C376.9952,-181.0504 393.5225,-167.726 408.162,-155.9237\"/>\n<polygon fill=\"#000000\" stroke=\"#000000\" points=\"410.4891,-158.5433 416.0775,-149.5422 406.0957,-153.0938 410.4891,-158.5433\"/>\n</g>\n<!-- 6 -->\n<g id=\"node7\" class=\"node\">\n<title>6</title>\n<path fill=\"#f3c5a3\" stroke=\"#000000\" d=\"M164,-53C164,-53 12,-53 12,-53 6,-53 0,-47 0,-41 0,-41 0,-12 0,-12 0,-6 6,0 12,0 12,0 164,0 164,0 170,0 176,-6 176,-12 176,-12 176,-41 176,-41 176,-47 170,-53 164,-53\"/>\n<text text-anchor=\"middle\" x=\"88\" y=\"-37.8\" font-family=\"Helvetica,sans-Serif\" font-size=\"14.00\" fill=\"#000000\">samples = 27.7%</text>\n<text text-anchor=\"middle\" x=\"88\" y=\"-22.8\" font-family=\"Helvetica,sans-Serif\" font-size=\"14.00\" fill=\"#000000\">value = [0.63, 0.06, 0.31]</text>\n<text text-anchor=\"middle\" x=\"88\" y=\"-7.8\" font-family=\"Helvetica,sans-Serif\" font-size=\"14.00\" fill=\"#000000\">class = functional</text>\n</g>\n<!-- 5&#45;&gt;6 -->\n<g id=\"edge6\" class=\"edge\">\n<title>5&#45;&gt;6</title>\n<path fill=\"none\" stroke=\"#000000\" d=\"M154.6861,-88.9777C144.7168,-79.6376 133.9138,-69.5163 123.9643,-60.1947\"/>\n<polygon fill=\"#000000\" stroke=\"#000000\" points=\"126.2408,-57.5314 116.5502,-53.2485 121.4548,-62.6397 126.2408,-57.5314\"/>\n</g>\n<!-- 7 -->\n<g id=\"node8\" class=\"node\">\n<title>7</title>\n<path fill=\"#f2bf9b\" stroke=\"#000000\" d=\"M382,-53C382,-53 206,-53 206,-53 200,-53 194,-47 194,-41 194,-41 194,-12 194,-12 194,-6 200,0 206,0 206,0 382,0 382,0 388,0 394,-6 394,-12 394,-12 394,-41 394,-41 394,-47 388,-53 382,-53\"/>\n<text text-anchor=\"middle\" x=\"294\" y=\"-37.8\" font-family=\"Helvetica,sans-Serif\" font-size=\"14.00\" fill=\"#000000\">samples = 0.7%</text>\n<text text-anchor=\"middle\" x=\"294\" y=\"-22.8\" font-family=\"Helvetica,sans-Serif\" font-size=\"14.00\" fill=\"#000000\">value = [0.657, 0.037, 0.306]</text>\n<text text-anchor=\"middle\" x=\"294\" y=\"-7.8\" font-family=\"Helvetica,sans-Serif\" font-size=\"14.00\" fill=\"#000000\">class = functional</text>\n</g>\n<!-- 5&#45;&gt;7 -->\n<g id=\"edge7\" class=\"edge\">\n<title>5&#45;&gt;7</title>\n<path fill=\"none\" stroke=\"#000000\" d=\"M227.3139,-88.9777C237.2832,-79.6376 248.0862,-69.5163 258.0357,-60.1947\"/>\n<polygon fill=\"#000000\" stroke=\"#000000\" points=\"260.5452,-62.6397 265.4498,-53.2485 255.7592,-57.5314 260.5452,-62.6397\"/>\n</g>\n</g>\n</svg>\n"
     },
     "metadata": {
      "tags": []
     }
    }
   ]
  },
  {
   "cell_type": "markdown",
   "metadata": {
    "id": "QUd6gzcZgLVz"
   },
   "source": [
    "### [Ordinal Encoding](https://contrib.scikit-learn.org/category_encoders/ordinal.html)\n",
    "\n",
    "> Ordinal encoding uses a single column of integers to represent the classes. An optional mapping dict can be passed in; in this case, we use the knowledge that there is some true order to the classes themselves. Otherwise, the classes are assumed to have no true order and integers are selected at random."
   ]
  },
  {
   "cell_type": "code",
   "metadata": {
    "colab": {
     "base_uri": "https://localhost:8080/",
     "height": 436
    },
    "id": "CnBz2RbwgLVz",
    "executionInfo": {
     "status": "ok",
     "timestamp": 1611967558040,
     "user_tz": 300,
     "elapsed": 37145,
     "user": {
      "displayName": "Parvi Singh",
      "photoUrl": "https://lh3.googleusercontent.com/a-/AOh14GicHh9ECKPiyR68S3IUC3uvEPxQPh88MULwl8RHhQ=s64",
      "userId": "15870809085498692847"
     }
    },
    "outputId": "0b7ab846-f388-4f6a-f581-bc5859b42718"
   },
   "source": [
    "encoder = ce.OrdinalEncoder()\n",
    "encoded = encoder.fit_transform(X_train[[feature]])\n",
    "print(f'1 column, {encoded[feature].nunique()} unique values')\n",
    "encoded"
   ],
   "execution_count": 26,
   "outputs": [
    {
     "output_type": "stream",
     "text": [
      "1 column, 7 unique values\n"
     ],
     "name": "stdout"
    },
    {
     "output_type": "execute_result",
     "data": {
      "text/html": [
       "<div>\n",
       "<style scoped>\n",
       "    .dataframe tbody tr th:only-of-type {\n",
       "        vertical-align: middle;\n",
       "    }\n",
       "\n",
       "    .dataframe tbody tr th {\n",
       "        vertical-align: top;\n",
       "    }\n",
       "\n",
       "    .dataframe thead th {\n",
       "        text-align: right;\n",
       "    }\n",
       "</style>\n",
       "<table border=\"1\" class=\"dataframe\">\n",
       "  <thead>\n",
       "    <tr style=\"text-align: right;\">\n",
       "      <th></th>\n",
       "      <th>extraction_type_class</th>\n",
       "    </tr>\n",
       "  </thead>\n",
       "  <tbody>\n",
       "    <tr>\n",
       "      <th>43360</th>\n",
       "      <td>1</td>\n",
       "    </tr>\n",
       "    <tr>\n",
       "      <th>7263</th>\n",
       "      <td>1</td>\n",
       "    </tr>\n",
       "    <tr>\n",
       "      <th>2486</th>\n",
       "      <td>2</td>\n",
       "    </tr>\n",
       "    <tr>\n",
       "      <th>313</th>\n",
       "      <td>3</td>\n",
       "    </tr>\n",
       "    <tr>\n",
       "      <th>52726</th>\n",
       "      <td>4</td>\n",
       "    </tr>\n",
       "    <tr>\n",
       "      <th>...</th>\n",
       "      <td>...</td>\n",
       "    </tr>\n",
       "    <tr>\n",
       "      <th>9795</th>\n",
       "      <td>5</td>\n",
       "    </tr>\n",
       "    <tr>\n",
       "      <th>58170</th>\n",
       "      <td>1</td>\n",
       "    </tr>\n",
       "    <tr>\n",
       "      <th>17191</th>\n",
       "      <td>5</td>\n",
       "    </tr>\n",
       "    <tr>\n",
       "      <th>8192</th>\n",
       "      <td>5</td>\n",
       "    </tr>\n",
       "    <tr>\n",
       "      <th>49783</th>\n",
       "      <td>1</td>\n",
       "    </tr>\n",
       "  </tbody>\n",
       "</table>\n",
       "<p>47520 rows × 1 columns</p>\n",
       "</div>"
      ],
      "text/plain": [
       "       extraction_type_class\n",
       "43360                      1\n",
       "7263                       1\n",
       "2486                       2\n",
       "313                        3\n",
       "52726                      4\n",
       "...                      ...\n",
       "9795                       5\n",
       "58170                      1\n",
       "17191                      5\n",
       "8192                       5\n",
       "49783                      1\n",
       "\n",
       "[47520 rows x 1 columns]"
      ]
     },
     "metadata": {
      "tags": []
     },
     "execution_count": 26
    }
   ]
  },
  {
   "cell_type": "markdown",
   "metadata": {
    "id": "Nd-ZWprasqUM"
   },
   "source": [
    "#### Ordinal Encoding, Logistic Regression, Validation Accuracy"
   ]
  },
  {
   "cell_type": "code",
   "metadata": {
    "colab": {
     "base_uri": "https://localhost:8080/"
    },
    "id": "GJ1YpwjvrhfL",
    "executionInfo": {
     "status": "ok",
     "timestamp": 1611967560977,
     "user_tz": 300,
     "elapsed": 40076,
     "user": {
      "displayName": "Parvi Singh",
      "photoUrl": "https://lh3.googleusercontent.com/a-/AOh14GicHh9ECKPiyR68S3IUC3uvEPxQPh88MULwl8RHhQ=s64",
      "userId": "15870809085498692847"
     }
    },
    "outputId": "d90e0683-cb65-4fd4-abbe-d36f0d806576"
   },
   "source": [
    "%%time\n",
    "\n",
    "lr = make_pipeline(\n",
    "    ce.OrdinalEncoder(), \n",
    "    SimpleImputer(), \n",
    "    StandardScaler(), \n",
    "    LogisticRegressionCV(multi_class='auto', solver='lbfgs', cv=5, n_jobs=-1)\n",
    ")\n",
    "\n",
    "lr.fit(X_train[[feature]], y_train)\n",
    "score = lr.score(X_val[[feature]], y_val)\n",
    "print('Logistic Regression, Validation Accuracy', score)"
   ],
   "execution_count": 27,
   "outputs": [
    {
     "output_type": "stream",
     "text": [
      "Logistic Regression, Validation Accuracy 0.5417508417508418\n",
      "CPU times: user 295 ms, sys: 190 ms, total: 485 ms\n",
      "Wall time: 2.87 s\n"
     ],
     "name": "stdout"
    }
   ]
  },
  {
   "cell_type": "markdown",
   "metadata": {
    "id": "9lO_R3SksuHs"
   },
   "source": [
    "#### Ordinal Encoding, Decision Tree, Validation Accuracy"
   ]
  },
  {
   "cell_type": "code",
   "metadata": {
    "colab": {
     "base_uri": "https://localhost:8080/"
    },
    "id": "aOELD_roriVI",
    "executionInfo": {
     "status": "ok",
     "timestamp": 1611967561245,
     "user_tz": 300,
     "elapsed": 40340,
     "user": {
      "displayName": "Parvi Singh",
      "photoUrl": "https://lh3.googleusercontent.com/a-/AOh14GicHh9ECKPiyR68S3IUC3uvEPxQPh88MULwl8RHhQ=s64",
      "userId": "15870809085498692847"
     }
    },
    "outputId": "f0e9dd8f-6270-44ef-9a10-a714cb3a19d6"
   },
   "source": [
    "dt = make_pipeline(\n",
    "    ce.OrdinalEncoder(), \n",
    "    SimpleImputer(), \n",
    "    DecisionTreeClassifier(random_state=42)\n",
    ")\n",
    "\n",
    "dt.fit(X_train[[feature]], y_train)\n",
    "score = dt.score(X_val[[feature]], y_val)\n",
    "print('Decision Tree, Validation Accuracy', score)"
   ],
   "execution_count": 28,
   "outputs": [
    {
     "output_type": "stream",
     "text": [
      "Decision Tree, Validation Accuracy 0.6202861952861953\n"
     ],
     "name": "stdout"
    }
   ]
  },
  {
   "cell_type": "markdown",
   "metadata": {
    "id": "7V2zHjiwswTg"
   },
   "source": [
    "#### Ordinal Encoding, Logistic Regression, Model Interpretation"
   ]
  },
  {
   "cell_type": "code",
   "metadata": {
    "colab": {
     "base_uri": "https://localhost:8080/",
     "height": 265
    },
    "id": "S9UPYPois8QR",
    "executionInfo": {
     "status": "ok",
     "timestamp": 1611967561255,
     "user_tz": 300,
     "elapsed": 40343,
     "user": {
      "displayName": "Parvi Singh",
      "photoUrl": "https://lh3.googleusercontent.com/a-/AOh14GicHh9ECKPiyR68S3IUC3uvEPxQPh88MULwl8RHhQ=s64",
      "userId": "15870809085498692847"
     }
    },
    "outputId": "a0ad0d1c-c8a9-4f17-b41d-9eac3c8644ee"
   },
   "source": [
    "model = lr.named_steps['logisticregressioncv']\n",
    "encoder = lr.named_steps['ordinalencoder']\n",
    "encoded_columns = encoder.transform(X_val[[feature]]).columns\n",
    "coefficients = pd.Series(model.coef_[0], encoded_columns)\n",
    "coefficients.sort_values().plot.barh(color='grey');"
   ],
   "execution_count": 29,
   "outputs": [
    {
     "output_type": "display_data",
     "data": {
      "image/png": "[encoded data removed]",
      "text/plain": [
       "<Figure size 432x288 with 1 Axes>"
      ]
     },
     "metadata": {
      "tags": [],
      "needs_background": "light"
     }
    }
   ]
  },
  {
   "cell_type": "markdown",
   "metadata": {
    "id": "MvmmvE8fsymh"
   },
   "source": [
    "#### Ordinal Encoding, Decision Tree, Model Interpretation"
   ]
  },
  {
   "cell_type": "code",
   "metadata": {
    "colab": {
     "base_uri": "https://localhost:8080/",
     "height": 796
    },
    "id": "jCvUu4Oms88b",
    "executionInfo": {
     "status": "ok",
     "timestamp": 1611967561255,
     "user_tz": 300,
     "elapsed": 40336,
     "user": {
      "displayName": "Parvi Singh",
      "photoUrl": "https://lh3.googleusercontent.com/a-/AOh14GicHh9ECKPiyR68S3IUC3uvEPxQPh88MULwl8RHhQ=s64",
      "userId": "15870809085498692847"
     }
    },
    "outputId": "7b5d9ae9-914b-4777-f943-8e05c7c4b2bc"
   },
   "source": [
    "model = dt.named_steps['decisiontreeclassifier']\n",
    "encoder = dt.named_steps['ordinalencoder']\n",
    "encoded_columns = encoder.transform(X_val[[feature]]).columns\n",
    "\n",
    "dot_data = export_graphviz(model, \n",
    "                           out_file=None, \n",
    "                           max_depth=5, \n",
    "                           feature_names=encoded_columns,\n",
    "                           class_names=model.classes_, \n",
    "                           impurity=False, \n",
    "                           filled=True, \n",
    "                           proportion=True, \n",
    "                           rounded=True)   \n",
    "display(graphviz.Source(dot_data))"
   ],
   "execution_count": 30,
   "outputs": [
    {
     "output_type": "display_data",
     "data": {
      "text/plain": [
       "<graphviz.files.Source at 0x7f875f859940>"
      ],
      "image/svg+xml": "<?xml version=\"1.0\" encoding=\"UTF-8\" standalone=\"no\"?>\n<!DOCTYPE svg PUBLIC \"-//W3C//DTD SVG 1.1//EN\"\n \"http://www.w3.org/Graphics/SVG/1.1/DTD/svg11.dtd\">\n<!-- Generated by graphviz version 2.40.1 (20161225.0304)\n -->\n<!-- Title: Tree Pages: 1 -->\n<svg width=\"1167pt\" height=\"581pt\"\n viewBox=\"0.00 0.00 1167.00 581.00\" xmlns=\"http://www.w3.org/2000/svg\" xmlns:xlink=\"http://www.w3.org/1999/xlink\">\n<g id=\"graph0\" class=\"graph\" transform=\"scale(1 1) rotate(0) translate(4 577)\">\n<title>Tree</title>\n<polygon fill=\"#ffffff\" stroke=\"transparent\" points=\"-4,4 -4,-577 1163,-577 1163,4 -4,4\"/>\n<!-- 0 -->\n<g id=\"node1\" class=\"node\">\n<title>0</title>\n<path fill=\"#f8decc\" stroke=\"#000000\" d=\"M500,-573C500,-573 322,-573 322,-573 316,-573 310,-567 310,-561 310,-561 310,-517 310,-517 310,-511 316,-505 322,-505 322,-505 500,-505 500,-505 506,-505 512,-511 512,-517 512,-517 512,-561 512,-561 512,-567 506,-573 500,-573\"/>\n<text text-anchor=\"middle\" x=\"411\" y=\"-557.8\" font-family=\"Helvetica,sans-Serif\" font-size=\"14.00\" fill=\"#000000\">extraction_type_class &lt;= 2.5</text>\n<text text-anchor=\"middle\" x=\"411\" y=\"-542.8\" font-family=\"Helvetica,sans-Serif\" font-size=\"14.00\" fill=\"#000000\">samples = 100.0%</text>\n<text text-anchor=\"middle\" x=\"411\" y=\"-527.8\" font-family=\"Helvetica,sans-Serif\" font-size=\"14.00\" fill=\"#000000\">value = [0.543, 0.073, 0.384]</text>\n<text text-anchor=\"middle\" x=\"411\" y=\"-512.8\" font-family=\"Helvetica,sans-Serif\" font-size=\"14.00\" fill=\"#000000\">class = functional</text>\n</g>\n<!-- 1 -->\n<g id=\"node2\" class=\"node\">\n<title>1</title>\n<path fill=\"#f4c7a8\" stroke=\"#000000\" d=\"M390,-469C390,-469 212,-469 212,-469 206,-469 200,-463 200,-457 200,-457 200,-413 200,-413 200,-407 206,-401 212,-401 212,-401 390,-401 390,-401 396,-401 402,-407 402,-413 402,-413 402,-457 402,-457 402,-463 396,-469 390,-469\"/>\n<text text-anchor=\"middle\" x=\"301\" y=\"-453.8\" font-family=\"Helvetica,sans-Serif\" font-size=\"14.00\" fill=\"#000000\">extraction_type_class &lt;= 1.5</text>\n<text text-anchor=\"middle\" x=\"301\" y=\"-438.8\" font-family=\"Helvetica,sans-Serif\" font-size=\"14.00\" fill=\"#000000\">samples = 72.9%</text>\n<text text-anchor=\"middle\" x=\"301\" y=\"-423.8\" font-family=\"Helvetica,sans-Serif\" font-size=\"14.00\" fill=\"#000000\">value = [0.611, 0.085, 0.304]</text>\n<text text-anchor=\"middle\" x=\"301\" y=\"-408.8\" font-family=\"Helvetica,sans-Serif\" font-size=\"14.00\" fill=\"#000000\">class = functional</text>\n</g>\n<!-- 0&#45;&gt;1 -->\n<g id=\"edge1\" class=\"edge\">\n<title>0&#45;&gt;1</title>\n<path fill=\"none\" stroke=\"#000000\" d=\"M374.9819,-504.9465C365.2954,-495.7884 354.7136,-485.7838 344.6603,-476.2788\"/>\n<polygon fill=\"#000000\" stroke=\"#000000\" points=\"346.7701,-473.4569 337.099,-469.13 341.961,-478.5434 346.7701,-473.4569\"/>\n<text text-anchor=\"middle\" x=\"337.7997\" y=\"-490.4202\" font-family=\"Helvetica,sans-Serif\" font-size=\"14.00\" fill=\"#000000\">True</text>\n</g>\n<!-- 4 -->\n<g id=\"node5\" class=\"node\">\n<title>4</title>\n<path fill=\"#d0b4f5\" stroke=\"#000000\" d=\"M610,-469C610,-469 432,-469 432,-469 426,-469 420,-463 420,-457 420,-457 420,-413 420,-413 420,-407 426,-401 432,-401 432,-401 610,-401 610,-401 616,-401 622,-407 622,-413 622,-413 622,-457 622,-457 622,-463 616,-469 610,-469\"/>\n<text text-anchor=\"middle\" x=\"521\" y=\"-453.8\" font-family=\"Helvetica,sans-Serif\" font-size=\"14.00\" fill=\"#000000\">extraction_type_class &lt;= 3.5</text>\n<text text-anchor=\"middle\" x=\"521\" y=\"-438.8\" font-family=\"Helvetica,sans-Serif\" font-size=\"14.00\" fill=\"#000000\">samples = 27.1%</text>\n<text text-anchor=\"middle\" x=\"521\" y=\"-423.8\" font-family=\"Helvetica,sans-Serif\" font-size=\"14.00\" fill=\"#000000\">value = [0.361, 0.038, 0.601]</text>\n<text text-anchor=\"middle\" x=\"521\" y=\"-408.8\" font-family=\"Helvetica,sans-Serif\" font-size=\"14.00\" fill=\"#000000\">class = non functional</text>\n</g>\n<!-- 0&#45;&gt;4 -->\n<g id=\"edge4\" class=\"edge\">\n<title>0&#45;&gt;4</title>\n<path fill=\"none\" stroke=\"#000000\" d=\"M447.0181,-504.9465C456.7046,-495.7884 467.2864,-485.7838 477.3397,-476.2788\"/>\n<polygon fill=\"#000000\" stroke=\"#000000\" points=\"480.039,-478.5434 484.901,-469.13 475.2299,-473.4569 480.039,-478.5434\"/>\n<text text-anchor=\"middle\" x=\"484.2003\" y=\"-490.4202\" font-family=\"Helvetica,sans-Serif\" font-size=\"14.00\" fill=\"#000000\">False</text>\n</g>\n<!-- 2 -->\n<g id=\"node3\" class=\"node\">\n<title>2</title>\n<path fill=\"#f4c9aa\" stroke=\"#000000\" d=\"M188,-357.5C188,-357.5 12,-357.5 12,-357.5 6,-357.5 0,-351.5 0,-345.5 0,-345.5 0,-316.5 0,-316.5 0,-310.5 6,-304.5 12,-304.5 12,-304.5 188,-304.5 188,-304.5 194,-304.5 200,-310.5 200,-316.5 200,-316.5 200,-345.5 200,-345.5 200,-351.5 194,-357.5 188,-357.5\"/>\n<text text-anchor=\"middle\" x=\"100\" y=\"-342.3\" font-family=\"Helvetica,sans-Serif\" font-size=\"14.00\" fill=\"#000000\">samples = 45.1%</text>\n<text text-anchor=\"middle\" x=\"100\" y=\"-327.3\" font-family=\"Helvetica,sans-Serif\" font-size=\"14.00\" fill=\"#000000\">value = [0.599, 0.101, 0.299]</text>\n<text text-anchor=\"middle\" x=\"100\" y=\"-312.3\" font-family=\"Helvetica,sans-Serif\" font-size=\"14.00\" fill=\"#000000\">class = functional</text>\n</g>\n<!-- 1&#45;&gt;2 -->\n<g id=\"edge2\" class=\"edge\">\n<title>1&#45;&gt;2</title>\n<path fill=\"none\" stroke=\"#000000\" d=\"M235.1851,-400.9465C211.1292,-388.4997 184.0513,-374.4892 160.4827,-362.2946\"/>\n<polygon fill=\"#000000\" stroke=\"#000000\" points=\"161.7878,-359.0291 151.2978,-357.5422 158.571,-365.2462 161.7878,-359.0291\"/>\n</g>\n<!-- 3 -->\n<g id=\"node4\" class=\"node\">\n<title>3</title>\n<path fill=\"#f3c5a3\" stroke=\"#000000\" d=\"M382,-357.5C382,-357.5 230,-357.5 230,-357.5 224,-357.5 218,-351.5 218,-345.5 218,-345.5 218,-316.5 218,-316.5 218,-310.5 224,-304.5 230,-304.5 230,-304.5 382,-304.5 382,-304.5 388,-304.5 394,-310.5 394,-316.5 394,-316.5 394,-345.5 394,-345.5 394,-351.5 388,-357.5 382,-357.5\"/>\n<text text-anchor=\"middle\" x=\"306\" y=\"-342.3\" font-family=\"Helvetica,sans-Serif\" font-size=\"14.00\" fill=\"#000000\">samples = 27.7%</text>\n<text text-anchor=\"middle\" x=\"306\" y=\"-327.3\" font-family=\"Helvetica,sans-Serif\" font-size=\"14.00\" fill=\"#000000\">value = [0.63, 0.06, 0.31]</text>\n<text text-anchor=\"middle\" x=\"306\" y=\"-312.3\" font-family=\"Helvetica,sans-Serif\" font-size=\"14.00\" fill=\"#000000\">class = functional</text>\n</g>\n<!-- 1&#45;&gt;3 -->\n<g id=\"edge3\" class=\"edge\">\n<title>1&#45;&gt;3</title>\n<path fill=\"none\" stroke=\"#000000\" d=\"M302.6372,-400.9465C303.1509,-390.2621 303.7199,-378.4254 304.2416,-367.5742\"/>\n<polygon fill=\"#000000\" stroke=\"#000000\" points=\"307.7396,-367.6987 304.7239,-357.5422 300.7477,-367.3625 307.7396,-367.6987\"/>\n</g>\n<!-- 5 -->\n<g id=\"node6\" class=\"node\">\n<title>5</title>\n<path fill=\"#9d66eb\" stroke=\"#000000\" d=\"M601,-357.5C601,-357.5 433,-357.5 433,-357.5 427,-357.5 421,-351.5 421,-345.5 421,-345.5 421,-316.5 421,-316.5 421,-310.5 427,-304.5 433,-304.5 433,-304.5 601,-304.5 601,-304.5 607,-304.5 613,-310.5 613,-316.5 613,-316.5 613,-345.5 613,-345.5 613,-351.5 607,-357.5 601,-357.5\"/>\n<text text-anchor=\"middle\" x=\"517\" y=\"-342.3\" font-family=\"Helvetica,sans-Serif\" font-size=\"14.00\" fill=\"#000000\">samples = 10.9%</text>\n<text text-anchor=\"middle\" x=\"517\" y=\"-327.3\" font-family=\"Helvetica,sans-Serif\" font-size=\"14.00\" fill=\"#000000\">value = [0.159, 0.031, 0.81]</text>\n<text text-anchor=\"middle\" x=\"517\" y=\"-312.3\" font-family=\"Helvetica,sans-Serif\" font-size=\"14.00\" fill=\"#000000\">class = non functional</text>\n</g>\n<!-- 4&#45;&gt;5 -->\n<g id=\"edge5\" class=\"edge\">\n<title>4&#45;&gt;5</title>\n<path fill=\"none\" stroke=\"#000000\" d=\"M519.6903,-400.9465C519.2793,-390.2621 518.8241,-378.4254 518.4067,-367.5742\"/>\n<polygon fill=\"#000000\" stroke=\"#000000\" points=\"521.9027,-367.4002 518.0209,-357.5422 514.9079,-367.6693 521.9027,-367.4002\"/>\n</g>\n<!-- 6 -->\n<g id=\"node7\" class=\"node\">\n<title>6</title>\n<path fill=\"#fdf7f2\" stroke=\"#000000\" d=\"M821,-365C821,-365 643,-365 643,-365 637,-365 631,-359 631,-353 631,-353 631,-309 631,-309 631,-303 637,-297 643,-297 643,-297 821,-297 821,-297 827,-297 833,-303 833,-309 833,-309 833,-353 833,-353 833,-359 827,-365 821,-365\"/>\n<text text-anchor=\"middle\" x=\"732\" y=\"-349.8\" font-family=\"Helvetica,sans-Serif\" font-size=\"14.00\" fill=\"#000000\">extraction_type_class &lt;= 4.5</text>\n<text text-anchor=\"middle\" x=\"732\" y=\"-334.8\" font-family=\"Helvetica,sans-Serif\" font-size=\"14.00\" fill=\"#000000\">samples = 16.2%</text>\n<text text-anchor=\"middle\" x=\"732\" y=\"-319.8\" font-family=\"Helvetica,sans-Serif\" font-size=\"14.00\" fill=\"#000000\">value = [0.497, 0.043, 0.46]</text>\n<text text-anchor=\"middle\" x=\"732\" y=\"-304.8\" font-family=\"Helvetica,sans-Serif\" font-size=\"14.00\" fill=\"#000000\">class = functional</text>\n</g>\n<!-- 4&#45;&gt;6 -->\n<g id=\"edge6\" class=\"edge\">\n<title>4&#45;&gt;6</title>\n<path fill=\"none\" stroke=\"#000000\" d=\"M590.0893,-400.9465C610.4002,-390.9354 632.7633,-379.9129 653.6112,-369.6371\"/>\n<polygon fill=\"#000000\" stroke=\"#000000\" points=\"655.3332,-372.6905 662.7555,-365.13 652.2385,-366.4117 655.3332,-372.6905\"/>\n</g>\n<!-- 7 -->\n<g id=\"node8\" class=\"node\">\n<title>7</title>\n<path fill=\"#d8c1f7\" stroke=\"#000000\" d=\"M710,-253.5C710,-253.5 534,-253.5 534,-253.5 528,-253.5 522,-247.5 522,-241.5 522,-241.5 522,-212.5 522,-212.5 522,-206.5 528,-200.5 534,-200.5 534,-200.5 710,-200.5 710,-200.5 716,-200.5 722,-206.5 722,-212.5 722,-212.5 722,-241.5 722,-241.5 722,-247.5 716,-253.5 710,-253.5\"/>\n<text text-anchor=\"middle\" x=\"622\" y=\"-238.3\" font-family=\"Helvetica,sans-Serif\" font-size=\"14.00\" fill=\"#000000\">samples = 5.0%</text>\n<text text-anchor=\"middle\" x=\"622\" y=\"-223.3\" font-family=\"Helvetica,sans-Serif\" font-size=\"14.00\" fill=\"#000000\">value = [0.381, 0.045, 0.574]</text>\n<text text-anchor=\"middle\" x=\"622\" y=\"-208.3\" font-family=\"Helvetica,sans-Serif\" font-size=\"14.00\" fill=\"#000000\">class = non functional</text>\n</g>\n<!-- 6&#45;&gt;7 -->\n<g id=\"edge7\" class=\"edge\">\n<title>6&#45;&gt;7</title>\n<path fill=\"none\" stroke=\"#000000\" d=\"M695.9819,-296.9465C683.6325,-285.2707 669.8278,-272.219 657.5183,-260.5809\"/>\n<polygon fill=\"#000000\" stroke=\"#000000\" points=\"659.7445,-257.869 650.0734,-253.5422 654.9354,-262.9556 659.7445,-257.869\"/>\n</g>\n<!-- 8 -->\n<g id=\"node9\" class=\"node\">\n<title>8</title>\n<path fill=\"#f9e2d1\" stroke=\"#000000\" d=\"M930,-261C930,-261 752,-261 752,-261 746,-261 740,-255 740,-249 740,-249 740,-205 740,-205 740,-199 746,-193 752,-193 752,-193 930,-193 930,-193 936,-193 942,-199 942,-205 942,-205 942,-249 942,-249 942,-255 936,-261 930,-261\"/>\n<text text-anchor=\"middle\" x=\"841\" y=\"-245.8\" font-family=\"Helvetica,sans-Serif\" font-size=\"14.00\" fill=\"#000000\">extraction_type_class &lt;= 5.5</text>\n<text text-anchor=\"middle\" x=\"841\" y=\"-230.8\" font-family=\"Helvetica,sans-Serif\" font-size=\"14.00\" fill=\"#000000\">samples = 11.2%</text>\n<text text-anchor=\"middle\" x=\"841\" y=\"-215.8\" font-family=\"Helvetica,sans-Serif\" font-size=\"14.00\" fill=\"#000000\">value = [0.548, 0.042, 0.41]</text>\n<text text-anchor=\"middle\" x=\"841\" y=\"-200.8\" font-family=\"Helvetica,sans-Serif\" font-size=\"14.00\" fill=\"#000000\">class = functional</text>\n</g>\n<!-- 6&#45;&gt;8 -->\n<g id=\"edge8\" class=\"edge\">\n<title>6&#45;&gt;8</title>\n<path fill=\"none\" stroke=\"#000000\" d=\"M767.6907,-296.9465C777.2891,-287.7884 787.7747,-277.7838 797.7366,-268.2788\"/>\n<polygon fill=\"#000000\" stroke=\"#000000\" points=\"800.4102,-270.5655 805.2291,-261.13 795.5779,-265.5009 800.4102,-270.5655\"/>\n</g>\n<!-- 9 -->\n<g id=\"node10\" class=\"node\">\n<title>9</title>\n<path fill=\"#f9e4d5\" stroke=\"#000000\" d=\"M819,-149.5C819,-149.5 643,-149.5 643,-149.5 637,-149.5 631,-143.5 631,-137.5 631,-137.5 631,-108.5 631,-108.5 631,-102.5 637,-96.5 643,-96.5 643,-96.5 819,-96.5 819,-96.5 825,-96.5 831,-102.5 831,-108.5 831,-108.5 831,-137.5 831,-137.5 831,-143.5 825,-149.5 819,-149.5\"/>\n<text text-anchor=\"middle\" x=\"731\" y=\"-134.3\" font-family=\"Helvetica,sans-Serif\" font-size=\"14.00\" fill=\"#000000\">samples = 10.3%</text>\n<text text-anchor=\"middle\" x=\"731\" y=\"-119.3\" font-family=\"Helvetica,sans-Serif\" font-size=\"14.00\" fill=\"#000000\">value = [0.541, 0.042, 0.416]</text>\n<text text-anchor=\"middle\" x=\"731\" y=\"-104.3\" font-family=\"Helvetica,sans-Serif\" font-size=\"14.00\" fill=\"#000000\">class = functional</text>\n</g>\n<!-- 8&#45;&gt;9 -->\n<g id=\"edge9\" class=\"edge\">\n<title>8&#45;&gt;9</title>\n<path fill=\"none\" stroke=\"#000000\" d=\"M804.9819,-192.9465C792.6325,-181.2707 778.8278,-168.219 766.5183,-156.5809\"/>\n<polygon fill=\"#000000\" stroke=\"#000000\" points=\"768.7445,-153.869 759.0734,-149.5422 763.9354,-158.9556 768.7445,-153.869\"/>\n</g>\n<!-- 10 -->\n<g id=\"node11\" class=\"node\">\n<title>10</title>\n<path fill=\"#f4cbad\" stroke=\"#000000\" d=\"M1039,-157C1039,-157 861,-157 861,-157 855,-157 849,-151 849,-145 849,-145 849,-101 849,-101 849,-95 855,-89 861,-89 861,-89 1039,-89 1039,-89 1045,-89 1051,-95 1051,-101 1051,-101 1051,-145 1051,-145 1051,-151 1045,-157 1039,-157\"/>\n<text text-anchor=\"middle\" x=\"950\" y=\"-141.8\" font-family=\"Helvetica,sans-Serif\" font-size=\"14.00\" fill=\"#000000\">extraction_type_class &lt;= 6.5</text>\n<text text-anchor=\"middle\" x=\"950\" y=\"-126.8\" font-family=\"Helvetica,sans-Serif\" font-size=\"14.00\" fill=\"#000000\">samples = 0.9%</text>\n<text text-anchor=\"middle\" x=\"950\" y=\"-111.8\" font-family=\"Helvetica,sans-Serif\" font-size=\"14.00\" fill=\"#000000\">value = [0.614, 0.043, 0.343]</text>\n<text text-anchor=\"middle\" x=\"950\" y=\"-96.8\" font-family=\"Helvetica,sans-Serif\" font-size=\"14.00\" fill=\"#000000\">class = functional</text>\n</g>\n<!-- 8&#45;&gt;10 -->\n<g id=\"edge10\" class=\"edge\">\n<title>8&#45;&gt;10</title>\n<path fill=\"none\" stroke=\"#000000\" d=\"M876.6907,-192.9465C886.2891,-183.7884 896.7747,-173.7838 906.7366,-164.2788\"/>\n<polygon fill=\"#000000\" stroke=\"#000000\" points=\"909.4102,-166.5655 914.2291,-157.13 904.5779,-161.5009 909.4102,-166.5655\"/>\n</g>\n<!-- 11 -->\n<g id=\"node12\" class=\"node\">\n<title>11</title>\n<path fill=\"#f2bf9b\" stroke=\"#000000\" d=\"M929,-53C929,-53 753,-53 753,-53 747,-53 741,-47 741,-41 741,-41 741,-12 741,-12 741,-6 747,0 753,0 753,0 929,0 929,0 935,0 941,-6 941,-12 941,-12 941,-41 941,-41 941,-47 935,-53 929,-53\"/>\n<text text-anchor=\"middle\" x=\"841\" y=\"-37.8\" font-family=\"Helvetica,sans-Serif\" font-size=\"14.00\" fill=\"#000000\">samples = 0.7%</text>\n<text text-anchor=\"middle\" x=\"841\" y=\"-22.8\" font-family=\"Helvetica,sans-Serif\" font-size=\"14.00\" fill=\"#000000\">value = [0.657, 0.037, 0.306]</text>\n<text text-anchor=\"middle\" x=\"841\" y=\"-7.8\" font-family=\"Helvetica,sans-Serif\" font-size=\"14.00\" fill=\"#000000\">class = functional</text>\n</g>\n<!-- 10&#45;&gt;11 -->\n<g id=\"edge11\" class=\"edge\">\n<title>10&#45;&gt;11</title>\n<path fill=\"none\" stroke=\"#000000\" d=\"M911.5707,-88.9777C900.9173,-79.546 889.3641,-69.3178 878.7499,-59.9208\"/>\n<polygon fill=\"#000000\" stroke=\"#000000\" points=\"881.0207,-57.2566 871.2133,-53.2485 876.3806,-62.4978 881.0207,-57.2566\"/>\n</g>\n<!-- 12 -->\n<g id=\"node13\" class=\"node\">\n<title>12</title>\n<path fill=\"#f8f3fd\" stroke=\"#000000\" d=\"M1147,-53C1147,-53 971,-53 971,-53 965,-53 959,-47 959,-41 959,-41 959,-12 959,-12 959,-6 965,0 971,0 971,0 1147,0 1147,0 1153,0 1159,-6 1159,-12 1159,-12 1159,-41 1159,-41 1159,-47 1153,-53 1147,-53\"/>\n<text text-anchor=\"middle\" x=\"1059\" y=\"-37.8\" font-family=\"Helvetica,sans-Serif\" font-size=\"14.00\" fill=\"#000000\">samples = 0.2%</text>\n<text text-anchor=\"middle\" x=\"1059\" y=\"-22.8\" font-family=\"Helvetica,sans-Serif\" font-size=\"14.00\" fill=\"#000000\">value = [0.452, 0.065, 0.484]</text>\n<text text-anchor=\"middle\" x=\"1059\" y=\"-7.8\" font-family=\"Helvetica,sans-Serif\" font-size=\"14.00\" fill=\"#000000\">class = non functional</text>\n</g>\n<!-- 10&#45;&gt;12 -->\n<g id=\"edge12\" class=\"edge\">\n<title>10&#45;&gt;12</title>\n<path fill=\"none\" stroke=\"#000000\" d=\"M988.4293,-88.9777C999.0827,-79.546 1010.6359,-69.3178 1021.2501,-59.9208\"/>\n<polygon fill=\"#000000\" stroke=\"#000000\" points=\"1023.6194,-62.4978 1028.7867,-53.2485 1018.9793,-57.2566 1023.6194,-62.4978\"/>\n</g>\n</g>\n</svg>\n"
     },
     "metadata": {
      "tags": []
     }
    }
   ]
  },
  {
   "cell_type": "markdown",
   "metadata": {
    "id": "P4EJi2GvgLVa"
   },
   "source": [
    "# Understand how tree ensembles reduce overfitting compared to a single decision tree with unlimited depth"
   ]
  },
  {
   "cell_type": "markdown",
   "metadata": {
    "id": "eOpQtDOIA4p3"
   },
   "source": [
    "## Overview"
   ]
  },
  {
   "cell_type": "markdown",
   "metadata": {
    "id": "0nNABF3HgLVg"
   },
   "source": [
    "### What's \"random\" about random forests?\n",
    "1. Each tree trains on a random bootstrap sample of the data. (In scikit-learn, for `RandomForestRegressor` and `RandomForestClassifier`, the `bootstrap` parameter's default is `True`.) This type of ensembling is called Bagging. (Bootstrap AGGregatING.)\n",
    "2. Each split considers a random subset of the features. (In scikit-learn, when the `max_features` parameter is not `None`.) \n",
    "\n",
    "For extra randomness, you can try [\"extremely randomized trees\"](https://scikit-learn.org/stable/modules/ensemble.html#extremely-randomized-trees)!\n",
    "\n",
    ">In extremely randomized trees (see [ExtraTreesClassifier](https://scikit-learn.org/stable/modules/generated/sklearn.ensemble.ExtraTreesClassifier.html) and [ExtraTreesRegressor](https://scikit-learn.org/stable/modules/generated/sklearn.ensemble.ExtraTreesRegressor.html) classes), randomness goes one step further in the way splits are computed. As in random forests, a random subset of candidate features is used, but instead of looking for the most discriminative thresholds, thresholds are drawn at random for each candidate feature and the best of these randomly-generated thresholds is picked as the splitting rule. This usually allows to reduce the variance of the model a bit more, at the expense of a slightly greater increase in bias"
   ]
  },
  {
   "cell_type": "markdown",
   "metadata": {
    "id": "iCrABOrgA4p4"
   },
   "source": [
    "## Follow Along"
   ]
  },
  {
   "cell_type": "markdown",
   "metadata": {
    "id": "pUYP619CgLVb"
   },
   "source": [
    "### Example: [predicting golf putts](https://statmodeling.stat.columbia.edu/2008/12/04/the_golf_puttin/)\n",
    "(1 feature, non-linear, regression)"
   ]
  },
  {
   "cell_type": "code",
   "metadata": {
    "id": "b4640ukxgLVc",
    "executionInfo": {
     "status": "ok",
     "timestamp": 1611967561256,
     "user_tz": 300,
     "elapsed": 40335,
     "user": {
      "displayName": "Parvi Singh",
      "photoUrl": "https://lh3.googleusercontent.com/a-/AOh14GicHh9ECKPiyR68S3IUC3uvEPxQPh88MULwl8RHhQ=s64",
      "userId": "15870809085498692847"
     }
    }
   },
   "source": [
    "putts = pd.DataFrame(\n",
    "    columns=['distance', 'tries', 'successes'], \n",
    "    data = [[2, 1443, 1346],\n",
    "            [3, 694, 577],\n",
    "            [4, 455, 337],\n",
    "            [5, 353, 208],\n",
    "            [6, 272, 149],\n",
    "            [7, 256, 136],\n",
    "            [8, 240, 111],\n",
    "            [9, 217, 69],\n",
    "            [10, 200, 67],\n",
    "            [11, 237, 75],\n",
    "            [12, 202, 52],\n",
    "            [13, 192, 46],\n",
    "            [14, 174, 54],\n",
    "            [15, 167, 28],\n",
    "            [16, 201, 27],\n",
    "            [17, 195, 31],\n",
    "            [18, 191, 33],\n",
    "            [19, 147, 20],\n",
    "            [20, 152, 24]]\n",
    ")\n",
    "\n",
    "putts['rate of success'] = putts['successes'] / putts['tries']\n",
    "putts_X = putts[['distance']]\n",
    "putts_y = putts['rate of success']"
   ],
   "execution_count": 31,
   "outputs": []
  },
  {
   "cell_type": "code",
   "metadata": {
    "colab": {
     "base_uri": "https://localhost:8080/",
     "height": 637,
     "referenced_widgets": [
      "779eac1b8772405da3a0830c391d0002",
      "39857c66dd7e4567bfd8ed88a892cf87",
      "4c8a97a0a2854f0f89ce3d08614fd358",
      "6e3fd0cf6758458a8a8793d83784036b",
      "d99bca60f0cd42cdbce500381a4ace11",
      "0a6e33d052444cd9bc27784a902cf2a7",
      "d6d95c101367429a9efa553e4628df0c",
      "6a13857cadca488fb552f99da348beaf",
      "84193afbccaa40228e65e6824c3c2b49",
      "4b76c1e8482f44da924575d8eff67b70"
     ]
    },
    "id": "T0IpCcKggLVd",
    "executionInfo": {
     "status": "ok",
     "timestamp": 1611967562635,
     "user_tz": 300,
     "elapsed": 41708,
     "user": {
      "displayName": "Parvi Singh",
      "photoUrl": "https://lh3.googleusercontent.com/a-/AOh14GicHh9ECKPiyR68S3IUC3uvEPxQPh88MULwl8RHhQ=s64",
      "userId": "15870809085498692847"
     }
    },
    "outputId": "586b645d-cdbd-4bd3-b0ad-59e025b48c55"
   },
   "source": [
    "%matplotlib inline\n",
    "import matplotlib.pyplot as plt\n",
    "from ipywidgets import interact\n",
    "from sklearn.ensemble import RandomForestRegressor\n",
    "from sklearn.tree import DecisionTreeRegressor\n",
    "\n",
    "def putt_trees(max_depth=1, n_estimators=1):\n",
    "    models = [DecisionTreeRegressor(max_depth=max_depth), \n",
    "              RandomForestRegressor(max_depth=max_depth, n_estimators=n_estimators)]\n",
    "    \n",
    "    for model in models:\n",
    "        name = model.__class__.__name__\n",
    "        model.fit(putts_X, putts_y)\n",
    "        ax = putts.plot('distance', 'rate of success', kind='scatter', title=name)\n",
    "        ax.step(putts_X, model.predict(putts_X), where='mid')\n",
    "        plt.show()\n",
    "        \n",
    "interact(putt_trees, max_depth=(1,6,1), n_estimators=(10,40,10));"
   ],
   "execution_count": 32,
   "outputs": [
    {
     "output_type": "display_data",
     "data": {
      "application/vnd.jupyter.widget-view+json": {
       "model_id": "779eac1b8772405da3a0830c391d0002",
       "version_minor": 0,
       "version_major": 2
      },
      "text/plain": [
       "interactive(children=(IntSlider(value=1, description='max_depth', max=6, min=1), IntSlider(value=10, descripti…"
      ]
     },
     "metadata": {
      "tags": []
     }
    }
   ]
  },
  {
   "cell_type": "markdown",
   "metadata": {
    "id": "rq4Z_wQ_gLVj"
   },
   "source": [
    "### Go back to Tanzania Waterpumps ..."
   ]
  },
  {
   "cell_type": "markdown",
   "metadata": {
    "id": "FoSE9iT6YXQz"
   },
   "source": [
    "#### Helper function to visualize predicted probabilities\n",
    "\n"
   ]
  },
  {
   "cell_type": "code",
   "metadata": {
    "id": "HzIAjGpJgLVj",
    "executionInfo": {
     "status": "ok",
     "timestamp": 1611967562636,
     "user_tz": 300,
     "elapsed": 41707,
     "user": {
      "displayName": "Parvi Singh",
      "photoUrl": "https://lh3.googleusercontent.com/a-/AOh14GicHh9ECKPiyR68S3IUC3uvEPxQPh88MULwl8RHhQ=s64",
      "userId": "15870809085498692847"
     }
    }
   },
   "source": [
    "import itertools\n",
    "import seaborn as sns\n",
    "\n",
    "def pred_heatmap(model, X, features, class_index=-1, title='', num=100):\n",
    "    \"\"\"\n",
    "    Visualize predicted probabilities, for classifier fit on 2 numeric features\n",
    "    \n",
    "    Parameters\n",
    "    ----------\n",
    "    model : scikit-learn classifier, already fit\n",
    "    X : pandas dataframe, which was used to fit model\n",
    "    features : list of strings, column names of the 2 numeric features\n",
    "    class_index : integer, index of class label\n",
    "    title : string, title of plot\n",
    "    num : int, number of grid points for each feature\n",
    "    \n",
    "    Returns\n",
    "    -------\n",
    "    y_pred_proba : numpy array, predicted probabilities for class_index\n",
    "    \"\"\"\n",
    "    feature1, feature2 = features\n",
    "    min1, max1 = X[feature1].min(), X[feature1].max()\n",
    "    min2, max2 = X[feature2].min(), X[feature2].max()\n",
    "    x1 = np.linspace(min1, max1, num)\n",
    "    x2 = np.linspace(max2, min2, num)\n",
    "    combos = list(itertools.product(x1, x2))\n",
    "    y_pred_proba = model.predict_proba(combos)[:, class_index]\n",
    "    pred_grid = y_pred_proba.reshape(num, num).T\n",
    "    table = pd.DataFrame(pred_grid, columns=x1, index=x2)\n",
    "    sns.heatmap(table, vmin=0, vmax=1)\n",
    "    plt.xticks([])\n",
    "    plt.yticks([])\n",
    "    plt.xlabel(feature1)\n",
    "    plt.ylabel(feature2)\n",
    "    plt.title(title)\n",
    "    plt.show()\n",
    "    return y_pred_proba\n"
   ],
   "execution_count": 33,
   "outputs": []
  },
  {
   "cell_type": "markdown",
   "metadata": {
    "id": "DiRfPqHjgLVl"
   },
   "source": [
    "### Compare Decision Tree, Random Forest, Logistic Regression"
   ]
  },
  {
   "cell_type": "code",
   "metadata": {
    "colab": {
     "base_uri": "https://localhost:8080/",
     "height": 864,
     "referenced_widgets": [
      "ffe176f032714750a38ec473265a70f9",
      "a2b309bebe8348779b00ed6532f7591e",
      "7b1bd3603def466ab3a3c51d88a29ae0",
      "398519c3da13485da48c06151b787238",
      "0a31c117aa6a4c03adbbd87d5b19fa3e",
      "0002bc7735ea4b8e933b802f258fd407",
      "29047a5b82f043dd82e1426c3970827c",
      "4b8567e139af4b7fb0e1ee57ec095b37",
      "b8da239ea0764812a41cc1da93a12ccc",
      "3b8be6348d1a400c9f78e71aa8837de1"
     ]
    },
    "id": "HKkMLXhMgLVl",
    "executionInfo": {
     "status": "ok",
     "timestamp": 1611967564568,
     "user_tz": 300,
     "elapsed": 43632,
     "user": {
      "displayName": "Parvi Singh",
      "photoUrl": "https://lh3.googleusercontent.com/a-/AOh14GicHh9ECKPiyR68S3IUC3uvEPxQPh88MULwl8RHhQ=s64",
      "userId": "15870809085498692847"
     }
    },
    "outputId": "44a3bea8-940c-463d-c579-994b6a3e4bc5"
   },
   "source": [
    "# Instructions\n",
    "# 1. Choose two features\n",
    "# 2. Run this code cell\n",
    "# 3. Interact with the widget sliders\n",
    "feature1 = 'longitude'\n",
    "feature2 = 'quantity'\n",
    "\n",
    "from sklearn.linear_model import LogisticRegression\n",
    "from sklearn.tree import DecisionTreeClassifier\n",
    "\n",
    "def get_X_y(df, feature1, feature2, target):\n",
    "    features = [feature1, feature2]\n",
    "    X = df[features]\n",
    "    y = df[target]\n",
    "    X = X.fillna(X.median())\n",
    "    X = ce.OrdinalEncoder().fit_transform(X)\n",
    "    return X, y\n",
    "\n",
    "def compare_models(max_depth=1, n_estimators=1):\n",
    "    models = [DecisionTreeClassifier(max_depth=max_depth), \n",
    "              RandomForestClassifier(max_depth=max_depth, n_estimators=n_estimators), \n",
    "              LogisticRegression(solver='lbfgs', multi_class='auto')]\n",
    "    \n",
    "    for model in models:\n",
    "        name = model.__class__.__name__\n",
    "        model.fit(X, y)\n",
    "        pred_heatmap(model, X, [feature1, feature2], class_index=0, title=name)\n",
    "\n",
    "X, y = get_X_y(train, feature1, feature2, target='status_group')\n",
    "interact(compare_models, max_depth=(1,6,1), n_estimators=(10,40,10));"
   ],
   "execution_count": 34,
   "outputs": [
    {
     "output_type": "display_data",
     "data": {
      "application/vnd.jupyter.widget-view+json": {
       "model_id": "ffe176f032714750a38ec473265a70f9",
       "version_minor": 0,
       "version_major": 2
      },
      "text/plain": [
       "interactive(children=(IntSlider(value=1, description='max_depth', max=6, min=1), IntSlider(value=10, descripti…"
      ]
     },
     "metadata": {
      "tags": []
     }
    }
   ]
  },
  {
   "cell_type": "markdown",
   "metadata": {
    "id": "hOQqjLEDgLVn"
   },
   "source": [
    "### Bagging"
   ]
  },
  {
   "cell_type": "code",
   "metadata": {
    "colab": {
     "base_uri": "https://localhost:8080/",
     "height": 864,
     "referenced_widgets": [
      "01a74291446545e8affecaa3c0fb7a49",
      "5b95bc5a97ed4f1e85238cd8c451e682",
      "54ec0a1433574a2996890e33530871bf",
      "04603d3a98844470a824e99da70d7dfa",
      "6f5c782bf4734619b3b4804a3b15aea7",
      "3a7acc98c7a24827b391d96fad5eedab",
      "4ac5ec0468e74780a7a4709972f2ddb4",
      "e204ec2c81974858a578976af8bd5b16",
      "74b6e21793ef4bdab512607130c7cb69",
      "c77c2d8f0f154f02b53c89403b221657"
     ]
    },
    "id": "Hm4aPgs2gLVn",
    "executionInfo": {
     "status": "ok",
     "timestamp": 1611967565671,
     "user_tz": 300,
     "elapsed": 44729,
     "user": {
      "displayName": "Parvi Singh",
      "photoUrl": "https://lh3.googleusercontent.com/a-/AOh14GicHh9ECKPiyR68S3IUC3uvEPxQPh88MULwl8RHhQ=s64",
      "userId": "15870809085498692847"
     }
    },
    "outputId": "d0763344-9177-4727-ba17-213f2c6e3f6e"
   },
   "source": [
    "# Do-it-yourself Bagging Ensemble of Decision Trees (like a Random Forest)\n",
    "\n",
    "# Instructions\n",
    "# 1. Choose two features\n",
    "# 2. Run this code cell\n",
    "# 3. Interact with the widget sliders\n",
    "\n",
    "feature1 = 'longitude'\n",
    "feature2 = 'latitude'\n",
    "\n",
    "def waterpumps_bagging(max_depth=1, n_estimators=1):\n",
    "    predicteds = []\n",
    "    for i in range(n_estimators):\n",
    "        title = f'Tree {i+1}'\n",
    "        bootstrap_sample = train.sample(n=len(train), replace=True)\n",
    "        X, y = get_X_y(bootstrap_sample, feature1, feature2, target='status_group')\n",
    "        tree = DecisionTreeClassifier(max_depth=max_depth)\n",
    "        tree.fit(X, y)\n",
    "        predicted = pred_heatmap(tree, X, [feature1, feature2], class_index=0, title=title)\n",
    "        predicteds.append(predicted)\n",
    "    \n",
    "    ensembled = np.vstack(predicteds).mean(axis=0)\n",
    "    title = f'Ensemble of {n_estimators} trees, with max_depth={max_depth}'\n",
    "    sns.heatmap(ensembled.reshape(100, 100).T, vmin=0, vmax=1)\n",
    "    plt.title(title)\n",
    "    plt.xlabel(feature1)\n",
    "    plt.ylabel(feature2)\n",
    "    plt.xticks([])\n",
    "    plt.yticks([])\n",
    "    plt.show()\n",
    "        \n",
    "interact(waterpumps_bagging, max_depth=(1,6,1), n_estimators=(2,5,1));"
   ],
   "execution_count": 35,
   "outputs": [
    {
     "output_type": "display_data",
     "data": {
      "application/vnd.jupyter.widget-view+json": {
       "model_id": "01a74291446545e8affecaa3c0fb7a49",
       "version_minor": 0,
       "version_major": 2
      },
      "text/plain": [
       "interactive(children=(IntSlider(value=1, description='max_depth', max=6, min=1), IntSlider(value=2, descriptio…"
      ]
     },
     "metadata": {
      "tags": []
     }
    }
   ]
  },
  {
   "cell_type": "markdown",
   "metadata": {
    "id": "wYoSBi15akWP"
   },
   "source": [
    "# Review\n",
    "\n",
    "#### Try Tree Ensembles when you do machine learning with labeled, tabular data\n",
    "- \"Tree Ensembles\" means Random Forest or Gradient Boosting models. \n",
    "- [Tree Ensembles often have the best predictive accuracy](https://arxiv.org/abs/1708.05070) with labeled, tabular data.\n",
    "- Why? Because trees can fit non-linear, non-[monotonic](https://en.wikipedia.org/wiki/Monotonic_function) relationships, and [interactions](https://christophm.github.io/interpretable-ml-book/interaction.html) between features.\n",
    "- A single decision tree, grown to unlimited depth, will [overfit](http://www.r2d3.us/visual-intro-to-machine-learning-part-1/). We solve this problem by ensembling trees, with bagging (Random Forest) or boosting (Gradient Boosting).\n",
    "- Random Forest's advantage: may be less sensitive to hyperparameters. Gradient Boosting's advantage: may get better predictive accuracy.\n",
    "\n",
    "#### One-hot encoding isn’t the only way, and may not be the best way, of categorical encoding for tree ensembles.\n",
    "- For example, tree ensembles can work with arbitrary \"ordinal\" encoding! (Randomly assigning an integer to each category.) Compared to one-hot encoding, the dimensionality will be lower, and the predictive accuracy may be just as good or even better.\n"
   ]
  }
 ]
}