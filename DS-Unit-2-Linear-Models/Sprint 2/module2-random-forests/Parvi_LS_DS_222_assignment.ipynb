{
 "nbformat": 4,
 "nbformat_minor": 0,
 "metadata": {
  "orig_nbformat": 2,
  "kernelspec": {
   "name": "python3",
   "display_name": "Python 3",
   "language": "python"
  },
  "colab": {
   "name": "Parvi_LS_DS_222_assignment.ipynb",
   "provenance": [],
   "collapsed_sections": []
  }
 },
 "cells": [
  {
   "cell_type": "markdown",
   "metadata": {
    "id": "c6l9zsqCyDMu"
   },
   "source": [
    "# Random Forests\n",
    "\n",
    "## Assignment\n",
    "- [ ] Read [“Adopting a Hypothesis-Driven Workflow”](http://archive.is/Nu3EI), a blog post by a Lambda DS student about the Tanzania Waterpumps challenge.\n",
    "- [ ] Continue to participate in our Kaggle challenge.\n",
    "- [ ] Define a function to wrangle train, validate, and test sets in the same way. Clean outliers and engineer features.\n",
    "- [ ] Try Ordinal Encoding.\n",
    "- [ ] Try a Random Forest Classifier.\n",
    "- [ ] Submit your predictions to our Kaggle competition. (Go to our Kaggle InClass competition webpage. Use the blue **Submit Predictions** button to upload your CSV file. Or you can use the Kaggle API to submit your predictions.)\n",
    "- [ ] Commit your notebook to your fork of the GitHub repo.\n",
    "\n",
    "## Stretch Goals\n",
    "\n",
    "### Doing\n",
    "- [ ] Add your own stretch goal(s) !\n",
    "- [ ] Do more exploratory data analysis, data cleaning, feature engineering, and feature selection.\n",
    "- [ ] Try other [categorical encodings](https://contrib.scikit-learn.org/category_encoders/).\n",
    "- [ ] Get and plot your feature importances.\n",
    "- [ ] Make visualizations and share on Slack.\n",
    "\n",
    "### Reading\n",
    "\n",
    "Top recommendations in _**bold italic:**_\n",
    "\n",
    "#### Decision Trees\n",
    "- A Visual Introduction to Machine Learning, [Part 1: A Decision Tree](http://www.r2d3.us/visual-intro-to-machine-learning-part-1/),  and _**[Part 2: Bias and Variance](http://www.r2d3.us/visual-intro-to-machine-learning-part-2/)**_\n",
    "- [Decision Trees: Advantages & Disadvantages](https://christophm.github.io/interpretable-ml-book/tree.html#advantages-2)\n",
    "- [How a Russian mathematician constructed a decision tree — by hand — to solve a medical problem](http://fastml.com/how-a-russian-mathematician-constructed-a-decision-tree-by-hand-to-solve-a-medical-problem/)\n",
    "- [How decision trees work](https://brohrer.github.io/how_decision_trees_work.html)\n",
    "- [Let’s Write a Decision Tree Classifier from Scratch](https://www.youtube.com/watch?v=LDRbO9a6XPU)\n",
    "\n",
    "#### Random Forests\n",
    "- [_An Introduction to Statistical Learning_](http://www-bcf.usc.edu/~gareth/ISL/), Chapter 8: Tree-Based Methods\n",
    "- [Coloring with Random Forests](http://structuringtheunstructured.blogspot.com/2017/11/coloring-with-random-forests.html)\n",
    "- _**[Random Forests for Complete Beginners: The definitive guide to Random Forests and Decision Trees](https://victorzhou.com/blog/intro-to-random-forests/)**_\n",
    "\n",
    "#### Categorical encoding for trees\n",
    "- [Are categorical variables getting lost in your random forests?](https://roamanalytics.com/2016/10/28/are-categorical-variables-getting-lost-in-your-random-forests/)\n",
    "- [Beyond One-Hot: An Exploration of Categorical Variables](http://www.willmcginnis.com/2015/11/29/beyond-one-hot-an-exploration-of-categorical-variables/)\n",
    "- _**[Categorical Features and Encoding in Decision Trees](https://medium.com/data-design/visiting-categorical-features-and-encoding-in-decision-trees-53400fa65931)**_\n",
    "- _**[Coursera — How to Win a Data Science Competition: Learn from Top Kagglers — Concept of mean encoding](https://www.coursera.org/lecture/competitive-data-science/concept-of-mean-encoding-b5Gxv)**_\n",
    "- [Mean (likelihood) encodings: a comprehensive study](https://www.kaggle.com/vprokopev/mean-likelihood-encodings-a-comprehensive-study)\n",
    "- [The Mechanics of Machine Learning, Chapter 6: Categorically Speaking](https://mlbook.explained.ai/catvars.html)\n",
    "\n",
    "#### Imposter Syndrome\n",
    "- [Effort Shock and Reward Shock (How The Karate Kid Ruined The Modern World)](http://www.tempobook.com/2014/07/09/effort-shock-and-reward-shock/)\n",
    "- [How to manage impostor syndrome in data science](https://towardsdatascience.com/how-to-manage-impostor-syndrome-in-data-science-ad814809f068)\n",
    "- [\"I am not a real data scientist\"](https://brohrer.github.io/imposter_syndrome.html)\n",
    "- _**[Imposter Syndrome in Data Science](https://caitlinhudon.com/2018/01/19/imposter-syndrome-in-data-science/)**_\n",
    "\n",
    "\n",
    "### More Categorical Encodings\n",
    "\n",
    "**1.** The article **[Categorical Features and Encoding in Decision Trees](https://medium.com/data-design/visiting-categorical-features-and-encoding-in-decision-trees-53400fa65931)** mentions 4 encodings:\n",
    "\n",
    "- **\"Categorical Encoding\":** This means using the raw categorical values as-is, not encoded. Scikit-learn doesn't support this, but some tree algorithm implementations do. For example, [Catboost](https://catboost.ai/), or R's [rpart](https://cran.r-project.org/web/packages/rpart/index.html) package.\n",
    "- **Numeric Encoding:** Synonymous with Label Encoding, or \"Ordinal\" Encoding with random order. We can use [category_encoders.OrdinalEncoder](https://contrib.scikit-learn.org/category_encoders/ordinal.html).\n",
    "- **One-Hot Encoding:** We can use [category_encoders.OneHotEncoder](https://contrib.scikit-learn.org/category_encoders/onehot.html).\n",
    "- **Binary Encoding:** We can use [category_encoders.BinaryEncoder](https://contrib.scikit-learn.org/category_encoders/binary.html).\n",
    "\n",
    "\n",
    "**2.** The short video \n",
    "**[Coursera — How to Win a Data Science Competition: Learn from Top Kagglers — Concept of mean encoding](https://www.coursera.org/lecture/competitive-data-science/concept-of-mean-encoding-b5Gxv)** introduces an interesting idea: use both X _and_ y to encode categoricals.\n",
    "\n",
    "Category Encoders has multiple implementations of this general concept:\n",
    "\n",
    "- [CatBoost Encoder](https://contrib.scikit-learn.org/category_encoders/catboost.html)\n",
    "- [Generalized Linear Mixed Model Encoder](https://contrib.scikit-learn.org/category_encoders/glmm.html)\n",
    "- [James-Stein Encoder](https://contrib.scikit-learn.org/category_encoders/jamesstein.html)\n",
    "- [Leave One Out](https://contrib.scikit-learn.org/category_encoders/leaveoneout.html)\n",
    "- [M-estimate](https://contrib.scikit-learn.org/category_encoders/mestimate.html)\n",
    "- [Target Encoder](https://contrib.scikit-learn.org/category_encoders/targetencoder.html)\n",
    "- [Weight of Evidence](https://contrib.scikit-learn.org/category_encoders/woe.html)\n",
    "\n",
    "Category Encoder's mean encoding implementations work for regression problems or binary classification problems. \n",
    "\n",
    "For multi-class classification problems, you will need to temporarily reformulate it as binary classification. For example:\n",
    "\n",
    "```python\n",
    "encoder = ce.TargetEncoder(min_samples_leaf=..., smoothing=...) # Both parameters > 1 to avoid overfitting\n",
    "X_train_encoded = encoder.fit_transform(X_train, y_train=='functional')\n",
    "X_val_encoded = encoder.transform(X_train, y_val=='functional')\n",
    "```\n",
    "\n",
    "For this reason, mean encoding won't work well within pipelines for multi-class classification problems.\n",
    "\n",
    "**3.** The **[dirty_cat](https://dirty-cat.github.io/stable/)** library has a Target Encoder implementation that works with multi-class classification.\n",
    "\n",
    "```python\n",
    " dirty_cat.TargetEncoder(clf_type='multiclass-clf')\n",
    "```\n",
    "It also implements an interesting idea called [\"Similarity Encoder\" for dirty categories](https://www.slideshare.net/GaelVaroquaux/machine-learning-on-non-curated-data-154905090).\n",
    "\n",
    "However, it seems like dirty_cat doesn't handle missing values or unknown categories as well as category_encoders does. And you may need to use it with one column at a time, instead of with your whole dataframe.\n",
    "\n",
    "**4. [Embeddings](https://www.kaggle.com/colinmorris/embedding-layers)** can work well with sparse / high cardinality categoricals.\n",
    "\n",
    "_**I hope it’s not too frustrating or confusing that there’s not one “canonical” way to encode categoricals. It’s an active area of research and experimentation — maybe you can make your own contributions!**_"
   ]
  },
  {
   "cell_type": "markdown",
   "metadata": {
    "id": "siGCmBGLyDMw"
   },
   "source": [
    " ### Setup\n",
    "\n",
    " You can work locally (follow the [local setup instructions](https://lambdaschool.github.io/ds/unit2/local/)) or on Colab (run the code cell below)."
   ]
  },
  {
   "cell_type": "code",
   "metadata": {
    "id": "ugAw21y5yDMx",
    "executionInfo": {
     "status": "ok",
     "timestamp": 1611969097248,
     "user_tz": 300,
     "elapsed": 3353,
     "user": {
      "displayName": "Parvi Singh",
      "photoUrl": "https://lh3.googleusercontent.com/a-/AOh14GicHh9ECKPiyR68S3IUC3uvEPxQPh88MULwl8RHhQ=s64",
      "userId": "15870809085498692847"
     }
    }
   },
   "source": [
    "%%capture\n",
    "import sys\n",
    "\n",
    "# If you're on Colab:\n",
    "if 'google.colab' in sys.modules:\n",
    "    DATA_PATH = 'https://raw.githubusercontent.com/LambdaSchool/DS-Unit-2-Kaggle-Challenge/master/data/'\n",
    "    !pip install category_encoders==2.*\n",
    "\n",
    "# If you're working locally:\n",
    "else:\n",
    "    DATA_PATH = '../data/'"
   ],
   "execution_count": 108,
   "outputs": []
  },
  {
   "cell_type": "code",
   "metadata": {
    "colab": {
     "base_uri": "https://localhost:8080/"
    },
    "id": "O6-Ki_A7yDMx",
    "executionInfo": {
     "status": "ok",
     "timestamp": 1611969099078,
     "user_tz": 300,
     "elapsed": 5177,
     "user": {
      "displayName": "Parvi Singh",
      "photoUrl": "https://lh3.googleusercontent.com/a-/AOh14GicHh9ECKPiyR68S3IUC3uvEPxQPh88MULwl8RHhQ=s64",
      "userId": "15870809085498692847"
     }
    },
    "outputId": "163e321c-439b-4bb7-d746-9c069ea881af"
   },
   "source": [
    "DATA_PATH = 'https://raw.githubusercontent.com/LambdaSchool/DS-Unit-2-Kaggle-Challenge/master/data/'\n",
    "import pandas as pd\n",
    "from sklearn.model_selection import train_test_split\n",
    "\n",
    "train = pd.merge(pd.read_csv(DATA_PATH+'waterpumps/train_features.csv'), \n",
    "                 pd.read_csv(DATA_PATH+'waterpumps/train_labels.csv'))\n",
    "test = pd.read_csv(DATA_PATH+'waterpumps/test_features.csv')\n",
    "sample_submission = pd.read_csv(DATA_PATH+'waterpumps/sample_submission.csv')\n",
    "\n",
    "train.shape, test.shape"
   ],
   "execution_count": 109,
   "outputs": [
    {
     "output_type": "execute_result",
     "data": {
      "text/plain": [
       "((59400, 41), (14358, 40))"
      ]
     },
     "metadata": {},
     "execution_count": 109
    }
   ]
  },
  {
   "cell_type": "markdown",
   "metadata": {
    "id": "iuCgK33tyDMy"
   },
   "source": [
    " ## Train test split"
   ]
  },
  {
   "cell_type": "code",
   "metadata": {
    "id": "ViHC1rWIyDMy",
    "executionInfo": {
     "status": "ok",
     "timestamp": 1611969099079,
     "user_tz": 300,
     "elapsed": 5173,
     "user": {
      "displayName": "Parvi Singh",
      "photoUrl": "https://lh3.googleusercontent.com/a-/AOh14GicHh9ECKPiyR68S3IUC3uvEPxQPh88MULwl8RHhQ=s64",
      "userId": "15870809085498692847"
     }
    }
   },
   "source": [
    "from sklearn.model_selection import train_test_split\n",
    "\n",
    "# Splitting the feature matrix in train and validation for later testing\n",
    "train,val = train_test_split(train, train_size=0.80, test_size=0.20, \n",
    "                              stratify=train['status_group'], random_state=42)"
   ],
   "execution_count": 110,
   "outputs": []
  },
  {
   "cell_type": "markdown",
   "metadata": {
    "id": "lD0zjKDDyDMz"
   },
   "source": [
    " ## EDA"
   ]
  },
  {
   "cell_type": "code",
   "metadata": {
    "id": "3PDyZ4bOyDMz",
    "executionInfo": {
     "status": "ok",
     "timestamp": 1611969099079,
     "user_tz": 300,
     "elapsed": 5170,
     "user": {
      "displayName": "Parvi Singh",
      "photoUrl": "https://lh3.googleusercontent.com/a-/AOh14GicHh9ECKPiyR68S3IUC3uvEPxQPh88MULwl8RHhQ=s64",
      "userId": "15870809085498692847"
     }
    }
   },
   "source": [
    "# !pip install pandas_profiling==2.*\n",
    "\n",
    "# from pandas_profiling import ProfileReport\n",
    "# profile = ProfileReport(train, minimal=True).to_notebook_iframe()\n",
    "# profile\n",
    "\n",
    "# import plotly\n",
    "# print(plotly.__version__)\n",
    "\n",
    "# !pip install plotly==4.4.1\n"
   ],
   "execution_count": 111,
   "outputs": []
  },
  {
   "cell_type": "code",
   "metadata": {
    "id": "DvZ4OCTdyDM0",
    "executionInfo": {
     "status": "ok",
     "timestamp": 1611969099080,
     "user_tz": 300,
     "elapsed": 5168,
     "user": {
      "displayName": "Parvi Singh",
      "photoUrl": "https://lh3.googleusercontent.com/a-/AOh14GicHh9ECKPiyR68S3IUC3uvEPxQPh88MULwl8RHhQ=s64",
      "userId": "15870809085498692847"
     }
    }
   },
   "source": [
    "# import plotly.express as px\n",
    "# fig = px.scatter(train,x=train['longitude'], y=train['latitude'])\n",
    "# fig.show()"
   ],
   "execution_count": 112,
   "outputs": []
  },
  {
   "cell_type": "code",
   "metadata": {
    "id": "1YmMiZFkyDM0",
    "executionInfo": {
     "status": "ok",
     "timestamp": 1611969099380,
     "user_tz": 300,
     "elapsed": 5464,
     "user": {
      "displayName": "Parvi Singh",
      "photoUrl": "https://lh3.googleusercontent.com/a-/AOh14GicHh9ECKPiyR68S3IUC3uvEPxQPh88MULwl8RHhQ=s64",
      "userId": "15870809085498692847"
     }
    }
   },
   "source": [
    "# Cleaning the outliers and feature engineering\n",
    "import numpy as np\n",
    "\n",
    "def wrangle(X):\n",
    "  X = X.copy()\n",
    "  X['latitude'] = X['latitude'].replace(-2e-08, 0)\n",
    "  cols_with_zeros = ['longitude', 'latitude', 'construction_year', \n",
    "                       'gps_height', 'population']\n",
    "  for col in cols_with_zeros:\n",
    "        X[col] = X[col].replace(0, np.nan)\n",
    "        X[col+'_MISSING'] = X[col].isnull()\n",
    "    # drop the duplicate columns\n",
    "  duplicates = ['quantity_group', 'payment_type']\n",
    "  X = X.drop(columns=duplicates)\n",
    "\n",
    "  # Drop recorded by (never varies) and id(always varies, random)\n",
    "  unusable_variance =['recorded_by', 'id']\n",
    "  X = X.drop(columns = unusable_variance)\n",
    "  \n",
    "  #convert date into datetime object\n",
    "  X['date_recorded'] = pd.to_datetime(X['date_recorded'], infer_datetime_format=True)\n",
    "\n",
    "  #Extract components from date_recorded then drop the original column\n",
    "  X['year_recorded'] = X['date_recorded'].dt.year\n",
    "  X['month_recorded'] = X['date_recorded'].dt.month\n",
    "  X['day_recorded'] = X['date_recorded'].dt.day\n",
    "  X = X.drop(columns = 'date_recorded')\n",
    "\n",
    "  #Engineer the features: how many years from construction_year to date_recorded\n",
    "  X['years'] = X['year_recorded'] - X['construction_year']\n",
    "  X['year_MISSING'] = X['years'].isnull()\n",
    "\n",
    "  #return the wrangled dataframe\n",
    "  return X\n",
    "\n",
    "train = wrangle(train)\n",
    "val = wrangle(val)\n",
    "test = wrangle(test)\n"
   ],
   "execution_count": 113,
   "outputs": []
  },
  {
   "cell_type": "code",
   "metadata": {
    "id": "ebbTtMOZyDM1",
    "executionInfo": {
     "status": "ok",
     "timestamp": 1611969099671,
     "user_tz": 300,
     "elapsed": 5753,
     "user": {
      "displayName": "Parvi Singh",
      "photoUrl": "https://lh3.googleusercontent.com/a-/AOh14GicHh9ECKPiyR68S3IUC3uvEPxQPh88MULwl8RHhQ=s64",
      "userId": "15870809085498692847"
     }
    }
   },
   "source": [
    "# target and features selection\n",
    "target = 'status_group'\n",
    "\n",
    "# get a dataframe with all train columns except the target\n",
    "train_features = train.drop(columns=[target])\n",
    "\n",
    "# get a list of numeric features\n",
    "numeric_features = train_features.select_dtypes(include='number').columns.tolist()\n",
    "\n",
    "#get a series with the cardinality of the non numeric function\n",
    "cardinality = train_features.select_dtypes(exclude='number').nunique()\n",
    "\n",
    "#get a lit of all cardinal features with carinality <= 50\n",
    "categorical_features = cardinality[cardinality <= 50].index.tolist()\n",
    "\n",
    "# combine the lists\n",
    "features = numeric_features + categorical_features"
   ],
   "execution_count": 114,
   "outputs": []
  },
  {
   "cell_type": "markdown",
   "metadata": {
    "id": "5sJp-yR2yDM1"
   },
   "source": [
    " ## Using Random Forest for fitting by creating a pipeline using OneHotEncoder and OrdinalEncoder"
   ]
  },
  {
   "cell_type": "code",
   "metadata": {
    "id": "9nGvyg4zyDM2",
    "executionInfo": {
     "status": "ok",
     "timestamp": 1611969099672,
     "user_tz": 300,
     "elapsed": 5751,
     "user": {
      "displayName": "Parvi Singh",
      "photoUrl": "https://lh3.googleusercontent.com/a-/AOh14GicHh9ECKPiyR68S3IUC3uvEPxQPh88MULwl8RHhQ=s64",
      "userId": "15870809085498692847"
     }
    }
   },
   "source": [
    "#arrange the data into X features and y target vector for OneHotEncoder\n",
    "\n",
    "X_train = train[features]\n",
    "y_train = train[target]\n",
    "X_val = val[features]\n",
    "y_val = val[target]\n",
    "X_test = test[features]\n",
    "\n",
    "#arrange the data into X features and y target vector for OrdinalEncoder\n",
    "#including all the features under OrdinalEncoder since it can handle any number of categories\n",
    "#therefore no subsetting is required like the one above\n",
    "X_train_OE = train.drop(columns=['status_group'])\n",
    "X_val_OE = val.drop(columns=['status_group'])\n",
    "X_test_OE = test\n",
    "\n"
   ],
   "execution_count": 115,
   "outputs": []
  },
  {
   "cell_type": "code",
   "metadata": {
    "colab": {
     "base_uri": "https://localhost:8080/"
    },
    "id": "FBX1ywU3yDM2",
    "executionInfo": {
     "status": "ok",
     "timestamp": 1611969113279,
     "user_tz": 300,
     "elapsed": 19355,
     "user": {
      "displayName": "Parvi Singh",
      "photoUrl": "https://lh3.googleusercontent.com/a-/AOh14GicHh9ECKPiyR68S3IUC3uvEPxQPh88MULwl8RHhQ=s64",
      "userId": "15870809085498692847"
     }
    },
    "outputId": "7249b3e0-2cdd-4c00-ac9f-22dae51cb20a"
   },
   "source": [
    "#using OHE\n",
    "import category_encoders as ce\n",
    "from sklearn.ensemble import RandomForestClassifier\n",
    "from sklearn.impute import SimpleImputer\n",
    "from sklearn.pipeline import make_pipeline\n",
    "\n",
    "pipeline_OHE = make_pipeline(\n",
    "    ce.OneHotEncoder(use_cat_names=True), \n",
    "    SimpleImputer(strategy='median'),\n",
    "    RandomForestClassifier(random_state=42, n_jobs=-1)\n",
    ")\n",
    "\n",
    "# fit on train\n",
    "pipeline_OHE.fit(X_train,y_train)\n",
    "\n",
    "#scores\n",
    "print(f'Training score with OHE and Random Forest is{pipeline_OHE.score(X_train,y_train)}')\n",
    "print(f'Val score with OHE and Random Forest is{pipeline_OHE.score(X_val,y_val)}')"
   ],
   "execution_count": 116,
   "outputs": [
    {
     "output_type": "stream",
     "name": "stdout",
     "text": [
      "Training score with OHE and Random Forest is0.9979166666666667\n",
      "Val score with OHE and Random Forest is0.8082491582491582\n"
     ]
    }
   ]
  },
  {
   "cell_type": "code",
   "execution_count": 117,
   "metadata": {},
   "outputs": [
    {
     "output_type": "execute_result",
     "data": {
      "text/plain": [
       "((47520, 45), (47520,))"
      ]
     },
     "metadata": {},
     "execution_count": 117
    }
   ],
   "source": [
    "(X_train_OE.shape,y_train.shape)"
   ]
  },
  {
   "cell_type": "code",
   "execution_count": null,
   "metadata": {},
   "outputs": [],
   "source": []
  },
  {
   "cell_type": "code",
   "metadata": {
    "id": "S4t6RXTryDM2",
    "executionInfo": {
     "status": "ok",
     "timestamp": 1611969113280,
     "user_tz": 300,
     "elapsed": 19353,
     "user": {
      "displayName": "Parvi Singh",
      "photoUrl": "https://lh3.googleusercontent.com/a-/AOh14GicHh9ECKPiyR68S3IUC3uvEPxQPh88MULwl8RHhQ=s64",
      "userId": "15870809085498692847"
     }
    }
   },
   "source": [
    "#using OrdinalEncoder\n",
    "\n",
    "pipeline_OE = make_pipeline(\n",
    "    ce.OrdinalEncoder(),\n",
    "    SimpleImputer(strategy='median'),\n",
    "    RandomForestClassifier(random_state=42, n_jobs=-1)\n",
    ")\n",
    "\n",
    "# fit on train\n",
    "pipeline_OE.fit(X_train_OE,y_train)\n",
    "\n",
    "#scores\n",
    "print(f'Training score with OrdinalEncoding and Random Forest is{pipeline_OE.score(X_train_OE,y_train)}')\n",
    "print(f'Val score with OrdinalEncoding and Random Forest is{pipeline_OE.score(X_val_OE,y_val)}')\n",
    "\n"
   ],
   "execution_count": 118,
   "outputs": [
    {
     "output_type": "stream",
     "name": "stdout",
     "text": [
      "Training score with OrdinalEncoding and Random Forest is0.9999579124579124\nVal score with OrdinalEncoding and Random Forest is0.8135521885521886\n"
     ]
    }
   ]
  },
  {
   "source": [
    "### Optimizing using OE and OHE by running loop and finding the best fit"
   ],
   "cell_type": "markdown",
   "metadata": {}
  },
  {
   "cell_type": "code",
   "execution_count": 62,
   "metadata": {},
   "outputs": [
    {
     "output_type": "stream",
     "name": "stdout",
     "text": [
      "Training score with OHE and Random Forest with 1 depth is  0.6231060606060606\n",
      "Val score with OHE and Random Forest  with 1 depth is  0.6186868686868687\n",
      "\n",
      "Training score with OrdinalEncoding and Random Forest  with 1 depth is  0.6241372053872054\n",
      "Val score with OrdinalEncoding and Random Forest  with 1 depth is  0.6226430976430977\n",
      "\n",
      "Training score with OHE and Random Forest with 2 depth is  0.653956228956229\n",
      "Val score with OHE and Random Forest  with 2 depth is  0.6503367003367003\n",
      "\n",
      "Training score with OrdinalEncoding and Random Forest  with 2 depth is  0.6577651515151515\n",
      "Val score with OrdinalEncoding and Random Forest  with 2 depth is  0.653956228956229\n",
      "\n",
      "Training score with OHE and Random Forest with 3 depth is  0.6957070707070707\n",
      "Val score with OHE and Random Forest  with 3 depth is  0.6953703703703704\n",
      "\n",
      "Training score with OrdinalEncoding and Random Forest  with 3 depth is  0.6949074074074074\n",
      "Val score with OrdinalEncoding and Random Forest  with 3 depth is  0.6910774410774411\n",
      "\n",
      "Training score with OHE and Random Forest with 4 depth is  0.7118897306397306\n",
      "Val score with OHE and Random Forest  with 4 depth is  0.712037037037037\n",
      "\n",
      "Training score with OrdinalEncoding and Random Forest  with 4 depth is  0.708459595959596\n",
      "Val score with OrdinalEncoding and Random Forest  with 4 depth is  0.7063131313131313\n",
      "\n",
      "Training score with OHE and Random Forest with 5 depth is  0.7187920875420876\n",
      "Val score with OHE and Random Forest  with 5 depth is  0.7178451178451178\n",
      "\n",
      "Training score with OrdinalEncoding and Random Forest  with 5 depth is  0.723989898989899\n",
      "Val score with OrdinalEncoding and Random Forest  with 5 depth is  0.7233164983164984\n",
      "\n",
      "Training score with OHE and Random Forest with 6 depth is  0.7268939393939394\n",
      "Val score with OHE and Random Forest  with 6 depth is  0.7258417508417508\n",
      "\n",
      "Training score with OrdinalEncoding and Random Forest  with 6 depth is  0.7378998316498316\n",
      "Val score with OrdinalEncoding and Random Forest  with 6 depth is  0.7367003367003367\n",
      "\n",
      "Training score with OHE and Random Forest with 7 depth is  0.735837542087542\n",
      "Val score with OHE and Random Forest  with 7 depth is  0.7347643097643097\n",
      "\n",
      "Training score with OrdinalEncoding and Random Forest  with 7 depth is  0.7488425925925926\n",
      "Val score with OrdinalEncoding and Random Forest  with 7 depth is  0.7428451178451179\n",
      "\n",
      "Training score with OHE and Random Forest with 8 depth is  0.7466329966329966\n",
      "Val score with OHE and Random Forest  with 8 depth is  0.7428451178451179\n",
      "\n",
      "Training score with OrdinalEncoding and Random Forest  with 8 depth is  0.7586700336700337\n",
      "Val score with OrdinalEncoding and Random Forest  with 8 depth is  0.7490740740740741\n",
      "\n",
      "Training score with OHE and Random Forest with 9 depth is  0.7543350168350168\n",
      "Val score with OHE and Random Forest  with 9 depth is  0.7481481481481481\n",
      "\n",
      "Training score with OrdinalEncoding and Random Forest  with 9 depth is  0.7688973063973064\n",
      "Val score with OrdinalEncoding and Random Forest  with 9 depth is  0.7563131313131313\n",
      "\n",
      "Training score with OHE and Random Forest with 10 depth is  0.7617634680134681\n",
      "Val score with OHE and Random Forest  with 10 depth is  0.7531986531986532\n",
      "\n",
      "Training score with OrdinalEncoding and Random Forest  with 10 depth is  0.7886784511784511\n",
      "Val score with OrdinalEncoding and Random Forest  with 10 depth is  0.7675925925925926\n",
      "\n",
      "Training score with OHE and Random Forest with 11 depth is  0.775736531986532\n",
      "Val score with OHE and Random Forest  with 11 depth is  0.7617003367003367\n",
      "\n",
      "Training score with OrdinalEncoding and Random Forest  with 11 depth is  0.8088594276094276\n",
      "Val score with OrdinalEncoding and Random Forest  with 11 depth is  0.778956228956229\n",
      "\n",
      "Training score with OHE and Random Forest with 12 depth is  0.7906144781144782\n",
      "Val score with OHE and Random Forest  with 12 depth is  0.7700336700336701\n",
      "\n",
      "Training score with OrdinalEncoding and Random Forest  with 12 depth is  0.8277146464646464\n",
      "Val score with OrdinalEncoding and Random Forest  with 12 depth is  0.7898148148148149\n",
      "\n",
      "Training score with OHE and Random Forest with 13 depth is  0.8074705387205388\n",
      "Val score with OHE and Random Forest  with 13 depth is  0.7805555555555556\n",
      "\n",
      "Training score with OrdinalEncoding and Random Forest  with 13 depth is  0.8467171717171718\n",
      "Val score with OrdinalEncoding and Random Forest  with 13 depth is  0.7967171717171717\n",
      "\n",
      "Training score with OHE and Random Forest with 14 depth is  0.821969696969697\n",
      "Val score with OHE and Random Forest  with 14 depth is  0.7874579124579124\n",
      "\n",
      "Training score with OrdinalEncoding and Random Forest  with 14 depth is  0.8657407407407407\n",
      "Val score with OrdinalEncoding and Random Forest  with 14 depth is  0.8026094276094277\n",
      "\n",
      "Training score with OHE and Random Forest with 15 depth is  0.8367845117845117\n",
      "Val score with OHE and Random Forest  with 15 depth is  0.7938552188552188\n",
      "\n",
      "Training score with OrdinalEncoding and Random Forest  with 15 depth is  0.8849957912457912\n",
      "Val score with OrdinalEncoding and Random Forest  with 15 depth is  0.8048821548821549\n",
      "\n",
      "Training score with OHE and Random Forest with 16 depth is  0.8542508417508418\n",
      "Val score with OHE and Random Forest  with 16 depth is  0.7993265993265993\n",
      "\n",
      "Training score with OrdinalEncoding and Random Forest  with 16 depth is  0.9052188552188553\n",
      "Val score with OrdinalEncoding and Random Forest  with 16 depth is  0.8066498316498316\n",
      "\n",
      "Training score with OHE and Random Forest with 17 depth is  0.8703282828282828\n",
      "Val score with OHE and Random Forest  with 17 depth is  0.8026094276094277\n",
      "\n",
      "Training score with OrdinalEncoding and Random Forest  with 17 depth is  0.9226641414141414\n",
      "Val score with OrdinalEncoding and Random Forest  with 17 depth is  0.8096801346801347\n",
      "\n",
      "Training score with OHE and Random Forest with 18 depth is  0.8861111111111111\n",
      "Val score with OHE and Random Forest  with 18 depth is  0.8067340067340067\n",
      "\n",
      "Training score with OrdinalEncoding and Random Forest  with 18 depth is  0.9390782828282829\n",
      "Val score with OrdinalEncoding and Random Forest  with 18 depth is  0.8127104377104377\n",
      "\n",
      "Training score with OHE and Random Forest with 19 depth is  0.9003156565656566\n",
      "Val score with OHE and Random Forest  with 19 depth is  0.8077441077441078\n",
      "\n",
      "Training score with OrdinalEncoding and Random Forest  with 19 depth is  0.9542508417508417\n",
      "Val score with OrdinalEncoding and Random Forest  with 19 depth is  0.8136363636363636\n",
      "\n",
      "Training score with OHE and Random Forest with 20 depth is  0.9150462962962963\n",
      "Val score with OHE and Random Forest  with 20 depth is  0.809006734006734\n",
      "\n",
      "Training score with OrdinalEncoding and Random Forest  with 20 depth is  0.9668981481481481\n",
      "Val score with OrdinalEncoding and Random Forest  with 20 depth is  0.8146464646464646\n",
      "\n",
      "Training score with OHE and Random Forest with 21 depth is  0.9290614478114478\n",
      "Val score with OHE and Random Forest  with 21 depth is  0.8106060606060606\n",
      "\n",
      "Training score with OrdinalEncoding and Random Forest  with 21 depth is  0.9762205387205387\n",
      "Val score with OrdinalEncoding and Random Forest  with 21 depth is  0.8148148148148148\n",
      "\n",
      "Training score with OHE and Random Forest with 22 depth is  0.9426767676767677\n",
      "Val score with OHE and Random Forest  with 22 depth is  0.8114478114478114\n",
      "\n",
      "Training score with OrdinalEncoding and Random Forest  with 22 depth is  0.9836279461279461\n",
      "Val score with OrdinalEncoding and Random Forest  with 22 depth is  0.81506734006734\n",
      "\n",
      "Training score with OHE and Random Forest with 23 depth is  0.9534511784511784\n",
      "Val score with OHE and Random Forest  with 23 depth is  0.8134680134680135\n",
      "\n",
      "Training score with OrdinalEncoding and Random Forest  with 23 depth is  0.9894570707070707\n",
      "Val score with OrdinalEncoding and Random Forest  with 23 depth is  0.8147306397306397\n",
      "\n",
      "Training score with OHE and Random Forest with 24 depth is  0.9629840067340067\n",
      "Val score with OHE and Random Forest  with 24 depth is  0.8136363636363636\n",
      "\n",
      "Training score with OrdinalEncoding and Random Forest  with 24 depth is  0.9934974747474747\n",
      "Val score with OrdinalEncoding and Random Forest  with 24 depth is  0.8148989898989899\n",
      "\n",
      "Training score with OHE and Random Forest with 25 depth is  0.9722853535353535\n",
      "Val score with OHE and Random Forest  with 25 depth is  0.8153198653198653\n",
      "\n",
      "Training score with OrdinalEncoding and Random Forest  with 25 depth is  0.9960016835016835\n",
      "Val score with OrdinalEncoding and Random Forest  with 25 depth is  0.8148148148148148\n",
      "\n",
      "Training score with OHE and Random Forest with 26 depth is  0.9792929292929293\n",
      "Val score with OHE and Random Forest  with 26 depth is  0.8135521885521886\n",
      "\n",
      "Training score with OrdinalEncoding and Random Forest  with 26 depth is  0.9978535353535354\n",
      "Val score with OrdinalEncoding and Random Forest  with 26 depth is  0.8157407407407408\n",
      "\n",
      "Training score with OHE and Random Forest with 27 depth is  0.9846590909090909\n",
      "Val score with OHE and Random Forest  with 27 depth is  0.8144781144781145\n",
      "\n",
      "Training score with OrdinalEncoding and Random Forest  with 27 depth is  0.9988846801346801\n",
      "Val score with OrdinalEncoding and Random Forest  with 27 depth is  0.8154040404040404\n",
      "\n",
      "Training score with OHE and Random Forest with 28 depth is  0.9892045454545455\n",
      "Val score with OHE and Random Forest  with 28 depth is  0.8138888888888889\n",
      "\n",
      "Training score with OrdinalEncoding and Random Forest  with 28 depth is  0.9995580808080808\n",
      "Val score with OrdinalEncoding and Random Forest  with 28 depth is  0.8164141414141414\n",
      "\n",
      "Training score with OHE and Random Forest with 29 depth is  0.9920454545454546\n",
      "Val score with OHE and Random Forest  with 29 depth is  0.8127946127946128\n",
      "\n",
      "Training score with OrdinalEncoding and Random Forest  with 29 depth is  0.9998316498316498\n",
      "Val score with OrdinalEncoding and Random Forest  with 29 depth is  0.812962962962963\n",
      "\n"
     ]
    }
   ],
   "source": [
    "for i in range(1,30):\n",
    "    ######OHE #######\n",
    "    pipeline_OHE = make_pipeline(\n",
    "        ce.OneHotEncoder(use_cat_names=True), \n",
    "        SimpleImputer(strategy='median'),\n",
    "        RandomForestClassifier(random_state=42, n_jobs=-1, n_estimators=1000, max_depth=i)\n",
    "    )\n",
    "\n",
    "    # fit on train\n",
    "    pipeline_OHE.fit(X_train,y_train)\n",
    "\n",
    "    #scores\n",
    "    print(f'Training score with OHE and Random Forest with {i} depth is  {pipeline_OHE.score(X_train,y_train)}')\n",
    "    print(f'Val score with OHE and Random Forest  with {i} depth is  {pipeline_OHE.score(X_val,y_val)}')\n",
    "    print()\n",
    "\n",
    "    ####### OE #######\n",
    "    pipeline_OE = make_pipeline(\n",
    "        ce.OrdinalEncoder(),\n",
    "        SimpleImputer(strategy='median'),\n",
    "        RandomForestClassifier(random_state=42, n_jobs=-1, n_estimators=1000, max_depth=i)\n",
    "    )\n",
    "\n",
    "    # fit on train\n",
    "    pipeline_OE.fit(X_train_OE,y_train)\n",
    "\n",
    "    #scores\n",
    "    print(f'Training score with OrdinalEncoding and Random Forest  with {i} depth is  {pipeline_OE.score(X_train_OE,y_train)}')\n",
    "    print(f'Val score with OrdinalEncoding and Random Forest  with {i} depth is  {pipeline_OE.score(X_val_OE,y_val)}')\n",
    "    print()\n"
   ]
  },
  {
   "source": [
    "Best score with \n",
    "\n",
    "Training score with OrdinalEncoding and Random Forest  with 26 depth is  0.9978535353535354\n",
    "Val score with OrdinalEncoding and Random Forest  with 26 depth is  0.8157407407407408"
   ],
   "cell_type": "markdown",
   "metadata": {}
  },
  {
   "cell_type": "code",
   "execution_count": null,
   "metadata": {},
   "outputs": [],
   "source": []
  },
  {
   "cell_type": "code",
   "execution_count": 119,
   "metadata": {},
   "outputs": [
    {
     "output_type": "stream",
     "name": "stdout",
     "text": [
      "Training score with OrdinalEncoding and Random Forest  with 26 depth is  0.9978535353535354\n",
      "Val score with OrdinalEncoding and Random Forest  with 26 depth is  0.8157407407407408\n"
     ]
    }
   ],
   "source": [
    "# Best Case\n",
    "\n",
    "pipeline_OE = make_pipeline(\n",
    "        ce.OrdinalEncoder(),\n",
    "        SimpleImputer(strategy='median'),\n",
    "        RandomForestClassifier(random_state=42, n_jobs=-1, n_estimators=1000, max_depth=26)\n",
    "    )\n",
    "\n",
    "    # fit on train\n",
    "pipeline_OE.fit(X_train_OE,y_train)\n",
    "\n",
    "#scores\n",
    "print(f'Training score with OrdinalEncoding and Random Forest  with 26 depth is  {pipeline_OE.score(X_train_OE,y_train)}')\n",
    "print(f'Val score with OrdinalEncoding and Random Forest  with 26 depth is  {pipeline_OE.score(X_val_OE,y_val)}')"
   ]
  },
  {
   "source": [
    "## Submission"
   ],
   "cell_type": "markdown",
   "metadata": {}
  },
  {
   "cell_type": "code",
   "execution_count": 120,
   "metadata": {},
   "outputs": [
    {
     "output_type": "execute_result",
     "data": {
      "text/plain": [
       "((14358, 38), (14358, 45))"
      ]
     },
     "metadata": {},
     "execution_count": 120
    }
   ],
   "source": [
    "X_test.shape, X_test_OE.shape"
   ]
  },
  {
   "cell_type": "code",
   "execution_count": 124,
   "metadata": {},
   "outputs": [
    {
     "output_type": "execute_result",
     "data": {
      "text/plain": [
       "         status_group\n",
       "id                   \n",
       "50785  non functional\n",
       "51630      functional\n",
       "17168      functional\n",
       "45559  non functional\n",
       "49871      functional"
      ],
      "text/html": "<div>\n<style scoped>\n    .dataframe tbody tr th:only-of-type {\n        vertical-align: middle;\n    }\n\n    .dataframe tbody tr th {\n        vertical-align: top;\n    }\n\n    .dataframe thead th {\n        text-align: right;\n    }\n</style>\n<table border=\"1\" class=\"dataframe\">\n  <thead>\n    <tr style=\"text-align: right;\">\n      <th></th>\n      <th>status_group</th>\n    </tr>\n    <tr>\n      <th>id</th>\n      <th></th>\n    </tr>\n  </thead>\n  <tbody>\n    <tr>\n      <th>50785</th>\n      <td>non functional</td>\n    </tr>\n    <tr>\n      <th>51630</th>\n      <td>functional</td>\n    </tr>\n    <tr>\n      <th>17168</th>\n      <td>functional</td>\n    </tr>\n    <tr>\n      <th>45559</th>\n      <td>non functional</td>\n    </tr>\n    <tr>\n      <th>49871</th>\n      <td>functional</td>\n    </tr>\n  </tbody>\n</table>\n</div>"
     },
     "metadata": {},
     "execution_count": 124
    }
   ],
   "source": [
    "# DataFrame generation\n",
    "pipeline_OE.fit(X_train_OE,y_train)\n",
    "# submission = pd.DataFrame(pipeline_OE.predict(X_test_OE), index=X_test.index, columns=['status_group'])\n",
    "# submission.head()\n",
    "test_original = pd.read_csv(DATA_PATH+'waterpumps/test_features.csv',  index_col='id')\n",
    "# YOUR CODE HER\n",
    "\n",
    "submission = pd.DataFrame(pipeline_OE.predict(X_test_OE), index=test_original.index, columns=['status_group'])\n",
    "submission.head()"
   ]
  },
  {
   "cell_type": "code",
   "execution_count": 125,
   "metadata": {},
   "outputs": [],
   "source": [
    "submission.to_csv('PS_DS_222_v1.csv')"
   ]
  }
 ]
}