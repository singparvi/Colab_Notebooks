{
 "nbformat": 4,
 "nbformat_minor": 0,
 "metadata": {
  "orig_nbformat": 2,
  "kernelspec": {
   "name": "python3",
   "language": "python",
   "display_name": "Python 3"
  },
  "colab": {
   "name": "Practice.ipynb",
   "provenance": [],
   "collapsed_sections": []
  }
 },
 "cells": [
  {
   "cell_type": "markdown",
   "metadata": {
    "id": "jkGfcczRxWc0"
   },
   "source": [
    "# Objective 01 - implement cross-validation with independent test set"
   ]
  },
  {
   "cell_type": "code",
   "execution_count": 38,
   "metadata": {},
   "outputs": [],
   "source": [
    "# import the libraries\n",
    "import numpy as np\n",
    "from sklearn import datasets\n",
    "from sklearn.model_selection import KFold, cross_val_score\n",
    "from sklearn.pipeline import make_pipeline\n",
    "from sklearn.linear_model import LogisticRegression\n",
    "from sklearn.preprocessing import StandardScaler"
   ]
  },
  {
   "cell_type": "code",
   "execution_count": 39,
   "metadata": {},
   "outputs": [
    {
     "name": "stdout",
     "output_type": "stream",
     "text": [
      "The shape of the feature matrix:  (1797, 64)\n",
      "The shape of the target array:  (1797,)\n",
      "The unique class in the target:  [1797]\n"
     ]
    }
   ],
   "source": [
    "# load the digits data\n",
    "\n",
    "# the digits with 10 class (digits 0-9)\n",
    "digits = datasets.load_digits(n_class=10)\n",
    "\n",
    "# create the feature matrix\n",
    "features = digits.data\n",
    "print('The shape of the feature matrix: ', features.shape)\n",
    "\n",
    "# create the target array\n",
    "target = digits.target\n",
    "print('The shape of the target array: ', target.shape)\n",
    "print('The unique class in the target: ', np.unique(target.shape))"
   ]
  },
  {
   "cell_type": "code",
   "execution_count": 40,
   "outputs": [],
   "source": [
    "# instantiate the standardizer\n",
    "standardizer = StandardScaler()\n",
    "\n",
    "#instantiate the classifier\n",
    "logreg = LogisticRegression(max_iter = 150)\n",
    "\n",
    "# create the pipeline\n",
    "pipeline = make_pipeline(standardizer, logreg)\n",
    "\n",
    "#instantiate the k-fold cross-validation\n",
    "kfold_cv = KFold(n_splits=5, shuffle=True, random_state=11)"
   ],
   "metadata": {
    "collapsed": false,
    "pycharm": {
     "name": "#%%\n"
    }
   }
  },
  {
   "cell_type": "code",
   "execution_count": 41,
   "outputs": [],
   "source": [
    "# fit the model using k-fold cross-validation\n",
    "cv_scores = cross_val_score(pipeline, features, target, cv=kfold_cv, scoring='accuracy')"
   ],
   "metadata": {
    "collapsed": false,
    "pycharm": {
     "name": "#%%\n"
    }
   }
  },
  {
   "cell_type": "code",
   "execution_count": 42,
   "outputs": [
    {
     "name": "stdout",
     "output_type": "stream",
     "text": [
      "All cv scores:  [0.97222222 0.96944444 0.95543175 0.97493036 0.98050139]\n",
      "Mean of all cv scores:  0.9705060352831941\n"
     ]
    }
   ],
   "source": [
    "#print all the mean score\n",
    "print('All cv scores: ', cv_scores)\n",
    "\n",
    "# print the mean score\n",
    "print('Mean of all cv scores: ', cv_scores.mean())"
   ],
   "metadata": {
    "collapsed": false,
    "pycharm": {
     "name": "#%%\n"
    }
   }
  },
  {
   "cell_type": "markdown",
   "source": [
    "# Objective 02 - use scikit-learn for hyperparameter optimization"
   ],
   "metadata": {
    "collapsed": false
   }
  },
  {
   "cell_type": "code",
   "execution_count": 43,
   "outputs": [],
   "source": [
    "from sklearn.tree import DecisionTreeClassifier\n",
    "from sklearn.model_selection import validation_curve"
   ],
   "metadata": {
    "collapsed": false,
    "pycharm": {
     "name": "#%%\n"
    }
   }
  },
  {
   "cell_type": "code",
   "execution_count": 44,
   "outputs": [
    {
     "name": "stdout",
     "output_type": "stream",
     "text": [
      "The shape of the feature matrix:  (1797, 64)\n",
      "The shape of the target array:  (1797,)\n",
      "The unique class in the target:  [0 1 2 3 4 5 6 7 8 9]\n"
     ]
    }
   ],
   "source": [
    "#load the data digits\n",
    "\n",
    "# the deafult with 10 classes (digits(0-9)\n",
    "digits  = datasets.load_digits(n_class=10)\n",
    "\n",
    "#create the feature matrix\n",
    "X = digits.data\n",
    "print('The shape of the feature matrix: ', X.shape)\n",
    "\n",
    "#create the target array\n",
    "y = digits.target\n",
    "print('The shape of the target array: ', y.shape)\n",
    "print('The unique class in the target: ', np.unique(y))"
   ],
   "metadata": {
    "collapsed": false,
    "pycharm": {
     "name": "#%%\n"
    }
   }
  },
  {
   "cell_type": "code",
   "execution_count": 45,
   "outputs": [],
   "source": [
    "#create the validation_curve\n",
    "depth = range(1,30,3)\n",
    "train_scores, test_scores = validation_curve(DecisionTreeClassifier(), X, y, param_name = 'max_depth', param_range=depth, scoring='accuracy', n_jobs=-1)\n",
    "\n",
    "train_scores_mean = np.mean(train_scores, axis=1)\n",
    "test_scores_mean = np.mean(test_scores, axis=1)"
   ],
   "metadata": {
    "collapsed": false,
    "pycharm": {
     "name": "#%%\n"
    }
   }
  },
  {
   "cell_type": "code",
   "execution_count": 46,
   "outputs": [
    {
     "data": {
      "text/plain": "<matplotlib.legend.Legend at 0x7f9391dece20>"
     },
     "execution_count": 46,
     "metadata": {},
     "output_type": "execute_result"
    },
    {
     "data": {
      "text/plain": "<Figure size 576x576 with 1 Axes>",
      "image/png": "[encoded data removed]"
     },
     "metadata": {
      "needs_background": "light"
     },
     "output_type": "display_data"
    }
   ],
   "source": [
    "# Plot the validation curve\n",
    "import matplotlib.pyplot as plt\n",
    "\n",
    "fig, ax = plt.subplots(figsize=(8,8))\n",
    "\n",
    "ax.plot(depth, train_scores_mean, label=\"Training score\",\n",
    "             color=\"darkorange\", lw=2)\n",
    "ax.plot(depth, test_scores_mean, label=\"Cross-validation score\",\n",
    "             color=\"navy\", lw=2)\n",
    "\n",
    "ax.set_title(\"Validation Curve with Decision Tree Classifier\")\n",
    "ax.set_xlabel(\"Max Tree Depth\")\n",
    "ax.set_ylabel(\"Score (accuracy)\")\n",
    "ax.set_ylim(0.0, 1.1)\n",
    "\n",
    "ax.legend(loc='lower right')\n"
   ],
   "metadata": {
    "collapsed": false,
    "pycharm": {
     "name": "#%%\n"
    }
   }
  },
  {
   "cell_type": "markdown",
   "source": [
    "## Parameters search"
   ],
   "metadata": {
    "collapsed": false,
    "pycharm": {
     "name": "#%% md\n"
    }
   }
  },
  {
   "cell_type": "code",
   "execution_count": 47,
   "outputs": [
    {
     "name": "stdout",
     "output_type": "stream",
     "text": [
      "Tuned Decision Tree Parameters: {'criterion': 'gini', 'max_depth': None, 'max_features': 5, 'min_samples_leaf': 1}\n",
      "Best score is 0.7318167749922624\n"
     ]
    }
   ],
   "source": [
    "# import the necessary modules\n",
    "from scipy.stats import randint\n",
    "from sklearn.tree import DecisionTreeClassifier\n",
    "from sklearn.model_selection import RandomizedSearchCV\n",
    "\n",
    "# setup the parameters and distribution to sample from: param_dist\n",
    "param_dist = {\"max_depth\": [3, None], \"max_features\": randint(1,9),\"min_samples_leaf\":randint(1,9),              \"criterion\":['gini', 'entropy']}\n",
    "\n",
    "#instantiate the Decision Tree classifier: Tree\n",
    "tree = DecisionTreeClassifier()\n",
    "\n",
    "#instantiate the RandomizedSearchCV object: tree_cv\n",
    "tree_cv = RandomizedSearchCV(tree, param_dist, cv=5)\n",
    "\n",
    "#fit the data\n",
    "tree_cv.fit(X,y)\n",
    "\n",
    "#pritn the tuned parameters and score\n",
    "print(f'Tuned Decision Tree Parameters: {tree_cv.best_params_}')\n",
    "print(f'Best score is {tree_cv.best_score_}')"
   ],
   "metadata": {
    "collapsed": false,
    "pycharm": {
     "name": "#%%\n"
    }
   }
  },
  {
   "cell_type": "code",
   "execution_count": 53,
   "outputs": [
    {
     "data": {
      "text/plain": "                                                                        2  \\\nmean_fit_time                                                  0.00159545   \nstd_fit_time                                                  0.000112227   \nmean_score_time                                               0.000242662   \nstd_score_time                                                8.64825e-06   \nparam_criterion                                                      gini   \nparam_max_depth                                                      None   \nparam_max_features                                                      5   \nparam_min_samples_leaf                                                  1   \nparams                  {'criterion': 'gini', 'max_depth': None, 'max_...   \nsplit0_test_score                                                0.738889   \nsplit1_test_score                                                    0.65   \nsplit2_test_score                                                0.724234   \nsplit3_test_score                                                0.799443   \nsplit4_test_score                                                0.746518   \nmean_test_score                                                  0.731817   \nstd_test_score                                                  0.0481475   \nrank_test_score                                                         1   \n\n                                                                        8  \\\nmean_fit_time                                                  0.00228205   \nstd_fit_time                                                  0.000307193   \nmean_score_time                                                0.00036006   \nstd_score_time                                                0.000144161   \nparam_criterion                                                   entropy   \nparam_max_depth                                                      None   \nparam_max_features                                                      7   \nparam_min_samples_leaf                                                  6   \nparams                  {'criterion': 'entropy', 'max_depth': None, 'm...   \nsplit0_test_score                                                0.752778   \nsplit1_test_score                                                0.658333   \nsplit2_test_score                                                0.718663   \nsplit3_test_score                                                 0.78273   \nsplit4_test_score                                                0.693593   \nmean_test_score                                                  0.721219   \nstd_test_score                                                  0.0435978   \nrank_test_score                                                         2   \n\n                                                                        7  \\\nmean_fit_time                                                  0.00191135   \nstd_fit_time                                                  0.000385128   \nmean_score_time                                               0.000297451   \nstd_score_time                                                4.86237e-05   \nparam_criterion                                                      gini   \nparam_max_depth                                                      None   \nparam_max_features                                                      6   \nparam_min_samples_leaf                                                  4   \nparams                  {'criterion': 'gini', 'max_depth': None, 'max_...   \nsplit0_test_score                                                0.697222   \nsplit1_test_score                                                0.605556   \nsplit2_test_score                                                0.749304   \nsplit3_test_score                                                0.738162   \nsplit4_test_score                                                0.732591   \nmean_test_score                                                  0.704567   \nstd_test_score                                                  0.0524833   \nrank_test_score                                                         3   \n\n                                                                        6  \\\nmean_fit_time                                                  0.00137944   \nstd_fit_time                                                  1.48918e-05   \nmean_score_time                                               0.000237846   \nstd_score_time                                                6.10947e-06   \nparam_criterion                                                      gini   \nparam_max_depth                                                      None   \nparam_max_features                                                      4   \nparam_min_samples_leaf                                                  2   \nparams                  {'criterion': 'gini', 'max_depth': None, 'max_...   \nsplit0_test_score                                                0.669444   \nsplit1_test_score                                                0.591667   \nsplit2_test_score                                                0.718663   \nsplit3_test_score                                                0.696379   \nsplit4_test_score                                                0.640669   \nmean_test_score                                                  0.663364   \nstd_test_score                                                  0.0443633   \nrank_test_score                                                         4   \n\n                                                                        1  \\\nmean_fit_time                                                  0.00145788   \nstd_fit_time                                                  7.09712e-05   \nmean_score_time                                               0.000263882   \nstd_score_time                                                1.93841e-05   \nparam_criterion                                                   entropy   \nparam_max_depth                                                      None   \nparam_max_features                                                      3   \nparam_min_samples_leaf                                                  5   \nparams                  {'criterion': 'entropy', 'max_depth': None, 'm...   \nsplit0_test_score                                                0.686111   \nsplit1_test_score                                                0.661111   \nsplit2_test_score                                                0.704735   \nsplit3_test_score                                                0.615599   \nsplit4_test_score                                                0.607242   \nmean_test_score                                                   0.65496   \nstd_test_score                                                  0.0382416   \nrank_test_score                                                         5   \n\n                                                                        5  \\\nmean_fit_time                                                   0.0012702   \nstd_fit_time                                                   8.0476e-05   \nmean_score_time                                               0.000243664   \nstd_score_time                                                9.88791e-07   \nparam_criterion                                                   entropy   \nparam_max_depth                                                      None   \nparam_max_features                                                      1   \nparam_min_samples_leaf                                                  1   \nparams                  {'criterion': 'entropy', 'max_depth': None, 'm...   \nsplit0_test_score                                                0.669444   \nsplit1_test_score                                                0.552778   \nsplit2_test_score                                                0.682451   \nsplit3_test_score                                                 0.64624   \nsplit4_test_score                                                0.635097   \nmean_test_score                                                  0.637202   \nstd_test_score                                                  0.0453886   \nrank_test_score                                                         6   \n\n                                                                        4  \\\nmean_fit_time                                                 0.000989342   \nstd_fit_time                                                  7.31902e-05   \nmean_score_time                                               0.000235271   \nstd_score_time                                                3.95918e-06   \nparam_criterion                                                      gini   \nparam_max_depth                                                      None   \nparam_max_features                                                      2   \nparam_min_samples_leaf                                                  3   \nparams                  {'criterion': 'gini', 'max_depth': None, 'max_...   \nsplit0_test_score                                                0.566667   \nsplit1_test_score                                                0.591667   \nsplit2_test_score                                                0.662953   \nsplit3_test_score                                                0.557103   \nsplit4_test_score                                                0.649025   \nmean_test_score                                                  0.605483   \nstd_test_score                                                  0.0429811   \nrank_test_score                                                         7   \n\n                                                                        3  \\\nmean_fit_time                                                 0.000944328   \nstd_fit_time                                                  7.85674e-05   \nmean_score_time                                               0.000234175   \nstd_score_time                                                2.65235e-06   \nparam_criterion                                                      gini   \nparam_max_depth                                                      None   \nparam_max_features                                                      2   \nparam_min_samples_leaf                                                  4   \nparams                  {'criterion': 'gini', 'max_depth': None, 'max_...   \nsplit0_test_score                                                    0.55   \nsplit1_test_score                                                0.483333   \nsplit2_test_score                                                0.598886   \nsplit3_test_score                                                0.649025   \nsplit4_test_score                                                0.601671   \nmean_test_score                                                  0.576583   \nstd_test_score                                                  0.0561727   \nrank_test_score                                                         8   \n\n                                                                        0  \\\nmean_fit_time                                                  0.00126619   \nstd_fit_time                                                  0.000198305   \nmean_score_time                                               0.000253725   \nstd_score_time                                                1.35571e-05   \nparam_criterion                                                   entropy   \nparam_max_depth                                                      None   \nparam_max_features                                                      2   \nparam_min_samples_leaf                                                  4   \nparams                  {'criterion': 'entropy', 'max_depth': None, 'm...   \nsplit0_test_score                                                0.530556   \nsplit1_test_score                                                0.505556   \nsplit2_test_score                                                0.629526   \nsplit3_test_score                                                0.562674   \nsplit4_test_score                                                0.610028   \nmean_test_score                                                  0.567668   \nstd_test_score                                                  0.0466499   \nrank_test_score                                                         9   \n\n                                                                        9  \nmean_fit_time                                                 0.000964689  \nstd_fit_time                                                  4.63444e-05  \nmean_score_time                                               0.000222063  \nstd_score_time                                                2.04874e-06  \nparam_criterion                                                   entropy  \nparam_max_depth                                                         3  \nparam_max_features                                                      7  \nparam_min_samples_leaf                                                  3  \nparams                  {'criterion': 'entropy', 'max_depth': 3, 'max_...  \nsplit0_test_score                                                0.438889  \nsplit1_test_score                                                0.463889  \nsplit2_test_score                                                0.420613  \nsplit3_test_score                                                0.465181  \nsplit4_test_score                                                0.423398  \nmean_test_score                                                  0.442394  \nstd_test_score                                                   0.019125  \nrank_test_score                                                        10  ",
      "text/html": "<div>\n<style scoped>\n    .dataframe tbody tr th:only-of-type {\n        vertical-align: middle;\n    }\n\n    .dataframe tbody tr th {\n        vertical-align: top;\n    }\n\n    .dataframe thead th {\n        text-align: right;\n    }\n</style>\n<table border=\"1\" class=\"dataframe\">\n  <thead>\n    <tr style=\"text-align: right;\">\n      <th></th>\n      <th>2</th>\n      <th>8</th>\n      <th>7</th>\n      <th>6</th>\n      <th>1</th>\n      <th>5</th>\n      <th>4</th>\n      <th>3</th>\n      <th>0</th>\n      <th>9</th>\n    </tr>\n  </thead>\n  <tbody>\n    <tr>\n      <th>mean_fit_time</th>\n      <td>0.00159545</td>\n      <td>0.00228205</td>\n      <td>0.00191135</td>\n      <td>0.00137944</td>\n      <td>0.00145788</td>\n      <td>0.0012702</td>\n      <td>0.000989342</td>\n      <td>0.000944328</td>\n      <td>0.00126619</td>\n      <td>0.000964689</td>\n    </tr>\n    <tr>\n      <th>std_fit_time</th>\n      <td>0.000112227</td>\n      <td>0.000307193</td>\n      <td>0.000385128</td>\n      <td>1.48918e-05</td>\n      <td>7.09712e-05</td>\n      <td>8.0476e-05</td>\n      <td>7.31902e-05</td>\n      <td>7.85674e-05</td>\n      <td>0.000198305</td>\n      <td>4.63444e-05</td>\n    </tr>\n    <tr>\n      <th>mean_score_time</th>\n      <td>0.000242662</td>\n      <td>0.00036006</td>\n      <td>0.000297451</td>\n      <td>0.000237846</td>\n      <td>0.000263882</td>\n      <td>0.000243664</td>\n      <td>0.000235271</td>\n      <td>0.000234175</td>\n      <td>0.000253725</td>\n      <td>0.000222063</td>\n    </tr>\n    <tr>\n      <th>std_score_time</th>\n      <td>8.64825e-06</td>\n      <td>0.000144161</td>\n      <td>4.86237e-05</td>\n      <td>6.10947e-06</td>\n      <td>1.93841e-05</td>\n      <td>9.88791e-07</td>\n      <td>3.95918e-06</td>\n      <td>2.65235e-06</td>\n      <td>1.35571e-05</td>\n      <td>2.04874e-06</td>\n    </tr>\n    <tr>\n      <th>param_criterion</th>\n      <td>gini</td>\n      <td>entropy</td>\n      <td>gini</td>\n      <td>gini</td>\n      <td>entropy</td>\n      <td>entropy</td>\n      <td>gini</td>\n      <td>gini</td>\n      <td>entropy</td>\n      <td>entropy</td>\n    </tr>\n    <tr>\n      <th>param_max_depth</th>\n      <td>None</td>\n      <td>None</td>\n      <td>None</td>\n      <td>None</td>\n      <td>None</td>\n      <td>None</td>\n      <td>None</td>\n      <td>None</td>\n      <td>None</td>\n      <td>3</td>\n    </tr>\n    <tr>\n      <th>param_max_features</th>\n      <td>5</td>\n      <td>7</td>\n      <td>6</td>\n      <td>4</td>\n      <td>3</td>\n      <td>1</td>\n      <td>2</td>\n      <td>2</td>\n      <td>2</td>\n      <td>7</td>\n    </tr>\n    <tr>\n      <th>param_min_samples_leaf</th>\n      <td>1</td>\n      <td>6</td>\n      <td>4</td>\n      <td>2</td>\n      <td>5</td>\n      <td>1</td>\n      <td>3</td>\n      <td>4</td>\n      <td>4</td>\n      <td>3</td>\n    </tr>\n    <tr>\n      <th>params</th>\n      <td>{'criterion': 'gini', 'max_depth': None, 'max_...</td>\n      <td>{'criterion': 'entropy', 'max_depth': None, 'm...</td>\n      <td>{'criterion': 'gini', 'max_depth': None, 'max_...</td>\n      <td>{'criterion': 'gini', 'max_depth': None, 'max_...</td>\n      <td>{'criterion': 'entropy', 'max_depth': None, 'm...</td>\n      <td>{'criterion': 'entropy', 'max_depth': None, 'm...</td>\n      <td>{'criterion': 'gini', 'max_depth': None, 'max_...</td>\n      <td>{'criterion': 'gini', 'max_depth': None, 'max_...</td>\n      <td>{'criterion': 'entropy', 'max_depth': None, 'm...</td>\n      <td>{'criterion': 'entropy', 'max_depth': 3, 'max_...</td>\n    </tr>\n    <tr>\n      <th>split0_test_score</th>\n      <td>0.738889</td>\n      <td>0.752778</td>\n      <td>0.697222</td>\n      <td>0.669444</td>\n      <td>0.686111</td>\n      <td>0.669444</td>\n      <td>0.566667</td>\n      <td>0.55</td>\n      <td>0.530556</td>\n      <td>0.438889</td>\n    </tr>\n    <tr>\n      <th>split1_test_score</th>\n      <td>0.65</td>\n      <td>0.658333</td>\n      <td>0.605556</td>\n      <td>0.591667</td>\n      <td>0.661111</td>\n      <td>0.552778</td>\n      <td>0.591667</td>\n      <td>0.483333</td>\n      <td>0.505556</td>\n      <td>0.463889</td>\n    </tr>\n    <tr>\n      <th>split2_test_score</th>\n      <td>0.724234</td>\n      <td>0.718663</td>\n      <td>0.749304</td>\n      <td>0.718663</td>\n      <td>0.704735</td>\n      <td>0.682451</td>\n      <td>0.662953</td>\n      <td>0.598886</td>\n      <td>0.629526</td>\n      <td>0.420613</td>\n    </tr>\n    <tr>\n      <th>split3_test_score</th>\n      <td>0.799443</td>\n      <td>0.78273</td>\n      <td>0.738162</td>\n      <td>0.696379</td>\n      <td>0.615599</td>\n      <td>0.64624</td>\n      <td>0.557103</td>\n      <td>0.649025</td>\n      <td>0.562674</td>\n      <td>0.465181</td>\n    </tr>\n    <tr>\n      <th>split4_test_score</th>\n      <td>0.746518</td>\n      <td>0.693593</td>\n      <td>0.732591</td>\n      <td>0.640669</td>\n      <td>0.607242</td>\n      <td>0.635097</td>\n      <td>0.649025</td>\n      <td>0.601671</td>\n      <td>0.610028</td>\n      <td>0.423398</td>\n    </tr>\n    <tr>\n      <th>mean_test_score</th>\n      <td>0.731817</td>\n      <td>0.721219</td>\n      <td>0.704567</td>\n      <td>0.663364</td>\n      <td>0.65496</td>\n      <td>0.637202</td>\n      <td>0.605483</td>\n      <td>0.576583</td>\n      <td>0.567668</td>\n      <td>0.442394</td>\n    </tr>\n    <tr>\n      <th>std_test_score</th>\n      <td>0.0481475</td>\n      <td>0.0435978</td>\n      <td>0.0524833</td>\n      <td>0.0443633</td>\n      <td>0.0382416</td>\n      <td>0.0453886</td>\n      <td>0.0429811</td>\n      <td>0.0561727</td>\n      <td>0.0466499</td>\n      <td>0.019125</td>\n    </tr>\n    <tr>\n      <th>rank_test_score</th>\n      <td>1</td>\n      <td>2</td>\n      <td>3</td>\n      <td>4</td>\n      <td>5</td>\n      <td>6</td>\n      <td>7</td>\n      <td>8</td>\n      <td>9</td>\n      <td>10</td>\n    </tr>\n  </tbody>\n</table>\n</div>"
     },
     "execution_count": 53,
     "metadata": {},
     "output_type": "execute_result"
    }
   ],
   "source": [
    "#display the cv results by ranking the test scores\n",
    "import pandas as pd\n",
    "pd.DataFrame(tree_cv.cv_results_).sort_values(by='rank_test_score').T"
   ],
   "metadata": {
    "collapsed": false,
    "pycharm": {
     "name": "#%%\n"
    }
   }
  },
  {
   "cell_type": "code",
   "execution_count": null,
   "outputs": [],
   "source": [],
   "metadata": {
    "collapsed": false,
    "pycharm": {
     "name": "#%%\n"
    }
   }
  },
  {
   "cell_type": "code",
   "execution_count": 47,
   "outputs": [],
   "source": [],
   "metadata": {
    "collapsed": false,
    "pycharm": {
     "name": "#%%\n"
    }
   }
  },
  {
   "cell_type": "code",
   "execution_count": 47,
   "outputs": [],
   "source": [],
   "metadata": {
    "collapsed": false,
    "pycharm": {
     "name": "#%%\n"
    }
   }
  }
 ]
}